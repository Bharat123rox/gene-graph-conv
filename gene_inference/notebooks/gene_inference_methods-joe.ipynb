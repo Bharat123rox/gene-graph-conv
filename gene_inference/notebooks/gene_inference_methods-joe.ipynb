{
 "cells": [
  {
   "cell_type": "code",
   "execution_count": 1,
   "metadata": {},
   "outputs": [],
   "source": [
    "# want to store this notebook in the notebooks folder, but want to keep non-relative imports\n",
    "import os\n",
    "os.chdir(\"..\")"
   ]
  },
  {
   "cell_type": "code",
   "execution_count": 2,
   "metadata": {},
   "outputs": [
    {
     "name": "stderr",
     "output_type": "stream",
     "text": [
      "/u/weissmar/venv/lib/python2.7/site-packages/h5py/__init__.py:36: FutureWarning: Conversion of the second argument of issubdtype from `float` to `np.floating` is deprecated. In future, it will be treated as `np.float64 == np.dtype(float).type`.\n",
      "  from ._conv import register_converters as _register_converters\n"
     ]
    }
   ],
   "source": [
    "import sys\n",
    "import time\n",
    "import copy\n",
    "\n",
    "from itertools import repeat\n",
    "import data, data.gene_datasets\n",
    "import sklearn, sklearn.model_selection, sklearn.metrics, sklearn.linear_model, sklearn.neural_network, sklearn.tree\n",
    "import numpy as np\n",
    "import matplotlib, matplotlib.pyplot as plt\n",
    "import networkx as nx\n",
    "import pandas as pd\n",
    "import gene_inference\n",
    "#from gene_inference.infer_genes import infer_all_genes, sample_neighbors\n",
    "import models, models.graphLayer\n",
    "from models.models import CGN\n",
    "import data, data.gene_datasets\n",
    "from data.graph import Graph\n",
    "from data.utils import split_dataset\n",
    "import optimization\n",
    "import torch\n",
    "from torch.autograd import Variable\n",
    "from analysis.metrics import record_metrics_for_epoch\n",
    "import analysis\n",
    "reload(analysis.metrics)\n",
    "reload(gene_inference);"
   ]
  },
  {
   "cell_type": "code",
   "execution_count": null,
   "metadata": {},
   "outputs": [],
   "source": []
  },
  {
   "cell_type": "code",
   "execution_count": 3,
   "metadata": {
    "scrolled": true
   },
   "outputs": [
    {
     "name": "stdout",
     "output_type": "stream",
     "text": [
      "Converting one-hot labels to integers\n"
     ]
    }
   ],
   "source": [
    "#tcgatissue = data.gene_datasets.TCGATissue(data_dir='./genomics/TCGA/', data_file='TCGA_tissue_ppi.hdf5')\n",
    "tcgatissue = data.gene_datasets.TCGATissue()"
   ]
  },
  {
   "cell_type": "code",
   "execution_count": 4,
   "metadata": {},
   "outputs": [
    {
     "data": {
      "text/plain": [
       "(10459, 16300)"
      ]
     },
     "execution_count": 4,
     "metadata": {},
     "output_type": "execute_result"
    }
   ],
   "source": [
    "tcgatissue.data.shape"
   ]
  },
  {
   "cell_type": "code",
   "execution_count": 5,
   "metadata": {},
   "outputs": [],
   "source": [
    "class Object(object):\n",
    "    pass\n",
    "\n",
    "opt = Object()\n",
    "opt.seed = 0\n",
    "opt.nb_class = None\n",
    "opt.nb_examples = None\n",
    "opt.nb_nodes = None\n",
    "opt.graph = \"pathway\"\n",
    "opt.dataset = tcgatissue\n",
    "opt.add_self = True\n",
    "opt.norm_adj = True\n",
    "opt.add_connectivity = False\n",
    "opt.num_layer = 1\n",
    "opt.cuda = True\n",
    "opt.pool_graph = \"ignore\"\n"
   ]
  },
  {
   "cell_type": "code",
   "execution_count": null,
   "metadata": {},
   "outputs": [],
   "source": []
  },
  {
   "cell_type": "code",
   "execution_count": null,
   "metadata": {
    "collapsed": true
   },
   "outputs": [],
   "source": []
  },
  {
   "cell_type": "code",
   "execution_count": null,
   "metadata": {},
   "outputs": [],
   "source": []
  },
  {
   "cell_type": "code",
   "execution_count": null,
   "metadata": {},
   "outputs": [],
   "source": []
  },
  {
   "cell_type": "code",
   "execution_count": 6,
   "metadata": {},
   "outputs": [],
   "source": [
    "graph = Graph()\n",
    "path = \"/data/lisa/data/genomics/graph/pancan-tissue-graph.hdf5\"\n",
    "graph.load_graph(path)\n",
    "#graph.intersection_with(tcgatissue)\n",
    "g = nx.from_numpy_matrix(graph.adj)\n",
    "mapping = dict(zip(range(0, len(tcgatissue.df.columns)), tcgatissue.df.columns))\n",
    "g = nx.relabel_nodes(g, mapping)"
   ]
  },
  {
   "cell_type": "code",
   "execution_count": null,
   "metadata": {
    "collapsed": true
   },
   "outputs": [],
   "source": []
  },
  {
   "cell_type": "code",
   "execution_count": 6,
   "metadata": {
    "collapsed": true
   },
   "outputs": [],
   "source": [
    "#load random\n",
    "#graph.load_random_adjacency(tcgatissue.nb_nodes, (graph.adj != 0).sum(), scale_free=False)\n",
    "# g = nx.from_numpy_matrix(graph.adj)\n",
    "# mapping = dict(zip(range(0, len(tcgatissue.df.columns)), tcgatissue.df.columns))\n",
    "# g = nx.relabel_nodes(g, mapping)"
   ]
  },
  {
   "cell_type": "code",
   "execution_count": null,
   "metadata": {
    "collapsed": true
   },
   "outputs": [],
   "source": []
  },
  {
   "cell_type": "code",
   "execution_count": null,
   "metadata": {
    "collapsed": true
   },
   "outputs": [],
   "source": []
  },
  {
   "cell_type": "code",
   "execution_count": 7,
   "metadata": {},
   "outputs": [],
   "source": [
    "def sample_neighbors(g, gene, num_neighbors, include_self=True):\n",
    "    results = set([])\n",
    "    if include_self:\n",
    "        results = set([gene])\n",
    "    all_nodes = set(g.nodes)\n",
    "    first_degree = set(g.neighbors(gene))\n",
    "    second_degree = set()\n",
    "    for x in g.neighbors(gene):\n",
    "        second_degree = second_degree.union(set(g.neighbors(x)))\n",
    "    while len(results) < num_neighbors:\n",
    "        if len(first_degree) - len(results) > 0:\n",
    "            unique = sorted(first_degree - results)\n",
    "            results.add(unique.pop())\n",
    "        elif len(second_degree) - len(results) > 0:\n",
    "            unique = sorted(second_degree - results)\n",
    "            results.add(unique.pop())\n",
    "        else:\n",
    "            unique = sorted(all_nodes - results)\n",
    "            results.add(unique.pop())\n",
    "    return results"
   ]
  },
  {
   "cell_type": "code",
   "execution_count": null,
   "metadata": {
    "collapsed": true
   },
   "outputs": [],
   "source": []
  },
  {
   "cell_type": "code",
   "execution_count": 8,
   "metadata": {},
   "outputs": [],
   "source": [
    "import sklearn, sklearn.model_selection, sklearn.metrics, sklearn.linear_model, sklearn.neural_network, sklearn.tree\n",
    "import numpy as np\n",
    "\n",
    "class Method:\n",
    "    def __init__(self):\n",
    "        pass\n",
    "\n",
    "class SkLearn(Method):\n",
    "    \n",
    "    def __init__(self, model, penalty=False):\n",
    "        self.model = model\n",
    "        self.penalty = penalty\n",
    "        \n",
    "    def loop(self, dataset, seed, train_size, test_size, adj=None):\n",
    "        \n",
    "        X_train, X_test, y_train, y_test = sklearn.model_selection.train_test_split(dataset.df, dataset.labels, stratify=dataset.labels, train_size=train_size, test_size=test_size, random_state=seed)\n",
    "\n",
    "        if self.model == \"LR\":\n",
    "            model = sklearn.linear_model.LogisticRegression()\n",
    "            if self.penalty:\n",
    "                model = sklearn.linear_model.LogisticRegression(penalty='l1', tol=0.0001)\n",
    "        elif self.model == \"DT\":\n",
    "            model = sklearn.tree.DecisionTreeClassifier()\n",
    "        elif self.model == \"MLP\":\n",
    "            model = sklearn.neural_network.MLPClassifier(hidden_layer_sizes=(32,3), learning_rate_init=0.001, early_stopping=False,  max_iter=1000)\n",
    "        else:\n",
    "            print \"incorrect label\"\n",
    "        \n",
    "        model = model.fit(X_train, y_train)\n",
    "        return sklearn.metrics.roc_auc_score(y_test, model.predict(X_test))\n",
    "\n",
    "\n",
    "class PyTorch(Method):    \n",
    "    \n",
    "    def __init__(self, model, num_epochs=100, num_channel=64, num_layer=3, add_emb=32, use_gate=False, dropout=True, cuda=True, attention_head=0, l1_loss_lambda=0, model_reg_lambda=0, training_mode=None, pool=False, prepool_extralayers=0):\n",
    "        self.model = model\n",
    "        self.batch_size = 10\n",
    "        self.num_channel = num_channel\n",
    "        self.num_layer = num_layer\n",
    "        self.add_emb = add_emb\n",
    "        self.use_gate = use_gate\n",
    "        self.dropout = dropout\n",
    "        self.cuda = cuda\n",
    "        self.num_epochs = num_epochs\n",
    "        self.patience = 10\n",
    "        self.attention_head = attention_head\n",
    "        self.l1_loss_lambda = l1_loss_lambda\n",
    "        self.model_reg_lambda = model_reg_lambda\n",
    "        self.training_mode = training_mode\n",
    "        self.pool = pool\n",
    "        self.prepool_extralayers = prepool_extralayers\n",
    "        \n",
    "    def loop(self, dataset, seed, train_size, test_size, adj=None):\n",
    "    \n",
    "        X_train, X_test, y_train, y_test = sklearn.model_selection.train_test_split(dataset.df, dataset.labels, stratify=dataset.labels, train_size=train_size*2, test_size=test_size, random_state=seed)\n",
    "    \n",
    "        #split train into valid and train\n",
    "        local_X_train, local_X_valid, local_y_train, local_y_valid = sklearn.model_selection.train_test_split(X_train, y_train, stratify=y_train, train_size=0.50, random_state=seed)\n",
    "        local_X_train = torch.FloatTensor(np.expand_dims(local_X_train, axis=2))\n",
    "        local_X_valid = torch.FloatTensor(np.expand_dims(local_X_valid, axis=2))\n",
    "        X_test = torch.FloatTensor(np.expand_dims(X_test, axis=2))\n",
    "        \n",
    "        local_y_train = torch.FloatTensor(local_y_train)\n",
    "\n",
    "        criterion = optimization.get_criterion(dataset)\n",
    "        patience = self.patience\n",
    "        opt.num_layer = self.num_layer\n",
    "        \n",
    "        if self.model == \"CGN\":\n",
    "            opt2 = copy.copy(opt)\n",
    "            if self.pool:\n",
    "                opt2.pool_graph = \"hierarchy\"\n",
    "            else:\n",
    "                opt2.pool_graph = \"ignore\"\n",
    "            adj_transform, aggregate_function = models.graphLayer.get_transform(opt2, adj)\n",
    "            model = models.models.CGN(\n",
    "                    nb_nodes=len(dataset.df.columns), \n",
    "                    input_dim=1,\n",
    "                    channels=[self.num_channel] * self.num_layer,\n",
    "                    adj=adj,\n",
    "                    out_dim=2,\n",
    "                    on_cuda=self.cuda,\n",
    "                    add_emb=self.add_emb,\n",
    "                    transform_adj=adj_transform,\n",
    "                    aggregate_adj=aggregate_function,\n",
    "                    use_gate=self.use_gate,\n",
    "                    dropout=self.dropout,\n",
    "                    attention_head=self.attention_head, \n",
    "                    prepool_extralayers=self.prepool_extralayers\n",
    "                    )\n",
    "        elif self.model == \"MLP\":\n",
    "            model = models.models.MLP(\n",
    "                    len(dataset.df.columns), \n",
    "                    channels=[self.num_channel] * self.num_layer, \n",
    "                    out_dim=2, \n",
    "                    on_cuda=self.cuda, \n",
    "                    dropout=self.dropout)\n",
    "        elif self.model == \"SLR\":\n",
    "            model = models.models.SparseLogisticRegression(\n",
    "                    nb_nodes=len(dataset.df.columns), \n",
    "                    input_dim=1, \n",
    "                    adj=adj, \n",
    "                    out_dim=2, \n",
    "                    on_cuda=self.cuda)\n",
    "        elif self.model == \"LCG\":\n",
    "            opt2 = copy.copy(opt)\n",
    "            if self.pool:\n",
    "                opt2.pool_graph = \"hierarchy\"\n",
    "            else:\n",
    "                opt2.pool_graph = \"ignore\"\n",
    "            adj_transform, aggregate_function = models.graphLayer.get_transform(opt2, adj)\n",
    "            model = models.models.LCG(\n",
    "                    nb_nodes=len(dataset.df.columns), \n",
    "                    input_dim=1, \n",
    "                    channels=[self.num_channel] * self.num_layer,\n",
    "                    adj=adj, \n",
    "                    out_dim=2,\n",
    "                    on_cuda=self.cuda,\n",
    "                    add_emb=self.add_emb,\n",
    "                    transform_adj=adj_transform, \n",
    "                    aggregate_adj=aggregate_function, \n",
    "                    use_gate=self.use_gate,\n",
    "                    dropout=self.dropout,\n",
    "                    attention_head=nb_attention_head, \n",
    "                    training_mode=training_mode)\n",
    "            \n",
    "            \n",
    "            \n",
    "        if self.cuda:\n",
    "            torch.cuda.manual_seed(seed)\n",
    "            torch.cuda.manual_seed_all(seed)\n",
    "            model.cuda()\n",
    "\n",
    "        l1_criterion = torch.nn.L1Loss(size_average=False)\n",
    "        optimizer = torch.optim.Adam(model.parameters(), lr=0.001, weight_decay=0.0001)\n",
    "        max_valid = 0\n",
    "        max_valid_test = 0\n",
    "        for t in range(0, self.num_epochs):\n",
    "            start_timer = time.time()\n",
    "            \n",
    "            for base_x in range(0,local_X_train.shape[0], self.batch_size):\n",
    "                inputs, labels = local_X_train[base_x:base_x+self.batch_size], local_y_train[base_x:base_x+self.batch_size]\n",
    "\n",
    "                inputs = Variable(inputs, requires_grad=False).float()\n",
    "                if self.cuda:\n",
    "                    inputs = inputs.cuda()\n",
    "                    labels = labels.cuda()\n",
    "\n",
    "                model.train()\n",
    "                y_pred = model(inputs)\n",
    "\n",
    "                \n",
    "                # Compute and print loss\n",
    "                crit_loss = optimization.compute_loss(criterion, y_pred, labels, self.training_mode)\n",
    "                model_regularization_loss = model.regularization(self.model_reg_lambda)\n",
    "                l1_loss = models.models.setup_l1_loss(model, self.l1_loss_lambda, l1_criterion, opt.cuda)\n",
    "                total_loss = crit_loss + model_regularization_loss + l1_loss\n",
    "                \n",
    "\n",
    "                # Zero gradients, perform a backward pass, and update the weights.\n",
    "                optimizer.zero_grad()\n",
    "                crit_loss.backward()\n",
    "                optimizer.step()\n",
    "                model.eval()\n",
    "\n",
    "            auc = {}\n",
    "            res = []\n",
    "            for base_x in range(0,local_X_train.shape[0], self.batch_size):\n",
    "                inputs = Variable(local_X_train[base_x:base_x+self.batch_size], requires_grad=False).float()\n",
    "                res.append(model(inputs.cuda())[:,1].data.cpu().numpy())\n",
    "            auc['train'] = sklearn.metrics.roc_auc_score(local_y_train.numpy(), np.asarray(res).flatten())\n",
    "            \n",
    "            res = []\n",
    "            for base_x in range(0,local_X_valid.shape[0], self.batch_size):\n",
    "                inputs = Variable(local_X_valid[base_x:base_x+self.batch_size], requires_grad=False).float()\n",
    "                res.append(model(inputs.cuda())[:,1].data.cpu().numpy())\n",
    "            auc['valid'] = sklearn.metrics.roc_auc_score(local_y_valid, np.asarray(res).flatten())\n",
    "            \n",
    "            res = []\n",
    "            for base_x in range(0,X_test.shape[0], self.batch_size):\n",
    "                inputs = Variable(X_test[base_x:base_x+self.batch_size], requires_grad=False).float()\n",
    "                res.append(model(inputs.cuda())[:,1].data.cpu().numpy())\n",
    "            auc['test'] = sklearn.metrics.roc_auc_score(y_test, np.asarray(res).flatten())\n",
    "            \n",
    "            \n",
    "            time_this_epoch = time.time() - start_timer\n",
    "\n",
    "#eval on cpu\n",
    "#             auc['train'] = sklearn.metrics.roc_auc_score(local_y_train.numpy(), model(Variable(local_X_train.cpu(), requires_grad=False).float())[:,1].cpu().data.numpy())\n",
    "#             auc['valid'] = sklearn.metrics.roc_auc_score(local_y_valid, model(Variable(local_X_valid.cpu(), requires_grad=False).float())[:,1].cpu().data.numpy())\n",
    "#             auc['test'] = sklearn.metrics.roc_auc_score(y_test, model(Variable(X_test.cpu(), requires_grad=False).float())[:,1].cpu().data.numpy())\n",
    "            \n",
    "            summary = [ t, crit_loss.data[0], auc['train'], auc['valid'], time_this_epoch ]\n",
    "            summary = \"epoch {}, cross_loss: {:.03f}, auc_train: {:0.3f}, auc_valid:{:0.3f}, time: {:.02f} sec\".format(*summary)\n",
    "            #print summary\n",
    "\n",
    "            patience = patience - 1\n",
    "            if patience == 0:\n",
    "                return max_valid_test\n",
    "                break\n",
    "            if (max_valid < auc['valid']) and t > 5:\n",
    "                max_valid = auc['valid']\n",
    "                max_valid_test = auc['test']\n",
    "                patience = self.patience"
   ]
  },
  {
   "cell_type": "code",
   "execution_count": 9,
   "metadata": {},
   "outputs": [],
   "source": [
    "#             model = models.models.MLP(\n",
    "#                     20, \n",
    "#                     channels=[32] * 1,\n",
    "#                     out_dim=2, \n",
    "#                     on_cuda=True, \n",
    "#                     dropout=False)"
   ]
  },
  {
   "cell_type": "code",
   "execution_count": 10,
   "metadata": {},
   "outputs": [],
   "source": [
    "# adj_transform, aggregate_function = models.graphLayer.get_transform(opt, nx.to_numpy_matrix(g))\n",
    "# model = models.models.CGN(\n",
    "#                     nb_nodes=len(tcgatissue.df.columns), \n",
    "#                     input_dim=1,\n",
    "#                     channels=[32] * 3,\n",
    "#                     adj=nx.to_numpy_matrix(g),\n",
    "#                     out_dim=2,\n",
    "#                     on_cuda=True,\n",
    "#                     add_emb=False,\n",
    "#                 transform_adj=adj_transform,\n",
    "#                     aggregate_adj=aggregate_function,\n",
    "#                     )"
   ]
  },
  {
   "cell_type": "code",
   "execution_count": 11,
   "metadata": {},
   "outputs": [],
   "source": [
    "# tcgatissue.data[:10,:20].shape"
   ]
  },
  {
   "cell_type": "code",
   "execution_count": 12,
   "metadata": {},
   "outputs": [],
   "source": [
    "# torch.FloatTensor(tcgatissue.data[:10,:20])[0].view(1,-1)"
   ]
  },
  {
   "cell_type": "code",
   "execution_count": 13,
   "metadata": {},
   "outputs": [],
   "source": [
    "# res = [model(Variable(x.view(1,1,-1), requires_grad=False)).cpu().data.numpy()[0][1] for x in torch.FloatTensor(tcgatissue.data[:10,:20])]\n"
   ]
  },
  {
   "cell_type": "code",
   "execution_count": 14,
   "metadata": {},
   "outputs": [],
   "source": [
    "# res"
   ]
  },
  {
   "cell_type": "code",
   "execution_count": 15,
   "metadata": {},
   "outputs": [],
   "source": [
    "#model(Variable(tcgatissue.data, requires_grad=False).float())"
   ]
  },
  {
   "cell_type": "code",
   "execution_count": 16,
   "metadata": {},
   "outputs": [],
   "source": [
    "#             model = models.models.CGN(\n",
    "#                     nb_nodes=len(tcgatissue.df.columns), \n",
    "#                     input_dim=1,\n",
    "#                     channels=[32] * 3,\n",
    "#                     adj=nx.to_numpy_matrix(g),\n",
    "#                     out_dim=2,\n",
    "#                     on_cuda=True,\n",
    "#                     add_emb=False,\n",
    "#                 transform_adj=None,\n",
    "#                     aggregate_adj=None,\n",
    "#                     )\n",
    "# model(Variable(local_X_train, requires_grad=False).float())"
   ]
  },
  {
   "cell_type": "code",
   "execution_count": null,
   "metadata": {
    "collapsed": true
   },
   "outputs": [],
   "source": []
  },
  {
   "cell_type": "code",
   "execution_count": 9,
   "metadata": {},
   "outputs": [],
   "source": [
    "def method_comparison(results, dataset, models, gene, search_num_genes, trials, search_train_size, test_size):\n",
    "    \n",
    "    dataset = data.gene_datasets.TCGATissue()\n",
    "    dataset.df = dataset.df - dataset.df.mean()\n",
    "    \n",
    "    mean = dataset.df[gene].mean()\n",
    "    dataset.labels = [1 if x > mean else 0 for x in dataset.df[gene]]\n",
    "    full_df = dataset.df.copy(deep=True)\n",
    "    \n",
    "    for train_size in search_train_size:\n",
    "        for ex in search_num_genes:\n",
    "\n",
    "            num_genes = ex\n",
    "            num_genes = np.min([num_genes, tcgatissue.df.shape[1]])\n",
    "            print ex, num_genes\n",
    "\n",
    "            neighbors = sample_neighbors(g, gene, num_genes, include_self=True)\n",
    "            print \"neighbors\", len(neighbors), \"train_size\", train_size\n",
    "            \n",
    "            dataset.df = dataset.df[list(neighbors)]\n",
    "            dataset.df[gene] = 1\n",
    "            dataset.data = dataset.df.as_matrix()\n",
    "            \n",
    "            neighborhood = np.asarray(nx.to_numpy_matrix(nx.Graph(g.subgraph(neighbors))))\n",
    "            for model in models:\n",
    "                for seed in range(trials):\n",
    "\n",
    "                    #have we already done it?\n",
    "                    already_done = results[\"df\"][(results[\"df\"].gene_name == gene) & \n",
    "                                                 (results[\"df\"].model == model['key']) &\n",
    "                                                 (results[\"df\"].num_genes == num_genes) &\n",
    "                                                 (results[\"df\"].seed == seed) &\n",
    "                                                 (results[\"df\"].train_size == train_size)].shape[0] > 0\n",
    "\n",
    "                    if already_done:\n",
    "                        print \"already done:\", model['key'], \"num_genes\", num_genes, \"train_size\", train_size, \"seed\", seed\n",
    "                        continue\n",
    "                    print \"doing:\", model['key'], \"num_genes\", num_genes, \"train_size\", train_size, \"seed\", seed\n",
    "\n",
    "                    result = model['method'].loop(dataset=dataset, seed=seed, train_size=train_size, test_size=test_size, adj=neighborhood)\n",
    "\n",
    "                    experiment = {\"gene_name\": gene,\n",
    "                            \"model\": model['key'],\n",
    "                            \"num_genes\": num_genes, \n",
    "                            \"seed\":seed,\n",
    "                            \"train_size\": train_size,\n",
    "                            \"auc\":result\n",
    "                            }\n",
    "\n",
    "                    results[\"df\"] = results[\"df\"].append(experiment, ignore_index=True)\n",
    "                    pickle.dump(results, open(\"results_temp.pkl\", \"wb\"))\n",
    "            dataset.df = full_df\n",
    "    "
   ]
  },
  {
   "cell_type": "code",
   "execution_count": null,
   "metadata": {},
   "outputs": [],
   "source": []
  },
  {
   "cell_type": "code",
   "execution_count": 10,
   "metadata": {
    "scrolled": true
   },
   "outputs": [],
   "source": [
    "import pickle\n",
    "\n",
    "m = [\n",
    "#    {'key': 'LR-L1', 'method': SkLearn(\"LR\", penalty=True)},\n",
    "#    {'key': 'MLP', 'method': mlp},\n",
    "#    {'key': 'DT', 'method': SkLearn(\"DT\")},\n",
    "\n",
    "#{'key': 'CGN_3_layer_64_channel_emb_32_dropout', 'method': PyTorch(\"CGN\")},\n",
    "# #    {'key': 'wRPL5_CGN_3_layer_64_channel_emb_32_dropout_attn3', 'method': PyTorch(\"CGN\", attention_head=3)},\n",
    "#  #{'key': 'wRPL5_CGN_1_layer_32_channel_emb_32_dropout', 'method': PyTorch(\"CGN\", num_layer=1, num_channel=32)},\n",
    "#     {'key': 'MLP-dropout', 'method': PyTorch(\"MLP\", dropout=True)},\n",
    "#     {'key': 'CGN_2_layer_512_channel_emb_32_dropout', 'method': PyTorch(\"CGN\", num_layer=2, num_channel=512, add_emb=32)},\n",
    "#     {'key': 'CGN_3_layer_512_channel_emb_32_dropout', 'method': PyTorch(\"CGN\", num_layer=3, num_channel=512, add_emb=32)},\n",
    "#     {'key': 'CGN_1_layer_768_channel_emb_32_dropout', 'method': PyTorch(\"CGN\", num_layer=1, num_channel=768, add_emb=32)},\n",
    "#     {'key': 'CGN_2_layer_512_channel_emb_128_dropout', 'method': PyTorch(\"CGN\", num_layer=2, num_channel=512, add_emb=128)},\n",
    "#     {'key': 'CGN_2_layer_512_channel_emb_256_dropout', 'method': PyTorch(\"CGN\", num_layer=2, num_channel=512, add_emb=256)},\n",
    "#    {'key': 'CGN_2_layer_512_channel_emb_512_dropout', 'method': PyTorch(\"CGN\", num_layer=2, num_channel=512, add_emb=512)},\n",
    "\n",
    "    #    {'key': 'MLP_2_chan128', 'method': PyTorch(\"MLP\", dropout=False, num_layer=2, num_channel=128)},\n",
    "#    {'key': 'MLP_2_chan256', 'method': PyTorch(\"MLP\", dropout=False, num_layer=2, num_channel=256)},\n",
    "\n",
    "#    {'key': 'MLP_2_chan1024', 'method': PyTorch(\"MLP\", dropout=False, num_layer=2, num_channel=1024)},\n",
    "#    {'key': 'MLP_2', 'method': PyTorch(\"MLP\", dropout=False, num_layer=2)},\n",
    "#    {'key': 'MLP_1', 'method': PyTorch(\"MLP\", dropout=False, num_layer=1)},\n",
    "#     {'key': 'MLP-dropout-l1-1', 'method': PyTorch(\"MLP\", dropout=True, l1_loss_lambda=1)},\n",
    "#     {'key': 'SLR2=lambda1', 'method': PyTorch(\"SLR\", model_reg_lambda=1)},\n",
    "#    {'key': 'SLR2=lambda100', 'method': PyTorch(\"SLR\", model_reg_lambda=100)},\n",
    "\n",
    "#   {'key': 'MLP', 'method': PyTorch(\"MLP\", dropout=False)},\n",
    "    \n",
    "    \n",
    "    \n",
    "#       {'key': 'CGN_lay2_chan8_emb256_dropout_pool', 'method': PyTorch(\"CGN\", num_layer=2,num_channel=8, add_emb=256, pool=True)},   \n",
    "#       {'key': 'CGN_lay4_chan8_emb256_dropout_pool', 'method': PyTorch(\"CGN\", num_layer=4,num_channel=8, add_emb=256, pool=True)},   \n",
    "   #   {'key': 'CGN_lay8_chan64_emb32_dropout_pool', 'method': PyTorch(\"CGN\", num_layer=4,num_channel=64, add_emb=32, pool=True, prepool_extralayers=1)},   \n",
    "      {'key': 'CGN_lay8_chan64_emb512_dropout_pool', 'method': PyTorch(\"CGN\", num_layer=4,num_channel=64, add_emb=512, pool=True, prepool_extralayers=1)},   \n",
    "\n",
    "    #      {'key': 'CGN_lay8_chan32_emb512_dropout_pool_test', 'method': PyTorch(\"CGN\", num_layer=4,num_channel=32, add_emb=512, pool=True, prepool_extralayers=2)},   \n",
    "\n",
    "    \n",
    "    #     {'key': 'CGN_lay3_chan64_emb32_dropout', 'method': PyTorch(\"CGN\", num_layer=3,num_channel=64, add_emb=32 )},\n",
    "#     {'key': 'MLP_lay2_chan512_dropout', 'method': PyTorch(\"MLP\", dropout=True, num_layer=2, num_channel=512)},\n",
    "#      {'key': 'MLP_lay2_chan512', 'method': PyTorch(\"MLP\", dropout=False, num_layer=2, num_channel=512)},\n",
    "#      {'key': 'SLR_lambda1_l11', 'method': PyTorch(\"SLR\", model_reg_lambda=1, l1_loss_lambda=1)},\n",
    "    ]\n",
    "\n",
    "#'CGN_2_layer_512_channel_emb_512_dropout', \"MLP_2_chan512\", \"SLR2=lambda10-l1-1\""
   ]
  },
  {
   "cell_type": "code",
   "execution_count": 19,
   "metadata": {
    "collapsed": true
   },
   "outputs": [],
   "source": [
    "#a = nx.to_numpy_array(g)"
   ]
  },
  {
   "cell_type": "code",
   "execution_count": 20,
   "metadata": {},
   "outputs": [],
   "source": [
    "#a.tostring()"
   ]
  },
  {
   "cell_type": "code",
   "execution_count": 21,
   "metadata": {},
   "outputs": [],
   "source": [
    "#hash(str(a))"
   ]
  },
  {
   "cell_type": "code",
   "execution_count": 22,
   "metadata": {},
   "outputs": [],
   "source": [
    "#results = pickle.load(open(\"results_S100A8.pkl\", \"r\"))"
   ]
  },
  {
   "cell_type": "code",
   "execution_count": 23,
   "metadata": {},
   "outputs": [],
   "source": [
    "#results = {\"df\": pd.DataFrame(columns=['auc','gene_name', 'model', 'num_genes', 'seed', 'train_size'])}"
   ]
  },
  {
   "cell_type": "code",
   "execution_count": 24,
   "metadata": {},
   "outputs": [],
   "source": [
    "import pickle\n",
    "results = pickle.load(open(\"results_temp.pkl\", \"r\"))"
   ]
  },
  {
   "cell_type": "code",
   "execution_count": null,
   "metadata": {
    "scrolled": true
   },
   "outputs": [],
   "source": [
    "#pickle.dump(results, open(\"results-temp.pkl\", \"wb\"))"
   ]
  },
  {
   "cell_type": "code",
   "execution_count": null,
   "metadata": {
    "scrolled": true
   },
   "outputs": [
    {
     "name": "stdout",
     "output_type": "stream",
     "text": [
      "Converting one-hot labels to integers\n",
      "50 50\n",
      "neighbors 50 train_size 50\n",
      "already done: CGN_lay8_chan64_emb512_dropout_pool num_genes 50 train_size 50 seed 0\n",
      "already done: CGN_lay8_chan64_emb512_dropout_pool num_genes 50 train_size 50 seed 1\n",
      "already done: CGN_lay8_chan64_emb512_dropout_pool num_genes 50 train_size 50 seed 2\n",
      "already done: CGN_lay8_chan64_emb512_dropout_pool num_genes 50 train_size 50 seed 3\n",
      "already done: CGN_lay8_chan64_emb512_dropout_pool num_genes 50 train_size 50 seed 4\n",
      "doing: CGN_lay8_chan64_emb512_dropout_pool num_genes 50 train_size 50 seed 5\n",
      "add extra layer before pooling0\n",
      "add extra layer before pooling0\n",
      "add extra layer before pooling0\n",
      "add extra layer before pooling0\n",
      "Doing drop-out\n"
     ]
    },
    {
     "name": "stderr",
     "output_type": "stream",
     "text": [
      "/u/cohenjos/.local/lib/python2.7/site-packages/sklearn/model_selection/_split.py:2026: FutureWarning: From version 0.21, test_size will always complement train_size unless both are specified.\n",
      "  FutureWarning)\n",
      "/raid/Tmp/lisa/os_v5/anaconda/lib/python2.7/site-packages/ipykernel/__main__.py:193: UserWarning: invalid index of a 0-dim tensor. This will be an error in PyTorch 0.5. Use tensor.item() to convert a 0-dim tensor to a Python number\n"
     ]
    },
    {
     "name": "stdout",
     "output_type": "stream",
     "text": [
      "doing: CGN_lay8_chan64_emb512_dropout_pool num_genes 50 train_size 50 seed 6\n",
      "add extra layer before pooling0\n",
      "add extra layer before pooling0\n",
      "add extra layer before pooling0\n",
      "add extra layer before pooling0\n",
      "Doing drop-out\n",
      "doing: CGN_lay8_chan64_emb512_dropout_pool num_genes 50 train_size 50 seed 7\n",
      "add extra layer before pooling0\n",
      "add extra layer before pooling0\n",
      "add extra layer before pooling0\n",
      "add extra layer before pooling0\n",
      "Doing drop-out\n",
      "doing: CGN_lay8_chan64_emb512_dropout_pool num_genes 50 train_size 50 seed 8\n",
      "add extra layer before pooling0\n",
      "add extra layer before pooling0\n",
      "add extra layer before pooling0\n",
      "add extra layer before pooling0\n",
      "Doing drop-out\n",
      "doing: CGN_lay8_chan64_emb512_dropout_pool num_genes 50 train_size 50 seed 9\n",
      "add extra layer before pooling0\n",
      "add extra layer before pooling0\n",
      "add extra layer before pooling0\n",
      "add extra layer before pooling0\n",
      "Doing drop-out\n",
      "100 100\n",
      "neighbors 100 train_size 50\n",
      "already done: CGN_lay8_chan64_emb512_dropout_pool num_genes 100 train_size 50 seed 0\n",
      "already done: CGN_lay8_chan64_emb512_dropout_pool num_genes 100 train_size 50 seed 1\n",
      "already done: CGN_lay8_chan64_emb512_dropout_pool num_genes"
     ]
    },
    {
     "name": "stderr",
     "output_type": "stream",
     "text": [
      "/raid/Tmp/lisa/os_v5/anaconda/lib/python2.7/site-packages/ipykernel/__main__.py:21: SettingWithCopyWarning: \n",
      "A value is trying to be set on a copy of a slice from a DataFrame.\n",
      "Try using .loc[row_indexer,col_indexer] = value instead\n",
      "\n",
      "See the caveats in the documentation: http://pandas.pydata.org/pandas-docs/stable/indexing.html#indexing-view-versus-copy\n"
     ]
    },
    {
     "name": "stdout",
     "output_type": "stream",
     "text": [
      " 100 train_size 50 seed 2\n",
      "already done: CGN_lay8_chan64_emb512_dropout_pool num_genes 100 train_size 50 seed 3\n",
      "already done: CGN_lay8_chan64_emb512_dropout_pool num_genes 100 train_size 50 seed 4\n",
      "doing: CGN_lay8_chan64_emb512_dropout_pool num_genes 100 train_size 50 seed 5\n",
      "add extra layer before pooling0\n",
      "add extra layer before pooling0\n",
      "add extra layer before pooling0\n",
      "add extra layer before pooling0\n",
      "Doing drop-out\n",
      "doing: CGN_lay8_chan64_emb512_dropout_pool num_genes 100 train_size 50 seed 6\n",
      "add extra layer before pooling0\n",
      "add extra layer before pooling0\n",
      "add extra layer before pooling0\n",
      "add extra layer before pooling0\n",
      "Doing drop-out\n",
      "doing: CGN_lay8_chan64_emb512_dropout_pool num_genes 100 train_size 50 seed 7\n",
      "add extra layer before pooling0\n",
      "add extra layer before pooling0\n",
      "add extra layer before pooling0\n",
      "add extra layer before pooling0\n",
      "Doing drop-out\n",
      "doing: CGN_lay8_chan64_emb512_dropout_pool num_genes 100 train_size 50 seed 8\n",
      "add extra layer before pooling0\n",
      "add extra layer before pooling0\n",
      "add extra layer before pooling0\n",
      "add extra layer before pooling0\n",
      "Doing drop-out\n",
      "doing: CGN_lay8_chan64_emb512_dropout_pool num_genes 100 train_size 50 seed 9\n",
      "add extra layer before pooling0\n",
      "add extra layer before pooling0\n",
      "add extra layer before pooling0\n",
      "add extra layer before pooling0\n",
      "Doing drop-out\n",
      "200 200\n",
      "neighbors 200 train_size 50\n",
      "already done: CGN_lay8_chan64_emb512_dropout_pool num_genes 200 train_size 50 seed 0\n",
      "already done: CGN_lay8_chan64_emb512_dropout_pool num_genes 200 train_size 50 seed 1\n",
      "already done: CGN_lay8_chan64_emb512_dropout_pool num_genes 200 train_size 50 seed 2\n",
      "already done: CGN_lay8_chan64_emb512_dropout_pool num_genes 200 train_size 50 seed 3\n",
      "already done: CGN_lay8_chan64_emb512_dropout_pool num_genes 200 train_size 50 seed 4\n",
      "doing: CGN_lay8_chan64_emb512_dropout_pool num_genes 200 train_size 50 seed 5\n",
      "add extra layer before pooling0\n",
      "add extra layer before pooling0\n",
      "add extra layer before pooling0\n",
      "add extra layer before pooling0\n",
      "Doing drop-out\n",
      "doing: CGN_lay8_chan64_emb512_dropout_pool num_genes 200 train_size 50 seed 6\n",
      "add extra layer before pooling0\n",
      "add extra layer before pooling0\n",
      "add extra layer before pooling0\n",
      "add extra layer before pooling0\n",
      "Doing drop-out\n",
      "doing: CGN_lay8_chan64_emb512_dropout_pool num_genes 200 train_size 50 seed 7\n",
      "add extra layer before pooling0\n",
      "add extra layer before pooling0\n",
      "add extra layer before pooling0\n",
      "add extra layer before pooling0\n",
      "Doing drop-out\n",
      "doing: CGN_lay8_chan64_emb512_dropout_pool num_genes 200 train_size 50 seed 8\n",
      "add extra layer before pooling0\n",
      "add extra layer before pooling0\n",
      "add extra layer before pooling0\n",
      "add extra layer before pooling0\n",
      "Doing drop-out\n",
      "doing: CGN_lay8_chan64_emb512_dropout_pool num_genes 200 train_size 50 seed 9\n",
      "add extra layer before pooling0\n",
      "add extra layer before pooling0\n",
      "add extra layer before pooling0\n",
      "add extra layer before pooling0\n",
      "Doing drop-out\n",
      "300 300\n",
      "neighbors 300 train_size 50\n",
      "already done: CGN_lay8_chan64_emb512_dropout_pool num_genes 300 train_size 50 seed 0\n",
      "already done: CGN_lay8_chan64_emb512_dropout_pool num_genes 300 train_size 50 seed 1\n",
      "already done: CGN_lay8_chan64_emb512_dropout_pool num_genes 300 train_size 50 seed 2\n",
      "already done: CGN_lay8_chan64_emb512_dropout_pool num_genes 300 train_size 50 seed 3\n",
      "already done: CGN_lay8_chan64_emb512_dropout_pool num_genes 300 train_size 50 seed 4\n",
      "doing: CGN_lay8_chan64_emb512_dropout_pool num_genes 300 train_size 50 seed 5\n",
      "add extra layer before pooling0\n",
      "add extra layer before pooling0\n",
      "add extra layer before pooling0\n",
      "add extra layer before pooling0\n",
      "Doing drop-out\n",
      "doing: CGN_lay8_chan64_emb512_dropout_pool num_genes 300 train_size 50 seed 6\n",
      "add extra layer before pooling0\n",
      "add extra layer before pooling0\n",
      "add extra layer before pooling0\n",
      "add extra layer before pooling0\n",
      "Doing drop-out\n",
      "doing: CGN_lay8_chan64_emb512_dropout_pool num_genes 300 train_size 50 seed 7\n",
      "add extra layer before pooling0\n",
      "add extra layer before pooling0\n",
      "add extra layer before pooling0\n",
      "add extra layer before pooling0\n",
      "Doing drop-out\n",
      "doing: CGN_lay8_chan64_emb512_dropout_pool num_genes 300 train_size 50 seed 8\n",
      "add extra layer before pooling0\n",
      "add extra layer before pooling0\n",
      "add extra layer before pooling0\n",
      "add extra layer before pooling0\n",
      "Doing drop-out\n",
      "doing: CGN_lay8_chan64_emb512_dropout_pool num_genes 300 train_size 50 seed 9\n",
      "add extra layer before pooling0\n",
      "add extra layer before pooling0\n",
      "add extra layer before pooling0\n",
      "add extra layer before pooling0\n",
      "Doing drop-out\n",
      "400 400\n",
      "neighbors 400 train_size 50\n",
      "already done: CGN_lay8_chan64_emb512_dropout_pool num_genes 400 train_size 50 seed 0\n",
      "already done: CGN_lay8_chan64_emb512_dropout_pool num_genes 400 train_size 50 seed 1\n",
      "already done: CGN_lay8_chan64_emb512_dropout_pool num_genes 400 train_size 50 seed 2\n",
      "already done: CGN_lay8_chan64_emb512_dropout_pool num_genes 400 train_size 50 seed 3\n",
      "already done: CGN_lay8_chan64_emb512_dropout_pool num_genes 400 train_size 50 seed 4\n",
      "doing: CGN_lay8_chan64_emb512_dropout_pool num_genes 400 train_size 50 seed 5\n",
      "add extra layer before pooling0\n",
      "add extra layer before pooling0\n",
      "add extra layer before pooling0\n",
      "add extra layer before pooling0\n",
      "Doing drop-out\n",
      "doing: CGN_lay8_chan64_emb512_dropout_pool num_genes 400 train_size 50 seed 6\n",
      "add extra layer before pooling0\n",
      "add extra layer before pooling0\n",
      "add extra layer before pooling0\n",
      "add extra layer before pooling0\n",
      "Doing drop-out\n",
      "doing: CGN_lay8_chan64_emb512_dropout_pool num_genes 400 train_size 50 seed 7\n",
      "add extra layer before pooling0\n",
      "add extra layer before pooling0\n",
      "add extra layer before pooling0\n",
      "add extra layer before pooling0\n",
      "Doing drop-out\n",
      "doing: CGN_lay8_chan64_emb512_dropout_pool num_genes 400 train_size 50 seed 8\n",
      "add extra layer before pooling0\n",
      "add extra layer before pooling0\n",
      "add extra layer before pooling0\n",
      "add extra layer before pooling0\n",
      "Doing drop-out\n"
     ]
    }
   ],
   "source": [
    "#\"S100A8\n",
    "#RPL5\n",
    "#RPS10\n",
    "\n",
    "# a = method_comparison(results, tcgatissue, m, gene=\"RPS10\", \n",
    "#                       search_num_genes=[100], trials=10, \n",
    "#                       search_train_size=[50, 100, 200, 500, 1000, 2000, 4000, 8000], test_size=1000)\n",
    "\n",
    "\n",
    "#a = method_comparison(results, tcgatissue, m, gene=\"S100A8\", search_num_genes=[50, 100,200,300,400,500, 1000, 2000, 4000, 8000, 16000], trials=20, search_train_size=[50], test_size=1000)\n",
    "\n",
    "a = method_comparison(results, tcgatissue, m, gene=\"S100A8\", \n",
    "                      search_num_genes=[50, 100,200,300,400,500, 1000], #,4000, 8000, 16000], \n",
    "                      trials=10, search_train_size=[50], test_size=1000)\n",
    "\n",
    "\n",
    "#a = method_comparison(results, tcgatissue, m, gene=\"RPS10\", search_num_genes=[50, 100,200,300,400,500, 1000, 2000, 4000], trials=2, search_train_size=[50], test_size=1000)\n",
    "#50, 100,200,300,400,\n",
    "\n",
    "#[100,200,300,400,500, 1000, 2000, 4000, 8000, 16000]\n"
   ]
  },
  {
   "cell_type": "code",
   "execution_count": null,
   "metadata": {},
   "outputs": [],
   "source": []
  },
  {
   "cell_type": "code",
   "execution_count": null,
   "metadata": {},
   "outputs": [],
   "source": []
  },
  {
   "cell_type": "code",
   "execution_count": null,
   "metadata": {},
   "outputs": [],
   "source": []
  },
  {
   "cell_type": "code",
   "execution_count": 12,
   "metadata": {},
   "outputs": [],
   "source": [
    "# plt.rcParams['figure.figsize'] = (10, 10)\n",
    "\n",
    "# pos = nx.circular_layout(a)\n",
    "# nx.draw_networkx(a,pos,with_labels=True, width=2)"
   ]
  },
  {
   "cell_type": "code",
   "execution_count": null,
   "metadata": {
    "collapsed": true
   },
   "outputs": [],
   "source": []
  },
  {
   "cell_type": "code",
   "execution_count": 119,
   "metadata": {},
   "outputs": [
    {
     "data": {
      "text/html": [
       "<div>\n",
       "<style scoped>\n",
       "    .dataframe tbody tr th:only-of-type {\n",
       "        vertical-align: middle;\n",
       "    }\n",
       "\n",
       "    .dataframe tbody tr th {\n",
       "        vertical-align: top;\n",
       "    }\n",
       "\n",
       "    .dataframe thead th {\n",
       "        text-align: right;\n",
       "    }\n",
       "</style>\n",
       "<table border=\"1\" class=\"dataframe\">\n",
       "  <thead>\n",
       "    <tr style=\"text-align: right;\">\n",
       "      <th></th>\n",
       "      <th>auc</th>\n",
       "      <th>gene_name</th>\n",
       "      <th>model</th>\n",
       "      <th>num_genes</th>\n",
       "      <th>seed</th>\n",
       "      <th>train_size</th>\n",
       "    </tr>\n",
       "  </thead>\n",
       "  <tbody>\n",
       "  </tbody>\n",
       "</table>\n",
       "</div>"
      ],
      "text/plain": [
       "Empty DataFrame\n",
       "Columns: [auc, gene_name, model, num_genes, seed, train_size]\n",
       "Index: []"
      ]
     },
     "execution_count": 119,
     "metadata": {},
     "output_type": "execute_result"
    }
   ],
   "source": [
    "results[\"df\"]"
   ]
  },
  {
   "cell_type": "code",
   "execution_count": null,
   "metadata": {},
   "outputs": [],
   "source": []
  },
  {
   "cell_type": "code",
   "execution_count": null,
   "metadata": {},
   "outputs": [],
   "source": []
  },
  {
   "cell_type": "code",
   "execution_count": 45,
   "metadata": {},
   "outputs": [],
   "source": [
    "#results[\"df\"] = results[\"df\"].replace(\"wRPL5_CGN_3_layer_64_channel_emb_32_dropout\", \"CGN_3_layer_64_channel_emb_32_dropout\")"
   ]
  },
  {
   "cell_type": "code",
   "execution_count": 39,
   "metadata": {},
   "outputs": [],
   "source": [
    "#pickle.dump(results, open(\"results-temp.pkl\", \"wb\"))"
   ]
  },
  {
   "cell_type": "code",
   "execution_count": 83,
   "metadata": {},
   "outputs": [],
   "source": [
    "import pickle\n",
    "#pickle.dump(results, open(\"results-temp.pkl\", \"wb\"))"
   ]
  },
  {
   "cell_type": "code",
   "execution_count": 26,
   "metadata": {},
   "outputs": [],
   "source": [
    "#results = pickle.load(open(\"exp-results/results-S100A8.pkl\", \"r\"))"
   ]
  },
  {
   "cell_type": "code",
   "execution_count": 11,
   "metadata": {},
   "outputs": [],
   "source": [
    "# results[\"df\"]"
   ]
  },
  {
   "cell_type": "code",
   "execution_count": 102,
   "metadata": {},
   "outputs": [],
   "source": [
    "#q = results[\"df\"][(results[\"df\"].model == \"CGN_2_layer_512_channel_emb_512_dropout\")]\n",
    "#q"
   ]
  },
  {
   "cell_type": "code",
   "execution_count": 103,
   "metadata": {},
   "outputs": [],
   "source": [
    "#results[\"df\"] = results[\"df\"].drop(q.index)"
   ]
  },
  {
   "cell_type": "code",
   "execution_count": null,
   "metadata": {
    "scrolled": true
   },
   "outputs": [],
   "source": []
  },
  {
   "cell_type": "code",
   "execution_count": 81,
   "metadata": {},
   "outputs": [],
   "source": [
    "#results[\"df\"].gene_name.unique()"
   ]
  },
  {
   "cell_type": "code",
   "execution_count": 10,
   "metadata": {
    "scrolled": false
   },
   "outputs": [],
   "source": [
    "# grouped = results[\"df\"][results[\"df\"].gene_name==\"S100A8\"].groupby(['gene_name', 'model','train_size','num_genes'])['auc'].agg(['mean','std', 'count'])\n",
    "# grouped"
   ]
  },
  {
   "cell_type": "code",
   "execution_count": 279,
   "metadata": {},
   "outputs": [],
   "source": [
    "#results[\"df\"].groupby(['gene_name', 'model','num_genes'])['auc'].mean().groupby([\"model\"]).plot(legend=True, sharex=True);"
   ]
  },
  {
   "cell_type": "code",
   "execution_count": null,
   "metadata": {},
   "outputs": [],
   "source": []
  },
  {
   "cell_type": "code",
   "execution_count": 82,
   "metadata": {
    "scrolled": true
   },
   "outputs": [],
   "source": [
    "#results[\"df\"][(results[\"df\"].gene_name==plot_gene)]"
   ]
  },
  {
   "cell_type": "code",
   "execution_count": 5,
   "metadata": {},
   "outputs": [],
   "source": [
    "import pickle\n",
    "results = pickle.load(open(\"results-temp.pkl\", \"r\"))"
   ]
  },
  {
   "cell_type": "code",
   "execution_count": 52,
   "metadata": {},
   "outputs": [
    {
     "data": {
      "image/png": "[encoded data removed]",
      "text/plain": [
       "<matplotlib.figure.Figure at 0x7f0554632f90>"
      ]
     },
     "metadata": {},
     "output_type": "display_data"
    }
   ],
   "source": [
    "%matplotlib inline\n",
    "plt.rcParams['figure.figsize'] = (6, 4)\n",
    "plot_gene = \"S100A8\"\n",
    "plot_num_genes = 200\n",
    "\n",
    "subset = results[\"df\"][(results[\"df\"].num_genes==plot_num_genes) & \n",
    "                      (results[\"df\"].gene_name==plot_gene)]\n",
    "\n",
    "q = subset.groupby(['model','train_size'])['auc']\n",
    "\n",
    "#for model in ['CGN_2_layer_512_channel_emb_512_dropout', \"MLP_2_chan512\", \"SLR2=lambda10-l1-1\"]:#\n",
    "for model in subset[\"model\"].unique():\n",
    "    index = q.mean()[model].index\n",
    "    mean = q.mean()[model]\n",
    "    stderr = q.std()[model]/np.sqrt(q.count()[model])\n",
    "    plt.errorbar(index, mean,label=model, xerr=0, yerr=stderr)\n",
    "\n",
    "plt.title(\"Gene Inference \" + plot_gene + \" (num_genes:\" + str(plot_num_genes) +\")\")\n",
    "plt.ylabel(\"AUC\")\n",
    "plt.xlabel(\"Size of training set\")\n",
    "plt.xscale(\"log\")\n",
    "plt.xticks(index)\n",
    "formatter = matplotlib.ticker.ScalarFormatter()\n",
    "plt.gca().xaxis.set_major_formatter(formatter)\n",
    "plt.legend();"
   ]
  },
  {
   "cell_type": "code",
   "execution_count": 90,
   "metadata": {},
   "outputs": [
    {
     "data": {
      "text/plain": [
       "array(['CGN_3_layer_64_channel_emb_32_dropout',\n",
       "       'CGN_2_layer_512_channel_emb_512_dropout', 'MLP_2_chan512-dropout',\n",
       "       'MLP_2_chan512', 'SLR2=lambda10-l1-1'], dtype=object)"
      ]
     },
     "execution_count": 90,
     "metadata": {},
     "output_type": "execute_result"
    }
   ],
   "source": [
    "results[\"df\"].model.unique()"
   ]
  },
  {
   "cell_type": "code",
   "execution_count": 27,
   "metadata": {
    "scrolled": false
   },
   "outputs": [
    {
     "data": {
      "image/png": "[encoded data removed]",
      "text/plain": [
       "<matplotlib.figure.Figure at 0x7f3adba403d0>"
      ]
     },
     "metadata": {},
     "output_type": "display_data"
    }
   ],
   "source": [
    "%matplotlib inline\n",
    "plt.rcParams['figure.figsize'] = (10, 5)\n",
    "plot_gene = \"S100A8\"\n",
    "plot_train_size = 50\n",
    "\n",
    "subset = results[\"df\"][(results[\"df\"].train_size==plot_train_size) & \n",
    "                  (results[\"df\"].gene_name==plot_gene) & \n",
    "                  (results[\"df\"].num_genes> 0)]\n",
    "\n",
    "\n",
    "q = subset.groupby(['model','num_genes'])['auc']\n",
    "\n",
    "#['CGN_2_layer_512_channel_emb_512_dropout', \"MLP_2_chan512\", \"SLR2=lambda10-l1-1\"]:\n",
    "#for model in ['CGN_2_layer_512_channel_emb_512_dropout', \"MLP_2_chan512\", \"SLR2=lambda10-l1-1\"]:\n",
    "for model in subset[\"model\"].unique():\n",
    "    index = list(q.mean()[model].index)\n",
    "    mean = q.mean()[model]\n",
    "    stderr = q.std()[model]/np.sqrt(q.count()[model])\n",
    "    plt.errorbar(index, mean,label=model, xerr=0, yerr=stderr)\n",
    "\n",
    "plt.title(\"Gene Inference \" + plot_gene + \" (train_size:\" + str(plot_train_size) +\")\")\n",
    "plt.ylabel(\"AUC\")\n",
    "plt.xlabel(\"Number of genes\")\n",
    "plt.xscale(\"log\")\n",
    "plt.xticks(sorted(results[\"df\"][\"num_genes\"].unique()))\n",
    "formatter = matplotlib.ticker.ScalarFormatter()\n",
    "plt.gca().xaxis.set_major_formatter(formatter)\n",
    "#plt.xlim(40,4500)\n",
    "plt.legend();"
   ]
  },
  {
   "cell_type": "code",
   "execution_count": null,
   "metadata": {
    "collapsed": true
   },
   "outputs": [],
   "source": []
  },
  {
   "cell_type": "code",
   "execution_count": null,
   "metadata": {
    "collapsed": true
   },
   "outputs": [],
   "source": []
  },
  {
   "cell_type": "code",
   "execution_count": null,
   "metadata": {
    "collapsed": true
   },
   "outputs": [],
   "source": []
  },
  {
   "cell_type": "code",
   "execution_count": null,
   "metadata": {
    "collapsed": true
   },
   "outputs": [],
   "source": []
  },
  {
   "cell_type": "code",
   "execution_count": null,
   "metadata": {
    "collapsed": true
   },
   "outputs": [],
   "source": []
  },
  {
   "cell_type": "code",
   "execution_count": null,
   "metadata": {
    "collapsed": true
   },
   "outputs": [],
   "source": []
  },
  {
   "cell_type": "code",
   "execution_count": null,
   "metadata": {
    "collapsed": true
   },
   "outputs": [],
   "source": []
  },
  {
   "cell_type": "code",
   "execution_count": null,
   "metadata": {
    "collapsed": true
   },
   "outputs": [],
   "source": []
  },
  {
   "cell_type": "code",
   "execution_count": null,
   "metadata": {
    "collapsed": true
   },
   "outputs": [],
   "source": []
  },
  {
   "cell_type": "code",
   "execution_count": null,
   "metadata": {
    "collapsed": true
   },
   "outputs": [],
   "source": []
  },
  {
   "cell_type": "code",
   "execution_count": null,
   "metadata": {
    "collapsed": true
   },
   "outputs": [],
   "source": []
  },
  {
   "cell_type": "code",
   "execution_count": null,
   "metadata": {
    "collapsed": true
   },
   "outputs": [],
   "source": []
  },
  {
   "cell_type": "code",
   "execution_count": null,
   "metadata": {
    "collapsed": true
   },
   "outputs": [],
   "source": []
  }
 ],
 "metadata": {
  "kernelspec": {
   "display_name": "Python 2",
   "language": "python",
   "name": "python2"
  },
  "language_info": {
   "codemirror_mode": {
    "name": "ipython",
    "version": 2
   },
   "file_extension": ".py",
   "mimetype": "text/x-python",
   "name": "python",
   "nbconvert_exporter": "python",
   "pygments_lexer": "ipython2",
   "version": "2.7.9"
  }
 },
 "nbformat": 4,
 "nbformat_minor": 2
}
