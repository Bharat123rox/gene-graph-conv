{
 "cells": [
  {
   "cell_type": "code",
   "execution_count": 53,
   "metadata": {
    "collapsed": true
   },
   "outputs": [],
   "source": [
    "import argparse\n",
    "import torch\n",
    "import torch.nn as nn\n",
    "import torch.nn.functional as F\n",
    "import torch.optim as optim\n",
    "from torchvision import datasets, transforms\n",
    "from torch.autograd import Variable\n",
    "import numpy as np"
   ]
  },
  {
   "cell_type": "code",
   "execution_count": 66,
   "metadata": {
    "collapsed": true
   },
   "outputs": [],
   "source": [
    "import matplotlib\n",
    "matplotlib.use('Agg');\n",
    "import matplotlib.pyplot as plt\n",
    "plt.set_cmap('jet');\n",
    "%matplotlib inline  "
   ]
  },
  {
   "cell_type": "code",
   "execution_count": 54,
   "metadata": {
    "collapsed": true
   },
   "outputs": [],
   "source": [
    "a = np.load(\"tcga-eig.npz\")"
   ]
  },
  {
   "cell_type": "code",
   "execution_count": 61,
   "metadata": {
    "collapsed": false
   },
   "outputs": [],
   "source": [
    "b = a['arr_0'][0][:,0]"
   ]
  },
  {
   "cell_type": "code",
   "execution_count": 74,
   "metadata": {
    "collapsed": false
   },
   "outputs": [
    {
     "name": "stdout",
     "output_type": "stream",
     "text": [
      "[ 1.00000119  1.00000048  1.00000012  0.99999952  1.00000286  0.99999928\n",
      "  1.00000191  0.99999821  0.99999827  1.00000167  0.99999893  0.99999869\n",
      "  1.00000119  0.99999982  0.9999994   1.00000155  1.0000006   1.00000119\n",
      "  0.99999976  0.99999893  1.00000274  1.00000274  1.0000025   1.00000179\n",
      "  0.99999905  0.99999779  0.99999797  1.00000179  0.99999857  1.00000048\n",
      "  1.00000072  0.99999857  0.99999905  0.99999905  1.00000048  1.00000095\n",
      "  1.          1.0000006   1.00000012  1.00000083  0.99999821  1.00000107\n",
      "  1.00000095  1.00000119  1.00000203  1.00000119  1.00000143  1.00000215\n",
      "  0.99999928  1.00000048  1.00000119  0.99999917  1.00000024  1.00000238\n",
      "  1.00000024  1.00000048  0.99999869  1.00000036  0.99999946  0.99999994\n",
      "  0.99999875  1.          0.99999863  1.00000083  1.00000095  0.99999988\n",
      "  0.99999905  0.99999899  0.9999994   1.00000191  0.99999964  1.00000036\n",
      "  0.99999958  1.00000048  1.          1.00000024  0.9999994   0.9999994\n",
      "  1.00000024  1.00000048  1.00000072  1.          0.99999946  0.99999905\n",
      "  0.99999976  0.99999988  0.99999958  0.99999994  0.99999958  0.99999958\n",
      "  1.00000072  0.9999997   1.          1.00000048  1.00000036  0.99999964\n",
      "  1.00000012  0.          0.          0.        ]\n"
     ]
    }
   ],
   "source": [
    "print b[-100:]"
   ]
  },
  {
   "cell_type": "code",
   "execution_count": null,
   "metadata": {
    "collapsed": true
   },
   "outputs": [],
   "source": []
  },
  {
   "cell_type": "code",
   "execution_count": null,
   "metadata": {
    "collapsed": true
   },
   "outputs": [],
   "source": []
  },
  {
   "cell_type": "code",
   "execution_count": 52,
   "metadata": {
    "collapsed": true
   },
   "outputs": [],
   "source": [
    "nb_nodes = 5\n",
    "nb_edges = 3"
   ]
  },
  {
   "cell_type": "code",
   "execution_count": null,
   "metadata": {
    "collapsed": true
   },
   "outputs": [],
   "source": []
  },
  {
   "cell_type": "code",
   "execution_count": 40,
   "metadata": {
    "collapsed": false
   },
   "outputs": [
    {
     "data": {
      "text/plain": [
       "array([ 0.,  0.])"
      ]
     },
     "execution_count": 40,
     "metadata": {},
     "output_type": "execute_result"
    }
   ],
   "source": [
    "def gt_fn(x, nb_nodes):\n",
    "    return (np.max(x[:,[0,1]], axis=1) > ((x[:,2]) + x[:,3]/2.0))*1.0\n",
    "gt_fn(np.random.rand(2,nb_nodes), nb_nodes)"
   ]
  },
  {
   "cell_type": "code",
   "execution_count": 43,
   "metadata": {
    "collapsed": false
   },
   "outputs": [
    {
     "data": {
      "text/plain": [
       "array([[ 0.20364872,  0.86446642,  0.1899934 ,  0.25687343,  0.06446171],\n",
       "       [ 0.40926174,  0.47516517,  0.70670521,  0.78254321,  0.83613665]])"
      ]
     },
     "execution_count": 43,
     "metadata": {},
     "output_type": "execute_result"
    }
   ],
   "source": [
    "x = np.random.rand(2,nb_nodes)\n",
    "x"
   ]
  },
  {
   "cell_type": "code",
   "execution_count": null,
   "metadata": {
    "collapsed": false
   },
   "outputs": [],
   "source": []
  },
  {
   "cell_type": "code",
   "execution_count": 50,
   "metadata": {
    "collapsed": false
   },
   "outputs": [
    {
     "data": {
      "text/plain": [
       "array([ 1.,  0.])"
      ]
     },
     "execution_count": 50,
     "metadata": {},
     "output_type": "execute_result"
    }
   ],
   "source": [
    "(np.max(x[:,[0,1,2]], axis=1) > ((x[:,3]) + x[:,4]/2.0))*1.0"
   ]
  },
  {
   "cell_type": "code",
   "execution_count": null,
   "metadata": {
    "collapsed": true
   },
   "outputs": [],
   "source": []
  },
  {
   "cell_type": "code",
   "execution_count": null,
   "metadata": {
    "collapsed": true
   },
   "outputs": [],
   "source": []
  },
  {
   "cell_type": "code",
   "execution_count": 4,
   "metadata": {
    "collapsed": false
   },
   "outputs": [],
   "source": [
    "X_train = np.random.rand(1000,nb_nodes)*10\n",
    "y_train = gt_fn(X_train, nb_nodes)\n",
    "\n",
    "X_test = np.random.rand(1000,nb_nodes)*10\n",
    "y_test = gt_fn(X_test, nb_nodes)"
   ]
  },
  {
   "cell_type": "code",
   "execution_count": null,
   "metadata": {
    "collapsed": false
   },
   "outputs": [],
   "source": []
  },
  {
   "cell_type": "code",
   "execution_count": 5,
   "metadata": {
    "collapsed": false
   },
   "outputs": [
    {
     "data": {
      "text/plain": [
       "(array([[ 9.30454089,  7.51502401,  6.95823035,  6.13942129,  4.13703504],\n",
       "        [ 7.26809086,  9.31914712,  0.30233426,  3.87159097,  6.89089731],\n",
       "        [ 5.86016559,  0.39683891,  0.08382018,  8.52415001,  5.56699256],\n",
       "        [ 2.87014558,  1.33755826,  1.22954325,  9.07755131,  7.39492848]]),\n",
       " array([[ 0.],\n",
       "        [ 1.],\n",
       "        [ 1.],\n",
       "        [ 0.]]))"
      ]
     },
     "execution_count": 5,
     "metadata": {},
     "output_type": "execute_result"
    }
   ],
   "source": [
    "import sklearn\n",
    "def sample(X_batch, y_batch, size, num_classes):\n",
    "    \n",
    "    X_batch = np.asarray(X_batch)\n",
    "    y_batch = np.asarray(y_batch)\n",
    "    \n",
    "    x_data = []\n",
    "    y_data = []\n",
    "    \n",
    "    for i in range(num_classes):\n",
    "        x_data.append(sklearn.utils.resample(X_batch[np.where(y_batch == i)[0]], n_samples=size))\n",
    "        y_data.append(np.zeros((size, 1))+i)\n",
    "\n",
    "\n",
    "    X_batch = np.concatenate(x_data)\n",
    "    y_batch = np.concatenate(y_data)\n",
    "\n",
    "    todo = range(len(y_batch))\n",
    "    np.random.shuffle(todo)\n",
    "\n",
    "    X_batch = X_batch[todo]\n",
    "    y_batch = y_batch[todo]\n",
    "    \n",
    "    return X_batch, y_batch\n",
    "\n",
    "sample(X_train, y_train, 2,2)"
   ]
  },
  {
   "cell_type": "code",
   "execution_count": null,
   "metadata": {
    "collapsed": true
   },
   "outputs": [],
   "source": []
  },
  {
   "cell_type": "code",
   "execution_count": null,
   "metadata": {
    "collapsed": true
   },
   "outputs": [],
   "source": []
  },
  {
   "cell_type": "code",
   "execution_count": 34,
   "metadata": {
    "collapsed": true
   },
   "outputs": [],
   "source": [
    "# Create a lambda graph with adjancy matrix and stuff.\n",
    "def random_adj(nb_nodes, nb_edges):\n",
    "    # nodes\n",
    "    nodes = np.arange(nb_nodes)\n",
    "\n",
    "    # roughly nb_edges edges\n",
    "    edges = np.array([(i, ((((i + np.random.randint(nb_nodes - 1))  % nb_nodes) + 1 ) % nb_nodes ))\n",
    "                      for i in [np.random.randint(nb_nodes) for i in range(nb_edges)]])\n",
    "\n",
    "    # Adding self loop.\n",
    "    edges = np.concatenate((edges, np.array([(i, i) for i in nodes])))\n",
    "\n",
    "\n",
    "    # adjacent matrix\n",
    "    A = np.zeros((nb_nodes, nb_nodes))\n",
    "    A[edges[:, 0], edges[:, 1]] = 1.\n",
    "    A[edges[:, 1], edges[:, 0]] = 1.\n",
    "\n",
    "    # Degree matrix\n",
    "    D = A.sum(axis=1)\n",
    "    \n",
    "    return A, D\n",
    "\n",
    "A, D = random_adj(nb_nodes, 1)"
   ]
  },
  {
   "cell_type": "code",
   "execution_count": 35,
   "metadata": {
    "collapsed": false
   },
   "outputs": [
    {
     "data": {
      "text/plain": [
       "array([[ 1.,  0.,  0.,  0.,  0.],\n",
       "       [ 0.,  1.,  0.,  0.,  0.],\n",
       "       [ 0.,  0.,  1.,  0.,  1.],\n",
       "       [ 0.,  0.,  0.,  1.,  0.],\n",
       "       [ 0.,  0.,  1.,  0.,  1.]])"
      ]
     },
     "execution_count": 35,
     "metadata": {},
     "output_type": "execute_result"
    }
   ],
   "source": [
    "A"
   ]
  },
  {
   "cell_type": "code",
   "execution_count": 36,
   "metadata": {
    "collapsed": false
   },
   "outputs": [],
   "source": [
    "L = torch.FloatTensor(D) - torch.FloatTensor(A)"
   ]
  },
  {
   "cell_type": "code",
   "execution_count": 37,
   "metadata": {
    "collapsed": false
   },
   "outputs": [
    {
     "data": {
      "text/plain": [
       "\n",
       " 2  0\n",
       " 0  0\n",
       " 1  0\n",
       " 1  0\n",
       " 1  0\n",
       "[torch.FloatTensor of size 5x2]"
      ]
     },
     "execution_count": 37,
     "metadata": {},
     "output_type": "execute_result"
    }
   ],
   "source": [
    "torch.eig(torch.FloatTensor(A), eigenvectors=True)[0]"
   ]
  },
  {
   "cell_type": "code",
   "execution_count": 38,
   "metadata": {
    "collapsed": false
   },
   "outputs": [
    {
     "data": {
      "text/plain": [
       "(\n",
       "  5.4641  0.0000\n",
       " -1.0000  0.0000\n",
       " -1.4641  0.0000\n",
       " -1.0000  0.0000\n",
       " -0.0000  0.0000\n",
       " [torch.FloatTensor of size 5x2], \n",
       "  4.7140e-01  8.1650e-01 -4.7140e-01 -5.5011e-01  3.6879e-08\n",
       "  4.7140e-01 -4.0825e-01 -4.7140e-01  7.9758e-01  4.0471e-08\n",
       "  4.0825e-01  6.4827e-08  4.0825e-01 -7.7936e-08  7.0711e-01\n",
       "  4.7140e-01 -4.0825e-01 -4.7140e-01 -2.4748e-01  3.3925e-08\n",
       "  4.0825e-01  6.6689e-08  4.0825e-01 -4.4555e-08 -7.0711e-01\n",
       " [torch.FloatTensor of size 5x5])"
      ]
     },
     "execution_count": 38,
     "metadata": {},
     "output_type": "execute_result"
    }
   ],
   "source": [
    "torch.eig(L, eigenvectors=True)"
   ]
  },
  {
   "cell_type": "code",
   "execution_count": null,
   "metadata": {
    "collapsed": true
   },
   "outputs": [],
   "source": []
  },
  {
   "cell_type": "code",
   "execution_count": null,
   "metadata": {
    "collapsed": true
   },
   "outputs": [],
   "source": []
  },
  {
   "cell_type": "code",
   "execution_count": 8,
   "metadata": {
    "collapsed": true
   },
   "outputs": [],
   "source": [
    "edges_np = np.asarray(np.where(A == 1)).T\n",
    "#edges_np = np.array([(0,3),(3,1),(1,2),(2,3)])\n",
    "#edges_np = np.concatenate([edges_np,edges_np[:,[1,0]]])"
   ]
  },
  {
   "cell_type": "code",
   "execution_count": 9,
   "metadata": {
    "collapsed": false
   },
   "outputs": [
    {
     "data": {
      "text/plain": [
       "array([[0, 0],\n",
       "       [0, 3],\n",
       "       [0, 4],\n",
       "       [1, 1],\n",
       "       [1, 3],\n",
       "       [2, 2],\n",
       "       [3, 0],\n",
       "       [3, 1],\n",
       "       [3, 3],\n",
       "       [4, 0],\n",
       "       [4, 4]])"
      ]
     },
     "execution_count": 9,
     "metadata": {},
     "output_type": "execute_result"
    }
   ],
   "source": [
    "edges_np"
   ]
  },
  {
   "cell_type": "code",
   "execution_count": null,
   "metadata": {
    "collapsed": true
   },
   "outputs": [],
   "source": []
  },
  {
   "cell_type": "code",
   "execution_count": 10,
   "metadata": {
    "collapsed": true
   },
   "outputs": [],
   "source": [
    "edge_selector = np.array([np.where(edges_np[:,0] == i)[0] for i in range(4)])"
   ]
  },
  {
   "cell_type": "code",
   "execution_count": 11,
   "metadata": {
    "collapsed": false
   },
   "outputs": [
    {
     "data": {
      "text/plain": [
       "array([array([0, 1, 2]), array([3, 4]), array([5]), array([6, 7, 8])], dtype=object)"
      ]
     },
     "execution_count": 11,
     "metadata": {},
     "output_type": "execute_result"
    }
   ],
   "source": [
    "edge_selector"
   ]
  },
  {
   "cell_type": "code",
   "execution_count": null,
   "metadata": {
    "collapsed": true
   },
   "outputs": [],
   "source": []
  },
  {
   "cell_type": "code",
   "execution_count": null,
   "metadata": {
    "collapsed": true
   },
   "outputs": [],
   "source": []
  },
  {
   "cell_type": "code",
   "execution_count": 12,
   "metadata": {
    "collapsed": true
   },
   "outputs": [],
   "source": [
    "edges = torch.LongTensor(edges_np)"
   ]
  },
  {
   "cell_type": "code",
   "execution_count": 13,
   "metadata": {
    "collapsed": false
   },
   "outputs": [
    {
     "data": {
      "text/plain": [
       "\n",
       "    0     0\n",
       "    0     3\n",
       "    0     4\n",
       "    1     1\n",
       "    1     3\n",
       "    2     2\n",
       "    3     0\n",
       "    3     1\n",
       "    3     3\n",
       "    4     0\n",
       "    4     4\n",
       "[torch.LongTensor of size 11x2]"
      ]
     },
     "execution_count": 13,
     "metadata": {},
     "output_type": "execute_result"
    }
   ],
   "source": [
    "edges.contiguous()"
   ]
  },
  {
   "cell_type": "code",
   "execution_count": null,
   "metadata": {
    "collapsed": true
   },
   "outputs": [],
   "source": []
  },
  {
   "cell_type": "code",
   "execution_count": 14,
   "metadata": {
    "collapsed": true
   },
   "outputs": [],
   "source": [
    "weights = Variable(torch.rand(edges.shape), requires_grad=True)"
   ]
  },
  {
   "cell_type": "code",
   "execution_count": 15,
   "metadata": {
    "collapsed": false
   },
   "outputs": [
    {
     "data": {
      "text/plain": [
       "Variable containing:\n",
       " 0.3071  0.4125\n",
       " 0.8450  0.3945\n",
       " 0.4461  0.2365\n",
       " 0.5734  0.3592\n",
       " 0.6059  0.5116\n",
       " 0.8648  0.9390\n",
       " 0.0687  0.9268\n",
       " 0.8973  0.0922\n",
       " 0.2748  0.2383\n",
       " 0.1800  0.0596\n",
       " 0.5556  0.8327\n",
       "[torch.FloatTensor of size 11x2]"
      ]
     },
     "execution_count": 15,
     "metadata": {},
     "output_type": "execute_result"
    }
   ],
   "source": [
    "weights"
   ]
  },
  {
   "cell_type": "code",
   "execution_count": null,
   "metadata": {
    "collapsed": true
   },
   "outputs": [],
   "source": []
  },
  {
   "cell_type": "code",
   "execution_count": 16,
   "metadata": {
    "collapsed": false
   },
   "outputs": [
    {
     "data": {
      "text/plain": [
       "\n",
       " 0\n",
       " 0\n",
       " 0\n",
       " 3\n",
       " 0\n",
       " 4\n",
       " 1\n",
       " 1\n",
       " 1\n",
       " 3\n",
       " 2\n",
       " 2\n",
       " 3\n",
       " 0\n",
       " 3\n",
       " 1\n",
       " 3\n",
       " 3\n",
       " 4\n",
       " 0\n",
       " 4\n",
       " 4\n",
       "[torch.LongTensor of size 22]"
      ]
     },
     "execution_count": 16,
     "metadata": {},
     "output_type": "execute_result"
    }
   ],
   "source": [
    "edges.contiguous().view(-1)"
   ]
  },
  {
   "cell_type": "code",
   "execution_count": 17,
   "metadata": {
    "collapsed": false
   },
   "outputs": [
    {
     "data": {
      "text/plain": [
       "Variable containing:\n",
       " 0.8284  8.5005  2.4340  7.1884  2.4021\n",
       " 4.8310  7.5169  2.7208  9.0084  7.7026\n",
       "[torch.FloatTensor of size 2x5]"
      ]
     },
     "execution_count": 17,
     "metadata": {},
     "output_type": "execute_result"
    }
   ],
   "source": [
    "Variable(torch.FloatTensor(X_train[:2]))"
   ]
  },
  {
   "cell_type": "code",
   "execution_count": 18,
   "metadata": {
    "collapsed": false
   },
   "outputs": [
    {
     "data": {
      "text/plain": [
       "Variable containing:\n",
       "(0 ,.,.) = \n",
       "  0.8284  8.5005  2.4340  7.1884  2.4021\n",
       "\n",
       "(1 ,.,.) = \n",
       "  4.8310  7.5169  2.7208  9.0084  7.7026\n",
       "[torch.FloatTensor of size 2x1x5]"
      ]
     },
     "execution_count": 18,
     "metadata": {},
     "output_type": "execute_result"
    }
   ],
   "source": [
    "Variable(torch.FloatTensor(X_train[:2])).view(2,-1,nb_nodes)"
   ]
  },
  {
   "cell_type": "code",
   "execution_count": 19,
   "metadata": {
    "collapsed": false
   },
   "outputs": [
    {
     "data": {
      "text/plain": [
       "Variable containing:\n",
       "(0 ,.,.) = \n",
       "  0.8284  0.8284\n",
       "  0.8284  7.1884\n",
       "  0.8284  2.4021\n",
       "  8.5005  8.5005\n",
       "  8.5005  7.1884\n",
       "  2.4340  2.4340\n",
       "  7.1884  0.8284\n",
       "  7.1884  8.5005\n",
       "  7.1884  7.1884\n",
       "  2.4021  0.8284\n",
       "  2.4021  2.4021\n",
       "\n",
       "(1 ,.,.) = \n",
       "  4.8310  4.8310\n",
       "  4.8310  9.0084\n",
       "  4.8310  7.7026\n",
       "  7.5169  7.5169\n",
       "  7.5169  9.0084\n",
       "  2.7208  2.7208\n",
       "  9.0084  4.8310\n",
       "  9.0084  7.5169\n",
       "  9.0084  9.0084\n",
       "  7.7026  4.8310\n",
       "  7.7026  7.7026\n",
       "[torch.FloatTensor of size 2x11x2]"
      ]
     },
     "execution_count": 19,
     "metadata": {},
     "output_type": "execute_result"
    }
   ],
   "source": [
    "x = Variable(torch.FloatTensor(X_train[:2])).view(2,-1,nb_nodes)\n",
    "x = x[:,0,:]\n",
    "tocompute = torch.index_select(x, 1, Variable(edges.contiguous().view(-1))).view(2,-1,2)\n",
    "tocompute"
   ]
  },
  {
   "cell_type": "code",
   "execution_count": null,
   "metadata": {
    "collapsed": true
   },
   "outputs": [],
   "source": []
  },
  {
   "cell_type": "code",
   "execution_count": 20,
   "metadata": {
    "collapsed": false
   },
   "outputs": [
    {
     "data": {
      "text/plain": [
       "Variable containing:\n",
       "(0 ,.,.) = \n",
       "  0.2544  0.3417\n",
       "  0.7000  2.8360\n",
       "  0.3695  0.5681\n",
       "  4.8742  3.0530\n",
       "  5.1501  3.6776\n",
       "  2.1049  2.2854\n",
       "  0.4940  0.7677\n",
       "  6.4498  0.7833\n",
       "  1.9753  1.7131\n",
       "  0.4325  0.0494\n",
       "  1.3347  2.0001\n",
       "\n",
       "(1 ,.,.) = \n",
       "  1.4834  1.9929\n",
       "  4.0822  3.5540\n",
       "  2.1552  1.8217\n",
       "  4.3102  2.6998\n",
       "  4.5541  4.6087\n",
       "  2.3529  2.5547\n",
       "  0.6190  4.4771\n",
       "  8.0828  0.6927\n",
       "  2.4755  2.1469\n",
       "  1.3868  0.2879\n",
       "  4.2800  6.4137\n",
       "[torch.FloatTensor of size 2x11x2]"
      ]
     },
     "execution_count": 20,
     "metadata": {},
     "output_type": "execute_result"
    }
   ],
   "source": [
    "tocompute*weights"
   ]
  },
  {
   "cell_type": "code",
   "execution_count": null,
   "metadata": {
    "collapsed": false
   },
   "outputs": [],
   "source": []
  },
  {
   "cell_type": "code",
   "execution_count": null,
   "metadata": {
    "collapsed": false
   },
   "outputs": [],
   "source": [
    "class SC(nn.Module):\n",
    "    def __init__(self,input_dim, A, channels=1, out_dim=2, on_cuda=False):\n",
    "        super(CGN2, self).__init__()\n",
    "\n",
    "        self.my_layers = []\n",
    "        self.out_dim = out_dim\n",
    "        self.on_cuda = on_cuda\n",
    "        \n",
    "        self.channels = channels\n",
    "        #dims = [input_dim] + channels\n",
    "        \n",
    "        print \"Constructing the network...\"   \n",
    "        \n",
    "        \n",
    "        edges_np = np.asarray(np.where(A == 1)).T\n",
    "        self.edges = torch.LongTensor(edges_np)\n",
    "        \n",
    "        self.weights1 = nn.Parameter(torch.rand(self.edges.shape), requires_grad=True)\n",
    "        print self.weights1.size()\n",
    "\n",
    "        self.last_layer = nn.Linear(input_dim, out_dim)\n",
    "        self.my_layers = nn.ModuleList([self.last_layer])\n",
    "\n",
    "        \n",
    "        \n",
    "        \n",
    "        self.edge_selector = np.array([np.where(edges_np[:,0] == i)[0] for i in range(input_dim)])\n",
    "        print \"edge_selector\", self.edge_selector\n",
    "        \n",
    "        \n",
    "        \n",
    "        \n",
    "        \n",
    "        print \"Done!\"\n",
    "\n",
    "\n",
    "    #print x\n",
    "    def GraphConv(self, x, edges, channel, batch_size, weights):\n",
    "        \n",
    "        x = x.clone()\n",
    "        #x = x.view(batch_size, -1)\n",
    "        x = x[:,channel,:]\n",
    "        tocompute = torch.index_select(x, 1, Variable(edges.contiguous().view(-1))).view(batch_size, -1, 2)\n",
    "        #print tocompute\n",
    "        conv = tocompute*weights\n",
    "        #print conv\n",
    "        for i, edges_to_select in enumerate(self.edge_selector):\n",
    "            #print \"x\", conv\n",
    "            #print \"e\", edges_to_select\n",
    "            selected_edges = torch.index_select(conv, 1, Variable(torch.LongTensor(edges_to_select)))\n",
    "            #print \"m\", selected_edges\n",
    "            selected_edges = selected_edges.view(-1,edges_to_select.shape[0]*2)\n",
    "            #print \"m\", selected_edges\n",
    "            pooled_edges = torch.max(selected_edges,1)[0]\n",
    "            #print \"mmo\",pooled_edges\n",
    "            x[:,i] = pooled_edges\n",
    "            #print \"xx\",x[:,i]\n",
    "        return x\n",
    "\n",
    "        \n",
    "        \n",
    "    def forward(self, x):\n",
    "        nb_examples, nb_nodes, nb_channels = x.size()\n",
    "        \n",
    "        #print x\n",
    "        x = self.GraphConv(x, self.edges, 0, nb_examples, self.weights1)\n",
    "\n",
    "        x = self.last_layer(x.view(nb_examples, -1))\n",
    "        x = F.softmax(x)\n",
    "\n",
    "        return x"
   ]
  },
  {
   "cell_type": "code",
   "execution_count": 247,
   "metadata": {
    "collapsed": false
   },
   "outputs": [],
   "source": [
    "class CGN2(nn.Module):\n",
    "    def __init__(self,input_dim, A, channels=1, out_dim=2, on_cuda=False):\n",
    "        super(CGN2, self).__init__()\n",
    "\n",
    "        self.my_layers = []\n",
    "        self.out_dim = out_dim\n",
    "        self.on_cuda = on_cuda\n",
    "        \n",
    "        self.channels = channels\n",
    "        #dims = [input_dim] + channels\n",
    "        \n",
    "        print \"Constructing the network...\"   \n",
    "        \n",
    "        \n",
    "        edges_np = np.asarray(np.where(A == 1)).T\n",
    "        self.edges = torch.LongTensor(edges_np)\n",
    "        \n",
    "        self.weights1 = nn.Parameter(torch.rand(self.edges.shape), requires_grad=True)\n",
    "        print self.weights1.size()\n",
    "\n",
    "        self.last_layer = nn.Linear(input_dim, out_dim)\n",
    "        self.my_layers = nn.ModuleList([self.last_layer])\n",
    "\n",
    "        \n",
    "        \n",
    "        \n",
    "        self.edge_selector = np.array([np.where(edges_np[:,0] == i)[0] for i in range(input_dim)])\n",
    "        print \"edge_selector\", self.edge_selector\n",
    "        \n",
    "        \n",
    "        \n",
    "        \n",
    "        \n",
    "        print \"Done!\"\n",
    "\n",
    "\n",
    "    #print x\n",
    "    def GraphConv(self, x, edges, channel, batch_size, weights):\n",
    "        \n",
    "        x = x.clone()\n",
    "        #x = x.view(batch_size, -1)\n",
    "        x = x[:,channel,:]\n",
    "        tocompute = torch.index_select(x, 1, Variable(edges.contiguous().view(-1))).view(batch_size, -1, 2)\n",
    "        #print tocompute\n",
    "        conv = tocompute*weights\n",
    "        #print conv\n",
    "        for i, edges_to_select in enumerate(self.edge_selector):\n",
    "            #print \"x\", conv\n",
    "            #print \"e\", edges_to_select\n",
    "            selected_edges = torch.index_select(conv, 1, Variable(torch.LongTensor(edges_to_select)))\n",
    "            #print \"m\", selected_edges\n",
    "            selected_edges = selected_edges.view(-1,edges_to_select.shape[0]*2)\n",
    "            #print \"m\", selected_edges\n",
    "            pooled_edges = torch.max(selected_edges,1)[0]\n",
    "            #print \"mmo\",pooled_edges\n",
    "            x[:,i] = pooled_edges\n",
    "            #print \"xx\",x[:,i]\n",
    "        return x\n",
    "\n",
    "        \n",
    "        \n",
    "    def forward(self, x):\n",
    "        nb_examples, nb_nodes, nb_channels = x.size()\n",
    "        \n",
    "        #print x\n",
    "        x = self.GraphConv(x, self.edges, 0, nb_examples, self.weights1)\n",
    "\n",
    "        x = self.last_layer(x.view(nb_examples, -1))\n",
    "        x = F.softmax(x)\n",
    "\n",
    "        return x"
   ]
  },
  {
   "cell_type": "code",
   "execution_count": 248,
   "metadata": {
    "collapsed": false
   },
   "outputs": [],
   "source": [
    "import models\n",
    "reload(models);"
   ]
  },
  {
   "cell_type": "code",
   "execution_count": 249,
   "metadata": {
    "collapsed": false
   },
   "outputs": [
    {
     "name": "stdout",
     "output_type": "stream",
     "text": [
      "Constructing the network...\n",
      "torch.Size([11, 2])\n",
      "edge_selector [array([0, 1]) array([2, 3]) array([4, 5]) array([6, 7, 8]) array([ 9, 10])]\n",
      "Done!\n"
     ]
    },
    {
     "data": {
      "text/plain": [
       "CGN2 (\n",
       "  (last_layer): Linear (5 -> 2)\n",
       "  (my_layers): ModuleList (\n",
       "    (0): Linear (5 -> 2)\n",
       "  )\n",
       ")"
      ]
     },
     "execution_count": 249,
     "metadata": {},
     "output_type": "execute_result"
    }
   ],
   "source": [
    "gc = CGN2(nb_nodes,A)\n",
    "#gc = models.CGN2(4,edges)\n",
    "#gc = models.MLP(4,[10],2)\n",
    "gc"
   ]
  },
  {
   "cell_type": "code",
   "execution_count": 250,
   "metadata": {
    "collapsed": false
   },
   "outputs": [
    {
     "data": {
      "text/plain": [
       "[Parameter containing:\n",
       "  0.4419  0.0523\n",
       "  0.2943  0.2016\n",
       "  0.1141  0.0607\n",
       "  0.7146  0.6348\n",
       "  0.2847  0.9168\n",
       "  0.0423  0.1458\n",
       "  0.7514  0.1360\n",
       "  0.0250  0.4984\n",
       "  0.9948  0.4843\n",
       "  0.2092  0.7809\n",
       "  0.7862  0.6508\n",
       " [torch.FloatTensor of size 11x2], Parameter containing:\n",
       "  0.1273  0.3478  0.3440  0.2377 -0.3365\n",
       "  0.0495  0.3343  0.4319 -0.4356  0.3580\n",
       " [torch.FloatTensor of size 2x5], Parameter containing:\n",
       " -0.0285\n",
       " -0.1435\n",
       " [torch.FloatTensor of size 2]]"
      ]
     },
     "execution_count": 250,
     "metadata": {},
     "output_type": "execute_result"
    }
   ],
   "source": [
    "list(gc.parameters())"
   ]
  },
  {
   "cell_type": "code",
   "execution_count": 251,
   "metadata": {
    "collapsed": true
   },
   "outputs": [],
   "source": [
    "optimizer = optim.SGD(gc.parameters(), lr = 0.001, momentum=0.9)"
   ]
  },
  {
   "cell_type": "code",
   "execution_count": 252,
   "metadata": {
    "collapsed": false
   },
   "outputs": [],
   "source": [
    "X_batch, y_batch = sample(X_train, y_train, 3,2)"
   ]
  },
  {
   "cell_type": "code",
   "execution_count": 277,
   "metadata": {
    "collapsed": false
   },
   "outputs": [
    {
     "data": {
      "text/plain": [
       "Variable containing:\n",
       "(0 ,.,.) = \n",
       "  4.6067  8.7310  4.3838  5.2321  3.2312\n",
       "\n",
       "(1 ,.,.) = \n",
       "  0.7580  6.3974  0.9436  6.6440  3.5297\n",
       "\n",
       "(2 ,.,.) = \n",
       "  0.7398  7.2101  2.6227  0.4762  3.1642\n",
       "\n",
       "(3 ,.,.) = \n",
       "  0.5058  3.9238  7.0303  6.1787  5.9759\n",
       "\n",
       "(4 ,.,.) = \n",
       "  3.6904  4.6796  2.6793  9.3792  8.1080\n",
       "\n",
       "(5 ,.,.) = \n",
       "  3.6904  4.6796  2.6793  9.3792  8.1080\n",
       "[torch.FloatTensor of size 6x1x5]"
      ]
     },
     "execution_count": 277,
     "metadata": {},
     "output_type": "execute_result"
    }
   ],
   "source": [
    "x = Variable(torch.FloatTensor(X_batch)).view(-1,1,nb_nodes)\n",
    "x"
   ]
  },
  {
   "cell_type": "code",
   "execution_count": 278,
   "metadata": {
    "collapsed": false
   },
   "outputs": [],
   "source": [
    "output = gc(x)[:,1]"
   ]
  },
  {
   "cell_type": "code",
   "execution_count": 279,
   "metadata": {
    "collapsed": false
   },
   "outputs": [
    {
     "data": {
      "text/plain": [
       "Variable containing:\n",
       " 0.1472\n",
       " 0.0791\n",
       " 0.8479\n",
       " 0.5101\n",
       " 0.2033\n",
       " 0.2033\n",
       "[torch.FloatTensor of size 6]"
      ]
     },
     "execution_count": 279,
     "metadata": {},
     "output_type": "execute_result"
    }
   ],
   "source": [
    "output"
   ]
  },
  {
   "cell_type": "code",
   "execution_count": 280,
   "metadata": {
    "collapsed": false
   },
   "outputs": [
    {
     "name": "stdout",
     "output_type": "stream",
     "text": [
      "Variable containing:\n",
      " 0.8528\n",
      " 0.9209\n",
      " 0.1521\n",
      " 0.5101\n",
      " 0.2033\n",
      " 0.2033\n",
      "[torch.FloatTensor of size 6]\n",
      "\n",
      "Variable containing:\n",
      " 0.4737\n",
      "[torch.FloatTensor of size 1]\n",
      "\n"
     ]
    }
   ],
   "source": [
    "gt = Variable(torch.FloatTensor(y_batch), requires_grad=False).view(-1)\n",
    "loss = torch.abs(gt-output)\n",
    "print loss\n",
    "print loss.mean()"
   ]
  },
  {
   "cell_type": "code",
   "execution_count": 281,
   "metadata": {
    "collapsed": false
   },
   "outputs": [],
   "source": [
    "loss.mean().backward()\n",
    "optimizer.step()"
   ]
  },
  {
   "cell_type": "code",
   "execution_count": null,
   "metadata": {
    "collapsed": false
   },
   "outputs": [],
   "source": []
  },
  {
   "cell_type": "code",
   "execution_count": null,
   "metadata": {
    "collapsed": false
   },
   "outputs": [],
   "source": []
  },
  {
   "cell_type": "code",
   "execution_count": 704,
   "metadata": {
    "collapsed": true
   },
   "outputs": [],
   "source": []
  },
  {
   "cell_type": "code",
   "execution_count": 705,
   "metadata": {
    "collapsed": false
   },
   "outputs": [
    {
     "data": {
      "text/plain": [
       "(2, 4)"
      ]
     },
     "execution_count": 705,
     "metadata": {},
     "output_type": "execute_result"
    }
   ],
   "source": [
    "X_batch.shape"
   ]
  },
  {
   "cell_type": "code",
   "execution_count": 706,
   "metadata": {
    "collapsed": false
   },
   "outputs": [
    {
     "ename": "ValueError",
     "evalue": "need more than 2 values to unpack",
     "output_type": "error",
     "traceback": [
      "\u001b[1;31m---------------------------------------------------------------------------\u001b[0m",
      "\u001b[1;31mValueError\u001b[0m                                Traceback (most recent call last)",
      "\u001b[1;32m<ipython-input-706-6cc0eb689700>\u001b[0m in \u001b[0;36m<module>\u001b[1;34m()\u001b[0m\n\u001b[0;32m      1\u001b[0m \u001b[0mx\u001b[0m \u001b[1;33m=\u001b[0m \u001b[0mVariable\u001b[0m\u001b[1;33m(\u001b[0m\u001b[0mtorch\u001b[0m\u001b[1;33m.\u001b[0m\u001b[0mFloatTensor\u001b[0m\u001b[1;33m(\u001b[0m\u001b[0mX_batch\u001b[0m\u001b[1;33m)\u001b[0m\u001b[1;33m)\u001b[0m\u001b[1;33m\u001b[0m\u001b[0m\n\u001b[1;32m----> 2\u001b[1;33m \u001b[0moutput\u001b[0m \u001b[1;33m=\u001b[0m \u001b[0mgc\u001b[0m\u001b[1;33m(\u001b[0m\u001b[0mx\u001b[0m\u001b[1;33m)\u001b[0m\u001b[1;33m\u001b[0m\u001b[0m\n\u001b[0m\u001b[0;32m      3\u001b[0m \u001b[1;31m#gt = Variable(torch.FloatTensor(gt_fn(x.data.numpy()))).view(batch_size,-1)\u001b[0m\u001b[1;33m\u001b[0m\u001b[1;33m\u001b[0m\u001b[0m\n\u001b[0;32m      4\u001b[0m \u001b[1;31m#loss = torch.abs(gt-output)\u001b[0m\u001b[1;33m\u001b[0m\u001b[1;33m\u001b[0m\u001b[0m\n\u001b[0;32m      5\u001b[0m \u001b[1;31m#loss\u001b[0m\u001b[1;33m\u001b[0m\u001b[1;33m\u001b[0m\u001b[0m\n",
      "\u001b[1;32m/u/cohenjos/.local/lib/python2.7/site-packages/torch/nn/modules/module.pyc\u001b[0m in \u001b[0;36m__call__\u001b[1;34m(self, *input, **kwargs)\u001b[0m\n\u001b[0;32m    222\u001b[0m         \u001b[1;32mfor\u001b[0m \u001b[0mhook\u001b[0m \u001b[1;32min\u001b[0m \u001b[0mself\u001b[0m\u001b[1;33m.\u001b[0m\u001b[0m_forward_pre_hooks\u001b[0m\u001b[1;33m.\u001b[0m\u001b[0mvalues\u001b[0m\u001b[1;33m(\u001b[0m\u001b[1;33m)\u001b[0m\u001b[1;33m:\u001b[0m\u001b[1;33m\u001b[0m\u001b[0m\n\u001b[0;32m    223\u001b[0m             \u001b[0mhook\u001b[0m\u001b[1;33m(\u001b[0m\u001b[0mself\u001b[0m\u001b[1;33m,\u001b[0m \u001b[0minput\u001b[0m\u001b[1;33m)\u001b[0m\u001b[1;33m\u001b[0m\u001b[0m\n\u001b[1;32m--> 224\u001b[1;33m         \u001b[0mresult\u001b[0m \u001b[1;33m=\u001b[0m \u001b[0mself\u001b[0m\u001b[1;33m.\u001b[0m\u001b[0mforward\u001b[0m\u001b[1;33m(\u001b[0m\u001b[1;33m*\u001b[0m\u001b[0minput\u001b[0m\u001b[1;33m,\u001b[0m \u001b[1;33m**\u001b[0m\u001b[0mkwargs\u001b[0m\u001b[1;33m)\u001b[0m\u001b[1;33m\u001b[0m\u001b[0m\n\u001b[0m\u001b[0;32m    225\u001b[0m         \u001b[1;32mfor\u001b[0m \u001b[0mhook\u001b[0m \u001b[1;32min\u001b[0m \u001b[0mself\u001b[0m\u001b[1;33m.\u001b[0m\u001b[0m_forward_hooks\u001b[0m\u001b[1;33m.\u001b[0m\u001b[0mvalues\u001b[0m\u001b[1;33m(\u001b[0m\u001b[1;33m)\u001b[0m\u001b[1;33m:\u001b[0m\u001b[1;33m\u001b[0m\u001b[0m\n\u001b[0;32m    226\u001b[0m             \u001b[0mhook_result\u001b[0m \u001b[1;33m=\u001b[0m \u001b[0mhook\u001b[0m\u001b[1;33m(\u001b[0m\u001b[0mself\u001b[0m\u001b[1;33m,\u001b[0m \u001b[0minput\u001b[0m\u001b[1;33m,\u001b[0m \u001b[0mresult\u001b[0m\u001b[1;33m)\u001b[0m\u001b[1;33m\u001b[0m\u001b[0m\n",
      "\u001b[1;32m<ipython-input-694-654a03cff763>\u001b[0m in \u001b[0;36mforward\u001b[1;34m(self, x)\u001b[0m\n\u001b[0;32m     49\u001b[0m \u001b[1;33m\u001b[0m\u001b[0m\n\u001b[0;32m     50\u001b[0m     \u001b[1;32mdef\u001b[0m \u001b[0mforward\u001b[0m\u001b[1;33m(\u001b[0m\u001b[0mself\u001b[0m\u001b[1;33m,\u001b[0m \u001b[0mx\u001b[0m\u001b[1;33m)\u001b[0m\u001b[1;33m:\u001b[0m\u001b[1;33m\u001b[0m\u001b[0m\n\u001b[1;32m---> 51\u001b[1;33m         \u001b[0mnb_examples\u001b[0m\u001b[1;33m,\u001b[0m \u001b[0mnb_nodes\u001b[0m\u001b[1;33m,\u001b[0m \u001b[0mnb_channels\u001b[0m \u001b[1;33m=\u001b[0m \u001b[0mx\u001b[0m\u001b[1;33m.\u001b[0m\u001b[0msize\u001b[0m\u001b[1;33m(\u001b[0m\u001b[1;33m)\u001b[0m\u001b[1;33m\u001b[0m\u001b[0m\n\u001b[0m\u001b[0;32m     52\u001b[0m \u001b[1;33m\u001b[0m\u001b[0m\n\u001b[0;32m     53\u001b[0m         \u001b[0mself\u001b[0m\u001b[1;33m.\u001b[0m\u001b[0mGraphConv\u001b[0m\u001b[1;33m(\u001b[0m\u001b[0mx\u001b[0m\u001b[1;33m,\u001b[0m\u001b[0mself\u001b[0m\u001b[1;33m.\u001b[0m\u001b[0medges\u001b[0m\u001b[1;33m,\u001b[0m \u001b[0mnb_examples\u001b[0m\u001b[1;33m,\u001b[0m \u001b[0mself\u001b[0m\u001b[1;33m.\u001b[0m\u001b[0mweights1\u001b[0m\u001b[1;33m)\u001b[0m\u001b[1;33m\u001b[0m\u001b[0m\n",
      "\u001b[1;31mValueError\u001b[0m: need more than 2 values to unpack"
     ]
    }
   ],
   "source": [
    "x = Variable(torch.FloatTensor(X_batch))\n",
    "output = gc(x)\n",
    "#gt = Variable(torch.FloatTensor(gt_fn(x.data.numpy()))).view(batch_size,-1)\n",
    "#loss = torch.abs(gt-output)\n",
    "#loss"
   ]
  },
  {
   "cell_type": "code",
   "execution_count": 707,
   "metadata": {
    "collapsed": false
   },
   "outputs": [
    {
     "data": {
      "text/plain": [
       "array([[ 1.],\n",
       "       [ 0.]])"
      ]
     },
     "execution_count": 707,
     "metadata": {},
     "output_type": "execute_result"
    }
   ],
   "source": [
    "y_batch"
   ]
  },
  {
   "cell_type": "code",
   "execution_count": null,
   "metadata": {
    "collapsed": false
   },
   "outputs": [],
   "source": []
  },
  {
   "cell_type": "code",
   "execution_count": null,
   "metadata": {
    "collapsed": false,
    "scrolled": false
   },
   "outputs": [],
   "source": []
  },
  {
   "cell_type": "code",
   "execution_count": 57,
   "metadata": {
    "collapsed": false
   },
   "outputs": [
    {
     "name": "stdout",
     "output_type": "stream",
     "text": [
      "Variable containing:\n",
      " 0.1381\n",
      " 0.1273\n",
      "[torch.FloatTensor of size 2]\n",
      "\n"
     ]
    }
   ],
   "source": [
    "torch.manual_seed(0)\n",
    "x = Variable(torch.rand(batch_size,4)*10)\n",
    "output = torch.nn.Sigmoid()(linearLayer(x)).view(-1)\n",
    "loss = torch.abs(Variable(gt_fn(x.data))-output)\n",
    "print  loss"
   ]
  },
  {
   "cell_type": "code",
   "execution_count": 58,
   "metadata": {
    "collapsed": false
   },
   "outputs": [],
   "source": [
    "loss.mean().backward()\n",
    "optimizer.step()"
   ]
  },
  {
   "cell_type": "code",
   "execution_count": null,
   "metadata": {
    "collapsed": true
   },
   "outputs": [],
   "source": []
  },
  {
   "cell_type": "code",
   "execution_count": null,
   "metadata": {
    "collapsed": true
   },
   "outputs": [],
   "source": []
  },
  {
   "cell_type": "code",
   "execution_count": 61,
   "metadata": {
    "collapsed": true
   },
   "outputs": [],
   "source": []
  },
  {
   "cell_type": "code",
   "execution_count": null,
   "metadata": {
    "collapsed": true
   },
   "outputs": [],
   "source": []
  },
  {
   "cell_type": "code",
   "execution_count": null,
   "metadata": {
    "collapsed": false
   },
   "outputs": [],
   "source": []
  },
  {
   "cell_type": "code",
   "execution_count": null,
   "metadata": {
    "collapsed": true
   },
   "outputs": [],
   "source": []
  },
  {
   "cell_type": "code",
   "execution_count": null,
   "metadata": {
    "collapsed": true
   },
   "outputs": [],
   "source": []
  },
  {
   "cell_type": "code",
   "execution_count": null,
   "metadata": {
    "collapsed": true
   },
   "outputs": [],
   "source": []
  },
  {
   "cell_type": "code",
   "execution_count": null,
   "metadata": {
    "collapsed": true
   },
   "outputs": [],
   "source": []
  },
  {
   "cell_type": "code",
   "execution_count": null,
   "metadata": {
    "collapsed": true
   },
   "outputs": [],
   "source": []
  },
  {
   "cell_type": "code",
   "execution_count": null,
   "metadata": {
    "collapsed": true
   },
   "outputs": [],
   "source": []
  },
  {
   "cell_type": "code",
   "execution_count": null,
   "metadata": {
    "collapsed": true
   },
   "outputs": [],
   "source": []
  }
 ],
 "metadata": {
  "kernelspec": {
   "display_name": "Python 2",
   "language": "python",
   "name": "python2"
  },
  "language_info": {
   "codemirror_mode": {
    "name": "ipython",
    "version": 2
   },
   "file_extension": ".py",
   "mimetype": "text/x-python",
   "name": "python",
   "nbconvert_exporter": "python",
   "pygments_lexer": "ipython2",
   "version": "2.7.13"
  }
 },
 "nbformat": 4,
 "nbformat_minor": 2
}
