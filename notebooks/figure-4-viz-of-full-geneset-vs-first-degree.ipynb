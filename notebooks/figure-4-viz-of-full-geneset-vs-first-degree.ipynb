{
 "cells": [
  {
   "cell_type": "code",
   "execution_count": 2,
   "metadata": {},
   "outputs": [],
   "source": [
    "# want to store this notebook in the notebooks folder, but want to keep non-relative imports\n",
    "import os\n",
    "os.chdir(\"..\")"
   ]
  },
  {
   "cell_type": "code",
   "execution_count": 3,
   "metadata": {},
   "outputs": [
    {
     "name": "stderr",
     "output_type": "stream",
     "text": [
      "/Users/martinweiss/.pyenv/versions/2.7.13/lib/python2.7/site-packages/h5py/__init__.py:36: FutureWarning: Conversion of the second argument of issubdtype from `float` to `np.floating` is deprecated. In future, it will be treated as `np.float64 == np.dtype(float).type`.\n",
      "  from ._conv import register_converters as _register_converters\n"
     ]
    }
   ],
   "source": [
    "import sys\n",
    "import time\n",
    "import copy\n",
    "\n",
    "from scipy.stats import norm\n",
    "from itertools import repeat\n",
    "import data, data.gene_datasets\n",
    "import sklearn, sklearn.model_selection, sklearn.metrics, sklearn.linear_model, sklearn.neural_network, sklearn.tree\n",
    "import numpy as np\n",
    "import matplotlib, matplotlib.pyplot as plt\n",
    "import networkx as nx\n",
    "import pandas as pd\n",
    "import models, models.graphLayer\n",
    "from models.models import CGN\n",
    "import data, data.gene_datasets\n",
    "from data.graph import Graph\n",
    "from data.utils import split_dataset\n",
    "import optimization\n",
    "import torch\n",
    "from torch.autograd import Variable\n",
    "from analysis.metrics import record_metrics_for_epoch\n",
    "import analysis\n",
    "import pickle\n",
    "import os\n",
    "from collections import defaultdict"
   ]
  },
  {
   "cell_type": "code",
   "execution_count": 10,
   "metadata": {},
   "outputs": [],
   "source": [
    "dfs = {}\n",
    "for ex in ['genemania', 'pathway', 'regnet', 'genemania_lr', 'pathway_lr', 'regnet_lr',  'genemania_100', 'pathway_100', 'regnet_100', 'genemania_first', 'pathway_first', 'regnet_first', 'genemania_second', 'pathway_second', 'regnet_second']:\n",
    "    dfs[ex] = pd.DataFrame(columns=['auc', 'gene_name', 'model', 'num_genes', 'seed', 'train_size'])\n",
    "    for root, dirs, files in os.walk('experiments/results/old_gene_inference_results/' + ex):\n",
    "        for f in files:\n",
    "            if not f.startswith(\"slurm\"):\n",
    "                block = f.split('-')[-1].split('.')[0]\n",
    "                graph = root.split('/')[-2]\n",
    "                try:\n",
    "                    dfs[ex] = dfs[ex].append(pd.DataFrame(pickle.load(open(os.path.join(root, f), 'rb'))['df']))\n",
    "                except Exception:\n",
    "                    import pdb; pdb.set_trace()\n",
    "                    pass\n"
   ]
  },
  {
   "cell_type": "code",
   "execution_count": 4,
   "metadata": {},
   "outputs": [],
   "source": [
    "agg_df = pd.DataFrame(columns=dfs['genemania'].columns)\n",
    "for key, df in dfs.items():\n",
    "    df['exp_id'] = key\n",
    "    agg_df = pd.concat([agg_df, dfs[key]])\n"
   ]
  },
  {
   "cell_type": "code",
   "execution_count": 5,
   "metadata": {},
   "outputs": [
    {
     "name": "stdout",
     "output_type": "stream",
     "text": [
      "Converting one-hot labels to integers\n"
     ]
    }
   ],
   "source": [
    "tcgatissue = data.gene_datasets.TCGATissue()"
   ]
  },
  {
   "cell_type": "code",
   "execution_count": null,
   "metadata": {},
   "outputs": [],
   "source": []
  },
  {
   "cell_type": "code",
   "execution_count": 6,
   "metadata": {},
   "outputs": [],
   "source": [
    "def create_graph(exp_id, df, std, slice_size, filter_isolates=False, title=''):\n",
    "\n",
    "    if filter_isolates:\n",
    "        graph = Graph()\n",
    "        path = \"data/graph/pancan-tissue-graph.hdf5\"\n",
    "        graph.load_graph(path)\n",
    "        g = nx.from_numpy_matrix(graph.adj)\n",
    "        mapping = dict(zip(range(0, len(tcgatissue.df.columns)), tcgatissue.df.columns))\n",
    "        g = nx.relabel_nodes(g, mapping)\n",
    "        nodes_to_keep = set(g.nodes()).difference(nx.isolates(g))\n",
    "        df = df[df['gene_name'].isin(nodes_to_keep)]\n",
    "\n",
    "    \n",
    "    grouped = df.groupby(['gene_name', 'model','train_size','num_genes'])['auc'].agg(['mean','std', 'count'])\n",
    "    small_neighborhood_mlp_df = df[df['num_genes'] == 50].groupby(['gene_name', 'model','train_size'])['auc'].agg(['mean', 'std'])\n",
    "    big_neighborhood_mlp_df = df[df['num_genes'] == 16300].groupby(['gene_name', 'model','train_size'])['auc'].agg(['mean', 'std'])\n",
    "    small_neighborhood_lr_df = df[df['num_genes'] == 50].groupby(['gene_name', 'model','train_size'])['auc'].agg(['mean', 'std'])\n",
    "    big_neighborhood_lr_df = df[df['num_genes'] == 16300].groupby(['gene_name', 'model','train_size'])['auc'].agg(['mean', 'std'])\n",
    "\n",
    "    # remove the genes with high variance\n",
    "    small_neighborhood_mlp_df = small_neighborhood_mlp_df[small_neighborhood_mlp_df['std'] < std]\n",
    "    big_neighborhood_mlp_df = big_neighborhood_mlp_df[big_neighborhood_mlp_df['std'] < std]\n",
    "\n",
    "\n",
    "    # reset the index to the gene names (I don't like working with hierarchical indices)\n",
    "    small_neighborhood_mlp_df.index = small_neighborhood_mlp_df.index.get_level_values(0)\n",
    "    big_neighborhood_mlp_df.index = big_neighborhood_mlp_df.index.get_level_values(0)\n",
    "\n",
    "\n",
    "    # Find the genes which are low variance in the small neighborhood and large neighborhood dfs\n",
    "    intersection = big_neighborhood_mlp_df.index.intersection(small_neighborhood_mlp_df.index)\n",
    "\n",
    "\n",
    "    big_neighborhood_mlp_intersection_df = big_neighborhood_mlp_df[big_neighborhood_mlp_df.index.isin(intersection)]\n",
    "    small_neighborhood_mlp_intersection_df = small_neighborhood_mlp_df[small_neighborhood_mlp_df.index.isin(intersection)]\n",
    "    mlp_low_var_high_mean_df = small_neighborhood_mlp_intersection_df.sub(big_neighborhood_mlp_intersection_df).sort_values('mean', ascending=False)\n",
    "\n",
    "\n",
    "    index_order = mlp_low_var_high_mean_df.index[0:slice_size]\n",
    "\n",
    "\n",
    "    line1 = big_neighborhood_mlp_intersection_df[big_neighborhood_mlp_intersection_df.index.isin(index_order)].loc[index_order.tolist()]\n",
    "    line2 = small_neighborhood_mlp_intersection_df[small_neighborhood_mlp_intersection_df.index.isin(index_order)].loc[index_order.tolist()]\n",
    "\n",
    "    l1 = line1['mean'] * 100\n",
    "    l2 = line2['mean'] * 100\n",
    "    fig, ax = plt.subplots()\n",
    "    n1, bins1, patches1 = ax.hist(l1, 100, label=\"MLP - All Genes\", density=0, alpha=0.75)\n",
    "    n2, bins2, patches2 = ax.hist(l2, 100, label=\"MLP - 50 Neighbors\", density=0, alpha=0.75)\n",
    "\n",
    "    plt.title(title)\n",
    "    plt.ylabel(\"Count\")\n",
    "    plt.xlabel(\"AUC Bucket\")\n",
    "\n",
    "    plt.legend()\n",
    "    plt.show()\n"
   ]
  },
  {
   "cell_type": "code",
   "execution_count": 7,
   "metadata": {
    "scrolled": true
   },
   "outputs": [
    {
     "data": {
      "image/png": "[encoded data removed]",
      "text/plain": [
       "<matplotlib.figure.Figure at 0x117d43a90>"
      ]
     },
     "metadata": {},
     "output_type": "display_data"
    }
   ],
   "source": [
    "exp_id = 'genemania'\n",
    "df = agg_df[agg_df['exp_id']==exp_id].dropna()\n",
    "std = 1.0\n",
    "slice_size = 100000\n",
    "create_graph(exp_id, df, std, slice_size, title=\"Count of Gene Expression Performance on \" + exp_id)\n"
   ]
  },
  {
   "cell_type": "code",
   "execution_count": 13,
   "metadata": {},
   "outputs": [
    {
     "data": {
      "image/png": "[encoded data removed]",
      "text/plain": [
       "<matplotlib.figure.Figure at 0x118994950>"
      ]
     },
     "metadata": {},
     "output_type": "display_data"
    }
   ],
   "source": [
    "exp_id = 'regnet'\n",
    "df = agg_df[agg_df['exp_id']==exp_id].dropna()\n",
    "std = 1.0\n",
    "slice_size = 1000\n",
    "create_graph(exp_id, df, std, slice_size, title=\"Count of Gene Expression Performance on \" + exp_id)\n"
   ]
  },
  {
   "cell_type": "code",
   "execution_count": 14,
   "metadata": {},
   "outputs": [
    {
     "data": {
      "image/png": "[encoded data removed]",
      "text/plain": [
       "<matplotlib.figure.Figure at 0x118c55ad0>"
      ]
     },
     "metadata": {},
     "output_type": "display_data"
    }
   ],
   "source": [
    "exp_id = 'pathway'\n",
    "df = agg_df[agg_df['exp_id']==exp_id].dropna()\n",
    "std = 1.0\n",
    "slice_size = 1000\n",
    "create_graph(exp_id, df, std, slice_size, title=\"Count of Gene Expression Performance on \" + exp_id)\n"
   ]
  },
  {
   "cell_type": "code",
   "execution_count": 15,
   "metadata": {},
   "outputs": [
    {
     "ename": "KeyError",
     "evalue": "\"Unable to open object (object 'graph_data' doesn't exist)\"",
     "output_type": "error",
     "traceback": [
      "\u001b[0;31m---------------------------------------------------------------------------\u001b[0m",
      "\u001b[0;31mKeyError\u001b[0m                                  Traceback (most recent call last)",
      "\u001b[0;32m<ipython-input-15-1b2ce3836714>\u001b[0m in \u001b[0;36m<module>\u001b[0;34m()\u001b[0m\n\u001b[1;32m      3\u001b[0m \u001b[0mstd\u001b[0m \u001b[0;34m=\u001b[0m \u001b[0;36m1.0\u001b[0m\u001b[0;34m\u001b[0m\u001b[0m\n\u001b[1;32m      4\u001b[0m \u001b[0mslice_size\u001b[0m \u001b[0;34m=\u001b[0m \u001b[0;36m100000\u001b[0m\u001b[0;34m\u001b[0m\u001b[0m\n\u001b[0;32m----> 5\u001b[0;31m \u001b[0mcreate_graph\u001b[0m\u001b[0;34m(\u001b[0m\u001b[0mexp_id\u001b[0m\u001b[0;34m,\u001b[0m \u001b[0mdf\u001b[0m\u001b[0;34m,\u001b[0m \u001b[0mstd\u001b[0m\u001b[0;34m,\u001b[0m \u001b[0mslice_size\u001b[0m\u001b[0;34m,\u001b[0m \u001b[0mfilter_isolates\u001b[0m\u001b[0;34m=\u001b[0m\u001b[0mTrue\u001b[0m\u001b[0;34m,\u001b[0m \u001b[0mtitle\u001b[0m\u001b[0;34m=\u001b[0m\u001b[0;34m\"Count of Gene Expression Performance on \"\u001b[0m \u001b[0;34m+\u001b[0m \u001b[0mexp_id\u001b[0m \u001b[0;34m+\u001b[0m \u001b[0;34m\" filtering isolates\"\u001b[0m\u001b[0;34m)\u001b[0m\u001b[0;34m\u001b[0m\u001b[0m\n\u001b[0m",
      "\u001b[0;32m<ipython-input-6-63d246b6ef00>\u001b[0m in \u001b[0;36mcreate_graph\u001b[0;34m(exp_id, df, std, slice_size, filter_isolates, title)\u001b[0m\n\u001b[1;32m      4\u001b[0m         \u001b[0mgraph\u001b[0m \u001b[0;34m=\u001b[0m \u001b[0mGraph\u001b[0m\u001b[0;34m(\u001b[0m\u001b[0;34m)\u001b[0m\u001b[0;34m\u001b[0m\u001b[0m\n\u001b[1;32m      5\u001b[0m         \u001b[0mpath\u001b[0m \u001b[0;34m=\u001b[0m \u001b[0;34m\"data/graph/pancan-tissue-graph.hdf5\"\u001b[0m\u001b[0;34m\u001b[0m\u001b[0m\n\u001b[0;32m----> 6\u001b[0;31m         \u001b[0mgraph\u001b[0m\u001b[0;34m.\u001b[0m\u001b[0mload_graph\u001b[0m\u001b[0;34m(\u001b[0m\u001b[0mpath\u001b[0m\u001b[0;34m)\u001b[0m\u001b[0;34m\u001b[0m\u001b[0m\n\u001b[0m\u001b[1;32m      7\u001b[0m         \u001b[0mg\u001b[0m \u001b[0;34m=\u001b[0m \u001b[0mnx\u001b[0m\u001b[0;34m.\u001b[0m\u001b[0mfrom_numpy_matrix\u001b[0m\u001b[0;34m(\u001b[0m\u001b[0mgraph\u001b[0m\u001b[0;34m.\u001b[0m\u001b[0madj\u001b[0m\u001b[0;34m)\u001b[0m\u001b[0;34m\u001b[0m\u001b[0m\n\u001b[1;32m      8\u001b[0m         \u001b[0mmapping\u001b[0m \u001b[0;34m=\u001b[0m \u001b[0mdict\u001b[0m\u001b[0;34m(\u001b[0m\u001b[0mzip\u001b[0m\u001b[0;34m(\u001b[0m\u001b[0mrange\u001b[0m\u001b[0;34m(\u001b[0m\u001b[0;36m0\u001b[0m\u001b[0;34m,\u001b[0m \u001b[0mlen\u001b[0m\u001b[0;34m(\u001b[0m\u001b[0mtcgatissue\u001b[0m\u001b[0;34m.\u001b[0m\u001b[0mdf\u001b[0m\u001b[0;34m.\u001b[0m\u001b[0mcolumns\u001b[0m\u001b[0;34m)\u001b[0m\u001b[0;34m)\u001b[0m\u001b[0;34m,\u001b[0m \u001b[0mtcgatissue\u001b[0m\u001b[0;34m.\u001b[0m\u001b[0mdf\u001b[0m\u001b[0;34m.\u001b[0m\u001b[0mcolumns\u001b[0m\u001b[0;34m)\u001b[0m\u001b[0;34m)\u001b[0m\u001b[0;34m\u001b[0m\u001b[0m\n",
      "\u001b[0;32m/Users/martinweiss/code/conv-graph/data/graph.py\u001b[0m in \u001b[0;36mload_graph\u001b[0;34m(self, path)\u001b[0m\n\u001b[1;32m     65\u001b[0m     \u001b[0;32mdef\u001b[0m \u001b[0mload_graph\u001b[0m\u001b[0;34m(\u001b[0m\u001b[0mself\u001b[0m\u001b[0;34m,\u001b[0m \u001b[0mpath\u001b[0m\u001b[0;34m)\u001b[0m\u001b[0;34m:\u001b[0m\u001b[0;34m\u001b[0m\u001b[0m\n\u001b[1;32m     66\u001b[0m         \u001b[0mf\u001b[0m \u001b[0;34m=\u001b[0m \u001b[0mh5py\u001b[0m\u001b[0;34m.\u001b[0m\u001b[0mFile\u001b[0m\u001b[0;34m(\u001b[0m\u001b[0mat\u001b[0m\u001b[0;34m.\u001b[0m\u001b[0mget\u001b[0m\u001b[0;34m(\u001b[0m\u001b[0mpath\u001b[0m\u001b[0;34m)\u001b[0m\u001b[0;34m)\u001b[0m\u001b[0;34m\u001b[0m\u001b[0m\n\u001b[0;32m---> 67\u001b[0;31m         \u001b[0mself\u001b[0m\u001b[0;34m.\u001b[0m\u001b[0madj\u001b[0m \u001b[0;34m=\u001b[0m \u001b[0mnp\u001b[0m\u001b[0;34m.\u001b[0m\u001b[0marray\u001b[0m\u001b[0;34m(\u001b[0m\u001b[0mf\u001b[0m\u001b[0;34m[\u001b[0m\u001b[0;34m'graph_data'\u001b[0m\u001b[0;34m]\u001b[0m\u001b[0;34m)\u001b[0m\u001b[0;34m.\u001b[0m\u001b[0mastype\u001b[0m\u001b[0;34m(\u001b[0m\u001b[0;34m'float32'\u001b[0m\u001b[0;34m)\u001b[0m\u001b[0;34m\u001b[0m\u001b[0m\n\u001b[0m\u001b[1;32m     68\u001b[0m         \u001b[0mself\u001b[0m\u001b[0;34m.\u001b[0m\u001b[0mnode_names\u001b[0m \u001b[0;34m=\u001b[0m \u001b[0mnp\u001b[0m\u001b[0;34m.\u001b[0m\u001b[0marray\u001b[0m\u001b[0;34m(\u001b[0m\u001b[0mf\u001b[0m\u001b[0;34m[\u001b[0m\u001b[0;34m'gene_names'\u001b[0m\u001b[0;34m]\u001b[0m\u001b[0;34m)\u001b[0m\u001b[0;34m\u001b[0m\u001b[0m\n\u001b[1;32m     69\u001b[0m         \u001b[0mself\u001b[0m\u001b[0;34m.\u001b[0m\u001b[0mdf\u001b[0m \u001b[0;34m=\u001b[0m \u001b[0mpd\u001b[0m\u001b[0;34m.\u001b[0m\u001b[0mDataFrame\u001b[0m\u001b[0;34m(\u001b[0m\u001b[0mnp\u001b[0m\u001b[0;34m.\u001b[0m\u001b[0marray\u001b[0m\u001b[0;34m(\u001b[0m\u001b[0mself\u001b[0m\u001b[0;34m.\u001b[0m\u001b[0madj\u001b[0m\u001b[0;34m)\u001b[0m\u001b[0;34m)\u001b[0m\u001b[0;34m\u001b[0m\u001b[0m\n",
      "\u001b[0;32mh5py/_objects.pyx\u001b[0m in \u001b[0;36mh5py._objects.with_phil.wrapper\u001b[0;34m()\u001b[0m\n",
      "\u001b[0;32mh5py/_objects.pyx\u001b[0m in \u001b[0;36mh5py._objects.with_phil.wrapper\u001b[0;34m()\u001b[0m\n",
      "\u001b[0;32m/Users/martinweiss/.pyenv/versions/2.7.13/lib/python2.7/site-packages/h5py/_hl/group.pyc\u001b[0m in \u001b[0;36m__getitem__\u001b[0;34m(self, name)\u001b[0m\n\u001b[1;32m    165\u001b[0m                 \u001b[0;32mraise\u001b[0m \u001b[0mValueError\u001b[0m\u001b[0;34m(\u001b[0m\u001b[0;34m\"Invalid HDF5 object reference\"\u001b[0m\u001b[0;34m)\u001b[0m\u001b[0;34m\u001b[0m\u001b[0m\n\u001b[1;32m    166\u001b[0m         \u001b[0;32melse\u001b[0m\u001b[0;34m:\u001b[0m\u001b[0;34m\u001b[0m\u001b[0m\n\u001b[0;32m--> 167\u001b[0;31m             \u001b[0moid\u001b[0m \u001b[0;34m=\u001b[0m \u001b[0mh5o\u001b[0m\u001b[0;34m.\u001b[0m\u001b[0mopen\u001b[0m\u001b[0;34m(\u001b[0m\u001b[0mself\u001b[0m\u001b[0;34m.\u001b[0m\u001b[0mid\u001b[0m\u001b[0;34m,\u001b[0m \u001b[0mself\u001b[0m\u001b[0;34m.\u001b[0m\u001b[0m_e\u001b[0m\u001b[0;34m(\u001b[0m\u001b[0mname\u001b[0m\u001b[0;34m)\u001b[0m\u001b[0;34m,\u001b[0m \u001b[0mlapl\u001b[0m\u001b[0;34m=\u001b[0m\u001b[0mself\u001b[0m\u001b[0;34m.\u001b[0m\u001b[0m_lapl\u001b[0m\u001b[0;34m)\u001b[0m\u001b[0;34m\u001b[0m\u001b[0m\n\u001b[0m\u001b[1;32m    168\u001b[0m \u001b[0;34m\u001b[0m\u001b[0m\n\u001b[1;32m    169\u001b[0m         \u001b[0motype\u001b[0m \u001b[0;34m=\u001b[0m \u001b[0mh5i\u001b[0m\u001b[0;34m.\u001b[0m\u001b[0mget_type\u001b[0m\u001b[0;34m(\u001b[0m\u001b[0moid\u001b[0m\u001b[0;34m)\u001b[0m\u001b[0;34m\u001b[0m\u001b[0m\n",
      "\u001b[0;32mh5py/_objects.pyx\u001b[0m in \u001b[0;36mh5py._objects.with_phil.wrapper\u001b[0;34m()\u001b[0m\n",
      "\u001b[0;32mh5py/_objects.pyx\u001b[0m in \u001b[0;36mh5py._objects.with_phil.wrapper\u001b[0;34m()\u001b[0m\n",
      "\u001b[0;32mh5py/h5o.pyx\u001b[0m in \u001b[0;36mh5py.h5o.open\u001b[0;34m()\u001b[0m\n",
      "\u001b[0;31mKeyError\u001b[0m: \"Unable to open object (object 'graph_data' doesn't exist)\""
     ]
    }
   ],
   "source": [
    "exp_id = 'genemania'\n",
    "df = agg_df[agg_df['exp_id']==exp_id].dropna()\n",
    "std = 1.0\n",
    "slice_size = 100000\n",
    "create_graph(exp_id, df, std, slice_size, filter_isolates=True, title=\"Count of Gene Expression Performance on \" + exp_id + \" filtering isolates\")"
   ]
  },
  {
   "cell_type": "code",
   "execution_count": null,
   "metadata": {},
   "outputs": [],
   "source": []
  },
  {
   "cell_type": "code",
   "execution_count": 13,
   "metadata": {},
   "outputs": [
    {
     "data": {
      "image/png": "[encoded data removed]",
      "text/plain": [
       "<matplotlib.figure.Figure at 0x1170688d0>"
      ]
     },
     "metadata": {},
     "output_type": "display_data"
    }
   ],
   "source": [
    "exp_id = 'regnet'\n",
    "df = agg_df[agg_df['exp_id']==exp_id].dropna()\n",
    "std = 1.0\n",
    "slice_size = 100000\n",
    "create_graph(exp_id, df, std, slice_size, filter_isolates=True, title=\"Count of Gene Expression Performance on \" + exp_id + \" filtering isolates\")"
   ]
  },
  {
   "cell_type": "code",
   "execution_count": 14,
   "metadata": {},
   "outputs": [
    {
     "data": {
      "image/png": "[encoded data removed]",
      "text/plain": [
       "<matplotlib.figure.Figure at 0x114f0b350>"
      ]
     },
     "metadata": {},
     "output_type": "display_data"
    }
   ],
   "source": [
    "exp_id = 'pathway'\n",
    "df = agg_df[agg_df['exp_id']==exp_id].dropna()\n",
    "std = 1.0\n",
    "slice_size = 100000\n",
    "create_graph(exp_id, df, std, slice_size, filter_isolates=True, title=\"Count of Gene Expression Performance on \" + exp_id + \" filtering isolates\")\n"
   ]
  },
  {
   "cell_type": "code",
   "execution_count": 15,
   "metadata": {},
   "outputs": [
    {
     "data": {
      "image/png": "[encoded data removed]",
      "text/plain": [
       "<matplotlib.figure.Figure at 0x113941a90>"
      ]
     },
     "metadata": {},
     "output_type": "display_data"
    }
   ],
   "source": [
    "exp_id = 'genemania_lr'\n",
    "df = agg_df[agg_df['exp_id']==exp_id].dropna()\n",
    "std = 1.0\n",
    "slice_size = 100000\n",
    "create_graph(exp_id, df, std, slice_size, filter_isolates=False, title=\"Count of Gene Expression Performance on \" + exp_id)\n"
   ]
  },
  {
   "cell_type": "code",
   "execution_count": 16,
   "metadata": {},
   "outputs": [
    {
     "data": {
      "image/png": "[encoded data removed]",
      "text/plain": [
       "<matplotlib.figure.Figure at 0x12867d150>"
      ]
     },
     "metadata": {},
     "output_type": "display_data"
    }
   ],
   "source": [
    "exp_id = 'pathway_lr'\n",
    "df = agg_df[agg_df['exp_id']==exp_id].dropna()\n",
    "std = 1.0\n",
    "slice_size = 100000\n",
    "create_graph(exp_id, df, std, slice_size, filter_isolates=False, title=\"Count of Gene Expression Performance on \" + exp_id)\n"
   ]
  },
  {
   "cell_type": "code",
   "execution_count": 17,
   "metadata": {},
   "outputs": [
    {
     "data": {
      "image/png": "[encoded data removed]",
      "text/plain": [
       "<matplotlib.figure.Figure at 0x1289ee150>"
      ]
     },
     "metadata": {},
     "output_type": "display_data"
    }
   ],
   "source": [
    "exp_id = 'regnet_lr'\n",
    "df = agg_df[agg_df['exp_id']==exp_id].dropna()\n",
    "std = 1.0\n",
    "slice_size = 100000\n",
    "create_graph(exp_id, df, std, slice_size, filter_isolates=False, title=\"Count of Gene Expression Performance on \" + exp_id)\n"
   ]
  },
  {
   "cell_type": "code",
   "execution_count": 18,
   "metadata": {},
   "outputs": [
    {
     "data": {
      "image/png": "[encoded data removed]",
      "text/plain": [
       "<matplotlib.figure.Figure at 0x128489a90>"
      ]
     },
     "metadata": {},
     "output_type": "display_data"
    }
   ],
   "source": [
    "exp_id = 'genemania_100'\n",
    "df = agg_df[agg_df['exp_id']==exp_id].dropna()\n",
    "df = df[df['model'] == 'MLP']\n",
    "std = 1.0\n",
    "slice_size = 100000\n",
    "create_graph(exp_id, df, std, slice_size, filter_isolates=False, title=\"Count of Gene Expression Performance on \" + exp_id)\n"
   ]
  },
  {
   "cell_type": "code",
   "execution_count": 19,
   "metadata": {
    "scrolled": true
   },
   "outputs": [
    {
     "data": {
      "image/png": "[encoded data removed]",
      "text/plain": [
       "<matplotlib.figure.Figure at 0x128d624d0>"
      ]
     },
     "metadata": {},
     "output_type": "display_data"
    }
   ],
   "source": [
    "exp_id = 'pathway_100'\n",
    "df = agg_df[agg_df['exp_id']==exp_id].dropna()\n",
    "df = df[df['model'] == 'MLP']\n",
    "std = 1.0\n",
    "slice_size = 100000\n",
    "create_graph(exp_id, df, std, slice_size, filter_isolates=False, title=\"Count of Gene Expression Performance on \" + exp_id)\n"
   ]
  },
  {
   "cell_type": "code",
   "execution_count": 20,
   "metadata": {
    "scrolled": true
   },
   "outputs": [
    {
     "data": {
      "image/png": "[encoded data removed]",
      "text/plain": [
       "<matplotlib.figure.Figure at 0x117087c90>"
      ]
     },
     "metadata": {},
     "output_type": "display_data"
    }
   ],
   "source": [
    "exp_id = 'regnet_100'\n",
    "df = agg_df[agg_df['exp_id']==exp_id].dropna()\n",
    "df = df[df['model'] == 'MLP']\n",
    "std = 1.0\n",
    "slice_size = 100000\n",
    "create_graph(exp_id, df, std, slice_size, filter_isolates=False, title=\"Count of Gene Expression Performance on \" + exp_id)\n"
   ]
  },
  {
   "cell_type": "code",
   "execution_count": 21,
   "metadata": {},
   "outputs": [
    {
     "data": {
      "image/png": "[encoded data removed]",
      "text/plain": [
       "<matplotlib.figure.Figure at 0x1283fac10>"
      ]
     },
     "metadata": {},
     "output_type": "display_data"
    }
   ],
   "source": [
    "exp_id = 'genemania_first'\n",
    "df = agg_df[agg_df['exp_id']==exp_id].dropna()\n",
    "df = df[df['model'] == 'MLP']\n",
    "df2 = agg_df[agg_df['exp_id']=='genemania']\n",
    "df2 = df2[df2['model'] == 'MLP']\n",
    "df2 = df2[df2['num_genes']==16300]\n",
    "df = pd.concat([df, df2])\n",
    "\n",
    "std = 1.0\n",
    "slice_size = 100000\n",
    "create_graph(exp_id, df, std, slice_size, filter_isolates=False, title=\"Count of Gene Expression Performance on \" + exp_id)\n"
   ]
  },
  {
   "cell_type": "code",
   "execution_count": 23,
   "metadata": {},
   "outputs": [
    {
     "data": {
      "image/png": "[encoded data removed]",
      "text/plain": [
       "<matplotlib.figure.Figure at 0x128a83990>"
      ]
     },
     "metadata": {},
     "output_type": "display_data"
    }
   ],
   "source": [
    "exp_id = 'genemania_second'\n",
    "df = agg_df[agg_df['exp_id']==exp_id].dropna()\n",
    "df = df[df['model'] == 'MLP']\n",
    "df2 = agg_df[agg_df['exp_id']=='genemania']\n",
    "df2 = df2[df2['model'] == 'MLP']\n",
    "df2 = df2[df2['num_genes']==16300]\n",
    "df = pd.concat([df, df2])\n",
    "\n",
    "std = 1.0\n",
    "slice_size = 100000\n",
    "create_graph(exp_id, df, std, slice_size, filter_isolates=False, title=\"Count of Gene Expression Performance on \" + exp_id)"
   ]
  },
  {
   "cell_type": "code",
   "execution_count": null,
   "metadata": {},
   "outputs": [],
   "source": []
  },
  {
   "cell_type": "code",
   "execution_count": 13,
   "metadata": {},
   "outputs": [],
   "source": [
    "#### Difference in performance"
   ]
  },
  {
   "cell_type": "code",
   "execution_count": 24,
   "metadata": {},
   "outputs": [],
   "source": [
    "\n",
    "def create_graph_mean(exp_id, df, std, slice_size, filter_isolates=False, title=''):\n",
    "    grouped = df.groupby(['gene_name', 'model','train_size','num_genes'])['auc'].agg(['mean','std', 'count'])\n",
    "    small_neighborhood_mlp_df = df[df['num_genes'] == 50].groupby(['gene_name', 'model','train_size'])['auc'].agg(['mean', 'std'])\n",
    "    big_neighborhood_mlp_df = df[df['num_genes'] == 16300].groupby(['gene_name', 'model','train_size'])['auc'].agg(['mean', 'std'])\n",
    "    small_neighborhood_lr_df = df[df['num_genes'] == 50].groupby(['gene_name', 'model','train_size'])['auc'].agg(['mean', 'std'])\n",
    "    big_neighborhood_lr_df = df[df['num_genes'] == 16300].groupby(['gene_name', 'model','train_size'])['auc'].agg(['mean', 'std'])\n",
    "\n",
    "\n",
    "    # remove the genes with high variance\n",
    "    small_neighborhood_mlp_df = small_neighborhood_mlp_df[small_neighborhood_mlp_df['std'] < std]\n",
    "    big_neighborhood_mlp_df = big_neighborhood_mlp_df[big_neighborhood_mlp_df['std'] < std]\n",
    "\n",
    "\n",
    "    # reset the index to the gene names (I don't like working with hierarchical indices)\n",
    "    small_neighborhood_mlp_df.index = small_neighborhood_mlp_df.index.get_level_values(0)\n",
    "    big_neighborhood_mlp_df.index = big_neighborhood_mlp_df.index.get_level_values(0)\n",
    "\n",
    "\n",
    "    # Find the genes which are low variance in the small neighborhood and large neighborhood dfs\n",
    "    intersection = big_neighborhood_mlp_df.index.intersection(small_neighborhood_mlp_df.index)\n",
    "\n",
    "\n",
    "    big_neighborhood_mlp_intersection_df = big_neighborhood_mlp_df[big_neighborhood_mlp_df.index.isin(intersection)]\n",
    "    small_neighborhood_mlp_intersection_df = small_neighborhood_mlp_df[small_neighborhood_mlp_df.index.isin(intersection)]\n",
    "    mlp_low_var_high_mean_df = small_neighborhood_mlp_intersection_df.sub(big_neighborhood_mlp_intersection_df).sort_values('mean', ascending=False)\n",
    "\n",
    "    index_order = mlp_low_var_high_mean_df.index[0:slice_size]\n",
    "\n",
    "\n",
    "    line1 = mlp_low_var_high_mean_df.loc[index_order.tolist()]\n",
    "\n",
    "    l1 = line1['mean'] * 100\n",
    "    fig, ax = plt.subplots()\n",
    "    n1, bins1, patches1 = ax.hist(l1, 100, label=\"MLP Improvement with 50 Neighbors\", density=0, alpha=0.75)\n",
    "\n",
    "    plt.title(title)\n",
    "    plt.ylabel(\"Count\")\n",
    "    plt.xlabel(\"AUC Improvement\")\n",
    "\n",
    "    plt.legend()\n",
    "    plt.show()\n",
    "\n"
   ]
  },
  {
   "cell_type": "code",
   "execution_count": 25,
   "metadata": {
    "scrolled": true
   },
   "outputs": [
    {
     "data": {
      "image/png": "[encoded data removed]",
      "text/plain": [
       "<matplotlib.figure.Figure at 0x12876b9d0>"
      ]
     },
     "metadata": {},
     "output_type": "display_data"
    }
   ],
   "source": [
    "exp_id = 'genemania'\n",
    "df = agg_df[agg_df['exp_id']==exp_id].dropna()\n",
    "#df = df[df['model'] == 'MLP']\n",
    "std = 1.0\n",
    "slice_size = 1000\n",
    "\n",
    "\n",
    "create_graph_mean(exp_id, df, std, slice_size, filter_isolates=False, title='')"
   ]
  },
  {
   "cell_type": "code",
   "execution_count": 26,
   "metadata": {},
   "outputs": [
    {
     "data": {
      "image/png": "[encoded data removed]",
      "text/plain": [
       "<matplotlib.figure.Figure at 0x128a833d0>"
      ]
     },
     "metadata": {},
     "output_type": "display_data"
    }
   ],
   "source": [
    "exp_id = 'regnet'\n",
    "df = agg_df[agg_df['exp_id']==exp_id].dropna()\n",
    "#df = df[df['model'] == 'MLP']\n",
    "std = 1.0\n",
    "slice_size = 1000\n",
    "\n",
    "\n",
    "create_graph_mean(exp_id, df, std, slice_size, filter_isolates=False, title='')"
   ]
  },
  {
   "cell_type": "code",
   "execution_count": null,
   "metadata": {},
   "outputs": [],
   "source": []
  },
  {
   "cell_type": "code",
   "execution_count": null,
   "metadata": {},
   "outputs": [],
   "source": []
  },
  {
   "cell_type": "code",
   "execution_count": 27,
   "metadata": {},
   "outputs": [
    {
     "data": {
      "text/plain": [
       "array(['regnet_first', 'genemania_second', 'regnet_lr', 'genemania_lr',\n",
       "       'pathway_first', 'genemania', 'regnet_100', 'pathway_100',\n",
       "       'regnet', 'genemania_first', 'pathway', 'genemania_100',\n",
       "       'pathway_lr'], dtype=object)"
      ]
     },
     "execution_count": 27,
     "metadata": {},
     "output_type": "execute_result"
    }
   ],
   "source": [
    "agg_df['exp_id'].unique()"
   ]
  },
  {
   "cell_type": "code",
   "execution_count": null,
   "metadata": {},
   "outputs": [],
   "source": []
  },
  {
   "cell_type": "code",
   "execution_count": 30,
   "metadata": {},
   "outputs": [],
   "source": [
    "def create_line(df1, df2):\n",
    "    small_neighborhood_mlp_df = df1[df1['num_genes'] == 50].groupby(['gene_name', 'model','train_size'])['auc'].agg(['mean', 'std'])\n",
    "    big_neighborhood_mlp_df = df2[df2['num_genes'] == 16300].groupby(['gene_name', 'model','train_size'])['auc'].agg(['mean', 'std'])\n",
    "    mlp_low_var_high_mean_df = small_neighborhood_mlp_df.sub(big_neighborhood_mlp_df).sort_values('mean', ascending=False)\n",
    "    return mlp_low_var_high_mean_df"
   ]
  },
  {
   "cell_type": "code",
   "execution_count": 36,
   "metadata": {},
   "outputs": [
    {
     "data": {
      "image/png": "[encoded data removed]",
      "text/plain": [
       "<matplotlib.figure.Figure at 0x116bbb650>"
      ]
     },
     "metadata": {},
     "output_type": "display_data"
    }
   ],
   "source": [
    "std = 1.0\n",
    "slice_size = 100000\n",
    "\n",
    "\n",
    "df1 = agg_df[agg_df['exp_id']=='regnet_first'].dropna()\n",
    "df11 = agg_df[agg_df['exp_id']=='regnet'].dropna()\n",
    "df2 = agg_df[agg_df['exp_id']=='genemania_first'].dropna()\n",
    "df22 = agg_df[agg_df['exp_id']=='genemania'].dropna()\n",
    "df3 = agg_df[agg_df['exp_id']=='pathway_first'].dropna()\n",
    "df33 = agg_df[agg_df['exp_id']=='pathway'].dropna()\n",
    "\n",
    "line1 = create_line(df1, df11)\n",
    "line2 = create_line(df2, df22)\n",
    "line3 = create_line(df3, df33)\n",
    "\n",
    "l1 = line1['mean']\n",
    "l2 = line2['mean']\n",
    "l3 = line3['mean']\n",
    "\n",
    "fig, ax = plt.subplots()\n",
    "n1, bins1, patches1 = ax.hist(l1, range=(-.4, .25), bins=100, label=\"Regnet\", density=0, alpha=0.55, histtype='step')\n",
    "n1, bins1, patches1 = ax.hist(l2, range=(-.4, .25), bins=100, label=\"GeneMania\", density=0, alpha=0.55, histtype='step')\n",
    "# n1, bins1, patches1 = ax.hist(l3, range=(-.4, .25), bins=100, label=\"Pathway Commons\", density=0, alpha=0.55, histtype='step')\n",
    "\n",
    "plt.title(\"First Degree Neighbors vs Full Gene Set\")\n",
    "plt.ylabel(\"Count\")\n",
    "plt.xlabel(\"% AUC Improvement\")\n",
    "\n",
    "plt.legend()\n",
    "plt.show()\n",
    "\n"
   ]
  },
  {
   "cell_type": "code",
   "execution_count": 32,
   "metadata": {},
   "outputs": [
    {
     "name": "stdout",
     "output_type": "stream",
     "text": [
      "931\n",
      "14879\n",
      "0.0625714093689\n",
      "1996\n",
      "14879\n",
      "0.134148800323\n",
      "42\n",
      "14879\n",
      "0.00282277034747\n"
     ]
    }
   ],
   "source": [
    "print len(l1[l1>=0.])\n",
    "print len(l1)\n",
    "print len(l1[l1>0.])/float(len(l1))\n",
    "\n",
    "\n",
    "print len(l2[l2>0.])\n",
    "print len(l2)\n",
    "print len(l2[l2>0.])/float(len(l2))\n",
    "\n",
    "\n",
    "print len(l3[l3>0.])\n",
    "print len(l3)\n",
    "print len(l3[l3>0.])/float(len(l3))\n",
    "\n"
   ]
  },
  {
   "cell_type": "code",
   "execution_count": null,
   "metadata": {},
   "outputs": [],
   "source": []
  },
  {
   "cell_type": "code",
   "execution_count": 33,
   "metadata": {},
   "outputs": [
    {
     "data": {
      "text/html": [
       "<div>\n",
       "<style scoped>\n",
       "    .dataframe tbody tr th:only-of-type {\n",
       "        vertical-align: middle;\n",
       "    }\n",
       "\n",
       "    .dataframe tbody tr th {\n",
       "        vertical-align: top;\n",
       "    }\n",
       "\n",
       "    .dataframe thead th {\n",
       "        text-align: right;\n",
       "    }\n",
       "</style>\n",
       "<table border=\"1\" class=\"dataframe\">\n",
       "  <thead>\n",
       "    <tr style=\"text-align: right;\">\n",
       "      <th></th>\n",
       "      <th></th>\n",
       "      <th></th>\n",
       "      <th>mean</th>\n",
       "      <th>std</th>\n",
       "    </tr>\n",
       "    <tr>\n",
       "      <th>gene_name</th>\n",
       "      <th>model</th>\n",
       "      <th>train_size</th>\n",
       "      <th></th>\n",
       "      <th></th>\n",
       "    </tr>\n",
       "  </thead>\n",
       "  <tbody>\n",
       "    <tr>\n",
       "      <th>A1BG</th>\n",
       "      <th>MLP</th>\n",
       "      <th>50</th>\n",
       "      <td>NaN</td>\n",
       "      <td>NaN</td>\n",
       "    </tr>\n",
       "    <tr>\n",
       "      <th>A1CF</th>\n",
       "      <th>MLP</th>\n",
       "      <th>50</th>\n",
       "      <td>NaN</td>\n",
       "      <td>NaN</td>\n",
       "    </tr>\n",
       "    <tr>\n",
       "      <th>A2M</th>\n",
       "      <th>MLP</th>\n",
       "      <th>50</th>\n",
       "      <td>NaN</td>\n",
       "      <td>NaN</td>\n",
       "    </tr>\n",
       "    <tr>\n",
       "      <th>A2ML1</th>\n",
       "      <th>MLP</th>\n",
       "      <th>50</th>\n",
       "      <td>NaN</td>\n",
       "      <td>NaN</td>\n",
       "    </tr>\n",
       "    <tr>\n",
       "      <th>A4GALT</th>\n",
       "      <th>MLP</th>\n",
       "      <th>50</th>\n",
       "      <td>NaN</td>\n",
       "      <td>NaN</td>\n",
       "    </tr>\n",
       "    <tr>\n",
       "      <th>A4GNT</th>\n",
       "      <th>MLP</th>\n",
       "      <th>50</th>\n",
       "      <td>NaN</td>\n",
       "      <td>NaN</td>\n",
       "    </tr>\n",
       "    <tr>\n",
       "      <th>AAAS</th>\n",
       "      <th>MLP</th>\n",
       "      <th>50</th>\n",
       "      <td>NaN</td>\n",
       "      <td>NaN</td>\n",
       "    </tr>\n",
       "    <tr>\n",
       "      <th>AACS</th>\n",
       "      <th>MLP</th>\n",
       "      <th>50</th>\n",
       "      <td>NaN</td>\n",
       "      <td>NaN</td>\n",
       "    </tr>\n",
       "    <tr>\n",
       "      <th>AAGAB</th>\n",
       "      <th>MLP</th>\n",
       "      <th>50</th>\n",
       "      <td>NaN</td>\n",
       "      <td>NaN</td>\n",
       "    </tr>\n",
       "    <tr>\n",
       "      <th>AAK1</th>\n",
       "      <th>MLP</th>\n",
       "      <th>50</th>\n",
       "      <td>NaN</td>\n",
       "      <td>NaN</td>\n",
       "    </tr>\n",
       "    <tr>\n",
       "      <th>AAMP</th>\n",
       "      <th>MLP</th>\n",
       "      <th>50</th>\n",
       "      <td>NaN</td>\n",
       "      <td>NaN</td>\n",
       "    </tr>\n",
       "    <tr>\n",
       "      <th>AANAT</th>\n",
       "      <th>MLP</th>\n",
       "      <th>50</th>\n",
       "      <td>NaN</td>\n",
       "      <td>NaN</td>\n",
       "    </tr>\n",
       "    <tr>\n",
       "      <th>AARS</th>\n",
       "      <th>MLP</th>\n",
       "      <th>50</th>\n",
       "      <td>NaN</td>\n",
       "      <td>NaN</td>\n",
       "    </tr>\n",
       "    <tr>\n",
       "      <th>AARS2</th>\n",
       "      <th>MLP</th>\n",
       "      <th>50</th>\n",
       "      <td>NaN</td>\n",
       "      <td>NaN</td>\n",
       "    </tr>\n",
       "    <tr>\n",
       "      <th>AARSD1</th>\n",
       "      <th>MLP</th>\n",
       "      <th>50</th>\n",
       "      <td>NaN</td>\n",
       "      <td>NaN</td>\n",
       "    </tr>\n",
       "    <tr>\n",
       "      <th>AASDH</th>\n",
       "      <th>MLP</th>\n",
       "      <th>50</th>\n",
       "      <td>NaN</td>\n",
       "      <td>NaN</td>\n",
       "    </tr>\n",
       "    <tr>\n",
       "      <th>AASDHPPT</th>\n",
       "      <th>MLP</th>\n",
       "      <th>50</th>\n",
       "      <td>NaN</td>\n",
       "      <td>NaN</td>\n",
       "    </tr>\n",
       "    <tr>\n",
       "      <th>AASS</th>\n",
       "      <th>MLP</th>\n",
       "      <th>50</th>\n",
       "      <td>NaN</td>\n",
       "      <td>NaN</td>\n",
       "    </tr>\n",
       "    <tr>\n",
       "      <th>AATF</th>\n",
       "      <th>MLP</th>\n",
       "      <th>50</th>\n",
       "      <td>NaN</td>\n",
       "      <td>NaN</td>\n",
       "    </tr>\n",
       "    <tr>\n",
       "      <th>AATK</th>\n",
       "      <th>MLP</th>\n",
       "      <th>50</th>\n",
       "      <td>NaN</td>\n",
       "      <td>NaN</td>\n",
       "    </tr>\n",
       "    <tr>\n",
       "      <th>ABAT</th>\n",
       "      <th>MLP</th>\n",
       "      <th>50</th>\n",
       "      <td>NaN</td>\n",
       "      <td>NaN</td>\n",
       "    </tr>\n",
       "    <tr>\n",
       "      <th>ABCA1</th>\n",
       "      <th>MLP</th>\n",
       "      <th>50</th>\n",
       "      <td>NaN</td>\n",
       "      <td>NaN</td>\n",
       "    </tr>\n",
       "    <tr>\n",
       "      <th>ABCA10</th>\n",
       "      <th>MLP</th>\n",
       "      <th>50</th>\n",
       "      <td>NaN</td>\n",
       "      <td>NaN</td>\n",
       "    </tr>\n",
       "    <tr>\n",
       "      <th>ABCA12</th>\n",
       "      <th>MLP</th>\n",
       "      <th>50</th>\n",
       "      <td>NaN</td>\n",
       "      <td>NaN</td>\n",
       "    </tr>\n",
       "    <tr>\n",
       "      <th>ABCA13</th>\n",
       "      <th>MLP</th>\n",
       "      <th>50</th>\n",
       "      <td>NaN</td>\n",
       "      <td>NaN</td>\n",
       "    </tr>\n",
       "    <tr>\n",
       "      <th>ABCA2</th>\n",
       "      <th>MLP</th>\n",
       "      <th>50</th>\n",
       "      <td>NaN</td>\n",
       "      <td>NaN</td>\n",
       "    </tr>\n",
       "    <tr>\n",
       "      <th>ABCA3</th>\n",
       "      <th>MLP</th>\n",
       "      <th>50</th>\n",
       "      <td>NaN</td>\n",
       "      <td>NaN</td>\n",
       "    </tr>\n",
       "    <tr>\n",
       "      <th>ABCA4</th>\n",
       "      <th>MLP</th>\n",
       "      <th>50</th>\n",
       "      <td>NaN</td>\n",
       "      <td>NaN</td>\n",
       "    </tr>\n",
       "    <tr>\n",
       "      <th>ABCA5</th>\n",
       "      <th>MLP</th>\n",
       "      <th>50</th>\n",
       "      <td>NaN</td>\n",
       "      <td>NaN</td>\n",
       "    </tr>\n",
       "    <tr>\n",
       "      <th>ABCA6</th>\n",
       "      <th>MLP</th>\n",
       "      <th>50</th>\n",
       "      <td>NaN</td>\n",
       "      <td>NaN</td>\n",
       "    </tr>\n",
       "    <tr>\n",
       "      <th>...</th>\n",
       "      <th>...</th>\n",
       "      <th>...</th>\n",
       "      <td>...</td>\n",
       "      <td>...</td>\n",
       "    </tr>\n",
       "    <tr>\n",
       "      <th>ZSCAN1</th>\n",
       "      <th>MLP</th>\n",
       "      <th>50</th>\n",
       "      <td>NaN</td>\n",
       "      <td>NaN</td>\n",
       "    </tr>\n",
       "    <tr>\n",
       "      <th>ZSCAN12</th>\n",
       "      <th>MLP</th>\n",
       "      <th>50</th>\n",
       "      <td>NaN</td>\n",
       "      <td>NaN</td>\n",
       "    </tr>\n",
       "    <tr>\n",
       "      <th>ZSCAN16</th>\n",
       "      <th>MLP</th>\n",
       "      <th>50</th>\n",
       "      <td>NaN</td>\n",
       "      <td>NaN</td>\n",
       "    </tr>\n",
       "    <tr>\n",
       "      <th>ZSCAN18</th>\n",
       "      <th>MLP</th>\n",
       "      <th>50</th>\n",
       "      <td>NaN</td>\n",
       "      <td>NaN</td>\n",
       "    </tr>\n",
       "    <tr>\n",
       "      <th>ZSCAN2</th>\n",
       "      <th>MLP</th>\n",
       "      <th>50</th>\n",
       "      <td>NaN</td>\n",
       "      <td>NaN</td>\n",
       "    </tr>\n",
       "    <tr>\n",
       "      <th>ZSCAN20</th>\n",
       "      <th>MLP</th>\n",
       "      <th>50</th>\n",
       "      <td>NaN</td>\n",
       "      <td>NaN</td>\n",
       "    </tr>\n",
       "    <tr>\n",
       "      <th>ZSCAN21</th>\n",
       "      <th>MLP</th>\n",
       "      <th>50</th>\n",
       "      <td>NaN</td>\n",
       "      <td>NaN</td>\n",
       "    </tr>\n",
       "    <tr>\n",
       "      <th>ZSCAN22</th>\n",
       "      <th>MLP</th>\n",
       "      <th>50</th>\n",
       "      <td>NaN</td>\n",
       "      <td>NaN</td>\n",
       "    </tr>\n",
       "    <tr>\n",
       "      <th>ZSCAN23</th>\n",
       "      <th>MLP</th>\n",
       "      <th>50</th>\n",
       "      <td>NaN</td>\n",
       "      <td>NaN</td>\n",
       "    </tr>\n",
       "    <tr>\n",
       "      <th>ZSCAN29</th>\n",
       "      <th>MLP</th>\n",
       "      <th>50</th>\n",
       "      <td>NaN</td>\n",
       "      <td>NaN</td>\n",
       "    </tr>\n",
       "    <tr>\n",
       "      <th>ZSCAN4</th>\n",
       "      <th>MLP</th>\n",
       "      <th>50</th>\n",
       "      <td>NaN</td>\n",
       "      <td>NaN</td>\n",
       "    </tr>\n",
       "    <tr>\n",
       "      <th>ZSCAN5A</th>\n",
       "      <th>MLP</th>\n",
       "      <th>50</th>\n",
       "      <td>NaN</td>\n",
       "      <td>NaN</td>\n",
       "    </tr>\n",
       "    <tr>\n",
       "      <th>ZSWIM1</th>\n",
       "      <th>MLP</th>\n",
       "      <th>50</th>\n",
       "      <td>NaN</td>\n",
       "      <td>NaN</td>\n",
       "    </tr>\n",
       "    <tr>\n",
       "      <th>ZSWIM2</th>\n",
       "      <th>MLP</th>\n",
       "      <th>50</th>\n",
       "      <td>NaN</td>\n",
       "      <td>NaN</td>\n",
       "    </tr>\n",
       "    <tr>\n",
       "      <th>ZSWIM3</th>\n",
       "      <th>MLP</th>\n",
       "      <th>50</th>\n",
       "      <td>NaN</td>\n",
       "      <td>NaN</td>\n",
       "    </tr>\n",
       "    <tr>\n",
       "      <th>ZSWIM4</th>\n",
       "      <th>MLP</th>\n",
       "      <th>50</th>\n",
       "      <td>NaN</td>\n",
       "      <td>NaN</td>\n",
       "    </tr>\n",
       "    <tr>\n",
       "      <th>ZSWIM5</th>\n",
       "      <th>MLP</th>\n",
       "      <th>50</th>\n",
       "      <td>NaN</td>\n",
       "      <td>NaN</td>\n",
       "    </tr>\n",
       "    <tr>\n",
       "      <th>ZSWIM6</th>\n",
       "      <th>MLP</th>\n",
       "      <th>50</th>\n",
       "      <td>NaN</td>\n",
       "      <td>NaN</td>\n",
       "    </tr>\n",
       "    <tr>\n",
       "      <th>ZSWIM7</th>\n",
       "      <th>MLP</th>\n",
       "      <th>50</th>\n",
       "      <td>NaN</td>\n",
       "      <td>NaN</td>\n",
       "    </tr>\n",
       "    <tr>\n",
       "      <th>ZUFSP</th>\n",
       "      <th>MLP</th>\n",
       "      <th>50</th>\n",
       "      <td>NaN</td>\n",
       "      <td>NaN</td>\n",
       "    </tr>\n",
       "    <tr>\n",
       "      <th>ZW10</th>\n",
       "      <th>MLP</th>\n",
       "      <th>50</th>\n",
       "      <td>NaN</td>\n",
       "      <td>NaN</td>\n",
       "    </tr>\n",
       "    <tr>\n",
       "      <th>ZWILCH</th>\n",
       "      <th>MLP</th>\n",
       "      <th>50</th>\n",
       "      <td>NaN</td>\n",
       "      <td>NaN</td>\n",
       "    </tr>\n",
       "    <tr>\n",
       "      <th>ZWINT</th>\n",
       "      <th>MLP</th>\n",
       "      <th>50</th>\n",
       "      <td>NaN</td>\n",
       "      <td>NaN</td>\n",
       "    </tr>\n",
       "    <tr>\n",
       "      <th>ZXDA</th>\n",
       "      <th>MLP</th>\n",
       "      <th>50</th>\n",
       "      <td>NaN</td>\n",
       "      <td>NaN</td>\n",
       "    </tr>\n",
       "    <tr>\n",
       "      <th>ZXDC</th>\n",
       "      <th>MLP</th>\n",
       "      <th>50</th>\n",
       "      <td>NaN</td>\n",
       "      <td>NaN</td>\n",
       "    </tr>\n",
       "    <tr>\n",
       "      <th>ZYG11A</th>\n",
       "      <th>MLP</th>\n",
       "      <th>50</th>\n",
       "      <td>NaN</td>\n",
       "      <td>NaN</td>\n",
       "    </tr>\n",
       "    <tr>\n",
       "      <th>ZYG11B</th>\n",
       "      <th>MLP</th>\n",
       "      <th>50</th>\n",
       "      <td>NaN</td>\n",
       "      <td>NaN</td>\n",
       "    </tr>\n",
       "    <tr>\n",
       "      <th>ZYX</th>\n",
       "      <th>MLP</th>\n",
       "      <th>50</th>\n",
       "      <td>NaN</td>\n",
       "      <td>NaN</td>\n",
       "    </tr>\n",
       "    <tr>\n",
       "      <th>ZZEF1</th>\n",
       "      <th>MLP</th>\n",
       "      <th>50</th>\n",
       "      <td>NaN</td>\n",
       "      <td>NaN</td>\n",
       "    </tr>\n",
       "    <tr>\n",
       "      <th>ZZZ3</th>\n",
       "      <th>MLP</th>\n",
       "      <th>50</th>\n",
       "      <td>NaN</td>\n",
       "      <td>NaN</td>\n",
       "    </tr>\n",
       "  </tbody>\n",
       "</table>\n",
       "<p>14879 rows × 2 columns</p>\n",
       "</div>"
      ],
      "text/plain": [
       "                            mean  std\n",
       "gene_name model train_size           \n",
       "A1BG      MLP   50           NaN  NaN\n",
       "A1CF      MLP   50           NaN  NaN\n",
       "A2M       MLP   50           NaN  NaN\n",
       "A2ML1     MLP   50           NaN  NaN\n",
       "A4GALT    MLP   50           NaN  NaN\n",
       "A4GNT     MLP   50           NaN  NaN\n",
       "AAAS      MLP   50           NaN  NaN\n",
       "AACS      MLP   50           NaN  NaN\n",
       "AAGAB     MLP   50           NaN  NaN\n",
       "AAK1      MLP   50           NaN  NaN\n",
       "AAMP      MLP   50           NaN  NaN\n",
       "AANAT     MLP   50           NaN  NaN\n",
       "AARS      MLP   50           NaN  NaN\n",
       "AARS2     MLP   50           NaN  NaN\n",
       "AARSD1    MLP   50           NaN  NaN\n",
       "AASDH     MLP   50           NaN  NaN\n",
       "AASDHPPT  MLP   50           NaN  NaN\n",
       "AASS      MLP   50           NaN  NaN\n",
       "AATF      MLP   50           NaN  NaN\n",
       "AATK      MLP   50           NaN  NaN\n",
       "ABAT      MLP   50           NaN  NaN\n",
       "ABCA1     MLP   50           NaN  NaN\n",
       "ABCA10    MLP   50           NaN  NaN\n",
       "ABCA12    MLP   50           NaN  NaN\n",
       "ABCA13    MLP   50           NaN  NaN\n",
       "ABCA2     MLP   50           NaN  NaN\n",
       "ABCA3     MLP   50           NaN  NaN\n",
       "ABCA4     MLP   50           NaN  NaN\n",
       "ABCA5     MLP   50           NaN  NaN\n",
       "ABCA6     MLP   50           NaN  NaN\n",
       "...                          ...  ...\n",
       "ZSCAN1    MLP   50           NaN  NaN\n",
       "ZSCAN12   MLP   50           NaN  NaN\n",
       "ZSCAN16   MLP   50           NaN  NaN\n",
       "ZSCAN18   MLP   50           NaN  NaN\n",
       "ZSCAN2    MLP   50           NaN  NaN\n",
       "ZSCAN20   MLP   50           NaN  NaN\n",
       "ZSCAN21   MLP   50           NaN  NaN\n",
       "ZSCAN22   MLP   50           NaN  NaN\n",
       "ZSCAN23   MLP   50           NaN  NaN\n",
       "ZSCAN29   MLP   50           NaN  NaN\n",
       "ZSCAN4    MLP   50           NaN  NaN\n",
       "ZSCAN5A   MLP   50           NaN  NaN\n",
       "ZSWIM1    MLP   50           NaN  NaN\n",
       "ZSWIM2    MLP   50           NaN  NaN\n",
       "ZSWIM3    MLP   50           NaN  NaN\n",
       "ZSWIM4    MLP   50           NaN  NaN\n",
       "ZSWIM5    MLP   50           NaN  NaN\n",
       "ZSWIM6    MLP   50           NaN  NaN\n",
       "ZSWIM7    MLP   50           NaN  NaN\n",
       "ZUFSP     MLP   50           NaN  NaN\n",
       "ZW10      MLP   50           NaN  NaN\n",
       "ZWILCH    MLP   50           NaN  NaN\n",
       "ZWINT     MLP   50           NaN  NaN\n",
       "ZXDA      MLP   50           NaN  NaN\n",
       "ZXDC      MLP   50           NaN  NaN\n",
       "ZYG11A    MLP   50           NaN  NaN\n",
       "ZYG11B    MLP   50           NaN  NaN\n",
       "ZYX       MLP   50           NaN  NaN\n",
       "ZZEF1     MLP   50           NaN  NaN\n",
       "ZZZ3      MLP   50           NaN  NaN\n",
       "\n",
       "[14879 rows x 2 columns]"
      ]
     },
     "execution_count": 33,
     "metadata": {},
     "output_type": "execute_result"
    }
   ],
   "source": [
    "small_neighborhood_mlp_df = df1[df1['num_genes'] == 50].groupby(['gene_name', 'model','train_size'])['auc'].agg(['mean', 'std'])\n",
    "big_neighborhood_mlp_df = df1[df1['num_genes'] == 16300].groupby(['gene_name', 'model','train_size'])['auc'].agg(['mean', 'std'])\n",
    "small_neighborhood_mlp_df.sub(big_neighborhood_mlp_df)\n"
   ]
  },
  {
   "cell_type": "code",
   "execution_count": null,
   "metadata": {},
   "outputs": [],
   "source": []
  },
  {
   "cell_type": "code",
   "execution_count": 34,
   "metadata": {},
   "outputs": [
    {
     "name": "stdout",
     "output_type": "stream",
     "text": [
      "        auc        exp_id gene_name model num_genes seed train_size\n",
      "0  0.677408  regnet_first      AAAS   MLP        50    0         50\n",
      "1  0.729813  regnet_first      AAAS   MLP        50    1         50\n",
      "2  0.665848  regnet_first      AAAS   MLP        50    2         50\n",
      "3  0.596413  regnet_first     AAGAB   MLP        50    0         50\n",
      "4  0.631581  regnet_first     AAGAB   MLP        50    1         50\n",
      "5  0.599762  regnet_first     AAGAB   MLP        50    2         50\n",
      "6  0.810825  regnet_first      ABAT   MLP        50    0         50\n",
      "7  0.735502  regnet_first      ABAT   MLP        50    1         50\n",
      "8  0.749584  regnet_first      ABAT   MLP        50    2         50\n",
      "9  0.602010  regnet_first     ABCD4   MLP        50    0         50\n",
      "        auc           exp_id gene_name model num_genes seed train_size\n",
      "0  0.668749  genemania_first      AAAS   MLP        50    0         50\n",
      "1  0.672332  genemania_first      AAAS   MLP        50    1         50\n",
      "2  0.532871  genemania_first      AAAS   MLP        50    2         50\n",
      "3  0.658281  genemania_first     AAGAB   MLP        50    0         50\n",
      "4  0.567624  genemania_first     AAGAB   MLP        50    1         50\n",
      "5  0.413058  genemania_first     AAGAB   MLP        50    2         50\n",
      "6  0.811515  genemania_first      ABAT   MLP        50    0         50\n",
      "7  0.714832  genemania_first      ABAT   MLP        50    1         50\n",
      "8  0.719079  genemania_first      ABAT   MLP        50    2         50\n",
      "9  0.385750  genemania_first     ABCD4   MLP        50    0         50\n"
     ]
    }
   ],
   "source": [
    "print df1[:10]\n",
    "print df2[:10]"
   ]
  },
  {
   "cell_type": "code",
   "execution_count": 35,
   "metadata": {},
   "outputs": [
    {
     "data": {
      "text/plain": [
       "array(['regnet_first', 'genemania_second', 'regnet_lr', 'genemania_lr',\n",
       "       'pathway_first', 'genemania', 'regnet_100', 'pathway_100',\n",
       "       'regnet', 'genemania_first', 'pathway', 'genemania_100',\n",
       "       'pathway_lr'], dtype=object)"
      ]
     },
     "execution_count": 35,
     "metadata": {},
     "output_type": "execute_result"
    }
   ],
   "source": [
    "agg_df['exp_id'].unique()"
   ]
  }
 ],
 "metadata": {
  "kernelspec": {
   "display_name": "Python 2",
   "language": "python",
   "name": "python2"
  },
  "language_info": {
   "codemirror_mode": {
    "name": "ipython",
    "version": 2
   },
   "file_extension": ".py",
   "mimetype": "text/x-python",
   "name": "python",
   "nbconvert_exporter": "python",
   "pygments_lexer": "ipython2",
   "version": "2.7.13"
  }
 },
 "nbformat": 4,
 "nbformat_minor": 2
}
