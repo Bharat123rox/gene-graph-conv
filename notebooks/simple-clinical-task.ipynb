{
 "cells": [
  {
   "cell_type": "code",
   "execution_count": 1,
   "metadata": {},
   "outputs": [],
   "source": [
    "import sys\n",
    "sys.path.append('../')\n",
    "\n",
    "import meta_dataloader.TCGA\n",
    "import meta_dataloader.utils\n",
    "import models.mlp, models.gcn\n",
    "import numpy as np\n",
    "import data.gene_graphs\n",
    "import collections\n",
    "import sklearn.metrics\n",
    "import sklearn.model_selection\n",
    "\n",
    "%load_ext autoreload\n",
    "%autoreload 2"
   ]
  },
  {
   "cell_type": "code",
   "execution_count": 2,
   "metadata": {},
   "outputs": [],
   "source": [
    "tasks = meta_dataloader.TCGA.TCGAMeta(download=True)"
   ]
  },
  {
   "cell_type": "code",
   "execution_count": null,
   "metadata": {},
   "outputs": [],
   "source": []
  },
  {
   "cell_type": "code",
   "execution_count": null,
   "metadata": {},
   "outputs": [],
   "source": []
  },
  {
   "cell_type": "code",
   "execution_count": 5,
   "metadata": {},
   "outputs": [
    {
     "name": "stdout",
     "output_type": "stream",
     "text": [
      "('Node_nature2012', 'BRCA')\n",
      "(791, 16300)\n",
      "(791,)\n",
      "Counter({0: 385, 1: 264, 2: 99, 3: 43})\n"
     ]
    }
   ],
   "source": [
    "task = tasks[18]\n",
    "print(task.id)\n",
    "print(task._samples.shape)\n",
    "print(np.asarray(task._labels).shape)\n",
    "print(collections.Counter(task._labels))"
   ]
  },
  {
   "cell_type": "code",
   "execution_count": 6,
   "metadata": {},
   "outputs": [
    {
     "name": "stderr",
     "output_type": "stream",
     "text": [
      "/Users/ieee8023/Library/Python/3.7/lib/python/site-packages/sklearn/model_selection/_split.py:2179: FutureWarning: From version 0.21, test_size will always complement train_size unless both are specified.\n",
      "  FutureWarning)\n"
     ]
    }
   ],
   "source": [
    "X_train, X_test, y_train, y_test = sklearn.model_selection.train_test_split(task._samples, \n",
    "                                                                            task._labels, \n",
    "                                                                            stratify=task._labels,\n",
    "                                                                            train_size=50,\n",
    "                                                                            shuffle=True,\n",
    "                                                                            random_state=0\n",
    "                                                                           )"
   ]
  },
  {
   "cell_type": "code",
   "execution_count": null,
   "metadata": {},
   "outputs": [],
   "source": []
  },
  {
   "cell_type": "code",
   "execution_count": 7,
   "metadata": {},
   "outputs": [
    {
     "name": "stdout",
     "output_type": "stream",
     "text": [
      "Early stopping metric is accuracy_score\n"
     ]
    }
   ],
   "source": [
    "model = models.mlp.MLP(name=\"MLP_lay2_chan512\", num_layer=2, channels=32, \n",
    "                       metric=sklearn.metrics.accuracy_score)\n"
   ]
  },
  {
   "cell_type": "code",
   "execution_count": 9,
   "metadata": {},
   "outputs": [
    {
     "name": "stdout",
     "output_type": "stream",
     "text": [
      "  batch (0/40)train loss:1.4485\n",
      "  batch (10/40)train loss:1.7593\n",
      "  batch (20/40)train loss:0.8636\n",
      "  batch (30/40)train loss:2.5160\n",
      "epoch: 0, time: 0.00, valid_metric: 0.50, train_metric: 0.47\n",
      "  batch (0/40)train loss:1.1351\n",
      "  batch (10/40)train loss:1.6471\n",
      "  batch (20/40)train loss:1.4191\n",
      "  batch (30/40)train loss:1.6239\n",
      "epoch: 1, time: 0.00, valid_metric: 0.30, train_metric: 0.35\n",
      "  batch (0/40)train loss:0.9753\n",
      "  batch (10/40)train loss:1.2319\n",
      "  batch (20/40)train loss:1.1354\n",
      "  batch (30/40)train loss:1.4713\n",
      "epoch: 2, time: 0.00, valid_metric: 0.50, train_metric: 0.47\n",
      "  batch (0/40)train loss:1.3273\n",
      "  batch (10/40)train loss:1.1436\n",
      "  batch (20/40)train loss:1.0292\n",
      "  batch (30/40)train loss:1.2251\n",
      "epoch: 3, time: 0.00, valid_metric: 0.50, train_metric: 0.53\n",
      "  batch (0/40)train loss:1.1108\n",
      "  batch (10/40)train loss:1.0720\n",
      "  batch (20/40)train loss:1.1779\n",
      "  batch (30/40)train loss:1.1855\n",
      "epoch: 4, time: 0.00, valid_metric: 0.50, train_metric: 0.47\n",
      "  batch (0/40)train loss:1.1189\n",
      "  batch (10/40)train loss:1.0490\n",
      "  batch (20/40)train loss:1.0190\n",
      "  batch (30/40)train loss:1.2054\n",
      "epoch: 5, time: 0.00, valid_metric: 0.50, train_metric: 0.47\n",
      "  batch (0/40)train loss:1.1068\n",
      "  batch (10/40)train loss:1.0387\n",
      "  batch (20/40)train loss:1.0450\n",
      "  batch (30/40)train loss:1.1704\n",
      "epoch: 6, time: 0.00, valid_metric: 0.50, train_metric: 0.47\n",
      "  batch (0/40)train loss:1.0756\n",
      "  batch (10/40)train loss:1.0356\n",
      "  batch (20/40)train loss:1.0137\n",
      "  batch (30/40)train loss:1.1737\n",
      "epoch: 7, time: 0.00, valid_metric: 0.50, train_metric: 0.47\n",
      "  batch (0/40)train loss:1.0797\n",
      "  batch (10/40)train loss:1.0299\n",
      "  batch (20/40)train loss:1.0048\n",
      "  batch (30/40)train loss:1.1656\n",
      "epoch: 8, time: 0.00, valid_metric: 0.50, train_metric: 0.53\n",
      "  batch (0/40)train loss:1.0315\n",
      "  batch (10/40)train loss:1.0366\n",
      "  batch (20/40)train loss:0.9900\n",
      "  batch (30/40)train loss:1.1598\n",
      "epoch: 9, time: 0.00, valid_metric: 0.50, train_metric: 0.50\n",
      "  batch (0/40)train loss:1.0541\n",
      "  batch (10/40)train loss:1.0006\n",
      "  batch (20/40)train loss:0.9690\n",
      "  batch (30/40)train loss:1.1084\n",
      "epoch: 10, time: 0.00, valid_metric: 0.50, train_metric: 0.55\n",
      "  batch (0/40)train loss:1.0407\n",
      "  batch (10/40)train loss:0.9727\n",
      "  batch (20/40)train loss:0.9907\n",
      "  batch (30/40)train loss:1.0897\n",
      "epoch: 11, time: 0.00, valid_metric: 0.50, train_metric: 0.53\n",
      "  batch (0/40)train loss:1.0409\n",
      "  batch (10/40)train loss:0.9613\n",
      "  batch (20/40)train loss:0.9641\n",
      "  batch (30/40)train loss:1.0822\n",
      "epoch: 12, time: 0.00, valid_metric: 0.50, train_metric: 0.50\n",
      "  batch (0/40)train loss:1.0403\n",
      "  batch (10/40)train loss:0.9469\n",
      "  batch (20/40)train loss:0.9287\n",
      "  batch (30/40)train loss:1.0578\n",
      "epoch: 13, time: 0.00, valid_metric: 0.50, train_metric: 0.60\n",
      "  batch (0/40)train loss:1.0084\n",
      "  batch (10/40)train loss:0.9354\n",
      "  batch (20/40)train loss:0.9545\n",
      "  batch (30/40)train loss:1.0390\n",
      "epoch: 14, time: 0.00, valid_metric: 0.50, train_metric: 0.57\n",
      "  batch (0/40)train loss:0.9944\n",
      "  batch (10/40)train loss:0.9443\n",
      "  batch (20/40)train loss:0.8800\n",
      "  batch (30/40)train loss:1.0666\n",
      "epoch: 15, time: 0.00, valid_metric: 0.50, train_metric: 0.60\n",
      "  batch (0/40)train loss:0.9720\n",
      "  batch (10/40)train loss:0.9321\n",
      "  batch (20/40)train loss:0.9011\n",
      "  batch (30/40)train loss:1.0243\n",
      "total train time:0.36 for epochs: 16\n"
     ]
    }
   ],
   "source": [
    "model.fit(X_train, y_train)"
   ]
  },
  {
   "cell_type": "code",
   "execution_count": null,
   "metadata": {},
   "outputs": [],
   "source": []
  },
  {
   "cell_type": "code",
   "execution_count": 10,
   "metadata": {},
   "outputs": [
    {
     "name": "stdout",
     "output_type": "stream",
     "text": [
      "0.48313090418353577\n"
     ]
    }
   ],
   "source": [
    "y_pred = model.predict(X_test)\n",
    "y_pred = np.argmax(y_pred,axis=1)\n",
    "print(sklearn.metrics.accuracy_score(y_test, y_pred))\n"
   ]
  },
  {
   "cell_type": "code",
   "execution_count": null,
   "metadata": {},
   "outputs": [],
   "source": []
  },
  {
   "cell_type": "code",
   "execution_count": null,
   "metadata": {},
   "outputs": [],
   "source": []
  },
  {
   "cell_type": "code",
   "execution_count": 11,
   "metadata": {},
   "outputs": [
    {
     "name": "stdout",
     "output_type": "stream",
     "text": [
      "Torrent name: genemania.pkl, Size: 9.61MB\n"
     ]
    }
   ],
   "source": [
    "graph = data.gene_graphs.GeneManiaGraph()\n",
    "adj = graph.adj()"
   ]
  },
  {
   "cell_type": "code",
   "execution_count": 12,
   "metadata": {},
   "outputs": [
    {
     "name": "stdout",
     "output_type": "stream",
     "text": [
      "Early stopping metric is accuracy_score\n"
     ]
    }
   ],
   "source": [
    "model = models.gcn.GCN(name=\"GCN_lay3_chan64_emb32_dropout_agg_hierarchy\", \n",
    "                       dropout=True, \n",
    "                       num_layer=4, \n",
    "                       channels=64, \n",
    "                       embedding=32, \n",
    "                       aggregation=\"hierarchy\",\n",
    "                       lr=0.0001,\n",
    "                       num_epochs=5\n",
    "                      )"
   ]
  },
  {
   "cell_type": "code",
   "execution_count": 14,
   "metadata": {},
   "outputs": [
    {
     "name": "stderr",
     "output_type": "stream",
     "text": [
      "/Users/ieee8023/Library/Python/3.7/lib/python/site-packages/scipy/sparse/compressed.py:708: SparseEfficiencyWarning: Changing the sparsity structure of a csr_matrix is expensive. lil_matrix is more efficient.\n",
      "  self[i, j] = values\n"
     ]
    },
    {
     "name": "stdout",
     "output_type": "stream",
     "text": [
      "Reducing graph by a factor of 2 to 8150 nodes\n",
      "Found cache for /Users/ieee8023/git/gene-graph-conv/.cache/hierarchicalb9a8a435080edb44dd7545b40248ef139ecffef54a4be93b3a89847e040373058150.npy\n",
      "Reducing graph by a factor of 2 to 4075 nodes\n",
      "Found cache for /Users/ieee8023/git/gene-graph-conv/.cache/hierarchicalbb9e42c8c4f9f496dd14aa64465f6321b54a97ddd7d02b7252ba9eebc32acdb14075.npy\n",
      "Reducing graph by a factor of 2 to 2037 nodes\n",
      "Found cache for /Users/ieee8023/git/gene-graph-conv/.cache/hierarchical9ce023dfad768dca97b2f9074706b0e7a41c70fa35014204c21d6665325cb2bb2037.npy\n",
      "Reducing graph by a factor of 2 to 1018 nodes\n",
      "Found cache for /Users/ieee8023/git/gene-graph-conv/.cache/hierarchicalc7e9ed6e28ab56bbbf992ab185873e96f035f1c695f8e8aba35af49c10ce58281018.npy\n",
      "  batch (0/40)train loss:1.3919\n",
      "  batch (10/40)train loss:1.3098\n",
      "  batch (20/40)train loss:1.1913\n",
      "  batch (30/40)train loss:1.2925\n",
      "epoch: 0, time: 7.44, valid_metric: 0.50, train_metric: 0.47\n",
      "  batch (0/40)train loss:1.1192\n",
      "  batch (10/40)train loss:1.1397\n",
      "  batch (20/40)train loss:0.9933\n",
      "  batch (30/40)train loss:1.3131\n",
      "epoch: 1, time: 8.24, valid_metric: 0.50, train_metric: 0.47\n",
      "  batch (0/40)train loss:1.1769\n",
      "  batch (10/40)train loss:1.1397\n",
      "  batch (20/40)train loss:0.9673\n",
      "  batch (30/40)train loss:1.3284\n",
      "epoch: 2, time: 7.71, valid_metric: 0.50, train_metric: 0.47\n",
      "  batch (0/40)train loss:1.1856\n",
      "  batch (10/40)train loss:1.1377\n",
      "  batch (20/40)train loss:1.0200\n",
      "  batch (30/40)train loss:1.2853\n",
      "epoch: 3, time: 7.69, valid_metric: 0.50, train_metric: 0.47\n",
      "  batch (0/40)train loss:1.1737\n",
      "  batch (10/40)train loss:1.1053\n",
      "  batch (20/40)train loss:1.0649\n",
      "  batch (30/40)train loss:1.2640\n",
      "epoch: 4, time: 7.98, valid_metric: 0.50, train_metric: 0.47\n",
      "total train time:104.53 for epochs: 4\n"
     ]
    }
   ],
   "source": [
    "model.fit(X_train, y_train, adj)"
   ]
  },
  {
   "cell_type": "code",
   "execution_count": null,
   "metadata": {},
   "outputs": [],
   "source": [
    "y_pred = model.predict(X_test)\n",
    "y_pred = np.argmax(y_pred,axis=1)\n",
    "print(sklearn.metrics.accuracy_score(y_test, y_pred))"
   ]
  },
  {
   "cell_type": "code",
   "execution_count": null,
   "metadata": {
    "scrolled": false
   },
   "outputs": [],
   "source": []
  },
  {
   "cell_type": "code",
   "execution_count": 40,
   "metadata": {},
   "outputs": [],
   "source": []
  },
  {
   "cell_type": "code",
   "execution_count": null,
   "metadata": {},
   "outputs": [],
   "source": []
  },
  {
   "cell_type": "code",
   "execution_count": null,
   "metadata": {},
   "outputs": [],
   "source": []
  },
  {
   "cell_type": "code",
   "execution_count": null,
   "metadata": {},
   "outputs": [],
   "source": []
  },
  {
   "cell_type": "code",
   "execution_count": null,
   "metadata": {},
   "outputs": [],
   "source": []
  },
  {
   "cell_type": "code",
   "execution_count": null,
   "metadata": {},
   "outputs": [],
   "source": []
  },
  {
   "cell_type": "code",
   "execution_count": null,
   "metadata": {},
   "outputs": [],
   "source": []
  },
  {
   "cell_type": "code",
   "execution_count": null,
   "metadata": {},
   "outputs": [],
   "source": []
  },
  {
   "cell_type": "code",
   "execution_count": null,
   "metadata": {},
   "outputs": [],
   "source": []
  },
  {
   "cell_type": "code",
   "execution_count": null,
   "metadata": {},
   "outputs": [],
   "source": []
  }
 ],
 "metadata": {
  "kernelspec": {
   "display_name": "Python 3",
   "language": "python",
   "name": "python3"
  },
  "language_info": {
   "codemirror_mode": {
    "name": "ipython",
    "version": 3
   },
   "file_extension": ".py",
   "mimetype": "text/x-python",
   "name": "python",
   "nbconvert_exporter": "python",
   "pygments_lexer": "ipython3",
   "version": "3.7.1"
  }
 },
 "nbformat": 4,
 "nbformat_minor": 2
}
