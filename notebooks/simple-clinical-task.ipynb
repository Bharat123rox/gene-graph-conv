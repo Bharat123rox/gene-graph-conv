{
 "cells": [
  {
   "cell_type": "code",
   "execution_count": 1,
   "metadata": {},
   "outputs": [],
   "source": [
    "import sys\n",
    "sys.path.append('../')\n",
    "\n",
    "import meta_dataloader.TCGA\n",
    "import models.mlp\n",
    "import numpy as np\n",
    "import collections\n",
    "\n",
    "%load_ext autoreload\n",
    "%autoreload 2"
   ]
  },
  {
   "cell_type": "code",
   "execution_count": 2,
   "metadata": {},
   "outputs": [],
   "source": [
    "tasks = meta_dataloader.TCGA.TCGAMeta(download=True)"
   ]
  },
  {
   "cell_type": "code",
   "execution_count": 3,
   "metadata": {},
   "outputs": [
    {
     "name": "stdout",
     "output_type": "stream",
     "text": [
      "('Node_nature2012', 'BRCA')\n",
      "(791, 16300)\n",
      "(791,)\n",
      "Counter({0: 385, 1: 264, 2: 99, 3: 43})\n"
     ]
    }
   ],
   "source": [
    "task = tasks[30]\n",
    "print(task.id)\n",
    "taskdata = task[:]\n",
    "print(taskdata[0].shape)\n",
    "print(np.asarray(taskdata[1]).shape)\n",
    "print(collections.Counter(taskdata[1]))"
   ]
  },
  {
   "cell_type": "code",
   "execution_count": 4,
   "metadata": {},
   "outputs": [],
   "source": [
    "import sklearn.metrics"
   ]
  },
  {
   "cell_type": "code",
   "execution_count": 5,
   "metadata": {},
   "outputs": [],
   "source": [
    "model = models.mlp.MLP(name=\"MLP_lay2_chan512\", num_layer=2, channels=512, \n",
    "                       metric=sklearn.metrics.accuracy_score)\n"
   ]
  },
  {
   "cell_type": "code",
   "execution_count": null,
   "metadata": {},
   "outputs": [],
   "source": []
  },
  {
   "cell_type": "code",
   "execution_count": 6,
   "metadata": {},
   "outputs": [
    {
     "name": "stdout",
     "output_type": "stream",
     "text": [
      "epoch: 0, time: 0.13, valid_auc: 0.38, train_auc: 0.42\n",
      "epoch: 1, time: 0.13, valid_auc: 0.48, train_auc: 0.49\n",
      "epoch: 2, time: 0.12, valid_auc: 0.48, train_auc: 0.49\n",
      "epoch: 3, time: 0.14, valid_auc: 0.48, train_auc: 0.49\n",
      "epoch: 4, time: 0.13, valid_auc: 0.48, train_auc: 0.49\n",
      "epoch: 5, time: 0.12, valid_auc: 0.48, train_auc: 0.49\n",
      "epoch: 6, time: 0.13, valid_auc: 0.48, train_auc: 0.49\n",
      "epoch: 7, time: 0.12, valid_auc: 0.48, train_auc: 0.49\n",
      "epoch: 8, time: 0.12, valid_auc: 0.45, train_auc: 0.54\n",
      "epoch: 9, time: 0.16, valid_auc: 0.45, train_auc: 0.55\n",
      "epoch: 10, time: 0.24, valid_auc: 0.48, train_auc: 0.50\n",
      "epoch: 11, time: 0.16, valid_auc: 0.46, train_auc: 0.55\n",
      "epoch: 12, time: 0.16, valid_auc: 0.45, train_auc: 0.57\n",
      "epoch: 13, time: 0.14, valid_auc: 0.44, train_auc: 0.57\n",
      "epoch: 14, time: 0.19, valid_auc: 0.46, train_auc: 0.57\n",
      "epoch: 15, time: 0.15, valid_auc: 0.44, train_auc: 0.57\n",
      "total train time:15.61 for epochs: 16\n"
     ]
    }
   ],
   "source": [
    "a = model.fit(taskdata[0], np.asarray(taskdata[1]))"
   ]
  },
  {
   "cell_type": "code",
   "execution_count": 33,
   "metadata": {},
   "outputs": [
    {
     "data": {
      "text/plain": [
       "(632, 4)"
      ]
     },
     "execution_count": 33,
     "metadata": {},
     "output_type": "execute_result"
    }
   ],
   "source": [
    "a[1].shape"
   ]
  },
  {
   "cell_type": "code",
   "execution_count": 43,
   "metadata": {},
   "outputs": [
    {
     "data": {
      "text/plain": [
       "2184"
      ]
     },
     "execution_count": 43,
     "metadata": {},
     "output_type": "execute_result"
    }
   ],
   "source": [
    "np.argmax(a[1])"
   ]
  },
  {
   "cell_type": "code",
   "execution_count": 44,
   "metadata": {},
   "outputs": [
    {
     "data": {
      "text/plain": [
       "0.4873417721518987"
      ]
     },
     "execution_count": 44,
     "metadata": {},
     "output_type": "execute_result"
    }
   ],
   "source": [
    "sklearn.metrics.accuracy_score(a[0], np.argmax(a[1], axis=1))"
   ]
  },
  {
   "cell_type": "code",
   "execution_count": null,
   "metadata": {},
   "outputs": [],
   "source": []
  },
  {
   "cell_type": "code",
   "execution_count": null,
   "metadata": {},
   "outputs": [],
   "source": []
  }
 ],
 "metadata": {
  "kernelspec": {
   "display_name": "Python 3",
   "language": "python",
   "name": "python3"
  },
  "language_info": {
   "codemirror_mode": {
    "name": "ipython",
    "version": 3
   },
   "file_extension": ".py",
   "mimetype": "text/x-python",
   "name": "python",
   "nbconvert_exporter": "python",
   "pygments_lexer": "ipython3",
   "version": "3.7.1"
  }
 },
 "nbformat": 4,
 "nbformat_minor": 2
}
