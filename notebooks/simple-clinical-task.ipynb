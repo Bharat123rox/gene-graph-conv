{
 "cells": [
  {
   "cell_type": "code",
   "execution_count": 1,
   "metadata": {},
   "outputs": [],
   "source": [
    "import sys\n",
    "sys.path.append('../')\n",
    "\n",
    "import meta_dataloader.TCGA\n",
    "import models.mlp, models.gcn\n",
    "import numpy as np\n",
    "import data.gene_graphs\n",
    "import collections\n",
    "import sklearn.metrics\n",
    "\n",
    "%load_ext autoreload\n",
    "%autoreload 2"
   ]
  },
  {
   "cell_type": "code",
   "execution_count": 2,
   "metadata": {},
   "outputs": [],
   "source": [
    "tasks = meta_dataloader.TCGA.TCGAMeta(download=True)"
   ]
  },
  {
   "cell_type": "code",
   "execution_count": 3,
   "metadata": {},
   "outputs": [
    {
     "name": "stdout",
     "output_type": "stream",
     "text": [
      "('barretts_esophagus', 'ESCA')\n",
      "(155, 16300)\n",
      "(155,)\n",
      "Counter({0: 124, 2: 21, 1: 10})\n"
     ]
    }
   ],
   "source": [
    "task = tasks[30]\n",
    "print(task.id)\n",
    "print(task._samples.shape)\n",
    "print(np.asarray(task._labels).shape)\n",
    "print(collections.Counter(task._labels))"
   ]
  },
  {
   "cell_type": "code",
   "execution_count": null,
   "metadata": {},
   "outputs": [],
   "source": []
  },
  {
   "cell_type": "code",
   "execution_count": null,
   "metadata": {},
   "outputs": [],
   "source": []
  },
  {
   "cell_type": "code",
   "execution_count": 4,
   "metadata": {},
   "outputs": [
    {
     "name": "stdout",
     "output_type": "stream",
     "text": [
      "Early stopping metric is accuracy_score\n"
     ]
    }
   ],
   "source": [
    "model = models.mlp.MLP(name=\"MLP_lay2_chan512\", num_layer=2, channels=512, \n",
    "                       metric=sklearn.metrics.accuracy_score)\n"
   ]
  },
  {
   "cell_type": "code",
   "execution_count": 5,
   "metadata": {},
   "outputs": [
    {
     "name": "stdout",
     "output_type": "stream",
     "text": [
      "Early stopping metric is accuracy_score\n",
      "Torrent name: genemania.pkl, Size: 9.61MB\n"
     ]
    }
   ],
   "source": [
    "model = models.gcn.GCN(name=\"GCN_lay3_chan64_emb32_dropout_agg_hierarchy\", \n",
    "                       dropout=True, \n",
    "                       num_layer=3, \n",
    "                       channels=64, \n",
    "                       embedding=32, \n",
    "                       aggregation=\"hierarchy\"\n",
    "                      )\n",
    "graph = data.gene_graphs.GeneManiaGraph()"
   ]
  },
  {
   "cell_type": "code",
   "execution_count": null,
   "metadata": {},
   "outputs": [],
   "source": [
    "adj = graph.adj()"
   ]
  },
  {
   "cell_type": "code",
   "execution_count": null,
   "metadata": {},
   "outputs": [],
   "source": []
  },
  {
   "cell_type": "code",
   "execution_count": null,
   "metadata": {
    "scrolled": false
   },
   "outputs": [
    {
     "name": "stderr",
     "output_type": "stream",
     "text": [
      "/Users/ieee8023/Library/Python/3.7/lib/python/site-packages/scipy/sparse/compressed.py:708: SparseEfficiencyWarning: Changing the sparsity structure of a csr_matrix is expensive. lil_matrix is more efficient.\n",
      "  self[i, j] = values\n"
     ]
    },
    {
     "name": "stdout",
     "output_type": "stream",
     "text": [
      "2\n",
      "8150\n",
      "Found cache for /Users/ieee8023/git/gene-graph-conv/.cache/hierarchicalb9a8a435080edb44dd7545b40248ef139ecffef54a4be93b3a89847e040373058150.npy\n",
      "2\n",
      "4075\n",
      "Found cache for /Users/ieee8023/git/gene-graph-conv/.cache/hierarchicalbb9e42c8c4f9f496dd14aa64465f6321b54a97ddd7d02b7252ba9eebc32acdb14075.npy\n",
      "2\n",
      "2037\n",
      "Found cache for /Users/ieee8023/git/gene-graph-conv/.cache/hierarchical9ce023dfad768dca97b2f9074706b0e7a41c70fa35014204c21d6665325cb2bb2037.npy\n",
      "epoch: 0, time: 40.49, valid_metric: 0.81, train_metric: 0.80\n",
      "epoch: 1, time: 40.63, valid_metric: 0.81, train_metric: 0.80\n",
      "epoch: 2, time: 41.53, valid_metric: 0.81, train_metric: 0.80\n",
      "epoch: 3, time: 39.97, valid_metric: 0.81, train_metric: 0.80\n",
      "epoch: 4, time: 39.75, valid_metric: 0.81, train_metric: 0.80\n",
      "epoch: 5, time: 40.25, valid_metric: 0.81, train_metric: 0.80\n"
     ]
    }
   ],
   "source": [
    "a = model.fit(task._samples, np.asarray(task._labels), adj)"
   ]
  },
  {
   "cell_type": "code",
   "execution_count": null,
   "metadata": {},
   "outputs": [],
   "source": []
  },
  {
   "cell_type": "code",
   "execution_count": null,
   "metadata": {},
   "outputs": [],
   "source": []
  },
  {
   "cell_type": "code",
   "execution_count": null,
   "metadata": {},
   "outputs": [],
   "source": []
  },
  {
   "cell_type": "code",
   "execution_count": null,
   "metadata": {},
   "outputs": [],
   "source": []
  },
  {
   "cell_type": "code",
   "execution_count": null,
   "metadata": {},
   "outputs": [],
   "source": []
  },
  {
   "cell_type": "code",
   "execution_count": null,
   "metadata": {},
   "outputs": [],
   "source": []
  },
  {
   "cell_type": "code",
   "execution_count": null,
   "metadata": {},
   "outputs": [],
   "source": []
  },
  {
   "cell_type": "code",
   "execution_count": null,
   "metadata": {},
   "outputs": [],
   "source": []
  },
  {
   "cell_type": "code",
   "execution_count": null,
   "metadata": {},
   "outputs": [],
   "source": []
  }
 ],
 "metadata": {
  "kernelspec": {
   "display_name": "Python 3",
   "language": "python",
   "name": "python3"
  },
  "language_info": {
   "codemirror_mode": {
    "name": "ipython",
    "version": 3
   },
   "file_extension": ".py",
   "mimetype": "text/x-python",
   "name": "python",
   "nbconvert_exporter": "python",
   "pygments_lexer": "ipython3",
   "version": "3.7.1"
  }
 },
 "nbformat": 4,
 "nbformat_minor": 2
}
