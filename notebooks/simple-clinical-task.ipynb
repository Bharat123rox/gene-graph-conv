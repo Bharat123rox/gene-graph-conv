{
 "cells": [
  {
   "cell_type": "code",
   "execution_count": 1,
   "metadata": {},
   "outputs": [],
   "source": [
    "import sys\n",
    "sys.path.append('../')\n",
    "\n",
    "import meta_dataloader.TCGA\n",
    "\n",
    "import models.mlp, models.gcn\n",
    "import numpy as np\n",
    "import data.gene_graphs\n",
    "import collections\n",
    "import sklearn.metrics\n",
    "import sklearn.model_selection\n",
    "\n",
    "%load_ext autoreload\n",
    "%autoreload 2"
   ]
  },
  {
   "cell_type": "code",
   "execution_count": 3,
   "metadata": {},
   "outputs": [],
   "source": [
    "tasks = meta_dataloader.TCGA.TCGAMeta(download=True, min_samples_per_class=10)"
   ]
  },
  {
   "cell_type": "code",
   "execution_count": null,
   "metadata": {},
   "outputs": [],
   "source": []
  },
  {
   "cell_type": "code",
   "execution_count": 11,
   "metadata": {
    "scrolled": false
   },
   "outputs": [],
   "source": [
    "# for i, task in enumerate(tasks):\n",
    "#     print (i, task.id, collections.Counter(task._labels))"
   ]
  },
  {
   "cell_type": "code",
   "execution_count": 12,
   "metadata": {},
   "outputs": [
    {
     "name": "stdout",
     "output_type": "stream",
     "text": [
      "('PAM50Call_RNAseq', 'BRCA')\n",
      "(956, 16300)\n",
      "(956,)\n",
      "Counter({2: 434, 3: 194, 0: 142, 4: 119, 1: 67})\n"
     ]
    }
   ],
   "source": [
    "task = tasks[113]\n",
    "print(task.id)\n",
    "print(task._samples.shape)\n",
    "print(np.asarray(task._labels).shape)\n",
    "print(collections.Counter(task._labels))"
   ]
  },
  {
   "cell_type": "code",
   "execution_count": 18,
   "metadata": {},
   "outputs": [],
   "source": [
    "X_train, X_test, y_train, y_test = sklearn.model_selection.train_test_split(task._samples, \n",
    "                                                                            task._labels, \n",
    "                                                                            stratify=task._labels,\n",
    "                                                                            train_size=50,\n",
    "                                                                            test_size=100,\n",
    "                                                                            shuffle=True,\n",
    "                                                                            random_state=0\n",
    "                                                                           )"
   ]
  },
  {
   "cell_type": "code",
   "execution_count": null,
   "metadata": {},
   "outputs": [],
   "source": []
  },
  {
   "cell_type": "code",
   "execution_count": 25,
   "metadata": {},
   "outputs": [
    {
     "name": "stdout",
     "output_type": "stream",
     "text": [
      "Early stopping metric is accuracy_score\n"
     ]
    }
   ],
   "source": [
    "model = models.mlp.MLP(name=\"MLP_lay2_chan512\", num_layer=2, channels=512, \n",
    "                       metric=sklearn.metrics.accuracy_score)\n"
   ]
  },
  {
   "cell_type": "code",
   "execution_count": 26,
   "metadata": {},
   "outputs": [
    {
     "name": "stdout",
     "output_type": "stream",
     "text": [
      "  batch (0/40), train loss:1.9428\n",
      "  batch (10/40), train loss:5.3253\n",
      "  batch (20/40), train loss:4.2757\n",
      "  batch (30/40), train loss:2.3530\n",
      "epoch: 0, time: 0.04, valid_metric: 0.10, train_metric: 0.15\n",
      "  batch (0/40), train loss:2.0514\n",
      "  batch (10/40), train loss:1.7768\n",
      "  batch (20/40), train loss:2.8266\n",
      "  batch (30/40), train loss:2.3317\n",
      "epoch: 1, time: 0.04, valid_metric: 0.50, train_metric: 0.45\n",
      "  batch (0/40), train loss:1.2759\n",
      "  batch (10/40), train loss:1.8102\n",
      "  batch (20/40), train loss:1.5561\n",
      "  batch (30/40), train loss:1.1205\n",
      "epoch: 2, time: 0.04, valid_metric: 0.50, train_metric: 0.60\n",
      "  batch (0/40), train loss:1.3134\n",
      "  batch (10/40), train loss:1.2790\n",
      "  batch (20/40), train loss:1.3623\n",
      "  batch (30/40), train loss:1.6651\n",
      "epoch: 3, time: 0.04, valid_metric: 0.30, train_metric: 0.65\n",
      "  batch (0/40), train loss:1.1341\n",
      "  batch (10/40), train loss:1.0878\n",
      "  batch (20/40), train loss:1.2404\n",
      "  batch (30/40), train loss:0.9274\n",
      "epoch: 4, time: 0.04, valid_metric: 0.60, train_metric: 0.60\n",
      "  batch (0/40), train loss:1.1252\n",
      "  batch (10/40), train loss:1.1332\n",
      "  batch (20/40), train loss:1.2430\n",
      "  batch (30/40), train loss:0.9927\n",
      "epoch: 5, time: 0.04, valid_metric: 0.60, train_metric: 0.70\n",
      "  batch (0/40), train loss:0.8769\n",
      "  batch (10/40), train loss:0.8865\n",
      "  batch (20/40), train loss:0.8622\n",
      "  batch (30/40), train loss:0.8451\n",
      "epoch: 6, time: 0.04, valid_metric: 0.60, train_metric: 0.80\n",
      "  batch (0/40), train loss:0.7830\n",
      "  batch (10/40), train loss:0.9114\n",
      "  batch (20/40), train loss:0.9873\n",
      "  batch (30/40), train loss:0.6469\n",
      "epoch: 7, time: 0.04, valid_metric: 0.70, train_metric: 0.82\n",
      "  batch (0/40), train loss:0.7243\n",
      "  batch (10/40), train loss:0.7236\n",
      "  batch (20/40), train loss:0.7652\n",
      "  batch (30/40), train loss:0.6660\n",
      "epoch: 8, time: 0.04, valid_metric: 0.70, train_metric: 0.90\n",
      "  batch (0/40), train loss:0.6283\n",
      "  batch (10/40), train loss:0.7439\n",
      "  batch (20/40), train loss:0.6372\n",
      "  batch (30/40), train loss:0.5390\n",
      "epoch: 9, time: 0.04, valid_metric: 0.60, train_metric: 0.88\n",
      "  batch (0/40), train loss:0.5683\n",
      "  batch (10/40), train loss:0.6416\n",
      "  batch (20/40), train loss:0.6823\n",
      "  batch (30/40), train loss:0.4604\n",
      "epoch: 10, time: 0.04, valid_metric: 0.60, train_metric: 0.95\n",
      "  batch (0/40), train loss:0.5055\n",
      "  batch (10/40), train loss:0.6003\n",
      "  batch (20/40), train loss:0.4941\n",
      "  batch (30/40), train loss:0.5006\n",
      "epoch: 11, time: 0.04, valid_metric: 0.60, train_metric: 0.95\n",
      "  batch (0/40), train loss:0.4523\n",
      "  batch (10/40), train loss:0.5534\n",
      "  batch (20/40), train loss:0.5110\n",
      "  batch (30/40), train loss:0.3642\n",
      "epoch: 12, time: 0.04, valid_metric: 0.70, train_metric: 0.97\n",
      "  batch (0/40), train loss:0.4220\n",
      "  batch (10/40), train loss:0.4921\n",
      "  batch (20/40), train loss:0.4414\n",
      "  batch (30/40), train loss:0.3894\n",
      "epoch: 13, time: 0.04, valid_metric: 0.70, train_metric: 0.97\n",
      "  batch (0/40), train loss:0.3973\n",
      "  batch (10/40), train loss:0.4850\n",
      "  batch (20/40), train loss:0.3886\n",
      "  batch (30/40), train loss:0.3261\n",
      "epoch: 14, time: 0.04, valid_metric: 0.70, train_metric: 0.97\n",
      "  batch (0/40), train loss:0.3500\n",
      "  batch (10/40), train loss:0.4395\n",
      "  batch (20/40), train loss:0.3749\n",
      "  batch (30/40), train loss:0.2925\n",
      "epoch: 15, time: 0.04, valid_metric: 0.70, train_metric: 0.97\n",
      "  batch (0/40), train loss:0.3136\n",
      "  batch (10/40), train loss:0.4035\n",
      "  batch (20/40), train loss:0.2854\n",
      "  batch (30/40), train loss:0.2726\n",
      "epoch: 16, time: 0.04, valid_metric: 0.70, train_metric: 0.97\n",
      "  batch (0/40), train loss:0.2734\n",
      "  batch (10/40), train loss:0.3517\n",
      "  batch (20/40), train loss:0.2860\n",
      "  batch (30/40), train loss:0.2174\n",
      "total train time:5.99 for epochs: 17\n"
     ]
    }
   ],
   "source": [
    "model.fit(X_train, y_train)"
   ]
  },
  {
   "cell_type": "code",
   "execution_count": null,
   "metadata": {},
   "outputs": [],
   "source": []
  },
  {
   "cell_type": "code",
   "execution_count": 27,
   "metadata": {},
   "outputs": [
    {
     "name": "stdout",
     "output_type": "stream",
     "text": [
      "0.84\n"
     ]
    }
   ],
   "source": [
    "y_pred = model.predict(X_test)\n",
    "y_pred = np.argmax(y_pred,axis=1)\n",
    "print(sklearn.metrics.accuracy_score(y_test, y_pred))\n"
   ]
  },
  {
   "cell_type": "code",
   "execution_count": null,
   "metadata": {},
   "outputs": [],
   "source": []
  },
  {
   "cell_type": "code",
   "execution_count": null,
   "metadata": {},
   "outputs": [],
   "source": []
  },
  {
   "cell_type": "code",
   "execution_count": 31,
   "metadata": {},
   "outputs": [
    {
     "name": "stdout",
     "output_type": "stream",
     "text": [
      "Torrent name: genemania.pkl, Size: 9.61MB\n"
     ]
    }
   ],
   "source": [
    "graph = data.gene_graphs.GeneManiaGraph()\n",
    "adj = graph.adj()"
   ]
  },
  {
   "cell_type": "code",
   "execution_count": 36,
   "metadata": {},
   "outputs": [
    {
     "name": "stdout",
     "output_type": "stream",
     "text": [
      "Early stopping metric is accuracy_score\n"
     ]
    }
   ],
   "source": [
    "model = models.gcn.GCN(name=\"GCN_lay3_chan64_emb32_dropout_agg_hierarchy\", \n",
    "                       dropout=True, \n",
    "                       cuda=True,\n",
    "                       num_layer=4, \n",
    "                       channels=64, \n",
    "                       embedding=32, \n",
    "                       aggregation=\"hierarchy\",\n",
    "                       lr=0.0001,\n",
    "                       num_epochs=5\n",
    "                      )"
   ]
  },
  {
   "cell_type": "code",
   "execution_count": 37,
   "metadata": {},
   "outputs": [
    {
     "name": "stderr",
     "output_type": "stream",
     "text": [
      "/network/home/cohenjos/.local/lib/python3.6/site-packages/scipy/sparse/compressed.py:708: SparseEfficiencyWarning: Changing the sparsity structure of a csr_matrix is expensive. lil_matrix is more efficient.\n",
      "  self[i, j] = values\n"
     ]
    },
    {
     "name": "stdout",
     "output_type": "stream",
     "text": [
      "Reducing graph by a factor of 2 to 8150 nodes\n",
      "Found cache for /network/tmp1/cohenjos/workspace/gene-graph-conv/.cache/hierarchicalb9a8a435080edb44dd7545b40248ef139ecffef54a4be93b3a89847e040373058150.npy\n",
      "Reducing graph by a factor of 2 to 4075 nodes\n",
      "Found cache for /network/tmp1/cohenjos/workspace/gene-graph-conv/.cache/hierarchicalbb9e42c8c4f9f496dd14aa64465f6321b54a97ddd7d02b7252ba9eebc32acdb14075.npy\n",
      "Reducing graph by a factor of 2 to 2037 nodes\n",
      "Found cache for /network/tmp1/cohenjos/workspace/gene-graph-conv/.cache/hierarchical9ce023dfad768dca97b2f9074706b0e7a41c70fa35014204c21d6665325cb2bb2037.npy\n",
      "Reducing graph by a factor of 2 to 1018 nodes\n",
      "Found cache for /network/tmp1/cohenjos/workspace/gene-graph-conv/.cache/hierarchicalc7e9ed6e28ab56bbbf992ab185873e96f035f1c695f8e8aba35af49c10ce58281018.npy\n",
      "  batch (0/40), train loss:1.6127\n",
      "  batch (10/40), train loss:1.5421\n",
      "  batch (20/40), train loss:1.5493\n",
      "  batch (30/40), train loss:1.5158\n",
      "epoch: 0, time: 0.28, valid_metric: 0.50, train_metric: 0.45\n",
      "  batch (0/40), train loss:1.4057\n",
      "  batch (10/40), train loss:1.3455\n",
      "  batch (20/40), train loss:1.5304\n",
      "  batch (30/40), train loss:1.4861\n",
      "epoch: 1, time: 0.28, valid_metric: 0.50, train_metric: 0.45\n",
      "  batch (0/40), train loss:1.3531\n",
      "  batch (10/40), train loss:1.3269\n",
      "  batch (20/40), train loss:1.5662\n",
      "  batch (30/40), train loss:1.4844\n",
      "epoch: 2, time: 0.27, valid_metric: 0.50, train_metric: 0.45\n",
      "  batch (0/40), train loss:1.3746\n",
      "  batch (10/40), train loss:1.3352\n",
      "  batch (20/40), train loss:1.5749\n",
      "  batch (30/40), train loss:1.4501\n",
      "epoch: 3, time: 0.27, valid_metric: 0.50, train_metric: 0.45\n",
      "  batch (0/40), train loss:1.3740\n",
      "  batch (10/40), train loss:1.3362\n",
      "  batch (20/40), train loss:1.5670\n",
      "  batch (30/40), train loss:1.4283\n",
      "epoch: 4, time: 0.27, valid_metric: 0.50, train_metric: 0.45\n",
      "total train time:5.14 for epochs: 4\n"
     ]
    }
   ],
   "source": [
    "model.fit(X_train, y_train, adj)"
   ]
  },
  {
   "cell_type": "code",
   "execution_count": 40,
   "metadata": {},
   "outputs": [
    {
     "name": "stdout",
     "output_type": "stream",
     "text": [
      "0.45\n"
     ]
    }
   ],
   "source": [
    "y_pred = model.predict(X_test)\n",
    "y_pred = np.argmax(y_pred,axis=1)\n",
    "print(sklearn.metrics.accuracy_score(y_test, y_pred))"
   ]
  },
  {
   "cell_type": "code",
   "execution_count": null,
   "metadata": {
    "scrolled": false
   },
   "outputs": [],
   "source": []
  },
  {
   "cell_type": "code",
   "execution_count": 40,
   "metadata": {},
   "outputs": [],
   "source": []
  },
  {
   "cell_type": "code",
   "execution_count": null,
   "metadata": {},
   "outputs": [],
   "source": []
  },
  {
   "cell_type": "code",
   "execution_count": null,
   "metadata": {},
   "outputs": [],
   "source": []
  },
  {
   "cell_type": "code",
   "execution_count": null,
   "metadata": {},
   "outputs": [],
   "source": []
  },
  {
   "cell_type": "code",
   "execution_count": null,
   "metadata": {},
   "outputs": [],
   "source": []
  },
  {
   "cell_type": "code",
   "execution_count": null,
   "metadata": {},
   "outputs": [],
   "source": []
  },
  {
   "cell_type": "code",
   "execution_count": null,
   "metadata": {},
   "outputs": [],
   "source": []
  },
  {
   "cell_type": "code",
   "execution_count": null,
   "metadata": {},
   "outputs": [],
   "source": []
  },
  {
   "cell_type": "code",
   "execution_count": null,
   "metadata": {},
   "outputs": [],
   "source": []
  },
  {
   "cell_type": "code",
   "execution_count": null,
   "metadata": {},
   "outputs": [],
   "source": []
  }
 ],
 "metadata": {
  "kernelspec": {
   "display_name": "Python 3",
   "language": "python",
   "name": "python3"
  },
  "language_info": {
   "codemirror_mode": {
    "name": "ipython",
    "version": 3
   },
   "file_extension": ".py",
   "mimetype": "text/x-python",
   "name": "python",
   "nbconvert_exporter": "python",
   "pygments_lexer": "ipython3",
   "version": "3.6.7"
  }
 },
 "nbformat": 4,
 "nbformat_minor": 2
}
