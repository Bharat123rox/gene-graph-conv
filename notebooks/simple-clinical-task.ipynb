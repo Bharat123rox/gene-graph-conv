{
 "cells": [
  {
   "cell_type": "code",
   "execution_count": 1,
   "metadata": {},
   "outputs": [],
   "source": [
    "import sys\n",
    "sys.path.append('../')\n",
    "\n",
    "import meta_dataloader.TCGA\n",
    "import models.mlp, models.gcn\n",
    "import numpy as np\n",
    "import data.gene_graphs\n",
    "import collections\n",
    "\n",
    "%load_ext autoreload\n",
    "%autoreload 2"
   ]
  },
  {
   "cell_type": "code",
   "execution_count": 2,
   "metadata": {},
   "outputs": [],
   "source": [
    "tasks = meta_dataloader.TCGA.TCGAMeta(download=True)"
   ]
  },
  {
   "cell_type": "code",
   "execution_count": 3,
   "metadata": {},
   "outputs": [
    {
     "name": "stdout",
     "output_type": "stream",
     "text": [
      "('PAM50Call_RNAseq', 'BRCA')\n",
      "(956, 16300)\n",
      "(956,)\n",
      "Counter({2: 434, 3: 194, 0: 142, 4: 119, 1: 67})\n"
     ]
    }
   ],
   "source": [
    "task = tasks[30]\n",
    "print(task.id)\n",
    "taskdata = task[:]\n",
    "print(taskdata[0].shape)\n",
    "print(np.asarray(taskdata[1]).shape)\n",
    "print(collections.Counter(taskdata[1]))"
   ]
  },
  {
   "cell_type": "code",
   "execution_count": 4,
   "metadata": {},
   "outputs": [],
   "source": [
    "import sklearn.metrics"
   ]
  },
  {
   "cell_type": "code",
   "execution_count": 5,
   "metadata": {},
   "outputs": [],
   "source": [
    "model = models.mlp.MLP(name=\"MLP_lay2_chan512\", num_layer=2, channels=512, \n",
    "                       metric=sklearn.metrics.accuracy_score)\n"
   ]
  },
  {
   "cell_type": "code",
   "execution_count": 6,
   "metadata": {},
   "outputs": [
    {
     "name": "stdout",
     "output_type": "stream",
     "text": [
      "Torrent name: genemania.pkl, Size: 9.61MB\n"
     ]
    }
   ],
   "source": [
    "model = models.gcn.GCN(name=\"GCN_lay3_chan64_emb32_dropout_agg_hierarchy\", \n",
    "                       dropout=True, \n",
    "                       num_layer=3, \n",
    "                       channels=64, \n",
    "                       embedding=32, \n",
    "                       aggregation=\"hierarchy\"\n",
    "                      )\n",
    "graph = data.gene_graphs.GeneManiaGraph()"
   ]
  },
  {
   "cell_type": "code",
   "execution_count": 7,
   "metadata": {},
   "outputs": [],
   "source": [
    "adj = np.asarray(graph.adj())"
   ]
  },
  {
   "cell_type": "code",
   "execution_count": null,
   "metadata": {},
   "outputs": [],
   "source": []
  },
  {
   "cell_type": "code",
   "execution_count": null,
   "metadata": {
    "scrolled": false
   },
   "outputs": [
    {
     "name": "stderr",
     "output_type": "stream",
     "text": [
      "/Users/martinweiss/miniconda3/lib/python3.7/site-packages/scipy/sparse/compressed.py:746: SparseEfficiencyWarning: Changing the sparsity structure of a csr_matrix is expensive. lil_matrix is more efficient.\n",
      "  SparseEfficiencyWarning)\n"
     ]
    },
    {
     "name": "stdout",
     "output_type": "stream",
     "text": [
      "2\n",
      "8150\n",
      "Found cache for /Users/martinweiss/code/academic/gene-graph-conv/.cache/hierarchicalb9a8a435080edb44dd7545b40248ef139ecffef54a4be93b3a89847e040373058150.npy\n",
      "2\n",
      "4075\n",
      "No cache for /Users/martinweiss/code/academic/gene-graph-conv/.cache/hierarchicalbb9e42c8c4f9f496dd14aa64465f6321b54a97ddd7d02b7252ba9eebc32acdb14075.npy\n"
     ]
    },
    {
     "name": "stderr",
     "output_type": "stream",
     "text": [
      "/Users/martinweiss/miniconda3/lib/python3.7/site-packages/sklearn/cluster/hierarchical.py:243: UserWarning: the number of connected components of the connectivity matrix is 301 > 1. Completing it to avoid stopping the tree early.\n",
      "  affinity='euclidean')\n"
     ]
    }
   ],
   "source": [
    "a = model.fit(taskdata[0], np.asarray(taskdata[1]), adj)"
   ]
  },
  {
   "cell_type": "code",
   "execution_count": null,
   "metadata": {},
   "outputs": [],
   "source": []
  },
  {
   "cell_type": "code",
   "execution_count": null,
   "metadata": {},
   "outputs": [],
   "source": []
  },
  {
   "cell_type": "code",
   "execution_count": null,
   "metadata": {},
   "outputs": [],
   "source": []
  },
  {
   "cell_type": "code",
   "execution_count": null,
   "metadata": {},
   "outputs": [],
   "source": []
  },
  {
   "cell_type": "code",
   "execution_count": null,
   "metadata": {},
   "outputs": [],
   "source": []
  },
  {
   "cell_type": "code",
   "execution_count": null,
   "metadata": {},
   "outputs": [],
   "source": []
  },
  {
   "cell_type": "code",
   "execution_count": null,
   "metadata": {},
   "outputs": [],
   "source": []
  },
  {
   "cell_type": "code",
   "execution_count": null,
   "metadata": {},
   "outputs": [],
   "source": []
  },
  {
   "cell_type": "code",
   "execution_count": null,
   "metadata": {},
   "outputs": [],
   "source": []
  }
 ],
 "metadata": {
  "kernelspec": {
   "display_name": "Python 3",
   "language": "python",
   "name": "python3"
  },
  "language_info": {
   "codemirror_mode": {
    "name": "ipython",
    "version": 3
   },
   "file_extension": ".py",
   "mimetype": "text/x-python",
   "name": "python",
   "nbconvert_exporter": "python",
   "pygments_lexer": "ipython3",
   "version": "3.7.1"
  }
 },
 "nbformat": 4,
 "nbformat_minor": 2
}
