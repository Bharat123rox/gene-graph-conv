{
 "cells": [
  {
   "cell_type": "code",
   "execution_count": 1,
   "metadata": {
    "scrolled": true
   },
   "outputs": [],
   "source": [
    "# This file generates the data for Figure #4 from the paper https://arxiv.org/pdf/1806.06975.pdf\n",
    "import sys\n",
    "sys.path.append('../')\n",
    "\n",
    "import os\n",
    "import sys\n",
    "import pickle\n",
    "import argparse\n",
    "import networkx as nx\n",
    "\n",
    "import pandas as pd\n",
    "import numpy as np\n",
    "\n",
    "import itertools\n",
    "import sklearn\n",
    "import torch\n",
    "import datetime\n",
    "import matplotlib, matplotlib.pyplot as plt\n",
    "\n",
    "from torch.autograd import Variable\n",
    "\n",
    "from models.mlp import MLP\n",
    "from data import datasets\n",
    "from data.gene_graphs import GeneManiaGraph, RegNetGraph\n",
    "from data.utils import record_result"
   ]
  },
  {
   "cell_type": "code",
   "execution_count": 2,
   "metadata": {},
   "outputs": [
    {
     "name": "stdout",
     "output_type": "stream",
     "text": [
      "Converting one-hot labels to integers\n"
     ]
    }
   ],
   "source": [
    "dataset = datasets.TCGADataset()\n",
    "dataset.df = dataset.df - dataset.df.mean(axis=0)"
   ]
  },
  {
   "cell_type": "code",
   "execution_count": 3,
   "metadata": {},
   "outputs": [],
   "source": [
    "graphs = {\"regnet\": RegNetGraph(), \"genemania\": GeneManiaGraph()}\n"
   ]
  },
  {
   "cell_type": "code",
   "execution_count": 4,
   "metadata": {},
   "outputs": [
    {
     "name": "stdout",
     "output_type": "stream",
     "text": [
      "Loaded Checkpointed Results\n"
     ]
    }
   ],
   "source": [
    "# Setup the results dictionary\n",
    "filename = \"experiments/results/fig-4.pkl\"\n",
    "try:\n",
    "    results = pickle.load(open(filename, \"rb\"), encoding='latin1')\n",
    "    print(\"Loaded Checkpointed Results\")\n",
    "except Exception as e:\n",
    "    print(e)\n",
    "    results = pd.DataFrame(columns=['auc', 'gene', 'model', 'graph', 'is_first_degree', 'seed', 'train_size'])\n",
    "    print(\"Created a New Results Dictionary\")\n"
   ]
  },
  {
   "cell_type": "code",
   "execution_count": 6,
   "metadata": {},
   "outputs": [
    {
     "name": "stdout",
     "output_type": "stream",
     "text": [
      "Early stopping metric is accuracy_score\n"
     ]
    }
   ],
   "source": [
    "train_size = 50\n",
    "test_size = 1000\n",
    "trials = 3\n",
    "cuda = torch.cuda.is_available()\n",
    "models = {\"BasicMLP\": MLP(column_names=dataset.df.columns, dropout=False, cuda=cuda)}\n"
   ]
  },
  {
   "cell_type": "code",
   "execution_count": 7,
   "metadata": {},
   "outputs": [
    {
     "name": "stdout",
     "output_type": "stream",
     "text": [
      "todo: 195582\n",
      "done: 33\n"
     ]
    }
   ],
   "source": [
    "# Create the set of all experiment ids and see which are left to do\n",
    "columns = [\"gene\", \"graph\", \"model\", \"seed\", \"is_first_degree\", \"train_size\"]\n",
    "all_exp_ids = [x for x in itertools.product(dataset.df.columns, graphs.keys(), models.keys(), range(trials), [True, False], [train_size])]\n",
    "all_exp_ids = pd.DataFrame(all_exp_ids, columns=columns)\n",
    "all_exp_ids.index = [\"-\".join(map(str, tup[1:])) for tup in all_exp_ids.itertuples(name=None)]\n",
    "results_exp_ids = results[columns].copy()\n",
    "results_exp_ids.index = [\"-\".join(map(str, tup[1:])) for tup in results_exp_ids.itertuples(name=None)]\n",
    "intersection_ids = all_exp_ids.index.intersection(results_exp_ids.index)\n",
    "todo = all_exp_ids.drop(intersection_ids).to_dict(orient=\"records\")\n",
    "\n",
    "print(\"todo: \" + str(len(todo)))\n",
    "print(\"done: \" + str(len(results)))"
   ]
  },
  {
   "cell_type": "code",
   "execution_count": 8,
   "metadata": {},
   "outputs": [
    {
     "name": "stdout",
     "output_type": "stream",
     "text": [
      "> <ipython-input-8-3986c454a6da>(39)<module>()\n",
      "-> try:\n"
     ]
    },
    {
     "name": "stdin",
     "output_type": "stream",
     "text": [
      "(Pdb)  X_test\n"
     ]
    },
    {
     "name": "stdout",
     "output_type": "stream",
     "text": [
      "         UBE2D3     PCDH1    SMURF1    PNPLA7     NCOA4     HNF1A     NR3C1  \\\n",
      "7246  -0.473352  2.653886  0.946980 -0.294421  0.438716  4.123668 -1.566019   \n",
      "821    0.051548 -4.321514 -1.341520 -2.936721 -2.021585 -0.445932 -0.274519   \n",
      "10189 -0.715652  0.561687  0.186680 -1.977421 -0.080585  0.162467 -1.568519   \n",
      "8087   0.158547 -3.364014 -2.395320  3.334679 -1.703884 -2.890832 -0.369419   \n",
      "8947  -0.365052  2.431186  1.078880 -2.312421  0.690215 -0.453332 -0.034819   \n",
      "5434  -0.743953  1.376786  0.234780 -0.631521  0.516416 -0.228033 -1.254418   \n",
      "1161  -0.113452  0.204886 -0.197420 -0.432721  0.487915 -1.538133  0.443981   \n",
      "2644   0.212748  2.039586 -0.115820 -0.251521 -0.194684  3.905567 -3.739919   \n",
      "1833  -0.463552  0.190286 -0.175820  0.399179 -0.153484 -0.716033  0.576081   \n",
      "4223  -0.144452 -0.123414 -0.234420  3.746879  0.854416 -1.706632  0.697381   \n",
      "3217  -0.345153 -2.728614 -0.480220 -0.337821  0.352316 -0.880932  0.960781   \n",
      "6708  -0.122602 -0.057514 -0.542920  0.856429 -0.451035 -0.679482 -0.035719   \n",
      "1179   0.185348  0.764687  0.127980 -1.703421  0.019316  3.926667 -1.439419   \n",
      "10010  0.448148  0.147886  0.947080 -3.720521  0.936715  0.698368  0.654282   \n",
      "8391   0.102048 -1.670814 -0.547720  0.286479 -1.031984  2.175868  0.202682   \n",
      "4101   0.495647 -0.802013  0.719680  0.122679  0.469815 -1.504433  0.387582   \n",
      "3878   0.246748  0.230886 -0.804220  3.831179  0.444016 -1.652732 -0.160819   \n",
      "5167  -0.036753  0.977286 -0.434320 -0.017121 -0.393584 -1.451132 -0.003718   \n",
      "9054  -0.001852  0.454786  0.045880 -0.666321  0.042616 -2.037832  0.075881   \n",
      "2224  -0.137352  1.137886  0.067880  1.100379  0.124215  2.020967 -0.050118   \n",
      "2389   0.021547 -3.438314  1.078080 -2.032121 -0.032684 -0.417432  0.440981   \n",
      "778    0.331947  1.247586 -0.125820  1.515479 -0.613785 -0.943132 -0.320919   \n",
      "5531   0.001147  0.691986  0.623179 -1.309021 -0.322084 -0.902533  0.256681   \n",
      "2892   0.105847  0.417386 -0.070820  0.046579  0.622315 -2.217232  0.467881   \n",
      "6096   1.238348  0.398986  0.991480  0.824279  0.239515 -2.235733  0.362381   \n",
      "4386  -0.099452  1.155186 -0.067520  0.318979  0.543216 -1.763332  0.068981   \n",
      "3553  -0.502353 -2.913114  0.318380 -1.389021 -0.927485 -1.313532  0.455281   \n",
      "4480   0.150847 -0.008114 -0.543820  1.970279 -0.343385 -2.414633 -0.198619   \n",
      "4136   0.546747  0.730886 -0.943920 -2.368221 -0.376584 -0.249732  0.054881   \n",
      "967   -0.108152  0.129187  0.916480  1.102379 -0.489585 -2.009632  0.422281   \n",
      "...         ...       ...       ...       ...       ...       ...       ...   \n",
      "4714  -0.620152  1.617086  0.523280 -2.908621 -0.259185 -1.025932  0.393581   \n",
      "1236   0.557148  0.459086 -0.480620 -1.931121 -0.068085 -2.662732  0.559181   \n",
      "8758  -0.013653  0.855287 -0.405220  3.873479  0.317716 -0.602832 -0.425919   \n",
      "3855  -0.232753 -0.592914 -0.230721 -3.858321 -1.183484 -2.295832 -1.158019   \n",
      "3387  -0.640452  1.013586 -0.628320  1.766479 -0.688885 -0.764332  0.376581   \n",
      "6285   1.072847  0.994186  1.371480 -2.093021 -0.719284 -1.674432  0.751882   \n",
      "9384   0.345048  1.136686 -0.017520  0.079879  0.679115  3.296468  2.117882   \n",
      "814   -0.457453 -0.107214 -1.085720  2.434978 -1.133684 -0.906433  0.673882   \n",
      "419    0.465748  2.217286  1.293880 -1.288421  0.652616  2.348368  0.707281   \n",
      "7725   0.027147  0.453886 -0.544520  2.786078  0.441216 -1.604632 -0.045319   \n",
      "1786   0.496947 -0.658414  0.146280  1.579279  0.565315  3.448668  1.184781   \n",
      "320    0.525948  1.112186  0.131380  0.205879 -0.002085 -1.532533 -0.316319   \n",
      "129   -0.152553 -0.380614 -0.196520 -0.178021  0.689715 -1.437232  1.365481   \n",
      "6093  -0.282152 -0.042213 -0.741820  0.155679 -0.825584 -1.336732  0.523582   \n",
      "5449   0.432148 -0.432613  0.182780  1.506879  0.235915 -1.226732  0.582682   \n",
      "7266  -0.056052 -4.172714 -0.090920 -1.817521  0.155616 -0.264233 -0.349719   \n",
      "5791  -0.314153 -0.187814 -0.227720  1.494479 -0.109784 -0.670532  0.773682   \n",
      "4585   0.167647  0.094786 -0.925120 -0.211421  0.330915 -2.721632  1.130881   \n",
      "4129   0.439947 -2.838214 -0.290620  0.035579 -0.476984 -1.895333 -0.735919   \n",
      "4913  -0.353052 -0.257414 -0.236120  1.140979  0.346516 -0.631932  0.992281   \n",
      "7857   0.636647 -2.554314  0.575980 -1.005322 -0.910384 -1.172132  0.843381   \n",
      "9781   0.150548  1.299886 -0.053220 -0.232821  0.741916  1.108267  0.324681   \n",
      "3574   0.248548  1.291686 -0.575620  1.907379  0.291016 -0.842632 -0.489419   \n",
      "5418   0.318447 -1.456914 -0.769720 -1.166021 -0.095284 -1.138332  1.303282   \n",
      "5991  -0.559052  0.045386  0.205379  0.481879 -0.753084  1.501768 -0.068218   \n",
      "6343  -0.451853  0.859886  0.763380 -0.339021 -0.743884  3.294868  1.031581   \n",
      "7119  -0.347352  1.235986  0.636680 -4.028221 -0.216084  3.059367 -1.044318   \n",
      "8775   0.264748 -0.451114  0.070480  2.667779  0.660015  3.634168  1.935882   \n",
      "6603   0.057748 -0.585013  0.301680 -2.768121 -0.630284  3.944068 -2.768819   \n",
      "1596   0.675748  1.498786  1.245080 -0.190721  0.024216 -1.483432  0.762981   \n",
      "\n",
      "       RNF14    UBE2E2  TMEM189-UBE2V1    ...       UBE2E1    UBE2E3  \\\n",
      "7246       1 -1.021793         6.33837    ...    -0.389120  0.356779   \n",
      "821        1  1.280707        -2.05053    ...     0.241980  1.812979   \n",
      "10189      1  0.754208         7.25467    ...     0.283580  2.253778   \n",
      "8087       1  0.756607        -2.05053    ...    -0.094021  0.048678   \n",
      "8947       1  0.716308         8.25157    ...     0.164280  0.011079   \n",
      "5434       1  0.971607         4.86897    ...     0.397779  0.557679   \n",
      "1161       1 -0.267493         0.24677    ...    -0.335020 -1.451121   \n",
      "2644       1 -0.977493         0.39007    ...     0.404579  0.061879   \n",
      "1833       1  0.855507         0.90767    ...     0.834780  0.343479   \n",
      "4223       1  1.045407        -2.05053    ...     0.508579  0.896978   \n",
      "3217       1  0.436507        -2.05053    ...     0.154579 -1.172921   \n",
      "6708       1  1.274257        -0.14253    ...     0.455230  1.070079   \n",
      "1179       1 -1.829393         2.02197    ...     0.014380 -0.544221   \n",
      "10010      1 -1.485393         2.74637    ...    -0.630321 -0.437521   \n",
      "8391       1  0.897207         1.48387    ...    -0.453720  0.373379   \n",
      "4101       1 -0.126793         2.25577    ...    -0.911921 -0.035622   \n",
      "3878       1  1.414007        -2.05053    ...     0.440379 -0.145922   \n",
      "5167       1  1.078707        -2.05053    ...     0.062380  0.166179   \n",
      "9054       1  0.897507        -2.05053    ...     0.966579 -0.361422   \n",
      "2224       1  0.310408         1.27787    ...    -0.240021 -0.085121   \n",
      "2389       1 -1.646493        -2.05053    ...    -0.986421  0.125479   \n",
      "778        1  0.961707        -2.05053    ...     0.183880  0.035978   \n",
      "5531       1 -0.284093         1.60877    ...    -0.320621 -0.471821   \n",
      "2892       1  0.931707        -2.05053    ...     0.518579 -1.530022   \n",
      "6096       1  0.540507        -2.05053    ...     0.189179 -0.906121   \n",
      "4386       1  0.688407         1.77687    ...    -0.151720  0.018179   \n",
      "3553       1  0.592207         1.03907    ...     0.347679  0.610779   \n",
      "4480       1  1.041307        -2.05053    ...     0.117680  0.203178   \n",
      "4136       1  0.568207         1.56317    ...     0.075879 -0.441522   \n",
      "967        1 -0.360593        -2.05053    ...    -0.595720  0.019279   \n",
      "...      ...       ...             ...    ...          ...       ...   \n",
      "4714       1 -0.319793        -2.05053    ...     0.289579 -0.472921   \n",
      "1236       1  0.757207        -2.05053    ...     0.219379 -0.611621   \n",
      "8758       1  1.017007        -2.05053    ...     0.140679 -0.671122   \n",
      "3855       1  0.159107        -2.05053    ...     0.033879  0.883979   \n",
      "3387       1  0.610607         1.70797    ...    -0.274620 -0.093222   \n",
      "6285       1 -2.686093         0.67317    ...    -0.936420  2.148579   \n",
      "9384       1 -0.144993        -2.05053    ...    -0.108821  0.232979   \n",
      "814        1  0.152408        -2.05053    ...    -0.847120  0.376779   \n",
      "419        1 -0.122892         5.34887    ...    -0.844920  0.073178   \n",
      "7725       1  1.322707        -2.05053    ...     0.039180  1.077378   \n",
      "1786       1  0.115808         1.45267    ...    -0.466221 -0.164021   \n",
      "320        1 -2.217393        -2.05053    ...    -0.881620  0.366279   \n",
      "129        1  1.099207         8.21937    ...     0.366079 -0.272222   \n",
      "6093       1  0.589808        -2.05053    ...     0.574679  0.435979   \n",
      "5449       1 -1.153693        -2.05053    ...     0.323979 -2.573421   \n",
      "7266       1  0.285607        -2.05053    ...     0.370379  0.152079   \n",
      "5791       1  0.515307        -2.05053    ...     0.647980  0.245378   \n",
      "4585       1  0.741207        -2.05053    ...     0.192579 -0.186921   \n",
      "4129       1 -0.399593        -2.05053    ...    -0.486521 -0.398421   \n",
      "4913       1  1.205607        -2.05053    ...     1.422379 -0.359821   \n",
      "7857       1 -0.440893         1.16947    ...    -0.523320 -0.560721   \n",
      "9781       1 -0.836593         0.81107    ...    -0.079121  0.137479   \n",
      "3574       1 -0.289293         0.35267    ...    -0.194820  0.135678   \n",
      "5418       1  1.164807        -2.05053    ...     0.167480 -1.004022   \n",
      "5991       1 -0.206093         2.76047    ...    -0.215020 -0.222721   \n",
      "6343       1 -0.067393         1.13067    ...    -0.453120  0.368479   \n",
      "7119       1  0.216107         7.86007    ...    -0.439720  0.468379   \n",
      "8775       1 -0.329593        -2.05053    ...    -0.491120 -0.204421   \n",
      "6603       1 -0.584393         1.06557    ...     0.346379 -0.218421   \n",
      "1596       1  0.356807         0.67107    ...     0.013780 -0.060822   \n",
      "\n",
      "            UBC    FAM46A      PHF7   HNRNPA1      DET1    CTNNB1       VDR  \\\n",
      "7246   0.045465  1.087327 -0.292446 -0.354738  0.981011 -0.062594  2.064295   \n",
      "821   -0.169435 -0.886073 -1.285146  0.908462  1.119111 -0.504294 -1.766706   \n",
      "10189  0.295865  1.224727 -3.430246 -0.177238 -0.959989 -0.776195 -2.183205   \n",
      "8087   0.338466 -1.525173  0.802254  1.972762  0.368011 -0.870094 -2.761005   \n",
      "8947   0.746065 -0.827573 -0.456146 -0.900639 -0.692288 -0.711094  2.170995   \n",
      "5434  -0.250335 -0.760773 -0.095146 -0.010038  0.255611  0.275206 -0.150705   \n",
      "1161   0.278165 -0.195973 -0.432946 -0.123939  0.054512 -0.150094  1.231595   \n",
      "2644  -0.575834 -0.767173 -0.864347  0.392462 -0.717988  0.523605  2.656195   \n",
      "1833  -0.412635 -1.649273 -0.568446  0.150062  0.402911 -0.174495 -5.460505   \n",
      "4223  -0.021335 -0.955273  0.572554 -0.322938  0.425312 -0.007594 -1.895505   \n",
      "3217   0.409266  1.214727  0.703753 -1.170338  0.748911  0.161805 -3.733006   \n",
      "6708  -0.038535 -1.978523 -0.454696 -0.514188 -0.040638 -0.327094 -4.862055   \n",
      "1179  -1.036835  0.483427  0.232454  0.344762 -0.095388  0.773206  2.877495   \n",
      "10010  0.442565  1.036227 -0.698046 -0.746538 -0.212889 -0.157695  1.713494   \n",
      "8391   0.938166 -2.786273 -1.387346  0.257562 -1.887888 -2.483294 -1.990406   \n",
      "4101   0.699965  1.874127 -0.570746 -0.689239 -2.198389 -0.537294  1.600195   \n",
      "3878  -0.199835 -0.491173  0.796054  0.534962  0.300012 -0.740994 -2.368305   \n",
      "5167   0.222466 -0.751873  0.872054  0.154062  1.683512  0.527205  1.196295   \n",
      "9054   0.688365  1.206527 -0.128246  0.146062 -0.220889  0.597905  1.756394   \n",
      "2224  -0.106834  0.249227  0.452454 -0.282639  0.055612  0.455505  0.761194   \n",
      "2389  -0.543235  0.727627 -1.476946 -0.066538 -1.054489 -0.367394  0.082695   \n",
      "778   -0.058235 -0.577473 -0.643746  0.044762  0.592512  0.299706  1.457294   \n",
      "5531   0.892665 -2.705473 -0.627446 -0.124538 -1.106389  0.391605  1.208295   \n",
      "2892  -0.302435  0.211427 -0.360246 -0.102638 -0.043788  0.222905  1.256495   \n",
      "6096   0.970766  0.123227 -0.838646  0.122762 -1.452989  1.371905  1.907595   \n",
      "4386   1.572765 -0.730473 -0.340147 -0.690838 -0.487389 -0.598794  2.062895   \n",
      "3553   0.498665  1.624927  0.551854  0.442761  1.230612 -0.319994  2.781895   \n",
      "4480  -0.785134 -0.367673  0.016554  0.335862  0.206311  0.379106  0.998795   \n",
      "4136  -0.583235  0.288527 -1.252546  0.719262 -0.530689 -0.240495  1.365294   \n",
      "967   -0.366135 -0.495273 -0.136147 -0.779738 -0.319489  0.492805  1.186695   \n",
      "...         ...       ...       ...       ...       ...       ...       ...   \n",
      "4714   1.159966 -1.614273 -0.206046  0.212962  1.065911  1.259406  1.051795   \n",
      "1236   0.067665  1.534827 -0.416546  0.677262  0.218311 -0.312494  2.027295   \n",
      "8758   0.031165 -0.996473  0.691354 -0.007038  0.347311  0.041105 -3.214205   \n",
      "3855   0.002565  0.682127 -0.965946  0.771662 -0.437688 -0.435795 -2.167605   \n",
      "3387   0.364965 -1.023973 -0.693846 -0.662038 -0.087089 -0.381394 -5.271805   \n",
      "6285   0.165865 -0.036173 -0.692846 -0.355738 -0.811089 -0.584495  0.755395   \n",
      "9384   0.482165  0.958627 -0.535546  0.220062  0.196712  1.215606 -1.386405   \n",
      "814   -0.181035  0.204127 -0.491446 -0.477038  1.252111 -1.629694 -5.542405   \n",
      "419   -0.240535  0.832727 -1.295646  0.094662  0.189811 -0.827894  1.142694   \n",
      "7725  -0.565635  1.424927  0.305254 -0.242438  0.246912  0.392305 -2.576905   \n",
      "1786   1.026165 -0.257473 -0.112546  0.426962 -0.344789 -0.640294  0.107895   \n",
      "320   -0.630135  0.085627 -1.167146 -0.677638 -1.067889 -1.044595  2.097395   \n",
      "129   -0.003735  1.720827  1.136854 -0.531138  1.105911 -0.479494 -2.728806   \n",
      "6093   0.088366 -1.858473 -1.292146 -1.134238 -0.039289  0.212906 -4.393305   \n",
      "5449  -0.287535  2.045827  1.433954  0.220362  0.490011  0.083006  1.453694   \n",
      "7266  -0.167335  0.853927 -0.200546  0.130261  1.464312  1.314006 -4.798306   \n",
      "5791   0.137765 -1.474673 -0.555846  0.071362  0.287211 -0.045794 -5.979405   \n",
      "4585  -0.678035 -1.019673  1.237453 -0.168938  0.033611 -0.006595  0.422495   \n",
      "4129   0.043065  0.892127 -0.330246  0.304262  1.255012 -0.584894  2.198295   \n",
      "4913  -0.341935 -0.055473  0.397054  0.303562  0.476811 -0.215195 -6.170005   \n",
      "7857  -0.295235 -1.811073 -0.712746  0.019462 -1.153089 -0.577194  0.872795   \n",
      "9781   0.398965 -0.141073  0.862354 -0.519738  0.787111 -0.190695 -0.471106   \n",
      "3574   0.440866 -0.470873  0.017554  0.131862 -0.297288 -0.560595  1.705894   \n",
      "5418   0.332866  1.011127  0.158453 -0.493538 -0.441789 -0.845895  0.239795   \n",
      "5991  -0.148135  1.401927 -0.377646 -0.624038  1.014711  0.958706 -0.308005   \n",
      "6343   0.016066 -0.383673 -0.391047 -0.803138  0.591111 -0.072495  0.859594   \n",
      "7119   0.467965 -0.146973 -0.160646 -0.368238 -0.613288 -0.185294  1.959195   \n",
      "8775   0.346465  0.672127 -0.245347 -0.219838  0.496111 -0.076594  0.255995   \n",
      "6603  -0.458735  0.835027  0.357954  0.901262 -1.535989  0.014006  2.200994   \n",
      "1596   0.485465  0.726827 -0.276947 -1.041538 -0.262389 -0.324695  1.337194   \n",
      "\n",
      "          UBE2U  \n",
      "7246   0.933732  \n",
      "821    0.337432  \n",
      "10189 -0.236368  \n",
      "8087  -0.236368  \n",
      "8947  -0.236368  \n",
      "5434   0.119232  \n",
      "1161  -0.236368  \n",
      "2644  -0.236368  \n",
      "1833  -0.236368  \n",
      "4223  -0.236368  \n",
      "3217  -0.236368  \n",
      "6708  -0.236368  \n",
      "1179  -0.236368  \n",
      "10010 -0.236368  \n",
      "8391   0.429832  \n",
      "4101   3.962332  \n",
      "3878  -0.236368  \n",
      "5167  -0.236368  \n",
      "9054  -0.236368  \n",
      "2224   1.486332  \n",
      "2389  -0.236368  \n",
      "778    0.250132  \n",
      "5531  -0.236368  \n",
      "2892  -0.236368  \n",
      "6096  -0.236368  \n",
      "4386  -0.236368  \n",
      "3553  -0.236368  \n",
      "4480  -0.236368  \n",
      "4136  -0.236368  \n",
      "967   -0.236368  \n",
      "...         ...  \n",
      "4714  -0.236368  \n",
      "1236   0.934932  \n",
      "8758  -0.236368  \n",
      "3855  -0.236368  \n",
      "3387  -0.236368  \n",
      "6285  -0.236368  \n",
      "9384  -0.236368  \n",
      "814   -0.236368  \n",
      "419   -0.236368  \n",
      "7725  -0.236368  \n",
      "1786  -0.236368  \n",
      "320   -0.236368  \n",
      "129   -0.236368  \n",
      "6093  -0.236368  \n",
      "5449  -0.236368  \n",
      "7266  -0.236368  \n",
      "5791  -0.236368  \n",
      "4585  -0.236368  \n",
      "4129  -0.236368  \n",
      "4913  -0.236368  \n",
      "7857   0.203532  \n",
      "9781  -0.236368  \n",
      "3574  -0.236368  \n",
      "5418  -0.236368  \n",
      "5991  -0.236368  \n",
      "6343  -0.236368  \n",
      "7119  -0.236368  \n",
      "8775  -0.236368  \n",
      "6603  -0.236368  \n",
      "1596  -0.236368  \n",
      "\n",
      "[1000 rows x 35 columns]\n"
     ]
    },
    {
     "name": "stdin",
     "output_type": "stream",
     "text": [
      "(Pdb)  l\n"
     ]
    },
    {
     "name": "stdout",
     "output_type": "stream",
     "text": [
      " 34  \t        X_train = X_train.copy()\n",
      " 35  \t        X_test = X_test.copy()\n",
      " 36  \t    X_train[gene] = 1\n",
      " 37  \t    X_test[gene] = 1\n",
      " 38  \t    import pdb; pdb.set_trace()\n",
      " 39  ->\t    try:\n",
      " 40  \t        model.fit(X_train, y_train)\n",
      " 41  \t        if cuda:\n",
      " 42  \t            X_test = X_test.cuda()\n",
      " 43  \t        y_hat = model.predict(X_test)\n",
      " 44  \t        auc = sklearn.metrics.roc_auc_score(y_test, np.asarray(y_hat).flatten())\n"
     ]
    },
    {
     "name": "stdin",
     "output_type": "stream",
     "text": [
      "(Pdb)  n\n"
     ]
    },
    {
     "name": "stdout",
     "output_type": "stream",
     "text": [
      "> <ipython-input-8-3986c454a6da>(40)<module>()\n",
      "-> model.fit(X_train, y_train)\n"
     ]
    },
    {
     "name": "stdin",
     "output_type": "stream",
     "text": [
      "(Pdb)  s\n"
     ]
    },
    {
     "name": "stdout",
     "output_type": "stream",
     "text": [
      "--Call--\n",
      "> /Users/martinweiss/code/academic/gene-graph-conv/models/models.py(49)fit()\n",
      "-> def fit(self, X, y, adj=None):\n"
     ]
    },
    {
     "name": "stdin",
     "output_type": "stream",
     "text": [
      "(Pdb)  n\n"
     ]
    },
    {
     "name": "stdout",
     "output_type": "stream",
     "text": [
      "> /Users/martinweiss/code/academic/gene-graph-conv/models/models.py(50)fit()\n",
      "-> self.adj = adj\n"
     ]
    },
    {
     "name": "stdin",
     "output_type": "stream",
     "text": [
      "(Pdb)  \n"
     ]
    },
    {
     "name": "stdout",
     "output_type": "stream",
     "text": [
      "> /Users/martinweiss/code/academic/gene-graph-conv/models/models.py(51)fit()\n",
      "-> self.X = X\n"
     ]
    },
    {
     "name": "stdin",
     "output_type": "stream",
     "text": [
      "(Pdb)  \n"
     ]
    },
    {
     "name": "stdout",
     "output_type": "stream",
     "text": [
      "> /Users/martinweiss/code/academic/gene-graph-conv/models/models.py(52)fit()\n",
      "-> self.y = y\n"
     ]
    },
    {
     "name": "stdin",
     "output_type": "stream",
     "text": [
      "(Pdb)  \n"
     ]
    },
    {
     "name": "stdout",
     "output_type": "stream",
     "text": [
      "> /Users/martinweiss/code/academic/gene-graph-conv/models/models.py(53)fit()\n",
      "-> start = time.time()\n"
     ]
    },
    {
     "name": "stdin",
     "output_type": "stream",
     "text": [
      "(Pdb)  \n"
     ]
    },
    {
     "name": "stdout",
     "output_type": "stream",
     "text": [
      "> /Users/martinweiss/code/academic/gene-graph-conv/models/models.py(54)fit()\n",
      "-> self.setup_layers()\n"
     ]
    },
    {
     "name": "stdin",
     "output_type": "stream",
     "text": [
      "(Pdb)  \n"
     ]
    },
    {
     "name": "stdout",
     "output_type": "stream",
     "text": [
      "> /Users/martinweiss/code/academic/gene-graph-conv/models/models.py(55)fit()\n",
      "-> self.adj = None\n"
     ]
    },
    {
     "name": "stdin",
     "output_type": "stream",
     "text": [
      "(Pdb)  \n"
     ]
    },
    {
     "name": "stdout",
     "output_type": "stream",
     "text": [
      "> /Users/martinweiss/code/academic/gene-graph-conv/models/models.py(56)fit()\n",
      "-> self.X = None\n"
     ]
    },
    {
     "name": "stdin",
     "output_type": "stream",
     "text": [
      "(Pdb)  \n"
     ]
    },
    {
     "name": "stdout",
     "output_type": "stream",
     "text": [
      "> /Users/martinweiss/code/academic/gene-graph-conv/models/models.py(57)fit()\n",
      "-> x_train, x_valid, y_train, y_valid = sklearn.model_selection.train_test_split(X, y, stratify=y, train_size=self.train_valid_split, test_size=1-self.train_valid_split, random_state=self.seed)\n"
     ]
    },
    {
     "name": "stdin",
     "output_type": "stream",
     "text": [
      "(Pdb)  \n"
     ]
    },
    {
     "name": "stdout",
     "output_type": "stream",
     "text": [
      "> /Users/martinweiss/code/academic/gene-graph-conv/models/models.py(59)fit()\n",
      "-> x_train = torch.FloatTensor(np.expand_dims(x_train, axis=2))\n"
     ]
    },
    {
     "name": "stdin",
     "output_type": "stream",
     "text": [
      "(Pdb)  \n"
     ]
    },
    {
     "name": "stdout",
     "output_type": "stream",
     "text": [
      "> /Users/martinweiss/code/academic/gene-graph-conv/models/models.py(60)fit()\n",
      "-> x_valid = torch.FloatTensor(np.expand_dims(x_valid, axis=2))\n"
     ]
    },
    {
     "name": "stdin",
     "output_type": "stream",
     "text": [
      "(Pdb)  \n"
     ]
    },
    {
     "name": "stdout",
     "output_type": "stream",
     "text": [
      "> /Users/martinweiss/code/academic/gene-graph-conv/models/models.py(61)fit()\n",
      "-> y_train = torch.FloatTensor(y_train)\n"
     ]
    },
    {
     "name": "stdin",
     "output_type": "stream",
     "text": [
      "(Pdb)  \n"
     ]
    },
    {
     "name": "stdout",
     "output_type": "stream",
     "text": [
      "ValueError: could not determine the shape of object type 'Series'\n",
      "> /Users/martinweiss/code/academic/gene-graph-conv/models/models.py(61)fit()\n",
      "-> y_train = torch.FloatTensor(y_train)\n"
     ]
    },
    {
     "name": "stdin",
     "output_type": "stream",
     "text": [
      "(Pdb)  y_train\n"
     ]
    },
    {
     "name": "stdout",
     "output_type": "stream",
     "text": [
      "5152    1\n",
      "6233    1\n",
      "2565    1\n",
      "4346    1\n",
      "4152    0\n",
      "4316    0\n",
      "8434    0\n",
      "8258    1\n",
      "3937    1\n",
      "7357    0\n",
      "3032    1\n",
      "6981    0\n",
      "8624    0\n",
      "1582    1\n",
      "4119    0\n",
      "2290    1\n",
      "9702    0\n",
      "9070    1\n",
      "8123    0\n",
      "7192    1\n",
      "7941    0\n",
      "239     1\n",
      "8936    0\n",
      "7263    1\n",
      "7315    0\n",
      "9910    0\n",
      "269     1\n",
      "2451    0\n",
      "197     0\n",
      "7020    0\n",
      "1619    1\n",
      "9693    0\n",
      "2685    1\n",
      "2714    0\n",
      "3317    1\n",
      "4971    1\n",
      "1156    0\n",
      "8957    1\n",
      "310     1\n",
      "7330    0\n",
      "Name: RNF14, dtype: int64\n"
     ]
    },
    {
     "name": "stdin",
     "output_type": "stream",
     "text": [
      "(Pdb)  y_train.numpy()\n"
     ]
    },
    {
     "name": "stdout",
     "output_type": "stream",
     "text": [
      "*** AttributeError: 'Series' object has no attribute 'numpy'\n"
     ]
    },
    {
     "name": "stdin",
     "output_type": "stream",
     "text": [
      "(Pdb)  y_train.values\n"
     ]
    },
    {
     "name": "stdout",
     "output_type": "stream",
     "text": [
      "array([1, 1, 1, 1, 0, 0, 0, 1, 1, 0, 1, 0, 0, 1, 0, 1, 0, 1, 0, 1, 0, 1,\n",
      "       0, 1, 0, 0, 1, 0, 0, 0, 1, 0, 1, 0, 1, 1, 0, 1, 1, 0])\n"
     ]
    },
    {
     "name": "stdin",
     "output_type": "stream",
     "text": [
      "(Pdb)  l\n"
     ]
    },
    {
     "name": "stdout",
     "output_type": "stream",
     "text": [
      " 56  \t        self.X = None\n",
      " 57  \t        x_train, x_valid, y_train, y_valid = sklearn.model_selection.train_test_split(X, y, stratify=y, train_size=self.train_valid_split, test_size=1-self.train_valid_split, random_state=self.seed)\n",
      " 58  \t\n",
      " 59  \t        x_train = torch.FloatTensor(np.expand_dims(x_train, axis=2))\n",
      " 60  \t        x_valid = torch.FloatTensor(np.expand_dims(x_valid, axis=2))\n",
      " 61  ->\t        y_train = torch.FloatTensor(y_train)\n",
      " 62  \t\n",
      " 63  \t        criterion = torch.nn.CrossEntropyLoss(reduction='mean')\n",
      " 64  \t        optimizer = torch.optim.Adam(self.parameters(), lr=self.lr, weight_decay=0.0001)\n",
      " 65  \t        if self.scheduler:\n",
      " 66  \t            scheduler = torch.optim.lr_scheduler.ExponentialLR(optimizer, gamma = 0.9)\n"
     ]
    },
    {
     "name": "stdin",
     "output_type": "stream",
     "text": [
      "(Pdb)  q\n"
     ]
    },
    {
     "name": "stdout",
     "output_type": "stream",
     "text": [
      "\n",
      "> <ipython-input-8-3986c454a6da>(38)<module>()\n",
      "-> import pdb; pdb.set_trace()\n"
     ]
    },
    {
     "name": "stdin",
     "output_type": "stream",
     "text": [
      "(Pdb)  q\n"
     ]
    },
    {
     "ename": "BdbQuit",
     "evalue": "",
     "output_type": "error",
     "traceback": [
      "\u001b[0;31m---------------------------------------------------------------------------\u001b[0m",
      "\u001b[0;31mBdbQuit\u001b[0m                                   Traceback (most recent call last)",
      "\u001b[0;32m<ipython-input-8-3986c454a6da>\u001b[0m in \u001b[0;36m<module>\u001b[0;34m\u001b[0m\n\u001b[1;32m     36\u001b[0m     \u001b[0mX_train\u001b[0m\u001b[0;34m[\u001b[0m\u001b[0mgene\u001b[0m\u001b[0;34m]\u001b[0m \u001b[0;34m=\u001b[0m \u001b[0;36m1\u001b[0m\u001b[0;34m\u001b[0m\u001b[0;34m\u001b[0m\u001b[0m\n\u001b[1;32m     37\u001b[0m     \u001b[0mX_test\u001b[0m\u001b[0;34m[\u001b[0m\u001b[0mgene\u001b[0m\u001b[0;34m]\u001b[0m \u001b[0;34m=\u001b[0m \u001b[0;36m1\u001b[0m\u001b[0;34m\u001b[0m\u001b[0;34m\u001b[0m\u001b[0m\n\u001b[0;32m---> 38\u001b[0;31m     \u001b[0;32mimport\u001b[0m \u001b[0mpdb\u001b[0m\u001b[0;34m;\u001b[0m \u001b[0mpdb\u001b[0m\u001b[0;34m.\u001b[0m\u001b[0mset_trace\u001b[0m\u001b[0;34m(\u001b[0m\u001b[0;34m)\u001b[0m\u001b[0;34m\u001b[0m\u001b[0;34m\u001b[0m\u001b[0m\n\u001b[0m\u001b[1;32m     39\u001b[0m     \u001b[0;32mtry\u001b[0m\u001b[0;34m:\u001b[0m\u001b[0;34m\u001b[0m\u001b[0;34m\u001b[0m\u001b[0m\n\u001b[1;32m     40\u001b[0m         \u001b[0mmodel\u001b[0m\u001b[0;34m.\u001b[0m\u001b[0mfit\u001b[0m\u001b[0;34m(\u001b[0m\u001b[0mX_train\u001b[0m\u001b[0;34m,\u001b[0m \u001b[0my_train\u001b[0m\u001b[0;34m)\u001b[0m\u001b[0;34m\u001b[0m\u001b[0;34m\u001b[0m\u001b[0m\n",
      "\u001b[0;32m<ipython-input-8-3986c454a6da>\u001b[0m in \u001b[0;36m<module>\u001b[0;34m\u001b[0m\n\u001b[1;32m     36\u001b[0m     \u001b[0mX_train\u001b[0m\u001b[0;34m[\u001b[0m\u001b[0mgene\u001b[0m\u001b[0;34m]\u001b[0m \u001b[0;34m=\u001b[0m \u001b[0;36m1\u001b[0m\u001b[0;34m\u001b[0m\u001b[0;34m\u001b[0m\u001b[0m\n\u001b[1;32m     37\u001b[0m     \u001b[0mX_test\u001b[0m\u001b[0;34m[\u001b[0m\u001b[0mgene\u001b[0m\u001b[0;34m]\u001b[0m \u001b[0;34m=\u001b[0m \u001b[0;36m1\u001b[0m\u001b[0;34m\u001b[0m\u001b[0;34m\u001b[0m\u001b[0m\n\u001b[0;32m---> 38\u001b[0;31m     \u001b[0;32mimport\u001b[0m \u001b[0mpdb\u001b[0m\u001b[0;34m;\u001b[0m \u001b[0mpdb\u001b[0m\u001b[0;34m.\u001b[0m\u001b[0mset_trace\u001b[0m\u001b[0;34m(\u001b[0m\u001b[0;34m)\u001b[0m\u001b[0;34m\u001b[0m\u001b[0;34m\u001b[0m\u001b[0m\n\u001b[0m\u001b[1;32m     39\u001b[0m     \u001b[0;32mtry\u001b[0m\u001b[0;34m:\u001b[0m\u001b[0;34m\u001b[0m\u001b[0;34m\u001b[0m\u001b[0m\n\u001b[1;32m     40\u001b[0m         \u001b[0mmodel\u001b[0m\u001b[0;34m.\u001b[0m\u001b[0mfit\u001b[0m\u001b[0;34m(\u001b[0m\u001b[0mX_train\u001b[0m\u001b[0;34m,\u001b[0m \u001b[0my_train\u001b[0m\u001b[0;34m)\u001b[0m\u001b[0;34m\u001b[0m\u001b[0;34m\u001b[0m\u001b[0m\n",
      "\u001b[0;32m~/miniconda3/lib/python3.7/bdb.py\u001b[0m in \u001b[0;36mtrace_dispatch\u001b[0;34m(self, frame, event, arg)\u001b[0m\n\u001b[1;32m     86\u001b[0m             \u001b[0;32mreturn\u001b[0m \u001b[0;31m# None\u001b[0m\u001b[0;34m\u001b[0m\u001b[0;34m\u001b[0m\u001b[0m\n\u001b[1;32m     87\u001b[0m         \u001b[0;32mif\u001b[0m \u001b[0mevent\u001b[0m \u001b[0;34m==\u001b[0m \u001b[0;34m'line'\u001b[0m\u001b[0;34m:\u001b[0m\u001b[0;34m\u001b[0m\u001b[0;34m\u001b[0m\u001b[0m\n\u001b[0;32m---> 88\u001b[0;31m             \u001b[0;32mreturn\u001b[0m \u001b[0mself\u001b[0m\u001b[0;34m.\u001b[0m\u001b[0mdispatch_line\u001b[0m\u001b[0;34m(\u001b[0m\u001b[0mframe\u001b[0m\u001b[0;34m)\u001b[0m\u001b[0;34m\u001b[0m\u001b[0;34m\u001b[0m\u001b[0m\n\u001b[0m\u001b[1;32m     89\u001b[0m         \u001b[0;32mif\u001b[0m \u001b[0mevent\u001b[0m \u001b[0;34m==\u001b[0m \u001b[0;34m'call'\u001b[0m\u001b[0;34m:\u001b[0m\u001b[0;34m\u001b[0m\u001b[0;34m\u001b[0m\u001b[0m\n\u001b[1;32m     90\u001b[0m             \u001b[0;32mreturn\u001b[0m \u001b[0mself\u001b[0m\u001b[0;34m.\u001b[0m\u001b[0mdispatch_call\u001b[0m\u001b[0;34m(\u001b[0m\u001b[0mframe\u001b[0m\u001b[0;34m,\u001b[0m \u001b[0marg\u001b[0m\u001b[0;34m)\u001b[0m\u001b[0;34m\u001b[0m\u001b[0;34m\u001b[0m\u001b[0m\n",
      "\u001b[0;32m~/miniconda3/lib/python3.7/bdb.py\u001b[0m in \u001b[0;36mdispatch_line\u001b[0;34m(self, frame)\u001b[0m\n\u001b[1;32m    111\u001b[0m         \u001b[0;32mif\u001b[0m \u001b[0mself\u001b[0m\u001b[0;34m.\u001b[0m\u001b[0mstop_here\u001b[0m\u001b[0;34m(\u001b[0m\u001b[0mframe\u001b[0m\u001b[0;34m)\u001b[0m \u001b[0;32mor\u001b[0m \u001b[0mself\u001b[0m\u001b[0;34m.\u001b[0m\u001b[0mbreak_here\u001b[0m\u001b[0;34m(\u001b[0m\u001b[0mframe\u001b[0m\u001b[0;34m)\u001b[0m\u001b[0;34m:\u001b[0m\u001b[0;34m\u001b[0m\u001b[0;34m\u001b[0m\u001b[0m\n\u001b[1;32m    112\u001b[0m             \u001b[0mself\u001b[0m\u001b[0;34m.\u001b[0m\u001b[0muser_line\u001b[0m\u001b[0;34m(\u001b[0m\u001b[0mframe\u001b[0m\u001b[0;34m)\u001b[0m\u001b[0;34m\u001b[0m\u001b[0;34m\u001b[0m\u001b[0m\n\u001b[0;32m--> 113\u001b[0;31m             \u001b[0;32mif\u001b[0m \u001b[0mself\u001b[0m\u001b[0;34m.\u001b[0m\u001b[0mquitting\u001b[0m\u001b[0;34m:\u001b[0m \u001b[0;32mraise\u001b[0m \u001b[0mBdbQuit\u001b[0m\u001b[0;34m\u001b[0m\u001b[0;34m\u001b[0m\u001b[0m\n\u001b[0m\u001b[1;32m    114\u001b[0m         \u001b[0;32mreturn\u001b[0m \u001b[0mself\u001b[0m\u001b[0;34m.\u001b[0m\u001b[0mtrace_dispatch\u001b[0m\u001b[0;34m\u001b[0m\u001b[0;34m\u001b[0m\u001b[0m\n\u001b[1;32m    115\u001b[0m \u001b[0;34m\u001b[0m\u001b[0m\n",
      "\u001b[0;31mBdbQuit\u001b[0m: "
     ]
    }
   ],
   "source": [
    "for row in todo:\n",
    "    if len(results) % 10 == 0:\n",
    "        print(len(results))\n",
    "    gene = row[\"gene\"]\n",
    "    graph_name = row[\"graph\"]\n",
    "    model_name = row[\"model\"]\n",
    "    seed = row[\"seed\"]\n",
    "    is_first_degree = row[\"is_first_degree\"]\n",
    "    model = models[model_name]\n",
    "\n",
    "    experiment = {\n",
    "        \"gene\": gene,\n",
    "        \"model\": model_name,\n",
    "        \"graph\": graph_name,\n",
    "        \"is_first_degree\": is_first_degree,\n",
    "        \"seed\": seed,\n",
    "        \"train_size\": train_size,\n",
    "    }\n",
    "    dataset.labels = dataset.df[gene].where(dataset.df[gene] > 0).notnull().astype(\"int\")\n",
    "    dataset.labels = dataset.labels.values if type(dataset.labels) == pd.Series else dataset.labels\n",
    "\n",
    "    try:\n",
    "        X_train, X_test, y_train, y_test = sklearn.model_selection.\\\n",
    "            train_test_split(dataset.df, dataset.labels, stratify=dataset.labels, \n",
    "                             train_size=train_size, test_size=test_size)\n",
    "    except ValueError:\n",
    "        results = record_result(results, experiment, filename)\n",
    "        continue\n",
    "    if is_first_degree:\n",
    "        gene_graph = graphs[graph_name]\n",
    "        neighbors = list(gene_graph.first_degree(gene)[0])\n",
    "        neighbors = [n for n in neighbors if n in X_train.columns.values]\n",
    "        X_train = X_train.loc[:, neighbors].copy()\n",
    "        X_test = X_test.loc[:, neighbors].copy()\n",
    "    else:\n",
    "        X_train = X_train.copy()\n",
    "        X_test = X_test.copy()\n",
    "    X_train[gene] = 1\n",
    "    X_test[gene] = 1\n",
    "    import pdb; pdb.set_trace()\n",
    "    try:\n",
    "        model.fit(X_train, y_train)\n",
    "        if cuda:\n",
    "            X_test = X_test.cuda()\n",
    "        y_hat = model.predict(X_test)\n",
    "        auc = sklearn.metrics.roc_auc_score(y_test, np.asarray(y_hat).flatten())\n",
    "        model.best_model = None # cleanup\n",
    "        experiment[\"auc\"] = auc\n",
    "    except Exception as e:\n",
    "        print(e)\n",
    "    results = record_result(results, experiment, filename)\n"
   ]
  },
  {
   "cell_type": "code",
   "execution_count": null,
   "metadata": {},
   "outputs": [],
   "source": [
    "# Compare the performance of each graph at predicting their neighbors\n",
    "df = results\n",
    "\n",
    "first_degree = df[df['is_first_degree'] == True][\n",
    "    df['graph'] == 'genemania'].groupby(['gene', 'model', 'train_size'])['auc'].agg(['mean', 'std'])\n",
    "full = df[df['is_first_degree'] == False][\n",
    "    df['graph'] == 'genemania'].groupby(['gene','model', 'train_size'])['auc'].agg(['mean', 'std'])\n",
    "genemania_df = first_degree.sub(full).sort_values('mean', ascending=False)\n",
    "\n",
    "first_degree = df[df['is_first_degree'] == True][\n",
    "    df['graph'] == 'regnet'].groupby(['gene', 'model', 'train_size'])['auc'].agg(['mean', 'std'])\n",
    "full = df[df['is_first_degree'] == False][\n",
    "    df['graph'] == 'regnet'].groupby(['gene','model', 'train_size'])['auc'].agg(['mean', 'std'])\n",
    "regnet_df = first_degree.sub(full).sort_values('mean', ascending=False)\n"
   ]
  },
  {
   "cell_type": "code",
   "execution_count": 9,
   "metadata": {},
   "outputs": [
    {
     "name": "stderr",
     "output_type": "stream",
     "text": [
      "/home/martin/code/academic/gene-graph-conv/venv/lib/python3.5/site-packages/numpy/lib/histograms.py:754: RuntimeWarning: invalid value encountered in greater_equal\n",
      "  keep = (tmp_a >= first_edge)\n",
      "/home/martin/code/academic/gene-graph-conv/venv/lib/python3.5/site-packages/numpy/lib/histograms.py:755: RuntimeWarning: invalid value encountered in less_equal\n",
      "  keep &= (tmp_a <= last_edge)\n"
     ]
    },
    {
     "data": {
      "image/png": "[encoded data removed]",
      "text/plain": [
       "<Figure size 432x288 with 1 Axes>"
      ]
     },
     "metadata": {
      "needs_background": "light"
     },
     "output_type": "display_data"
    },
    {
     "data": {
      "image/png": "[encoded data removed]",
      "text/plain": [
       "<Figure size 432x288 with 1 Axes>"
      ]
     },
     "metadata": {
      "needs_background": "light"
     },
     "output_type": "display_data"
    }
   ],
   "source": [
    "\n",
    "l1 = genemania_df['mean']\n",
    "l2 = regnet_df['mean']\n",
    "\n",
    "fig, ax = plt.subplots()\n",
    "n1, bins1, patches1 = ax.hist(l1, range=(-.4, .25), bins=100, label=\"Regnet\", \n",
    "                              density=0, alpha=0.55, histtype='step')\n",
    "n1, bins1, patches1 = ax.hist(l2, range=(-.4, .25), bins=100, label=\"GeneMania\", \n",
    "                              density=0, alpha=0.55, histtype='step')\n",
    "\n",
    "\n",
    "fig, ax = plt.subplots()\n",
    "n1, bins1, patches1 = ax.hist(l1, range=(-.4, .25), bins=100, label=\"Regnet\", \n",
    "                              density=0, alpha=0.55, histtype='step')\n",
    "n1, bins1, patches1 = ax.hist(l2, range=(-.4, .25), bins=100, label=\"GeneMania\", \n",
    "                              density=0, alpha=0.55, histtype='step')\n",
    "\n",
    "plt.title(\"First Degree Neighbors vs Full Gene Set\")\n",
    "plt.ylabel(\"Count\")\n",
    "plt.xlabel(\"% AUC Improvement\")\n",
    "\n",
    "plt.legend()\n",
    "plt.show()"
   ]
  },
  {
   "cell_type": "code",
   "execution_count": null,
   "metadata": {},
   "outputs": [],
   "source": []
  },
  {
   "cell_type": "code",
   "execution_count": null,
   "metadata": {},
   "outputs": [],
   "source": []
  }
 ],
 "metadata": {
  "kernelspec": {
   "display_name": "Python 3",
   "language": "python",
   "name": "python3"
  },
  "language_info": {
   "codemirror_mode": {
    "name": "ipython",
    "version": 3
   },
   "file_extension": ".py",
   "mimetype": "text/x-python",
   "name": "python",
   "nbconvert_exporter": "python",
   "pygments_lexer": "ipython3",
   "version": "3.7.1"
  }
 },
 "nbformat": 4,
 "nbformat_minor": 2
}
