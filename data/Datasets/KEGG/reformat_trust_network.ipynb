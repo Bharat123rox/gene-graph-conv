{
 "cells": [
  {
   "cell_type": "code",
   "execution_count": 1,
   "metadata": {
    "collapsed": false
   },
   "outputs": [],
   "source": [
    "import os\n",
    "import pickle\n",
    "import h5py"
   ]
  },
  {
   "cell_type": "code",
   "execution_count": 4,
   "metadata": {
    "collapsed": false
   },
   "outputs": [
    {
     "name": "stdout",
     "output_type": "stream",
     "text": [
      "['CRKL', 'IL6ST', 'IFNAR2', 'IFNAR1', 'PTGER4', 'PIK3CA', 'PIK3CB', 'PIK3CD', 'PTGER2', 'IFNA13', 'IFNA10', 'IFNA17', 'IFNA16', 'IFNA14', 'CBLC', 'CBLB', 'IGF1R', 'IFNG', 'SP1', 'CAMK2G', 'CAMK2A', 'CAMK2B', 'STK4', 'CSF3R', 'CXCL12', 'CCND1', 'MAX', 'CCND3', 'CCND2', 'BAK1', 'PTEN', 'GSTM1', 'CTBP1', 'CTBP2', 'WNT1', 'HHIP', 'IL7R', 'RASGRP3', 'RASGRP1', 'CDKN1B', 'ITGA2', 'ITGA6', 'IL15', 'MGST1', 'EDNRB', 'JAK2', 'JAK3', 'JAK1', 'IL5RA', 'CHUK', 'PPARG', 'PPARD', 'COL4A4', 'COL4A3', 'COL4A2', 'VEGFC', 'VEGFB', 'ARNT2', 'GSTO1', 'RPS6KA5', 'ITGAV', 'HES1', 'IL15RA', 'HES5', 'RALBP1', 'SMAD4', 'SMAD2', 'SMAD3', 'SMO', 'XIAP', 'FH', 'POLK', 'NCOA3', 'NCOA1', 'NCOA4', 'CKS1B', 'DDB2', 'EPOR', 'LAMA3', 'LAMA4', 'EGLN2', 'RXRG', 'RXRA', 'RXRB', 'IL3RA', 'LEF1', 'BDKRB1', 'IL2RA', 'IL2RB', 'BDKRB2', 'ALK', 'IL2RG', 'BAD', 'IFNA21', 'CDC42', 'EGFR', 'BAX', 'CTNNB1', 'PLCG1', 'MITF', 'PGF', 'CCNA1', 'CAMK2D', 'CXCR4', 'JAG2', 'JAG1', 'ITGB1', 'NOS2', 'SUFU', 'HGF', 'E2F3', 'E2F2', 'E2F1', 'HDAC1', 'GSTA1', 'NQO1', 'IKBKB', 'IKBKG', 'FGFR4', 'RARA', 'RARB', 'NFE2L2', 'WNT10B', 'ARHGEF1', 'FADD', 'CDH1', 'RELA', 'CDKN2B', 'CDKN2A', 'KLK3', 'TPR', 'FN1', 'SLC2A1', 'ELK1', 'APC', 'WNT7A', 'WNT7B', 'TCF7L1', 'LAMB1', 'LAMB2', 'CCNE2', 'CCNE1', 'TXNRD1', 'IGF2', 'TCF7', 'IGF1', 'CCDC6', 'SHH', 'ZBTB17', 'EGLN3', 'EPAS1', 'EGLN1', 'CREBBP', 'WNT3A', 'PDGFRB', 'PDGFRA', 'HDAC2', 'CSF1R', 'APC2', 'FLT4', 'FLT3', 'SKP2', 'ZBTB16', 'SKP1', 'MECOM', 'ITGA2B', 'RPS6KB1', 'CDKN1A', 'TGFBR2', 'TGFBR1', 'RALGDS', 'CKS2', 'IL6R', 'DLL1', 'DLL3', 'DLL4', 'HSP90B1', 'EP300', 'MAPK8', 'MAPK9', 'ARNT', 'CDK2', 'CDK4', 'CDK6', 'LPAR2', 'TGFB1', 'TGFB2', 'TGFB3', 'MSH2', 'MSH6', 'BBC3', 'CEBPA', 'AXIN2', 'AXIN1', 'BID', 'RB1', 'DVL2', 'DVL3', 'ETS1', 'RAC2', 'RAC3', 'RAC1', 'PRKCA', 'PRKCB', 'CTNNA1', 'CTNNA2', 'CTNNA3', 'NOTCH4', 'NOTCH1', 'NOTCH2', 'NOTCH3', 'GSTP1', 'MMP9', 'PTCH2', 'MTOR', 'PTCH1', 'MMP2', 'MMP1', 'PMAIP1', 'CALM1', 'IL12RB1', 'GADD45A', 'GADD45B', 'IL12RB2', 'DCC', 'GADD45G', 'CUL1', 'CUL2', 'ERBB2', 'BRCA2', 'MDM2', 'FGFR2', 'FGFR3', 'FGFR1', 'PLD1', 'AKT1', 'CXCL8', 'ADCY9', 'TCF7L2', 'KIT', 'F2R', 'RUNX1', 'RBX1', 'CSF2RB', 'CSF2RA', 'HRAS', 'HIF1A', 'IFNGR1', 'CRK', 'STAT5B', 'JUN', 'PRKACG', 'EGF', 'JUP', 'RAD51', 'FOS', 'LAMC2', 'LAMC1', 'PAX8', 'TP53', 'GNAS', 'WNT10A', 'VEGFA', 'AGTR1', 'IL13', 'FGF21', 'COL4A1', 'BCR', 'STAT6', 'STAT4', 'STAT3', 'STAT2', 'STAT1', 'ESR2', 'LRP5', 'WNT3', 'WNT2', 'GSTM2', 'ESR1', 'WNT6', 'WNT4', 'IL6', 'IL7', 'IL4', 'IL5', 'IL2', 'IL3', 'IL23A', 'BIRC8', 'BIRC7', 'BIRC5', 'BIRC3', 'BIRC2', 'FOXO1', 'RUNX1T1', 'CBL', 'FAS', 'TERT', 'WNT2B', 'CASP7', 'CASP3', 'CASP8', 'CASP9', 'WNT9B', 'WNT9A', 'BCL2', 'BCL2L1', 'PTGS2', 'EPO', 'AKT2', 'AKT3', 'GLI3', 'NTRK1', 'HSP90AB1', 'DVL1', 'MYC', 'FASLG', 'RET', 'KRAS', 'BMP4', 'BMP2', 'GSK3B', 'GRB2', 'PDGFA', 'RASSF1', 'NFKBIA', 'PDGFB', 'PIM2', 'TGFA', 'PIK3R3', 'PIK3R2', 'PIK3R1', 'SPI1', 'FGF9', 'FGF8', 'FGF7', 'RHOA', 'FGF4', 'FGF2', 'FGF1', 'HMOX1', 'WNT5B', 'WNT5A', 'MAPK10', 'ABL1', 'GNAI2', 'GNAI1', 'FZD1', 'HEYL', 'MAPK3', 'FGF19', 'MAPK1', 'PML', 'NFKB1', 'NFKB2', 'FGF10', 'FGF16', 'APAF1', 'HEY2', 'HEY1', 'IFNA8', 'SOS2', 'SOS1', 'IFNA2', 'IFNA1', 'IFNA7', 'IFNA6', 'IFNA5', 'IFNA4', 'MET', 'STAT5A', 'PRKACA', 'NKX3-1', 'PRKACB', 'HSP90AA1', 'LAMA1', 'IL12B', 'IL12A', 'VHL', 'BCL2L11', 'NRAS', 'MLH1', 'GLI2', 'WNT8A', 'WNT8B', 'GLI1', 'DAPK2', 'DAPK1', 'TRAF1', 'TRAF2', 'TRAF3', 'TRAF4', 'TRAF5', 'TRAF6', 'PIM1', 'AR', 'BRAF', 'WNT16', 'WNT11']\n",
      "(399, 399)\n"
     ]
    }
   ],
   "source": [
    "f = open(\"processed_data/data.pkl\")\n",
    "data = pickle.load(f)\n",
    "print data[0]\n",
    "print data[1].shape\n"
   ]
  },
  {
   "cell_type": "code",
   "execution_count": null,
   "metadata": {
    "collapsed": false
   },
   "outputs": [
    {
     "name": "stdout",
     "output_type": "stream",
     "text": [
      "['CRKL', 'IL6ST', 'IFNAR2', 'IFNAR1', 'PTGER4', 'PIK3CA', 'PIK3CB', 'PIK3CD', 'PTGER2', 'IFNA13', 'IFNA10', 'IFNA17', 'IFNA16', 'IFNA14', 'CBLC', 'CBLB', 'IGF1R', 'IFNG', 'SP1', 'CAMK2G', 'CAMK2A', 'CAMK2B', 'STK4', 'CSF3R', 'CXCL12', 'CCND1', 'MAX', 'CCND3', 'CCND2', 'BAK1', 'PTEN', 'GSTM1', 'CTBP1', 'CTBP2', 'WNT1', 'HHIP', 'IL7R', 'RASGRP3', 'RASGRP1', 'CDKN1B', 'ITGA2', 'ITGA6', 'IL15', 'MGST1', 'EDNRB', 'JAK2', 'JAK3', 'JAK1', 'IL5RA', 'CHUK', 'PPARG', 'PPARD', 'COL4A4', 'COL4A3', 'COL4A2', 'VEGFC', 'VEGFB', 'ARNT2', 'GSTO1', 'RPS6KA5', 'ITGAV', 'HES1', 'IL15RA', 'HES5', 'RALBP1', 'SMAD4', 'SMAD2', 'SMAD3', 'SMO', 'XIAP', 'FH', 'POLK', 'NCOA3', 'NCOA1', 'NCOA4', 'CKS1B', 'DDB2', 'EPOR', 'LAMA3', 'LAMA4', 'EGLN2', 'RXRG', 'RXRA', 'RXRB', 'IL3RA', 'LEF1', 'BDKRB1', 'IL2RA', 'IL2RB', 'BDKRB2', 'ALK', 'IL2RG', 'BAD', 'IFNA21', 'CDC42', 'EGFR', 'BAX', 'CTNNB1', 'PLCG1', 'MITF', 'PGF', 'CCNA1', 'CAMK2D', 'CXCR4', 'JAG2', 'JAG1', 'ITGB1', 'NOS2', 'SUFU', 'HGF', 'E2F3', 'E2F2', 'E2F1', 'HDAC1', 'GSTA1', 'NQO1', 'IKBKB', 'IKBKG', 'FGFR4', 'RARA', 'RARB', 'NFE2L2', 'WNT10B', 'ARHGEF1', 'FADD', 'CDH1', 'RELA', 'CDKN2B', 'CDKN2A', 'KLK3', 'TPR', 'FN1', 'SLC2A1', 'ELK1', 'APC', 'WNT7A', 'WNT7B', 'TCF7L1', 'LAMB1', 'LAMB2', 'CCNE2', 'CCNE1', 'TXNRD1', 'IGF2', 'TCF7', 'IGF1', 'CCDC6', 'SHH', 'ZBTB17', 'EGLN3', 'EPAS1', 'EGLN1', 'CREBBP', 'WNT3A', 'PDGFRB', 'PDGFRA', 'HDAC2', 'CSF1R', 'APC2', 'FLT4', 'FLT3', 'SKP2', 'ZBTB16', 'SKP1', 'MECOM', 'ITGA2B', 'RPS6KB1', 'CDKN1A', 'TGFBR2', 'TGFBR1', 'RALGDS', 'CKS2', 'IL6R', 'DLL1', 'DLL3', 'DLL4', 'HSP90B1', 'EP300', 'MAPK8', 'MAPK9', 'ARNT', 'CDK2', 'CDK4', 'CDK6', 'LPAR2', 'TGFB1', 'TGFB2', 'TGFB3', 'MSH2', 'MSH6', 'BBC3', 'CEBPA', 'AXIN2', 'AXIN1', 'BID', 'RB1', 'DVL2', 'DVL3', 'ETS1', 'RAC2', 'RAC3', 'RAC1', 'PRKCA', 'PRKCB', 'CTNNA1', 'CTNNA2', 'CTNNA3', 'NOTCH4', 'NOTCH1', 'NOTCH2', 'NOTCH3', 'GSTP1', 'MMP9', 'PTCH2', 'MTOR', 'PTCH1', 'MMP2', 'MMP1', 'PMAIP1', 'CALM1', 'IL12RB1', 'GADD45A', 'GADD45B', 'IL12RB2', 'DCC', 'GADD45G', 'CUL1', 'CUL2', 'ERBB2', 'BRCA2', 'MDM2', 'FGFR2', 'FGFR3', 'FGFR1', 'PLD1', 'AKT1', 'CXCL8', 'ADCY9', 'TCF7L2', 'KIT', 'F2R', 'RUNX1', 'RBX1', 'CSF2RB', 'CSF2RA', 'HRAS', 'HIF1A', 'IFNGR1', 'CRK', 'STAT5B', 'JUN', 'PRKACG', 'EGF', 'JUP', 'RAD51', 'FOS', 'LAMC2', 'LAMC1', 'PAX8', 'TP53', 'GNAS', 'WNT10A', 'VEGFA', 'AGTR1', 'IL13', 'FGF21', 'COL4A1', 'BCR', 'STAT6', 'STAT4', 'STAT3', 'STAT2', 'STAT1', 'ESR2', 'LRP5', 'WNT3', 'WNT2', 'GSTM2', 'ESR1', 'WNT6', 'WNT4', 'IL6', 'IL7', 'IL4', 'IL5', 'IL2', 'IL3', 'IL23A', 'BIRC8', 'BIRC7', 'BIRC5', 'BIRC3', 'BIRC2', 'FOXO1', 'RUNX1T1', 'CBL', 'FAS', 'TERT', 'WNT2B', 'CASP7', 'CASP3', 'CASP8', 'CASP9', 'WNT9B', 'WNT9A', 'BCL2', 'BCL2L1', 'PTGS2', 'EPO', 'AKT2', 'AKT3', 'GLI3', 'NTRK1', 'HSP90AB1', 'DVL1', 'MYC', 'FASLG', 'RET', 'KRAS', 'BMP4', 'BMP2', 'GSK3B', 'GRB2', 'PDGFA', 'RASSF1', 'NFKBIA', 'PDGFB', 'PIM2', 'TGFA', 'PIK3R3', 'PIK3R2', 'PIK3R1', 'SPI1', 'FGF9', 'FGF8', 'FGF7', 'RHOA', 'FGF4', 'FGF2', 'FGF1', 'HMOX1', 'WNT5B', 'WNT5A', 'MAPK10', 'ABL1', 'GNAI2', 'GNAI1', 'FZD1', 'HEYL', 'MAPK3', 'FGF19', 'MAPK1', 'PML', 'NFKB1', 'NFKB2', 'FGF10', 'FGF16', 'APAF1', 'HEY2', 'HEY1', 'IFNA8', 'SOS2', 'SOS1', 'IFNA2', 'IFNA1', 'IFNA7', 'IFNA6', 'IFNA5', 'IFNA4', 'MET', 'STAT5A', 'PRKACA', 'NKX3-1', 'PRKACB', 'HSP90AA1', 'LAMA1', 'IL12B', 'IL12A', 'VHL', 'BCL2L11', 'NRAS', 'MLH1', 'GLI2', 'WNT8A', 'WNT8B', 'GLI1', 'DAPK2', 'DAPK1', 'TRAF1', 'TRAF2', 'TRAF3', 'TRAF4', 'TRAF5', 'TRAF6', 'PIM1', 'AR', 'BRAF', 'WNT16', 'WNT11']\n",
      "[[ 0.  0.  0. ...,  0.  0.  0.]\n",
      " [ 0.  0.  0. ...,  0.  0.  0.]\n",
      " [ 0.  0.  0. ...,  0.  0.  0.]\n",
      " ..., \n",
      " [ 0.  0.  0. ...,  0.  0.  0.]\n",
      " [ 0.  0.  0. ...,  0.  0.  0.]\n",
      " [ 0.  0.  0. ...,  0.  0.  0.]]\n"
     ]
    }
   ],
   "source": [
    "\n",
    "f = h5py.File(\"/data/lisa/data/genomics/TCGA/trust.hdf5\")\n",
    "f.create_dataset('gene_names', data=data[0])\n",
    "f.create_dataset('graph_data', data=data[1])\n",
    "f.close()"
   ]
  },
  {
   "cell_type": "code",
   "execution_count": null,
   "metadata": {
    "collapsed": true
   },
   "outputs": [],
   "source": []
  },
  {
   "cell_type": "raw",
   "metadata": {},
   "source": []
  }
 ],
 "metadata": {
  "kernelspec": {
   "display_name": "Python 2",
   "language": "python",
   "name": "python2"
  },
  "language_info": {
   "codemirror_mode": {
    "name": "ipython",
    "version": 2
   },
   "file_extension": ".py",
   "mimetype": "text/x-python",
   "name": "python",
   "nbconvert_exporter": "python",
   "pygments_lexer": "ipython2",
   "version": "2.7.13"
  }
 },
 "nbformat": 4,
 "nbformat_minor": 2
}
