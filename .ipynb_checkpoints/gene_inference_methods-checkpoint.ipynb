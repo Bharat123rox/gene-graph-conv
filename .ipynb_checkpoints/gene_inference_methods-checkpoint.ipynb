{
 "cells": [
  {
   "cell_type": "code",
   "execution_count": 107,
   "metadata": {},
   "outputs": [
    {
     "name": "stdout",
     "output_type": "stream",
     "text": [
      "The autoreload extension is already loaded. To reload it, use:\n",
      "  %reload_ext autoreload\n"
     ]
    }
   ],
   "source": [
    "import sys\n",
    "import time\n",
    "import copy\n",
    "from itertools import repeat\n",
    "import data, data.gene_datasets\n",
    "import sklearn, sklearn.model_selection, sklearn.metrics, sklearn.linear_model, sklearn.neural_network, sklearn.tree\n",
    "import numpy as np\n",
    "import matplotlib, matplotlib.pyplot as plt\n",
    "import networkx as nx\n",
    "import pandas as pd\n",
    "import gene_inference, gene_inference.utils\n",
    "from gene_inference.models import lr, mlp, decision_tree\n",
    "from gene_inference.infer_genes import infer_gene, infer_all_genes, sample_neighbors\n",
    "from data.graph import Graph\n",
    "from models.models import CGN\n",
    "from data.utils import split_dataset\n",
    "import optimization as otim\n",
    "from torch.autograd import Variable\n",
    "import torch\n",
    "import tensorflow\n",
    "from analysis.metrics import record_metrics_for_epoch\n",
    "from analysis.logger import Logger\n",
    "\n",
    "%load_ext autoreload\n",
    "%autoreload 2\n",
    "\n",
    "# Goal: To get a comparison of the methods with CGN and different dropouts today\n"
   ]
  },
  {
   "cell_type": "code",
   "execution_count": 2,
   "metadata": {},
   "outputs": [
    {
     "name": "stdout",
     "output_type": "stream",
     "text": [
      "Converting one-hot labels to integers\n"
     ]
    }
   ],
   "source": [
    "tcgatissue = data.gene_datasets.TCGATissue(data_dir='./genomics/TCGA/', data_file='TCGA_tissue_ppi.hdf5')\n",
    "class Object(object):\n",
    "    pass\n",
    "\n",
    "opt = Object()\n",
    "opt.seed = 0\n",
    "opt.nb_class = None\n",
    "opt.nb_examples = None\n",
    "opt.nb_nodes = None\n",
    "opt.graph = \"pathway\"\n",
    "opt.dataset = tcgatissue\n",
    "\n",
    "graph = Graph()\n",
    "#path = \"./genomics/graph/pancan-tissue-graph.hdf5\"\n",
    "path = \"./genomics/graph/pancan-tissue-graph.hdf5\"\n",
    "graph.load_graph(path)\n",
    "#graph.intersection_with(tcgatissue)\n",
    "g = nx.from_numpy_matrix(graph.adj)\n",
    "mapping = dict(zip(range(0, len(tcgatissue.df.columns)), tcgatissue.df.columns))\n",
    "g = nx.relabel_nodes(g, mapping)"
   ]
  },
  {
   "cell_type": "code",
   "execution_count": 3,
   "metadata": {},
   "outputs": [],
   "source": [
    "import models, models.graphLayer\n",
    "reload(models.graphLayer)\n",
    "opt.add_self = True\n",
    "opt.norm_adj = True\n",
    "opt.num_layer = 2\n",
    "opt.cuda = False\n",
    "opt.add_connectivity = True\n",
    "opt.pool_graph = \"ignore\"\n",
    "\n",
    "\n"
   ]
  },
  {
   "cell_type": "code",
   "execution_count": 4,
   "metadata": {},
   "outputs": [],
   "source": [
    "adj_transform, aggregate_function = models.graphLayer.get_transform(opt, graph.adj)\n"
   ]
  },
  {
   "cell_type": "code",
   "execution_count": 113,
   "metadata": {},
   "outputs": [
    {
     "name": "stdout",
     "output_type": "stream",
     "text": [
      "Doing drop-out\n"
     ]
    }
   ],
   "source": [
    "num_channel = 4\n",
    "num_layer = 1\n",
    "nb_class = 2\n",
    "model = CGN(\n",
    "            nb_nodes=len(tcgatissue.df.columns), \n",
    "            input_dim=1,\n",
    "            channels=[num_channel] * num_layer,\n",
    "            adj=graph.adj,\n",
    "            out_dim=nb_class,\n",
    "            on_cuda=False,\n",
    "            add_emb=None,\n",
    "            transform_adj=adj_transform,\n",
    "            aggregate_adj=aggregate_function,\n",
    "            use_gate=True,\n",
    "            dropout=True,\n",
    "            )"
   ]
  },
  {
   "cell_type": "code",
   "execution_count": 114,
   "metadata": {},
   "outputs": [],
   "source": [
    "def infer_gene(method, dataset, gene_to_infer, train_size, test_size, trials, penalty=False):\n",
    "    mean = dataset.df[gene_to_infer].mean()\n",
    "    dataset.labels = [1 if x > mean else 0 for x in dataset.df[gene_to_infer]]\n",
    "    dataset.df = dataset.df.drop(gene_to_infer, axis=1)\n",
    " \n",
    "    results = method(dataset, trials, train_size, test_size, penalty=penalty)\n",
    "\n",
    "    data = {\"gene_name\": gene_to_infer,\n",
    "            \"auc\": results[0],\n",
    "            \"std\": results[1]\n",
    "            }\n",
    "    return pd.DataFrame(data, [0])"
   ]
  },
  {
   "cell_type": "code",
   "execution_count": 117,
   "metadata": {},
   "outputs": [],
   "source": [
    "def cgn(dataset, trials, train_size, test_size, penalty=False, num_epochs=100):\n",
    "    scores = []\n",
    "    writer = Logger(\"./\")\n",
    "    labels = torch.LongTensor(dataset.labels)\n",
    "    criterions = otim.get_criterion(dataset)\n",
    "    optimizer = torch.optim.Adam(model.parameters(), lr=0.001, weight_decay=0.00001)\n",
    "    patience = 20\n",
    "    max_valid = 0\n",
    "\n",
    "    for trial in range(trials):\n",
    "        train_set, valid_set, test_set = split_dataset(dataset, batch_size=10, random=True, train_ratio=0.33333, seed=trial, nb_samples=train_size + 2 * test_size, nb_per_class=None)\n",
    "        for t in range(0, num_epochs):\n",
    "            start_timer = time.time()\n",
    "            for no_b, mini in enumerate(train_set):\n",
    "                inputs, labels = mini['sample'], mini['labels']\n",
    "\n",
    "                inputs = Variable(inputs, requires_grad=False).float()\n",
    "\n",
    "                model.train()\n",
    "\n",
    "                y_pred = model(inputs)\n",
    "\n",
    "                # Compute and print loss\n",
    "                crit_loss = otim.compute_loss(criterions, y_pred, labels)\n",
    "                #model_regularization_loss = model.regularization(opt.model_reg_lambda)\n",
    "                #l1_loss = setup_l1_loss(my_model, opt.l1_loss_lambda, l1_criterion, opt.cuda)\n",
    "                #total_loss = crit_loss + model_regularization_loss + l1_loss\n",
    "                total_loss = crit_loss\n",
    "\n",
    "                # Zero gradients, perform a backward pass, and update the weights.\n",
    "                optimizer.zero_grad()\n",
    "                crit_loss.backward()\n",
    "                optimizer.step()\n",
    "                model.eval()\n",
    "            time_this_epoch = time.time() - start_timer\n",
    "            acc, auc = record_metrics_for_epoch(writer, crit_loss, total_loss, t, time_this_epoch, train_set, valid_set, test_set, model, dataset, cuda=True)\n",
    "\n",
    "            summary = [\n",
    "                t,\n",
    "                crit_loss.data[0],\n",
    "                acc['train'],\n",
    "                acc['valid'],\n",
    "                auc['train'],\n",
    "                auc['valid'],\n",
    "                time_this_epoch\n",
    "            ]\n",
    "            summary = \"epoch {}, cross_loss: {:.03f}, acc_train: {:0.3f}, acc_valid: {:0.3f}, auc_train: {:0.3f}, auc_valid:{:0.3f}, time: {:.02f} sec\".format(*summary)\n",
    "            print summary\n",
    "\n",
    "            patience = patience - 1\n",
    "            if patience == 0:\n",
    "                break\n",
    "            if max_valid < auc['valid'] and t > 3:\n",
    "                scores.append(auc['valid']) \n",
    "                break\n",
    "\n",
    "    return np.round(np.mean(scores), 2),  np.round(np.std(scores), 2)\n"
   ]
  },
  {
   "cell_type": "code",
   "execution_count": null,
   "metadata": {
    "scrolled": true
   },
   "outputs": [
    {
     "name": "stdout",
     "output_type": "stream",
     "text": [
      "Converting one-hot labels to integers\n",
      "epoch 0, cross_loss: 0.824, acc_train: 0.545, acc_valid: 0.500, auc_train: 0.962, auc_valid:0.711, time: 0.87 sec\n",
      "epoch 1, cross_loss: 2.019, acc_train: 0.747, acc_valid: 0.590, auc_train: 0.977, auc_valid:0.723, time: 0.81 sec\n",
      "epoch 2, cross_loss: 5.505, acc_train: 0.667, acc_valid: 0.580, auc_train: 0.979, auc_valid:0.728, time: 0.79 sec\n",
      "epoch 3, cross_loss: 1.729, acc_train: 0.828, acc_valid: 0.650, auc_train: 0.983, auc_valid:0.723, time: 0.82 sec\n",
      "epoch 4, cross_loss: 0.731, acc_train: 0.899, acc_valid: 0.660, auc_train: 0.983, auc_valid:0.721, time: 0.80 sec\n"
     ]
    }
   ],
   "source": [
    "reload(data)\n",
    "reload(models)\n",
    "tcgatissue = data.gene_datasets.TCGATissue(data_dir='./genomics/TCGA/', data_file='TCGA_tissue_ppi.hdf5')\n",
    "infer_gene(cgn, tcgatissue, \"RPL5\", train_size=100, test_size=100, trials=3, penalty=False)"
   ]
  },
  {
   "cell_type": "code",
   "execution_count": null,
   "metadata": {},
   "outputs": [],
   "source": []
  }
 ],
 "metadata": {
  "kernelspec": {
   "display_name": "Python 2",
   "language": "python",
   "name": "python2"
  },
  "language_info": {
   "codemirror_mode": {
    "name": "ipython",
    "version": 2
   },
   "file_extension": ".py",
   "mimetype": "text/x-python",
   "name": "python",
   "nbconvert_exporter": "python",
   "pygments_lexer": "ipython2",
   "version": "2.7.13"
  }
 },
 "nbformat": 4,
 "nbformat_minor": 2
}
