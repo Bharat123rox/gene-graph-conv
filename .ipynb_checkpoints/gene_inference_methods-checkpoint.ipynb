{
 "cells": [
  {
   "cell_type": "code",
   "execution_count": 1,
   "metadata": {},
   "outputs": [
    {
     "name": "stderr",
     "output_type": "stream",
     "text": [
      "/Users/martinweiss/.pyenv/versions/2.7.13/lib/python2.7/site-packages/h5py/__init__.py:36: FutureWarning: Conversion of the second argument of issubdtype from `float` to `np.floating` is deprecated. In future, it will be treated as `np.float64 == np.dtype(float).type`.\n",
      "  from ._conv import register_converters as _register_converters\n"
     ]
    }
   ],
   "source": [
    "import sys\n",
    "from itertools import repeat\n",
    "import data, data.gene_datasets\n",
    "import sklearn, sklearn.model_selection, sklearn.metrics, sklearn.linear_model, sklearn.neural_network, sklearn.tree\n",
    "import numpy as np\n",
    "import matplotlib, matplotlib.pyplot as plt\n",
    "import networkx as nx\n",
    "import pandas as pd\n",
    "import gene_inference, gene_inference.utils\n",
    "from gene_inference.models import lr, mlp, decision_tree\n",
    "from gene_inference.infer_genes import infer_gene, infer_all_genes, sample_neighbors\n",
    "from data.graph import Graph\n",
    "%load_ext autoreload\n",
    "%autoreload 2\n",
    "\n",
    "# Goal: To get a comparison of the methods with CGN and different dropouts today\n"
   ]
  },
  {
   "cell_type": "code",
   "execution_count": 5,
   "metadata": {},
   "outputs": [
    {
     "name": "stdout",
     "output_type": "stream",
     "text": [
      "Converting one-hot labels to integers\n"
     ]
    }
   ],
   "source": [
    "tcgatissue = data.gene_datasets.TCGATissue(data_dir='./genomics/TCGA/', data_file='TCGA_tissue_ppi.hdf5')\n",
    "class Object(object):\n",
    "    pass\n",
    "\n",
    "opt = Object()\n",
    "opt.seed = 0\n",
    "opt.nb_class = None\n",
    "opt.nb_examples = None\n",
    "opt.nb_nodes = None\n",
    "opt.graph = \"pathway\"\n",
    "opt.dataset = tcgatissue\n",
    "\n",
    "graph = Graph()\n",
    "#path = \"./genomics/graph/pancan-tissue-graph.hdf5\"\n",
    "path = \"./genomics/graph/kegg.hdf5\"\n",
    "graph.load_graph(path)\n",
    "#graph.intersection_with(tcgatissue)\n",
    "g = nx.from_numpy_matrix(graph.adj)\n",
    "mapping = dict(zip(range(0, len(tcgatissue.df.columns)), tcgatissue.df.columns))\n",
    "g = nx.relabel_nodes(g, mapping)"
   ]
  },
  {
   "cell_type": "code",
   "execution_count": 10,
   "metadata": {},
   "outputs": [],
   "source": [
    "def predict_gene_from_samples(method, gene, max_train_size):\n",
    "    full_results = pd.DataFrame([])\n",
    "    first_degree_results = pd.DataFrame([])\n",
    "    first_degree = set(g.neighbors(gene))\n",
    "    first_degree.add(gene)\n",
    "\n",
    "    for train_size in range(10, max_train_size, 10):\n",
    "        print train_size\n",
    "        full_result = infer_gene(method, tcgatissue.df, gene, train_size, test_size=1000, trials=10, penalty=False)\n",
    "        full_results = full_results.append(full_result).reset_index(drop=True)\n",
    "        full_results.loc[full_results.index[-1], 'samples'] = train_size\n",
    "        \n",
    "        first_degree_result = infer_gene(method, tcgatissue.df.loc[:, first_degree], gene, train_size, test_size=1000, trials=10, penalty=False)\n",
    "        first_degree_results = first_degree_results.append(first_degree_result).reset_index(drop=True)\n",
    "        first_degree_results.loc[first_degree_results.index[-1], 'samples'] = train_size\n",
    "    return full_results, first_degree_results\n"
   ]
  },
  {
   "cell_type": "code",
   "execution_count": 4,
   "metadata": {},
   "outputs": [
    {
     "name": "stdout",
     "output_type": "stream",
     "text": [
      "10\n",
      "20\n",
      "30\n",
      "40\n",
      "50\n",
      "60\n",
      "70\n",
      "80\n",
      "90\n",
      "1\n",
      "10\n"
     ]
    },
    {
     "name": "stderr",
     "output_type": "stream",
     "text": [
      "/Users/martinweiss/.pyenv/versions/2.7.13/lib/python2.7/site-packages/sklearn/neural_network/multilayer_perceptron.py:564: ConvergenceWarning: Stochastic Optimizer: Maximum iterations (200) reached and the optimization hasn't converged yet.\n",
      "  % self.max_iter, ConvergenceWarning)\n"
     ]
    },
    {
     "name": "stdout",
     "output_type": "stream",
     "text": [
      "20\n",
      "30\n",
      "40\n",
      "50\n",
      "60\n",
      "70\n",
      "80\n",
      "90\n",
      "2\n",
      "10\n",
      "20\n",
      "30\n",
      "40\n",
      "50\n",
      "60\n",
      "70\n",
      "80\n",
      "90\n",
      "3\n"
     ]
    }
   ],
   "source": [
    "max_samples = 100\n",
    "full_results_1, first_degree_results_1 = predict_gene_from_samples(lr, \"RPL5\", max_samples)\n",
    "print \"1\"\n",
    "first_degree_results_2 = predict_gene_from_samples(mlp, \"RPL5\", max_samples)\n",
    "print \"2\"\n",
    "full_results_3, first_degree_results_3 = predict_gene_from_samples(decision_tree, \"RPL5\", max_samples)\n",
    "print \"3\""
   ]
  },
  {
   "cell_type": "code",
   "execution_count": null,
   "metadata": {},
   "outputs": [],
   "source": [
    "def mlp(df, labels, trials, train_size, test_size, penalty=False):\n",
    "    # Try with only 1 layer, and with regularization\n",
    "    scores = []\n",
    "\n",
    "    for i in range(trials):\n",
    "        X_train, X_test, y_train, y_test = sklearn.model_selection.train_test_split(df, labels, stratify=labels, train_size=train_size, test_size=test_size, random_state=i)\n",
    "\n",
    "        model = sklearn.neural_network.MLPClassifier(hidden_layer_sizes=(100,3))\n",
    "        model = model.fit(X_train, y_train)\n",
    "\n",
    "        score = sklearn.metrics.roc_auc_score(y_test, model.predict(X_test))\n",
    "        scores.append(score)\n",
    "    return np.round(np.mean(scores), 2),  np.round(np.std(scores), 2)\n"
   ]
  },
  {
   "cell_type": "code",
   "execution_count": 6,
   "metadata": {},
   "outputs": [
    {
     "ename": "ValueError",
     "evalue": "Cluster type ignore unknown.",
     "output_type": "error",
     "traceback": [
      "\u001b[0;31m---------------------------------------------------------------------------\u001b[0m",
      "\u001b[0;31mValueError\u001b[0m                                Traceback (most recent call last)",
      "\u001b[0;32m<ipython-input-6-3a24ec50b605>\u001b[0m in \u001b[0;36m<module>\u001b[0;34m()\u001b[0m\n\u001b[1;32m      7\u001b[0m \u001b[0mopt\u001b[0m\u001b[0;34m.\u001b[0m\u001b[0mpool_graph\u001b[0m \u001b[0;34m=\u001b[0m \u001b[0;34m\"ignore\"\u001b[0m\u001b[0;34m\u001b[0m\u001b[0m\n\u001b[1;32m      8\u001b[0m \u001b[0;34m\u001b[0m\u001b[0m\n\u001b[0;32m----> 9\u001b[0;31m \u001b[0madj_transform\u001b[0m\u001b[0;34m,\u001b[0m \u001b[0maggregate_function\u001b[0m \u001b[0;34m=\u001b[0m \u001b[0mgraphLayer\u001b[0m\u001b[0;34m.\u001b[0m\u001b[0mget_transform\u001b[0m\u001b[0;34m(\u001b[0m\u001b[0mopt\u001b[0m\u001b[0;34m,\u001b[0m \u001b[0mgraph\u001b[0m\u001b[0;34m.\u001b[0m\u001b[0madj\u001b[0m\u001b[0;34m)\u001b[0m\u001b[0;34m\u001b[0m\u001b[0m\n\u001b[0m",
      "\u001b[0;32m/Users/martinweiss/code/conv-graph/graphLayer.pyc\u001b[0m in \u001b[0;36mget_transform\u001b[0;34m(opt, adj)\u001b[0m\n",
      "\u001b[0;32m/Users/martinweiss/code/conv-graph/graphLayer.pyc\u001b[0m in \u001b[0;36m__init__\u001b[0;34m(self, adj, nb_layer, adj_transform, on_cuda, cluster_type, **kwargs)\u001b[0m\n",
      "\u001b[0;32m/Users/martinweiss/code/conv-graph/graphLayer.pyc\u001b[0m in \u001b[0;36minit_cluster\u001b[0;34m(self)\u001b[0m\n",
      "\u001b[0;32m/Users/martinweiss/code/conv-graph/graphLayer.pyc\u001b[0m in \u001b[0;36mcluster_specific_layer\u001b[0;34m(self, last_to_keep, n_clusters, adj)\u001b[0m\n",
      "\u001b[0;32m/Users/martinweiss/code/conv-graph/graphLayer.pyc\u001b[0m in \u001b[0;36mget_nodes_cluster\u001b[0;34m(self, last_to_keep, layer_id, adj)\u001b[0m\n",
      "\u001b[0;31mValueError\u001b[0m: Cluster type ignore unknown."
     ]
    }
   ],
   "source": [
    "import graphLayer\n",
    "reload(graphLayer)\n",
    "opt.add_self = True\n",
    "opt.norm_adj = True\n",
    "opt.num_layer = 2\n",
    "opt.cuda = False\n",
    "opt.pool_graph = \"ignore\"\n",
    "\n",
    "adj_transform, aggregate_function = graphLayer.get_transform(opt, graph.adj)\n"
   ]
  },
  {
   "cell_type": "code",
   "execution_count": 13,
   "metadata": {},
   "outputs": [
    {
     "data": {
      "text/plain": [
       "<matplotlib.legend.Legend at 0x110c01850>"
      ]
     },
     "execution_count": 13,
     "metadata": {},
     "output_type": "execute_result"
    },
    {
     "data": {
      "image/png": "[encoded data removed]",
      "text/plain": [
       "<matplotlib.figure.Figure at 0x110a9c810>"
      ]
     },
     "metadata": {},
     "output_type": "display_data"
    }
   ],
   "source": [
    "plt.figure()\n",
    "\n",
    "line1 = plt.errorbar(full_results_1.index, full_results_1['auc'], xerr=0, yerr=full_results_1['std'])\n",
    "line2 = plt.errorbar(first_degree_results_2[0].index, first_degree_results_2[0]['auc'], xerr=0, yerr=first_degree_results_2[0]['std'])\n",
    "line3 = plt.errorbar(full_results_3.index, full_results_3['auc'], xerr=0, yerr=full_results_3['std'])\n",
    "\n",
    "width = 0.2\n",
    "plt.xticks(list(full_results_1.iloc[::1, :].index), full_results_1.iloc[::1, :]['samples'], rotation=70)\n",
    "plt.title(\"Gene Inference with varying numbers of Samples and Methods\")\n",
    "plt.ylabel(\"AUC\")\n",
    "plt.xlabel(\"Number of Samples\")\n",
    "plt.legend((line1[0], line2[0], line3[0]), ('LR', 'MLP', 'Decision Tree'), bbox_to_anchor=(1.05, 1), loc=2, borderaxespad=0., fontsize=10)"
   ]
  },
  {
   "cell_type": "code",
   "execution_count": null,
   "metadata": {},
   "outputs": [],
   "source": []
  }
 ],
 "metadata": {
  "kernelspec": {
   "display_name": "Python 2",
   "language": "python",
   "name": "python2"
  },
  "language_info": {
   "codemirror_mode": {
    "name": "ipython",
    "version": 2
   },
   "file_extension": ".py",
   "mimetype": "text/x-python",
   "name": "python",
   "nbconvert_exporter": "python",
   "pygments_lexer": "ipython2",
   "version": "2.7.13"
  }
 },
 "nbformat": 4,
 "nbformat_minor": 2
}
