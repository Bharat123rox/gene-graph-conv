{
 "cells": [
  {
   "cell_type": "code",
   "execution_count": 1,
   "metadata": {},
   "outputs": [],
   "source": [
    "import time\n",
    "import os\n",
    "import sys\n",
    "import copy\n",
    "import pickle\n",
    "import networkx as nx\n",
    "import pandas as pd\n",
    "import numpy as np\n",
    "\n",
    "import itertools\n",
    "import sklearn\n",
    "import torch\n",
    "import datetime\n",
    "import matplotlib, matplotlib.pyplot as plt\n",
    "from collections import defaultdict\n",
    "from scipy import sparse\n",
    "\n",
    "from torch.autograd import Variable\n",
    "from models.models import MLP\n",
    "from data import datasets\n",
    "from data.gene_graphs import GeneManiaGraph, RegNetGraph\n",
    "from data.utils import record_result\n",
    "from data.clinical.datasets import TCGADataset, Task\n",
    "from data.clinical import taskloader\n",
    "from data.clinical import split_dataset\n",
    "\n",
    "from models.models import MLP, GCN, SLR\n",
    "\n",
    "%load_ext autoreload\n",
    "%autoreload 2"
   ]
  },
  {
   "cell_type": "code",
   "execution_count": 2,
   "metadata": {},
   "outputs": [],
   "source": [
    "#results.groupby([\"seed\", \"model\"]).mean()"
   ]
  },
  {
   "cell_type": "code",
   "execution_count": 3,
   "metadata": {},
   "outputs": [
    {
     "name": "stdout",
     "output_type": "stream",
     "text": [
      "Torrent name: TCGA_tissue_ppi.hdf5, Size: 1748.32MB\n"
     ]
    }
   ],
   "source": [
    "tcga = TCGADataset()\n",
    "task_ids = taskloader.get_all_tasks(tcga)"
   ]
  },
  {
   "cell_type": "code",
   "execution_count": 4,
   "metadata": {},
   "outputs": [],
   "source": [
    "tasks = [Task(tcga, task_id, limit=1000) for task_id in task_ids]"
   ]
  },
  {
   "cell_type": "code",
   "execution_count": 5,
   "metadata": {},
   "outputs": [
    {
     "name": "stdout",
     "output_type": "stream",
     "text": [
      "Torrent name: genemania.pkl, Size: 9.61MB\n"
     ]
    }
   ],
   "source": [
    "graphs = {\"genemania\": GeneManiaGraph()}"
   ]
  },
  {
   "cell_type": "code",
   "execution_count": 12,
   "metadata": {},
   "outputs": [
    {
     "name": "stdout",
     "output_type": "stream",
     "text": [
      "Loaded Checkpointed Results\n"
     ]
    }
   ],
   "source": [
    "# Setup the results dictionary\n",
    "filename = \"experiments/results/clinical-tasks.pkl\"\n",
    "try:\n",
    "    results = pickle.load(open(filename, \"rb\"), encoding='latin1')\n",
    "    print(\"Loaded Checkpointed Results\")\n",
    "except Exception as e:\n",
    "    print(e)\n",
    "    results = pd.DataFrame(columns=['task', 'auc', 'model', 'graph', 'seed', 'train_size', 'time_elapsed'])\n",
    "    print(\"Created a New Results Dictionary\")\n"
   ]
  },
  {
   "cell_type": "code",
   "execution_count": 13,
   "metadata": {},
   "outputs": [],
   "source": [
    "train_size = 50\n",
    "test_size = 200\n",
    "trials = 3\n",
    "cuda = True\n",
    "models = [\n",
    "              #GCN(name=\"GCN_lay20_chan32_emb32_dropout_pool_kmeans\", cuda=cuda, dropout=True, num_layer=4, channels=32, embedding=32, prepool_extralayers=5, pooling=\"kmeans\"),\n",
    "              GCN(name=\"GCN_lay20_chan32_emb32_dropout_pool_hierarchy\", cuda=cuda, dropout=True, num_layer=4, channels=32, embedding=32, prepool_extralayers=5, pooling=\"hierarchy\"),\n",
    "              #GCN(name=\"GCN_lay20_chan32_emb32_dropout_pool_random\", cuda=cuda, dropout=True,num_layer=4, channels=32, embedding=32, prepool_extralayers=5, pooling=\"random\"),\n",
    "              GCN(name=\"GCN_lay3_chan64_emb32_dropout_pool_hierarchy\", cuda=cuda, dropout=True, num_layer=3, channels=64, embedding=32, pooling=\"hierarchy\"),\n",
    "              GCN(name=\"GCN_lay3_chan64_emb32_dropout\", cuda=cuda, dropout=True, num_layer=3, channels=64, embedding=32),\n",
    "              MLP(name=\"MLP_lay2_chan512_dropout\", cuda=cuda, dropout=True, num_layer=2, channels=512),\n",
    "              MLP(name=\"MLP_lay2_chan512\", cuda=cuda, dropout=False, num_layer=2, channels=512),\n",
    "              #SLR(name=\"SLR_lambda1_l11\", cuda=cuda)\n",
    "             ]"
   ]
  },
  {
   "cell_type": "code",
   "execution_count": 14,
   "metadata": {},
   "outputs": [
    {
     "name": "stdout",
     "output_type": "stream",
     "text": [
      "todo: 4266\n",
      "done: 120\n"
     ]
    }
   ],
   "source": [
    "# Create the set of all experiment ids and see which are left to do\n",
    "columns = [\"task\", \"graph\", \"model\", \"seed\", \"train_size\"]\n",
    "all_exp_ids = [x for x in itertools.product([task.id for task in tasks], graphs.keys(), [model.name for model in models], range(trials), [train_size])]\n",
    "all_exp_ids = pd.DataFrame(all_exp_ids, columns=columns)\n",
    "all_exp_ids.index = [\"-\".join(map(str, tup[1:])) for tup in all_exp_ids.itertuples(name=None)]\n",
    "results_exp_ids = results[columns].copy()\n",
    "results_exp_ids.index = [\"-\".join(map(str, tup[1:])) for tup in results_exp_ids.itertuples(name=None)]\n",
    "intersection_ids = all_exp_ids.index.intersection(results_exp_ids.index)\n",
    "todo = all_exp_ids.drop(intersection_ids).to_dict(orient=\"records\")\n",
    "\n",
    "print(\"todo: \" + str(len(todo)))\n",
    "print(\"done: \" + str(len(results)))"
   ]
  },
  {
   "cell_type": "code",
   "execution_count": 15,
   "metadata": {},
   "outputs": [],
   "source": [
    "def get_every_n(a, n=2):\n",
    "    for i in range(a.shape[0] // 2):\n",
    "        yield a[2*i:2*(i+1)]\n"
   ]
  },
  {
   "cell_type": "code",
   "execution_count": null,
   "metadata": {},
   "outputs": [],
   "source": []
  },
  {
   "cell_type": "code",
   "execution_count": null,
   "metadata": {},
   "outputs": [
    {
     "name": "stdout",
     "output_type": "stream",
     "text": [
      "120\n",
      "{'graph': 'genemania', 'train_size': 50, 'seed': 0, 'model': 'GCN_lay3_chan64_emb32_dropout_pool_hierarchy', 'task': 'gender-GBMLGG'}\n",
      "setup layers took: 4.560330152511597\n",
      "epoch: 0 2.6280558109283447\n",
      "epoch: 1 2.5993592739105225\n",
      "epoch: 2 2.5525755882263184\n",
      "epoch: 3 2.618264675140381\n",
      "epoch: 4 2.5772268772125244\n",
      "epoch: 5 1.6897790431976318\n",
      "epoch: 6 1.5698542594909668\n",
      "epoch: 7 2.513338804244995\n",
      "epoch: 8 2.8173038959503174\n",
      "epoch: 9 2.6581063270568848\n",
      "epoch: 10 2.8203506469726562\n",
      "epoch: 11 2.771275281906128\n",
      "epoch: 12 2.7750329971313477\n",
      "epoch: 13 2.862403392791748\n",
      "epoch: 14 2.8410699367523193\n",
      "epoch: 15 2.8059704303741455\n",
      "total train time:109.32652997970581 for epochs: 16\n",
      "{'time_elapsed': '140.30032563209534', 'train_size': 50, 'model': 'GCN_lay3_chan64_emb32_dropout_pool_hierarchy', 'seed': 0, 'graph': 'genemania', 'cuda': True, 'auc': 0.5696654426764586, 'task': 'gender-GBMLGG'}\n",
      "121\n",
      "{'graph': 'genemania', 'train_size': 50, 'seed': 1, 'model': 'GCN_lay3_chan64_emb32_dropout_pool_hierarchy', 'task': 'gender-GBMLGG'}\n",
      "setup layers took: 4.768017768859863\n",
      "epoch: 0 2.655618906021118\n",
      "epoch: 1 2.8345022201538086\n",
      "epoch: 2 2.6337738037109375\n",
      "epoch: 3 2.8284811973571777\n",
      "epoch: 4 2.756669282913208\n",
      "epoch: 5 2.7719838619232178\n",
      "epoch: 6 2.843139886856079\n",
      "epoch: 7 2.8727474212646484\n",
      "epoch: 8 2.822967052459717\n",
      "epoch: 9 2.6849875450134277\n",
      "epoch: 10 2.7069170475006104\n",
      "epoch: 11 2.5409882068634033\n",
      "epoch: 12 2.624518871307373\n",
      "epoch: 13 2.5514791011810303\n",
      "epoch: 14 2.623310089111328\n",
      "epoch: 15 2.580214023590088\n",
      "epoch: 16 2.572352170944214\n",
      "epoch: 17 2.5633437633514404\n",
      "epoch: 18 2.6089837551116943\n",
      "epoch: 19 2.627718925476074\n",
      "epoch: 20 2.5725388526916504\n",
      "epoch: 21 2.556252956390381\n",
      "epoch: 22 2.608747959136963\n",
      "epoch: 23 2.5531041622161865\n",
      "epoch: 24 2.6283349990844727\n",
      "epoch: 25 2.6054139137268066\n",
      "epoch: 26 1.565842866897583\n",
      "epoch: 27 1.8932626247406006\n",
      "epoch: 28 2.6765518188476562\n",
      "epoch: 29 2.781862258911133\n",
      "epoch: 30 2.8587729930877686\n",
      "epoch: 31 2.8453400135040283\n",
      "epoch: 32 2.804635763168335\n",
      "epoch: 33 2.7424559593200684\n",
      "epoch: 34 2.715228319168091\n",
      "epoch: 35 2.7851076126098633\n",
      "epoch: 36 2.8315439224243164\n",
      "epoch: 37 2.7867190837860107\n",
      "total train time:257.69745564460754 for epochs: 38\n",
      "{'time_elapsed': '290.2245192527771', 'train_size': 50, 'model': 'GCN_lay3_chan64_emb32_dropout_pool_hierarchy', 'seed': 1, 'graph': 'genemania', 'cuda': True, 'auc': 0.9997960016319869, 'task': 'gender-GBMLGG'}\n",
      "122\n",
      "{'graph': 'genemania', 'train_size': 50, 'seed': 2, 'model': 'GCN_lay3_chan64_emb32_dropout_pool_hierarchy', 'task': 'gender-GBMLGG'}\n",
      "setup layers took: 4.269901990890503\n",
      "epoch: 0 2.8077445030212402\n",
      "epoch: 1 2.623183488845825\n",
      "epoch: 2 2.809509038925171\n",
      "epoch: 3 2.6897246837615967\n",
      "epoch: 4 2.778143882751465\n",
      "epoch: 5 2.8634467124938965\n",
      "epoch: 6 2.8247158527374268\n",
      "epoch: 7 2.8132200241088867\n",
      "epoch: 8 2.748095750808716\n",
      "epoch: 9 2.6285815238952637\n",
      "epoch: 10 2.6284525394439697\n",
      "epoch: 11 2.571545124053955\n",
      "epoch: 12 2.62528920173645\n",
      "epoch: 13 2.605172634124756\n",
      "epoch: 14 2.566312313079834\n",
      "epoch: 15 2.6252636909484863\n",
      "epoch: 16 2.5769472122192383\n",
      "epoch: 17 2.591850757598877\n",
      "epoch: 18 2.604367733001709\n",
      "epoch: 19 2.5371572971343994\n",
      "epoch: 20 2.626617670059204\n",
      "epoch: 21 2.6013898849487305\n",
      "epoch: 22 2.540032386779785\n",
      "epoch: 23 2.6269166469573975\n",
      "epoch: 24 2.5720627307891846\n",
      "epoch: 25 1.5678391456604004\n",
      "epoch: 26 1.5650014877319336\n",
      "total train time:180.2273736000061 for epochs: 27\n",
      "{'time_elapsed': '211.0138692855835', 'train_size': 50, 'model': 'GCN_lay3_chan64_emb32_dropout_pool_hierarchy', 'seed': 2, 'graph': 'genemania', 'cuda': True, 'auc': 0.7425540595675234, 'task': 'gender-GBMLGG'}\n",
      "123\n",
      "{'graph': 'genemania', 'train_size': 50, 'seed': 0, 'model': 'GCN_lay3_chan64_emb32_dropout_pool_hierarchy', 'task': 'gender-LIHC'}\n",
      "setup layers took: 4.546218395233154\n",
      "epoch: 0 2.8425471782684326\n",
      "epoch: 1 2.833747148513794\n",
      "epoch: 2 2.670088768005371\n",
      "epoch: 3 2.813880205154419\n",
      "epoch: 4 2.8507609367370605\n",
      "epoch: 5 2.837529182434082\n",
      "epoch: 6 2.7860522270202637\n",
      "epoch: 7 2.6966114044189453\n",
      "epoch: 8 2.8060436248779297\n",
      "epoch: 9 2.8487935066223145\n",
      "epoch: 10 2.836291551589966\n",
      "epoch: 11 2.854353427886963\n",
      "epoch: 12 2.6497743129730225\n",
      "epoch: 13 2.798316717147827\n",
      "epoch: 14 2.690495252609253\n",
      "epoch: 15 2.826080322265625\n",
      "epoch: 16 2.9024136066436768\n",
      "total train time:125.18558835983276 for epochs: 17\n",
      "{'time_elapsed': '157.30754590034485', 'train_size': 50, 'model': 'GCN_lay3_chan64_emb32_dropout_pool_hierarchy', 'seed': 0, 'graph': 'genemania', 'cuda': True, 'auc': 0.6231060606060606, 'task': 'gender-LIHC'}\n",
      "124\n",
      "{'graph': 'genemania', 'train_size': 50, 'seed': 1, 'model': 'GCN_lay3_chan64_emb32_dropout_pool_hierarchy', 'task': 'gender-LIHC'}\n",
      "setup layers took: 4.4530041217803955\n",
      "epoch: 0 2.626882314682007\n",
      "epoch: 1 2.608980417251587\n",
      "epoch: 2 2.5712151527404785\n",
      "epoch: 3 2.625976085662842\n",
      "epoch: 4 2.5874762535095215\n",
      "epoch: 5 2.5481722354888916\n",
      "epoch: 6 2.626995801925659\n",
      "epoch: 7 2.5720367431640625\n",
      "epoch: 8 2.5662293434143066\n",
      "epoch: 9 2.610870838165283\n",
      "epoch: 10 2.5595264434814453\n",
      "epoch: 11 2.625734567642212\n",
      "epoch: 12 2.579042911529541\n",
      "epoch: 13 2.5576999187469482\n",
      "epoch: 14 2.610775947570801\n",
      "epoch: 15 1.5658714771270752\n",
      "epoch: 16 1.5675735473632812\n",
      "epoch: 17 2.632314443588257\n",
      "epoch: 18 2.8223016262054443\n",
      "epoch: 19 2.674690008163452\n",
      "epoch: 20 2.770451545715332\n",
      "epoch: 21 2.774144411087036\n",
      "epoch: 22 2.8760669231414795\n",
      "epoch: 23 2.818772554397583\n",
      "epoch: 24 2.8731818199157715\n",
      "epoch: 25 2.6521425247192383\n",
      "epoch: 26 2.786900520324707\n",
      "total train time:180.86947202682495 for epochs: 27\n",
      "{'time_elapsed': '212.6117205619812', 'train_size': 50, 'model': 'GCN_lay3_chan64_emb32_dropout_pool_hierarchy', 'seed': 1, 'graph': 'genemania', 'cuda': True, 'auc': 0.6704545454545455, 'task': 'gender-LIHC'}\n",
      "125\n",
      "{'graph': 'genemania', 'train_size': 50, 'seed': 2, 'model': 'GCN_lay3_chan64_emb32_dropout_pool_hierarchy', 'task': 'gender-LIHC'}\n",
      "setup layers took: 4.496336221694946\n",
      "epoch: 0 2.948496103286743\n",
      "epoch: 1 2.6393048763275146\n",
      "epoch: 2 2.810225009918213\n",
      "epoch: 3 2.702943801879883\n",
      "epoch: 4 2.7798044681549072\n",
      "epoch: 5 2.9376168251037598\n",
      "epoch: 6 2.742727518081665\n",
      "epoch: 7 2.773510694503784\n",
      "epoch: 8 2.6707346439361572\n",
      "epoch: 9 2.782353401184082\n",
      "epoch: 10 2.931147813796997\n",
      "epoch: 11 2.731781244277954\n",
      "epoch: 12 2.798079013824463\n",
      "epoch: 13 2.657254934310913\n",
      "epoch: 14 2.5496599674224854\n",
      "epoch: 15 2.627601146697998\n",
      "total train time:117.18945479393005 for epochs: 16\n",
      "{'time_elapsed': '147.42713594436646', 'train_size': 50, 'model': 'GCN_lay3_chan64_emb32_dropout_pool_hierarchy', 'seed': 2, 'graph': 'genemania', 'cuda': True, 'auc': 0.6607620320855616, 'task': 'gender-LIHC'}\n",
      "126\n",
      "{'graph': 'genemania', 'train_size': 50, 'seed': 0, 'model': 'GCN_lay3_chan64_emb32_dropout_pool_hierarchy', 'task': 'gender-LUAD'}\n",
      "setup layers took: 4.299633264541626\n",
      "epoch: 0 2.5621626377105713\n",
      "epoch: 1 2.629575490951538\n",
      "epoch: 2 2.631605386734009\n",
      "epoch: 3 2.573090076446533\n",
      "epoch: 4 1.5659162998199463\n",
      "epoch: 5 1.5636882781982422\n",
      "epoch: 6 2.1923718452453613\n",
      "epoch: 7 2.968144416809082\n",
      "epoch: 8 3.014875888824463\n",
      "epoch: 9 2.9946236610412598\n",
      "epoch: 10 2.987962245941162\n",
      "epoch: 11 2.8685970306396484\n",
      "epoch: 12 2.8948745727539062\n",
      "epoch: 13 3.0190670490264893\n",
      "epoch: 14 3.072200059890747\n",
      "epoch: 15 2.959322214126587\n",
      "epoch: 16 3.1321213245391846\n",
      "epoch: 17 2.982424736022949\n",
      "total train time:127.67568159103394 for epochs: 18\n",
      "{'time_elapsed': '159.53694701194763', 'train_size': 50, 'model': 'GCN_lay3_chan64_emb32_dropout_pool_hierarchy', 'seed': 0, 'graph': 'genemania', 'cuda': True, 'auc': 0.8723832528180355, 'task': 'gender-LUAD'}\n",
      "127\n",
      "{'graph': 'genemania', 'train_size': 50, 'seed': 1, 'model': 'GCN_lay3_chan64_emb32_dropout_pool_hierarchy', 'task': 'gender-LUAD'}\n",
      "setup layers took: 4.215567111968994\n",
      "epoch: 0 3.016446352005005\n",
      "epoch: 1 3.084851026535034\n",
      "epoch: 2 2.953009605407715\n",
      "epoch: 3 2.987624168395996\n",
      "epoch: 4 2.930882692337036\n",
      "epoch: 5 2.9449074268341064\n",
      "epoch: 6 3.010763645172119\n",
      "epoch: 7 3.054004192352295\n",
      "epoch: 8 2.9581713676452637\n",
      "epoch: 9 3.1201581954956055\n",
      "epoch: 10 2.8935132026672363\n",
      "epoch: 11 2.906040668487549\n",
      "epoch: 12 3.0210046768188477\n",
      "epoch: 13 3.017406463623047\n",
      "epoch: 14 2.870746374130249\n",
      "epoch: 15 3.0083909034729004\n",
      "epoch: 16 2.781108856201172\n",
      "epoch: 17 2.686030864715576\n",
      "epoch: 18 2.619868040084839\n",
      "epoch: 19 2.65452241897583\n",
      "epoch: 20 2.689293146133423\n",
      "epoch: 21 2.691648483276367\n",
      "epoch: 22 2.6254031658172607\n",
      "epoch: 23 2.6440112590789795\n",
      "epoch: 24 2.714653968811035\n",
      "epoch: 25 2.6909096240997314\n",
      "epoch: 26 2.6126697063446045\n",
      "epoch: 27 2.7176170349121094\n",
      "epoch: 28 2.7009243965148926\n"
     ]
    }
   ],
   "source": [
    "for row in todo:\n",
    "    start_time = time.time()\n",
    "#    if len(results) % 10 == 0:\n",
    "    print(len(results))\n",
    "    graph_name = row[\"graph\"]\n",
    "    seed = row[\"seed\"]\n",
    "    model = [copy.deepcopy(model) for model in models if model.name == row[\"model\"]][0]\n",
    "    task = [copy.deepcopy(task) for task in tasks if task.id == row[\"task\"]][0]\n",
    "    test_size = min(test_size, len(task.labels - train_size))\n",
    "    experiment = {\n",
    "        \"task\": task.id,\n",
    "        \"model\": model.name,\n",
    "        \"graph\": graph_name,\n",
    "        \"seed\": seed,\n",
    "        \"train_size\": train_size,\n",
    "    }\n",
    "    print(experiment)\n",
    "    try:\n",
    "        X_train, X_test, y_train, y_test = sklearn.model_selection.\\\n",
    "            train_test_split(task.get_data(), task.labels, stratify=task.labels, \n",
    "                             train_size=train_size, test_size=test_size)\n",
    "    except ValueError as e:\n",
    "        print(e)\n",
    "        results = record_result(results, experiment, filename)\n",
    "        continue\n",
    "\n",
    "    X_train = X_train.copy()\n",
    "    X_test = X_test.copy()\n",
    "    gene_graph = graphs[graph_name]\n",
    "    adj = np.asarray(nx.to_numpy_matrix(gene_graph.nx_graph))\n",
    "    model.fit(X_train, y_train.astype(\"uint8\"), adj=adj)\n",
    "    x_test = Variable(torch.FloatTensor(np.expand_dims(X_test.values, axis=2)), requires_grad=False).float()\n",
    "    if cuda:\n",
    "        x_test = x_test.cuda()\n",
    "\n",
    "    y_hat = []\n",
    "    for chunk in get_every_n(x_test, 10):\n",
    "        y_hat.extend(model.predict(chunk)[:,1].data.cpu().numpy().tolist())\n",
    "    auc = sklearn.metrics.roc_auc_score(y_test, np.asarray(y_hat).flatten())\n",
    "    model.best_model = None # cleanup\n",
    "    experiment[\"auc\"] = auc\n",
    "    experiment[\"time_elapsed\"] = str(time.time() - start_time)\n",
    "    experiment[\"cuda\"] = cuda\n",
    "    print(experiment)\n",
    "    results = record_result(results, experiment, filename)\n"
   ]
  },
  {
   "cell_type": "code",
   "execution_count": 11,
   "metadata": {},
   "outputs": [
    {
     "data": {
      "text/html": [
       "<div>\n",
       "<style scoped>\n",
       "    .dataframe tbody tr th:only-of-type {\n",
       "        vertical-align: middle;\n",
       "    }\n",
       "\n",
       "    .dataframe tbody tr th {\n",
       "        vertical-align: top;\n",
       "    }\n",
       "\n",
       "    .dataframe thead th {\n",
       "        text-align: right;\n",
       "    }\n",
       "</style>\n",
       "<table border=\"1\" class=\"dataframe\">\n",
       "  <thead>\n",
       "    <tr style=\"text-align: right;\">\n",
       "      <th></th>\n",
       "      <th>task</th>\n",
       "      <th>auc</th>\n",
       "      <th>model</th>\n",
       "      <th>graph</th>\n",
       "      <th>seed</th>\n",
       "      <th>train_size</th>\n",
       "      <th>time_elapsed</th>\n",
       "      <th>cuda</th>\n",
       "    </tr>\n",
       "  </thead>\n",
       "  <tbody>\n",
       "    <tr>\n",
       "      <th>0</th>\n",
       "      <td>gender-GBMLGG</td>\n",
       "      <td>0.696074</td>\n",
       "      <td>GCN_lay20_chan32_emb32_dropout_pool_kmeans</td>\n",
       "      <td>genemania</td>\n",
       "      <td>0</td>\n",
       "      <td>50</td>\n",
       "      <td>101.8999891281128</td>\n",
       "      <td>1.0</td>\n",
       "    </tr>\n",
       "    <tr>\n",
       "      <th>1</th>\n",
       "      <td>gender-GBMLGG</td>\n",
       "      <td>0.541811</td>\n",
       "      <td>GCN_lay20_chan32_emb32_dropout_pool_kmeans</td>\n",
       "      <td>genemania</td>\n",
       "      <td>0</td>\n",
       "      <td>50</td>\n",
       "      <td>92.53726387023926</td>\n",
       "      <td>1.0</td>\n",
       "    </tr>\n",
       "    <tr>\n",
       "      <th>2</th>\n",
       "      <td>gender-GBMLGG</td>\n",
       "      <td>0.534344</td>\n",
       "      <td>GCN_lay20_chan32_emb32_dropout_pool_kmeans</td>\n",
       "      <td>genemania</td>\n",
       "      <td>0</td>\n",
       "      <td>50</td>\n",
       "      <td>153.04803681373596</td>\n",
       "      <td>1.0</td>\n",
       "    </tr>\n",
       "    <tr>\n",
       "      <th>3</th>\n",
       "      <td>gender-GBMLGG</td>\n",
       "      <td>0.656330</td>\n",
       "      <td>GCN_lay20_chan32_emb32_dropout_pool_kmeans</td>\n",
       "      <td>genemania</td>\n",
       "      <td>1</td>\n",
       "      <td>50</td>\n",
       "      <td>150.57913613319397</td>\n",
       "      <td>1.0</td>\n",
       "    </tr>\n",
       "    <tr>\n",
       "      <th>4</th>\n",
       "      <td>gender-GBMLGG</td>\n",
       "      <td>0.648618</td>\n",
       "      <td>GCN_lay20_chan32_emb32_dropout_pool_kmeans</td>\n",
       "      <td>genemania</td>\n",
       "      <td>2</td>\n",
       "      <td>50</td>\n",
       "      <td>143.46760845184326</td>\n",
       "      <td>1.0</td>\n",
       "    </tr>\n",
       "    <tr>\n",
       "      <th>5</th>\n",
       "      <td>gender-GBMLGG</td>\n",
       "      <td>0.489943</td>\n",
       "      <td>GCN_lay20_chan32_emb32_dropout_pool_kmeans</td>\n",
       "      <td>genemania</td>\n",
       "      <td>0</td>\n",
       "      <td>50</td>\n",
       "      <td>92.06407713890076</td>\n",
       "      <td>1.0</td>\n",
       "    </tr>\n",
       "    <tr>\n",
       "      <th>6</th>\n",
       "      <td>gender-GBMLGG</td>\n",
       "      <td>0.567708</td>\n",
       "      <td>GCN_lay20_chan32_emb32_dropout_pool_kmeans</td>\n",
       "      <td>genemania</td>\n",
       "      <td>1</td>\n",
       "      <td>50</td>\n",
       "      <td>95.9979305267334</td>\n",
       "      <td>1.0</td>\n",
       "    </tr>\n",
       "    <tr>\n",
       "      <th>7</th>\n",
       "      <td>gender-GBMLGG</td>\n",
       "      <td>0.621642</td>\n",
       "      <td>GCN_lay20_chan32_emb32_dropout_pool_kmeans</td>\n",
       "      <td>genemania</td>\n",
       "      <td>2</td>\n",
       "      <td>50</td>\n",
       "      <td>107.31765985488892</td>\n",
       "      <td>1.0</td>\n",
       "    </tr>\n",
       "    <tr>\n",
       "      <th>8</th>\n",
       "      <td>gender-GBMLGG</td>\n",
       "      <td>0.570894</td>\n",
       "      <td>GCN_lay20_chan32_emb32_dropout_pool_hierarchy</td>\n",
       "      <td>genemania</td>\n",
       "      <td>0</td>\n",
       "      <td>50</td>\n",
       "      <td>163.4053122997284</td>\n",
       "      <td>1.0</td>\n",
       "    </tr>\n",
       "    <tr>\n",
       "      <th>9</th>\n",
       "      <td>gender-GBMLGG</td>\n",
       "      <td>0.640955</td>\n",
       "      <td>GCN_lay20_chan32_emb32_dropout_pool_hierarchy</td>\n",
       "      <td>genemania</td>\n",
       "      <td>1</td>\n",
       "      <td>50</td>\n",
       "      <td>98.40751552581787</td>\n",
       "      <td>1.0</td>\n",
       "    </tr>\n",
       "    <tr>\n",
       "      <th>10</th>\n",
       "      <td>gender-GBMLGG</td>\n",
       "      <td>0.628015</td>\n",
       "      <td>GCN_lay20_chan32_emb32_dropout_pool_hierarchy</td>\n",
       "      <td>genemania</td>\n",
       "      <td>2</td>\n",
       "      <td>50</td>\n",
       "      <td>109.55564761161804</td>\n",
       "      <td>1.0</td>\n",
       "    </tr>\n",
       "    <tr>\n",
       "      <th>11</th>\n",
       "      <td>gender-GBMLGG</td>\n",
       "      <td>0.986896</td>\n",
       "      <td>GCN_lay3_chan64_emb32_dropout</td>\n",
       "      <td>genemania</td>\n",
       "      <td>0</td>\n",
       "      <td>50</td>\n",
       "      <td>123.46560001373291</td>\n",
       "      <td>1.0</td>\n",
       "    </tr>\n",
       "    <tr>\n",
       "      <th>12</th>\n",
       "      <td>gender-GBMLGG</td>\n",
       "      <td>0.645726</td>\n",
       "      <td>GCN_lay3_chan64_emb32_dropout</td>\n",
       "      <td>genemania</td>\n",
       "      <td>0</td>\n",
       "      <td>50</td>\n",
       "      <td>117.0726261138916</td>\n",
       "      <td>1.0</td>\n",
       "    </tr>\n",
       "    <tr>\n",
       "      <th>13</th>\n",
       "      <td>gender-GBMLGG</td>\n",
       "      <td>0.999804</td>\n",
       "      <td>GCN_lay3_chan64_emb32_dropout</td>\n",
       "      <td>genemania</td>\n",
       "      <td>1</td>\n",
       "      <td>50</td>\n",
       "      <td>192.5189926624298</td>\n",
       "      <td>1.0</td>\n",
       "    </tr>\n",
       "    <tr>\n",
       "      <th>14</th>\n",
       "      <td>gender-GBMLGG</td>\n",
       "      <td>0.997304</td>\n",
       "      <td>GCN_lay3_chan64_emb32_dropout</td>\n",
       "      <td>genemania</td>\n",
       "      <td>0</td>\n",
       "      <td>50</td>\n",
       "      <td>157.48014736175537</td>\n",
       "      <td>1.0</td>\n",
       "    </tr>\n",
       "    <tr>\n",
       "      <th>15</th>\n",
       "      <td>gender-GBMLGG</td>\n",
       "      <td>0.999918</td>\n",
       "      <td>GCN_lay3_chan64_emb32_dropout</td>\n",
       "      <td>genemania</td>\n",
       "      <td>2</td>\n",
       "      <td>50</td>\n",
       "      <td>169.91464495658875</td>\n",
       "      <td>1.0</td>\n",
       "    </tr>\n",
       "    <tr>\n",
       "      <th>16</th>\n",
       "      <td>gender-GBMLGG</td>\n",
       "      <td>0.610434</td>\n",
       "      <td>MLP_lay2_chan512_dropout</td>\n",
       "      <td>genemania</td>\n",
       "      <td>0</td>\n",
       "      <td>50</td>\n",
       "      <td>9.622604846954346</td>\n",
       "      <td>1.0</td>\n",
       "    </tr>\n",
       "    <tr>\n",
       "      <th>17</th>\n",
       "      <td>gender-GBMLGG</td>\n",
       "      <td>0.533364</td>\n",
       "      <td>MLP_lay2_chan512_dropout</td>\n",
       "      <td>genemania</td>\n",
       "      <td>1</td>\n",
       "      <td>50</td>\n",
       "      <td>9.302472829818726</td>\n",
       "      <td>1.0</td>\n",
       "    </tr>\n",
       "    <tr>\n",
       "      <th>18</th>\n",
       "      <td>gender-GBMLGG</td>\n",
       "      <td>0.562904</td>\n",
       "      <td>MLP_lay2_chan512_dropout</td>\n",
       "      <td>genemania</td>\n",
       "      <td>2</td>\n",
       "      <td>50</td>\n",
       "      <td>9.452790260314941</td>\n",
       "      <td>1.0</td>\n",
       "    </tr>\n",
       "    <tr>\n",
       "      <th>19</th>\n",
       "      <td>gender-GBMLGG</td>\n",
       "      <td>0.601774</td>\n",
       "      <td>MLP_lay2_chan512</td>\n",
       "      <td>genemania</td>\n",
       "      <td>0</td>\n",
       "      <td>50</td>\n",
       "      <td>10.061105012893677</td>\n",
       "      <td>1.0</td>\n",
       "    </tr>\n",
       "    <tr>\n",
       "      <th>20</th>\n",
       "      <td>gender-GBMLGG</td>\n",
       "      <td>0.679710</td>\n",
       "      <td>MLP_lay2_chan512</td>\n",
       "      <td>genemania</td>\n",
       "      <td>1</td>\n",
       "      <td>50</td>\n",
       "      <td>9.623066663742065</td>\n",
       "      <td>1.0</td>\n",
       "    </tr>\n",
       "    <tr>\n",
       "      <th>21</th>\n",
       "      <td>gender-GBMLGG</td>\n",
       "      <td>0.612950</td>\n",
       "      <td>MLP_lay2_chan512</td>\n",
       "      <td>genemania</td>\n",
       "      <td>2</td>\n",
       "      <td>50</td>\n",
       "      <td>9.721599817276001</td>\n",
       "      <td>1.0</td>\n",
       "    </tr>\n",
       "    <tr>\n",
       "      <th>22</th>\n",
       "      <td>gender-LIHC</td>\n",
       "      <td>NaN</td>\n",
       "      <td>GCN_lay20_chan32_emb32_dropout_pool_hierarchy</td>\n",
       "      <td>genemania</td>\n",
       "      <td>0</td>\n",
       "      <td>50</td>\n",
       "      <td>NaN</td>\n",
       "      <td>NaN</td>\n",
       "    </tr>\n",
       "    <tr>\n",
       "      <th>23</th>\n",
       "      <td>gender-LIHC</td>\n",
       "      <td>NaN</td>\n",
       "      <td>GCN_lay20_chan32_emb32_dropout_pool_hierarchy</td>\n",
       "      <td>genemania</td>\n",
       "      <td>1</td>\n",
       "      <td>50</td>\n",
       "      <td>NaN</td>\n",
       "      <td>NaN</td>\n",
       "    </tr>\n",
       "    <tr>\n",
       "      <th>24</th>\n",
       "      <td>gender-LIHC</td>\n",
       "      <td>NaN</td>\n",
       "      <td>GCN_lay20_chan32_emb32_dropout_pool_hierarchy</td>\n",
       "      <td>genemania</td>\n",
       "      <td>2</td>\n",
       "      <td>50</td>\n",
       "      <td>NaN</td>\n",
       "      <td>NaN</td>\n",
       "    </tr>\n",
       "    <tr>\n",
       "      <th>25</th>\n",
       "      <td>gender-LIHC</td>\n",
       "      <td>NaN</td>\n",
       "      <td>GCN_lay3_chan64_emb32_dropout</td>\n",
       "      <td>genemania</td>\n",
       "      <td>0</td>\n",
       "      <td>50</td>\n",
       "      <td>NaN</td>\n",
       "      <td>NaN</td>\n",
       "    </tr>\n",
       "    <tr>\n",
       "      <th>26</th>\n",
       "      <td>gender-LIHC</td>\n",
       "      <td>NaN</td>\n",
       "      <td>GCN_lay3_chan64_emb32_dropout</td>\n",
       "      <td>genemania</td>\n",
       "      <td>1</td>\n",
       "      <td>50</td>\n",
       "      <td>NaN</td>\n",
       "      <td>NaN</td>\n",
       "    </tr>\n",
       "    <tr>\n",
       "      <th>27</th>\n",
       "      <td>gender-LIHC</td>\n",
       "      <td>NaN</td>\n",
       "      <td>GCN_lay3_chan64_emb32_dropout</td>\n",
       "      <td>genemania</td>\n",
       "      <td>2</td>\n",
       "      <td>50</td>\n",
       "      <td>NaN</td>\n",
       "      <td>NaN</td>\n",
       "    </tr>\n",
       "    <tr>\n",
       "      <th>28</th>\n",
       "      <td>gender-LIHC</td>\n",
       "      <td>NaN</td>\n",
       "      <td>MLP_lay2_chan512_dropout</td>\n",
       "      <td>genemania</td>\n",
       "      <td>0</td>\n",
       "      <td>50</td>\n",
       "      <td>NaN</td>\n",
       "      <td>NaN</td>\n",
       "    </tr>\n",
       "    <tr>\n",
       "      <th>29</th>\n",
       "      <td>gender-LIHC</td>\n",
       "      <td>NaN</td>\n",
       "      <td>MLP_lay2_chan512_dropout</td>\n",
       "      <td>genemania</td>\n",
       "      <td>1</td>\n",
       "      <td>50</td>\n",
       "      <td>NaN</td>\n",
       "      <td>NaN</td>\n",
       "    </tr>\n",
       "    <tr>\n",
       "      <th>...</th>\n",
       "      <td>...</td>\n",
       "      <td>...</td>\n",
       "      <td>...</td>\n",
       "      <td>...</td>\n",
       "      <td>...</td>\n",
       "      <td>...</td>\n",
       "      <td>...</td>\n",
       "      <td>...</td>\n",
       "    </tr>\n",
       "    <tr>\n",
       "      <th>90</th>\n",
       "      <td>gender-SARC</td>\n",
       "      <td>0.852121</td>\n",
       "      <td>GCN_lay3_chan64_emb32_dropout</td>\n",
       "      <td>genemania</td>\n",
       "      <td>0</td>\n",
       "      <td>50</td>\n",
       "      <td>212.43781328201294</td>\n",
       "      <td>1.0</td>\n",
       "    </tr>\n",
       "    <tr>\n",
       "      <th>91</th>\n",
       "      <td>gender-SARC</td>\n",
       "      <td>0.811111</td>\n",
       "      <td>GCN_lay3_chan64_emb32_dropout</td>\n",
       "      <td>genemania</td>\n",
       "      <td>1</td>\n",
       "      <td>50</td>\n",
       "      <td>292.0016164779663</td>\n",
       "      <td>1.0</td>\n",
       "    </tr>\n",
       "    <tr>\n",
       "      <th>92</th>\n",
       "      <td>gender-SARC</td>\n",
       "      <td>0.997071</td>\n",
       "      <td>GCN_lay3_chan64_emb32_dropout</td>\n",
       "      <td>genemania</td>\n",
       "      <td>2</td>\n",
       "      <td>50</td>\n",
       "      <td>336.1760804653168</td>\n",
       "      <td>1.0</td>\n",
       "    </tr>\n",
       "    <tr>\n",
       "      <th>93</th>\n",
       "      <td>gender-SARC</td>\n",
       "      <td>0.304343</td>\n",
       "      <td>MLP_lay2_chan512_dropout</td>\n",
       "      <td>genemania</td>\n",
       "      <td>0</td>\n",
       "      <td>50</td>\n",
       "      <td>9.958466053009033</td>\n",
       "      <td>1.0</td>\n",
       "    </tr>\n",
       "    <tr>\n",
       "      <th>94</th>\n",
       "      <td>gender-SARC</td>\n",
       "      <td>0.706263</td>\n",
       "      <td>MLP_lay2_chan512_dropout</td>\n",
       "      <td>genemania</td>\n",
       "      <td>1</td>\n",
       "      <td>50</td>\n",
       "      <td>10.216306924819946</td>\n",
       "      <td>1.0</td>\n",
       "    </tr>\n",
       "    <tr>\n",
       "      <th>95</th>\n",
       "      <td>gender-SARC</td>\n",
       "      <td>0.689798</td>\n",
       "      <td>MLP_lay2_chan512_dropout</td>\n",
       "      <td>genemania</td>\n",
       "      <td>2</td>\n",
       "      <td>50</td>\n",
       "      <td>10.275620460510254</td>\n",
       "      <td>1.0</td>\n",
       "    </tr>\n",
       "    <tr>\n",
       "      <th>96</th>\n",
       "      <td>gender-SARC</td>\n",
       "      <td>0.718788</td>\n",
       "      <td>MLP_lay2_chan512</td>\n",
       "      <td>genemania</td>\n",
       "      <td>0</td>\n",
       "      <td>50</td>\n",
       "      <td>9.760879278182983</td>\n",
       "      <td>1.0</td>\n",
       "    </tr>\n",
       "    <tr>\n",
       "      <th>97</th>\n",
       "      <td>gender-SARC</td>\n",
       "      <td>0.741010</td>\n",
       "      <td>MLP_lay2_chan512</td>\n",
       "      <td>genemania</td>\n",
       "      <td>1</td>\n",
       "      <td>50</td>\n",
       "      <td>10.592178106307983</td>\n",
       "      <td>1.0</td>\n",
       "    </tr>\n",
       "    <tr>\n",
       "      <th>98</th>\n",
       "      <td>gender-SARC</td>\n",
       "      <td>0.727879</td>\n",
       "      <td>MLP_lay2_chan512</td>\n",
       "      <td>genemania</td>\n",
       "      <td>2</td>\n",
       "      <td>50</td>\n",
       "      <td>9.72108507156372</td>\n",
       "      <td>1.0</td>\n",
       "    </tr>\n",
       "    <tr>\n",
       "      <th>99</th>\n",
       "      <td>gender-KIRP</td>\n",
       "      <td>0.863014</td>\n",
       "      <td>GCN_lay3_chan64_emb32_dropout</td>\n",
       "      <td>genemania</td>\n",
       "      <td>0</td>\n",
       "      <td>50</td>\n",
       "      <td>192.2615737915039</td>\n",
       "      <td>1.0</td>\n",
       "    </tr>\n",
       "    <tr>\n",
       "      <th>100</th>\n",
       "      <td>gender-KIRP</td>\n",
       "      <td>0.794521</td>\n",
       "      <td>GCN_lay3_chan64_emb32_dropout</td>\n",
       "      <td>genemania</td>\n",
       "      <td>1</td>\n",
       "      <td>50</td>\n",
       "      <td>171.93811058998108</td>\n",
       "      <td>1.0</td>\n",
       "    </tr>\n",
       "    <tr>\n",
       "      <th>101</th>\n",
       "      <td>gender-KIRP</td>\n",
       "      <td>0.781710</td>\n",
       "      <td>GCN_lay3_chan64_emb32_dropout</td>\n",
       "      <td>genemania</td>\n",
       "      <td>2</td>\n",
       "      <td>50</td>\n",
       "      <td>258.64036560058594</td>\n",
       "      <td>1.0</td>\n",
       "    </tr>\n",
       "    <tr>\n",
       "      <th>102</th>\n",
       "      <td>gender-KIRP</td>\n",
       "      <td>0.735287</td>\n",
       "      <td>MLP_lay2_chan512_dropout</td>\n",
       "      <td>genemania</td>\n",
       "      <td>0</td>\n",
       "      <td>50</td>\n",
       "      <td>9.310352087020874</td>\n",
       "      <td>1.0</td>\n",
       "    </tr>\n",
       "    <tr>\n",
       "      <th>103</th>\n",
       "      <td>gender-KIRP</td>\n",
       "      <td>0.776383</td>\n",
       "      <td>MLP_lay2_chan512_dropout</td>\n",
       "      <td>genemania</td>\n",
       "      <td>1</td>\n",
       "      <td>50</td>\n",
       "      <td>10.063404321670532</td>\n",
       "      <td>1.0</td>\n",
       "    </tr>\n",
       "    <tr>\n",
       "      <th>104</th>\n",
       "      <td>gender-KIRP</td>\n",
       "      <td>0.682395</td>\n",
       "      <td>MLP_lay2_chan512_dropout</td>\n",
       "      <td>genemania</td>\n",
       "      <td>2</td>\n",
       "      <td>50</td>\n",
       "      <td>9.568913698196411</td>\n",
       "      <td>1.0</td>\n",
       "    </tr>\n",
       "    <tr>\n",
       "      <th>105</th>\n",
       "      <td>gender-KIRP</td>\n",
       "      <td>0.714739</td>\n",
       "      <td>MLP_lay2_chan512</td>\n",
       "      <td>genemania</td>\n",
       "      <td>0</td>\n",
       "      <td>50</td>\n",
       "      <td>10.696329832077026</td>\n",
       "      <td>1.0</td>\n",
       "    </tr>\n",
       "    <tr>\n",
       "      <th>106</th>\n",
       "      <td>gender-KIRP</td>\n",
       "      <td>0.690512</td>\n",
       "      <td>MLP_lay2_chan512</td>\n",
       "      <td>genemania</td>\n",
       "      <td>1</td>\n",
       "      <td>50</td>\n",
       "      <td>9.162387132644653</td>\n",
       "      <td>1.0</td>\n",
       "    </tr>\n",
       "    <tr>\n",
       "      <th>107</th>\n",
       "      <td>gender-KIRP</td>\n",
       "      <td>0.715627</td>\n",
       "      <td>MLP_lay2_chan512</td>\n",
       "      <td>genemania</td>\n",
       "      <td>2</td>\n",
       "      <td>50</td>\n",
       "      <td>9.543086528778076</td>\n",
       "      <td>1.0</td>\n",
       "    </tr>\n",
       "    <tr>\n",
       "      <th>108</th>\n",
       "      <td>gender-STAD</td>\n",
       "      <td>0.720057</td>\n",
       "      <td>GCN_lay3_chan64_emb32_dropout</td>\n",
       "      <td>genemania</td>\n",
       "      <td>0</td>\n",
       "      <td>50</td>\n",
       "      <td>235.38490629196167</td>\n",
       "      <td>1.0</td>\n",
       "    </tr>\n",
       "    <tr>\n",
       "      <th>109</th>\n",
       "      <td>gender-STAD</td>\n",
       "      <td>0.646484</td>\n",
       "      <td>GCN_lay3_chan64_emb32_dropout</td>\n",
       "      <td>genemania</td>\n",
       "      <td>1</td>\n",
       "      <td>50</td>\n",
       "      <td>196.21939516067505</td>\n",
       "      <td>1.0</td>\n",
       "    </tr>\n",
       "    <tr>\n",
       "      <th>110</th>\n",
       "      <td>gender-STAD</td>\n",
       "      <td>0.602418</td>\n",
       "      <td>GCN_lay3_chan64_emb32_dropout</td>\n",
       "      <td>genemania</td>\n",
       "      <td>2</td>\n",
       "      <td>50</td>\n",
       "      <td>165.31576585769653</td>\n",
       "      <td>1.0</td>\n",
       "    </tr>\n",
       "    <tr>\n",
       "      <th>111</th>\n",
       "      <td>gender-STAD</td>\n",
       "      <td>0.622527</td>\n",
       "      <td>MLP_lay2_chan512_dropout</td>\n",
       "      <td>genemania</td>\n",
       "      <td>0</td>\n",
       "      <td>50</td>\n",
       "      <td>8.943795204162598</td>\n",
       "      <td>1.0</td>\n",
       "    </tr>\n",
       "    <tr>\n",
       "      <th>112</th>\n",
       "      <td>gender-STAD</td>\n",
       "      <td>0.657386</td>\n",
       "      <td>MLP_lay2_chan512_dropout</td>\n",
       "      <td>genemania</td>\n",
       "      <td>1</td>\n",
       "      <td>50</td>\n",
       "      <td>9.682600736618042</td>\n",
       "      <td>1.0</td>\n",
       "    </tr>\n",
       "    <tr>\n",
       "      <th>113</th>\n",
       "      <td>gender-STAD</td>\n",
       "      <td>0.591978</td>\n",
       "      <td>MLP_lay2_chan512_dropout</td>\n",
       "      <td>genemania</td>\n",
       "      <td>2</td>\n",
       "      <td>50</td>\n",
       "      <td>9.664214372634888</td>\n",
       "      <td>1.0</td>\n",
       "    </tr>\n",
       "    <tr>\n",
       "      <th>114</th>\n",
       "      <td>gender-STAD</td>\n",
       "      <td>0.558795</td>\n",
       "      <td>MLP_lay2_chan512</td>\n",
       "      <td>genemania</td>\n",
       "      <td>0</td>\n",
       "      <td>50</td>\n",
       "      <td>9.64704942703247</td>\n",
       "      <td>1.0</td>\n",
       "    </tr>\n",
       "    <tr>\n",
       "      <th>115</th>\n",
       "      <td>gender-STAD</td>\n",
       "      <td>0.709903</td>\n",
       "      <td>MLP_lay2_chan512</td>\n",
       "      <td>genemania</td>\n",
       "      <td>1</td>\n",
       "      <td>50</td>\n",
       "      <td>9.065874099731445</td>\n",
       "      <td>1.0</td>\n",
       "    </tr>\n",
       "    <tr>\n",
       "      <th>116</th>\n",
       "      <td>gender-STAD</td>\n",
       "      <td>0.683481</td>\n",
       "      <td>MLP_lay2_chan512</td>\n",
       "      <td>genemania</td>\n",
       "      <td>2</td>\n",
       "      <td>50</td>\n",
       "      <td>10.077442646026611</td>\n",
       "      <td>1.0</td>\n",
       "    </tr>\n",
       "    <tr>\n",
       "      <th>117</th>\n",
       "      <td>gender-LUAD</td>\n",
       "      <td>0.500000</td>\n",
       "      <td>GCN_lay20_chan32_emb32_dropout_pool_hierarchy</td>\n",
       "      <td>genemania</td>\n",
       "      <td>0</td>\n",
       "      <td>50</td>\n",
       "      <td>215.5386176109314</td>\n",
       "      <td>1.0</td>\n",
       "    </tr>\n",
       "    <tr>\n",
       "      <th>118</th>\n",
       "      <td>gender-LUAD</td>\n",
       "      <td>0.500000</td>\n",
       "      <td>GCN_lay20_chan32_emb32_dropout_pool_hierarchy</td>\n",
       "      <td>genemania</td>\n",
       "      <td>1</td>\n",
       "      <td>50</td>\n",
       "      <td>237.33521008491516</td>\n",
       "      <td>1.0</td>\n",
       "    </tr>\n",
       "    <tr>\n",
       "      <th>119</th>\n",
       "      <td>gender-LUAD</td>\n",
       "      <td>0.500000</td>\n",
       "      <td>GCN_lay20_chan32_emb32_dropout_pool_hierarchy</td>\n",
       "      <td>genemania</td>\n",
       "      <td>2</td>\n",
       "      <td>50</td>\n",
       "      <td>262.3027272224426</td>\n",
       "      <td>1.0</td>\n",
       "    </tr>\n",
       "  </tbody>\n",
       "</table>\n",
       "<p>120 rows × 8 columns</p>\n",
       "</div>"
      ],
      "text/plain": [
       "              task       auc                                          model  \\\n",
       "0    gender-GBMLGG  0.696074     GCN_lay20_chan32_emb32_dropout_pool_kmeans   \n",
       "1    gender-GBMLGG  0.541811     GCN_lay20_chan32_emb32_dropout_pool_kmeans   \n",
       "2    gender-GBMLGG  0.534344     GCN_lay20_chan32_emb32_dropout_pool_kmeans   \n",
       "3    gender-GBMLGG  0.656330     GCN_lay20_chan32_emb32_dropout_pool_kmeans   \n",
       "4    gender-GBMLGG  0.648618     GCN_lay20_chan32_emb32_dropout_pool_kmeans   \n",
       "5    gender-GBMLGG  0.489943     GCN_lay20_chan32_emb32_dropout_pool_kmeans   \n",
       "6    gender-GBMLGG  0.567708     GCN_lay20_chan32_emb32_dropout_pool_kmeans   \n",
       "7    gender-GBMLGG  0.621642     GCN_lay20_chan32_emb32_dropout_pool_kmeans   \n",
       "8    gender-GBMLGG  0.570894  GCN_lay20_chan32_emb32_dropout_pool_hierarchy   \n",
       "9    gender-GBMLGG  0.640955  GCN_lay20_chan32_emb32_dropout_pool_hierarchy   \n",
       "10   gender-GBMLGG  0.628015  GCN_lay20_chan32_emb32_dropout_pool_hierarchy   \n",
       "11   gender-GBMLGG  0.986896                  GCN_lay3_chan64_emb32_dropout   \n",
       "12   gender-GBMLGG  0.645726                  GCN_lay3_chan64_emb32_dropout   \n",
       "13   gender-GBMLGG  0.999804                  GCN_lay3_chan64_emb32_dropout   \n",
       "14   gender-GBMLGG  0.997304                  GCN_lay3_chan64_emb32_dropout   \n",
       "15   gender-GBMLGG  0.999918                  GCN_lay3_chan64_emb32_dropout   \n",
       "16   gender-GBMLGG  0.610434                       MLP_lay2_chan512_dropout   \n",
       "17   gender-GBMLGG  0.533364                       MLP_lay2_chan512_dropout   \n",
       "18   gender-GBMLGG  0.562904                       MLP_lay2_chan512_dropout   \n",
       "19   gender-GBMLGG  0.601774                               MLP_lay2_chan512   \n",
       "20   gender-GBMLGG  0.679710                               MLP_lay2_chan512   \n",
       "21   gender-GBMLGG  0.612950                               MLP_lay2_chan512   \n",
       "22     gender-LIHC       NaN  GCN_lay20_chan32_emb32_dropout_pool_hierarchy   \n",
       "23     gender-LIHC       NaN  GCN_lay20_chan32_emb32_dropout_pool_hierarchy   \n",
       "24     gender-LIHC       NaN  GCN_lay20_chan32_emb32_dropout_pool_hierarchy   \n",
       "25     gender-LIHC       NaN                  GCN_lay3_chan64_emb32_dropout   \n",
       "26     gender-LIHC       NaN                  GCN_lay3_chan64_emb32_dropout   \n",
       "27     gender-LIHC       NaN                  GCN_lay3_chan64_emb32_dropout   \n",
       "28     gender-LIHC       NaN                       MLP_lay2_chan512_dropout   \n",
       "29     gender-LIHC       NaN                       MLP_lay2_chan512_dropout   \n",
       "..             ...       ...                                            ...   \n",
       "90     gender-SARC  0.852121                  GCN_lay3_chan64_emb32_dropout   \n",
       "91     gender-SARC  0.811111                  GCN_lay3_chan64_emb32_dropout   \n",
       "92     gender-SARC  0.997071                  GCN_lay3_chan64_emb32_dropout   \n",
       "93     gender-SARC  0.304343                       MLP_lay2_chan512_dropout   \n",
       "94     gender-SARC  0.706263                       MLP_lay2_chan512_dropout   \n",
       "95     gender-SARC  0.689798                       MLP_lay2_chan512_dropout   \n",
       "96     gender-SARC  0.718788                               MLP_lay2_chan512   \n",
       "97     gender-SARC  0.741010                               MLP_lay2_chan512   \n",
       "98     gender-SARC  0.727879                               MLP_lay2_chan512   \n",
       "99     gender-KIRP  0.863014                  GCN_lay3_chan64_emb32_dropout   \n",
       "100    gender-KIRP  0.794521                  GCN_lay3_chan64_emb32_dropout   \n",
       "101    gender-KIRP  0.781710                  GCN_lay3_chan64_emb32_dropout   \n",
       "102    gender-KIRP  0.735287                       MLP_lay2_chan512_dropout   \n",
       "103    gender-KIRP  0.776383                       MLP_lay2_chan512_dropout   \n",
       "104    gender-KIRP  0.682395                       MLP_lay2_chan512_dropout   \n",
       "105    gender-KIRP  0.714739                               MLP_lay2_chan512   \n",
       "106    gender-KIRP  0.690512                               MLP_lay2_chan512   \n",
       "107    gender-KIRP  0.715627                               MLP_lay2_chan512   \n",
       "108    gender-STAD  0.720057                  GCN_lay3_chan64_emb32_dropout   \n",
       "109    gender-STAD  0.646484                  GCN_lay3_chan64_emb32_dropout   \n",
       "110    gender-STAD  0.602418                  GCN_lay3_chan64_emb32_dropout   \n",
       "111    gender-STAD  0.622527                       MLP_lay2_chan512_dropout   \n",
       "112    gender-STAD  0.657386                       MLP_lay2_chan512_dropout   \n",
       "113    gender-STAD  0.591978                       MLP_lay2_chan512_dropout   \n",
       "114    gender-STAD  0.558795                               MLP_lay2_chan512   \n",
       "115    gender-STAD  0.709903                               MLP_lay2_chan512   \n",
       "116    gender-STAD  0.683481                               MLP_lay2_chan512   \n",
       "117    gender-LUAD  0.500000  GCN_lay20_chan32_emb32_dropout_pool_hierarchy   \n",
       "118    gender-LUAD  0.500000  GCN_lay20_chan32_emb32_dropout_pool_hierarchy   \n",
       "119    gender-LUAD  0.500000  GCN_lay20_chan32_emb32_dropout_pool_hierarchy   \n",
       "\n",
       "         graph seed train_size        time_elapsed  cuda  \n",
       "0    genemania    0         50   101.8999891281128   1.0  \n",
       "1    genemania    0         50   92.53726387023926   1.0  \n",
       "2    genemania    0         50  153.04803681373596   1.0  \n",
       "3    genemania    1         50  150.57913613319397   1.0  \n",
       "4    genemania    2         50  143.46760845184326   1.0  \n",
       "5    genemania    0         50   92.06407713890076   1.0  \n",
       "6    genemania    1         50    95.9979305267334   1.0  \n",
       "7    genemania    2         50  107.31765985488892   1.0  \n",
       "8    genemania    0         50   163.4053122997284   1.0  \n",
       "9    genemania    1         50   98.40751552581787   1.0  \n",
       "10   genemania    2         50  109.55564761161804   1.0  \n",
       "11   genemania    0         50  123.46560001373291   1.0  \n",
       "12   genemania    0         50   117.0726261138916   1.0  \n",
       "13   genemania    1         50   192.5189926624298   1.0  \n",
       "14   genemania    0         50  157.48014736175537   1.0  \n",
       "15   genemania    2         50  169.91464495658875   1.0  \n",
       "16   genemania    0         50   9.622604846954346   1.0  \n",
       "17   genemania    1         50   9.302472829818726   1.0  \n",
       "18   genemania    2         50   9.452790260314941   1.0  \n",
       "19   genemania    0         50  10.061105012893677   1.0  \n",
       "20   genemania    1         50   9.623066663742065   1.0  \n",
       "21   genemania    2         50   9.721599817276001   1.0  \n",
       "22   genemania    0         50                 NaN   NaN  \n",
       "23   genemania    1         50                 NaN   NaN  \n",
       "24   genemania    2         50                 NaN   NaN  \n",
       "25   genemania    0         50                 NaN   NaN  \n",
       "26   genemania    1         50                 NaN   NaN  \n",
       "27   genemania    2         50                 NaN   NaN  \n",
       "28   genemania    0         50                 NaN   NaN  \n",
       "29   genemania    1         50                 NaN   NaN  \n",
       "..         ...  ...        ...                 ...   ...  \n",
       "90   genemania    0         50  212.43781328201294   1.0  \n",
       "91   genemania    1         50   292.0016164779663   1.0  \n",
       "92   genemania    2         50   336.1760804653168   1.0  \n",
       "93   genemania    0         50   9.958466053009033   1.0  \n",
       "94   genemania    1         50  10.216306924819946   1.0  \n",
       "95   genemania    2         50  10.275620460510254   1.0  \n",
       "96   genemania    0         50   9.760879278182983   1.0  \n",
       "97   genemania    1         50  10.592178106307983   1.0  \n",
       "98   genemania    2         50    9.72108507156372   1.0  \n",
       "99   genemania    0         50   192.2615737915039   1.0  \n",
       "100  genemania    1         50  171.93811058998108   1.0  \n",
       "101  genemania    2         50  258.64036560058594   1.0  \n",
       "102  genemania    0         50   9.310352087020874   1.0  \n",
       "103  genemania    1         50  10.063404321670532   1.0  \n",
       "104  genemania    2         50   9.568913698196411   1.0  \n",
       "105  genemania    0         50  10.696329832077026   1.0  \n",
       "106  genemania    1         50   9.162387132644653   1.0  \n",
       "107  genemania    2         50   9.543086528778076   1.0  \n",
       "108  genemania    0         50  235.38490629196167   1.0  \n",
       "109  genemania    1         50  196.21939516067505   1.0  \n",
       "110  genemania    2         50  165.31576585769653   1.0  \n",
       "111  genemania    0         50   8.943795204162598   1.0  \n",
       "112  genemania    1         50   9.682600736618042   1.0  \n",
       "113  genemania    2         50   9.664214372634888   1.0  \n",
       "114  genemania    0         50    9.64704942703247   1.0  \n",
       "115  genemania    1         50   9.065874099731445   1.0  \n",
       "116  genemania    2         50  10.077442646026611   1.0  \n",
       "117  genemania    0         50   215.5386176109314   1.0  \n",
       "118  genemania    1         50  237.33521008491516   1.0  \n",
       "119  genemania    2         50   262.3027272224426   1.0  \n",
       "\n",
       "[120 rows x 8 columns]"
      ]
     },
     "execution_count": 11,
     "metadata": {},
     "output_type": "execute_result"
    }
   ],
   "source": [
    "results"
   ]
  },
  {
   "cell_type": "code",
   "execution_count": 12,
   "metadata": {},
   "outputs": [
    {
     "ename": "NameError",
     "evalue": "name 'adj' is not defined",
     "output_type": "error",
     "traceback": [
      "\u001b[0;31m---------------------------------------------------------------------------\u001b[0m",
      "\u001b[0;31mNameError\u001b[0m                                 Traceback (most recent call last)",
      "\u001b[0;32m<ipython-input-12-63639222010b>\u001b[0m in \u001b[0;36m<module>\u001b[0;34m\u001b[0m\n\u001b[0;32m----> 1\u001b[0;31m \u001b[0mtemp\u001b[0m \u001b[0;34m=\u001b[0m \u001b[0msparse\u001b[0m\u001b[0;34m.\u001b[0m\u001b[0mcsr_matrix\u001b[0m\u001b[0;34m(\u001b[0m\u001b[0madj\u001b[0m\u001b[0;34m)\u001b[0m\u001b[0;34m\u001b[0m\u001b[0;34m\u001b[0m\u001b[0m\n\u001b[0m",
      "\u001b[0;31mNameError\u001b[0m: name 'adj' is not defined"
     ]
    }
   ],
   "source": [
    "temp = sparse.csr_matrix(adj)"
   ]
  },
  {
   "cell_type": "code",
   "execution_count": 15,
   "metadata": {},
   "outputs": [
    {
     "data": {
      "text/plain": [
       "array([0.22      , 0.023     , 0.25      , ..., 0.23999999, 0.011     ,\n",
       "       0.15000001])"
      ]
     },
     "execution_count": 15,
     "metadata": {},
     "output_type": "execute_result"
    }
   ],
   "source": [
    "temp.data"
   ]
  },
  {
   "cell_type": "code",
   "execution_count": 202,
   "metadata": {},
   "outputs": [],
   "source": [
    "X_train, X_test, y_train, y_test = sklearn.model_selection.\\\n",
    "    train_test_split(tasks[0].data, tasks[0].labels, stratify=tasks[0].labels, \n",
    "                     train_size=500, test_size=50)\n"
   ]
  },
  {
   "cell_type": "code",
   "execution_count": 204,
   "metadata": {},
   "outputs": [],
   "source": [
    "x_train = Variable(torch.FloatTensor(np.expand_dims(X_train.values, axis=2)), requires_grad=False).float()\n"
   ]
  },
  {
   "cell_type": "code",
   "execution_count": null,
   "metadata": {},
   "outputs": [],
   "source": []
  },
  {
   "cell_type": "code",
   "execution_count": 3,
   "metadata": {},
   "outputs": [],
   "source": [
    "adj = sparse.csr_matrix(np.array(nx.to_numpy_matrix(graphs[\"genemania\"].nx_graph)))\n",
    "tensor_adj = torch.FloatTensor(adj.toarray())"
   ]
  },
  {
   "cell_type": "code",
   "execution_count": 8,
   "metadata": {},
   "outputs": [
    {
     "data": {
      "text/plain": [
       "True"
      ]
     },
     "execution_count": 8,
     "metadata": {},
     "output_type": "execute_result"
    }
   ],
   "source": [
    "any(adj[0].nonzero()[1])"
   ]
  },
  {
   "cell_type": "code",
   "execution_count": 123,
   "metadata": {},
   "outputs": [],
   "source": [
    "coo_data=adj.tocoo()\n",
    "indices=torch.LongTensor([coo_data.row,coo_data.col])\n",
    "centroids = torch.sparse.LongTensor(torch.LongTensor(indices), torch.ones(adj.data.size), adj.shape)\n",
    "\n"
   ]
  },
  {
   "cell_type": "code",
   "execution_count": 124,
   "metadata": {},
   "outputs": [
    {
     "data": {
      "text/plain": [
       "tensor(indices=tensor([[    0,     0,     0,  ..., 16299, 16299, 16299],\n",
       "                       [ 3303,  5612,  7651,  ..., 16133, 16268, 16285]]),\n",
       "       values=tensor([1., 1., 1.,  ..., 1., 1., 1.]),\n",
       "       size=(16300, 16300), nnz=529314, layout=torch.sparse_coo)"
      ]
     },
     "execution_count": 124,
     "metadata": {},
     "output_type": "execute_result"
    }
   ],
   "source": []
  },
  {
   "cell_type": "code",
   "execution_count": 116,
   "metadata": {},
   "outputs": [
    {
     "data": {
      "text/plain": [
       "tensor(294)"
      ]
     },
     "execution_count": 116,
     "metadata": {},
     "output_type": "execute_result"
    }
   ],
   "source": [
    "centroids.coalesce().values().sum()"
   ]
  },
  {
   "cell_type": "code",
   "execution_count": 289,
   "metadata": {},
   "outputs": [
    {
     "data": {
      "text/plain": [
       "47760.914966891905"
      ]
     },
     "execution_count": 289,
     "metadata": {},
     "output_type": "execute_result"
    }
   ],
   "source": [
    "adj.sum()"
   ]
  },
  {
   "cell_type": "code",
   "execution_count": 94,
   "metadata": {},
   "outputs": [],
   "source": [
    "mask = torch.LongTensor((adj.toarray() > 0).astype(int))"
   ]
  },
  {
   "cell_type": "code",
   "execution_count": 72,
   "metadata": {},
   "outputs": [
    {
     "data": {
      "text/plain": [
       "tensor(indices=tensor([[    0,     1,     2,  ..., 15997, 15998, 15999],\n",
       "                       [    0,     1,     2,  ..., 15997, 15998, 15999]]),\n",
       "       values=tensor([1., 1., 1.,  ..., 1., 1., 1.]),\n",
       "       size=(16300, 16300), nnz=16000, layout=torch.sparse_coo)"
      ]
     },
     "execution_count": 72,
     "metadata": {},
     "output_type": "execute_result"
    }
   ],
   "source": [
    "shape = 16000\n",
    "indices = torch.LongTensor([np.arange(shape), np.arange(shape)])\n",
    "sparse_eye = torch.sparse.LongTensor(indices, torch.ones(shape), adj.shape) "
   ]
  },
  {
   "cell_type": "code",
   "execution_count": 130,
   "metadata": {},
   "outputs": [],
   "source": [
    "coo_data=adj.tocoo()\n",
    "indices=torch.LongTensor([coo_data.row,coo_data.col])\n",
    "mask = torch.sparse.LongTensor(torch.LongTensor(indices), torch.FloatTensor(adj.data), adj.shape)\n"
   ]
  },
  {
   "cell_type": "code",
   "execution_count": 54,
   "metadata": {},
   "outputs": [
    {
     "data": {
      "text/plain": [
       "tensor(indices=tensor([[    0,     0,     0,  ..., 16299, 16299, 16299],\n",
       "                       [ 3303,  5612,  7651,  ..., 16133, 16268, 16285]]),\n",
       "       values=tensor([0.2200, 0.0230, 0.2500,  ..., 0.2400, 0.0110, 0.1500]),\n",
       "       size=(16300, 16300), nnz=529314, layout=torch.sparse_coo)"
      ]
     },
     "execution_count": 54,
     "metadata": {},
     "output_type": "execute_result"
    }
   ],
   "source": [
    "coo_data=adj.tocoo()\n",
    "indices=torch.LongTensor([coo_data.row,coo_data.col])\n",
    "sparse_adj = torch.sparse.LongTensor(torch.LongTensor(indices), torch.FloatTensor(adj.data), (adj.data.shape[0], adj.shape[0]))\n",
    "tensor_adj.sparse_mask(mask.coalesce())"
   ]
  },
  {
   "cell_type": "code",
   "execution_count": 162,
   "metadata": {},
   "outputs": [],
   "source": [
    "D = adj.sum(axis=0)\n",
    "D_inv = sparse.diags(np.array(1. / np.sqrt(D))[0], 0)\n",
    "norm_transform = D_inv.dot(adj).dot(D_inv)\n"
   ]
  },
  {
   "cell_type": "code",
   "execution_count": 241,
   "metadata": {},
   "outputs": [
    {
     "data": {
      "text/plain": [
       "545614"
      ]
     },
     "execution_count": 241,
     "metadata": {},
     "output_type": "execute_result"
    }
   ],
   "source": [
    "adj.data.size"
   ]
  },
  {
   "cell_type": "code",
   "execution_count": 231,
   "metadata": {},
   "outputs": [
    {
     "data": {
      "text/plain": [
       "(16300,)"
      ]
     },
     "execution_count": 231,
     "metadata": {},
     "output_type": "execute_result"
    }
   ],
   "source": [
    "np.array(adj.sum(axis=0))[0]"
   ]
  },
  {
   "cell_type": "code",
   "execution_count": 248,
   "metadata": {},
   "outputs": [],
   "source": [
    "ids = np.load(\".cache/5a6e169dccfd78cbe322ef23a8e27d9e6d22d58a83bd6f68c4bfc9c726613d081f5b9922ed8e7a7b61c15e7442c799be6d22d58a83bd6f68c4bfc9c726613d088150.npy\")"
   ]
  },
  {
   "cell_type": "code",
   "execution_count": 270,
   "metadata": {},
   "outputs": [],
   "source": [
    "cluster_adj = sparse.lil_matrix(np.eye((16300)))"
   ]
  },
  {
   "cell_type": "code",
   "execution_count": 288,
   "metadata": {},
   "outputs": [
    {
     "data": {
      "text/plain": [
       "array([0., 0., 0., ..., 0., 0., 1.])"
      ]
     },
     "execution_count": 288,
     "metadata": {},
     "output_type": "execute_result"
    }
   ],
   "source": [
    "adj[i].toarray()[-1]"
   ]
  },
  {
   "cell_type": "code",
   "execution_count": 298,
   "metadata": {},
   "outputs": [
    {
     "data": {
      "text/plain": [
       "8150"
      ]
     },
     "execution_count": 298,
     "metadata": {},
     "output_type": "execute_result"
    }
   ],
   "source": [
    "len(ids)"
   ]
  },
  {
   "cell_type": "code",
   "execution_count": 293,
   "metadata": {},
   "outputs": [
    {
     "name": "stdout",
     "output_type": "stream",
     "text": [
      "0.16740798950195312\n"
     ]
    }
   ],
   "source": [
    "start = time.time()\n",
    "coo_data=adj.tocoo()\n",
    "indices=torch.LongTensor([coo_data.row,coo_data.col])\n",
    "centroids = torch.sparse.LongTensor(torch.LongTensor(indices), torch.ones(adj.data.size), adj.shape)\n",
    "print(time.time() - start)"
   ]
  },
  {
   "cell_type": "code",
   "execution_count": 295,
   "metadata": {},
   "outputs": [
    {
     "data": {
      "text/plain": [
       "tensor(indices=tensor([[    0,     0,     0,  ..., 16299, 16299, 16299],\n",
       "                       [    0,  3303,  5612,  ..., 16268, 16285, 16299]]),\n",
       "       values=tensor([1., 1., 1.,  ..., 1., 1., 1.]),\n",
       "       size=(16300, 16300), nnz=545614, layout=torch.sparse_coo)"
      ]
     },
     "execution_count": 295,
     "metadata": {},
     "output_type": "execute_result"
    }
   ],
   "source": [
    "centroids"
   ]
  },
  {
   "cell_type": "code",
   "execution_count": 313,
   "metadata": {},
   "outputs": [
    {
     "data": {
      "text/plain": [
       "<8000x16000 sparse matrix of type '<class 'numpy.float64'>'\n",
       "\twith 0 stored elements in Compressed Sparse Row format>"
      ]
     },
     "execution_count": 313,
     "metadata": {},
     "output_type": "execute_result"
    }
   ],
   "source": [
    "sparse.csr_matrix(cluster_adj).copy()"
   ]
  },
  {
   "cell_type": "code",
   "execution_count": 290,
   "metadata": {},
   "outputs": [
    {
     "name": "stdout",
     "output_type": "stream",
     "text": [
      "0.019582033157348633\n"
     ]
    }
   ],
   "source": [
    "start = time.time()\n",
    "cluster_adj = np.zeros((8000, 16000))\n",
    "print(time.time() - start)"
   ]
  },
  {
   "cell_type": "code",
   "execution_count": 281,
   "metadata": {},
   "outputs": [
    {
     "name": "stdout",
     "output_type": "stream",
     "text": [
      "2.8473799228668213\n"
     ]
    }
   ],
   "source": [
    "start = time.time()\n",
    "\n",
    "for i, cluster in enumerate(ids):\n",
    "    arr_cluster_adj[cluster] += adj[i]\n",
    "print(time.time() - start)"
   ]
  },
  {
   "cell_type": "code",
   "execution_count": 311,
   "metadata": {},
   "outputs": [
    {
     "data": {
      "text/plain": [
       "(16300,)"
      ]
     },
     "execution_count": 311,
     "metadata": {},
     "output_type": "execute_result"
    }
   ],
   "source": [
    "np.zeros(adj.shape[0]).shape\n"
   ]
  },
  {
   "cell_type": "code",
   "execution_count": 307,
   "metadata": {},
   "outputs": [
    {
     "data": {
      "text/plain": [
       "9.237959947437048"
      ]
     },
     "execution_count": 307,
     "metadata": {},
     "output_type": "execute_result"
    }
   ],
   "source": [
    "arr_cluster_adj[44].sum()"
   ]
  },
  {
   "cell_type": "code",
   "execution_count": 280,
   "metadata": {},
   "outputs": [],
   "source": [
    "arr_cluster_adj = cluster_adj.toarray()"
   ]
  },
  {
   "cell_type": "code",
   "execution_count": 245,
   "metadata": {},
   "outputs": [
    {
     "ename": "NameError",
     "evalue": "name 'current_adj' is not defined",
     "output_type": "error",
     "traceback": [
      "\u001b[0;31m---------------------------------------------------------------------------\u001b[0m",
      "\u001b[0;31mNameError\u001b[0m                                 Traceback (most recent call last)",
      "\u001b[0;32m<ipython-input-245-92655ad8fe45>\u001b[0m in \u001b[0;36m<module>\u001b[0;34m\u001b[0m\n\u001b[0;32m----> 1\u001b[0;31m \u001b[0madj_hash\u001b[0m \u001b[0;34m=\u001b[0m \u001b[0mjoblib\u001b[0m\u001b[0;34m.\u001b[0m\u001b[0mhash\u001b[0m\u001b[0;34m(\u001b[0m\u001b[0madj\u001b[0m\u001b[0;34m.\u001b[0m\u001b[0mdata\u001b[0m\u001b[0;34m.\u001b[0m\u001b[0mtostring\u001b[0m\u001b[0;34m(\u001b[0m\u001b[0;34m)\u001b[0m\u001b[0;34m)\u001b[0m \u001b[0;34m+\u001b[0m \u001b[0mjoblib\u001b[0m\u001b[0;34m.\u001b[0m\u001b[0mhash\u001b[0m\u001b[0;34m(\u001b[0m\u001b[0madj\u001b[0m\u001b[0;34m.\u001b[0m\u001b[0mindices\u001b[0m\u001b[0;34m.\u001b[0m\u001b[0mtostring\u001b[0m\u001b[0;34m(\u001b[0m\u001b[0;34m)\u001b[0m\u001b[0;34m)\u001b[0m \u001b[0;34m+\u001b[0m \u001b[0mjoblib\u001b[0m\u001b[0;34m.\u001b[0m\u001b[0mhash\u001b[0m\u001b[0;34m(\u001b[0m\u001b[0msparse\u001b[0m\u001b[0;34m.\u001b[0m\u001b[0mcsr_matrix\u001b[0m\u001b[0;34m(\u001b[0m\u001b[0mcurrent_adj\u001b[0m\u001b[0;34m)\u001b[0m\u001b[0;34m.\u001b[0m\u001b[0mdata\u001b[0m\u001b[0;34m.\u001b[0m\u001b[0mtostring\u001b[0m\u001b[0;34m(\u001b[0m\u001b[0;34m)\u001b[0m\u001b[0;34m)\u001b[0m \u001b[0;34m+\u001b[0m \u001b[0mjoblib\u001b[0m\u001b[0;34m.\u001b[0m\u001b[0mhash\u001b[0m\u001b[0;34m(\u001b[0m\u001b[0msparse\u001b[0m\u001b[0;34m.\u001b[0m\u001b[0mcsr_matrix\u001b[0m\u001b[0;34m(\u001b[0m\u001b[0mcurrent_adj\u001b[0m\u001b[0;34m)\u001b[0m\u001b[0;34m.\u001b[0m\u001b[0mindices\u001b[0m\u001b[0;34m.\u001b[0m\u001b[0mtostring\u001b[0m\u001b[0;34m(\u001b[0m\u001b[0;34m)\u001b[0m\u001b[0;34m)\u001b[0m \u001b[0;34m+\u001b[0m \u001b[0mstr\u001b[0m\u001b[0;34m(\u001b[0m\u001b[0mn_clusters\u001b[0m\u001b[0;34m)\u001b[0m\u001b[0;34m\u001b[0m\u001b[0m\n\u001b[0m",
      "\u001b[0;31mNameError\u001b[0m: name 'current_adj' is not defined"
     ]
    }
   ],
   "source": [
    "adj_hash = joblib.hash(adj.data.tostring()) + joblib.hash(adj.indices.tostring()) + joblib.hash(sparse.csr_matrix(current_adj).data.tostring()) + joblib.hash(sparse.csr_matrix(current_adj).indices.tostring()) + str(n_clusters)\n"
   ]
  },
  {
   "cell_type": "code",
   "execution_count": 225,
   "metadata": {},
   "outputs": [
    {
     "data": {
      "text/plain": [
       "(545614,)"
      ]
     },
     "execution_count": 225,
     "metadata": {},
     "output_type": "execute_result"
    }
   ],
   "source": [
    "adj.indices[ids]"
   ]
  },
  {
   "cell_type": "code",
   "execution_count": 223,
   "metadata": {},
   "outputs": [
    {
     "data": {
      "text/plain": [
       "array([1.8646    , 1.9921    , 2.77770001, ..., 1.77799999, 1.98464   ,\n",
       "       6.60234005])"
      ]
     },
     "execution_count": 223,
     "metadata": {},
     "output_type": "execute_result"
    }
   ],
   "source": [
    "for i, cluster in enumerate(range(10)):\n",
    "    np.array(adj.sum(axis=0))[0]"
   ]
  },
  {
   "cell_type": "code",
   "execution_count": 141,
   "metadata": {},
   "outputs": [
    {
     "data": {
      "text/plain": [
       "array([1.8646])"
      ]
     },
     "execution_count": 141,
     "metadata": {},
     "output_type": "execute_result"
    }
   ],
   "source": [
    "np.diag(D)"
   ]
  },
  {
   "cell_type": "code",
   "execution_count": 142,
   "metadata": {},
   "outputs": [
    {
     "data": {
      "text/plain": [
       "<16000x16000 sparse matrix of type '<class 'numpy.float64'>'\n",
       "\twith 16000 stored elements (1 diagonals) in DIAgonal format>"
      ]
     },
     "execution_count": 142,
     "metadata": {},
     "output_type": "execute_result"
    }
   ],
   "source": [
    "adj_sparse.setdiag(1. / np.sqrt(D))"
   ]
  },
  {
   "cell_type": "code",
   "execution_count": 315,
   "metadata": {},
   "outputs": [],
   "source": [
    "adj.setdiag(1.)"
   ]
  },
  {
   "cell_type": "code",
   "execution_count": 319,
   "metadata": {},
   "outputs": [
    {
     "data": {
      "text/plain": [
       "array([1., 0., 0., ..., 0., 0., 0.])"
      ]
     },
     "execution_count": 319,
     "metadata": {},
     "output_type": "execute_result"
    }
   ],
   "source": [
    "adj[0].toarray()[0]"
   ]
  },
  {
   "cell_type": "code",
   "execution_count": 320,
   "metadata": {},
   "outputs": [
    {
     "name": "stdout",
     "output_type": "stream",
     "text": [
      "True\n",
      "False\n"
     ]
    }
   ],
   "source": [
    "for a, b, in zip([True, False], [True, False]): print(a)"
   ]
  }
 ],
 "metadata": {
  "kernelspec": {
   "display_name": "Python 3",
   "language": "python",
   "name": "python3"
  },
  "language_info": {
   "codemirror_mode": {
    "name": "ipython",
    "version": 3
   },
   "file_extension": ".py",
   "mimetype": "text/x-python",
   "name": "python",
   "nbconvert_exporter": "python",
   "pygments_lexer": "ipython3",
   "version": "3.5.2"
  }
 },
 "nbformat": 4,
 "nbformat_minor": 2
}
