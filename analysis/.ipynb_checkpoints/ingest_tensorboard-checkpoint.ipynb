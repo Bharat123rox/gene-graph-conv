{
 "cells": [
  {
   "cell_type": "code",
   "execution_count": 1,
   "metadata": {
    "collapsed": false
   },
   "outputs": [],
   "source": [
    "import pickle\n",
    "import os\n",
    "import pandas as pd\n",
    "import numpy as np\n",
    "from collections import defaultdict\n",
    "from tensorboard.backend.event_processing.event_accumulator import EventAccumulator"
   ]
  },
  {
   "cell_type": "code",
   "execution_count": 4,
   "metadata": {
    "collapsed": false
   },
   "outputs": [
    {
     "name": "stdout",
     "output_type": "stream",
     "text": [
      "ERROR! Session/line number was not unique in database. History logging moved to new session 110\n",
      "{'experiments/experiments/percolate/cgn/testing123/b519c22480af0b72ef0d05910347f143': defaultdict(<type 'dict'>, {'1': {'event_accumulator': <tensorboard.backend.event_processing.event_accumulator.EventAccumulator object at 0x7fd2585bcd10>, 'opts': {'add_connectivity': False, 'nb_per_class': None, 'model_reg_lambda': 0.0, 'num_channel': 128, 'seed': 2, 'weight_decay': 0.0, 'extra_cn': 10, 'trial_number': '1', 'approx_nb_edges': 100, 'log': 'console', 'clinical_file': 'PANCAN_clinicalMatrix.gz', 'tensorboard_dir': './experiments/experiments/', 'extra_ucn': 0, 'epoch': 1, 'size_perc': 4, 'lr': 0.001, 'nb_attention_head': 0, 'train_ratio': 0.6, 'momentum': 0.9, 'use_emb': 16, 'attention_layer': 0, 'nb_nodes': None, 'load_folder': None, 'nb_examples': 100, 'dropout': False, 'center': False, 'batch_size': 100, 'pool_graph': 'hierarchy', 'percentile': 100, 'use_gate': 0.0, 'dataset': 'percolate', 'add_self': True, 'disconnected': 0, 'name': 'testing123', 'l1_loss_lambda': 0.0, 'scale_free': False, 'num_layer': 2, 'norm_adj': True, 'cuda': True, 'graph': None, 'model': 'cgn', 'nb_class': None, 'clinical_label': 'gender'}}, '1993': {'event_accumulator': <tensorboard.backend.event_processing.event_accumulator.EventAccumulator object at 0x7fd2585bca50>}, '2': {'event_accumulator': <tensorboard.backend.event_processing.event_accumulator.EventAccumulator object at 0x7fd2585b3f50>}, '3': {'event_accumulator': <tensorboard.backend.event_processing.event_accumulator.EventAccumulator object at 0x7fd2585bc850>}})}\n"
     ]
    }
   ],
   "source": [
    "# walk the experiment directory\n",
    "experiments = {}\n",
    "for root, dirs, files in os.walk('../experiments'):\n",
    "    experiment = defaultdict(dict)\n",
    "    for f in files:\n",
    "        key = '/'.join(root.split('/')[1:-1])\n",
    "        if f == \"options.pkl\":\n",
    "            opts = vars(pickle.load(open(os.path.join(root, f), 'rb')))\n",
    "            trial = opts['trial_number']\n",
    "            experiment = experiments.get(key, defaultdict(dict))\n",
    "            experiment[trial]['opts'] = opts\n",
    "            experiments[key] = experiment\n",
    "        elif f.startswith(\"event\"):\n",
    "            trial = root.split('/')[-1]\n",
    "            experiment = experiments.get(key, defaultdict(dict))\n",
    "            experiment[trial]['event_accumulator'] = EventAccumulator(os.path.join(root, f))\n",
    "            experiments[key] = experiment\n",
    "print experiments"
   ]
  },
  {
   "cell_type": "code",
   "execution_count": null,
   "metadata": {
    "collapsed": false
   },
   "outputs": [
    {
     "name": "stdout",
     "output_type": "stream",
     "text": [
      "ERROR! Session/line number was not unique in database. History logging moved to new session 113\n",
      "> <ipython-input-5-28aded2124e8>(8)<module>()\n",
      "-> for number, trial in experiment.iteritems():\n",
      "(Pdb) c\n"
     ]
    }
   ],
   "source": [
    "trial = experiments.values()[0].values()[0]\n",
    "scalar_tags = trial['event_accumulator'].Reload().Tags()['scalars']\n",
    "opt_tags = trial['opts'].keys()\n",
    "df = pd.DataFrame(columns=opt_tags + scalar_tags)\n",
    "exp_df = pd.DataFrame(columns=opt_tags + scalar_tags)\n",
    "for path, experiment in experiments.iteritems():\n",
    "    for number, trial in experiment.iteritems():\n",
    "        import pdb; pdb.set_trace()\n",
    "\n",
    "        event_accumulator = trial['event_accumulator'].Reload()\n",
    "        for tag in scalar_tags:\n",
    "            events = event_accumulator.Scalars(tag)\n",
    "            scalars = np.array(map(lambda x: x.value, events))\n",
    "            df.loc[:, tag] = scalars\n",
    "        for tag in opt_tags:\n",
    "            df.loc[:, tag] = [trial['opts'][tag]]\n",
    "        exp_df = exp_df.append(df)\n"
   ]
  },
  {
   "cell_type": "code",
   "execution_count": 3,
   "metadata": {
    "collapsed": false
   },
   "outputs": [
    {
     "name": "stdout",
     "output_type": "stream",
     "text": [
      "{'event_accumulator': <tensorboard.backend.event_processing.event_accumulator.EventAccumulator object at 0x7fd2585b3d90>, 'opts': {'add_connectivity': False, 'nb_per_class': None, 'model_reg_lambda': 0.0, 'num_channel': 128, 'seed': 2, 'weight_decay': 0.0, 'extra_cn': 10, 'trial_number': '1', 'approx_nb_edges': 100, 'log': 'console', 'clinical_file': 'PANCAN_clinicalMatrix.gz', 'tensorboard_dir': './experiments/experiments/', 'extra_ucn': 0, 'epoch': 1, 'size_perc': 4, 'lr': 0.001, 'nb_attention_head': 0, 'train_ratio': 0.6, 'momentum': 0.9, 'use_emb': 16, 'attention_layer': 0, 'nb_nodes': None, 'load_folder': None, 'nb_examples': 100, 'dropout': False, 'center': False, 'batch_size': 100, 'pool_graph': 'hierarchy', 'percentile': 100, 'use_gate': 0.0, 'dataset': 'percolate', 'add_self': True, 'disconnected': 0, 'name': 'testing123', 'l1_loss_lambda': 0.0, 'scale_free': False, 'num_layer': 2, 'norm_adj': True, 'cuda': True, 'graph': None, 'model': 'cgn', 'nb_class': None, 'clinical_label': 'gender'}}\n",
      "{'event_accumulator': <tensorboard.backend.event_processing.event_accumulator.EventAccumulator object at 0x7fd2585b39d0>}\n",
      "{'event_accumulator': <tensorboard.backend.event_processing.event_accumulator.EventAccumulator object at 0x7fd2585b3fd0>}\n",
      "{'event_accumulator': <tensorboard.backend.event_processing.event_accumulator.EventAccumulator object at 0x7fd2585b3a50>}\n",
      "ERROR! Session/line number was not unique in database. History logging moved to new session 108\n"
     ]
    }
   ],
   "source": [
    "for path, experiment in experiments.iteritems():\n",
    "    for number, trial in experiment.iteritems():\n",
    "        print trial"
   ]
  }
 ],
 "metadata": {
  "kernelspec": {
   "display_name": "Python 2",
   "language": "python",
   "name": "python2"
  },
  "language_info": {
   "codemirror_mode": {
    "name": "ipython",
    "version": 2
   },
   "file_extension": ".py",
   "mimetype": "text/x-python",
   "name": "python",
   "nbconvert_exporter": "python",
   "pygments_lexer": "ipython2",
   "version": "2.7.13"
  }
 },
 "nbformat": 4,
 "nbformat_minor": 2
}
