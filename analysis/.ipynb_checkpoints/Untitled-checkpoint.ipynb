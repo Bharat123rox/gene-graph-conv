{
 "cells": [
  {
   "cell_type": "code",
   "execution_count": null,
   "metadata": {},
   "outputs": [],
   "source": [
    "from main import main\n",
    "def main(argv):\n",
    "    opt = parse_args(argv)\n",
    "    setup_logger(opt)\n",
    "    logging.info(vars(opt))\n",
    "    if opt.cuda:\n",
    "        torch.cuda.manual_seed(opt.seed)\n",
    "        torch.cuda.manual_seed_all(opt.seed)\n",
    "    torch.manual_seed(opt.seed)\n",
    "\n",
    "    logging.info(\"Getting the dataset...\")\n",
    "    dataset = get_dataset(opt)\n"
   ]
  }
 ],
 "metadata": {
  "kernelspec": {
   "display_name": "Python 2",
   "language": "python",
   "name": "python2"
  },
  "language_info": {
   "codemirror_mode": {
    "name": "ipython",
    "version": 2
   },
   "file_extension": ".py",
   "mimetype": "text/x-python",
   "name": "python",
   "nbconvert_exporter": "python",
   "pygments_lexer": "ipython2",
   "version": "2.7.9"
  }
 },
 "nbformat": 4,
 "nbformat_minor": 2
}
