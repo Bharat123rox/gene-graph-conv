{
 "cells": [
  {
   "cell_type": "code",
   "execution_count": 1,
   "metadata": {
    "scrolled": true
   },
   "outputs": [
    {
     "name": "stderr",
     "output_type": "stream",
     "text": [
      "/Users/martinweiss/.pyenv/versions/2.7.13/lib/python2.7/site-packages/h5py/__init__.py:36: FutureWarning: Conversion of the second argument of issubdtype from `float` to `np.floating` is deprecated. In future, it will be treated as `np.float64 == np.dtype(float).type`.\n",
      "  from ._conv import register_converters as _register_converters\n"
     ]
    }
   ],
   "source": [
    "import pickle\n",
    "import os\n",
    "import pandas as pd\n",
    "import numpy as np\n",
    "from collections import defaultdict\n",
    "from tensorboard.backend.event_processing.event_accumulator import EventAccumulator"
   ]
  },
  {
   "cell_type": "code",
   "execution_count": 2,
   "metadata": {},
   "outputs": [],
   "source": [
    "# Architecture: want to have a data loader class \n",
    "# and a function which takes in a certain object, \n",
    "# ideally relatively standard tensorflow file pointer\n",
    "# Then constructs this analysis\n",
    "\n",
    "# Seperate note, for the graph/dataset code, we want to be able \n",
    "# to have a data loader and a graph class too. "
   ]
  },
  {
   "cell_type": "code",
   "execution_count": null,
   "metadata": {},
   "outputs": [],
   "source": []
  },
  {
   "cell_type": "code",
   "execution_count": 3,
   "metadata": {},
   "outputs": [],
   "source": [
    "# walk the experiment directory\n",
    "all_experiments = {}\n",
    "for root, dirs, files in os.walk('../experiments/experiments'):\n",
    "    experiment = defaultdict(dict)\n",
    "    for f in files:\n",
    "        key = '/'.join(root.split('/')[1:-1])    \n",
    "        trial = root.split('/')[-1]\n",
    "        if f == \"options.pkl\":\n",
    "            opts = vars(pickle.load(open(os.path.join(root, f), 'rb')))\n",
    "            experiment = all_experiments.get(key, defaultdict(dict))\n",
    "            experiment[trial]['opts'] = opts\n",
    "            all_experiments[key] = experiment\n",
    "        elif f.startswith(\"event\"):\n",
    "            experiment = all_experiments.get(key, defaultdict(dict))\n",
    "            experiment[trial]['event_accumulator'] = EventAccumulator(os.path.join(root, f))\n",
    "            experiment[trial]['experiment_hash'] = root.split('/')[-2]\n",
    "            all_experiments[key] = experiment\n"
   ]
  },
  {
   "cell_type": "code",
   "execution_count": 4,
   "metadata": {},
   "outputs": [],
   "source": [
    "def filter_experiments(experiments):\n",
    "    accumulators = []\n",
    "    for exp in experiments.values():\n",
    "        if exp.values()[0].get('event_accumulator') is not None:\n",
    "            accumulators.append(exp)\n",
    "    return accumulators"
   ]
  },
  {
   "cell_type": "code",
   "execution_count": 5,
   "metadata": {},
   "outputs": [],
   "source": [
    "experiments = filter_experiments(all_experiments)"
   ]
  },
  {
   "cell_type": "code",
   "execution_count": null,
   "metadata": {},
   "outputs": [],
   "source": []
  },
  {
   "cell_type": "code",
   "execution_count": 6,
   "metadata": {},
   "outputs": [],
   "source": [
    "def find_best_epoch(events):\n",
    "    x = np.array([e.value for e in events])\n",
    "    best_epoch = x.argmax(axis=0)\n",
    "    best_value = x[best_epoch]\n",
    "    return best_epoch, best_value"
   ]
  },
  {
   "cell_type": "code",
   "execution_count": 7,
   "metadata": {},
   "outputs": [],
   "source": [
    "my_tags = ['auc_train', 'auc_valid', 'auc_test', 'acc_train', 'acc_valid', 'acc_test']\n",
    "options_tags = ['weight_decay', 'epoch', 'lr', 'train_ratio', 'dataset', 'dropout', 'batch_size', 'pool_graph', 'use_gate', 'num_channel', 'add_self', 'l1_loss_lambda', 'num_layer', 'graph', 'model', 'nb_nodes']\n",
    "\n",
    "\n",
    "\"\"\" This function parses the dataframe for a given trial and generates a little dataframe\"\"\"\n",
    "def append_trial_df(trial, df=None):\n",
    "    # Setup the tags\n",
    "    scalar_tags = trial['event_accumulator'].Reload().Tags()['scalars']\n",
    "    # opt_tags = trial['opts'].keys() # ALL OPTIONS TAGS\n",
    "    event_accumulator = trial['event_accumulator'].Reload()\n",
    "\n",
    "    if df.empty:\n",
    "        df = pd.DataFrame(columns=options_tags + my_tags)\n",
    "\n",
    "    # Get the epoch with the best AUC for the valid set\n",
    "    best_epoch, value = find_best_epoch(event_accumulator.Scalars(\"auc_valid\"))\n",
    "    row_number = len(df.index)\n",
    "    df.loc[row_number, \"auc_valid\"] = value\n",
    "    df.loc[row_number, \"best_epoch\"] = best_epoch\n",
    "    df.loc[row_number, \"experiment_hash\"] = trial['experiment_hash']\n",
    "\n",
    "    # set the other values from that epoch\n",
    "    for tag in my_tags:\n",
    "        df.loc[row_number, tag] = event_accumulator.Scalars(tag)[best_epoch].value\n",
    "        df[tag] = df[tag].astype(float)\n",
    "    for tag in options_tags:\n",
    "        df.loc[row_number, tag] = trial['opts'][tag]\n",
    "\n",
    "    return df"
   ]
  },
  {
   "cell_type": "code",
   "execution_count": null,
   "metadata": {},
   "outputs": [],
   "source": []
  },
  {
   "cell_type": "code",
   "execution_count": 8,
   "metadata": {
    "scrolled": true
   },
   "outputs": [],
   "source": [
    "df = pd.DataFrame()\n",
    "for exp in experiments:\n",
    "    for key, trial in exp.iteritems():\n",
    "        df = append_trial_df(trial, df)"
   ]
  },
  {
   "cell_type": "code",
   "execution_count": 31,
   "metadata": {},
   "outputs": [
    {
     "data": {
      "text/html": [
       "<div>\n",
       "<style scoped>\n",
       "    .dataframe tbody tr th:only-of-type {\n",
       "        vertical-align: middle;\n",
       "    }\n",
       "\n",
       "    .dataframe tbody tr th {\n",
       "        vertical-align: top;\n",
       "    }\n",
       "\n",
       "    .dataframe thead th {\n",
       "        text-align: right;\n",
       "    }\n",
       "</style>\n",
       "<table border=\"1\" class=\"dataframe\">\n",
       "  <thead>\n",
       "    <tr style=\"text-align: right;\">\n",
       "      <th></th>\n",
       "      <th>auc_train</th>\n",
       "      <th>auc_valid</th>\n",
       "      <th>auc_test</th>\n",
       "      <th>acc_train</th>\n",
       "      <th>acc_valid</th>\n",
       "      <th>acc_test</th>\n",
       "      <th>weight_decay</th>\n",
       "      <th>epoch</th>\n",
       "      <th>dropout</th>\n",
       "      <th>batch_size</th>\n",
       "      <th>use_gate</th>\n",
       "      <th>num_channel</th>\n",
       "      <th>add_self</th>\n",
       "      <th>l1_loss_lambda</th>\n",
       "      <th>num_layer</th>\n",
       "      <th>nb_nodes</th>\n",
       "    </tr>\n",
       "    <tr>\n",
       "      <th>experiment_hash</th>\n",
       "      <th></th>\n",
       "      <th></th>\n",
       "      <th></th>\n",
       "      <th></th>\n",
       "      <th></th>\n",
       "      <th></th>\n",
       "      <th></th>\n",
       "      <th></th>\n",
       "      <th></th>\n",
       "      <th></th>\n",
       "      <th></th>\n",
       "      <th></th>\n",
       "      <th></th>\n",
       "      <th></th>\n",
       "      <th></th>\n",
       "      <th></th>\n",
       "    </tr>\n",
       "  </thead>\n",
       "  <tbody>\n",
       "    <tr>\n",
       "      <th>19759111840262d2b340fe140a26cc5b</th>\n",
       "      <td>0.965735</td>\n",
       "      <td>0.904863</td>\n",
       "      <td>0.892541</td>\n",
       "      <td>0.941111</td>\n",
       "      <td>0.846667</td>\n",
       "      <td>0.846667</td>\n",
       "      <td>0.0</td>\n",
       "      <td>10.0</td>\n",
       "      <td>False</td>\n",
       "      <td>100.0</td>\n",
       "      <td>0.0</td>\n",
       "      <td>32.0</td>\n",
       "      <td>True</td>\n",
       "      <td>0.0</td>\n",
       "      <td>1.0</td>\n",
       "      <td>100.0</td>\n",
       "    </tr>\n",
       "    <tr>\n",
       "      <th>878758a6e47d6f4c3f50b491f8a837ee</th>\n",
       "      <td>1.000000</td>\n",
       "      <td>0.705086</td>\n",
       "      <td>0.729268</td>\n",
       "      <td>1.000000</td>\n",
       "      <td>0.663333</td>\n",
       "      <td>0.668333</td>\n",
       "      <td>0.0</td>\n",
       "      <td>10.0</td>\n",
       "      <td>False</td>\n",
       "      <td>100.0</td>\n",
       "      <td>0.0</td>\n",
       "      <td>32.0</td>\n",
       "      <td>True</td>\n",
       "      <td>0.0</td>\n",
       "      <td>1.0</td>\n",
       "      <td>1000.0</td>\n",
       "    </tr>\n",
       "  </tbody>\n",
       "</table>\n",
       "</div>"
      ],
      "text/plain": [
       "                                  auc_train  auc_valid  auc_test  acc_train  \\\n",
       "experiment_hash                                                               \n",
       "19759111840262d2b340fe140a26cc5b   0.965735   0.904863  0.892541   0.941111   \n",
       "878758a6e47d6f4c3f50b491f8a837ee   1.000000   0.705086  0.729268   1.000000   \n",
       "\n",
       "                                  acc_valid  acc_test  weight_decay  epoch  \\\n",
       "experiment_hash                                                              \n",
       "19759111840262d2b340fe140a26cc5b   0.846667  0.846667           0.0   10.0   \n",
       "878758a6e47d6f4c3f50b491f8a837ee   0.663333  0.668333           0.0   10.0   \n",
       "\n",
       "                                  dropout  batch_size  use_gate  num_channel  \\\n",
       "experiment_hash                                                                \n",
       "19759111840262d2b340fe140a26cc5b    False       100.0       0.0         32.0   \n",
       "878758a6e47d6f4c3f50b491f8a837ee    False       100.0       0.0         32.0   \n",
       "\n",
       "                                  add_self  l1_loss_lambda  num_layer  \\\n",
       "experiment_hash                                                         \n",
       "19759111840262d2b340fe140a26cc5b      True             0.0        1.0   \n",
       "878758a6e47d6f4c3f50b491f8a837ee      True             0.0        1.0   \n",
       "\n",
       "                                  nb_nodes  \n",
       "experiment_hash                             \n",
       "19759111840262d2b340fe140a26cc5b     100.0  \n",
       "878758a6e47d6f4c3f50b491f8a837ee    1000.0  "
      ]
     },
     "execution_count": 31,
     "metadata": {},
     "output_type": "execute_result"
    }
   ],
   "source": [
    "g1 = df[my_tags].groupby(df[\"experiment_hash\"]).mean()\n",
    "g2 = df[options_tags].groupby(df['experiment_hash']).mean()\n",
    "group_stats = pd.concat([mean_groups, opts], axis=1, join='inner')\n",
    "group_stats"
   ]
  },
  {
   "cell_type": "code",
   "execution_count": null,
   "metadata": {},
   "outputs": [],
   "source": []
  },
  {
   "cell_type": "code",
   "execution_count": null,
   "metadata": {},
   "outputs": [],
   "source": []
  },
  {
   "cell_type": "code",
   "execution_count": null,
   "metadata": {
    "collapsed": true
   },
   "outputs": [],
   "source": []
  },
  {
   "cell_type": "code",
   "execution_count": null,
   "metadata": {
    "collapsed": true
   },
   "outputs": [],
   "source": []
  },
  {
   "cell_type": "code",
   "execution_count": null,
   "metadata": {},
   "outputs": [],
   "source": []
  },
  {
   "cell_type": "code",
   "execution_count": null,
   "metadata": {
    "collapsed": true
   },
   "outputs": [],
   "source": []
  },
  {
   "cell_type": "code",
   "execution_count": null,
   "metadata": {},
   "outputs": [],
   "source": []
  }
 ],
 "metadata": {
  "kernelspec": {
   "display_name": "Python 2",
   "language": "python",
   "name": "python2"
  },
  "language_info": {
   "codemirror_mode": {
    "name": "ipython",
    "version": 2
   },
   "file_extension": ".py",
   "mimetype": "text/x-python",
   "name": "python",
   "nbconvert_exporter": "python",
   "pygments_lexer": "ipython2",
   "version": "2.7.13"
  }
 },
 "nbformat": 4,
 "nbformat_minor": 2
}
