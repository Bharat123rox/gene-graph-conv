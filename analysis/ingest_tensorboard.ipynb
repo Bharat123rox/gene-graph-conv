{
 "cells": [
  {
   "cell_type": "code",
   "execution_count": 1,
   "metadata": {
    "collapsed": false
   },
   "outputs": [],
   "source": [
    "import pickle\n",
    "import os\n",
    "import pandas as pd\n",
    "import numpy as np\n",
    "from collections import defaultdict\n",
    "from tensorboard.backend.event_processing.event_accumulator import EventAccumulator"
   ]
  },
  {
   "cell_type": "code",
   "execution_count": 2,
   "metadata": {
    "collapsed": false
   },
   "outputs": [],
   "source": [
    "# walk the experiment directory\n",
    "all_experiments = {}\n",
    "for root, dirs, files in os.walk('../experiments/experiments'):\n",
    "    experiment = defaultdict(dict)\n",
    "    for f in files:\n",
    "        key = '/'.join(root.split('/')[1:-1])    \n",
    "        trial = root.split('/')[-1]\n",
    "        if f == \"options.pkl\":\n",
    "            opts = vars(pickle.load(open(os.path.join(root, f), 'rb')))\n",
    "            experiment = all_experiments.get(key, defaultdict(dict))\n",
    "            experiment[trial]['opts'] = opts\n",
    "            all_experiments[key] = experiment\n",
    "        elif f.startswith(\"event\"):\n",
    "            experiment = all_experiments.get(key, defaultdict(dict))\n",
    "            experiment[trial]['event_accumulator'] = EventAccumulator(os.path.join(root, f))\n",
    "            all_experiments[key] = experiment\n"
   ]
  },
  {
   "cell_type": "code",
   "execution_count": 3,
   "metadata": {
    "collapsed": true
   },
   "outputs": [],
   "source": [
    "def filter_experiments(experiments):\n",
    "    accumulators = []\n",
    "    for exp in experiments.values():\n",
    "        if exp.values()[0].get('event_accumulator') is not None:\n",
    "            accumulators.append(exp)\n",
    "    return accumulators"
   ]
  },
  {
   "cell_type": "code",
   "execution_count": 4,
   "metadata": {
    "collapsed": false
   },
   "outputs": [],
   "source": [
    "experiments = filter_experiments(all_experiments)"
   ]
  },
  {
   "cell_type": "code",
   "execution_count": null,
   "metadata": {
    "collapsed": false
   },
   "outputs": [],
   "source": []
  },
  {
   "cell_type": "code",
   "execution_count": null,
   "metadata": {
    "collapsed": true
   },
   "outputs": [],
   "source": []
  },
  {
   "cell_type": "code",
   "execution_count": 57,
   "metadata": {
    "collapsed": false
   },
   "outputs": [],
   "source": [
    "def make_trial_df(trial):\n",
    "    scalar_tags = trial['event_accumulator'].Reload().Tags()['scalars']\n",
    "    opt_tags = trial['opts'].keys()\n",
    "    my_tags = ['auc_train', 'auc_valid', 'auc_test', 'acc_train', 'acc_valid', 'acc_test']\n",
    "    df = pd.DataFrame(columns=opt_tags + my_tags)\n",
    "    event_accumulator = trial['event_accumulator'].Reload()\n",
    "    for tag in my_tags:\n",
    "        # scalars = np.array(map(lambda x: x.value, events))\n",
    "        print len(event_accumulator.Scalars(tag))\n",
    "        df.loc[0, tag] = event_accumulator.Scalars(tag)[0].value\n",
    "    for tag in opt_tags:\n",
    "        df.loc[0, tag] = trial['opts'][tag]\n",
    "    return df"
   ]
  },
  {
   "cell_type": "code",
   "execution_count": null,
   "metadata": {
    "collapsed": false,
    "scrolled": true
   },
   "outputs": [
    {
     "name": "stdout",
     "output_type": "stream",
     "text": [
      "> <ipython-input-58-2018531d84ea>(6)<module>()->None\n",
      "-> if exp_df is not None:\n",
      "(Pdb) n\n",
      "> <ipython-input-58-2018531d84ea>(9)<module>()->None\n",
      "-> exp_df = make_trial_df(trial)\n",
      "(Pdb) c\n",
      "1\n",
      "1\n",
      "1\n",
      "1\n",
      "1\n",
      "1\n",
      "> <ipython-input-58-2018531d84ea>(5)<module>()->None\n",
      "-> import pdb; pdb.set_trace()\n",
      "(Pdb) c\n",
      "1\n",
      "1\n",
      "1\n",
      "1\n",
      "1\n",
      "1\n",
      "> <ipython-input-58-2018531d84ea>(6)<module>()->None\n",
      "-> if exp_df is not None:\n",
      "(Pdb) c\n",
      "1\n",
      "1\n",
      "1\n",
      "1\n",
      "1\n",
      "1\n",
      "> <ipython-input-58-2018531d84ea>(5)<module>()->None\n",
      "-> import pdb; pdb.set_trace()\n",
      "(Pdb) c\n",
      "1\n",
      "1\n",
      "1\n",
      "1\n",
      "1\n",
      "1\n",
      "> <ipython-input-58-2018531d84ea>(6)<module>()->None\n",
      "-> if exp_df is not None:\n",
      "(Pdb) c\n",
      "9\n",
      "9\n",
      "8\n",
      "9\n",
      "9\n",
      "8\n",
      "> <ipython-input-58-2018531d84ea>(5)<module>()->None\n",
      "-> import pdb; pdb.set_trace()\n",
      "(Pdb) l\n",
      "  1  \traw_df = None\n",
      "  2  \tfor exp in experiments:\n",
      "  3  \t    exp_df = None\n",
      "  4  \t    for key, trial in exp.iteritems():\n",
      "  5  ->\t        import pdb; pdb.set_trace()\n",
      "  6  \t        if exp_df is not None:\n",
      "  7  \t            exp_df = exp_df.append(make_trial_df(trial))\n",
      "  8  \t        else:\n",
      "  9  \t            exp_df = make_trial_df(trial)\n",
      " 10  \t    if raw_df is not None:   \n",
      " 11  \t        raw_df = raw_df.append(exp_df)\n",
      "(Pdb) n\n",
      "> <ipython-input-58-2018531d84ea>(6)<module>()->None\n",
      "-> if exp_df is not None:\n",
      "(Pdb) n\n",
      "> <ipython-input-58-2018531d84ea>(9)<module>()->None\n",
      "-> exp_df = make_trial_df(trial)\n",
      "(Pdb) s\n",
      "--Call--\n",
      "> <ipython-input-57-92d501282e75>(1)make_trial_df()\n",
      "-> def make_trial_df(trial):\n",
      "(Pdb) n\n",
      "> <ipython-input-57-92d501282e75>(2)make_trial_df()\n",
      "-> scalar_tags = trial['event_accumulator'].Reload().Tags()['scalars']\n",
      "(Pdb) \n",
      "> <ipython-input-57-92d501282e75>(3)make_trial_df()\n",
      "-> opt_tags = trial['opts'].keys()\n",
      "(Pdb) \n",
      "> <ipython-input-57-92d501282e75>(4)make_trial_df()\n",
      "-> my_tags = ['auc_train', 'auc_valid', 'auc_test', 'acc_train', 'acc_valid', 'acc_test']\n",
      "(Pdb) \n",
      "> <ipython-input-57-92d501282e75>(5)make_trial_df()\n",
      "-> df = pd.DataFrame(columns=opt_tags + my_tags)\n",
      "(Pdb) \n",
      "> <ipython-input-57-92d501282e75>(6)make_trial_df()\n",
      "-> event_accumulator = trial['event_accumulator'].Reload()\n",
      "(Pdb) \n",
      "> <ipython-input-57-92d501282e75>(7)make_trial_df()\n",
      "-> for tag in my_tags:\n",
      "(Pdb) event_accumulator\n",
      "<tensorboard.backend.event_processing.event_accumulator.EventAccumulator object at 0x7f482441cad0>\n",
      "(Pdb) n\n",
      "> <ipython-input-57-92d501282e75>(9)make_trial_df()\n",
      "-> print len(event_accumulator.Scalars(tag))\n",
      "(Pdb) \n",
      "10\n",
      "> <ipython-input-57-92d501282e75>(10)make_trial_df()\n",
      "-> df.loc[0, tag] = event_accumulator.Scalars(tag)[0].value\n",
      "(Pdb) tag\n",
      "'auc_train'\n",
      "(Pdb) l\n",
      "  5  \t    df = pd.DataFrame(columns=opt_tags + my_tags)\n",
      "  6  \t    event_accumulator = trial['event_accumulator'].Reload()\n",
      "  7  \t    for tag in my_tags:\n",
      "  8  \t        # scalars = np.array(map(lambda x: x.value, events))\n",
      "  9  \t        print len(event_accumulator.Scalars(tag))\n",
      " 10  ->\t        df.loc[0, tag] = event_accumulator.Scalars(tag)[0].value\n",
      " 11  \t    for tag in opt_tags:\n",
      " 12  \t        df.loc[0, tag] = trial['opts'][tag]\n",
      " 13  \t    return df\n",
      "[EOF]\n",
      "(Pdb) event_accumulator.Scalars(tag)\n",
      "[ScalarEvent(wall_time=1522174195.567056, step=0L, value=0.6548246741294861), ScalarEvent(wall_time=1522174195.959288, step=1L, value=0.7227470278739929), ScalarEvent(wall_time=1522174196.20775, step=2L, value=0.7383946776390076), ScalarEvent(wall_time=1522174196.416288, step=3L, value=0.8146623969078064), ScalarEvent(wall_time=1522174196.635021, step=4L, value=0.86033034324646), ScalarEvent(wall_time=1522174196.849473, step=5L, value=0.8636337518692017), ScalarEvent(wall_time=1522174197.101668, step=6L, value=0.8494929075241089), ScalarEvent(wall_time=1522174197.368409, step=7L, value=0.8886119723320007), ScalarEvent(wall_time=1522174197.586349, step=8L, value=0.927789032459259), ScalarEvent(wall_time=1522174197.834166, step=9L, value=0.9309765100479126)]\n"
     ]
    }
   ],
   "source": [
    "raw_df = None\n",
    "for exp in experiments:\n",
    "    exp_df = None\n",
    "    for key, trial in exp.iteritems():\n",
    "        if exp_df is not None:\n",
    "            exp_df = exp_df.append(make_trial_df(trial))\n",
    "        else:\n",
    "            exp_df = make_trial_df(trial)\n",
    "    if raw_df is not None:   \n",
    "        raw_df = raw_df.append(exp_df)\n",
    "    else:\n",
    "        raw_df = exp_df\n",
    "\n",
    "    "
   ]
  },
  {
   "cell_type": "code",
   "execution_count": 52,
   "metadata": {
    "collapsed": false
   },
   "outputs": [
    {
     "name": "stdout",
     "output_type": "stream",
     "text": [
      "Empty DataFrame\n",
      "Columns: [acc_test, acc_train, acc_valid, add_connectivity, add_self, approx_nb_edges, attention_layer, auc_test, auc_train, auc_valid, batch_size, center, clinical_file, clinical_label, cuda, dataset, disconnected, dropout, epoch, extra_cn, extra_ucn, graph, l1_loss_lambda, load_checkpoint, load_folder, log, lr, model, model_reg_lambda, momentum, name, nb_attention_head, nb_class, nb_examples, nb_nodes, nb_per_class, neighborhood, norm_adj, num_channel, num_layer, percentile, pool_graph, scale_free, seed, semi_mse_lambda, size_perc, tensorboard_dir, train_ratio, training_mode, trial_number, use_emb, use_gate, weight_decay]\n",
      "Index: []\n",
      "\n",
      "[0 rows x 53 columns]\n"
     ]
    }
   ],
   "source": [
    "print raw_df"
   ]
  },
  {
   "cell_type": "code",
   "execution_count": 37,
   "metadata": {
    "collapsed": true
   },
   "outputs": [],
   "source": [
    "def take_mean(events):\n",
    "    print events\n",
    "    mean = np.array([e.value() for e in events]).mean()\n",
    "    import pdb; pdb.set_trace()\n",
    "    print mean"
   ]
  },
  {
   "cell_type": "code",
   "execution_count": null,
   "metadata": {
    "collapsed": false
   },
   "outputs": [
    {
     "name": "stdout",
     "output_type": "stream",
     "text": [
      "--Call--\n",
      "> /Tmp/lisa/os_v5/anaconda/lib/python2.7/site-packages/IPython/core/displayhook.py(236)__call__()\n",
      "-> def __call__(self, result=None):\n",
      "(Pdb) auc\n",
      "*** NameError: name 'auc' is not defined\n",
      "(Pdb) print auc\n",
      "*** NameError: name 'auc' is not defined\n",
      "(Pdb) print e\n",
      "*** NameError: name 'e' is not defined\n",
      "(Pdb) q\n"
     ]
    }
   ],
   "source": [
    "e = trial['event_accumulator']\n",
    "auc = e.Scalars('auc_train')\n",
    "take_mean(auc)\n",
    "import pdb; pdb.set_trace()"
   ]
  },
  {
   "cell_type": "code",
   "execution_count": null,
   "metadata": {
    "collapsed": true
   },
   "outputs": [],
   "source": []
  },
  {
   "cell_type": "code",
   "execution_count": null,
   "metadata": {
    "collapsed": true
   },
   "outputs": [],
   "source": []
  },
  {
   "cell_type": "code",
   "execution_count": null,
   "metadata": {
    "collapsed": false
   },
   "outputs": [],
   "source": [
    "trial = experiments.values()[0].values()[0]\n",
    "scalar_tags = trial['event_accumulator'].Reload().Tags()['scalars']\n",
    "opt_tags = trial['opts'].keys()\n",
    "df = pd.DataFrame(columns=opt_tags + scalar_tags)\n",
    "exp_df = pd.DataFrame(columns=opt_tags + scalar_tags)\n",
    "for path, experiment in experiments.iteritems():\n",
    "    for number, trial in experiment.iteritems():\n",
    "        import pdb; pdb.set_trace()\n",
    "\n",
    "        event_accumulator = trial['event_accumulator'].Reload()\n",
    "        for tag in scalar_tags:\n",
    "            events = event_accumulator.Scalars(tag)\n",
    "            scalars = np.array(map(lambda x: x.value, events))\n",
    "            df.loc[:, tag] = scalars\n",
    "        for tag in opt_tags:\n",
    "            df.loc[:, tag] = [trial['opts'][tag]]\n",
    "        exp_df = exp_df.append(df)\n"
   ]
  },
  {
   "cell_type": "code",
   "execution_count": null,
   "metadata": {
    "collapsed": true
   },
   "outputs": [],
   "source": []
  },
  {
   "cell_type": "code",
   "execution_count": null,
   "metadata": {
    "collapsed": false
   },
   "outputs": [],
   "source": [
    "for path, experiment in experiments.iteritems():\n",
    "    for number, trial in experiment.iteritems():\n",
    "        print trial"
   ]
  }
 ],
 "metadata": {
  "kernelspec": {
   "display_name": "Python 2",
   "language": "python",
   "name": "python2"
  },
  "language_info": {
   "codemirror_mode": {
    "name": "ipython",
    "version": 2
   },
   "file_extension": ".py",
   "mimetype": "text/x-python",
   "name": "python",
   "nbconvert_exporter": "python",
   "pygments_lexer": "ipython2",
   "version": "2.7.13"
  }
 },
 "nbformat": 4,
 "nbformat_minor": 2
}
