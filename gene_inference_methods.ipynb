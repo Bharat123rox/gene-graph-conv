{
 "cells": [
  {
   "cell_type": "code",
   "execution_count": 128,
   "metadata": {},
   "outputs": [
    {
     "name": "stdout",
     "output_type": "stream",
     "text": [
      "The autoreload extension is already loaded. To reload it, use:\n",
      "  %reload_ext autoreload\n"
     ]
    }
   ],
   "source": [
    "import sys\n",
    "import time\n",
    "import copy\n",
    "from itertools import repeat\n",
    "import data, data.gene_datasets\n",
    "import sklearn, sklearn.model_selection, sklearn.metrics, sklearn.linear_model, sklearn.neural_network, sklearn.tree\n",
    "import numpy as np\n",
    "import matplotlib, matplotlib.pyplot as plt\n",
    "import networkx as nx\n",
    "import pandas as pd\n",
    "import gene_inference, gene_inference.utils\n",
    "from gene_inference.models import lr, mlp, decision_tree\n",
    "from gene_inference.infer_genes import infer_gene, infer_all_genes, sample_neighbors\n",
    "from data.graph import Graph\n",
    "from models.models import CGN\n",
    "from data.utils import split_dataset\n",
    "import optimization as otim\n",
    "from torch.autograd import Variable\n",
    "import torch\n",
    "import tensorflow\n",
    "from analysis.metrics import record_metrics_for_epoch\n",
    "from analysis.logger import Logger\n",
    "\n",
    "%load_ext autoreload\n",
    "%autoreload 2\n",
    "\n",
    "# Goal: To get a comparison of the methods with CGN and different dropouts today\n"
   ]
  },
  {
   "cell_type": "code",
   "execution_count": 2,
   "metadata": {},
   "outputs": [
    {
     "name": "stdout",
     "output_type": "stream",
     "text": [
      "Converting one-hot labels to integers\n"
     ]
    }
   ],
   "source": [
    "tcgatissue = data.gene_datasets.TCGATissue(data_dir='./genomics/TCGA/', data_file='TCGA_tissue_ppi.hdf5')\n",
    "class Object(object):\n",
    "    pass\n",
    "\n",
    "opt = Object()\n",
    "opt.seed = 0\n",
    "opt.nb_class = None\n",
    "opt.nb_examples = None\n",
    "opt.nb_nodes = None\n",
    "opt.graph = \"pathway\"\n",
    "opt.dataset = tcgatissue\n",
    "\n",
    "graph = Graph()\n",
    "#path = \"./genomics/graph/pancan-tissue-graph.hdf5\"\n",
    "path = \"./genomics/graph/pancan-tissue-graph.hdf5\"\n",
    "graph.load_graph(path)\n",
    "#graph.intersection_with(tcgatissue)\n",
    "g = nx.from_numpy_matrix(graph.adj)\n",
    "mapping = dict(zip(range(0, len(tcgatissue.df.columns)), tcgatissue.df.columns))\n",
    "g = nx.relabel_nodes(g, mapping)"
   ]
  },
  {
   "cell_type": "code",
   "execution_count": 3,
   "metadata": {},
   "outputs": [],
   "source": [
    "import models, models.graphLayer\n",
    "reload(models.graphLayer)\n",
    "opt.add_self = True\n",
    "opt.norm_adj = True\n",
    "opt.num_layer = 2\n",
    "opt.cuda = False\n",
    "opt.add_connectivity = True\n",
    "opt.pool_graph = \"ignore\"\n",
    "\n",
    "\n"
   ]
  },
  {
   "cell_type": "code",
   "execution_count": 4,
   "metadata": {},
   "outputs": [],
   "source": [
    "adj_transform, aggregate_function = models.graphLayer.get_transform(opt, graph.adj)\n"
   ]
  },
  {
   "cell_type": "code",
   "execution_count": 113,
   "metadata": {},
   "outputs": [
    {
     "name": "stdout",
     "output_type": "stream",
     "text": [
      "Doing drop-out\n"
     ]
    }
   ],
   "source": [
    "num_channel = 4\n",
    "num_layer = 1\n",
    "nb_class = 2\n",
    "model = CGN(\n",
    "            nb_nodes=len(tcgatissue.df.columns), \n",
    "            input_dim=1,\n",
    "            channels=[num_channel] * num_layer,\n",
    "            adj=graph.adj,\n",
    "            out_dim=nb_class,\n",
    "            on_cuda=False,\n",
    "            add_emb=None,\n",
    "            transform_adj=adj_transform,\n",
    "            aggregate_adj=aggregate_function,\n",
    "            use_gate=True,\n",
    "            dropout=True,\n",
    "            )"
   ]
  },
  {
   "cell_type": "code",
   "execution_count": null,
   "metadata": {},
   "outputs": [],
   "source": []
  },
  {
   "cell_type": "code",
   "execution_count": 124,
   "metadata": {},
   "outputs": [],
   "source": [
    "def cgn(dataset, trials, train_size, test_size, penalty=False, num_epochs=100):\n",
    "    scores = []\n",
    "    writer = Logger(\"./\")\n",
    "    labels = torch.LongTensor(dataset.labels)\n",
    "    criterions = otim.get_criterion(dataset)\n",
    "    optimizer = torch.optim.Adam(model.parameters(), lr=0.001, weight_decay=0.00001)\n",
    "    patience = 20\n",
    "    max_valid = 0\n",
    "\n",
    "    for trial in range(trials):\n",
    "        train_set, valid_set, test_set = split_dataset(dataset, batch_size=10, random=True, train_ratio=0.33333, seed=trial, nb_samples=train_size + 2 * test_size, nb_per_class=None)\n",
    "        for t in range(0, num_epochs):\n",
    "            start_timer = time.time()\n",
    "            for no_b, mini in enumerate(train_set):\n",
    "                inputs, labels = mini['sample'], mini['labels']\n",
    "\n",
    "                inputs = Variable(inputs, requires_grad=False).float()\n",
    "\n",
    "                model.train()\n",
    "\n",
    "                y_pred = model(inputs)\n",
    "\n",
    "                # Compute and print loss\n",
    "                crit_loss = otim.compute_loss(criterions, y_pred, labels)\n",
    "                #model_regularization_loss = model.regularization(opt.model_reg_lambda)\n",
    "                #l1_loss = setup_l1_loss(my_model, opt.l1_loss_lambda, l1_criterion, opt.cuda)\n",
    "                #total_loss = crit_loss + model_regularization_loss + l1_loss\n",
    "                total_loss = crit_loss\n",
    "\n",
    "                # Zero gradients, perform a backward pass, and update the weights.\n",
    "                optimizer.zero_grad()\n",
    "                crit_loss.backward()\n",
    "                optimizer.step()\n",
    "                model.eval()\n",
    "            time_this_epoch = time.time() - start_timer\n",
    "            acc, auc = record_metrics_for_epoch(writer, crit_loss, total_loss, t, time_this_epoch, train_set, valid_set, test_set, model, dataset, cuda=False)\n",
    "\n",
    "            summary = [\n",
    "                t,\n",
    "                crit_loss.data[0],\n",
    "                acc['train'],\n",
    "                acc['valid'],\n",
    "                auc['train'],\n",
    "                auc['valid'],\n",
    "                time_this_epoch\n",
    "            ]\n",
    "            summary = \"epoch {}, cross_loss: {:.03f}, acc_train: {:0.3f}, acc_valid: {:0.3f}, auc_train: {:0.3f}, auc_valid:{:0.3f}, time: {:.02f} sec\".format(*summary)\n",
    "            print summary\n",
    "\n",
    "            patience = patience - 1\n",
    "            if patience == 0:\n",
    "                break\n",
    "            if max_valid < auc['valid'] and t > 3:\n",
    "                scores.append(auc['valid']) \n",
    "                break\n",
    "\n",
    "    return np.round(np.mean(scores), 2),  np.round(np.std(scores), 2)\n"
   ]
  },
  {
   "cell_type": "code",
   "execution_count": 134,
   "metadata": {
    "scrolled": true
   },
   "outputs": [
    {
     "name": "stdout",
     "output_type": "stream",
     "text": [
      "Converting one-hot labels to integers\n",
      "epoch 0, cross_loss: 0.575, acc_train: 0.556, acc_valid: 0.510, auc_train: 0.999, auc_valid:0.858, time: 0.89 sec\n",
      "epoch 1, cross_loss: 0.311, acc_train: 0.556, acc_valid: 0.520, auc_train: 1.000, auc_valid:0.850, time: 0.84 sec\n",
      "epoch 2, cross_loss: 0.637, acc_train: 0.990, acc_valid: 0.740, auc_train: 1.000, auc_valid:0.841, time: 0.86 sec\n",
      "epoch 3, cross_loss: 0.435, acc_train: 0.838, acc_valid: 0.630, auc_train: 1.000, auc_valid:0.837, time: 0.86 sec\n",
      "epoch 4, cross_loss: 0.069, acc_train: 0.990, acc_valid: 0.710, auc_train: 1.000, auc_valid:0.830, time: 0.86 sec\n",
      "epoch 0, cross_loss: 0.126, acc_train: 0.970, acc_valid: 0.760, auc_train: 0.997, auc_valid:0.831, time: 0.86 sec\n",
      "epoch 1, cross_loss: 0.395, acc_train: 0.929, acc_valid: 0.720, auc_train: 0.998, auc_valid:0.842, time: 0.85 sec\n",
      "epoch 2, cross_loss: 0.239, acc_train: 0.980, acc_valid: 0.750, auc_train: 1.000, auc_valid:0.857, time: 0.86 sec\n",
      "epoch 3, cross_loss: 0.186, acc_train: 1.000, acc_valid: 0.760, auc_train: 1.000, auc_valid:0.864, time: 0.84 sec\n",
      "epoch 4, cross_loss: 0.062, acc_train: 1.000, acc_valid: 0.760, auc_train: 1.000, auc_valid:0.864, time: 0.83 sec\n",
      "epoch 0, cross_loss: 0.435, acc_train: 0.909, acc_valid: 0.780, auc_train: 0.985, auc_valid:0.866, time: 0.82 sec\n",
      "epoch 1, cross_loss: 0.078, acc_train: 0.677, acc_valid: 0.570, auc_train: 0.995, auc_valid:0.879, time: 0.83 sec\n",
      "epoch 2, cross_loss: 0.139, acc_train: 0.778, acc_valid: 0.620, auc_train: 0.996, auc_valid:0.875, time: 0.83 sec\n",
      "epoch 3, cross_loss: 0.284, acc_train: 0.980, acc_valid: 0.790, auc_train: 0.998, auc_valid:0.881, time: 0.82 sec\n",
      "epoch 4, cross_loss: 0.130, acc_train: 0.960, acc_valid: 0.800, auc_train: 0.999, auc_valid:0.887, time: 0.83 sec\n"
     ]
    },
    {
     "name": "stderr",
     "output_type": "stream",
     "text": [
      "/Users/martinweiss/.pyenv/versions/2.7.13/lib/python2.7/site-packages/sklearn/neural_network/multilayer_perceptron.py:564: ConvergenceWarning: Stochastic Optimizer: Maximum iterations (200) reached and the optimization hasn't converged yet.\n",
      "  % self.max_iter, ConvergenceWarning)\n"
     ]
    }
   ],
   "source": [
    "reload(data)\n",
    "reload(models)\n",
    "tcgatissue = data.gene_datasets.TCGATissue(data_dir='./genomics/TCGA/', data_file='TCGA_tissue_ppi.hdf5')\n",
    "cgn_df = infer_gene(cgn, tcgatissue, \"RPL5\", train_size=100, test_size=100, trials=3, penalty=False)\n",
    "lr_df = infer_gene(lr, tcgatissue, \"RPL5\", train_size=100, test_size=100, trials=3, penalty=True)\n",
    "mlp_df = infer_gene(mlp, tcgatissue, \"RPL5\", train_size=100, test_size=100, trials=3, penalty=True)\n"
   ]
  },
  {
   "cell_type": "code",
   "execution_count": null,
   "metadata": {},
   "outputs": [
    {
     "name": "stdout",
     "output_type": "stream",
     "text": [
      "Converting one-hot labels to integers\n",
      "epoch 0, cross_loss: 0.949, acc_train: 0.778, acc_valid: 0.630, auc_train: 1.000, auc_valid:0.850, time: 0.86 sec\n",
      "epoch 1, cross_loss: 0.057, acc_train: 1.000, acc_valid: 0.740, auc_train: 1.000, auc_valid:0.843, time: 0.77 sec\n",
      "epoch 2, cross_loss: 0.019, acc_train: 1.000, acc_valid: 0.740, auc_train: 1.000, auc_valid:0.846, time: 0.80 sec\n",
      "epoch 3, cross_loss: 0.057, acc_train: 1.000, acc_valid: 0.770, auc_train: 1.000, auc_valid:0.846, time: 0.80 sec\n",
      "epoch 4, cross_loss: 0.074, acc_train: 1.000, acc_valid: 0.740, auc_train: 1.000, auc_valid:0.844, time: 0.79 sec\n",
      "epoch 0, cross_loss: 0.250, acc_train: 1.000, acc_valid: 0.780, auc_train: 1.000, auc_valid:0.854, time: 0.80 sec\n",
      "epoch 1, cross_loss: 0.104, acc_train: 1.000, acc_valid: 0.770, auc_train: 1.000, auc_valid:0.861, time: 0.82 sec\n",
      "epoch 2, cross_loss: 0.276, acc_train: 0.990, acc_valid: 0.770, auc_train: 1.000, auc_valid:0.864, time: 0.80 sec\n",
      "epoch 3, cross_loss: 0.083, acc_train: 1.000, acc_valid: 0.780, auc_train: 1.000, auc_valid:0.870, time: 0.80 sec\n",
      "epoch 4, cross_loss: 0.088, acc_train: 1.000, acc_valid: 0.780, auc_train: 1.000, auc_valid:0.873, time: 0.80 sec\n",
      "epoch 0, cross_loss: 0.069, acc_train: 0.768, acc_valid: 0.610, auc_train: 0.998, auc_valid:0.880, time: 0.79 sec\n",
      "epoch 1, cross_loss: 0.127, acc_train: 0.919, acc_valid: 0.820, auc_train: 1.000, auc_valid:0.885, time: 0.79 sec\n",
      "epoch 2, cross_loss: 0.110, acc_train: 0.929, acc_valid: 0.720, auc_train: 1.000, auc_valid:0.885, time: 0.80 sec\n",
      "epoch 3, cross_loss: 0.368, acc_train: 0.990, acc_valid: 0.750, auc_train: 1.000, auc_valid:0.887, time: 0.81 sec\n",
      "epoch 4, cross_loss: 0.064, acc_train: 0.980, acc_valid: 0.820, auc_train: 1.000, auc_valid:0.884, time: 0.79 sec\n",
      "epoch 0, cross_loss: 0.224, acc_train: 1.000, acc_valid: 0.770, auc_train: 1.000, auc_valid:0.865, time: 0.81 sec\n",
      "epoch 1, cross_loss: 0.107, acc_train: 0.646, acc_valid: 0.540, auc_train: 1.000, auc_valid:0.851, time: 0.79 sec\n",
      "epoch 2, cross_loss: 0.522, acc_train: 0.949, acc_valid: 0.710, auc_train: 1.000, auc_valid:0.837, time: 0.81 sec\n",
      "epoch 3, cross_loss: 0.047, acc_train: 1.000, acc_valid: 0.730, auc_train: 1.000, auc_valid:0.830, time: 0.79 sec\n",
      "epoch 4, cross_loss: 0.040, acc_train: 0.980, acc_valid: 0.690, auc_train: 1.000, auc_valid:0.828, time: 0.82 sec\n",
      "epoch 0, cross_loss: 0.381, acc_train: 0.990, acc_valid: 0.720, auc_train: 1.000, auc_valid:0.823, time: 0.82 sec\n",
      "epoch 1, cross_loss: 0.084, acc_train: 0.960, acc_valid: 0.730, auc_train: 1.000, auc_valid:0.838, time: 0.80 sec\n",
      "epoch 2, cross_loss: 0.047, acc_train: 1.000, acc_valid: 0.740, auc_train: 1.000, auc_valid:0.839, time: 0.81 sec\n",
      "epoch 3, cross_loss: 0.043, acc_train: 1.000, acc_valid: 0.760, auc_train: 1.000, auc_valid:0.846, time: 0.83 sec\n",
      "epoch 4, cross_loss: 0.047, acc_train: 1.000, acc_valid: 0.770, auc_train: 1.000, auc_valid:0.848, time: 0.82 sec\n",
      "epoch 0, cross_loss: 0.214, acc_train: 0.980, acc_valid: 0.800, auc_train: 1.000, auc_valid:0.862, time: 0.82 sec\n",
      "epoch 1, cross_loss: 0.188, acc_train: 0.980, acc_valid: 0.810, auc_train: 1.000, auc_valid:0.872, time: 0.81 sec\n",
      "epoch 2, cross_loss: 0.196, acc_train: 1.000, acc_valid: 0.790, auc_train: 1.000, auc_valid:0.877, time: 0.80 sec\n",
      "epoch 3, cross_loss: 0.048, acc_train: 1.000, acc_valid: 0.760, auc_train: 1.000, auc_valid:0.881, time: 0.78 sec\n",
      "epoch 4, cross_loss: 0.071, acc_train: 1.000, acc_valid: 0.750, auc_train: 1.000, auc_valid:0.881, time: 0.78 sec\n",
      "Converting one-hot labels to integers\n",
      "10\n",
      "    auc gene_name   std  num_genes\n",
      "0  0.85      RPL5  0.02       10.0\n",
      "    auc gene_name   std  num_genes\n",
      "0  0.76      RPL5  0.02       10.0\n",
      "epoch 0, cross_loss: 0.529, acc_train: 0.828, acc_valid: 0.610, auc_train: 1.000, auc_valid:0.845, time: 0.81 sec\n",
      "epoch 1, cross_loss: 0.016, acc_train: 1.000, acc_valid: 0.740, auc_train: 1.000, auc_valid:0.841, time: 0.80 sec\n",
      "epoch 2, cross_loss: 0.055, acc_train: 1.000, acc_valid: 0.760, auc_train: 1.000, auc_valid:0.839, time: 0.79 sec\n",
      "epoch 3, cross_loss: 0.046, acc_train: 1.000, acc_valid: 0.710, auc_train: 1.000, auc_valid:0.840, time: 0.81 sec\n",
      "epoch 4, cross_loss: 0.033, acc_train: 1.000, acc_valid: 0.730, auc_train: 1.000, auc_valid:0.837, time: 0.79 sec\n",
      "epoch 0, cross_loss: 0.059, acc_train: 1.000, acc_valid: 0.790, auc_train: 1.000, auc_valid:0.844, time: 0.80 sec\n",
      "epoch 1, cross_loss: 0.048, acc_train: 1.000, acc_valid: 0.780, auc_train: 1.000, auc_valid:0.852, time: 0.82 sec\n",
      "epoch 2, cross_loss: 0.050, acc_train: 1.000, acc_valid: 0.770, auc_train: 1.000, auc_valid:0.855, time: 0.84 sec\n",
      "epoch 3, cross_loss: 0.023, acc_train: 1.000, acc_valid: 0.770, auc_train: 1.000, auc_valid:0.860, time: 0.80 sec\n",
      "epoch 4, cross_loss: 0.037, acc_train: 1.000, acc_valid: 0.760, auc_train: 1.000, auc_valid:0.864, time: 0.84 sec\n",
      "epoch 0, cross_loss: 0.112, acc_train: 0.949, acc_valid: 0.700, auc_train: 1.000, auc_valid:0.871, time: 0.88 sec\n",
      "epoch 1, cross_loss: 0.123, acc_train: 0.990, acc_valid: 0.790, auc_train: 1.000, auc_valid:0.865, time: 0.84 sec\n",
      "epoch 2, cross_loss: 0.204, acc_train: 1.000, acc_valid: 0.790, auc_train: 1.000, auc_valid:0.872, time: 0.86 sec\n",
      "epoch 3, cross_loss: 0.394, acc_train: 0.859, acc_valid: 0.780, auc_train: 1.000, auc_valid:0.873, time: 0.88 sec\n",
      "epoch 4, cross_loss: 0.068, acc_train: 1.000, acc_valid: 0.820, auc_train: 1.000, auc_valid:0.876, time: 0.88 sec\n",
      "Converting one-hot labels to integers\n",
      "20\n",
      "    auc gene_name  num_genes   std\n",
      "0  0.85      RPL5       10.0  0.02\n",
      "1  0.86      RPL5       20.0  0.02\n",
      "    auc gene_name  num_genes   std\n",
      "0  0.76      RPL5       10.0  0.02\n",
      "1  0.75      RPL5       20.0  0.04\n",
      "epoch 0, cross_loss: 0.766, acc_train: 1.000, acc_valid: 0.740, auc_train: 1.000, auc_valid:0.852, time: 0.91 sec\n",
      "epoch 1, cross_loss: 0.395, acc_train: 0.859, acc_valid: 0.670, auc_train: 1.000, auc_valid:0.846, time: 0.92 sec\n",
      "epoch 2, cross_loss: 0.025, acc_train: 1.000, acc_valid: 0.710, auc_train: 1.000, auc_valid:0.836, time: 0.87 sec\n",
      "epoch 3, cross_loss: 0.016, acc_train: 1.000, acc_valid: 0.740, auc_train: 1.000, auc_valid:0.835, time: 0.88 sec\n",
      "epoch 4, cross_loss: 0.015, acc_train: 1.000, acc_valid: 0.740, auc_train: 1.000, auc_valid:0.830, time: 0.90 sec\n"
     ]
    }
   ],
   "source": [
    "# Predict a gene from a growing number of Nodes\n",
    "lr_results = pd.DataFrame([])\n",
    "mlp_results = pd.DataFrame([])\n",
    "cgn_results = pd.DataFrame([])\n",
    "gene = \"RPL5\"\n",
    "num_samples = 100\n",
    "max_genes = 100\n",
    "reload(data)\n",
    "reload(models)\n",
    "tcgatissue = data.gene_datasets.TCGATissue(data_dir='./genomics/TCGA/', data_file='TCGA_tissue_ppi.hdf5')\n",
    "cgn_df = infer_gene(cgn, tcgatissue, \"RPL5\", train_size=100, test_size=100, trials=3, penalty=False)\n",
    "lr_df = infer_gene(lr, tcgatissue, \"RPL5\", train_size=100, test_size=100, trials=3, penalty=True)\n",
    "mlp_df = infer_gene(mlp, tcgatissue, \"RPL5\", train_size=100, test_size=100, trials=3, penalty=True)\n",
    "\n",
    "for num_genes in range(10, max_genes, 10):\n",
    "    neighbors = sample_neighbors(g, \"RPL5\", num_genes)\n",
    "    tcgatissue.df = tcgatissue.df.loc[:, neighbors]\n",
    "    lr_row = infer_gene(lr, tcgatissue, \"RPL5\", train_size=100, test_size=100, trials=3, penalty=True)\n",
    "    lr_results = lr_results.append(lr_row).reset_index(drop=True)\n",
    "    lr_results.loc[lr_results.index[-1], 'num_genes'] = num_genes\n",
    "    cgn_row = infer_gene(cgn, tcgatissue, \"RPL5\", train_size=100, test_size=100, trials=3, penalty=True)\n",
    "    cgn_results = cgn_results.append(cgn_row).reset_index(drop=True)\n",
    "    cgn_results.loc[lr_results.index[-1], 'num_genes'] = num_genes\n",
    "    tcgatissue = data.gene_datasets.TCGATissue(data_dir='./genomics/TCGA/', data_file='TCGA_tissue_ppi.hdf5')\n",
    "    print num_genes\n",
    "    print cgn_results\n",
    "    print lr_results"
   ]
  },
  {
   "cell_type": "code",
   "execution_count": 137,
   "metadata": {},
   "outputs": [
    {
     "data": {
      "text/html": [
       "<div>\n",
       "<style scoped>\n",
       "    .dataframe tbody tr th:only-of-type {\n",
       "        vertical-align: middle;\n",
       "    }\n",
       "\n",
       "    .dataframe tbody tr th {\n",
       "        vertical-align: top;\n",
       "    }\n",
       "\n",
       "    .dataframe thead th {\n",
       "        text-align: right;\n",
       "    }\n",
       "</style>\n",
       "<table border=\"1\" class=\"dataframe\">\n",
       "  <thead>\n",
       "    <tr style=\"text-align: right;\">\n",
       "      <th></th>\n",
       "      <th>auc</th>\n",
       "      <th>gene_name</th>\n",
       "      <th>std</th>\n",
       "    </tr>\n",
       "  </thead>\n",
       "  <tbody>\n",
       "    <tr>\n",
       "      <th>0</th>\n",
       "      <td>0.86</td>\n",
       "      <td>RPL5</td>\n",
       "      <td>0.02</td>\n",
       "    </tr>\n",
       "  </tbody>\n",
       "</table>\n",
       "</div>"
      ],
      "text/plain": [
       "    auc gene_name   std\n",
       "0  0.86      RPL5  0.02"
      ]
     },
     "execution_count": 137,
     "metadata": {},
     "output_type": "execute_result"
    }
   ],
   "source": [
    "# results of adding Nodes\n",
    "plt.figure()\n",
    "\n",
    "#full_results.loc[full_results['samples'] == 100]\n",
    "\n",
    "line1 = plt.errorbar(results.index, results['auc'], xerr=0, yerr=results['std'])\n",
    "line2 = plt.errorbar(results.index, list(repeat(0.69, len(full_results))), xerr=0, yerr=list(repeat(0.06, len(full_results))))\n",
    "\n",
    "width = 0.2\n",
    "plt.xticks(list(results.iloc[::5, :].index), results.iloc[::5, :]['num_genes'], rotation=70)\n",
    "plt.title(\"Gene Inference with varying numbers of nodes\")\n",
    "plt.ylabel(\"AUC\")\n",
    "plt.xlabel(\"number of nodes\")\n",
    "plt.legend((line1[0], line2[0]), ('Varying # of Nodes', \"Baseline (Full Dataset)\"), bbox_to_anchor=(1.05, 1), loc=2, borderaxespad=0., fontsize=10)"
   ]
  }
 ],
 "metadata": {
  "kernelspec": {
   "display_name": "Python 2",
   "language": "python",
   "name": "python2"
  },
  "language_info": {
   "codemirror_mode": {
    "name": "ipython",
    "version": 2
   },
   "file_extension": ".py",
   "mimetype": "text/x-python",
   "name": "python",
   "nbconvert_exporter": "python",
   "pygments_lexer": "ipython2",
   "version": "2.7.13"
  }
 },
 "nbformat": 4,
 "nbformat_minor": 2
}
