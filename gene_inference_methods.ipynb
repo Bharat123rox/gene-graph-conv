{
 "cells": [
  {
   "cell_type": "code",
   "execution_count": 1,
   "metadata": {},
   "outputs": [
    {
     "name": "stderr",
     "output_type": "stream",
     "text": [
      "/Users/martinweiss/.pyenv/versions/2.7.13/lib/python2.7/site-packages/h5py/__init__.py:36: FutureWarning: Conversion of the second argument of issubdtype from `float` to `np.floating` is deprecated. In future, it will be treated as `np.float64 == np.dtype(float).type`.\n",
      "  from ._conv import register_converters as _register_converters\n"
     ]
    }
   ],
   "source": [
    "import sys\n",
    "from itertools import repeat\n",
    "import data, data.gene_datasets\n",
    "import sklearn, sklearn.model_selection, sklearn.metrics, sklearn.linear_model, sklearn.neural_network, sklearn.tree\n",
    "import numpy as np\n",
    "import matplotlib, matplotlib.pyplot as plt\n",
    "import networkx as nx\n",
    "import pandas as pd\n",
    "import gene_inference, gene_inference.utils\n",
    "from gene_inference.models import lr, mlp, decision_tree\n",
    "from gene_inference.infer_genes import infer_gene, infer_all_genes, sample_neighbors\n"
   ]
  },
  {
   "cell_type": "code",
   "execution_count": 2,
   "metadata": {},
   "outputs": [
    {
     "name": "stdout",
     "output_type": "stream",
     "text": [
      "Converting one-hot labels to integers\n",
      "'Graph' object has no attribute 'labels'\n"
     ]
    }
   ],
   "source": [
    "tcgatissue = data.gene_datasets.TCGATissue(data_dir='./genomics/TCGA/')\n",
    "class Object(object):\n",
    "    pass\n",
    "\n",
    "opt = Object()\n",
    "opt.seed = 0\n",
    "opt.nb_class = None\n",
    "opt.nb_examples = None\n",
    "opt.nb_nodes = None\n",
    "opt.graph = \"pathway\"\n",
    "opt.dataset = tcgatissue\n",
    "\n",
    "tcgatissue.set_graph(opt)\n",
    "g = nx.from_numpy_matrix(tcgatissue.adj)\n",
    "mapping = dict(zip(range(0, len(tcgatissue.df.columns)), tcgatissue.df.columns))\n",
    "g = nx.relabel_nodes(g, mapping)"
   ]
  },
  {
   "cell_type": "code",
   "execution_count": 3,
   "metadata": {},
   "outputs": [],
   "source": [
    "def predict_gene_from_samples(gene, method, max_samples):\n",
    "    full_results = pd.DataFrame([])\n",
    "    first_degree_results = pd.DataFrame([])\n",
    "    first_degree = set(g.neighbors(gene))\n",
    "    first_degree.add(gene)\n",
    "    first_degree_graph = g.subgraph(first_degree)\n",
    "\n",
    "    for num_samples in range(10, max_samples, 10):\n",
    "        full_results = full_results.append(infer_gene(method, tcgatissue.df[:1000], gene, g, num_samples, penalty=True)).reset_index(drop=True)\n",
    "        full_results.loc[full_results.index[-1], 'samples'] = num_samples\n",
    "        first_degree_results = first_degree_results.append(infer_gene(method, tcgatissue.df.loc[:1000, first_degree], gene, first_degree_graph, num_samples, penalty=True)).reset_index(drop=True)\n",
    "        first_degree_results.loc[first_degree_results.index[-1], 'samples'] = num_samples\n",
    "    return full_results, first_degree_results\n"
   ]
  },
  {
   "cell_type": "code",
   "execution_count": null,
   "metadata": {},
   "outputs": [],
   "source": []
  },
  {
   "cell_type": "code",
   "execution_count": null,
   "metadata": {},
   "outputs": [],
   "source": [
    "max_samples = 200\n",
    "full_results_1, first_degree_results_1 = predict_gene_from_samples(\"RPL5\", lr, 200)\n",
    "print \"1\"\n",
    "full_results_2, first_degree_results_2 = predict_gene_from_samples(\"RPL5\", mlp, 200)\n",
    "print \"2\"\n",
    "full_results_3, first_degree_results_3 = predict_gene_from_samples(\"RPL5\", decision_tree, 200)\n",
    "print \"3\""
   ]
  },
  {
   "cell_type": "code",
   "execution_count": 10,
   "metadata": {},
   "outputs": [],
   "source": [
    "# cgn"
   ]
  },
  {
   "cell_type": "code",
   "execution_count": 13,
   "metadata": {},
   "outputs": [
    {
     "data": {
      "text/plain": [
       "<matplotlib.legend.Legend at 0x11a51a3d0>"
      ]
     },
     "execution_count": 13,
     "metadata": {},
     "output_type": "execute_result"
    },
    {
     "data": {
      "image/png": "[encoded data removed]",
      "text/plain": [
       "<matplotlib.figure.Figure at 0x11a45c750>"
      ]
     },
     "metadata": {},
     "output_type": "display_data"
    }
   ],
   "source": [
    "plt.figure()\n",
    "\n",
    "line1 = plt.errorbar(full_results_1.index, full_results_1['auc'], xerr=0, yerr=full_results_1['std'])\n",
    "line2 = plt.errorbar(full_results_2.index, full_results_2['auc'], xerr=0, yerr=full_results_2['std'])\n",
    "line3 = plt.errorbar(full_results_3.index, full_results_3['auc'], xerr=0, yerr=full_results_3['std'])\n",
    "\n",
    "width = 0.2\n",
    "plt.xticks(list(full_results_1.iloc[::1, :].index), full_results_1.iloc[::1, :]['samples'], rotation=70)\n",
    "plt.title(\"Gene Inference with varying numbers of Samples and Methods\")\n",
    "plt.ylabel(\"AUC\")\n",
    "plt.xlabel(\"Number of Samples\")\n",
    "plt.legend((line1[0], line2[0], line3[0]), ('LR', 'MLP', 'Decision Tree'), bbox_to_anchor=(1.05, 1), loc=2, borderaxespad=0., fontsize=10)"
   ]
  },
  {
   "cell_type": "code",
   "execution_count": null,
   "metadata": {},
   "outputs": [],
   "source": []
  }
 ],
 "metadata": {
  "kernelspec": {
   "display_name": "Python 2",
   "language": "python",
   "name": "python2"
  },
  "language_info": {
   "codemirror_mode": {
    "name": "ipython",
    "version": 2
   },
   "file_extension": ".py",
   "mimetype": "text/x-python",
   "name": "python",
   "nbconvert_exporter": "python",
   "pygments_lexer": "ipython2",
   "version": "2.7.13"
  }
 },
 "nbformat": 4,
 "nbformat_minor": 2
}
