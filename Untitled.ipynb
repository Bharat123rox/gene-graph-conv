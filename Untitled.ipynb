{
 "cells": [
  {
   "cell_type": "code",
   "execution_count": 25,
   "metadata": {},
   "outputs": [],
   "source": [
    "import time\n",
    "import torch\n",
    "import numpy as np\n",
    "import networkx as nx\n",
    "from data.graph_wrapper import GeneManiaGraph\n",
    "torch.cuda.set_device(1)"
   ]
  },
  {
   "cell_type": "code",
   "execution_count": 12,
   "metadata": {},
   "outputs": [
    {
     "name": "stdout",
     "output_type": "stream",
     "text": [
      "tensor([[1., 1., 0.],\n",
      "        [1., 1., 0.],\n",
      "        [0., 0., 1.]])\n"
     ]
    }
   ],
   "source": [
    "adj = torch.FloatTensor([[1, 1, 0], [1, 1, 0], [0, 0, 1]])\n",
    "print(adj)"
   ]
  },
  {
   "cell_type": "code",
   "execution_count": 13,
   "metadata": {},
   "outputs": [
    {
     "name": "stdout",
     "output_type": "stream",
     "text": [
      "tensor([[2., 3., 4.],\n",
      "        [5., 6., 7.]])\n",
      "torch.Size([2, 3])\n"
     ]
    }
   ],
   "source": [
    "x = torch.FloatTensor([[2, 3, 4], [5, 6, 7]])\n",
    "print(x)\n",
    "print(x.shape)"
   ]
  },
  {
   "cell_type": "code",
   "execution_count": 14,
   "metadata": {},
   "outputs": [
    {
     "name": "stdout",
     "output_type": "stream",
     "text": [
      "3\n",
      "tensor([[2., 3., 4.]])\n"
     ]
    }
   ],
   "source": [
    "print(x.size(-1))\n",
    "new_x = x[0].view(1, x.size(-1))\n",
    "print(new_x)"
   ]
  },
  {
   "cell_type": "code",
   "execution_count": 15,
   "metadata": {},
   "outputs": [
    {
     "name": "stdout",
     "output_type": "stream",
     "text": [
      "tensor([[2., 3., 0.],\n",
      "        [2., 3., 0.],\n",
      "        [0., 0., 4.]])\n"
     ]
    }
   ],
   "source": [
    "res =  new_x * adj\n",
    "print(res)"
   ]
  },
  {
   "cell_type": "code",
   "execution_count": 16,
   "metadata": {},
   "outputs": [
    {
     "data": {
      "text/plain": [
       "tensor([3., 3., 4.])"
      ]
     },
     "execution_count": 16,
     "metadata": {},
     "output_type": "execute_result"
    }
   ],
   "source": [
    "res.max(dim=1)[0]"
   ]
  },
  {
   "cell_type": "code",
   "execution_count": null,
   "metadata": {},
   "outputs": [],
   "source": []
  },
  {
   "cell_type": "code",
   "execution_count": null,
   "metadata": {},
   "outputs": [],
   "source": []
  },
  {
   "cell_type": "code",
   "execution_count": 17,
   "metadata": {},
   "outputs": [
    {
     "name": "stdout",
     "output_type": "stream",
     "text": [
      "tensor([[0.0000, 0.0041, 0.0082,  ..., 0.0000, 0.0000, 0.0000],\n",
      "        [0.0041, 0.0000, 0.0000,  ..., 0.0000, 0.0000, 0.0000],\n",
      "        [0.0082, 0.0000, 0.0000,  ..., 0.0000, 0.0000, 0.0000],\n",
      "        ...,\n",
      "        [0.0000, 0.0000, 0.0000,  ..., 0.0000, 0.0000, 0.0000],\n",
      "        [0.0000, 0.0000, 0.0000,  ..., 0.0000, 0.0000, 0.0000],\n",
      "        [0.0000, 0.0000, 0.0000,  ..., 0.0000, 0.0000, 0.0000]],\n",
      "       device='cuda:1')\n"
     ]
    }
   ],
   "source": [
    "gene_graph = GeneManiaGraph()\n",
    "neighbors = gene_graph.bfs_sample_neighbors(\"RPL13\", 16000)\n",
    "adj = np.asarray(nx.to_numpy_matrix(neighbors))\n",
    "adj = torch.autograd.Variable(torch.FloatTensor(adj), requires_grad=False).cuda()\n",
    "print(adj)"
   ]
  },
  {
   "cell_type": "code",
   "execution_count": 41,
   "metadata": {},
   "outputs": [
    {
     "name": "stdout",
     "output_type": "stream",
     "text": [
      "torch.Size([10, 640, 16000])\n",
      "tensor([[0.1024, 0.6512, 0.0654,  ..., 0.3640, 0.6611, 0.3745],\n",
      "        [0.7507, 0.8330, 0.5920,  ..., 0.0604, 0.2806, 0.1471],\n",
      "        [0.1686, 0.9002, 0.7569,  ..., 0.7460, 0.8632, 0.0761],\n",
      "        ...,\n",
      "        [0.1394, 0.3512, 0.9226,  ..., 0.4773, 0.3205, 0.9677],\n",
      "        [0.5147, 0.6253, 0.7446,  ..., 0.3913, 0.8932, 0.7631],\n",
      "        [0.6215, 0.0551, 0.3977,  ..., 0.4727, 0.4511, 0.2217]])\n",
      "torch.Size([640, 16000])\n"
     ]
    }
   ],
   "source": [
    "x = torch.FloatTensor(np.random.rand(10, 640, 16000))\n",
    "print(x.shape)\n",
    "\n",
    "print(x[0])\n",
    "print(x[0].shape)\n"
   ]
  },
  {
   "cell_type": "code",
   "execution_count": 42,
   "metadata": {},
   "outputs": [
    {
     "name": "stdout",
     "output_type": "stream",
     "text": [
      "16000\n",
      "tensor([[0.1024, 0.6512, 0.0654,  ..., 0.3640, 0.6611, 0.3745],\n",
      "        [0.7507, 0.8330, 0.5920,  ..., 0.0604, 0.2806, 0.1471],\n",
      "        [0.1686, 0.9002, 0.7569,  ..., 0.7460, 0.8632, 0.0761],\n",
      "        ...,\n",
      "        [0.1394, 0.3512, 0.9226,  ..., 0.4773, 0.3205, 0.9677],\n",
      "        [0.5147, 0.6253, 0.7446,  ..., 0.3913, 0.8932, 0.7631],\n",
      "        [0.6215, 0.0551, 0.3977,  ..., 0.4727, 0.4511, 0.2217]])\n",
      "torch.Size([640, 16000])\n"
     ]
    }
   ],
   "source": [
    "print(x.size(-1))\n",
    "new_x = x[0]\n",
    "print(new_x)\n",
    "print(new_x.shape)"
   ]
  },
  {
   "cell_type": "code",
   "execution_count": 43,
   "metadata": {},
   "outputs": [
    {
     "name": "stdout",
     "output_type": "stream",
     "text": [
      "5.7944183349609375\n"
     ]
    }
   ],
   "source": [
    "temp = []\n",
    "start = time.time()\n",
    "new_x = new_x.cuda(1)\n",
    "for i in range(640):\n",
    "    temp.append((new_x[i].view(1, 16000, 1) * adj).max(dim=1)[0].cpu())\n",
    "print(time.time() - start)\n",
    "res = torch.stack(temp).cuda()"
   ]
  },
  {
   "cell_type": "code",
   "execution_count": 32,
   "metadata": {},
   "outputs": [
    {
     "data": {
      "text/plain": [
       "torch.Size([32, 1, 16000])"
      ]
     },
     "execution_count": 32,
     "metadata": {},
     "output_type": "execute_result"
    }
   ],
   "source": [
    "res.shape"
   ]
  },
  {
   "cell_type": "code",
   "execution_count": null,
   "metadata": {},
   "outputs": [],
   "source": [
    "(new_x[0].view(1, 16000, 1).cuda() * adj.cuda()).shape"
   ]
  },
  {
   "cell_type": "code",
   "execution_count": null,
   "metadata": {},
   "outputs": [],
   "source": [
    "%timeit -n 1 -r 2 new_x[0].view(1, 16000, 1).cuda() * adj.cuda()"
   ]
  },
  {
   "cell_type": "code",
   "execution_count": null,
   "metadata": {},
   "outputs": [],
   "source": []
  },
  {
   "cell_type": "code",
   "execution_count": null,
   "metadata": {},
   "outputs": [],
   "source": [
    "\n",
    "            # import pdb; pdb.set_trace()\n",
    "            # start = time.time()\n",
    "            # max_value = (x.view(-1, x.size(-1), 1) * adj).max(dim=1)[0]\n",
    "\n"
   ]
  },
  {
   "cell_type": "code",
   "execution_count": null,
   "metadata": {},
   "outputs": [],
   "source": [
    "        # import pdb; pdb.set_trace()\n",
    "        # start = time.time()\n",
    "        #\n",
    "        # for i in range(x.shape[0]):\n",
    "        #     temp[i] = (x[i] * adj).max(dim=1)[0]\n",
    "        # print(str(time.time() - start))\n",
    "        # max_value = temp\n",
    "        # import pdb; pdb.set_trace()\n"
   ]
  },
  {
   "cell_type": "code",
   "execution_count": null,
   "metadata": {},
   "outputs": [],
   "source": [
    "            # temp = []\n",
    "            # x_cpu = x.view(-1, x.size(-1)).cpu()\n",
    "            # start = time.time()\n",
    "            # print(\"starting\")\n",
    "            # import pdb; pdb.set_trace()\n",
    "            # \n",
    "            # for row in adj.t():\n",
    "            #     neighbors = row.nonzero().view(-1)\n",
    "            #     temp.append(x_cpu[:, neighbors].max(dim=1)[0].cuda())\n",
    "            # print(time.time() - start)\n",
    "            # max_value = torch.stack(temp).t()\n",
    "            # \n",
    "            # what we used to do: it runs out of memeory\n",
    "            # max_value = (x.view(-1, x.size(-1), 1) * adj.cuda()).max(dim=1)[0]\n"
   ]
  }
 ],
 "metadata": {
  "kernelspec": {
   "display_name": "Python 3",
   "language": "python",
   "name": "python3"
  },
  "language_info": {
   "codemirror_mode": {
    "name": "ipython",
    "version": 3
   },
   "file_extension": ".py",
   "mimetype": "text/x-python",
   "name": "python",
   "nbconvert_exporter": "python",
   "pygments_lexer": "ipython3",
   "version": "3.5.2"
  }
 },
 "nbformat": 4,
 "nbformat_minor": 2
}
