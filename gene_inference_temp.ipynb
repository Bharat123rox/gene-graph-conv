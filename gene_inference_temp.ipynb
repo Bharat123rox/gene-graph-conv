{
 "cells": [
  {
   "cell_type": "code",
   "execution_count": 1,
   "metadata": {},
   "outputs": [],
   "source": [
    "from models.models import get_model, setup_l1_loss\n",
    "import sys\n",
    "from itertools import repeat\n",
    "import data, data.gene_datasets\n",
    "import sklearn, sklearn.model_selection, sklearn.metrics, sklearn.linear_model, sklearn.neural_network, sklearn.tree\n",
    "import numpy as np\n",
    "import matplotlib, matplotlib.pyplot as plt\n",
    "import networkx as nx\n",
    "import pandas as pd\n",
    "import gene_inference, gene_inference.utils\n",
    "from gene_inference.models import lr, mlp, decision_tree\n",
    "from gene_inference.infer_genes import infer_gene, infer_all_genes, sample_neighbors\n"
   ]
  },
  {
   "cell_type": "code",
   "execution_count": null,
   "metadata": {},
   "outputs": [],
   "source": [
    "def cgn(df, labels, trials, train_size, penalty=False):\n",
    "    scores = []\n",
    "    for i in range(trials):\n",
    "        X_train, X_test, y_train, y_test = \\\n",
    "        sklearn.model_selection.train_test_split(df, labels, stratify=labels, train_size=train_size, random_state=i)\n",
    "\n",
    "        model = sklearn.tree.DecisionTreeClassifier()\n",
    "        if penalty:\n",
    "            model = sklearn.tree.DecisionTreeClassifier(penalty='l1', tol=0.0001)\n",
    "\n",
    "        model = model.fit(X_train, y_train)\n",
    "\n",
    "        score = sklearn.metrics.roc_auc_score(y_test, model.predict(X_test))\n",
    "        scores.append(score)\n",
    "    return np.round(np.mean(scores), 2),  np.round(np.std(scores),2)\n"
   ]
  }
 ],
 "metadata": {
  "kernelspec": {
   "display_name": "Python 2",
   "language": "python",
   "name": "python2"
  },
  "language_info": {
   "codemirror_mode": {
    "name": "ipython",
    "version": 2
   },
   "file_extension": ".py",
   "mimetype": "text/x-python",
   "name": "python",
   "nbconvert_exporter": "python",
   "pygments_lexer": "ipython2",
   "version": "2.7.13"
  }
 },
 "nbformat": 4,
 "nbformat_minor": 2
}
