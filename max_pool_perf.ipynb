{
 "cells": [
  {
   "cell_type": "code",
   "execution_count": 2,
   "metadata": {},
   "outputs": [],
   "source": [
    "import os\n",
    "import time\n",
    "import pickle\n",
    "import numpy as np\n",
    "import matplotlib, matplotlib.pyplot as plt\n",
    "import networkx as nx\n",
    "import pandas as pd\n",
    "import torch\n",
    "import itertools\n",
    "from torch.autograd import Variable\n",
    "import sklearn, sklearn.model_selection, sklearn.metrics\n",
    "import numpy as np\n",
    "from scipy import sparse\n",
    "from models.models import MLP, GCN, SLR\n",
    "from data import datasets\n",
    "from data.gene_graphs import GeneManiaGraph\n",
    "from data.utils import record_result\n",
    "from models.utils import setup_aggregates, hierarchical_clustering, max_pool\n",
    "from models.models import EmbeddingLayer\n",
    "from torch_scatter import scatter_add, scatter_max\n"
   ]
  },
  {
   "cell_type": "code",
   "execution_count": 2,
   "metadata": {},
   "outputs": [
    {
     "name": "stdout",
     "output_type": "stream",
     "text": [
      "Torrent name: TCGA_tissue_ppi.hdf5, Size: 1748.32MB\n",
      "Converting one-hot labels to integers\n"
     ]
    }
   ],
   "source": [
    "dataset = datasets.TCGADataset()\n",
    "dataset.df = dataset.df - dataset.df.mean(axis=0)"
   ]
  },
  {
   "cell_type": "code",
   "execution_count": 3,
   "metadata": {},
   "outputs": [
    {
     "name": "stdout",
     "output_type": "stream",
     "text": [
      "Torrent name: genemania.pkl, Size: 9.61MB\n"
     ]
    }
   ],
   "source": [
    "gene_graph = GeneManiaGraph()"
   ]
  },
  {
   "cell_type": "code",
   "execution_count": 4,
   "metadata": {},
   "outputs": [],
   "source": [
    "nb_genes = 2000\n",
    "neighbors = gene_graph.bfs_sample_neighbors(\"RPL3\", nb_genes)\n",
    "adj = nx.to_scipy_sparse_matrix(neighbors)"
   ]
  },
  {
   "cell_type": "code",
   "execution_count": 5,
   "metadata": {},
   "outputs": [],
   "source": [
    "clusters = hierarchical_clustering(adj, 1000)"
   ]
  },
  {
   "cell_type": "code",
   "execution_count": 6,
   "metadata": {},
   "outputs": [],
   "source": [
    "X_train, X_test, y_train, y_test = sklearn.model_selection.train_test_split(dataset.df, dataset.labels, stratify=dataset.labels, train_size=50, test_size=1000, random_state=1)\n",
    "X_train = X_train[list(neighbors.nodes)].copy()\n",
    "inputs = torch.FloatTensor(np.expand_dims(X_train, axis=2))[0: 10]\n",
    "inputs = Variable(inputs, requires_grad=False).float()\n",
    "embedded_inputs = EmbeddingLayer(nb_genes)(inputs)\n",
    "embedded_inputs = embedded_inputs.cuda().contiguous()\n",
    "embedded_inputs = embedded_inputs.permute(0, 2, 1).contiguous()\n"
   ]
  },
  {
   "cell_type": "code",
   "execution_count": 7,
   "metadata": {},
   "outputs": [],
   "source": [
    "embedded_inputs = embedded_inputs.cuda()\n",
    "clusters = torch.tensor(clusters).cuda()"
   ]
  },
  {
   "cell_type": "code",
   "execution_count": 12,
   "metadata": {},
   "outputs": [
    {
     "name": "stdout",
     "output_type": "stream",
     "text": [
      "2.48 ms ± 5.55 µs per loop (mean ± std. dev. of 7 runs, 100 loops each)\n"
     ]
    }
   ],
   "source": [
    "%timeit max_pool(embedded_inputs, clusters)"
   ]
  },
  {
   "cell_type": "code",
   "execution_count": null,
   "metadata": {},
   "outputs": [],
   "source": [
    "clusters"
   ]
  },
  {
   "cell_type": "code",
   "execution_count": 38,
   "metadata": {},
   "outputs": [
    {
     "name": "stdout",
     "output_type": "stream",
     "text": [
      "1.13 s ± 20.9 ms per loop (mean ± std. dev. of 7 runs, 1 loop each)\n"
     ]
    }
   ],
   "source": [
    "# I removed this code, but it was the old crappy way of doing this.\n",
    "# Also, doing big matrix multiplies is not viable for clinical tasks until we get GPUs with 400 gigs of ram\n",
    "# %timeit sparse_max_pool(adjs[0], centroids[0], inputs.cuda())"
   ]
  },
  {
   "cell_type": "code",
   "execution_count": null,
   "metadata": {},
   "outputs": [],
   "source": []
  },
  {
   "cell_type": "code",
   "execution_count": null,
   "metadata": {},
   "outputs": [],
   "source": []
  },
  {
   "cell_type": "code",
   "execution_count": 3,
   "metadata": {},
   "outputs": [],
   "source": [
    "results = pd.read_pickle(\"experiments/results/perf.pkl\")"
   ]
  },
  {
   "cell_type": "code",
   "execution_count": 4,
   "metadata": {},
   "outputs": [],
   "source": [
    "cuda_results = results[results[\"exp\"] == \"torch-scatter-cuda\"]\n",
    "cpu_results = results[results[\"exp\"] == \"torch-scatter-cpu\"]\n",
    "scatter_cuda_times = cuda_results.groupby(\"num_genes\")[\"time_elapsed\"].mean()\n",
    "scatter_cpu_times = cpu_results.groupby(\"num_genes\")[\"time_elapsed\"].mean()"
   ]
  },
  {
   "cell_type": "code",
   "execution_count": 5,
   "metadata": {},
   "outputs": [
    {
     "data": {
      "text/plain": [
       "<matplotlib.legend.Legend at 0x7fe3702c4cc0>"
      ]
     },
     "execution_count": 5,
     "metadata": {},
     "output_type": "execute_result"
    },
    {
     "data": {
      "image/png": "[encoded data removed]",
      "text/plain": [
       "<Figure size 432x288 with 1 Axes>"
      ]
     },
     "metadata": {
      "needs_background": "light"
     },
     "output_type": "display_data"
    }
   ],
   "source": [
    "plt.plot(scatter_cuda_times, label=\"torch-scatter cuda\")\n",
    "plt.plot(scatter_cpu_times, label=\"torch-scatter cpu\")\n",
    "plt.xlabel(\"# of Genes\")\n",
    "plt.ylabel(\"Seconds per Trial\")\n",
    "plt.legend()"
   ]
  },
  {
   "cell_type": "code",
   "execution_count": 126,
   "metadata": {},
   "outputs": [
    {
     "data": {
      "text/plain": [
       "num_genes\n",
       "50        8.872047\n",
       "100       2.268636\n",
       "200       2.239667\n",
       "300       3.446151\n",
       "500       2.551242\n",
       "1000      3.746726\n",
       "2000      4.611657\n",
       "4000     10.058063\n",
       "8000     23.667645\n",
       "16300    45.356163\n",
       "Name: time_elapsed, dtype: float32"
      ]
     },
     "execution_count": 126,
     "metadata": {},
     "output_type": "execute_result"
    }
   ],
   "source": [
    "scatter_cuda_times"
   ]
  },
  {
   "cell_type": "code",
   "execution_count": 125,
   "metadata": {},
   "outputs": [
    {
     "data": {
      "text/plain": [
       "num_genes\n",
       "50         9.739996\n",
       "100        7.451807\n",
       "200       10.669987\n",
       "300       13.329312\n",
       "500       18.289906\n",
       "1000      30.711226\n",
       "2000      64.039383\n",
       "4000     103.071251\n",
       "8000     212.067078\n",
       "16300    483.467316\n",
       "Name: time_elapsed, dtype: float32"
      ]
     },
     "execution_count": 125,
     "metadata": {},
     "output_type": "execute_result"
    }
   ],
   "source": [
    "scatter_cpu_times"
   ]
  },
  {
   "cell_type": "code",
   "execution_count": null,
   "metadata": {},
   "outputs": [],
   "source": []
  }
 ],
 "metadata": {
  "kernelspec": {
   "display_name": "Python 3",
   "language": "python",
   "name": "python3"
  },
  "language_info": {
   "codemirror_mode": {
    "name": "ipython",
    "version": 3
   },
   "file_extension": ".py",
   "mimetype": "text/x-python",
   "name": "python",
   "nbconvert_exporter": "python",
   "pygments_lexer": "ipython3",
   "version": "3.7.1"
  }
 },
 "nbformat": 4,
 "nbformat_minor": 2
}
