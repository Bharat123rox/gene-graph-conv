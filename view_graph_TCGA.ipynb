{
 "cells": [
  {
   "cell_type": "code",
   "execution_count": 1,
   "metadata": {
    "collapsed": true
   },
   "outputs": [],
   "source": [
    "import numpy as np\n",
    "import h5py\n",
    "import os\n",
    "import matplotlib.pyplot as plt\n",
    "%matplotlib inline"
   ]
  },
  {
   "cell_type": "code",
   "execution_count": 13,
   "metadata": {
    "collapsed": false
   },
   "outputs": [],
   "source": [
    "file_name = \"/u/dutilfra/tmplisa4/transcriptome/graph/dataset.hdf5\"\n",
    "data = h5py.File(file_name, 'r')"
   ]
  },
  {
   "cell_type": "code",
   "execution_count": 3,
   "metadata": {
    "collapsed": false
   },
   "outputs": [
    {
     "name": "stdout",
     "output_type": "stream",
     "text": [
      "[u'expression_data', u'gene_names', u'graph_data', u'labels_data', u'sample_names']\n"
     ]
    }
   ],
   "source": [
    "# Our key:\n",
    "print data.keys()"
   ]
  },
  {
   "cell_type": "code",
   "execution_count": 4,
   "metadata": {
    "collapsed": false
   },
   "outputs": [
    {
     "name": "stdout",
     "output_type": "stream",
     "text": [
      "For expression_data, shape: (10459, 16300), ex: [ 10.53180027   9.71609974   0.4657     ...,   9.36069965  13.78079987   0.        ]\n",
      "For gene_names, shape: (16300,), ex: UBE2Q1\n",
      "For graph_data, shape: (16300, 16300), ex: [ 0.  0.  0. ...,  0.  0.  0.]\n",
      "For labels_data, shape: (10459, 29), ex: [ 0.  0.  0.  0.  0.  0.  0.  0.  0.  0.  0.  0.  0.  0.  0.  0.  0.  0.\n",
      "  0.  0.  0.  0.  1.  0.  0.  0.  0.  0.  0.]\n",
      "For sample_names, shape: (10459,), ex: TCGA-S9-A7J2-01\n"
     ]
    }
   ],
   "source": [
    "# Examples:\n",
    "\n",
    "for k in data.keys():\n",
    "    print \"For {}, shape: {}, ex: {}\".format(k, data[k].shape, data[k][0])\n"
   ]
  },
  {
   "cell_type": "code",
   "execution_count": 12,
   "metadata": {
    "collapsed": false
   },
   "outputs": [
    {
     "data": {
      "text/plain": [
       "{u'0': 'Cervix',\n",
       " u'1': 'Testis',\n",
       " u'10': 'Rectum',\n",
       " u'11': 'Prostate',\n",
       " u'12': 'Liver',\n",
       " u'13': 'Lining of body cavities',\n",
       " u'14': 'Thymus',\n",
       " u'15': 'Uterus',\n",
       " u'16': 'Ovary',\n",
       " u'17': 'White blood cell',\n",
       " u'18': 'Soft tissue,Bone',\n",
       " u'19': 'Bile duct',\n",
       " u'2': 'Eye',\n",
       " u'20': 'Paraganglia',\n",
       " u'21': 'Endometrium',\n",
       " u'22': 'Brain',\n",
       " u'23': 'Thyroid Gland',\n",
       " u'24': 'Lung',\n",
       " u'25': 'Skin',\n",
       " u'26': 'Esophagus',\n",
       " u'27': 'Pancreas',\n",
       " u'28': 'Kidney',\n",
       " u'3': 'Head and Neck region',\n",
       " u'4': 'Adrenal gland',\n",
       " u'5': 'Stomach',\n",
       " u'6': 'Bladder',\n",
       " u'7': 'Lymphatic tissue',\n",
       " u'8': 'Breast',\n",
       " u'9': 'Colon',\n",
       " u'Adrenal gland': 4,\n",
       " u'Bile duct': 19,\n",
       " u'Bladder': 6,\n",
       " u'Brain': 22,\n",
       " u'Breast': 8,\n",
       " u'Cervix': 0,\n",
       " u'Colon': 9,\n",
       " u'Endometrium': 21,\n",
       " u'Esophagus': 26,\n",
       " u'Eye': 2,\n",
       " u'Head and Neck region': 3,\n",
       " u'Kidney': 28,\n",
       " u'Lining of body cavities': 13,\n",
       " u'Liver': 12,\n",
       " u'Lung': 24,\n",
       " u'Lymphatic tissue': 7,\n",
       " u'Ovary': 16,\n",
       " u'Pancreas': 27,\n",
       " u'Paraganglia': 20,\n",
       " u'Prostate': 11,\n",
       " u'Rectum': 10,\n",
       " u'Skin': 25,\n",
       " u'Soft tissue,Bone': 18,\n",
       " u'Stomach': 5,\n",
       " u'Testis': 1,\n",
       " u'Thymus': 14,\n",
       " u'Thyroid Gland': 23,\n",
       " u'Uterus': 15,\n",
       " u'White blood cell': 17}"
      ]
     },
     "execution_count": 12,
     "metadata": {},
     "output_type": "execute_result"
    }
   ],
   "source": [
    "dict(data['labels_data'].attrs)"
   ]
  },
  {
   "cell_type": "code",
   "execution_count": 5,
   "metadata": {
    "collapsed": false
   },
   "outputs": [
    {
     "data": {
      "image/png": "[encoded data removed]",
      "text/plain": [
       "<matplotlib.figure.Figure at 0x7fa3d46430d0>"
      ]
     },
     "metadata": {},
     "output_type": "display_data"
    },
    {
     "name": "stdout",
     "output_type": "stream",
     "text": [
      "On average: 32.4732515337\n"
     ]
    },
    {
     "data": {
      "image/png": "[encoded data removed]",
      "text/plain": [
       "<matplotlib.figure.Figure at 0x7fa3ae0e6450>"
      ]
     },
     "metadata": {},
     "output_type": "display_data"
    },
    {
     "name": "stdout",
     "output_type": "stream",
     "text": [
      "On average: 1.9301173687\n"
     ]
    }
   ],
   "source": [
    "nb_edges = (np.array(data['graph_data']) > 0.00).sum(axis=0)\n",
    "plt.semilogy(np.sort(nb_edges))\n",
    "plt.title(\"Number of edges for each genes\")\n",
    "plt.show()\n",
    "print \"On average: {}\".format(nb_edges.mean(axis=0))\n",
    "\n",
    "nb_edges = (np.array(data['graph_data'])).sum(axis=0)\n",
    "plt.semilogy(np.sort(nb_edges))\n",
    "plt.show()\n",
    "print \"On average: {}\".format(nb_edges.mean(axis=0))"
   ]
  },
  {
   "cell_type": "code",
   "execution_count": 120,
   "metadata": {
    "collapsed": false
   },
   "outputs": [
    {
     "data": {
      "image/png": "[encoded data removed]",
      "text/plain": [
       "<matplotlib.figure.Figure at 0x7f777a3e3c10>"
      ]
     },
     "metadata": {},
     "output_type": "display_data"
    },
    {
     "name": "stdout",
     "output_type": "stream",
     "text": [
      "[   3 1525 1110  911  767  627  551  491  441  456]\n"
     ]
    }
   ],
   "source": [
    "# The histogram of edges\n",
    "nb_edges = (np.array(data['graph_data']) > 0.0).sum(axis=0)\n",
    "\n",
    "max_show = 50\n",
    "my_bins =  range(max_show)\n",
    "plt.figure(figsize=(10,10))\n",
    "arr = plt.hist(np.minimum(nb_edges, max_show), bins=my_bins)#[0, 2, 5, 10, 100, 1000])\n",
    "for i in range(15) + [max_show-2]:\n",
    "    plt.text(arr[1][i], arr[0][i], str(int(arr[0][i])))\n",
    "    \n",
    "plt.title(\"Histogram of the number of edges\")\n",
    "plt.show()\n",
    "\n",
    "    \n",
    "print np.histogram(np.minimum(nb_edges, max_show), range(max_show))[0][:10]\n",
    "# If we compare to an image, the number of neighbors is = filter_size **2 (i.e. usually 4, 9, 25)"
   ]
  },
  {
   "cell_type": "code",
   "execution_count": 104,
   "metadata": {
    "collapsed": false
   },
   "outputs": [
    {
     "name": "stdout",
     "output_type": "stream",
     "text": [
      "FAF2: 55 edges.\n",
      "EPB41L3: 56 edges.\n",
      "TFAP2A: 59 edges.\n",
      "CRK: 61 edges.\n",
      "FOS: 63 edges.\n",
      "CRY1: 64 edges.\n",
      "CACNA1A: 70 edges.\n",
      "VCL: 71 edges.\n",
      "PXN: 74 edges.\n",
      "CDC37: 83 edges.\n",
      "...\n",
      "COX6A1: 0 edges.\n",
      "SDHD: 0 edges.\n",
      "DOPEY1: 0 edges.\n",
      "SLC17A2: 0 edges.\n",
      "SLC17A6: 0 edges.\n",
      "SLC17A5: 0 edges.\n",
      "SLC17A4: 0 edges.\n",
      "CILP2: 0 edges.\n",
      "TSPY2: 0 edges.\n",
      "DMRT2: 0 edges.\n"
     ]
    }
   ],
   "source": [
    "a = (np.array(data['graph_data']) > 0.1).sum(axis=0)\n",
    "arg_a = np.argsort(a)\n",
    "\n",
    "for i in arg_a[-10:]:\n",
    "    print \"{}: {} edges.\".format(data['gene_names'][i], a[i]) \n",
    "\n",
    "print \"...\"\n",
    "\n",
    "for i in arg_a[:10]:\n",
    "    print \"{}: {} edges.\".format(data['gene_names'][i], a[i]) "
   ]
  },
  {
   "cell_type": "code",
   "execution_count": null,
   "metadata": {
    "collapsed": true
   },
   "outputs": [],
   "source": []
  }
 ],
 "metadata": {
  "kernelspec": {
   "display_name": "Python 2",
   "language": "python",
   "name": "python2"
  },
  "language_info": {
   "codemirror_mode": {
    "name": "ipython",
    "version": 2
   },
   "file_extension": ".py",
   "mimetype": "text/x-python",
   "name": "python",
   "nbconvert_exporter": "python",
   "pygments_lexer": "ipython2",
   "version": "2.7.13"
  }
 },
 "nbformat": 4,
 "nbformat_minor": 2
}
