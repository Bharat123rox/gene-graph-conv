{
 "cells": [
  {
   "cell_type": "code",
   "execution_count": null,
   "metadata": {},
   "outputs": [],
   "source": [
    "import time\n",
    "import torch\n",
    "import numpy as np\n",
    "import networkx as nx\n",
    "import collections\n",
    "import matplotlib.pyplot as plt\n",
    "from data.gene_graphs import GeneManiaGraph\n",
    "from scipy import sparse\n",
    "import joblib \n",
    "import sklearn.cluster\n",
    "import scipy.cluster\n",
    "from scipy.spatial.distance import pdist\n",
    "from scipy.cluster.hierarchy import ward, fcluster\n",
    "from sklearn.cluster import AgglomerativeClustering\n"
   ]
  },
  {
   "cell_type": "code",
   "execution_count": null,
   "metadata": {},
   "outputs": [],
   "source": []
  },
  {
   "cell_type": "code",
   "execution_count": 5,
   "metadata": {},
   "outputs": [
    {
     "name": "stdout",
     "output_type": "stream",
     "text": [
      "tensor([[1., 1., 0.],\n",
      "        [1., 1., 0.],\n",
      "        [0., 0., 1.]])\n"
     ]
    }
   ],
   "source": [
    "adj = torch.FloatTensor([[1, 1, 0], [1, 1, 0], [0, 0, 1]])\n",
    "print(adj)"
   ]
  },
  {
   "cell_type": "code",
   "execution_count": 6,
   "metadata": {},
   "outputs": [
    {
     "name": "stdout",
     "output_type": "stream",
     "text": [
      "tensor([[2., 3., 4.],\n",
      "        [5., 6., 7.]])\n",
      "torch.Size([2, 3])\n"
     ]
    }
   ],
   "source": [
    "x = torch.FloatTensor([[2, 3, 4], [5, 6, 7]])\n",
    "print(x)\n",
    "print(x.shape)"
   ]
  },
  {
   "cell_type": "code",
   "execution_count": 7,
   "metadata": {},
   "outputs": [
    {
     "name": "stdout",
     "output_type": "stream",
     "text": [
      "3\n",
      "tensor([[2., 3., 4.]])\n"
     ]
    }
   ],
   "source": [
    "print(x.size(-1))\n",
    "new_x = x[0].view(1, x.size(-1))\n",
    "print(new_x)"
   ]
  },
  {
   "cell_type": "code",
   "execution_count": 8,
   "metadata": {},
   "outputs": [
    {
     "name": "stdout",
     "output_type": "stream",
     "text": [
      "tensor([[2., 3., 0.],\n",
      "        [2., 3., 0.],\n",
      "        [0., 0., 4.]])\n"
     ]
    }
   ],
   "source": [
    "res =  new_x * adj\n",
    "print(res)"
   ]
  },
  {
   "cell_type": "code",
   "execution_count": 9,
   "metadata": {},
   "outputs": [
    {
     "data": {
      "text/plain": [
       "tensor([3., 3., 4.])"
      ]
     },
     "execution_count": 9,
     "metadata": {},
     "output_type": "execute_result"
    }
   ],
   "source": [
    "res.max(dim=1)[0]"
   ]
  },
  {
   "cell_type": "code",
   "execution_count": 17,
   "metadata": {},
   "outputs": [
    {
     "name": "stdout",
     "output_type": "stream",
     "text": [
      "tensor([[1., 1., 0.],\n",
      "        [1., 1., 0.],\n",
      "        [0., 0., 1.]])\n"
     ]
    }
   ],
   "source": [
    "adj = torch.FloatTensor([[1, 1, 0], [1, 1, 0], [0, 0, 1]])\n",
    "print(adj)"
   ]
  },
  {
   "cell_type": "code",
   "execution_count": 18,
   "metadata": {},
   "outputs": [
    {
     "name": "stdout",
     "output_type": "stream",
     "text": [
      "tensor([[2., 3., 4.],\n",
      "        [5., 6., 7.]])\n",
      "torch.Size([2, 3])\n"
     ]
    }
   ],
   "source": [
    "x = torch.FloatTensor([[2, 3, 4], [5, 6, 7]])\n",
    "print(x)\n",
    "print(x.shape)"
   ]
  },
  {
   "cell_type": "code",
   "execution_count": 19,
   "metadata": {},
   "outputs": [
    {
     "name": "stdout",
     "output_type": "stream",
     "text": [
      "3\n",
      "tensor([[2., 3., 4.]])\n"
     ]
    }
   ],
   "source": [
    "print(x.size(-1))\n",
    "new_x = x[0].view(1, x.size(-1))\n",
    "print(new_x)"
   ]
  },
  {
   "cell_type": "code",
   "execution_count": 20,
   "metadata": {},
   "outputs": [
    {
     "name": "stdout",
     "output_type": "stream",
     "text": [
      "tensor([[2., 3., 0.],\n",
      "        [2., 3., 0.],\n",
      "        [0., 0., 4.]])\n"
     ]
    }
   ],
   "source": [
    "res =  new_x * adj\n",
    "print(res)"
   ]
  },
  {
   "cell_type": "code",
   "execution_count": 21,
   "metadata": {},
   "outputs": [
    {
     "data": {
      "text/plain": [
       "tensor([3., 3., 4.])"
      ]
     },
     "execution_count": 21,
     "metadata": {},
     "output_type": "execute_result"
    }
   ],
   "source": [
    "res.max(dim=1)[0]"
   ]
  },
  {
   "cell_type": "code",
   "execution_count": 17,
   "metadata": {},
   "outputs": [
    {
     "name": "stdout",
     "output_type": "stream",
     "text": [
      "Torrent name: genemania.pkl, Size: 9.61MB\n"
     ]
    }
   ],
   "source": [
    "gene_graph = GeneManiaGraph()\n",
    "neighbors = gene_graph.bfs_sample_neighbors(\"RPL13\", 100)\n",
    "adj = np.asarray(nx.to_numpy_matrix(neighbors))"
   ]
  },
  {
   "cell_type": "code",
   "execution_count": 18,
   "metadata": {},
   "outputs": [],
   "source": [
    "sparseadj = sparse.csr_matrix(adj)\n"
   ]
  },
  {
   "cell_type": "code",
   "execution_count": 19,
   "metadata": {},
   "outputs": [],
   "source": [
    "np.fill_diagonal(adj, 1.)  # TODO: Hummm, think it's a 0.\n",
    "D = adj.sum(axis=1)\n"
   ]
  },
  {
   "cell_type": "code",
   "execution_count": 20,
   "metadata": {},
   "outputs": [],
   "source": [
    "D_inv = np.diag(1. / np.sqrt(D))\n"
   ]
  },
  {
   "cell_type": "code",
   "execution_count": 21,
   "metadata": {},
   "outputs": [],
   "source": [
    "D_inv_sparse = sparse.csr_matrix(D_inv)\n",
    "adj_sparse = sparse.csr_matrix(adj)"
   ]
  },
  {
   "cell_type": "code",
   "execution_count": 22,
   "metadata": {},
   "outputs": [],
   "source": [
    "norm_transform = D_inv_sparse.dot(adj_sparse).dot(D_inv_sparse)\n"
   ]
  },
  {
   "cell_type": "code",
   "execution_count": 23,
   "metadata": {},
   "outputs": [
    {
     "data": {
      "text/plain": [
       "<100x100 sparse matrix of type '<class 'numpy.float64'>'\n",
       "\twith 1294 stored elements in Compressed Sparse Row format>"
      ]
     },
     "execution_count": 23,
     "metadata": {},
     "output_type": "execute_result"
    }
   ],
   "source": [
    "norm_transform"
   ]
  },
  {
   "cell_type": "code",
   "execution_count": null,
   "metadata": {},
   "outputs": [],
   "source": [
    "x = torch.FloatTensor(np.random.rand(10, 640, 16000))\n",
    "print(x.shape)\n",
    "\n",
    "print(x[0])\n",
    "print(x[0].shape)\n"
   ]
  },
  {
   "cell_type": "code",
   "execution_count": null,
   "metadata": {},
   "outputs": [],
   "source": [
    "print(x.size(-1))\n",
    "new_x = x[0]\n",
    "print(new_x)\n",
    "print(new_x.shape)"
   ]
  },
  {
   "cell_type": "code",
   "execution_count": null,
   "metadata": {},
   "outputs": [],
   "source": [
    "temp = []\n",
    "start = time.time()\n",
    "new_x = new_x.cuda(1)\n",
    "for i in range(640):\n",
    "    temp.append((new_x[i].view(1, 16000, 1) * adj).max(dim=1)[0].cpu())\n",
    "print(time.time() - start)\n",
    "res = torch.stack(temp).cuda()"
   ]
  },
  {
   "cell_type": "code",
   "execution_count": 32,
   "metadata": {},
   "outputs": [
    {
     "data": {
      "text/plain": [
       "torch.Size([32, 1, 16000])"
      ]
     },
     "execution_count": 32,
     "metadata": {},
     "output_type": "execute_result"
    }
   ],
   "source": [
    "res.shape"
   ]
  },
  {
   "cell_type": "code",
   "execution_count": null,
   "metadata": {},
   "outputs": [],
   "source": [
    "(new_x[0].view(1, 16000, 1).cuda() * adj.cuda()).shape"
   ]
  },
  {
   "cell_type": "code",
   "execution_count": null,
   "metadata": {},
   "outputs": [],
   "source": [
    "%timeit -n 1 -r 2 new_x[0].view(1, 16000, 1).cuda() * adj.cuda()"
   ]
  },
  {
   "cell_type": "code",
   "execution_count": null,
   "metadata": {},
   "outputs": [],
   "source": []
  },
  {
   "cell_type": "code",
   "execution_count": null,
   "metadata": {},
   "outputs": [],
   "source": [
    "\n",
    "            # import pdb; pdb.set_trace()\n",
    "            # start = time.time()\n",
    "            # max_value = (x.view(-1, x.size(-1), 1) * adj).max(dim=1)[0]\n",
    "\n"
   ]
  },
  {
   "cell_type": "code",
   "execution_count": null,
   "metadata": {},
   "outputs": [],
   "source": [
    "        # import pdb; pdb.set_trace()\n",
    "        # start = time.time()\n",
    "        #\n",
    "        # for i in range(x.shape[0]):\n",
    "        #     temp[i] = (x[i] * adj).max(dim=1)[0]\n",
    "        # print(str(time.time() - start))\n",
    "        # max_value = temp\n",
    "        # import pdb; pdb.set_trace()\n"
   ]
  },
  {
   "cell_type": "code",
   "execution_count": null,
   "metadata": {},
   "outputs": [],
   "source": [
    "            # temp = []\n",
    "            # x_cpu = x.view(-1, x.size(-1)).cpu()\n",
    "            # start = time.time()\n",
    "            # print(\"starting\")\n",
    "            # import pdb; pdb.set_trace()\n",
    "            # \n",
    "            # for row in adj.t():\n",
    "            #     neighbors = row.nonzero().view(-1)\n",
    "            #     temp.append(x_cpu[:, neighbors].max(dim=1)[0].cuda())\n",
    "            # print(time.time() - start)\n",
    "            # max_value = torch.stack(temp).t()\n",
    "            # \n",
    "            # what we used to do: it runs out of memeory\n",
    "            # max_value = (x.view(-1, x.size(-1), 1) * adj.cuda()).max(dim=1)[0]\n"
   ]
  },
  {
   "cell_type": "code",
   "execution_count": 27,
   "metadata": {},
   "outputs": [],
   "source": [
    "temp = adj[:5000, :5000]"
   ]
  },
  {
   "cell_type": "code",
   "execution_count": 29,
   "metadata": {},
   "outputs": [],
   "source": [
    "sparse_temp = sparse.csr_matrix(temp)"
   ]
  },
  {
   "cell_type": "code",
   "execution_count": 30,
   "metadata": {},
   "outputs": [
    {
     "name": "stdout",
     "output_type": "stream",
     "text": [
      "281 ms ± 2.24 ms per loop (mean ± std. dev. of 7 runs, 1 loop each)\n"
     ]
    }
   ],
   "source": [
    "%timeit sklearn.cluster.AgglomerativeClustering(n_clusters=2000, affinity='euclidean', memory='/tmp', connectivity=(sparse_temp > 0.).astype(bool), compute_full_tree='auto', linkage='ward').fit_predict(temp.astype(\"float32\"))\n"
   ]
  }
 ],
 "metadata": {
  "kernelspec": {
   "display_name": "Python 3",
   "language": "python",
   "name": "python3"
  },
  "language_info": {
   "codemirror_mode": {
    "name": "ipython",
    "version": 3
   },
   "file_extension": ".py",
   "mimetype": "text/x-python",
   "name": "python",
   "nbconvert_exporter": "python",
   "pygments_lexer": "ipython3",
   "version": "3.5.2"
  }
 },
 "nbformat": 4,
 "nbformat_minor": 2
}
