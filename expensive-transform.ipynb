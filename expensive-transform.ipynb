{
 "cells": [
  {
   "cell_type": "code",
   "execution_count": 2,
   "metadata": {},
   "outputs": [],
   "source": [
    "import time\n",
    "import torch\n",
    "import numpy as np\n",
    "import networkx as nx\n",
    "import collections\n",
    "import matplotlib.pyplot as plt\n",
    "from data.gene_graphs import GeneManiaGraph\n",
    "from scipy import sparse\n",
    "import joblib \n",
    "import sklearn.cluster\n",
    "import scipy.cluster\n",
    "from scipy.spatial.distance import pdist\n",
    "from scipy.cluster.hierarchy import ward, fcluster\n",
    "from sklearn.cluster import AgglomerativeClustering\n"
   ]
  },
  {
   "cell_type": "code",
   "execution_count": null,
   "metadata": {},
   "outputs": [],
   "source": []
  },
  {
   "cell_type": "code",
   "execution_count": 3,
   "metadata": {},
   "outputs": [
    {
     "name": "stdout",
     "output_type": "stream",
     "text": [
      "tensor([[1., 1., 0.],\n",
      "        [1., 1., 0.],\n",
      "        [0., 0., 1.]])\n"
     ]
    }
   ],
   "source": [
    "adj = torch.FloatTensor([[1, 1, 0], [1, 1, 0], [0, 0, 1]])\n",
    "print(adj)"
   ]
  },
  {
   "cell_type": "code",
   "execution_count": 4,
   "metadata": {},
   "outputs": [
    {
     "name": "stdout",
     "output_type": "stream",
     "text": [
      "tensor([[2., 3., 4.],\n",
      "        [5., 6., 7.]])\n",
      "torch.Size([2, 3])\n"
     ]
    }
   ],
   "source": [
    "x = torch.FloatTensor([[2, 3, 4], [5, 6, 7]])\n",
    "print(x)\n",
    "print(x.shape)"
   ]
  },
  {
   "cell_type": "code",
   "execution_count": 5,
   "metadata": {},
   "outputs": [
    {
     "name": "stdout",
     "output_type": "stream",
     "text": [
      "3\n",
      "tensor([[2., 3., 4.]])\n"
     ]
    }
   ],
   "source": [
    "print(x.size(-1))\n",
    "new_x = x[0].view(1, x.size(-1))\n",
    "print(new_x)"
   ]
  },
  {
   "cell_type": "code",
   "execution_count": 6,
   "metadata": {},
   "outputs": [
    {
     "name": "stdout",
     "output_type": "stream",
     "text": [
      "tensor([[2., 3., 0.],\n",
      "        [2., 3., 0.],\n",
      "        [0., 0., 4.]])\n"
     ]
    }
   ],
   "source": [
    "res =  new_x * adj\n",
    "print(res)"
   ]
  },
  {
   "cell_type": "code",
   "execution_count": 7,
   "metadata": {},
   "outputs": [
    {
     "data": {
      "text/plain": [
       "tensor([3., 3., 4.])"
      ]
     },
     "execution_count": 7,
     "metadata": {},
     "output_type": "execute_result"
    }
   ],
   "source": [
    "res.max(dim=1)[0]"
   ]
  },
  {
   "cell_type": "code",
   "execution_count": 8,
   "metadata": {},
   "outputs": [
    {
     "name": "stdout",
     "output_type": "stream",
     "text": [
      "tensor([[1., 1., 0.],\n",
      "        [1., 1., 0.],\n",
      "        [0., 0., 1.]])\n"
     ]
    }
   ],
   "source": [
    "adj = torch.FloatTensor([[1, 1, 0], [1, 1, 0], [0, 0, 1]])\n",
    "print(adj)"
   ]
  },
  {
   "cell_type": "code",
   "execution_count": 9,
   "metadata": {},
   "outputs": [
    {
     "name": "stdout",
     "output_type": "stream",
     "text": [
      "tensor([[2., 3., 4.],\n",
      "        [5., 6., 7.]])\n",
      "torch.Size([2, 3])\n"
     ]
    }
   ],
   "source": [
    "x = torch.FloatTensor([[2, 3, 4], [5, 6, 7]])\n",
    "print(x)\n",
    "print(x.shape)"
   ]
  },
  {
   "cell_type": "code",
   "execution_count": 10,
   "metadata": {},
   "outputs": [
    {
     "name": "stdout",
     "output_type": "stream",
     "text": [
      "3\n",
      "tensor([[2., 3., 4.]])\n"
     ]
    }
   ],
   "source": [
    "print(x.size(-1))\n",
    "new_x = x[0].view(1, x.size(-1))\n",
    "print(new_x)"
   ]
  },
  {
   "cell_type": "code",
   "execution_count": 11,
   "metadata": {},
   "outputs": [
    {
     "name": "stdout",
     "output_type": "stream",
     "text": [
      "tensor([[2., 3., 0.],\n",
      "        [2., 3., 0.],\n",
      "        [0., 0., 4.]])\n"
     ]
    }
   ],
   "source": [
    "res =  new_x * adj\n",
    "print(res)"
   ]
  },
  {
   "cell_type": "code",
   "execution_count": 12,
   "metadata": {},
   "outputs": [
    {
     "data": {
      "text/plain": [
       "tensor([3., 3., 4.])"
      ]
     },
     "execution_count": 12,
     "metadata": {},
     "output_type": "execute_result"
    }
   ],
   "source": [
    "res.max(dim=1)[0]"
   ]
  },
  {
   "cell_type": "code",
   "execution_count": 13,
   "metadata": {},
   "outputs": [
    {
     "name": "stdout",
     "output_type": "stream",
     "text": [
      "Torrent name: genemania.pkl, Size: 9.61MB\n"
     ]
    }
   ],
   "source": [
    "gene_graph = GeneManiaGraph()\n",
    "neighbors = gene_graph.bfs_sample_neighbors(\"RPL13\", 100)\n",
    "adj = np.asarray(nx.to_numpy_matrix(neighbors))"
   ]
  },
  {
   "cell_type": "code",
   "execution_count": 14,
   "metadata": {},
   "outputs": [],
   "source": [
    "sparseadj = sparse.csr_matrix(adj)\n"
   ]
  },
  {
   "cell_type": "code",
   "execution_count": 15,
   "metadata": {},
   "outputs": [],
   "source": [
    "np.fill_diagonal(adj, 1.)  # TODO: Hummm, think it's a 0.\n",
    "D = adj.sum(axis=1)\n"
   ]
  },
  {
   "cell_type": "code",
   "execution_count": 16,
   "metadata": {},
   "outputs": [],
   "source": [
    "D_inv = np.diag(1. / np.sqrt(D))\n"
   ]
  },
  {
   "cell_type": "code",
   "execution_count": 21,
   "metadata": {},
   "outputs": [],
   "source": [
    "D_inv_sparse = sparse.csr_matrix(D_inv)\n",
    "adj_sparse = sparse.csr_matrix(adj)"
   ]
  },
  {
   "cell_type": "code",
   "execution_count": 22,
   "metadata": {},
   "outputs": [],
   "source": [
    "norm_transform = D_inv_sparse.dot(adj_sparse).dot(D_inv_sparse)\n"
   ]
  },
  {
   "cell_type": "code",
   "execution_count": 23,
   "metadata": {},
   "outputs": [
    {
     "data": {
      "text/plain": [
       "<100x100 sparse matrix of type '<class 'numpy.float64'>'\n",
       "\twith 1294 stored elements in Compressed Sparse Row format>"
      ]
     },
     "execution_count": 23,
     "metadata": {},
     "output_type": "execute_result"
    }
   ],
   "source": [
    "norm_transform"
   ]
  },
  {
   "cell_type": "code",
   "execution_count": 24,
   "metadata": {},
   "outputs": [
    {
     "name": "stdout",
     "output_type": "stream",
     "text": [
      "torch.Size([10, 640, 16000])\n",
      "tensor([[0.4713, 0.6697, 0.8128,  ..., 0.4968, 0.1299, 0.9680],\n",
      "        [0.2080, 0.8876, 0.0029,  ..., 0.1910, 0.2735, 0.1622],\n",
      "        [0.9127, 0.6155, 0.8032,  ..., 0.3604, 0.8360, 0.5748],\n",
      "        ...,\n",
      "        [0.9560, 0.4817, 0.1504,  ..., 0.3776, 0.4315, 0.0741],\n",
      "        [0.3368, 0.1659, 0.8138,  ..., 0.7461, 0.0477, 0.0287],\n",
      "        [0.2886, 0.0969, 0.4913,  ..., 0.0821, 0.9740, 0.7731]])\n",
      "torch.Size([640, 16000])\n"
     ]
    }
   ],
   "source": [
    "x = torch.FloatTensor(np.random.rand(10, 640, 16000))\n",
    "print(x.shape)\n",
    "\n",
    "print(x[0])\n",
    "print(x[0].shape)\n"
   ]
  },
  {
   "cell_type": "code",
   "execution_count": 18,
   "metadata": {},
   "outputs": [
    {
     "name": "stdout",
     "output_type": "stream",
     "text": [
      "16000\n",
      "tensor([[4.5850e-01, 5.7025e-02, 6.1852e-01,  ..., 7.2319e-02, 7.9605e-01,\n",
      "         8.7304e-01],\n",
      "        [4.0838e-01, 2.7077e-01, 4.0068e-02,  ..., 1.6847e-01, 9.3962e-01,\n",
      "         9.2008e-01],\n",
      "        [7.9781e-01, 1.5439e-01, 3.1015e-01,  ..., 5.5421e-02, 5.6407e-02,\n",
      "         5.9987e-01],\n",
      "        ...,\n",
      "        [4.3337e-01, 4.6144e-01, 7.0950e-01,  ..., 1.5952e-02, 8.7084e-01,\n",
      "         1.2626e-01],\n",
      "        [7.3853e-01, 6.2751e-04, 2.0656e-01,  ..., 3.4056e-01, 2.1334e-01,\n",
      "         3.6693e-01],\n",
      "        [2.5889e-01, 1.1269e-01, 9.1408e-01,  ..., 3.7513e-01, 6.0452e-01,\n",
      "         1.0884e-01]])\n",
      "torch.Size([640, 16000])\n"
     ]
    }
   ],
   "source": [
    "print(x.size(-1))\n",
    "new_x = x[0]\n",
    "print(new_x)\n",
    "print(new_x.shape)"
   ]
  },
  {
   "cell_type": "code",
   "execution_count": 21,
   "metadata": {},
   "outputs": [
    {
     "ename": "TypeError",
     "evalue": "mul(): argument 'other' (position 1) must be Tensor, not numpy.ndarray",
     "output_type": "error",
     "traceback": [
      "\u001b[0;31m---------------------------------------------------------------------------\u001b[0m",
      "\u001b[0;31mTypeError\u001b[0m                                 Traceback (most recent call last)",
      "\u001b[0;32m<ipython-input-21-81093e2e5ec5>\u001b[0m in \u001b[0;36m<module>\u001b[0;34m\u001b[0m\n\u001b[1;32m      3\u001b[0m \u001b[0;31m#new_x = new_x.cuda(1)\u001b[0m\u001b[0;34m\u001b[0m\u001b[0;34m\u001b[0m\u001b[0m\n\u001b[1;32m      4\u001b[0m \u001b[0;32mfor\u001b[0m \u001b[0mi\u001b[0m \u001b[0;32min\u001b[0m \u001b[0mrange\u001b[0m\u001b[0;34m(\u001b[0m\u001b[0;36m640\u001b[0m\u001b[0;34m)\u001b[0m\u001b[0;34m:\u001b[0m\u001b[0;34m\u001b[0m\u001b[0m\n\u001b[0;32m----> 5\u001b[0;31m     \u001b[0mtemp\u001b[0m\u001b[0;34m.\u001b[0m\u001b[0mappend\u001b[0m\u001b[0;34m(\u001b[0m\u001b[0;34m(\u001b[0m\u001b[0mnew_x\u001b[0m\u001b[0;34m[\u001b[0m\u001b[0mi\u001b[0m\u001b[0;34m]\u001b[0m\u001b[0;34m.\u001b[0m\u001b[0mview\u001b[0m\u001b[0;34m(\u001b[0m\u001b[0;36m1\u001b[0m\u001b[0;34m,\u001b[0m \u001b[0;36m16000\u001b[0m\u001b[0;34m,\u001b[0m \u001b[0;36m1\u001b[0m\u001b[0;34m)\u001b[0m \u001b[0;34m*\u001b[0m \u001b[0madj\u001b[0m\u001b[0;34m)\u001b[0m\u001b[0;34m.\u001b[0m\u001b[0mmax\u001b[0m\u001b[0;34m(\u001b[0m\u001b[0mdim\u001b[0m\u001b[0;34m=\u001b[0m\u001b[0;36m1\u001b[0m\u001b[0;34m)\u001b[0m\u001b[0;34m[\u001b[0m\u001b[0;36m0\u001b[0m\u001b[0;34m]\u001b[0m\u001b[0;34m.\u001b[0m\u001b[0mcpu\u001b[0m\u001b[0;34m(\u001b[0m\u001b[0;34m)\u001b[0m\u001b[0;34m)\u001b[0m\u001b[0;34m\u001b[0m\u001b[0m\n\u001b[0m\u001b[1;32m      6\u001b[0m \u001b[0mprint\u001b[0m\u001b[0;34m(\u001b[0m\u001b[0mtime\u001b[0m\u001b[0;34m.\u001b[0m\u001b[0mtime\u001b[0m\u001b[0;34m(\u001b[0m\u001b[0;34m)\u001b[0m \u001b[0;34m-\u001b[0m \u001b[0mstart\u001b[0m\u001b[0;34m)\u001b[0m\u001b[0;34m\u001b[0m\u001b[0m\n\u001b[1;32m      7\u001b[0m \u001b[0mres\u001b[0m \u001b[0;34m=\u001b[0m \u001b[0mtorch\u001b[0m\u001b[0;34m.\u001b[0m\u001b[0mstack\u001b[0m\u001b[0;34m(\u001b[0m\u001b[0mtemp\u001b[0m\u001b[0;34m)\u001b[0m\u001b[0;34m.\u001b[0m\u001b[0mcuda\u001b[0m\u001b[0;34m(\u001b[0m\u001b[0;34m)\u001b[0m\u001b[0;34m\u001b[0m\u001b[0m\n",
      "\u001b[0;31mTypeError\u001b[0m: mul(): argument 'other' (position 1) must be Tensor, not numpy.ndarray"
     ]
    }
   ],
   "source": [
    "temp = []\n",
    "start = time.time()\n",
    "#new_x = new_x.cuda(1)\n",
    "for i in range(640):\n",
    "    temp.append((new_x[i].view(1, 16000, 1) * adj).max(dim=1)[0].cpu())\n",
    "print(time.time() - start)\n",
    "res = torch.stack(temp).cuda()"
   ]
  },
  {
   "cell_type": "code",
   "execution_count": 20,
   "metadata": {},
   "outputs": [
    {
     "data": {
      "text/plain": [
       "torch.Size([3, 3])"
      ]
     },
     "execution_count": 20,
     "metadata": {},
     "output_type": "execute_result"
    }
   ],
   "source": [
    "res.shape"
   ]
  },
  {
   "cell_type": "code",
   "execution_count": null,
   "metadata": {},
   "outputs": [],
   "source": [
    "(new_x[0].view(1, 16000, 1).cuda() * adj.cuda()).shape"
   ]
  },
  {
   "cell_type": "code",
   "execution_count": null,
   "metadata": {},
   "outputs": [],
   "source": [
    "%timeit -n 1 -r 2 new_x[0].view(1, 16000, 1).cuda() * adj.cuda()"
   ]
  },
  {
   "cell_type": "code",
   "execution_count": null,
   "metadata": {},
   "outputs": [],
   "source": []
  },
  {
   "cell_type": "code",
   "execution_count": null,
   "metadata": {},
   "outputs": [],
   "source": [
    "\n",
    "            # import pdb; pdb.set_trace()\n",
    "            # start = time.time()\n",
    "            # max_value = (x.view(-1, x.size(-1), 1) * adj).max(dim=1)[0]\n",
    "\n"
   ]
  },
  {
   "cell_type": "code",
   "execution_count": null,
   "metadata": {},
   "outputs": [],
   "source": [
    "        # import pdb; pdb.set_trace()\n",
    "        # start = time.time()\n",
    "        #\n",
    "        # for i in range(x.shape[0]):\n",
    "        #     temp[i] = (x[i] * adj).max(dim=1)[0]\n",
    "        # print(str(time.time() - start))\n",
    "        # max_value = temp\n",
    "        # import pdb; pdb.set_trace()\n"
   ]
  },
  {
   "cell_type": "code",
   "execution_count": null,
   "metadata": {},
   "outputs": [],
   "source": [
    "            # temp = []\n",
    "            # x_cpu = x.view(-1, x.size(-1)).cpu()\n",
    "            # start = time.time()\n",
    "            # print(\"starting\")\n",
    "            # import pdb; pdb.set_trace()\n",
    "            # \n",
    "            # for row in adj.t():\n",
    "            #     neighbors = row.nonzero().view(-1)\n",
    "            #     temp.append(x_cpu[:, neighbors].max(dim=1)[0].cuda())\n",
    "            # print(time.time() - start)\n",
    "            # max_value = torch.stack(temp).t()\n",
    "            # \n",
    "            # what we used to do: it runs out of memeory\n",
    "            # max_value = (x.view(-1, x.size(-1), 1) * adj.cuda()).max(dim=1)[0]\n"
   ]
  },
  {
   "cell_type": "code",
   "execution_count": 25,
   "metadata": {},
   "outputs": [],
   "source": [
    "ids = sklearn.cluster.AgglomerativeClustering(n_clusters=50, affinity='euclidean', memory='.cache', connectivity=(adj > 0.).astype(bool), compute_full_tree='auto', linkage='ward').fit_predict(adj.astype(\"float32\"))\n"
   ]
  },
  {
   "cell_type": "code",
   "execution_count": 26,
   "metadata": {},
   "outputs": [
    {
     "data": {
      "text/plain": [
       "array([26, 45, 49, 33, 28, 18, 11, 42, 30,  3,  2,  2, 16, 34,  9, 14, 31,\n",
       "        5, 41, 17,  4,  8, 32, 40, 12, 34, 12, 27, 19, 43, 10, 40, 44, 27,\n",
       "       18, 39, 10, 47,  7, 22,  1, 13, 48, 10,  3, 35, 14, 12, 21, 16, 35,\n",
       "       19, 24,  4, 28, 15,  7, 38,  5,  5, 23,  9,  1, 13, 33, 18,  7, 29,\n",
       "       25, 37,  1, 25,  6,  4,  7, 19,  8, 16, 46,  0, 28,  6, 21, 11, 20,\n",
       "       23, 17, 37, 30, 24, 12, 22,  8, 46, 36, 15,  0, 29, 26, 20])"
      ]
     },
     "execution_count": 26,
     "metadata": {},
     "output_type": "execute_result"
    }
   ],
   "source": [
    "ids"
   ]
  },
  {
   "cell_type": "code",
   "execution_count": 1,
   "metadata": {},
   "outputs": [
    {
     "ename": "NameError",
     "evalue": "name 'adj' is not defined",
     "output_type": "error",
     "traceback": [
      "\u001b[0;31m---------------------------------------------------------------------------\u001b[0m",
      "\u001b[0;31mNameError\u001b[0m                                 Traceback (most recent call last)",
      "\u001b[0;32m<ipython-input-1-3f969aefe942>\u001b[0m in \u001b[0;36m<module>\u001b[0;34m\u001b[0m\n\u001b[0;32m----> 1\u001b[0;31m \u001b[0mtemp\u001b[0m \u001b[0;34m=\u001b[0m \u001b[0madj\u001b[0m\u001b[0;34m[\u001b[0m\u001b[0;34m:\u001b[0m\u001b[0;36m5000\u001b[0m\u001b[0;34m,\u001b[0m \u001b[0;34m:\u001b[0m\u001b[0;36m5000\u001b[0m\u001b[0;34m]\u001b[0m\u001b[0;34m\u001b[0m\u001b[0m\n\u001b[0m",
      "\u001b[0;31mNameError\u001b[0m: name 'adj' is not defined"
     ]
    }
   ],
   "source": [
    "temp = adj[:5000, :5000]"
   ]
  },
  {
   "cell_type": "code",
   "execution_count": 29,
   "metadata": {},
   "outputs": [],
   "source": [
    "sparse_temp = sparse.csr_matrix(temp)"
   ]
  },
  {
   "cell_type": "code",
   "execution_count": 30,
   "metadata": {},
   "outputs": [
    {
     "name": "stdout",
     "output_type": "stream",
     "text": [
      "281 ms ± 2.24 ms per loop (mean ± std. dev. of 7 runs, 1 loop each)\n"
     ]
    }
   ],
   "source": [
    "%timeit sklearn.cluster.AgglomerativeClustering(n_clusters=2000, affinity='euclidean', memory='.cache', connectivity=(sparse_temp > 0.).astype(bool), compute_full_tree='auto', linkage='ward').fit_predict(temp.astype(\"float32\"))\n"
   ]
  }
 ],
 "metadata": {
  "kernelspec": {
   "display_name": "Python 3",
   "language": "python",
   "name": "python3"
  },
  "language_info": {
   "codemirror_mode": {
    "name": "ipython",
    "version": 3
   },
   "file_extension": ".py",
   "mimetype": "text/x-python",
   "name": "python",
   "nbconvert_exporter": "python",
   "pygments_lexer": "ipython3",
   "version": "3.5.2"
  }
 },
 "nbformat": 4,
 "nbformat_minor": 2
}
