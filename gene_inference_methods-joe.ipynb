{
 "cells": [
  {
   "cell_type": "code",
   "execution_count": 1,
   "metadata": {
    "collapsed": false
   },
   "outputs": [],
   "source": [
    "import sys\n",
    "import time\n",
    "import copy\n",
    "\n",
    "from itertools import repeat\n",
    "import data, data.gene_datasets\n",
    "import sklearn, sklearn.model_selection, sklearn.metrics, sklearn.linear_model, sklearn.neural_network, sklearn.tree\n",
    "import numpy as np\n",
    "import matplotlib, matplotlib.pyplot as plt\n",
    "import networkx as nx\n",
    "import pandas as pd\n",
    "import gene_inference\n",
    "#from gene_inference.infer_genes import infer_all_genes, sample_neighbors\n",
    "import models, models.graphLayer\n",
    "from models.models import CGN\n",
    "import data, data.gene_datasets\n",
    "from data.graph import Graph\n",
    "from data.utils import split_dataset\n",
    "import optimization\n",
    "import torch\n",
    "from torch.autograd import Variable\n",
    "from analysis.metrics import record_metrics_for_epoch\n",
    "import analysis\n",
    "reload(analysis.metrics)\n",
    "reload(gene_inference);"
   ]
  },
  {
   "cell_type": "code",
   "execution_count": 2,
   "metadata": {
    "collapsed": false
   },
   "outputs": [
    {
     "name": "stdout",
     "output_type": "stream",
     "text": [
      "Converting one-hot labels to integers\n"
     ]
    }
   ],
   "source": [
    "#tcgatissue = data.gene_datasets.TCGATissue(data_dir='./genomics/TCGA/', data_file='TCGA_tissue_ppi.hdf5')\n",
    "tcgatissue = data.gene_datasets.TCGATissue()"
   ]
  },
  {
   "cell_type": "code",
   "execution_count": 3,
   "metadata": {
    "collapsed": false
   },
   "outputs": [],
   "source": [
    "class Object(object):\n",
    "    pass\n",
    "\n",
    "opt = Object()\n",
    "opt.seed = 0\n",
    "opt.nb_class = None\n",
    "opt.nb_examples = None\n",
    "opt.nb_nodes = None\n",
    "opt.graph = \"pathway\"\n",
    "opt.dataset = tcgatissue\n",
    "opt.add_self = True\n",
    "opt.norm_adj = True\n",
    "opt.add_connectivity = False\n",
    "opt.num_layer = 1\n",
    "opt.cuda = True\n",
    "opt.pool_graph = \"ignore\"\n"
   ]
  },
  {
   "cell_type": "code",
   "execution_count": 4,
   "metadata": {
    "collapsed": true
   },
   "outputs": [],
   "source": [
    "graph = Graph()\n",
    "path = \"/data/lisa/data/genomics/graph/pancan-tissue-graph.hdf5\"\n",
    "graph.load_graph(path)\n",
    "#graph.intersection_with(tcgatissue)\n",
    "g = nx.from_numpy_matrix(graph.adj)\n",
    "mapping = dict(zip(range(0, len(tcgatissue.df.columns)), tcgatissue.df.columns))\n",
    "g = nx.relabel_nodes(g, mapping)"
   ]
  },
  {
   "cell_type": "code",
   "execution_count": 5,
   "metadata": {
    "collapsed": false
   },
   "outputs": [],
   "source": [
    "def sample_neighbors(g, gene, num_neighbors, include_self=True):\n",
    "    results = set([])\n",
    "    if include_self:\n",
    "        results = set([gene])\n",
    "    all_nodes = set(g.nodes)\n",
    "    first_degree = set(g.neighbors(gene))\n",
    "    second_degree = set()\n",
    "    for x in g.neighbors(gene):\n",
    "        second_degree = second_degree.union(set(g.neighbors(x)))\n",
    "    while len(results) < num_neighbors:\n",
    "        if len(first_degree) - len(results) > 0:\n",
    "            unique = sorted(first_degree - results)\n",
    "            results.add(unique.pop())\n",
    "        elif len(second_degree) - len(results) > 0:\n",
    "            unique = sorted(second_degree - results)\n",
    "            results.add(unique.pop())\n",
    "        else:\n",
    "            unique = sorted(all_nodes - results)\n",
    "            results.add(unique.pop())\n",
    "    return results"
   ]
  },
  {
   "cell_type": "code",
   "execution_count": 6,
   "metadata": {
    "collapsed": false
   },
   "outputs": [],
   "source": [
    "# def sample_neighbors(g, gene, num_neighbors, include_self=True):\n",
    "#     results = set([])\n",
    "#     if include_self:\n",
    "#         results = set([gene])\n",
    "#     all_nodes = set(g.nodes)\n",
    "#     first_degree = set(g.neighbors(gene))\n",
    "#     second_degree = set()\n",
    "#     for x in g.neighbors(gene):\n",
    "#         second_degree = second_degree.union(set(g.neighbors(x)))\n",
    "#     while len(results) < num_neighbors:\n",
    "#         if len(first_degree) - len(results) > 0:\n",
    "#             unique = first_degree - results\n",
    "#             results.add(np.random.choice(list(unique)))\n",
    "#         elif len(second_degree) - len(results) > 0:\n",
    "#             unique = second_degree - results\n",
    "#             results.add(np.random.choice(list(unique)))\n",
    "#         else:\n",
    "#             unique = all_nodes - results\n",
    "#             results.add(np.random.choice(list(unique)))\n",
    "#     return results"
   ]
  },
  {
   "cell_type": "code",
   "execution_count": 7,
   "metadata": {
    "collapsed": false
   },
   "outputs": [],
   "source": [
    "#sample_neighbors(g, \"RPL5\", 5, include_self=False)"
   ]
  },
  {
   "cell_type": "code",
   "execution_count": 8,
   "metadata": {
    "collapsed": false
   },
   "outputs": [],
   "source": [
    "import sklearn, sklearn.model_selection, sklearn.metrics, sklearn.linear_model, sklearn.neural_network, sklearn.tree\n",
    "import numpy as np\n",
    "\n",
    "class Method:\n",
    "    def __init__(self):\n",
    "        pass\n",
    "\n",
    "class SkLearn(Method):\n",
    "    \n",
    "    def __init__(self, model, penalty=False):\n",
    "        self.model = model\n",
    "        self.penalty = penalty\n",
    "        \n",
    "    def loop(self, dataset, seed, train_size, test_size, adj=None):\n",
    "        \n",
    "        X_train, X_test, y_train, y_test = sklearn.model_selection.train_test_split(dataset.df, dataset.labels, stratify=dataset.labels, train_size=train_size, test_size=test_size, random_state=seed)\n",
    "\n",
    "        if self.model == \"LR\":\n",
    "            model = sklearn.linear_model.LogisticRegression()\n",
    "            if self.penalty:\n",
    "                model = sklearn.linear_model.LogisticRegression(penalty='l1', tol=0.0001)\n",
    "        elif self.model == \"DT\":\n",
    "            model = sklearn.tree.DecisionTreeClassifier()\n",
    "        elif self.model == \"MLP\":\n",
    "            model = sklearn.neural_network.MLPClassifier(hidden_layer_sizes=(32,3), learning_rate_init=0.001, early_stopping=False,  max_iter=1000)\n",
    "        else:\n",
    "            print \"incorrect label\"\n",
    "        \n",
    "        model = model.fit(X_train, y_train)\n",
    "        return sklearn.metrics.roc_auc_score(y_test, model.predict(X_test))\n",
    "\n",
    "\n",
    "class PyTorch(Method):    \n",
    "    \n",
    "    def __init__(self, model, num_epochs=100, num_channel=64, num_layer=3, add_emb=32, use_gate=False, dropout=True, cuda=True):\n",
    "        self.model = model\n",
    "        self.batch_size = 10\n",
    "        self.num_channel = num_channel\n",
    "        self.num_layer = num_layer\n",
    "        self.add_emb = add_emb\n",
    "        self.use_gate = use_gate\n",
    "        self.dropout = dropout\n",
    "        self.cuda = cuda\n",
    "        self.num_epochs = num_epochs\n",
    "        self.patience = 10\n",
    "        self.attention_head = 0\n",
    "        \n",
    "    def loop(self, dataset, seed, train_size, test_size, adj=None):\n",
    "    \n",
    "        X_train, X_test, y_train, y_test = sklearn.model_selection.train_test_split(dataset.df, dataset.labels, stratify=dataset.labels, train_size=train_size, test_size=test_size, random_state=seed)\n",
    "    \n",
    "        #split train into valid and train\n",
    "        local_X_train, local_X_valid, local_y_train, local_y_valid = sklearn.model_selection.train_test_split(X_train, y_train, stratify=y_train, train_size=0.60, random_state=seed)\n",
    "        local_X_train = torch.FloatTensor(np.expand_dims(local_X_train, axis=2))\n",
    "        local_X_valid = torch.FloatTensor(np.expand_dims(local_X_valid, axis=2))\n",
    "        X_test = torch.FloatTensor(np.expand_dims(X_test, axis=2))\n",
    "        \n",
    "        local_y_train = torch.FloatTensor(local_y_train)\n",
    "\n",
    "        criterion = optimization.get_criterion(dataset)\n",
    "        patience = self.patience\n",
    "        opt.num_layer = self.num_layer\n",
    "        adj_transform, aggregate_function = models.graphLayer.get_transform(opt, adj)\n",
    "        \n",
    "        if self.model == \"CGN\":\n",
    "            model = models.models.CGN(\n",
    "                    nb_nodes=len(dataset.df.columns), \n",
    "                    input_dim=1,\n",
    "                    channels=[self.num_channel] * self.num_layer,\n",
    "                    adj=adj,\n",
    "                    out_dim=2,\n",
    "                    on_cuda=self.cuda,\n",
    "                    add_emb=self.add_emb,\n",
    "                    transform_adj=adj_transform,\n",
    "                    aggregate_adj=aggregate_function,\n",
    "                    use_gate=self.use_gate,\n",
    "                    dropout=self.dropout,\n",
    "                    attention_head=self.attention_head\n",
    "                    )\n",
    "        elif self.model == \"MLP\":\n",
    "            model = models.models.MLP(\n",
    "                    len(dataset.df.columns), \n",
    "                    channels=[self.num_channel] * self.num_layer, \n",
    "                    out_dim=2, \n",
    "                    on_cuda=self.cuda, \n",
    "                    dropout=self.dropout)\n",
    "        elif self.model == \"SLR\":\n",
    "            model = models.models.SparseLogisticRegression(\n",
    "                    nb_nodes=len(dataset.df.columns), \n",
    "                    input_dim=1, \n",
    "                    adj=adj, \n",
    "                    out_dim=2, \n",
    "                    on_cuda=self.cuda)\n",
    "        elif self.model == \"LCG\":\n",
    "            model = models.models.LCG(\n",
    "                    nb_nodes=len(dataset.df.columns), \n",
    "                    input_dim=1, \n",
    "                    channels=[self.num_channel] * self.num_layer,\n",
    "                    adj=adj, \n",
    "                    out_dim=2,\n",
    "                    on_cuda=self.cuda,\n",
    "                    add_emb=self.add_emb,\n",
    "                    transform_adj=adj_transform, \n",
    "                    aggregate_adj=aggregate_function, \n",
    "                    use_gate=self.use_gate,\n",
    "                    dropout=self.dropout,\n",
    "                    attention_head=nb_attention_head, \n",
    "                    training_mode=training_mode)\n",
    "            \n",
    "            \n",
    "            \n",
    "        if self.cuda:\n",
    "            torch.cuda.manual_seed(seed)\n",
    "            torch.cuda.manual_seed_all(seed)\n",
    "            model.cuda()\n",
    "\n",
    "        optimizer = torch.optim.Adam(model.parameters(), lr=0.001, weight_decay=0.0001)\n",
    "        max_valid = 0\n",
    "        max_valid_test = 0\n",
    "        for t in range(0, self.num_epochs):\n",
    "            start_timer = time.time()\n",
    "            \n",
    "            for base_x in range(0,local_X_train.shape[0], self.batch_size):\n",
    "                inputs, labels = local_X_train[base_x:base_x+self.batch_size], local_y_train[base_x:base_x+self.batch_size]\n",
    "\n",
    "                inputs = Variable(inputs, requires_grad=False).float()\n",
    "                if self.cuda:\n",
    "                    inputs = inputs.cuda()\n",
    "                    labels = labels.cuda()\n",
    "\n",
    "                model.train()\n",
    "                y_pred = model(inputs)\n",
    "\n",
    "                # Compute and print loss\n",
    "                crit_loss = optimization.compute_loss(criterion, y_pred, labels)\n",
    "                total_loss = crit_loss\n",
    "\n",
    "                # Zero gradients, perform a backward pass, and update the weights.\n",
    "                optimizer.zero_grad()\n",
    "                crit_loss.backward()\n",
    "                optimizer.step()\n",
    "                model.eval()\n",
    "\n",
    "            auc = {}\n",
    "            res = []\n",
    "            for base_x in range(0,local_X_train.shape[0], self.batch_size):\n",
    "                inputs = Variable(local_X_train[base_x:base_x+self.batch_size], requires_grad=False).float()\n",
    "                res.append(model(inputs.cuda())[:,1].data.cpu().numpy())\n",
    "            auc['train'] = sklearn.metrics.roc_auc_score(local_y_train.numpy(), np.asarray(res).flatten())\n",
    "            \n",
    "            res = []\n",
    "            for base_x in range(0,local_X_valid.shape[0], self.batch_size):\n",
    "                inputs = Variable(local_X_valid[base_x:base_x+self.batch_size], requires_grad=False).float()\n",
    "                res.append(model(inputs.cuda())[:,1].data.cpu().numpy())\n",
    "            auc['valid'] = sklearn.metrics.roc_auc_score(local_y_valid, np.asarray(res).flatten())\n",
    "            \n",
    "            res = []\n",
    "            for base_x in range(0,X_test.shape[0], self.batch_size):\n",
    "                inputs = Variable(X_test[base_x:base_x+self.batch_size], requires_grad=False).float()\n",
    "                res.append(model(inputs.cuda())[:,1].data.cpu().numpy())\n",
    "            auc['test'] = sklearn.metrics.roc_auc_score(y_test, np.asarray(res).flatten())\n",
    "            \n",
    "            \n",
    "            time_this_epoch = time.time() - start_timer\n",
    "\n",
    "#eval on cpu\n",
    "#             auc['train'] = sklearn.metrics.roc_auc_score(local_y_train.numpy(), model(Variable(local_X_train.cpu(), requires_grad=False).float())[:,1].cpu().data.numpy())\n",
    "#             auc['valid'] = sklearn.metrics.roc_auc_score(local_y_valid, model(Variable(local_X_valid.cpu(), requires_grad=False).float())[:,1].cpu().data.numpy())\n",
    "#             auc['test'] = sklearn.metrics.roc_auc_score(y_test, model(Variable(X_test.cpu(), requires_grad=False).float())[:,1].cpu().data.numpy())\n",
    "            \n",
    "            summary = [ t, crit_loss.data[0], auc['train'], auc['valid'], time_this_epoch ]\n",
    "            summary = \"epoch {}, cross_loss: {:.03f}, auc_train: {:0.3f}, auc_valid:{:0.3f}, time: {:.02f} sec\".format(*summary)\n",
    "            print summary\n",
    "\n",
    "            patience = patience - 1\n",
    "            if patience == 0:\n",
    "                return max_valid_test\n",
    "                break\n",
    "            if (max_valid < auc['valid']) and t > 5:\n",
    "                max_valid = auc['valid']\n",
    "                max_valid_test = auc['test']\n",
    "                patience = self.patience"
   ]
  },
  {
   "cell_type": "code",
   "execution_count": 9,
   "metadata": {
    "collapsed": false
   },
   "outputs": [],
   "source": [
    "#             model = models.models.MLP(\n",
    "#                     20, \n",
    "#                     channels=[32] * 1,\n",
    "#                     out_dim=2, \n",
    "#                     on_cuda=True, \n",
    "#                     dropout=False)"
   ]
  },
  {
   "cell_type": "code",
   "execution_count": 10,
   "metadata": {
    "collapsed": false
   },
   "outputs": [],
   "source": [
    "# adj_transform, aggregate_function = models.graphLayer.get_transform(opt, nx.to_numpy_matrix(g))\n",
    "# model = models.models.CGN(\n",
    "#                     nb_nodes=len(tcgatissue.df.columns), \n",
    "#                     input_dim=1,\n",
    "#                     channels=[32] * 3,\n",
    "#                     adj=nx.to_numpy_matrix(g),\n",
    "#                     out_dim=2,\n",
    "#                     on_cuda=True,\n",
    "#                     add_emb=False,\n",
    "#                 transform_adj=adj_transform,\n",
    "#                     aggregate_adj=aggregate_function,\n",
    "#                     )"
   ]
  },
  {
   "cell_type": "code",
   "execution_count": 11,
   "metadata": {
    "collapsed": false
   },
   "outputs": [],
   "source": [
    "# tcgatissue.data[:10,:20].shape"
   ]
  },
  {
   "cell_type": "code",
   "execution_count": 12,
   "metadata": {
    "collapsed": false
   },
   "outputs": [],
   "source": [
    "# torch.FloatTensor(tcgatissue.data[:10,:20])[0].view(1,-1)"
   ]
  },
  {
   "cell_type": "code",
   "execution_count": 13,
   "metadata": {
    "collapsed": false
   },
   "outputs": [],
   "source": [
    "# res = [model(Variable(x.view(1,1,-1), requires_grad=False)).cpu().data.numpy()[0][1] for x in torch.FloatTensor(tcgatissue.data[:10,:20])]\n"
   ]
  },
  {
   "cell_type": "code",
   "execution_count": 14,
   "metadata": {
    "collapsed": false
   },
   "outputs": [],
   "source": [
    "# res"
   ]
  },
  {
   "cell_type": "code",
   "execution_count": 15,
   "metadata": {
    "collapsed": false
   },
   "outputs": [],
   "source": [
    "#model(Variable(tcgatissue.data, requires_grad=False).float())"
   ]
  },
  {
   "cell_type": "code",
   "execution_count": 16,
   "metadata": {
    "collapsed": false
   },
   "outputs": [],
   "source": [
    "#             model = models.models.CGN(\n",
    "#                     nb_nodes=len(tcgatissue.df.columns), \n",
    "#                     input_dim=1,\n",
    "#                     channels=[32] * 3,\n",
    "#                     adj=nx.to_numpy_matrix(g),\n",
    "#                     out_dim=2,\n",
    "#                     on_cuda=True,\n",
    "#                     add_emb=False,\n",
    "#                 transform_adj=None,\n",
    "#                     aggregate_adj=None,\n",
    "#                     )\n",
    "# model(Variable(local_X_train, requires_grad=False).float())"
   ]
  },
  {
   "cell_type": "code",
   "execution_count": null,
   "metadata": {
    "collapsed": true
   },
   "outputs": [],
   "source": []
  },
  {
   "cell_type": "code",
   "execution_count": 17,
   "metadata": {
    "collapsed": false
   },
   "outputs": [],
   "source": [
    "def method_comparison(results, dataset, models, gene, search_num_genes, trials, search_train_size, test_size):\n",
    "    \n",
    "    dataset = data.gene_datasets.TCGATissue()\n",
    "    dataset.df = dataset.df - dataset.df.mean()\n",
    "    \n",
    "    mean = dataset.df[gene].mean()\n",
    "    dataset.labels = [1 if x > mean else 0 for x in dataset.df[gene]]\n",
    "    full_df = dataset.df.copy(deep=True)\n",
    "    \n",
    "    #print \"Max ex \", int(np.log2(max_genes))+1\n",
    "    for train_size in search_train_size:\n",
    "        for ex in search_num_genes:#[16,24,32,48,64,128,256]:#range(4, int(np.log2(max_genes))+1):\n",
    "\n",
    "            num_genes = ex\n",
    "            num_genes = np.min([num_genes, tcgatissue.df.shape[1]])\n",
    "            print ex, num_genes\n",
    "\n",
    "            neighbors = sample_neighbors(g, gene, num_genes, include_self=True)\n",
    "            print \"neighbors\", len(neighbors)\n",
    "\n",
    "#             if gene in neighbors:\n",
    "#                 neighbors.remove(gene)\n",
    "\n",
    "            dataset.df = dataset.df[list(neighbors)]\n",
    "            dataset.df[gene] = 1\n",
    "            dataset.data = dataset.df.as_matrix()\n",
    "            \n",
    "            neighborhood = np.asarray(nx.to_numpy_matrix(nx.Graph(g.subgraph(neighbors))))\n",
    "            for model in models:\n",
    "                for seed in range(trials):\n",
    "\n",
    "                    #have we already done it?\n",
    "                    already_done = results[\"df\"][(results[\"df\"].gene_name == gene) & \n",
    "                                                 (results[\"df\"].model == model['key']) &\n",
    "                                                 (results[\"df\"].num_genes == num_genes) &\n",
    "                                                 (results[\"df\"].seed == seed) &\n",
    "                                                 (results[\"df\"].train_size == train_size)].shape[0] > 0\n",
    "\n",
    "                    if already_done:\n",
    "                        print \"already done:\", model['key'], num_genes, seed\n",
    "                        continue\n",
    "                    print \"doing:\", model['key'], num_genes, seed\n",
    "\n",
    "                    result = model['method'].loop(dataset=dataset, seed=seed, train_size=train_size, test_size=test_size, adj=neighborhood)\n",
    "\n",
    "                    experiment = {\"gene_name\": gene,\n",
    "                            \"model\": model['key'],\n",
    "                            \"num_genes\": num_genes, \n",
    "                            \"seed\":seed,\n",
    "                            \"train_size\": train_size,\n",
    "                            \"auc\":result\n",
    "                            }\n",
    "\n",
    "                    results[\"df\"] = results[\"df\"].append(experiment, ignore_index=True)\n",
    "                    pickle.dump(results, open(\"results-temp.pkl\", \"wb\"))\n",
    "            dataset.df = full_df\n",
    "    "
   ]
  },
  {
   "cell_type": "code",
   "execution_count": 18,
   "metadata": {
    "collapsed": false,
    "scrolled": true
   },
   "outputs": [],
   "source": [
    "import pickle\n",
    "\n",
    "m = [\n",
    "#    {'key': 'LR-L1', 'method': SkLearn(\"LR\", penalty=True)},\n",
    "#    {'key': 'MLP', 'method': mlp},\n",
    "#    {'key': 'DT', 'method': SkLearn(\"DT\")},\n",
    "#    {'key': 'new_CGN_3_layer_64_channel_emb_32_dropout', 'method': PyTorch(\"CGN\")},\n",
    " {'key': 'wRPL5_CGN_3_layer_64_channel_emb_32_dropout', 'method': PyTorch(\"CGN\")},\n",
    " #{'key': 'wRPL5_CGN_1_layer_32_channel_emb_32_dropout', 'method': PyTorch(\"CGN\", num_layer=1, num_channel=32)},\n",
    "    {'key': 'MLP-dropout', 'method': PyTorch(\"MLP\", dropout=True)},\n",
    "    {'key': 'MLP', 'method': PyTorch(\"MLP\", dropout=False)},\n",
    "    \n",
    "    \n",
    "#{'key': 'SLR', 'method': PyTorch(\"SLR\")},\n",
    "#   {'key': 'MLP', 'method': PyTorch(\"MLP\", dropout=False)},\n",
    "    ]\n",
    "\n"
   ]
  },
  {
   "cell_type": "code",
   "execution_count": null,
   "metadata": {
    "collapsed": false
   },
   "outputs": [],
   "source": []
  },
  {
   "cell_type": "code",
   "execution_count": 19,
   "metadata": {
    "collapsed": false
   },
   "outputs": [],
   "source": [
    "#results = {\"df\": pd.DataFrame(columns=['auc','gene_name', 'model', 'num_genes', 'seed', 'train_size'])}"
   ]
  },
  {
   "cell_type": "code",
   "execution_count": 20,
   "metadata": {
    "collapsed": true
   },
   "outputs": [],
   "source": [
    "results = pickle.load(open(\"results-temp.pkl\", \"r\"))"
   ]
  },
  {
   "cell_type": "code",
   "execution_count": null,
   "metadata": {
    "collapsed": false,
    "scrolled": false
   },
   "outputs": [
    {
     "name": "stdout",
     "output_type": "stream",
     "text": [
      "Converting one-hot labels to integers\n",
      "500 500\n",
      "neighbors 500\n",
      "doing: wRPL5_CGN_3_layer_64_channel_emb_32_dropout 500 0\n"
     ]
    },
    {
     "name": "stderr",
     "output_type": "stream",
     "text": [
      "/u/cohenjos/.local/lib/python2.7/site-packages/sklearn/model_selection/_split.py:2026: FutureWarning: From version 0.21, test_size will always complement train_size unless both are specified.\n",
      "  FutureWarning)\n"
     ]
    },
    {
     "name": "stdout",
     "output_type": "stream",
     "text": [
      "Doing drop-out\n",
      "epoch 0, cross_loss: 1.390, auc_train: 0.914, auc_valid:0.647, time: 4.57 sec\n",
      "epoch 1, cross_loss: 0.614, auc_train: 0.909, auc_valid:0.680, time: 0.41 sec\n",
      "epoch 2, cross_loss: 0.741, auc_train: 0.939, auc_valid:0.647, time: 0.41 sec\n",
      "epoch 3, cross_loss: 0.763, auc_train: 0.943, auc_valid:0.620, time: 0.39 sec\n",
      "epoch 4, cross_loss: 0.657, auc_train: 0.947, auc_valid:0.637, time: 0.39 sec\n",
      "epoch 5, cross_loss: 0.626, auc_train: 0.953, auc_valid:0.665, time: 0.39 sec\n",
      "epoch 6, cross_loss: 0.620, auc_train: 0.958, auc_valid:0.703, time: 0.39 sec\n",
      "epoch 7, cross_loss: 0.463, auc_train: 0.964, auc_valid:0.715, time: 0.39 sec\n",
      "epoch 8, cross_loss: 0.364, auc_train: 0.967, auc_valid:0.733, time: 0.39 sec\n",
      "epoch 9, cross_loss: 0.267, auc_train: 0.969, auc_valid:0.772, time: 0.40 sec\n",
      "epoch 10, cross_loss: 0.299, auc_train: 0.980, auc_valid:0.785, time: 0.40 sec\n",
      "epoch 11, cross_loss: 0.133, auc_train: 0.987, auc_valid:0.805, time: 0.39 sec\n",
      "epoch 12, cross_loss: 0.159, auc_train: 0.992, auc_valid:0.815, time: 0.39 sec\n",
      "epoch 13, cross_loss: 0.148, auc_train: 1.000, auc_valid:0.828, time: 0.40 sec\n",
      "epoch 14, cross_loss: 0.185, auc_train: 1.000, auc_valid:0.832, time: 0.40 sec\n",
      "epoch 15, cross_loss: 0.052, auc_train: 1.000, auc_valid:0.825, time: 0.40 sec\n",
      "epoch 16, cross_loss: 0.005, auc_train: 1.000, auc_valid:0.830, time: 0.40 sec\n",
      "epoch 17, cross_loss: 0.068, auc_train: 1.000, auc_valid:0.823, time: 0.39 sec\n",
      "epoch 18, cross_loss: 0.012, auc_train: 1.000, auc_valid:0.805, time: 0.39 sec\n",
      "epoch 19, cross_loss: 0.078, auc_train: 1.000, auc_valid:0.815, time: 0.40 sec\n",
      "epoch 20, cross_loss: 0.008, auc_train: 1.000, auc_valid:0.830, time: 0.40 sec\n",
      "epoch 21, cross_loss: 0.173, auc_train: 1.000, auc_valid:0.845, time: 0.40 sec\n",
      "epoch 22, cross_loss: 0.024, auc_train: 1.000, auc_valid:0.853, time: 0.39 sec\n",
      "epoch 23, cross_loss: 0.063, auc_train: 1.000, auc_valid:0.865, time: 0.39 sec\n",
      "epoch 24, cross_loss: 0.033, auc_train: 1.000, auc_valid:0.860, time: 0.39 sec\n",
      "epoch 25, cross_loss: 0.008, auc_train: 1.000, auc_valid:0.855, time: 0.40 sec\n",
      "epoch 26, cross_loss: 0.079, auc_train: 1.000, auc_valid:0.845, time: 0.39 sec\n",
      "epoch 27, cross_loss: 0.004, auc_train: 1.000, auc_valid:0.850, time: 0.39 sec\n",
      "epoch 28, cross_loss: 0.001, auc_train: 1.000, auc_valid:0.867, time: 0.40 sec\n",
      "epoch 29, cross_loss: 0.008, auc_train: 1.000, auc_valid:0.860, time: 0.40 sec\n",
      "epoch 30, cross_loss: 0.008, auc_train: 1.000, auc_valid:0.857, time: 0.40 sec\n",
      "epoch 31, cross_loss: 0.019, auc_train: 1.000, auc_valid:0.857, time: 0.39 sec\n",
      "epoch 32, cross_loss: 0.049, auc_train: 1.000, auc_valid:0.862, time: 0.40 sec\n",
      "epoch 33, cross_loss: 0.029, auc_train: 1.000, auc_valid:0.860, time: 0.40 sec\n",
      "epoch 34, cross_loss: 0.006, auc_train: 1.000, auc_valid:0.860, time: 0.40 sec\n",
      "epoch 35, cross_loss: 0.001, auc_train: 1.000, auc_valid:0.855, time: 0.40 sec\n",
      "epoch 36, cross_loss: 0.006, auc_train: 1.000, auc_valid:0.850, time: 0.40 sec\n",
      "epoch 37, cross_loss: 0.001, auc_train: 1.000, auc_valid:0.853, time: 0.39 sec\n",
      "epoch 38, cross_loss: 0.007, auc_train: 1.000, auc_valid:0.850, time: 0.39 sec\n",
      "doing: wRPL5_CGN_3_layer_64_channel_emb_32_dropout 500 1\n",
      "Doing drop-out\n",
      "epoch 0, cross_loss: 0.607, auc_train: 0.970, auc_valid:0.823, time: 0.41 sec\n",
      "epoch 1, cross_loss: 0.832, auc_train: 0.956, auc_valid:0.818, time: 0.39 sec\n",
      "epoch 2, cross_loss: 0.625, auc_train: 0.947, auc_valid:0.802, time: 0.39 sec\n",
      "epoch 3, cross_loss: 0.626, auc_train: 0.941, auc_valid:0.777, time: 0.39 sec\n",
      "epoch 4, cross_loss: 0.635, auc_train: 0.941, auc_valid:0.800, time: 0.40 sec\n",
      "epoch 5, cross_loss: 0.537, auc_train: 0.945, auc_valid:0.798, time: 0.40 sec\n",
      "epoch 6, cross_loss: 0.459, auc_train: 0.954, auc_valid:0.827, time: 0.40 sec\n",
      "epoch 7, cross_loss: 0.386, auc_train: 0.963, auc_valid:0.852, time: 0.40 sec\n",
      "epoch 8, cross_loss: 0.383, auc_train: 0.974, auc_valid:0.873, time: 0.40 sec\n",
      "epoch 9, cross_loss: 0.310, auc_train: 0.983, auc_valid:0.885, time: 0.40 sec\n",
      "epoch 10, cross_loss: 0.428, auc_train: 0.990, auc_valid:0.890, time: 0.40 sec\n",
      "epoch 11, cross_loss: 0.321, auc_train: 0.997, auc_valid:0.890, time: 0.40 sec\n",
      "epoch 12, cross_loss: 0.140, auc_train: 0.999, auc_valid:0.880, time: 0.40 sec\n",
      "epoch 13, cross_loss: 0.147, auc_train: 1.000, auc_valid:0.885, time: 0.40 sec\n",
      "epoch 14, cross_loss: 0.226, auc_train: 1.000, auc_valid:0.885, time: 0.39 sec\n",
      "epoch 15, cross_loss: 0.174, auc_train: 1.000, auc_valid:0.883, time: 0.40 sec\n",
      "epoch 16, cross_loss: 0.151, auc_train: 1.000, auc_valid:0.883, time: 0.40 sec\n",
      "epoch 17, cross_loss: 0.095, auc_train: 1.000, auc_valid:0.885, time: 0.40 sec\n",
      "epoch 18, cross_loss: 0.053, auc_train: 1.000, auc_valid:0.882, time: 0.40 sec\n",
      "epoch 19, cross_loss: 0.034, auc_train: 1.000, auc_valid:0.895, time: 0.40 sec\n",
      "epoch 20, cross_loss: 0.111, auc_train: 1.000, auc_valid:0.895, time: 0.40 sec\n",
      "epoch 21, cross_loss: 0.049, auc_train: 1.000, auc_valid:0.887, time: 0.39 sec\n",
      "epoch 22, cross_loss: 0.027, auc_train: 1.000, auc_valid:0.885, time: 0.39 sec\n",
      "epoch 23, cross_loss: 0.038, auc_train: 1.000, auc_valid:0.892, time: 0.39 sec\n",
      "epoch 24, cross_loss: 0.020, auc_train: 1.000, auc_valid:0.887, time: 0.40 sec\n",
      "epoch 25, cross_loss: 0.067, auc_train: 1.000, auc_valid:0.890, time: 0.40 sec\n",
      "epoch 26, cross_loss: 0.004, auc_train: 1.000, auc_valid:0.893, time: 0.39 sec\n",
      "epoch 27, cross_loss: 0.008, auc_train: 1.000, auc_valid:0.893, time: 0.39 sec\n",
      "epoch 28, cross_loss: 0.061, auc_train: 1.000, auc_valid:0.890, time: 0.39 sec\n",
      "epoch 29, cross_loss: 0.077, auc_train: 1.000, auc_valid:0.882, time: 0.39 sec\n",
      "already done: MLP-dropout 500 0\n",
      "already done: MLP-dropout 500 1\n",
      "already done: MLP 500 0\n",
      "already done: MLP 500 1\n",
      "500 500\n",
      "neighbors 500\n"
     ]
    },
    {
     "name": "stderr",
     "output_type": "stream",
     "text": [
      "/part/01/Tmp/lisa/os_v5/anaconda/lib/python2.7/site-packages/ipykernel/__main__.py:25: SettingWithCopyWarning: \n",
      "A value is trying to be set on a copy of a slice from a DataFrame.\n",
      "Try using .loc[row_indexer,col_indexer] = value instead\n",
      "\n",
      "See the caveats in the documentation: http://pandas.pydata.org/pandas-docs/stable/indexing.html#indexing-view-versus-copy\n"
     ]
    },
    {
     "name": "stdout",
     "output_type": "stream",
     "text": [
      "doing: wRPL5_CGN_3_layer_64_channel_emb_32_dropout 500 0\n",
      "Doing drop-out\n",
      "epoch 0, cross_loss: 0.718, auc_train: 0.942, auc_valid:0.904, time: 0.78 sec\n",
      "epoch 1, cross_loss: 0.369, auc_train: 0.949, auc_valid:0.906, time: 0.77 sec\n",
      "epoch 2, cross_loss: 0.396, auc_train: 0.967, auc_valid:0.920, time: 0.77 sec\n",
      "epoch 3, cross_loss: 0.202, auc_train: 0.978, auc_valid:0.927, time: 0.78 sec\n",
      "epoch 4, cross_loss: 0.137, auc_train: 0.985, auc_valid:0.931, time: 0.77 sec\n",
      "epoch 5, cross_loss: 0.169, auc_train: 0.992, auc_valid:0.941, time: 0.79 sec\n",
      "epoch 6, cross_loss: 0.140, auc_train: 0.996, auc_valid:0.945, time: 0.78 sec\n",
      "epoch 7, cross_loss: 0.073, auc_train: 0.998, auc_valid:0.942, time: 0.79 sec\n",
      "epoch 8, cross_loss: 0.192, auc_train: 0.999, auc_valid:0.944, time: 0.79 sec\n",
      "epoch 9, cross_loss: 0.039, auc_train: 0.999, auc_valid:0.944, time: 0.79 sec\n",
      "epoch 10, cross_loss: 0.023, auc_train: 0.999, auc_valid:0.953, time: 0.78 sec\n",
      "epoch 11, cross_loss: 0.133, auc_train: 1.000, auc_valid:0.955, time: 0.78 sec\n",
      "epoch 12, cross_loss: 0.009, auc_train: 1.000, auc_valid:0.952, time: 0.78 sec\n",
      "epoch 13, cross_loss: 0.060, auc_train: 1.000, auc_valid:0.949, time: 0.78 sec\n",
      "epoch 14, cross_loss: 0.088, auc_train: 1.000, auc_valid:0.952, time: 0.78 sec\n",
      "epoch 15, cross_loss: 0.034, auc_train: 1.000, auc_valid:0.951, time: 0.79 sec\n",
      "epoch 16, cross_loss: 0.035, auc_train: 1.000, auc_valid:0.949, time: 0.78 sec\n",
      "epoch 17, cross_loss: 0.025, auc_train: 1.000, auc_valid:0.947, time: 0.77 sec\n",
      "epoch 18, cross_loss: 0.079, auc_train: 1.000, auc_valid:0.954, time: 0.78 sec\n",
      "epoch 19, cross_loss: 0.091, auc_train: 1.000, auc_valid:0.950, time: 0.77 sec\n",
      "epoch 20, cross_loss: 0.065, auc_train: 1.000, auc_valid:0.945, time: 0.79 sec\n",
      "epoch 21, cross_loss: 0.019, auc_train: 1.000, auc_valid:0.947, time: 0.79 sec\n",
      "doing: wRPL5_CGN_3_layer_64_channel_emb_32_dropout 500 1\n",
      "Doing drop-out\n",
      "epoch 0, cross_loss: 0.745, auc_train: 0.956, auc_valid:0.885, time: 0.78 sec\n",
      "epoch 1, cross_loss: 0.590, auc_train: 0.966, auc_valid:0.896, time: 0.78 sec\n",
      "epoch 2, cross_loss: 0.448, auc_train: 0.975, auc_valid:0.909, time: 0.78 sec\n",
      "epoch 3, cross_loss: 0.288, auc_train: 0.985, auc_valid:0.913, time: 0.78 sec\n",
      "epoch 4, cross_loss: 0.290, auc_train: 0.990, auc_valid:0.916, time: 0.78 sec\n",
      "epoch 5, cross_loss: 0.345, auc_train: 0.994, auc_valid:0.918, time: 0.77 sec\n",
      "epoch 6, cross_loss: 0.076, auc_train: 0.996, auc_valid:0.917, time: 0.77 sec\n",
      "epoch 7, cross_loss: 0.114, auc_train: 0.997, auc_valid:0.924, time: 0.77 sec\n",
      "epoch 8, cross_loss: 0.088, auc_train: 0.998, auc_valid:0.922, time: 0.78 sec\n",
      "epoch 9, cross_loss: 0.343, auc_train: 0.998, auc_valid:0.918, time: 0.78 sec\n",
      "epoch 10, cross_loss: 0.191, auc_train: 0.999, auc_valid:0.914, time: 0.78 sec\n",
      "epoch 11, cross_loss: 0.110, auc_train: 0.999, auc_valid:0.916, time: 0.79 sec\n",
      "epoch 12, cross_loss: 0.297, auc_train: 1.000, auc_valid:0.915, time: 0.78 sec\n",
      "epoch 13, cross_loss: 0.031, auc_train: 1.000, auc_valid:0.908, time: 0.78 sec\n",
      "epoch 14, cross_loss: 0.203, auc_train: 1.000, auc_valid:0.917, time: 0.77 sec\n",
      "epoch 15, cross_loss: 0.020, auc_train: 1.000, auc_valid:0.918, time: 0.77 sec\n",
      "epoch 16, cross_loss: 0.079, auc_train: 1.000, auc_valid:0.917, time: 0.78 sec\n",
      "epoch 17, cross_loss: 0.119, auc_train: 1.000, auc_valid:0.913, time: 0.77 sec\n",
      "already done: MLP-dropout 500 0\n",
      "already done: MLP-dropout 500 1\n",
      "already done: MLP 500 0\n",
      "already done: MLP 500 1\n",
      "500 500\n",
      "neighbors 500\n",
      "doing: wRPL5_CGN_3_layer_64_channel_emb_32_dropout 500 0\n",
      "Doing drop-out\n",
      "epoch 0, cross_loss: 0.636, auc_train: 0.927, auc_valid:0.898, time: 1.28 sec\n",
      "epoch 1, cross_loss: 0.560, auc_train: 0.957, auc_valid:0.937, time: 1.27 sec\n",
      "epoch 2, cross_loss: 0.320, auc_train: 0.974, auc_valid:0.948, time: 1.28 sec\n",
      "epoch 3, cross_loss: 0.301, auc_train: 0.983, auc_valid:0.952, time: 1.28 sec\n",
      "epoch 4, cross_loss: 0.447, auc_train: 0.986, auc_valid:0.955, time: 1.27 sec\n",
      "epoch 5, cross_loss: 0.198, auc_train: 0.989, auc_valid:0.956, time: 1.26 sec\n",
      "epoch 6, cross_loss: 0.195, auc_train: 0.991, auc_valid:0.958, time: 1.27 sec\n",
      "epoch 7, cross_loss: 0.180, auc_train: 0.993, auc_valid:0.959, time: 1.26 sec\n",
      "epoch 8, cross_loss: 0.090, auc_train: 0.995, auc_valid:0.959, time: 1.27 sec\n",
      "epoch 9, cross_loss: 0.188, auc_train: 0.994, auc_valid:0.960, time: 1.28 sec\n",
      "epoch 10, cross_loss: 0.458, auc_train: 0.996, auc_valid:0.962, time: 1.26 sec\n",
      "epoch 11, cross_loss: 0.187, auc_train: 0.996, auc_valid:0.963, time: 1.27 sec\n",
      "epoch 12, cross_loss: 0.238, auc_train: 0.997, auc_valid:0.962, time: 1.26 sec\n",
      "epoch 13, cross_loss: 0.101, auc_train: 0.998, auc_valid:0.959, time: 1.27 sec\n",
      "epoch 14, cross_loss: 0.328, auc_train: 0.998, auc_valid:0.961, time: 1.26 sec\n",
      "epoch 15, cross_loss: 0.114, auc_train: 0.998, auc_valid:0.960, time: 1.28 sec\n",
      "epoch 16, cross_loss: 0.148, auc_train: 0.998, auc_valid:0.959, time: 1.27 sec\n",
      "epoch 17, cross_loss: 0.099, auc_train: 0.999, auc_valid:0.956, time: 1.29 sec\n",
      "epoch 18, cross_loss: 0.149, auc_train: 0.999, auc_valid:0.961, time: 1.26 sec\n",
      "epoch 19, cross_loss: 0.516, auc_train: 0.999, auc_valid:0.959, time: 1.26 sec\n",
      "epoch 20, cross_loss: 0.179, auc_train: 0.999, auc_valid:0.959, time: 1.25 sec\n",
      "epoch 21, cross_loss: 0.126, auc_train: 0.998, auc_valid:0.959, time: 1.25 sec\n",
      "doing: wRPL5_CGN_3_layer_64_channel_emb_32_dropout 500 1\n",
      "Doing drop-out\n",
      "epoch 0, cross_loss: 0.326, auc_train: 0.931, auc_valid:0.927, time: 1.26 sec\n"
     ]
    }
   ],
   "source": [
    "#s100a8\n",
    "a = method_comparison(results, tcgatissue, m, gene=\"RPL5\", search_num_genes=[500], trials=2, search_train_size=[100,500,1000], test_size=1000)\n"
   ]
  },
  {
   "cell_type": "code",
   "execution_count": null,
   "metadata": {
    "collapsed": false
   },
   "outputs": [],
   "source": []
  },
  {
   "cell_type": "code",
   "execution_count": 65,
   "metadata": {
    "collapsed": false
   },
   "outputs": [
    {
     "data": {
      "text/plain": [
       "NodeView(('YWHAZ', 'XPO1', 'VASN', 'RPL5', 'ZNF707', 'VAPA', 'VHL', 'XRN1', 'UPF2', 'VCAM1'))"
      ]
     },
     "execution_count": 65,
     "metadata": {},
     "output_type": "execute_result"
    }
   ],
   "source": [
    "a.nodes()"
   ]
  },
  {
   "cell_type": "code",
   "execution_count": 66,
   "metadata": {
    "collapsed": false
   },
   "outputs": [
    {
     "data": {
      "image/png": "[encoded data removed]",
      "text/plain": [
       "<matplotlib.figure.Figure at 0x7fd1558db450>"
      ]
     },
     "metadata": {},
     "output_type": "display_data"
    }
   ],
   "source": [
    "plt.rcParams['figure.figsize'] = (10, 10)\n",
    "\n",
    "pos = nx.circular_layout(a)\n",
    "nx.draw_networkx(a,pos,with_labels=True, width=2)"
   ]
  },
  {
   "cell_type": "code",
   "execution_count": null,
   "metadata": {
    "collapsed": true
   },
   "outputs": [],
   "source": []
  },
  {
   "cell_type": "code",
   "execution_count": null,
   "metadata": {
    "collapsed": true
   },
   "outputs": [],
   "source": []
  },
  {
   "cell_type": "code",
   "execution_count": null,
   "metadata": {
    "collapsed": false
   },
   "outputs": [],
   "source": []
  },
  {
   "cell_type": "code",
   "execution_count": null,
   "metadata": {
    "collapsed": false
   },
   "outputs": [],
   "source": []
  },
  {
   "cell_type": "code",
   "execution_count": null,
   "metadata": {
    "collapsed": false
   },
   "outputs": [],
   "source": []
  },
  {
   "cell_type": "code",
   "execution_count": null,
   "metadata": {
    "collapsed": false
   },
   "outputs": [],
   "source": []
  },
  {
   "cell_type": "code",
   "execution_count": 35,
   "metadata": {
    "collapsed": false
   },
   "outputs": [],
   "source": [
    "import pickle\n",
    "#pickle.dump(results, open(\"results2.pkl\", \"wb\"))"
   ]
  },
  {
   "cell_type": "code",
   "execution_count": 31,
   "metadata": {
    "collapsed": false
   },
   "outputs": [],
   "source": [
    "#results = pickle.load(open(\"results.pkl\", \"r\"))"
   ]
  },
  {
   "cell_type": "code",
   "execution_count": null,
   "metadata": {
    "collapsed": false
   },
   "outputs": [],
   "source": []
  },
  {
   "cell_type": "code",
   "execution_count": 84,
   "metadata": {
    "collapsed": false,
    "scrolled": true
   },
   "outputs": [],
   "source": [
    "#results[\"df\"] = results[\"df\"].drop(results[\"df\"][results[\"df\"].model == \"new_CGN_3_layer_64_channel_emb_32_dropout\"].index)"
   ]
  },
  {
   "cell_type": "code",
   "execution_count": 106,
   "metadata": {
    "collapsed": false,
    "scrolled": false
   },
   "outputs": [
    {
     "data": {
      "text/html": [
       "<div>\n",
       "<style scoped>\n",
       "    .dataframe tbody tr th:only-of-type {\n",
       "        vertical-align: middle;\n",
       "    }\n",
       "\n",
       "    .dataframe tbody tr th {\n",
       "        vertical-align: top;\n",
       "    }\n",
       "\n",
       "    .dataframe thead th {\n",
       "        text-align: right;\n",
       "    }\n",
       "</style>\n",
       "<table border=\"1\" class=\"dataframe\">\n",
       "  <thead>\n",
       "    <tr style=\"text-align: right;\">\n",
       "      <th></th>\n",
       "      <th></th>\n",
       "      <th></th>\n",
       "      <th></th>\n",
       "      <th>mean</th>\n",
       "      <th>std</th>\n",
       "      <th>count</th>\n",
       "    </tr>\n",
       "    <tr>\n",
       "      <th>gene_name</th>\n",
       "      <th>model</th>\n",
       "      <th>train_size</th>\n",
       "      <th>num_genes</th>\n",
       "      <th></th>\n",
       "      <th></th>\n",
       "      <th></th>\n",
       "    </tr>\n",
       "  </thead>\n",
       "  <tbody>\n",
       "    <tr>\n",
       "      <th rowspan=\"6\" valign=\"top\">RPL5</th>\n",
       "      <th rowspan=\"3\" valign=\"top\">MLP-dropout</th>\n",
       "      <th rowspan=\"3\" valign=\"top\">1000</th>\n",
       "      <th>100</th>\n",
       "      <td>0.945758</td>\n",
       "      <td>0.000996</td>\n",
       "      <td>2</td>\n",
       "    </tr>\n",
       "    <tr>\n",
       "      <th>500</th>\n",
       "      <td>0.952866</td>\n",
       "      <td>0.000003</td>\n",
       "      <td>2</td>\n",
       "    </tr>\n",
       "    <tr>\n",
       "      <th>2000</th>\n",
       "      <td>0.950865</td>\n",
       "      <td>0.006917</td>\n",
       "      <td>2</td>\n",
       "    </tr>\n",
       "    <tr>\n",
       "      <th rowspan=\"3\" valign=\"top\">wRPL5_CGN_3_layer_64_channel_emb_32_dropout</th>\n",
       "      <th rowspan=\"3\" valign=\"top\">1000</th>\n",
       "      <th>100</th>\n",
       "      <td>0.950997</td>\n",
       "      <td>0.000495</td>\n",
       "      <td>2</td>\n",
       "    </tr>\n",
       "    <tr>\n",
       "      <th>500</th>\n",
       "      <td>0.959570</td>\n",
       "      <td>0.001913</td>\n",
       "      <td>2</td>\n",
       "    </tr>\n",
       "    <tr>\n",
       "      <th>2000</th>\n",
       "      <td>0.956203</td>\n",
       "      <td>0.002883</td>\n",
       "      <td>2</td>\n",
       "    </tr>\n",
       "  </tbody>\n",
       "</table>\n",
       "</div>"
      ],
      "text/plain": [
       "                                                                                mean  \\\n",
       "gene_name model                                       train_size num_genes             \n",
       "RPL5      MLP-dropout                                 1000       100        0.945758   \n",
       "                                                                 500        0.952866   \n",
       "                                                                 2000       0.950865   \n",
       "          wRPL5_CGN_3_layer_64_channel_emb_32_dropout 1000       100        0.950997   \n",
       "                                                                 500        0.959570   \n",
       "                                                                 2000       0.956203   \n",
       "\n",
       "                                                                                 std  \\\n",
       "gene_name model                                       train_size num_genes             \n",
       "RPL5      MLP-dropout                                 1000       100        0.000996   \n",
       "                                                                 500        0.000003   \n",
       "                                                                 2000       0.006917   \n",
       "          wRPL5_CGN_3_layer_64_channel_emb_32_dropout 1000       100        0.000495   \n",
       "                                                                 500        0.001913   \n",
       "                                                                 2000       0.002883   \n",
       "\n",
       "                                                                            count  \n",
       "gene_name model                                       train_size num_genes         \n",
       "RPL5      MLP-dropout                                 1000       100            2  \n",
       "                                                                 500            2  \n",
       "                                                                 2000           2  \n",
       "          wRPL5_CGN_3_layer_64_channel_emb_32_dropout 1000       100            2  \n",
       "                                                                 500            2  \n",
       "                                                                 2000           2  "
      ]
     },
     "execution_count": 106,
     "metadata": {},
     "output_type": "execute_result"
    }
   ],
   "source": [
    "grouped = results[\"df\"].groupby(['gene_name', 'model','train_size','num_genes'])['auc'].agg(['mean','std', 'count'])\n",
    "grouped"
   ]
  },
  {
   "cell_type": "code",
   "execution_count": 279,
   "metadata": {
    "collapsed": false
   },
   "outputs": [],
   "source": [
    "#results[\"df\"].groupby(['gene_name', 'model','num_genes'])['auc'].mean().groupby([\"model\"]).plot(legend=True, sharex=True);"
   ]
  },
  {
   "cell_type": "code",
   "execution_count": null,
   "metadata": {
    "collapsed": false
   },
   "outputs": [],
   "source": []
  },
  {
   "cell_type": "code",
   "execution_count": 24,
   "metadata": {
    "collapsed": false,
    "scrolled": true
   },
   "outputs": [
    {
     "data": {
      "text/html": [
       "<div>\n",
       "<style scoped>\n",
       "    .dataframe tbody tr th:only-of-type {\n",
       "        vertical-align: middle;\n",
       "    }\n",
       "\n",
       "    .dataframe tbody tr th {\n",
       "        vertical-align: top;\n",
       "    }\n",
       "\n",
       "    .dataframe thead tr th {\n",
       "        text-align: left;\n",
       "    }\n",
       "\n",
       "    .dataframe thead tr:last-of-type th {\n",
       "        text-align: right;\n",
       "    }\n",
       "</style>\n",
       "<table border=\"1\" class=\"dataframe\">\n",
       "  <thead>\n",
       "    <tr>\n",
       "      <th></th>\n",
       "      <th></th>\n",
       "      <th colspan=\"3\" halign=\"left\">auc</th>\n",
       "    </tr>\n",
       "    <tr>\n",
       "      <th></th>\n",
       "      <th></th>\n",
       "      <th>mean</th>\n",
       "      <th>std</th>\n",
       "      <th>count</th>\n",
       "    </tr>\n",
       "    <tr>\n",
       "      <th>model</th>\n",
       "      <th>train_size</th>\n",
       "      <th></th>\n",
       "      <th></th>\n",
       "      <th></th>\n",
       "    </tr>\n",
       "  </thead>\n",
       "  <tbody>\n",
       "  </tbody>\n",
       "</table>\n",
       "</div>"
      ],
      "text/plain": [
       "Empty DataFrame\n",
       "Columns: [(auc, mean), (auc, std), (auc, count)]\n",
       "Index: []"
      ]
     },
     "execution_count": 24,
     "metadata": {},
     "output_type": "execute_result"
    }
   ],
   "source": [
    "results[\"df\"][results[\"df\"].num_genes==200].groupby(['model','train_size']).agg(['mean','std', 'count'])"
   ]
  },
  {
   "cell_type": "code",
   "execution_count": null,
   "metadata": {
    "collapsed": false
   },
   "outputs": [],
   "source": []
  },
  {
   "cell_type": "code",
   "execution_count": 98,
   "metadata": {
    "collapsed": false
   },
   "outputs": [
    {
     "data": {
      "image/png": "[encoded data removed]",
      "text/plain": [
       "<matplotlib.figure.Figure at 0x7fd14433d3d0>"
      ]
     },
     "metadata": {},
     "output_type": "display_data"
    }
   ],
   "source": [
    "%matplotlib inline\n",
    "for model in results[\"df\"][\"model\"].unique():\n",
    "    q = results[\"df\"][results[\"df\"].num_genes==100].groupby(['model','train_size'])['auc']\n",
    "    index = q.mean()[model].index\n",
    "    mean = q.mean()[model]\n",
    "    stderr = q.std()[model]/np.sqrt(q.count()[model])\n",
    "    plt.errorbar(index, mean,label=model, xerr=0, yerr=stderr)\n",
    "\n",
    "plt.title(\"Gene Inference with varying numbers of nodes\")\n",
    "plt.ylabel(\"AUC\")\n",
    "plt.xlabel(\"train_size\")\n",
    "#plt.xscale(\"log\")\n",
    "plt.xticks(index)\n",
    "formatter = matplotlib.ticker.ScalarFormatter()\n",
    "plt.gca().xaxis.set_major_formatter(formatter)\n",
    "plt.legend();"
   ]
  },
  {
   "cell_type": "code",
   "execution_count": null,
   "metadata": {
    "collapsed": true
   },
   "outputs": [],
   "source": []
  },
  {
   "cell_type": "code",
   "execution_count": 120,
   "metadata": {
    "collapsed": false
   },
   "outputs": [
    {
     "data": {
      "image/png": "[encoded data removed]",
      "text/plain": [
       "<matplotlib.figure.Figure at 0x7fd15235f290>"
      ]
     },
     "metadata": {},
     "output_type": "display_data"
    }
   ],
   "source": [
    "%matplotlib inline\n",
    "for model in results[\"df\"][\"model\"].unique():\n",
    "    q = results[\"df\"][results[\"df\"].train_size==500].groupby(['model','num_genes'])['auc']\n",
    "    index = q.mean()[model].index\n",
    "    mean = q.mean()[model]\n",
    "    stderr = q.std()[model]/np.sqrt(q.count()[model])\n",
    "    plt.errorbar(index, mean,label=model, xerr=0, yerr=stderr)\n",
    "\n",
    "plt.title(\"Gene Inference with varying numbers of nodes\")\n",
    "plt.ylabel(\"AUC\")\n",
    "plt.xlabel(\"number of nodes\")\n",
    "plt.xscale(\"log\")\n",
    "plt.xticks(sorted(results[\"df\"][\"num_genes\"].unique()))\n",
    "formatter = matplotlib.ticker.ScalarFormatter()\n",
    "plt.gca().xaxis.set_major_formatter(formatter)\n",
    "plt.legend();"
   ]
  },
  {
   "cell_type": "code",
   "execution_count": null,
   "metadata": {
    "collapsed": true
   },
   "outputs": [],
   "source": []
  },
  {
   "cell_type": "code",
   "execution_count": null,
   "metadata": {
    "collapsed": true
   },
   "outputs": [],
   "source": []
  },
  {
   "cell_type": "code",
   "execution_count": null,
   "metadata": {
    "collapsed": true
   },
   "outputs": [],
   "source": []
  },
  {
   "cell_type": "code",
   "execution_count": null,
   "metadata": {
    "collapsed": true
   },
   "outputs": [],
   "source": []
  },
  {
   "cell_type": "code",
   "execution_count": null,
   "metadata": {
    "collapsed": true
   },
   "outputs": [],
   "source": []
  },
  {
   "cell_type": "code",
   "execution_count": null,
   "metadata": {
    "collapsed": true
   },
   "outputs": [],
   "source": []
  },
  {
   "cell_type": "code",
   "execution_count": null,
   "metadata": {
    "collapsed": true
   },
   "outputs": [],
   "source": []
  },
  {
   "cell_type": "code",
   "execution_count": null,
   "metadata": {
    "collapsed": true
   },
   "outputs": [],
   "source": []
  },
  {
   "cell_type": "code",
   "execution_count": null,
   "metadata": {
    "collapsed": true
   },
   "outputs": [],
   "source": []
  },
  {
   "cell_type": "code",
   "execution_count": null,
   "metadata": {
    "collapsed": true
   },
   "outputs": [],
   "source": []
  },
  {
   "cell_type": "code",
   "execution_count": 29,
   "metadata": {
    "collapsed": false
   },
   "outputs": [
    {
     "data": {
      "image/png": "[encoded data removed]",
      "text/plain": [
       "<matplotlib.figure.Figure at 0x7ff76ebf4110>"
      ]
     },
     "metadata": {},
     "output_type": "display_data"
    }
   ],
   "source": [
    "%matplotlib inline\n",
    "for model in results[\"df\"][\"model\"].unique():\n",
    "    index = results[\"df\"].groupby(['model','num_genes'])['auc'].mean()[model].index\n",
    "    mean = results[\"df\"].groupby(['model','num_genes'])['auc'].mean()[model]\n",
    "    stderr = results[\"df\"].groupby(['model','num_genes'])['auc'].std()[model]\n",
    "    plt.errorbar(index, mean,label=model, xerr=0, yerr=stderr)\n",
    "\n",
    "plt.title(\"Gene Inference with varying numbers of nodes\")\n",
    "plt.ylabel(\"AUC\")\n",
    "plt.xlabel(\"number of nodes\")\n",
    "plt.xscale(\"log\")\n",
    "plt.xticks(sorted(results[\"df\"][\"num_genes\"].unique()))\n",
    "formatter = matplotlib.ticker.ScalarFormatter()\n",
    "plt.gca().xaxis.set_major_formatter(formatter)\n",
    "plt.legend();"
   ]
  },
  {
   "cell_type": "code",
   "execution_count": null,
   "metadata": {
    "collapsed": true
   },
   "outputs": [],
   "source": []
  },
  {
   "cell_type": "code",
   "execution_count": null,
   "metadata": {
    "collapsed": true
   },
   "outputs": [],
   "source": []
  },
  {
   "cell_type": "code",
   "execution_count": null,
   "metadata": {
    "collapsed": true
   },
   "outputs": [],
   "source": []
  },
  {
   "cell_type": "code",
   "execution_count": null,
   "metadata": {
    "collapsed": false
   },
   "outputs": [],
   "source": []
  },
  {
   "cell_type": "code",
   "execution_count": null,
   "metadata": {
    "collapsed": true
   },
   "outputs": [],
   "source": []
  },
  {
   "cell_type": "code",
   "execution_count": null,
   "metadata": {
    "collapsed": true
   },
   "outputs": [],
   "source": []
  },
  {
   "cell_type": "code",
   "execution_count": null,
   "metadata": {
    "collapsed": true
   },
   "outputs": [],
   "source": []
  },
  {
   "cell_type": "code",
   "execution_count": null,
   "metadata": {
    "collapsed": true
   },
   "outputs": [],
   "source": []
  },
  {
   "cell_type": "code",
   "execution_count": null,
   "metadata": {
    "collapsed": true
   },
   "outputs": [],
   "source": []
  },
  {
   "cell_type": "code",
   "execution_count": null,
   "metadata": {
    "collapsed": true
   },
   "outputs": [],
   "source": []
  },
  {
   "cell_type": "code",
   "execution_count": null,
   "metadata": {
    "collapsed": false,
    "scrolled": false
   },
   "outputs": [],
   "source": [
    "#results_df = pd.DataFrame(columns=['model', 'num_genes', 'gene_name', 'auc', 'std'])\n",
    "#results_df = results_df.append(data=pd.DataFrame(pd.DataFrame(data={'model':\"LR\", 'num_genes': 10.0, 'gene_name': \"RPL5\", 'auc':0.57, 'std': 0.01}, index=[0]))\n",
    "len([\"LR\", \"MLP\", \"Decision Tree\", \"CGN_3_layer_64_channel_emb_32_dropout\", \"LR\", \"MLP\", \"Decision Tree\", \"CGN_3_layer_64_channel_emb_32_dropout\", \"LR\", \"MLP\", \"Decision Tree\", \"CGN_3_layer_64_channel_emb_32_dropout\", \"LR\", \"MLP\", \"Decision Tree\", \"CGN_3_layer_64_channel_emb_32_dropout\", \"LR\", \"MLP\", \"Decision Tree\", \"CGN_3_layer_64_channel_emb_32_dropout\", \"LR\", \"MLP\", \"Decision Tree\", \"CGN_3_layer_64_channel_emb_32_dropout\"])\n",
    "len([10.0, 10.0, 10.0, 10.0, 510.0, 510.0, 510.0, 510.0, 1010.0, 1010.0, 1010.0, 1010.0, 1510.0, 1510.0, 1510.0, 1510.0, 2010.0, 2010.0, 2010.0, 2010.0, 2510.0, 2510.0, 2510.0, 2510.0, 3010.0, 3010.0, 3010.0, 3010.0])\n",
    "len([0.57, 0.56, 0.55, 0.64, 0.81, 0.83, .79, .94, .81, .80, .78, .94, .80, .74, .77, .93, .78, .79, .78, .92, .77, .77, .76, .92, .76, .71, .76, .92])\n",
    "len([0.01, 0.04, 0.03, 0.01, 0.02, 0.01, 0.03, 0.00, 0.01, 0.03, 0.02, 0.01, 0.03, 0.12, 0.02, 0.00, 0.03, 0.02, 0.03, 0.01, 0.02, 0.05, 0.04, 0.01, 0.02 ,0.11, 0.02, 0.00])\n",
    "results_df = pd.DataFrame(data={'model':[\"LR\", \"MLP\", \"Decision Tree\", \"CGN_3_layer_64_channel_emb_32_dropout\", \"LR\", \"MLP\", \"Decision Tree\", \"CGN_3_layer_64_channel_emb_32_dropout\", \"LR\", \"MLP\", \"Decision Tree\", \"CGN_3_layer_64_channel_emb_32_dropout\", \"LR\", \"MLP\", \"Decision Tree\", \"CGN_3_layer_64_channel_emb_32_dropout\", \"LR\", \"MLP\", \"Decision Tree\", \"CGN_3_layer_64_channel_emb_32_dropout\", \"LR\", \"MLP\", \"Decision Tree\", \"CGN_3_layer_64_channel_emb_32_dropout\", \"LR\", \"MLP\", \"Decision Tree\", \"CGN_3_layer_64_channel_emb_32_dropout\"],\n",
    "                   'num_genes': [10.0, 10.0, 10.0, 10.0, 510.0, 510.0, 510.0, 510.0, 1010.0, 1010.0, 1010.0, 1010.0, 1510.0, 1510.0, 1510.0, 1510.0, 2010.0, 2010.0, 2010.0, 2010.0, 2510.0, 2510.0, 2510.0, 2510.0, 3010.0, 3010.0, 3010.0, 3010.0],\n",
    "#                  'gene_name': [\"RPL5\", \"RPL5\"],\n",
    "                   'auc': [0.57, 0.56, 0.55, 0.64, 0.81, 0.83, .79, .94, .81, .80, .78, .94, .80, .74, .77, .93, .78, .79, .78, .92, .77, .77, .76, .92, .76, .71, .76, .92],\n",
    "                   'std': [0.01, 0.04, 0.03, 0.01, 0.02, 0.01, 0.03, 0.00, 0.01, 0.03, 0.02, 0.01, 0.03, 0.12, 0.02, 0.00, 0.03, 0.02, 0.03, 0.01, 0.02, 0.05, 0.04, 0.01, 0.02 ,0.11, 0.02, 0.00]}, index=range(0, 28))\n",
    "plt.figure()\n",
    "titles = []\n",
    "for model in [\n",
    "    {'key': 'LR', 'method': lr},\n",
    "    {'key': 'MLP', 'method': mlp},\n",
    "    {'key': 'Decision Tree', 'method': decision_tree},\n",
    "    {'key': 'CGN_3_layer_64_channel_emb_32_dropout', 'method': cgn_loop, 'num_channel': 64, 'num_layer': 3, 'add_emb': 32, 'use_gate': False, 'dropout': True, 'cuda': True},\n",
    "    ]:\n",
    "    temp_results = results_df.loc[results_df['model'] == model['key']].reset_index(drop=True)\n",
    "    lines.append(plt.errorbar(temp_results.index, temp_results['auc'], xerr=0, yerr=temp_results['std'])[0])\n",
    "    titles.append(model['key'])\n",
    "    plt.xticks(list(temp_results.index), temp_results['num_genes'], rotation=70)\n",
    "width = 0.2\n",
    "plt.title(\"Inferring the value of RPL5 with varying numbers of genes\")\n",
    "plt.ylabel(\"AUC\")\n",
    "plt.xlabel(\"# genes\")\n",
    "plt.legend(lines, titles, bbox_to_anchor=(1.05, 1), loc=2, borderaxespad=0., fontsize=10)\n"
   ]
  },
  {
   "cell_type": "code",
   "execution_count": null,
   "metadata": {
    "collapsed": true
   },
   "outputs": [],
   "source": []
  },
  {
   "cell_type": "code",
   "execution_count": null,
   "metadata": {
    "collapsed": true
   },
   "outputs": [],
   "source": []
  },
  {
   "cell_type": "code",
   "execution_count": null,
   "metadata": {
    "collapsed": true
   },
   "outputs": [],
   "source": [
    "# results of adding Nodes\n",
    "plt.figure()\n",
    "\n",
    "#full_results.loc[full_results['samples'] == 100]\n",
    "\n",
    "line1 = plt.errorbar(lr_results.index, lr_results['auc'], xerr=0, yerr=lr_results['std'])\n",
    "line2 = plt.errorbar(cgn_results.index, cgn_results['auc'], xerr=0, yerr=cgn_results['std'])\n",
    "\n",
    "width = 0.2\n",
    "plt.xticks(list(lr_results.iloc[::5, :].index), lr_results.iloc[::5, :]['num_genes'], rotation=70)\n",
    "plt.title(\"Gene Inference with varying numbers of nodes\")\n",
    "plt.ylabel(\"AUC\")\n",
    "plt.xlabel(\"number of nodes\")\n",
    "plt.legend((line1[0], line2[0]), ('LR', \"CGN\"), bbox_to_anchor=(1.05, 1), loc=2, borderaxespad=0., fontsize=10)"
   ]
  },
  {
   "cell_type": "code",
   "execution_count": null,
   "metadata": {
    "collapsed": true
   },
   "outputs": [],
   "source": [
    "# Predict a gene from a growing number of Nodes\n",
    "lr_results = pd.DataFrame([])\n",
    "mlp_results = pd.DataFrame([])\n",
    "cgn_results = pd.DataFrame([])\n",
    "gene = \"RPL5\"\n",
    "max_samples = 200\n",
    "reload(data)\n",
    "reload(models)\n",
    "tcgatissue = data.gene_datasets.TCGATissue(data_dir='./genomics/TCGA/', data_file='TCGA_tissue_ppi.hdf5')\n",
    "\n",
    "for num_samples in range(10, max_samples, 20):\n",
    "    lr_row = infer_gene(lr, tcgatissue, \"RPL5\", train_size=num_samples, test_size=200, trials=3, penalty=True)\n",
    "    lr_results = lr_results.append(lr_row).reset_index(drop=True)\n",
    "    lr_results.loc[lr_results.index[-1], 'num_samples'] = num_samples\n",
    "    cgn_row = infer_gene(cgn, tcgatissue, \"RPL5\", train_size=num_samples, test_size=200, trials=3, penalty=True)\n",
    "    cgn_results = cgn_results.append(cgn_row).reset_index(drop=True)\n",
    "    cgn_results.loc[lr_results.index[-1], 'num_samples'] = num_samples\n",
    "    print num_genes\n",
    "    print cgn_results\n",
    "    print lr_results"
   ]
  },
  {
   "cell_type": "code",
   "execution_count": null,
   "metadata": {
    "collapsed": true
   },
   "outputs": [],
   "source": [
    "# results of adding Nodes\n",
    "plt.figure()\n",
    "\n",
    "#full_results.loc[full_results['samples'] == 100]\n",
    "\n",
    "line1 = plt.errorbar(lr_results.index, lr_results['auc'], xerr=0, yerr=lr_results['std'])\n",
    "line2 = plt.errorbar(cgn_results.index, cgn_results['auc'], xerr=0, yerr=cgn_results['std'])\n",
    "\n",
    "width = 0.2\n",
    "plt.xticks(list(lr_results.iloc[::5, :].index), lr_results.iloc[::5, :]['num_samples'], rotation=70)\n",
    "plt.title(\"Gene Inference with varying numbers of samples\")\n",
    "plt.ylabel(\"AUC\")\n",
    "plt.xlabel(\"number of samples\")\n",
    "plt.legend((line1[0], line2[0]), ('LR', \"CGN\"), bbox_to_anchor=(1.05, 1), loc=2, borderaxespad=0., fontsize=10)"
   ]
  },
  {
   "cell_type": "code",
   "execution_count": null,
   "metadata": {
    "collapsed": true
   },
   "outputs": [],
   "source": []
  },
  {
   "cell_type": "code",
   "execution_count": null,
   "metadata": {
    "collapsed": true
   },
   "outputs": [],
   "source": []
  },
  {
   "cell_type": "code",
   "execution_count": null,
   "metadata": {
    "collapsed": true
   },
   "outputs": [],
   "source": []
  }
 ],
 "metadata": {
  "kernelspec": {
   "display_name": "Python 2",
   "language": "python",
   "name": "python2"
  },
  "language_info": {
   "codemirror_mode": {
    "name": "ipython",
    "version": 2
   },
   "file_extension": ".py",
   "mimetype": "text/x-python",
   "name": "python",
   "nbconvert_exporter": "python",
   "pygments_lexer": "ipython2",
   "version": "2.7.13"
  }
 },
 "nbformat": 4,
 "nbformat_minor": 2
}
