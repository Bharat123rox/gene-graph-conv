{
 "cells": [
  {
   "cell_type": "code",
   "execution_count": 3,
   "metadata": {
    "collapsed": true
   },
   "outputs": [],
   "source": [
    "import argparse\n",
    "import torch\n",
    "import torch.nn as nn\n",
    "import torch.nn.functional as F\n",
    "import torch.optim as optim\n",
    "from torchvision import datasets, transforms\n",
    "from torch.autograd import Variable\n",
    "import numpy as np"
   ]
  },
  {
   "cell_type": "code",
   "execution_count": null,
   "metadata": {
    "collapsed": true
   },
   "outputs": [],
   "source": []
  },
  {
   "cell_type": "code",
   "execution_count": 54,
   "metadata": {
    "collapsed": true
   },
   "outputs": [],
   "source": [
    "nb_nodes = 5\n",
    "nb_edges = 3"
   ]
  },
  {
   "cell_type": "code",
   "execution_count": null,
   "metadata": {
    "collapsed": true
   },
   "outputs": [],
   "source": []
  },
  {
   "cell_type": "code",
   "execution_count": 65,
   "metadata": {
    "collapsed": false
   },
   "outputs": [
    {
     "data": {
      "text/plain": [
       "array([ 0.,  1.])"
      ]
     },
     "execution_count": 65,
     "metadata": {},
     "output_type": "execute_result"
    }
   ],
   "source": [
    "def gt_fn(x, nb_nodes):\n",
    "    x = x.reshape(-1,nb_nodes)\n",
    "    return (np.max(x[:,[0,1]], axis=1) > ((x[:,2]) + x[:,3]/2.0))*1.0\n",
    "gt_fn(np.random.rand(2,1,nb_nodes), nb_nodes)"
   ]
  },
  {
   "cell_type": "code",
   "execution_count": null,
   "metadata": {
    "collapsed": false
   },
   "outputs": [],
   "source": []
  },
  {
   "cell_type": "code",
   "execution_count": null,
   "metadata": {
    "collapsed": false
   },
   "outputs": [],
   "source": []
  },
  {
   "cell_type": "code",
   "execution_count": 66,
   "metadata": {
    "collapsed": false
   },
   "outputs": [],
   "source": [
    "X_train = np.random.rand(1000,nb_nodes)*10\n",
    "y_train = gt_fn(X_train, nb_nodes)\n",
    "\n",
    "X_test = np.random.rand(1000,nb_nodes)*10\n",
    "y_test = gt_fn(X_test, nb_nodes)"
   ]
  },
  {
   "cell_type": "code",
   "execution_count": null,
   "metadata": {
    "collapsed": false
   },
   "outputs": [],
   "source": []
  },
  {
   "cell_type": "code",
   "execution_count": 69,
   "metadata": {
    "collapsed": false
   },
   "outputs": [
    {
     "data": {
      "text/plain": [
       "(array([[ 7.72451533,  7.91903082,  9.22116484,  0.15166088,  1.94498966],\n",
       "        [ 8.7556352 ,  5.01779175,  9.57385972,  1.09987627,  1.40066659],\n",
       "        [ 8.98780765,  8.75884816,  2.74960823,  7.68339889,  0.88637747],\n",
       "        [ 1.86853918,  7.14388589,  0.14656092,  9.97961843,  2.96131355]]),\n",
       " array([[ 0.],\n",
       "        [ 0.],\n",
       "        [ 1.],\n",
       "        [ 1.]]))"
      ]
     },
     "execution_count": 69,
     "metadata": {},
     "output_type": "execute_result"
    }
   ],
   "source": [
    "import sklearn\n",
    "def sample(X_batch, y_batch, size, num_classes):\n",
    "    \n",
    "    X_batch = np.asarray(X_batch)\n",
    "    y_batch = np.asarray(y_batch)\n",
    "    \n",
    "    x_data = []\n",
    "    y_data = []\n",
    "    \n",
    "    for i in range(num_classes):\n",
    "        x_data.append(sklearn.utils.resample(X_batch[np.where(y_batch == i)[0]], n_samples=size))\n",
    "        y_data.append(np.zeros((size, 1))+i)\n",
    "\n",
    "\n",
    "    X_batch = np.concatenate(x_data)\n",
    "    y_batch = np.concatenate(y_data)\n",
    "\n",
    "    todo = range(len(y_batch))\n",
    "    np.random.shuffle(todo)\n",
    "\n",
    "    X_batch = X_batch[todo]\n",
    "    y_batch = y_batch[todo]\n",
    "    \n",
    "    return X_batch, y_batch\n",
    "\n",
    "sample(X_train, y_train, 2,2)"
   ]
  },
  {
   "cell_type": "code",
   "execution_count": null,
   "metadata": {
    "collapsed": true
   },
   "outputs": [],
   "source": []
  },
  {
   "cell_type": "code",
   "execution_count": null,
   "metadata": {
    "collapsed": true
   },
   "outputs": [],
   "source": []
  },
  {
   "cell_type": "code",
   "execution_count": 70,
   "metadata": {
    "collapsed": true
   },
   "outputs": [],
   "source": [
    "# Create a lambda graph with adjancy matrix and stuff.\n",
    "def random_adj(nb_nodes, nb_edges):\n",
    "    # nodes\n",
    "    nodes = np.arange(nb_nodes)\n",
    "\n",
    "    # roughly nb_edges edges\n",
    "    edges = np.array([(i, ((((i + np.random.randint(nb_nodes - 1))  % nb_nodes) + 1 ) % nb_nodes ))\n",
    "                      for i in [np.random.randint(nb_nodes) for i in range(nb_edges)]])\n",
    "\n",
    "    # Adding self loop.\n",
    "    edges = np.concatenate((edges, np.array([(i, i) for i in nodes])))\n",
    "\n",
    "\n",
    "    # adjacent matrix\n",
    "    A = np.zeros((nb_nodes, nb_nodes))\n",
    "    A[edges[:, 0], edges[:, 1]] = 1.\n",
    "    A[edges[:, 1], edges[:, 0]] = 1.\n",
    "\n",
    "    # Degree matrix\n",
    "    D = A.sum(axis=1)\n",
    "    \n",
    "    return A, D\n",
    "\n",
    "A, D = random_adj(nb_nodes, nb_edges)"
   ]
  },
  {
   "cell_type": "code",
   "execution_count": 71,
   "metadata": {
    "collapsed": false
   },
   "outputs": [
    {
     "data": {
      "text/plain": [
       "array([[ 1.,  0.,  0.,  1.,  0.],\n",
       "       [ 0.,  1.,  0.,  0.,  1.],\n",
       "       [ 0.,  0.,  1.,  1.,  0.],\n",
       "       [ 1.,  0.,  1.,  1.,  0.],\n",
       "       [ 0.,  1.,  0.,  0.,  1.]])"
      ]
     },
     "execution_count": 71,
     "metadata": {},
     "output_type": "execute_result"
    }
   ],
   "source": [
    "A"
   ]
  },
  {
   "cell_type": "code",
   "execution_count": null,
   "metadata": {
    "collapsed": false
   },
   "outputs": [],
   "source": []
  },
  {
   "cell_type": "code",
   "execution_count": null,
   "metadata": {
    "collapsed": false
   },
   "outputs": [],
   "source": []
  },
  {
   "cell_type": "code",
   "execution_count": null,
   "metadata": {
    "collapsed": true
   },
   "outputs": [],
   "source": []
  },
  {
   "cell_type": "code",
   "execution_count": null,
   "metadata": {
    "collapsed": true
   },
   "outputs": [],
   "source": []
  },
  {
   "cell_type": "code",
   "execution_count": 72,
   "metadata": {
    "collapsed": true
   },
   "outputs": [],
   "source": [
    "edges_np = np.asarray(np.where(A == 1)).T\n",
    "#edges_np = np.array([(0,3),(3,1),(1,2),(2,3)])\n",
    "#edges_np = np.concatenate([edges_np,edges_np[:,[1,0]]])"
   ]
  },
  {
   "cell_type": "code",
   "execution_count": 73,
   "metadata": {
    "collapsed": false
   },
   "outputs": [
    {
     "data": {
      "text/plain": [
       "array([[0, 0],\n",
       "       [0, 3],\n",
       "       [1, 1],\n",
       "       [1, 4],\n",
       "       [2, 2],\n",
       "       [2, 3],\n",
       "       [3, 0],\n",
       "       [3, 2],\n",
       "       [3, 3],\n",
       "       [4, 1],\n",
       "       [4, 4]])"
      ]
     },
     "execution_count": 73,
     "metadata": {},
     "output_type": "execute_result"
    }
   ],
   "source": [
    "edges_np"
   ]
  },
  {
   "cell_type": "code",
   "execution_count": null,
   "metadata": {
    "collapsed": true
   },
   "outputs": [],
   "source": []
  },
  {
   "cell_type": "code",
   "execution_count": 74,
   "metadata": {
    "collapsed": true
   },
   "outputs": [],
   "source": [
    "edge_selector = np.array([np.where(edges_np[:,0] == i)[0] for i in range(4)])"
   ]
  },
  {
   "cell_type": "code",
   "execution_count": 75,
   "metadata": {
    "collapsed": false
   },
   "outputs": [
    {
     "data": {
      "text/plain": [
       "array([array([0, 1]), array([2, 3]), array([4, 5]), array([6, 7, 8])], dtype=object)"
      ]
     },
     "execution_count": 75,
     "metadata": {},
     "output_type": "execute_result"
    }
   ],
   "source": [
    "edge_selector"
   ]
  },
  {
   "cell_type": "code",
   "execution_count": null,
   "metadata": {
    "collapsed": true
   },
   "outputs": [],
   "source": []
  },
  {
   "cell_type": "code",
   "execution_count": null,
   "metadata": {
    "collapsed": true
   },
   "outputs": [],
   "source": []
  },
  {
   "cell_type": "code",
   "execution_count": 76,
   "metadata": {
    "collapsed": true
   },
   "outputs": [],
   "source": [
    "edges = torch.LongTensor(edges_np)"
   ]
  },
  {
   "cell_type": "code",
   "execution_count": 77,
   "metadata": {
    "collapsed": false
   },
   "outputs": [
    {
     "data": {
      "text/plain": [
       "\n",
       "    0     0\n",
       "    0     3\n",
       "    1     1\n",
       "    1     4\n",
       "    2     2\n",
       "    2     3\n",
       "    3     0\n",
       "    3     2\n",
       "    3     3\n",
       "    4     1\n",
       "    4     4\n",
       "[torch.LongTensor of size 11x2]"
      ]
     },
     "execution_count": 77,
     "metadata": {},
     "output_type": "execute_result"
    }
   ],
   "source": [
    "edges.contiguous()"
   ]
  },
  {
   "cell_type": "code",
   "execution_count": null,
   "metadata": {
    "collapsed": true
   },
   "outputs": [],
   "source": []
  },
  {
   "cell_type": "code",
   "execution_count": 78,
   "metadata": {
    "collapsed": true
   },
   "outputs": [],
   "source": [
    "weights = Variable(torch.rand(edges.shape), requires_grad=True)"
   ]
  },
  {
   "cell_type": "code",
   "execution_count": 79,
   "metadata": {
    "collapsed": false
   },
   "outputs": [
    {
     "data": {
      "text/plain": [
       "Variable containing:\n",
       " 0.3072  0.3498\n",
       " 0.7072  0.4577\n",
       " 0.3898  0.2200\n",
       " 0.4454  0.9831\n",
       " 0.7896  0.1396\n",
       " 0.7992  0.6529\n",
       " 0.8976  0.8330\n",
       " 0.4447  0.5398\n",
       " 0.8860  0.0977\n",
       " 0.9678  0.5982\n",
       " 0.8675  0.2229\n",
       "[torch.FloatTensor of size 11x2]"
      ]
     },
     "execution_count": 79,
     "metadata": {},
     "output_type": "execute_result"
    }
   ],
   "source": [
    "weights"
   ]
  },
  {
   "cell_type": "code",
   "execution_count": null,
   "metadata": {
    "collapsed": true
   },
   "outputs": [],
   "source": []
  },
  {
   "cell_type": "code",
   "execution_count": 80,
   "metadata": {
    "collapsed": false
   },
   "outputs": [
    {
     "data": {
      "text/plain": [
       "\n",
       " 0\n",
       " 0\n",
       " 0\n",
       " 3\n",
       " 1\n",
       " 1\n",
       " 1\n",
       " 4\n",
       " 2\n",
       " 2\n",
       " 2\n",
       " 3\n",
       " 3\n",
       " 0\n",
       " 3\n",
       " 2\n",
       " 3\n",
       " 3\n",
       " 4\n",
       " 1\n",
       " 4\n",
       " 4\n",
       "[torch.LongTensor of size 22]"
      ]
     },
     "execution_count": 80,
     "metadata": {},
     "output_type": "execute_result"
    }
   ],
   "source": [
    "edges.contiguous().view(-1)"
   ]
  },
  {
   "cell_type": "code",
   "execution_count": 239,
   "metadata": {
    "collapsed": false
   },
   "outputs": [
    {
     "data": {
      "text/plain": [
       "Variable containing:\n",
       " 1.6451  0.8749  4.0963  2.2694  8.5953\n",
       " 7.2118  1.5155  5.3553  9.9597  6.6334\n",
       "[torch.FloatTensor of size 2x5]"
      ]
     },
     "execution_count": 239,
     "metadata": {},
     "output_type": "execute_result"
    }
   ],
   "source": [
    "Variable(torch.FloatTensor(X_train[:2]))"
   ]
  },
  {
   "cell_type": "code",
   "execution_count": 243,
   "metadata": {
    "collapsed": false
   },
   "outputs": [
    {
     "data": {
      "text/plain": [
       "Variable containing:\n",
       "(0 ,.,.) = \n",
       "  1.6451  0.8749  4.0963  2.2694  8.5953\n",
       "\n",
       "(1 ,.,.) = \n",
       "  7.2118  1.5155  5.3553  9.9597  6.6334\n",
       "[torch.FloatTensor of size 2x1x5]"
      ]
     },
     "execution_count": 243,
     "metadata": {},
     "output_type": "execute_result"
    }
   ],
   "source": [
    "Variable(torch.FloatTensor(X_train[:2])).view(2,-1,nb_nodes)"
   ]
  },
  {
   "cell_type": "code",
   "execution_count": 244,
   "metadata": {
    "collapsed": false
   },
   "outputs": [
    {
     "data": {
      "text/plain": [
       "Variable containing:\n",
       "(0 ,.,.) = \n",
       "  1.6451  1.6451\n",
       "  1.6451  2.2694\n",
       "  0.8749  0.8749\n",
       "  0.8749  8.5953\n",
       "  4.0963  4.0963\n",
       "  4.0963  2.2694\n",
       "  2.2694  1.6451\n",
       "  2.2694  4.0963\n",
       "  2.2694  2.2694\n",
       "  8.5953  0.8749\n",
       "  8.5953  8.5953\n",
       "\n",
       "(1 ,.,.) = \n",
       "  7.2118  7.2118\n",
       "  7.2118  9.9597\n",
       "  1.5155  1.5155\n",
       "  1.5155  6.6334\n",
       "  5.3553  5.3553\n",
       "  5.3553  9.9597\n",
       "  9.9597  7.2118\n",
       "  9.9597  5.3553\n",
       "  9.9597  9.9597\n",
       "  6.6334  1.5155\n",
       "  6.6334  6.6334\n",
       "[torch.FloatTensor of size 2x11x2]"
      ]
     },
     "execution_count": 244,
     "metadata": {},
     "output_type": "execute_result"
    }
   ],
   "source": [
    "x = Variable(torch.FloatTensor(X_train[:2])).view(2,-1,nb_nodes)\n",
    "x = x[:,0,:]\n",
    "tocompute = torch.index_select(x, 1, Variable(edges.contiguous().view(-1))).view(2,-1,2)\n",
    "tocompute"
   ]
  },
  {
   "cell_type": "code",
   "execution_count": null,
   "metadata": {
    "collapsed": true
   },
   "outputs": [],
   "source": []
  },
  {
   "cell_type": "code",
   "execution_count": 138,
   "metadata": {
    "collapsed": false
   },
   "outputs": [
    {
     "data": {
      "text/plain": [
       "Variable containing:\n",
       " 0.5054  0.5754\n",
       " 1.1634  1.0387\n",
       " 0.3411  0.1924\n",
       " 0.3897  8.4505\n",
       " 3.2343  0.5717\n",
       " 3.2739  1.4816\n",
       " 2.0369  1.3704\n",
       " 1.0091  2.2111\n",
       " 2.0106  0.2217\n",
       " 8.3189  0.5234\n",
       " 7.4566  1.9156\n",
       "[torch.FloatTensor of size 11x2]"
      ]
     },
     "execution_count": 138,
     "metadata": {},
     "output_type": "execute_result"
    }
   ],
   "source": [
    "tocompute*weights"
   ]
  },
  {
   "cell_type": "code",
   "execution_count": null,
   "metadata": {
    "collapsed": false
   },
   "outputs": [],
   "source": []
  },
  {
   "cell_type": "code",
   "execution_count": null,
   "metadata": {
    "collapsed": false
   },
   "outputs": [],
   "source": []
  },
  {
   "cell_type": "code",
   "execution_count": 247,
   "metadata": {
    "collapsed": false
   },
   "outputs": [],
   "source": [
    "class CGN2(nn.Module):\n",
    "    def __init__(self,input_dim, A, channels=1, out_dim=2, on_cuda=False):\n",
    "        super(CGN2, self).__init__()\n",
    "\n",
    "        self.my_layers = []\n",
    "        self.out_dim = out_dim\n",
    "        self.on_cuda = on_cuda\n",
    "        \n",
    "        self.channels = channels\n",
    "        #dims = [input_dim] + channels\n",
    "        \n",
    "        print \"Constructing the network...\"   \n",
    "        \n",
    "        \n",
    "        edges_np = np.asarray(np.where(A == 1)).T\n",
    "        self.edges = torch.LongTensor(edges_np)\n",
    "        \n",
    "        self.weights1 = nn.Parameter(torch.rand(self.edges.shape), requires_grad=True)\n",
    "        print self.weights1.size()\n",
    "\n",
    "        self.last_layer = nn.Linear(input_dim, out_dim)\n",
    "        self.my_layers = nn.ModuleList([self.last_layer])\n",
    "\n",
    "        \n",
    "        \n",
    "        \n",
    "        self.edge_selector = np.array([np.where(edges_np[:,0] == i)[0] for i in range(input_dim)])\n",
    "        print \"edge_selector\", self.edge_selector\n",
    "        \n",
    "        \n",
    "        \n",
    "        \n",
    "        \n",
    "        print \"Done!\"\n",
    "\n",
    "\n",
    "    #print x\n",
    "    def GraphConv(self, x, edges, channel, batch_size, weights):\n",
    "        \n",
    "        x = x.clone()\n",
    "        #x = x.view(batch_size, -1)\n",
    "        x = x[:,channel,:]\n",
    "        tocompute = torch.index_select(x, 1, Variable(edges.contiguous().view(-1))).view(batch_size, -1, 2)\n",
    "        #print tocompute\n",
    "        conv = tocompute*weights\n",
    "        #print conv\n",
    "        for i, edges_to_select in enumerate(self.edge_selector):\n",
    "            #print \"x\", conv\n",
    "            #print \"e\", edges_to_select\n",
    "            selected_edges = torch.index_select(conv, 1, Variable(torch.LongTensor(edges_to_select)))\n",
    "            #print \"m\", selected_edges\n",
    "            selected_edges = selected_edges.view(-1,edges_to_select.shape[0]*2)\n",
    "            #print \"m\", selected_edges\n",
    "            pooled_edges = torch.max(selected_edges,1)[0]\n",
    "            #print \"mmo\",pooled_edges\n",
    "            x[:,i] = pooled_edges\n",
    "            #print \"xx\",x[:,i]\n",
    "        return x\n",
    "\n",
    "        \n",
    "        \n",
    "    def forward(self, x):\n",
    "        nb_examples, nb_nodes, nb_channels = x.size()\n",
    "        \n",
    "        #print x\n",
    "        self.GraphConv(x, self.edges, 0, nb_examples, self.weights1)\n",
    "\n",
    "        x = self.last_layer(x.view(nb_examples, -1))\n",
    "        x = F.softmax(x)\n",
    "\n",
    "        return x"
   ]
  },
  {
   "cell_type": "code",
   "execution_count": 248,
   "metadata": {
    "collapsed": false
   },
   "outputs": [],
   "source": [
    "import models\n",
    "reload(models);"
   ]
  },
  {
   "cell_type": "code",
   "execution_count": 249,
   "metadata": {
    "collapsed": false
   },
   "outputs": [
    {
     "name": "stdout",
     "output_type": "stream",
     "text": [
      "Constructing the network...\n",
      "torch.Size([11, 2])\n",
      "edge_selector [array([0, 1]) array([2, 3]) array([4, 5]) array([6, 7, 8]) array([ 9, 10])]\n",
      "Done!\n"
     ]
    },
    {
     "data": {
      "text/plain": [
       "CGN2 (\n",
       "  (last_layer): Linear (5 -> 2)\n",
       "  (my_layers): ModuleList (\n",
       "    (0): Linear (5 -> 2)\n",
       "  )\n",
       ")"
      ]
     },
     "execution_count": 249,
     "metadata": {},
     "output_type": "execute_result"
    }
   ],
   "source": [
    "gc = CGN2(nb_nodes,A)\n",
    "#gc = models.CGN2(4,edges)\n",
    "#gc = models.MLP(4,[10],2)\n",
    "gc"
   ]
  },
  {
   "cell_type": "code",
   "execution_count": 250,
   "metadata": {
    "collapsed": false
   },
   "outputs": [
    {
     "data": {
      "text/plain": [
       "[Parameter containing:\n",
       "  0.4419  0.0523\n",
       "  0.2943  0.2016\n",
       "  0.1141  0.0607\n",
       "  0.7146  0.6348\n",
       "  0.2847  0.9168\n",
       "  0.0423  0.1458\n",
       "  0.7514  0.1360\n",
       "  0.0250  0.4984\n",
       "  0.9948  0.4843\n",
       "  0.2092  0.7809\n",
       "  0.7862  0.6508\n",
       " [torch.FloatTensor of size 11x2], Parameter containing:\n",
       "  0.1273  0.3478  0.3440  0.2377 -0.3365\n",
       "  0.0495  0.3343  0.4319 -0.4356  0.3580\n",
       " [torch.FloatTensor of size 2x5], Parameter containing:\n",
       " -0.0285\n",
       " -0.1435\n",
       " [torch.FloatTensor of size 2]]"
      ]
     },
     "execution_count": 250,
     "metadata": {},
     "output_type": "execute_result"
    }
   ],
   "source": [
    "list(gc.parameters())"
   ]
  },
  {
   "cell_type": "code",
   "execution_count": 251,
   "metadata": {
    "collapsed": true
   },
   "outputs": [],
   "source": [
    "optimizer = optim.SGD(gc.parameters(), lr = 0.001, momentum=0.9)"
   ]
  },
  {
   "cell_type": "code",
   "execution_count": 252,
   "metadata": {
    "collapsed": false
   },
   "outputs": [],
   "source": [
    "X_batch, y_batch = sample(X_train, y_train, 3,2)"
   ]
  },
  {
   "cell_type": "code",
   "execution_count": 277,
   "metadata": {
    "collapsed": false
   },
   "outputs": [
    {
     "data": {
      "text/plain": [
       "Variable containing:\n",
       "(0 ,.,.) = \n",
       "  4.6067  8.7310  4.3838  5.2321  3.2312\n",
       "\n",
       "(1 ,.,.) = \n",
       "  0.7580  6.3974  0.9436  6.6440  3.5297\n",
       "\n",
       "(2 ,.,.) = \n",
       "  0.7398  7.2101  2.6227  0.4762  3.1642\n",
       "\n",
       "(3 ,.,.) = \n",
       "  0.5058  3.9238  7.0303  6.1787  5.9759\n",
       "\n",
       "(4 ,.,.) = \n",
       "  3.6904  4.6796  2.6793  9.3792  8.1080\n",
       "\n",
       "(5 ,.,.) = \n",
       "  3.6904  4.6796  2.6793  9.3792  8.1080\n",
       "[torch.FloatTensor of size 6x1x5]"
      ]
     },
     "execution_count": 277,
     "metadata": {},
     "output_type": "execute_result"
    }
   ],
   "source": [
    "x = Variable(torch.FloatTensor(X_batch)).view(-1,1,nb_nodes)\n",
    "x"
   ]
  },
  {
   "cell_type": "code",
   "execution_count": 278,
   "metadata": {
    "collapsed": false
   },
   "outputs": [],
   "source": [
    "output = gc(x)[:,1]"
   ]
  },
  {
   "cell_type": "code",
   "execution_count": 279,
   "metadata": {
    "collapsed": false
   },
   "outputs": [
    {
     "data": {
      "text/plain": [
       "Variable containing:\n",
       " 0.1472\n",
       " 0.0791\n",
       " 0.8479\n",
       " 0.5101\n",
       " 0.2033\n",
       " 0.2033\n",
       "[torch.FloatTensor of size 6]"
      ]
     },
     "execution_count": 279,
     "metadata": {},
     "output_type": "execute_result"
    }
   ],
   "source": [
    "output"
   ]
  },
  {
   "cell_type": "code",
   "execution_count": 280,
   "metadata": {
    "collapsed": false
   },
   "outputs": [
    {
     "name": "stdout",
     "output_type": "stream",
     "text": [
      "Variable containing:\n",
      " 0.8528\n",
      " 0.9209\n",
      " 0.1521\n",
      " 0.5101\n",
      " 0.2033\n",
      " 0.2033\n",
      "[torch.FloatTensor of size 6]\n",
      "\n",
      "Variable containing:\n",
      " 0.4737\n",
      "[torch.FloatTensor of size 1]\n",
      "\n"
     ]
    }
   ],
   "source": [
    "gt = Variable(torch.FloatTensor(y_batch), requires_grad=False).view(-1)\n",
    "loss = torch.abs(gt-output)\n",
    "print loss\n",
    "print loss.mean()"
   ]
  },
  {
   "cell_type": "code",
   "execution_count": 281,
   "metadata": {
    "collapsed": false
   },
   "outputs": [],
   "source": [
    "loss.mean().backward()\n",
    "optimizer.step()"
   ]
  },
  {
   "cell_type": "code",
   "execution_count": null,
   "metadata": {
    "collapsed": false
   },
   "outputs": [],
   "source": []
  },
  {
   "cell_type": "code",
   "execution_count": null,
   "metadata": {
    "collapsed": false
   },
   "outputs": [],
   "source": []
  },
  {
   "cell_type": "code",
   "execution_count": 704,
   "metadata": {
    "collapsed": true
   },
   "outputs": [],
   "source": []
  },
  {
   "cell_type": "code",
   "execution_count": 705,
   "metadata": {
    "collapsed": false
   },
   "outputs": [
    {
     "data": {
      "text/plain": [
       "(2, 4)"
      ]
     },
     "execution_count": 705,
     "metadata": {},
     "output_type": "execute_result"
    }
   ],
   "source": [
    "X_batch.shape"
   ]
  },
  {
   "cell_type": "code",
   "execution_count": 706,
   "metadata": {
    "collapsed": false
   },
   "outputs": [
    {
     "ename": "ValueError",
     "evalue": "need more than 2 values to unpack",
     "output_type": "error",
     "traceback": [
      "\u001b[1;31m---------------------------------------------------------------------------\u001b[0m",
      "\u001b[1;31mValueError\u001b[0m                                Traceback (most recent call last)",
      "\u001b[1;32m<ipython-input-706-6cc0eb689700>\u001b[0m in \u001b[0;36m<module>\u001b[1;34m()\u001b[0m\n\u001b[0;32m      1\u001b[0m \u001b[0mx\u001b[0m \u001b[1;33m=\u001b[0m \u001b[0mVariable\u001b[0m\u001b[1;33m(\u001b[0m\u001b[0mtorch\u001b[0m\u001b[1;33m.\u001b[0m\u001b[0mFloatTensor\u001b[0m\u001b[1;33m(\u001b[0m\u001b[0mX_batch\u001b[0m\u001b[1;33m)\u001b[0m\u001b[1;33m)\u001b[0m\u001b[1;33m\u001b[0m\u001b[0m\n\u001b[1;32m----> 2\u001b[1;33m \u001b[0moutput\u001b[0m \u001b[1;33m=\u001b[0m \u001b[0mgc\u001b[0m\u001b[1;33m(\u001b[0m\u001b[0mx\u001b[0m\u001b[1;33m)\u001b[0m\u001b[1;33m\u001b[0m\u001b[0m\n\u001b[0m\u001b[0;32m      3\u001b[0m \u001b[1;31m#gt = Variable(torch.FloatTensor(gt_fn(x.data.numpy()))).view(batch_size,-1)\u001b[0m\u001b[1;33m\u001b[0m\u001b[1;33m\u001b[0m\u001b[0m\n\u001b[0;32m      4\u001b[0m \u001b[1;31m#loss = torch.abs(gt-output)\u001b[0m\u001b[1;33m\u001b[0m\u001b[1;33m\u001b[0m\u001b[0m\n\u001b[0;32m      5\u001b[0m \u001b[1;31m#loss\u001b[0m\u001b[1;33m\u001b[0m\u001b[1;33m\u001b[0m\u001b[0m\n",
      "\u001b[1;32m/u/cohenjos/.local/lib/python2.7/site-packages/torch/nn/modules/module.pyc\u001b[0m in \u001b[0;36m__call__\u001b[1;34m(self, *input, **kwargs)\u001b[0m\n\u001b[0;32m    222\u001b[0m         \u001b[1;32mfor\u001b[0m \u001b[0mhook\u001b[0m \u001b[1;32min\u001b[0m \u001b[0mself\u001b[0m\u001b[1;33m.\u001b[0m\u001b[0m_forward_pre_hooks\u001b[0m\u001b[1;33m.\u001b[0m\u001b[0mvalues\u001b[0m\u001b[1;33m(\u001b[0m\u001b[1;33m)\u001b[0m\u001b[1;33m:\u001b[0m\u001b[1;33m\u001b[0m\u001b[0m\n\u001b[0;32m    223\u001b[0m             \u001b[0mhook\u001b[0m\u001b[1;33m(\u001b[0m\u001b[0mself\u001b[0m\u001b[1;33m,\u001b[0m \u001b[0minput\u001b[0m\u001b[1;33m)\u001b[0m\u001b[1;33m\u001b[0m\u001b[0m\n\u001b[1;32m--> 224\u001b[1;33m         \u001b[0mresult\u001b[0m \u001b[1;33m=\u001b[0m \u001b[0mself\u001b[0m\u001b[1;33m.\u001b[0m\u001b[0mforward\u001b[0m\u001b[1;33m(\u001b[0m\u001b[1;33m*\u001b[0m\u001b[0minput\u001b[0m\u001b[1;33m,\u001b[0m \u001b[1;33m**\u001b[0m\u001b[0mkwargs\u001b[0m\u001b[1;33m)\u001b[0m\u001b[1;33m\u001b[0m\u001b[0m\n\u001b[0m\u001b[0;32m    225\u001b[0m         \u001b[1;32mfor\u001b[0m \u001b[0mhook\u001b[0m \u001b[1;32min\u001b[0m \u001b[0mself\u001b[0m\u001b[1;33m.\u001b[0m\u001b[0m_forward_hooks\u001b[0m\u001b[1;33m.\u001b[0m\u001b[0mvalues\u001b[0m\u001b[1;33m(\u001b[0m\u001b[1;33m)\u001b[0m\u001b[1;33m:\u001b[0m\u001b[1;33m\u001b[0m\u001b[0m\n\u001b[0;32m    226\u001b[0m             \u001b[0mhook_result\u001b[0m \u001b[1;33m=\u001b[0m \u001b[0mhook\u001b[0m\u001b[1;33m(\u001b[0m\u001b[0mself\u001b[0m\u001b[1;33m,\u001b[0m \u001b[0minput\u001b[0m\u001b[1;33m,\u001b[0m \u001b[0mresult\u001b[0m\u001b[1;33m)\u001b[0m\u001b[1;33m\u001b[0m\u001b[0m\n",
      "\u001b[1;32m<ipython-input-694-654a03cff763>\u001b[0m in \u001b[0;36mforward\u001b[1;34m(self, x)\u001b[0m\n\u001b[0;32m     49\u001b[0m \u001b[1;33m\u001b[0m\u001b[0m\n\u001b[0;32m     50\u001b[0m     \u001b[1;32mdef\u001b[0m \u001b[0mforward\u001b[0m\u001b[1;33m(\u001b[0m\u001b[0mself\u001b[0m\u001b[1;33m,\u001b[0m \u001b[0mx\u001b[0m\u001b[1;33m)\u001b[0m\u001b[1;33m:\u001b[0m\u001b[1;33m\u001b[0m\u001b[0m\n\u001b[1;32m---> 51\u001b[1;33m         \u001b[0mnb_examples\u001b[0m\u001b[1;33m,\u001b[0m \u001b[0mnb_nodes\u001b[0m\u001b[1;33m,\u001b[0m \u001b[0mnb_channels\u001b[0m \u001b[1;33m=\u001b[0m \u001b[0mx\u001b[0m\u001b[1;33m.\u001b[0m\u001b[0msize\u001b[0m\u001b[1;33m(\u001b[0m\u001b[1;33m)\u001b[0m\u001b[1;33m\u001b[0m\u001b[0m\n\u001b[0m\u001b[0;32m     52\u001b[0m \u001b[1;33m\u001b[0m\u001b[0m\n\u001b[0;32m     53\u001b[0m         \u001b[0mself\u001b[0m\u001b[1;33m.\u001b[0m\u001b[0mGraphConv\u001b[0m\u001b[1;33m(\u001b[0m\u001b[0mx\u001b[0m\u001b[1;33m,\u001b[0m\u001b[0mself\u001b[0m\u001b[1;33m.\u001b[0m\u001b[0medges\u001b[0m\u001b[1;33m,\u001b[0m \u001b[0mnb_examples\u001b[0m\u001b[1;33m,\u001b[0m \u001b[0mself\u001b[0m\u001b[1;33m.\u001b[0m\u001b[0mweights1\u001b[0m\u001b[1;33m)\u001b[0m\u001b[1;33m\u001b[0m\u001b[0m\n",
      "\u001b[1;31mValueError\u001b[0m: need more than 2 values to unpack"
     ]
    }
   ],
   "source": [
    "x = Variable(torch.FloatTensor(X_batch))\n",
    "output = gc(x)\n",
    "#gt = Variable(torch.FloatTensor(gt_fn(x.data.numpy()))).view(batch_size,-1)\n",
    "#loss = torch.abs(gt-output)\n",
    "#loss"
   ]
  },
  {
   "cell_type": "code",
   "execution_count": 707,
   "metadata": {
    "collapsed": false
   },
   "outputs": [
    {
     "data": {
      "text/plain": [
       "array([[ 1.],\n",
       "       [ 0.]])"
      ]
     },
     "execution_count": 707,
     "metadata": {},
     "output_type": "execute_result"
    }
   ],
   "source": [
    "y_batch"
   ]
  },
  {
   "cell_type": "code",
   "execution_count": null,
   "metadata": {
    "collapsed": false
   },
   "outputs": [],
   "source": []
  },
  {
   "cell_type": "code",
   "execution_count": null,
   "metadata": {
    "collapsed": false,
    "scrolled": false
   },
   "outputs": [],
   "source": []
  },
  {
   "cell_type": "code",
   "execution_count": 57,
   "metadata": {
    "collapsed": false
   },
   "outputs": [
    {
     "name": "stdout",
     "output_type": "stream",
     "text": [
      "Variable containing:\n",
      " 0.1381\n",
      " 0.1273\n",
      "[torch.FloatTensor of size 2]\n",
      "\n"
     ]
    }
   ],
   "source": [
    "torch.manual_seed(0)\n",
    "x = Variable(torch.rand(batch_size,4)*10)\n",
    "output = torch.nn.Sigmoid()(linearLayer(x)).view(-1)\n",
    "loss = torch.abs(Variable(gt_fn(x.data))-output)\n",
    "print  loss"
   ]
  },
  {
   "cell_type": "code",
   "execution_count": 58,
   "metadata": {
    "collapsed": false
   },
   "outputs": [],
   "source": [
    "loss.mean().backward()\n",
    "optimizer.step()"
   ]
  },
  {
   "cell_type": "code",
   "execution_count": null,
   "metadata": {
    "collapsed": true
   },
   "outputs": [],
   "source": []
  },
  {
   "cell_type": "code",
   "execution_count": null,
   "metadata": {
    "collapsed": true
   },
   "outputs": [],
   "source": []
  },
  {
   "cell_type": "code",
   "execution_count": 61,
   "metadata": {
    "collapsed": true
   },
   "outputs": [],
   "source": []
  },
  {
   "cell_type": "code",
   "execution_count": null,
   "metadata": {
    "collapsed": true
   },
   "outputs": [],
   "source": []
  },
  {
   "cell_type": "code",
   "execution_count": null,
   "metadata": {
    "collapsed": false
   },
   "outputs": [],
   "source": []
  },
  {
   "cell_type": "code",
   "execution_count": null,
   "metadata": {
    "collapsed": true
   },
   "outputs": [],
   "source": []
  },
  {
   "cell_type": "code",
   "execution_count": null,
   "metadata": {
    "collapsed": true
   },
   "outputs": [],
   "source": []
  },
  {
   "cell_type": "code",
   "execution_count": null,
   "metadata": {
    "collapsed": true
   },
   "outputs": [],
   "source": []
  },
  {
   "cell_type": "code",
   "execution_count": null,
   "metadata": {
    "collapsed": true
   },
   "outputs": [],
   "source": []
  },
  {
   "cell_type": "code",
   "execution_count": null,
   "metadata": {
    "collapsed": true
   },
   "outputs": [],
   "source": []
  },
  {
   "cell_type": "code",
   "execution_count": null,
   "metadata": {
    "collapsed": true
   },
   "outputs": [],
   "source": []
  },
  {
   "cell_type": "code",
   "execution_count": null,
   "metadata": {
    "collapsed": true
   },
   "outputs": [],
   "source": []
  }
 ],
 "metadata": {
  "kernelspec": {
   "display_name": "Python 2",
   "language": "python",
   "name": "python2"
  },
  "language_info": {
   "codemirror_mode": {
    "name": "ipython",
    "version": 2
   },
   "file_extension": ".py",
   "mimetype": "text/x-python",
   "name": "python",
   "nbconvert_exporter": "python",
   "pygments_lexer": "ipython2",
   "version": "2.7.13"
  }
 },
 "nbformat": 4,
 "nbformat_minor": 2
}
