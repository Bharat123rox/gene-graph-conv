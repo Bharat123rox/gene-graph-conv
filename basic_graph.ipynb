{
 "cells": [
  {
   "cell_type": "code",
   "execution_count": 8,
   "metadata": {
    "collapsed": true
   },
   "outputs": [],
   "source": [
    "import argparse\n",
    "import torch\n",
    "import torch.nn as nn\n",
    "import torch.nn.functional as F\n",
    "import torch.optim as optim\n",
    "from torchvision import datasets, transforms\n",
    "from torch.autograd import Variable\n",
    "import numpy as np"
   ]
  },
  {
   "cell_type": "code",
   "execution_count": null,
   "metadata": {
    "collapsed": true
   },
   "outputs": [],
   "source": []
  },
  {
   "cell_type": "code",
   "execution_count": 545,
   "metadata": {
    "collapsed": true
   },
   "outputs": [],
   "source": [
    "def gt_fn(x):\n",
    "    #print x\n",
    "    x = x.reshape(-1,4)\n",
    "    return (np.max(x[:,[0,1]], axis=1) > ((x[:,2]) + x[:,3]/2.0))*1.0"
   ]
  },
  {
   "cell_type": "code",
   "execution_count": 546,
   "metadata": {
    "collapsed": false
   },
   "outputs": [
    {
     "data": {
      "text/plain": [
       "array([ 1.,  0.])"
      ]
     },
     "execution_count": 546,
     "metadata": {},
     "output_type": "execute_result"
    }
   ],
   "source": [
    "gt_fn(np.random.rand(2,1,4))"
   ]
  },
  {
   "cell_type": "code",
   "execution_count": null,
   "metadata": {
    "collapsed": true
   },
   "outputs": [],
   "source": []
  },
  {
   "cell_type": "code",
   "execution_count": 549,
   "metadata": {
    "collapsed": false
   },
   "outputs": [],
   "source": [
    "X_train = np.random.rand(100000,4)*10\n",
    "y_train = gt_fn(X_train)\n",
    "\n",
    "X_test = np.random.rand(10000,4)*10\n",
    "y_test = gt_fn(X_test)"
   ]
  },
  {
   "cell_type": "code",
   "execution_count": 548,
   "metadata": {
    "collapsed": true
   },
   "outputs": [],
   "source": [
    "import sklearn\n",
    "def sample(X_batch, y_batch, size, num_classes):\n",
    "    \n",
    "    X_batch = np.asarray(X_batch)\n",
    "    y_batch = np.asarray(y_batch)\n",
    "    \n",
    "    x_data = []\n",
    "    y_data = []\n",
    "    \n",
    "    for i in range(num_classes):\n",
    "        x_data.append(sklearn.utils.resample(X_batch[np.where(y_batch == i)[0]], n_samples=size))\n",
    "        y_data.append(np.zeros((size, 1))+i)\n",
    "\n",
    "\n",
    "    X_batch = np.concatenate(x_data)\n",
    "    y_batch = np.concatenate(y_data)\n",
    "\n",
    "    todo = range(len(y_batch))\n",
    "    np.random.shuffle(todo)\n",
    "\n",
    "    X_batch = X_batch[todo]\n",
    "    y_batch = y_batch[todo]\n",
    "    \n",
    "    return X_batch, y_batch\n",
    "\n",
    "#sample(X_train, y_train, 10,2)"
   ]
  },
  {
   "cell_type": "code",
   "execution_count": null,
   "metadata": {
    "collapsed": true
   },
   "outputs": [],
   "source": []
  },
  {
   "cell_type": "code",
   "execution_count": null,
   "metadata": {
    "collapsed": true
   },
   "outputs": [],
   "source": []
  },
  {
   "cell_type": "code",
   "execution_count": null,
   "metadata": {
    "collapsed": true
   },
   "outputs": [],
   "source": []
  },
  {
   "cell_type": "code",
   "execution_count": 114,
   "metadata": {
    "collapsed": true
   },
   "outputs": [],
   "source": [
    "edges_np = np.array([(0,3),(3,1),(1,2),(2,3)])\n",
    "edges_np = np.concatenate([edges_np,edges_np[:,[1,0]]])"
   ]
  },
  {
   "cell_type": "code",
   "execution_count": 115,
   "metadata": {
    "collapsed": false
   },
   "outputs": [
    {
     "data": {
      "text/plain": [
       "array([[0, 3],\n",
       "       [3, 1],\n",
       "       [1, 2],\n",
       "       [2, 3],\n",
       "       [3, 0],\n",
       "       [1, 3],\n",
       "       [2, 1],\n",
       "       [3, 2]])"
      ]
     },
     "execution_count": 115,
     "metadata": {},
     "output_type": "execute_result"
    }
   ],
   "source": [
    "edges_np"
   ]
  },
  {
   "cell_type": "code",
   "execution_count": null,
   "metadata": {
    "collapsed": true
   },
   "outputs": [],
   "source": []
  },
  {
   "cell_type": "code",
   "execution_count": 13,
   "metadata": {
    "collapsed": true
   },
   "outputs": [],
   "source": [
    "edge_selector = np.array([np.where(edges_np[:,0] == i)[0] for i in range(4)])"
   ]
  },
  {
   "cell_type": "code",
   "execution_count": 14,
   "metadata": {
    "collapsed": false
   },
   "outputs": [
    {
     "data": {
      "text/plain": [
       "array([array([0]), array([2, 5]), array([3, 6]), array([1, 4, 7])], dtype=object)"
      ]
     },
     "execution_count": 14,
     "metadata": {},
     "output_type": "execute_result"
    }
   ],
   "source": [
    "edge_selector"
   ]
  },
  {
   "cell_type": "code",
   "execution_count": null,
   "metadata": {
    "collapsed": true
   },
   "outputs": [],
   "source": []
  },
  {
   "cell_type": "code",
   "execution_count": null,
   "metadata": {
    "collapsed": true
   },
   "outputs": [],
   "source": []
  },
  {
   "cell_type": "code",
   "execution_count": 59,
   "metadata": {
    "collapsed": true
   },
   "outputs": [],
   "source": [
    "edges = torch.LongTensor(edges_np)"
   ]
  },
  {
   "cell_type": "code",
   "execution_count": 60,
   "metadata": {
    "collapsed": false
   },
   "outputs": [
    {
     "data": {
      "text/plain": [
       "\n",
       "    0     3\n",
       "    3     1\n",
       "    1     2\n",
       "    2     3\n",
       "    3     0\n",
       "    1     3\n",
       "    2     1\n",
       "    3     2\n",
       "[torch.LongTensor of size 8x2]"
      ]
     },
     "execution_count": 60,
     "metadata": {},
     "output_type": "execute_result"
    }
   ],
   "source": [
    "edges"
   ]
  },
  {
   "cell_type": "code",
   "execution_count": null,
   "metadata": {
    "collapsed": true
   },
   "outputs": [],
   "source": []
  },
  {
   "cell_type": "code",
   "execution_count": 71,
   "metadata": {
    "collapsed": true
   },
   "outputs": [],
   "source": [
    "weights = Variable(torch.rand(edges.shape), requires_grad=True)"
   ]
  },
  {
   "cell_type": "code",
   "execution_count": 72,
   "metadata": {
    "collapsed": false
   },
   "outputs": [
    {
     "data": {
      "text/plain": [
       "Variable containing:\n",
       " 0.5684  0.1352\n",
       " 0.0188  0.3241\n",
       " 0.6176  0.1497\n",
       " 0.6121  0.2223\n",
       " 0.6169  0.3865\n",
       " 0.9437  0.9026\n",
       " 0.6818  0.4499\n",
       " 0.3595  0.6131\n",
       "[torch.FloatTensor of size 8x2]"
      ]
     },
     "execution_count": 72,
     "metadata": {},
     "output_type": "execute_result"
    }
   ],
   "source": [
    "weights"
   ]
  },
  {
   "cell_type": "code",
   "execution_count": null,
   "metadata": {
    "collapsed": true
   },
   "outputs": [],
   "source": []
  },
  {
   "cell_type": "code",
   "execution_count": null,
   "metadata": {
    "collapsed": true
   },
   "outputs": [],
   "source": []
  },
  {
   "cell_type": "code",
   "execution_count": 19,
   "metadata": {
    "collapsed": true
   },
   "outputs": [],
   "source": [
    "# tocompute = torch.index_select(x, 1, Variable(edges.view(-1))).view(2,-1, 2)\n",
    "# tocompute"
   ]
  },
  {
   "cell_type": "code",
   "execution_count": null,
   "metadata": {
    "collapsed": true
   },
   "outputs": [],
   "source": []
  },
  {
   "cell_type": "code",
   "execution_count": null,
   "metadata": {
    "collapsed": true
   },
   "outputs": [],
   "source": []
  },
  {
   "cell_type": "code",
   "execution_count": null,
   "metadata": {
    "collapsed": false
   },
   "outputs": [],
   "source": []
  },
  {
   "cell_type": "code",
   "execution_count": null,
   "metadata": {
    "collapsed": false
   },
   "outputs": [],
   "source": []
  },
  {
   "cell_type": "code",
   "execution_count": 491,
   "metadata": {
    "collapsed": false
   },
   "outputs": [],
   "source": [
    "class CGN2(nn.Module):\n",
    "    def __init__(self,input_dim, edges, out_dim=1, on_cuda=True):\n",
    "        super(CGN2, self).__init__()\n",
    "\n",
    "        self.my_layers = []\n",
    "        self.out_dim = out_dim\n",
    "        self.on_cuda = on_cuda\n",
    "        self.edges = edges\n",
    "        #dims = [input_dim] + channels\n",
    "        \n",
    "        print \"Constructing the network...\"   \n",
    "        \n",
    "        \n",
    "        self.weights1 = nn.Parameter(torch.rand(edges.shape), requires_grad=True)\n",
    "        print self.weights1.size()\n",
    "\n",
    "        self.last_layer = nn.Linear(input_dim, out_dim)\n",
    "        self.my_layers = nn.ModuleList([self.last_layer])\n",
    "\n",
    "        print \"Done!\"\n",
    "\n",
    "        \n",
    "    #batch_size = 2\n",
    "    #print x\n",
    "    def GraphConv(self, x, edges, batch_size, weights):\n",
    "        \n",
    "        x = x.clone()\n",
    "        \n",
    "        tocompute = torch.index_select(x, 1, Variable(edges.view(-1))).view(batch_size, -1, 2)\n",
    "        #print tocompute\n",
    "        conv = tocompute*weights\n",
    "        #print conv\n",
    "        for i, edges_to_select in enumerate(edge_selector):\n",
    "            #print \"x\", conv\n",
    "            #print \"e\", edges_to_select\n",
    "            selected_edges = torch.index_select(conv, 1, Variable(torch.LongTensor(edges_to_select)))\n",
    "            #print \"m\", selected_edges\n",
    "            selected_edges = selected_edges.view(-1,edges_to_select.shape[0]*2)\n",
    "            #print \"m\", selected_edges\n",
    "            pooled_edges = torch.max(selected_edges,1)[0]\n",
    "            #print \"mmo\",pooled_edges\n",
    "            x[:,i] = pooled_edges\n",
    "            #print \"xx\",x[:,i]\n",
    "        return x\n",
    "\n",
    "        \n",
    "        \n",
    "    def forward(self, x):\n",
    "        nb_examples, nb_nodes = x.size()\n",
    "        \n",
    "        self.GraphConv(x,self.edges, nb_examples, self.weights1)\n",
    "\n",
    "        x = self.last_layer(x.view(nb_examples, -1))\n",
    "        x = F.sigmoid(x)\n",
    "\n",
    "        return x"
   ]
  },
  {
   "cell_type": "code",
   "execution_count": 550,
   "metadata": {
    "collapsed": false
   },
   "outputs": [],
   "source": [
    "import models\n",
    "reload(models);"
   ]
  },
  {
   "cell_type": "code",
   "execution_count": 551,
   "metadata": {
    "collapsed": false
   },
   "outputs": [
    {
     "name": "stdout",
     "output_type": "stream",
     "text": [
      "Constructing the network...\n",
      "Done!\n"
     ]
    },
    {
     "data": {
      "text/plain": [
       "MLP (\n",
       "  (my_layers): ModuleList (\n",
       "    (0): Linear (4 -> 10)\n",
       "  )\n",
       "  (last_layer): Linear (10 -> 2)\n",
       ")"
      ]
     },
     "execution_count": 551,
     "metadata": {},
     "output_type": "execute_result"
    }
   ],
   "source": [
    "#gc = CGN2(4,edges)\n",
    "gc = models.MLP(4,[10],2)\n",
    "gc"
   ]
  },
  {
   "cell_type": "code",
   "execution_count": 586,
   "metadata": {
    "collapsed": false
   },
   "outputs": [
    {
     "data": {
      "text/plain": [
       "[Parameter containing:\n",
       "  0.3155 -0.4150 -0.3406 -0.4055\n",
       "  0.1289  0.1336 -0.1016  0.4493\n",
       " -0.4373  0.4367 -0.0760 -0.0526\n",
       " -0.2413  0.2277  0.3490  0.2422\n",
       " -0.4667 -0.1930  0.4590 -0.3802\n",
       " -0.1446 -0.0561 -0.1433 -0.1082\n",
       " -0.4837  0.0318 -0.3148  0.3454\n",
       " -0.0987  0.0363  0.4293  0.1803\n",
       " -0.4004  0.1092  0.4453 -0.4015\n",
       "  0.3695 -0.4080 -0.0458 -0.4440\n",
       " [torch.FloatTensor of size 10x4], Parameter containing:\n",
       " -0.1733\n",
       " -0.4135\n",
       " -0.2673\n",
       " -0.2628\n",
       "  0.1145\n",
       "  0.3395\n",
       " -0.4669\n",
       "  0.0224\n",
       " -0.4844\n",
       "  0.0131\n",
       " [torch.FloatTensor of size 10], Parameter containing:\n",
       " -0.0450  0.0948 -0.2732  0.0282 -0.1569 -0.2957 -0.1764  0.0507 -0.1561  0.1715\n",
       " -0.2333 -0.0783 -0.3086 -0.0057 -0.2432  0.3046  0.0749 -0.1615  0.2999 -0.0795\n",
       " [torch.FloatTensor of size 2x10], Parameter containing:\n",
       "  0.3101\n",
       " -0.2874\n",
       " [torch.FloatTensor of size 2]]"
      ]
     },
     "execution_count": 586,
     "metadata": {},
     "output_type": "execute_result"
    }
   ],
   "source": [
    "list(gc.parameters())"
   ]
  },
  {
   "cell_type": "code",
   "execution_count": 578,
   "metadata": {
    "collapsed": true
   },
   "outputs": [],
   "source": [
    "optimizer = optim.SGD(list(gc.parameters()), lr = 0.001, momentum=0.9)"
   ]
  },
  {
   "cell_type": "code",
   "execution_count": 583,
   "metadata": {
    "collapsed": false
   },
   "outputs": [
    {
     "data": {
      "text/plain": [
       "Variable containing:\n",
       "(0 ,.,.) = \n",
       "  1.5376  4.6742  4.4718  7.1636\n",
       "\n",
       "(1 ,.,.) = \n",
       "  3.6882  6.1942  7.1988  6.8813\n",
       "\n",
       "(2 ,.,.) = \n",
       "  1.5468  6.3984  2.5569  6.5676\n",
       "\n",
       "(3 ,.,.) = \n",
       "  4.7741  7.6312  5.4124  0.7692\n",
       "\n",
       "(4 ,.,.) = \n",
       "  2.3023  8.2242  7.6240  0.6494\n",
       "\n",
       "(5 ,.,.) = \n",
       "  6.1428  9.9681  7.9972  1.8933\n",
       "\n",
       "(6 ,.,.) = \n",
       "  4.4662  8.0372  8.6390  5.4916\n",
       "\n",
       "(7 ,.,.) = \n",
       "  5.0784  3.2834  0.3930  1.1739\n",
       "[torch.FloatTensor of size 8x1x4]"
      ]
     },
     "execution_count": 583,
     "metadata": {},
     "output_type": "execute_result"
    }
   ],
   "source": [
    "x = Variable(torch.FloatTensor(X_train[:8])).view(-1,1,4)\n",
    "x"
   ]
  },
  {
   "cell_type": "code",
   "execution_count": 584,
   "metadata": {
    "collapsed": false
   },
   "outputs": [
    {
     "data": {
      "text/plain": [
       "Variable containing:\n",
       " 0.8122  0.1878\n",
       " 0.8366  0.1634\n",
       " 0.7971  0.2029\n",
       " 0.7441  0.2559\n",
       " 0.7160  0.2840\n",
       " 0.7339  0.2661\n",
       " 0.7758  0.2242\n",
       " 0.8336  0.1664\n",
       "[torch.FloatTensor of size 8x2]"
      ]
     },
     "execution_count": 584,
     "metadata": {},
     "output_type": "execute_result"
    }
   ],
   "source": [
    "output = gc(x)\n",
    "output"
   ]
  },
  {
   "cell_type": "code",
   "execution_count": 585,
   "metadata": {
    "collapsed": false
   },
   "outputs": [
    {
     "name": "stdout",
     "output_type": "stream",
     "text": [
      "Variable containing:\n",
      " 0.8122  0.1878\n",
      " 0.8366  0.1634\n",
      " 0.2029  0.7971\n",
      " 0.2559  0.7441\n",
      " 0.2840  0.7160\n",
      " 0.2661  0.7339\n",
      " 0.7758  0.2242\n",
      " 0.1664  0.8336\n",
      "[torch.FloatTensor of size 8x2]\n",
      "\n",
      "Variable containing:\n",
      " 0.5000\n",
      "[torch.FloatTensor of size 1]\n",
      "\n"
     ]
    }
   ],
   "source": [
    "gt = Variable(torch.FloatTensor(gt_fn(x.data.numpy()))).view(-1,1)\n",
    "loss = torch.abs(gt-output)\n",
    "print loss\n",
    "print loss.mean()"
   ]
  },
  {
   "cell_type": "code",
   "execution_count": 582,
   "metadata": {
    "collapsed": false
   },
   "outputs": [],
   "source": [
    "loss.mean().backward()\n",
    "optimizer.step()"
   ]
  },
  {
   "cell_type": "code",
   "execution_count": null,
   "metadata": {
    "collapsed": false
   },
   "outputs": [],
   "source": []
  },
  {
   "cell_type": "code",
   "execution_count": null,
   "metadata": {
    "collapsed": false
   },
   "outputs": [],
   "source": []
  },
  {
   "cell_type": "code",
   "execution_count": 261,
   "metadata": {
    "collapsed": true
   },
   "outputs": [],
   "source": [
    "X_batch, y_batch = sample(X_train, y_train, 1,2)"
   ]
  },
  {
   "cell_type": "code",
   "execution_count": 262,
   "metadata": {
    "collapsed": false
   },
   "outputs": [
    {
     "data": {
      "text/plain": [
       "(2, 4)"
      ]
     },
     "execution_count": 262,
     "metadata": {},
     "output_type": "execute_result"
    }
   ],
   "source": [
    "X_batch.shape"
   ]
  },
  {
   "cell_type": "code",
   "execution_count": 263,
   "metadata": {
    "collapsed": false
   },
   "outputs": [],
   "source": [
    "x = Variable(torch.FloatTensor(X_batch))\n",
    "output = gc(x)\n",
    "#gt = Variable(torch.FloatTensor(gt_fn(x.data.numpy()))).view(batch_size,-1)\n",
    "#loss = torch.abs(gt-output)\n",
    "#loss"
   ]
  },
  {
   "cell_type": "code",
   "execution_count": 247,
   "metadata": {
    "collapsed": false
   },
   "outputs": [
    {
     "data": {
      "text/plain": [
       "array([[ 0.],\n",
       "       [ 1.],\n",
       "       [ 1.],\n",
       "       [ 0.]])"
      ]
     },
     "execution_count": 247,
     "metadata": {},
     "output_type": "execute_result"
    }
   ],
   "source": [
    "y_batch"
   ]
  },
  {
   "cell_type": "code",
   "execution_count": null,
   "metadata": {
    "collapsed": false
   },
   "outputs": [],
   "source": []
  },
  {
   "cell_type": "code",
   "execution_count": null,
   "metadata": {
    "collapsed": false,
    "scrolled": false
   },
   "outputs": [],
   "source": []
  },
  {
   "cell_type": "code",
   "execution_count": 57,
   "metadata": {
    "collapsed": false
   },
   "outputs": [
    {
     "name": "stdout",
     "output_type": "stream",
     "text": [
      "Variable containing:\n",
      " 0.1381\n",
      " 0.1273\n",
      "[torch.FloatTensor of size 2]\n",
      "\n"
     ]
    }
   ],
   "source": [
    "torch.manual_seed(0)\n",
    "x = Variable(torch.rand(batch_size,4)*10)\n",
    "output = torch.nn.Sigmoid()(linearLayer(x)).view(-1)\n",
    "loss = torch.abs(Variable(gt_fn(x.data))-output)\n",
    "print  loss"
   ]
  },
  {
   "cell_type": "code",
   "execution_count": 58,
   "metadata": {
    "collapsed": false
   },
   "outputs": [],
   "source": [
    "loss.mean().backward()\n",
    "optimizer.step()"
   ]
  },
  {
   "cell_type": "code",
   "execution_count": null,
   "metadata": {
    "collapsed": true
   },
   "outputs": [],
   "source": []
  },
  {
   "cell_type": "code",
   "execution_count": null,
   "metadata": {
    "collapsed": true
   },
   "outputs": [],
   "source": []
  },
  {
   "cell_type": "code",
   "execution_count": 61,
   "metadata": {
    "collapsed": true
   },
   "outputs": [],
   "source": []
  },
  {
   "cell_type": "code",
   "execution_count": null,
   "metadata": {
    "collapsed": true
   },
   "outputs": [],
   "source": []
  },
  {
   "cell_type": "code",
   "execution_count": null,
   "metadata": {
    "collapsed": false
   },
   "outputs": [],
   "source": []
  },
  {
   "cell_type": "code",
   "execution_count": null,
   "metadata": {
    "collapsed": true
   },
   "outputs": [],
   "source": []
  },
  {
   "cell_type": "code",
   "execution_count": null,
   "metadata": {
    "collapsed": true
   },
   "outputs": [],
   "source": []
  },
  {
   "cell_type": "code",
   "execution_count": null,
   "metadata": {
    "collapsed": true
   },
   "outputs": [],
   "source": []
  },
  {
   "cell_type": "code",
   "execution_count": null,
   "metadata": {
    "collapsed": true
   },
   "outputs": [],
   "source": []
  },
  {
   "cell_type": "code",
   "execution_count": null,
   "metadata": {
    "collapsed": true
   },
   "outputs": [],
   "source": []
  },
  {
   "cell_type": "code",
   "execution_count": null,
   "metadata": {
    "collapsed": true
   },
   "outputs": [],
   "source": []
  },
  {
   "cell_type": "code",
   "execution_count": null,
   "metadata": {
    "collapsed": true
   },
   "outputs": [],
   "source": []
  }
 ],
 "metadata": {
  "kernelspec": {
   "display_name": "Python 2",
   "language": "python",
   "name": "python2"
  },
  "language_info": {
   "codemirror_mode": {
    "name": "ipython",
    "version": 2
   },
   "file_extension": ".py",
   "mimetype": "text/x-python",
   "name": "python",
   "nbconvert_exporter": "python",
   "pygments_lexer": "ipython2",
   "version": "2.7.13"
  }
 },
 "nbformat": 4,
 "nbformat_minor": 2
}
