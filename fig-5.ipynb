{
 "cells": [
  {
   "cell_type": "code",
   "execution_count": 1,
   "metadata": {},
   "outputs": [],
   "source": [
    "import os\n",
    "import time\n",
    "import pickle\n",
    "import numpy as np\n",
    "import matplotlib, matplotlib.pyplot as plt\n",
    "import networkx as nx\n",
    "import pandas as pd\n",
    "import torch\n",
    "import itertools\n",
    "from torch.autograd import Variable\n",
    "import sklearn, sklearn.model_selection, sklearn.metrics\n",
    "import numpy as np\n",
    "from scipy import sparse\n",
    "from models.model_wrapper import MLP, GCN, SLR\n",
    "from data import datasets\n",
    "from data.gene_graphs import GeneManiaGraph\n",
    "from data.utils import record_result"
   ]
  },
  {
   "cell_type": "code",
   "execution_count": 2,
   "metadata": {},
   "outputs": [
    {
     "name": "stdout",
     "output_type": "stream",
     "text": [
      "Torrent name: TCGA_tissue_ppi.hdf5, Size: 1748.32MB\n",
      "Converting one-hot labels to integers\n"
     ]
    }
   ],
   "source": [
    "dataset = datasets.TCGADataset()\n",
    "dataset.df = dataset.df - dataset.df.mean(axis=0)"
   ]
  },
  {
   "cell_type": "code",
   "execution_count": 3,
   "metadata": {},
   "outputs": [
    {
     "name": "stdout",
     "output_type": "stream",
     "text": [
      "Loaded Checkpointed Results\n"
     ]
    }
   ],
   "source": [
    "# Setup the results dictionary\n",
    "filename = \"experiments/results/fig-5-sparse.pkl\"\n",
    "try:\n",
    "    results = pickle.load(open(filename, \"rb\"), encoding='latin1')\n",
    "    print(\"Loaded Checkpointed Results\")\n",
    "except Exception as e:\n",
    "    results = pd.DataFrame(columns=['auc', 'gene', 'model', 'num_genes', 'seed', 'train_size', 'time_elapsed'])\n",
    "    print(\"Created a New Results Dictionary\")\n"
   ]
  },
  {
   "cell_type": "code",
   "execution_count": 4,
   "metadata": {},
   "outputs": [
    {
     "name": "stdout",
     "output_type": "stream",
     "text": [
      "Torrent name: genemania.pkl, Size: 9.61MB\n"
     ]
    }
   ],
   "source": [
    "gene_graph = GeneManiaGraph()"
   ]
  },
  {
   "cell_type": "code",
   "execution_count": 113,
   "metadata": {},
   "outputs": [],
   "source": [
    "from models.graph_layers import setup_aggregates, hierarchical_clustering\n",
    "from models.model_wrapper import EmbeddingLayer\n",
    "nb_genes = 2000\n",
    "neighbors = gene_graph.bfs_sample_neighbors(\"RPL3\", nb_genes)\n",
    "adj = nx.to_scipy_sparse_matrix(neighbors)\n",
    "\n",
    "adjs, centroids = setup_aggregates(adj, 3)"
   ]
  },
  {
   "cell_type": "code",
   "execution_count": 128,
   "metadata": {},
   "outputs": [],
   "source": [
    "X_train, X_test, y_train, y_test = sklearn.model_selection.train_test_split(dataset.df, dataset.labels, stratify=dataset.labels, train_size=50, test_size=1000, random_state=1)\n",
    "X_train = X_train[list(neighbors.nodes)].copy()\n",
    "inputs = torch.FloatTensor(np.expand_dims(X_train, axis=2))[0: 10]\n",
    "inputs = Variable(inputs, requires_grad=False).float()\n",
    "embedded_inputs = EmbeddingLayer(nb_genes)(inputs)\n"
   ]
  },
  {
   "cell_type": "code",
   "execution_count": 129,
   "metadata": {},
   "outputs": [],
   "source": [
    "embedded_inputs = embedded_inputs.permute(0, 2, 1).contiguous()\n",
    "embedded_inputs = embedded_inputs.view(embedded_inputs.shape[0] * embedded_inputs.shape[1], -1)\n"
   ]
  },
  {
   "cell_type": "code",
   "execution_count": 152,
   "metadata": {},
   "outputs": [],
   "source": [
    "embedded_inputs = embedded_inputs.cuda()"
   ]
  },
  {
   "cell_type": "code",
   "execution_count": 151,
   "metadata": {},
   "outputs": [
    {
     "name": "stdout",
     "output_type": "stream",
     "text": [
      "28.4 ms ± 739 µs per loop (mean ± std. dev. of 7 runs, 10 loops each)\n"
     ]
    }
   ],
   "source": [
    "%timeit embedded_inputs[:, adjs[0][centroids[0][0]].nonzero()[1]].max(dim=0)"
   ]
  },
  {
   "cell_type": "code",
   "execution_count": 123,
   "metadata": {},
   "outputs": [
    {
     "name": "stdout",
     "output_type": "stream",
     "text": [
      "54.1 ns ± 0.606 ns per loop (mean ± std. dev. of 7 runs, 10000000 loops each)\n"
     ]
    }
   ],
   "source": [
    "%timeit centroids[0][0]"
   ]
  },
  {
   "cell_type": "code",
   "execution_count": 116,
   "metadata": {},
   "outputs": [],
   "source": [
    "def sparse_max_pool(adj, centroids, x):\n",
    "    temp = []\n",
    "    x = x.permute(0, 2, 1).contiguous()\n",
    "    shape = x.shape\n",
    "    x = x.view(x.shape[0] * x.shape[1], -1)\n",
    "    for i in range(int(adj.shape[0] / 2)):\n",
    "        neighbors = centroids[i]\n",
    "        if len(adj[neighbors].nonzero()[1]) != 0:\n",
    "            temp.append(x[:, adj[neighbors].nonzero()[1]].max(dim=1)[0])\n",
    "        else:\n",
    "            temp.append(x[:, neighbors])\n",
    "    x = torch.stack(temp)\n",
    "    x = x.view(shape[0], shape[1], -1).permute(0, 2, 1).contiguous()  # put back in ex, node, channel\n",
    "    return x\n"
   ]
  },
  {
   "cell_type": "code",
   "execution_count": 153,
   "metadata": {},
   "outputs": [
    {
     "name": "stdout",
     "output_type": "stream",
     "text": [
      "2.41 s ± 26 ms per loop (mean ± std. dev. of 7 runs, 1 loop each)\n"
     ]
    }
   ],
   "source": [
    "%timeit sparse_max_pool(adjs[0], centroids[0], inputs)"
   ]
  },
  {
   "cell_type": "code",
   "execution_count": 6,
   "metadata": {},
   "outputs": [],
   "source": [
    "search_num_genes=[50, 100, 200, 300, 500, 1000, 2000, 4000, 8000, 16000]\n",
    "test_size=1000\n",
    "search_train_size=[50]\n",
    "cuda=False\n",
    "trials=5\n",
    "search_genes = [\"RPL4\", \"RPL5\", \"RPS10\", \"RPS3\", \"CEBPD\", \"IL5\", \"PABPC3\", \"PSMB10\", \"S100A8\", \"S100A9\", \"TOP1\", \"C15orf40\", \"RNF138\", \"DLGAP2\", \"EVI2B\", \"ZFP82\", \"MYBL2\", \"PSMB1\", \"CISD1\", \"HLA-B\", \"SAA2\", \"IFIT1\", \"RPS3A\", \"TP53\", \"TNF\", \"EGFR\"]\n",
    "model_list = [       \n",
    "               GCN(name=\"GCN_lay3_chan64_emb32_dropout\", cuda=cuda, num_layer=3, channels=64, embedding=32, pooling=\"hierarchy\"),\n",
    "#               GCN(name=\"GCN_lay20_chan32_emb32_dropout_pool_hierarchy\", cuda=cuda, num_layer=4, channels=32, embedding=32, prepool_extralayers=5, pooling=\"hierarchy\"),\n",
    "              #GCN(name=\"GCN_lay20_chan32_emb32_dropout_pool_random\", cuda=cuda, num_layer=4, channels=32, embedding=32, prepool_extralayers=5, pooling=\"random\"),\n",
    "#               GCN(name=\"GCN_lay3_chan64_emb32_dropout\", cuda=cuda, num_layer=3, channels=64, embedding=32),\n",
    "#               MLP(name=\"MLP_lay2_chan512_dropout\", cuda=cuda, dropout=True, num_layer=2, channels=512),\n",
    "#               MLP(name=\"MLP_lay2_chan512\", cuda=cuda, dropout=False, num_layer=2, channels=512),\n",
    "#               SLR(name=\"SLR_lambda1_l11\", cuda=cuda)\n",
    "             ]"
   ]
  },
  {
   "cell_type": "code",
   "execution_count": 7,
   "metadata": {},
   "outputs": [
    {
     "name": "stdout",
     "output_type": "stream",
     "text": [
      "todo: 1293\n",
      "done: 7\n"
     ]
    }
   ],
   "source": [
    "# Create the set of all experiment ids and see which are left to do\n",
    "model_names = [model.name for model in model_list]\n",
    "columns = [\"gene\", \"model\", \"num_genes\", \"train_size\", \"seed\"]\n",
    "all_exp_ids = [x for x in itertools.product(search_genes, model_names, search_num_genes, search_train_size, range(trials))]\n",
    "all_exp_ids = pd.DataFrame(all_exp_ids, columns=columns)\n",
    "all_exp_ids.index = [\"-\".join(map(str, tup[1:])) for tup in all_exp_ids.itertuples(name=None)]\n",
    "results_exp_ids = results[columns].copy()\n",
    "results_exp_ids.index = [\"-\".join(map(str, tup[1:])) for tup in results_exp_ids.itertuples(name=None)]\n",
    "intersection_ids = all_exp_ids.index.intersection(results_exp_ids.index)\n",
    "todo = all_exp_ids.drop(intersection_ids).to_dict(orient=\"records\")\n",
    "print(\"todo: \" + str(len(todo)))\n",
    "print(\"done: \" + str(len(results)))"
   ]
  },
  {
   "cell_type": "code",
   "execution_count": 8,
   "metadata": {},
   "outputs": [],
   "source": [
    "def get_every_n(a, n=2):\n",
    "    for i in range(a.shape[0] // 2):\n",
    "        yield a[2*i:2*(i+1)]\n"
   ]
  },
  {
   "cell_type": "code",
   "execution_count": 9,
   "metadata": {},
   "outputs": [
    {
     "name": "stdout",
     "output_type": "stream",
     "text": [
      "{'seed': 2, 'train_size': 50, 'model': 'GCN_lay3_chan64_emb32_dropout', 'gene': 'RPL4', 'num_genes': 100}\n",
      "> /home/martinweiss/gene-graph-conv/models/graph_layers.py(91)forward()\n",
      "-> x = sparse_max_pool(self.csr_adj, self.centroids, x)\n"
     ]
    },
    {
     "name": "stdin",
     "output_type": "stream",
     "text": [
      "(Pdb)  self.csr_adj\n"
     ]
    },
    {
     "name": "stdout",
     "output_type": "stream",
     "text": [
      "<100x100 sparse matrix of type '<class 'numpy.float32'>'\n",
      "\twith 3702 stored elements in Compressed Sparse Row format>\n"
     ]
    },
    {
     "name": "stdin",
     "output_type": "stream",
     "text": [
      "(Pdb)  self.centroids\n"
     ]
    },
    {
     "name": "stdout",
     "output_type": "stream",
     "text": [
      "defaultdict(<class 'list'>, {0: array([0]), 1: array([1]), 2: array([ 2, 58, 75]), 3: array([3]), 4: array([4]), 5: array([ 5,  6,  9, 12, 14, 23, 24, 26, 30, 32, 33, 34, 35, 41, 45, 46, 48,\n",
      "       52, 53, 57, 62, 68, 70, 71, 86, 89, 90, 92, 99]), 6: array([ 5,  6,  9, 12, 14, 23, 24, 26, 30, 32, 33, 34, 35, 41, 45, 46, 48,\n",
      "       52, 53, 57, 62, 68, 70, 71, 86, 89, 90, 92, 99]), 7: array([7]), 8: array([ 8, 22, 27]), 9: array([ 5,  6,  9, 12, 14, 23, 24, 26, 30, 32, 33, 34, 35, 41, 45, 46, 48,\n",
      "       52, 53, 57, 62, 68, 70, 71, 86, 89, 90, 92, 99]), 10: array([10, 13, 31, 49]), 11: array([11, 17, 43, 59, 91]), 12: array([ 5,  6,  9, 12, 14, 23, 24, 26, 30, 32, 33, 34, 35, 41, 45, 46, 48,\n",
      "       52, 53, 57, 62, 68, 70, 71, 86, 89, 90, 92, 99]), 13: array([10, 13, 31, 49]), 14: array([ 5,  6,  9, 12, 14, 23, 24, 26, 30, 32, 33, 34, 35, 41, 45, 46, 48,\n",
      "       52, 53, 57, 62, 68, 70, 71, 86, 89, 90, 92, 99]), 15: array([15]), 16: array([16]), 17: array([11, 17, 43, 59, 91]), 18: array([18, 38, 42, 81, 98]), 19: array([19]), 20: array([20]), 21: array([21]), 22: array([ 8, 22, 27]), 23: array([ 5,  6,  9, 12, 14, 23, 24, 26, 30, 32, 33, 34, 35, 41, 45, 46, 48,\n",
      "       52, 53, 57, 62, 68, 70, 71, 86, 89, 90, 92, 99]), 24: array([ 5,  6,  9, 12, 14, 23, 24, 26, 30, 32, 33, 34, 35, 41, 45, 46, 48,\n",
      "       52, 53, 57, 62, 68, 70, 71, 86, 89, 90, 92, 99]), 25: array([25]), 26: array([ 5,  6,  9, 12, 14, 23, 24, 26, 30, 32, 33, 34, 35, 41, 45, 46, 48,\n",
      "       52, 53, 57, 62, 68, 70, 71, 86, 89, 90, 92, 99]), 27: array([ 8, 22, 27]), 28: array([28, 84]), 29: array([29]), 30: array([ 5,  6,  9, 12, 14, 23, 24, 26, 30, 32, 33, 34, 35, 41, 45, 46, 48,\n",
      "       52, 53, 57, 62, 68, 70, 71, 86, 89, 90, 92, 99]), 31: array([10, 13, 31, 49]), 32: array([ 5,  6,  9, 12, 14, 23, 24, 26, 30, 32, 33, 34, 35, 41, 45, 46, 48,\n",
      "       52, 53, 57, 62, 68, 70, 71, 86, 89, 90, 92, 99]), 33: array([ 5,  6,  9, 12, 14, 23, 24, 26, 30, 32, 33, 34, 35, 41, 45, 46, 48,\n",
      "       52, 53, 57, 62, 68, 70, 71, 86, 89, 90, 92, 99]), 34: array([ 5,  6,  9, 12, 14, 23, 24, 26, 30, 32, 33, 34, 35, 41, 45, 46, 48,\n",
      "       52, 53, 57, 62, 68, 70, 71, 86, 89, 90, 92, 99]), 35: array([ 5,  6,  9, 12, 14, 23, 24, 26, 30, 32, 33, 34, 35, 41, 45, 46, 48,\n",
      "       52, 53, 57, 62, 68, 70, 71, 86, 89, 90, 92, 99]), 36: array([36]), 37: array([37]), 38: array([18, 38, 42, 81, 98]), 39: array([39]), 40: array([40]), 41: array([ 5,  6,  9, 12, 14, 23, 24, 26, 30, 32, 33, 34, 35, 41, 45, 46, 48,\n",
      "       52, 53, 57, 62, 68, 70, 71, 86, 89, 90, 92, 99]), 42: array([18, 38, 42, 81, 98]), 43: array([11, 17, 43, 59, 91]), 44: array([44]), 45: array([ 5,  6,  9, 12, 14, 23, 24, 26, 30, 32, 33, 34, 35, 41, 45, 46, 48,\n",
      "       52, 53, 57, 62, 68, 70, 71, 86, 89, 90, 92, 99]), 46: array([ 5,  6,  9, 12, 14, 23, 24, 26, 30, 32, 33, 34, 35, 41, 45, 46, 48,\n",
      "       52, 53, 57, 62, 68, 70, 71, 86, 89, 90, 92, 99]), 47: array([47]), 48: array([ 5,  6,  9, 12, 14, 23, 24, 26, 30, 32, 33, 34, 35, 41, 45, 46, 48,\n",
      "       52, 53, 57, 62, 68, 70, 71, 86, 89, 90, 92, 99]), 49: array([10, 13, 31, 49]), 50: array([50, 51, 69]), 51: array([50, 51, 69]), 52: array([ 5,  6,  9, 12, 14, 23, 24, 26, 30, 32, 33, 34, 35, 41, 45, 46, 48,\n",
      "       52, 53, 57, 62, 68, 70, 71, 86, 89, 90, 92, 99]), 53: array([ 5,  6,  9, 12, 14, 23, 24, 26, 30, 32, 33, 34, 35, 41, 45, 46, 48,\n",
      "       52, 53, 57, 62, 68, 70, 71, 86, 89, 90, 92, 99]), 54: array([54]), 55: array([55]), 56: array([56, 77, 83, 97]), 57: array([ 5,  6,  9, 12, 14, 23, 24, 26, 30, 32, 33, 34, 35, 41, 45, 46, 48,\n",
      "       52, 53, 57, 62, 68, 70, 71, 86, 89, 90, 92, 99]), 58: array([ 2, 58, 75]), 59: array([11, 17, 43, 59, 91]), 60: array([60]), 61: array([61]), 62: array([ 5,  6,  9, 12, 14, 23, 24, 26, 30, 32, 33, 34, 35, 41, 45, 46, 48,\n",
      "       52, 53, 57, 62, 68, 70, 71, 86, 89, 90, 92, 99]), 63: array([63]), 64: array([64]), 65: array([65]), 66: array([66]), 67: array([67]), 68: array([ 5,  6,  9, 12, 14, 23, 24, 26, 30, 32, 33, 34, 35, 41, 45, 46, 48,\n",
      "       52, 53, 57, 62, 68, 70, 71, 86, 89, 90, 92, 99]), 69: array([50, 51, 69]), 70: array([ 5,  6,  9, 12, 14, 23, 24, 26, 30, 32, 33, 34, 35, 41, 45, 46, 48,\n",
      "       52, 53, 57, 62, 68, 70, 71, 86, 89, 90, 92, 99]), 71: array([ 5,  6,  9, 12, 14, 23, 24, 26, 30, 32, 33, 34, 35, 41, 45, 46, 48,\n",
      "       52, 53, 57, 62, 68, 70, 71, 86, 89, 90, 92, 99]), 72: array([72]), 73: array([73, 94]), 74: array([74]), 75: array([ 2, 58, 75]), 76: array([76]), 77: array([56, 77, 83, 97]), 78: array([78]), 79: array([79]), 80: array([80]), 81: array([18, 38, 42, 81, 98]), 82: array([82]), 83: array([56, 77, 83, 97]), 84: array([28, 84]), 85: array([85]), 86: array([ 5,  6,  9, 12, 14, 23, 24, 26, 30, 32, 33, 34, 35, 41, 45, 46, 48,\n",
      "       52, 53, 57, 62, 68, 70, 71, 86, 89, 90, 92, 99]), 87: array([87]), 88: array([88]), 89: array([ 5,  6,  9, 12, 14, 23, 24, 26, 30, 32, 33, 34, 35, 41, 45, 46, 48,\n",
      "       52, 53, 57, 62, 68, 70, 71, 86, 89, 90, 92, 99]), 90: array([ 5,  6,  9, 12, 14, 23, 24, 26, 30, 32, 33, 34, 35, 41, 45, 46, 48,\n",
      "       52, 53, 57, 62, 68, 70, 71, 86, 89, 90, 92, 99]), 91: array([11, 17, 43, 59, 91]), 92: array([ 5,  6,  9, 12, 14, 23, 24, 26, 30, 32, 33, 34, 35, 41, 45, 46, 48,\n",
      "       52, 53, 57, 62, 68, 70, 71, 86, 89, 90, 92, 99]), 93: array([93]), 94: array([73, 94]), 95: array([95]), 96: array([96]), 97: array([56, 77, 83, 97]), 98: array([18, 38, 42, 81, 98]), 99: array([ 5,  6,  9, 12, 14, 23, 24, 26, 30, 32, 33, 34, 35, 41, 45, 46, 48,\n",
      "       52, 53, 57, 62, 68, 70, 71, 86, 89, 90, 92, 99])})\n"
     ]
    },
    {
     "name": "stdin",
     "output_type": "stream",
     "text": [
      "(Pdb)  q\n"
     ]
    },
    {
     "ename": "BdbQuit",
     "evalue": "",
     "output_type": "error",
     "traceback": [
      "\u001b[0;31m---------------------------------------------------------------------------\u001b[0m",
      "\u001b[0;31mBdbQuit\u001b[0m                                   Traceback (most recent call last)",
      "\u001b[0;32m<ipython-input-9-29afeaea2cda>\u001b[0m in \u001b[0;36m<module>\u001b[0;34m\u001b[0m\n\u001b[1;32m     31\u001b[0m     \u001b[0mX_test\u001b[0m\u001b[0;34m[\u001b[0m\u001b[0mgene\u001b[0m\u001b[0;34m]\u001b[0m \u001b[0;34m=\u001b[0m \u001b[0;36m1\u001b[0m\u001b[0;34m\u001b[0m\u001b[0m\n\u001b[1;32m     32\u001b[0m     \u001b[0madj\u001b[0m \u001b[0;34m=\u001b[0m \u001b[0mnp\u001b[0m\u001b[0;34m.\u001b[0m\u001b[0masarray\u001b[0m\u001b[0;34m(\u001b[0m\u001b[0mnx\u001b[0m\u001b[0;34m.\u001b[0m\u001b[0mto_numpy_matrix\u001b[0m\u001b[0;34m(\u001b[0m\u001b[0mneighbors\u001b[0m\u001b[0;34m)\u001b[0m\u001b[0;34m)\u001b[0m\u001b[0;34m\u001b[0m\u001b[0m\n\u001b[0;32m---> 33\u001b[0;31m     \u001b[0mmodel\u001b[0m\u001b[0;34m.\u001b[0m\u001b[0mfit\u001b[0m\u001b[0;34m(\u001b[0m\u001b[0mX_train\u001b[0m\u001b[0;34m,\u001b[0m \u001b[0my_train\u001b[0m\u001b[0;34m,\u001b[0m \u001b[0madj\u001b[0m\u001b[0;34m=\u001b[0m\u001b[0madj\u001b[0m\u001b[0;34m)\u001b[0m\u001b[0;34m\u001b[0m\u001b[0m\n\u001b[0m\u001b[1;32m     34\u001b[0m \u001b[0;34m\u001b[0m\u001b[0m\n\u001b[1;32m     35\u001b[0m     \u001b[0mx_test\u001b[0m \u001b[0;34m=\u001b[0m \u001b[0mVariable\u001b[0m\u001b[0;34m(\u001b[0m\u001b[0mtorch\u001b[0m\u001b[0;34m.\u001b[0m\u001b[0mFloatTensor\u001b[0m\u001b[0;34m(\u001b[0m\u001b[0mnp\u001b[0m\u001b[0;34m.\u001b[0m\u001b[0mexpand_dims\u001b[0m\u001b[0;34m(\u001b[0m\u001b[0mX_test\u001b[0m\u001b[0;34m.\u001b[0m\u001b[0mvalues\u001b[0m\u001b[0;34m,\u001b[0m \u001b[0maxis\u001b[0m\u001b[0;34m=\u001b[0m\u001b[0;36m2\u001b[0m\u001b[0;34m)\u001b[0m\u001b[0;34m)\u001b[0m\u001b[0;34m,\u001b[0m \u001b[0mrequires_grad\u001b[0m\u001b[0;34m=\u001b[0m\u001b[0;32mFalse\u001b[0m\u001b[0;34m)\u001b[0m\u001b[0;34m.\u001b[0m\u001b[0mfloat\u001b[0m\u001b[0;34m(\u001b[0m\u001b[0;34m)\u001b[0m\u001b[0;34m\u001b[0m\u001b[0m\n",
      "\u001b[0;32m~/gene-graph-conv/models/model_wrapper.py\u001b[0m in \u001b[0;36mfit\u001b[0;34m(self, X, y, adj)\u001b[0m\n\u001b[1;32m     85\u001b[0m \u001b[0;34m\u001b[0m\u001b[0m\n\u001b[1;32m     86\u001b[0m                 \u001b[0mself\u001b[0m\u001b[0;34m.\u001b[0m\u001b[0mtrain\u001b[0m\u001b[0;34m(\u001b[0m\u001b[0;34m)\u001b[0m\u001b[0;34m\u001b[0m\u001b[0m\n\u001b[0;32m---> 87\u001b[0;31m                 \u001b[0my_pred\u001b[0m \u001b[0;34m=\u001b[0m \u001b[0mself\u001b[0m\u001b[0;34m(\u001b[0m\u001b[0minputs\u001b[0m\u001b[0;34m)\u001b[0m\u001b[0;34m\u001b[0m\u001b[0m\n\u001b[0m\u001b[1;32m     88\u001b[0m \u001b[0;34m\u001b[0m\u001b[0m\n\u001b[1;32m     89\u001b[0m                 \u001b[0mtargets\u001b[0m \u001b[0;34m=\u001b[0m \u001b[0mVariable\u001b[0m\u001b[0;34m(\u001b[0m\u001b[0mlabels\u001b[0m\u001b[0;34m,\u001b[0m \u001b[0mrequires_grad\u001b[0m\u001b[0;34m=\u001b[0m\u001b[0;32mFalse\u001b[0m\u001b[0;34m)\u001b[0m\u001b[0;34m.\u001b[0m\u001b[0mlong\u001b[0m\u001b[0;34m(\u001b[0m\u001b[0;34m)\u001b[0m\u001b[0;34m\u001b[0m\u001b[0m\n",
      "\u001b[0;32m~/gene-graph-conv/venv/lib/python3.5/site-packages/torch/nn/modules/module.py\u001b[0m in \u001b[0;36m__call__\u001b[0;34m(self, *input, **kwargs)\u001b[0m\n\u001b[1;32m    487\u001b[0m             \u001b[0mresult\u001b[0m \u001b[0;34m=\u001b[0m \u001b[0mself\u001b[0m\u001b[0;34m.\u001b[0m\u001b[0m_slow_forward\u001b[0m\u001b[0;34m(\u001b[0m\u001b[0;34m*\u001b[0m\u001b[0minput\u001b[0m\u001b[0;34m,\u001b[0m \u001b[0;34m**\u001b[0m\u001b[0mkwargs\u001b[0m\u001b[0;34m)\u001b[0m\u001b[0;34m\u001b[0m\u001b[0m\n\u001b[1;32m    488\u001b[0m         \u001b[0;32melse\u001b[0m\u001b[0;34m:\u001b[0m\u001b[0;34m\u001b[0m\u001b[0m\n\u001b[0;32m--> 489\u001b[0;31m             \u001b[0mresult\u001b[0m \u001b[0;34m=\u001b[0m \u001b[0mself\u001b[0m\u001b[0;34m.\u001b[0m\u001b[0mforward\u001b[0m\u001b[0;34m(\u001b[0m\u001b[0;34m*\u001b[0m\u001b[0minput\u001b[0m\u001b[0;34m,\u001b[0m \u001b[0;34m**\u001b[0m\u001b[0mkwargs\u001b[0m\u001b[0;34m)\u001b[0m\u001b[0;34m\u001b[0m\u001b[0m\n\u001b[0m\u001b[1;32m    490\u001b[0m         \u001b[0;32mfor\u001b[0m \u001b[0mhook\u001b[0m \u001b[0;32min\u001b[0m \u001b[0mself\u001b[0m\u001b[0;34m.\u001b[0m\u001b[0m_forward_hooks\u001b[0m\u001b[0;34m.\u001b[0m\u001b[0mvalues\u001b[0m\u001b[0;34m(\u001b[0m\u001b[0;34m)\u001b[0m\u001b[0;34m:\u001b[0m\u001b[0;34m\u001b[0m\u001b[0m\n\u001b[1;32m    491\u001b[0m             \u001b[0mhook_result\u001b[0m \u001b[0;34m=\u001b[0m \u001b[0mhook\u001b[0m\u001b[0;34m(\u001b[0m\u001b[0mself\u001b[0m\u001b[0;34m,\u001b[0m \u001b[0minput\u001b[0m\u001b[0;34m,\u001b[0m \u001b[0mresult\u001b[0m\u001b[0;34m)\u001b[0m\u001b[0;34m\u001b[0m\u001b[0m\n",
      "\u001b[0;32m~/gene-graph-conv/models/model_wrapper.py\u001b[0m in \u001b[0;36mforward\u001b[0;34m(self, x)\u001b[0m\n\u001b[1;32m    409\u001b[0m         \u001b[0;32mfor\u001b[0m \u001b[0mi\u001b[0m\u001b[0;34m,\u001b[0m \u001b[0;34m[\u001b[0m\u001b[0mlayer\u001b[0m\u001b[0;34m,\u001b[0m \u001b[0mgate\u001b[0m\u001b[0;34m,\u001b[0m \u001b[0mdropout\u001b[0m\u001b[0;34m]\u001b[0m \u001b[0;32min\u001b[0m \u001b[0menumerate\u001b[0m\u001b[0;34m(\u001b[0m\u001b[0mzip\u001b[0m\u001b[0;34m(\u001b[0m\u001b[0mself\u001b[0m\u001b[0;34m.\u001b[0m\u001b[0mconv_layers\u001b[0m\u001b[0;34m,\u001b[0m \u001b[0mself\u001b[0m\u001b[0;34m.\u001b[0m\u001b[0mgating_layers\u001b[0m\u001b[0;34m,\u001b[0m \u001b[0mself\u001b[0m\u001b[0;34m.\u001b[0m\u001b[0mdropout_layers\u001b[0m\u001b[0;34m)\u001b[0m\u001b[0;34m)\u001b[0m\u001b[0;34m:\u001b[0m\u001b[0;34m\u001b[0m\u001b[0m\n\u001b[1;32m    410\u001b[0m             \u001b[0;32mif\u001b[0m \u001b[0mself\u001b[0m\u001b[0;34m.\u001b[0m\u001b[0mgating\u001b[0m \u001b[0;34m>\u001b[0m \u001b[0;36m0.\u001b[0m\u001b[0;34m:\u001b[0m\u001b[0;34m\u001b[0m\u001b[0m\n\u001b[0;32m--> 411\u001b[0;31m                 \u001b[0mx\u001b[0m \u001b[0;34m=\u001b[0m \u001b[0mlayer\u001b[0m\u001b[0;34m(\u001b[0m\u001b[0mx\u001b[0m\u001b[0;34m)\u001b[0m\u001b[0;34m\u001b[0m\u001b[0m\n\u001b[0m\u001b[1;32m    412\u001b[0m                 \u001b[0mg\u001b[0m \u001b[0;34m=\u001b[0m \u001b[0mgate\u001b[0m\u001b[0;34m(\u001b[0m\u001b[0mx\u001b[0m\u001b[0;34m)\u001b[0m\u001b[0;34m\u001b[0m\u001b[0m\n\u001b[1;32m    413\u001b[0m                 \u001b[0mx\u001b[0m \u001b[0;34m=\u001b[0m \u001b[0mg\u001b[0m \u001b[0;34m*\u001b[0m \u001b[0mx\u001b[0m\u001b[0;34m\u001b[0m\u001b[0m\n",
      "\u001b[0;32m~/gene-graph-conv/venv/lib/python3.5/site-packages/torch/nn/modules/module.py\u001b[0m in \u001b[0;36m__call__\u001b[0;34m(self, *input, **kwargs)\u001b[0m\n\u001b[1;32m    487\u001b[0m             \u001b[0mresult\u001b[0m \u001b[0;34m=\u001b[0m \u001b[0mself\u001b[0m\u001b[0;34m.\u001b[0m\u001b[0m_slow_forward\u001b[0m\u001b[0;34m(\u001b[0m\u001b[0;34m*\u001b[0m\u001b[0minput\u001b[0m\u001b[0;34m,\u001b[0m \u001b[0;34m**\u001b[0m\u001b[0mkwargs\u001b[0m\u001b[0;34m)\u001b[0m\u001b[0;34m\u001b[0m\u001b[0m\n\u001b[1;32m    488\u001b[0m         \u001b[0;32melse\u001b[0m\u001b[0;34m:\u001b[0m\u001b[0;34m\u001b[0m\u001b[0m\n\u001b[0;32m--> 489\u001b[0;31m             \u001b[0mresult\u001b[0m \u001b[0;34m=\u001b[0m \u001b[0mself\u001b[0m\u001b[0;34m.\u001b[0m\u001b[0mforward\u001b[0m\u001b[0;34m(\u001b[0m\u001b[0;34m*\u001b[0m\u001b[0minput\u001b[0m\u001b[0;34m,\u001b[0m \u001b[0;34m**\u001b[0m\u001b[0mkwargs\u001b[0m\u001b[0;34m)\u001b[0m\u001b[0;34m\u001b[0m\u001b[0m\n\u001b[0m\u001b[1;32m    490\u001b[0m         \u001b[0;32mfor\u001b[0m \u001b[0mhook\u001b[0m \u001b[0;32min\u001b[0m \u001b[0mself\u001b[0m\u001b[0;34m.\u001b[0m\u001b[0m_forward_hooks\u001b[0m\u001b[0;34m.\u001b[0m\u001b[0mvalues\u001b[0m\u001b[0;34m(\u001b[0m\u001b[0;34m)\u001b[0m\u001b[0;34m:\u001b[0m\u001b[0;34m\u001b[0m\u001b[0m\n\u001b[1;32m    491\u001b[0m             \u001b[0mhook_result\u001b[0m \u001b[0;34m=\u001b[0m \u001b[0mhook\u001b[0m\u001b[0;34m(\u001b[0m\u001b[0mself\u001b[0m\u001b[0;34m,\u001b[0m \u001b[0minput\u001b[0m\u001b[0;34m,\u001b[0m \u001b[0mresult\u001b[0m\u001b[0;34m)\u001b[0m\u001b[0;34m\u001b[0m\u001b[0m\n",
      "\u001b[0;32m~/gene-graph-conv/models/graph_layers.py\u001b[0m in \u001b[0;36mforward\u001b[0;34m(self, x)\u001b[0m\n\u001b[1;32m     89\u001b[0m         \u001b[0madj\u001b[0m \u001b[0;34m=\u001b[0m \u001b[0mVariable\u001b[0m\u001b[0;34m(\u001b[0m\u001b[0mself\u001b[0m\u001b[0;34m.\u001b[0m\u001b[0mdense_adj\u001b[0m\u001b[0;34m,\u001b[0m \u001b[0mrequires_grad\u001b[0m\u001b[0;34m=\u001b[0m\u001b[0;32mFalse\u001b[0m\u001b[0;34m)\u001b[0m\u001b[0;34m\u001b[0m\u001b[0m\n\u001b[1;32m     90\u001b[0m         \u001b[0;32mimport\u001b[0m \u001b[0mpdb\u001b[0m\u001b[0;34m;\u001b[0m \u001b[0mpdb\u001b[0m\u001b[0;34m.\u001b[0m\u001b[0mset_trace\u001b[0m\u001b[0;34m(\u001b[0m\u001b[0;34m)\u001b[0m\u001b[0;34m\u001b[0m\u001b[0m\n\u001b[0;32m---> 91\u001b[0;31m         \u001b[0mx\u001b[0m \u001b[0;34m=\u001b[0m \u001b[0msparse_max_pool\u001b[0m\u001b[0;34m(\u001b[0m\u001b[0mself\u001b[0m\u001b[0;34m.\u001b[0m\u001b[0mcsr_adj\u001b[0m\u001b[0;34m,\u001b[0m \u001b[0mself\u001b[0m\u001b[0;34m.\u001b[0m\u001b[0mcentroids\u001b[0m\u001b[0;34m,\u001b[0m \u001b[0mx\u001b[0m\u001b[0;34m)\u001b[0m\u001b[0;34m\u001b[0m\u001b[0m\n\u001b[0m\u001b[1;32m     92\u001b[0m         \u001b[0;32mreturn\u001b[0m \u001b[0mx\u001b[0m\u001b[0;34m\u001b[0m\u001b[0m\n\u001b[1;32m     93\u001b[0m \u001b[0;34m\u001b[0m\u001b[0m\n",
      "\u001b[0;32m~/gene-graph-conv/models/graph_layers.py\u001b[0m in \u001b[0;36mforward\u001b[0;34m(self, x)\u001b[0m\n\u001b[1;32m     89\u001b[0m         \u001b[0madj\u001b[0m \u001b[0;34m=\u001b[0m \u001b[0mVariable\u001b[0m\u001b[0;34m(\u001b[0m\u001b[0mself\u001b[0m\u001b[0;34m.\u001b[0m\u001b[0mdense_adj\u001b[0m\u001b[0;34m,\u001b[0m \u001b[0mrequires_grad\u001b[0m\u001b[0;34m=\u001b[0m\u001b[0;32mFalse\u001b[0m\u001b[0;34m)\u001b[0m\u001b[0;34m\u001b[0m\u001b[0m\n\u001b[1;32m     90\u001b[0m         \u001b[0;32mimport\u001b[0m \u001b[0mpdb\u001b[0m\u001b[0;34m;\u001b[0m \u001b[0mpdb\u001b[0m\u001b[0;34m.\u001b[0m\u001b[0mset_trace\u001b[0m\u001b[0;34m(\u001b[0m\u001b[0;34m)\u001b[0m\u001b[0;34m\u001b[0m\u001b[0m\n\u001b[0;32m---> 91\u001b[0;31m         \u001b[0mx\u001b[0m \u001b[0;34m=\u001b[0m \u001b[0msparse_max_pool\u001b[0m\u001b[0;34m(\u001b[0m\u001b[0mself\u001b[0m\u001b[0;34m.\u001b[0m\u001b[0mcsr_adj\u001b[0m\u001b[0;34m,\u001b[0m \u001b[0mself\u001b[0m\u001b[0;34m.\u001b[0m\u001b[0mcentroids\u001b[0m\u001b[0;34m,\u001b[0m \u001b[0mx\u001b[0m\u001b[0;34m)\u001b[0m\u001b[0;34m\u001b[0m\u001b[0m\n\u001b[0m\u001b[1;32m     92\u001b[0m         \u001b[0;32mreturn\u001b[0m \u001b[0mx\u001b[0m\u001b[0;34m\u001b[0m\u001b[0m\n\u001b[1;32m     93\u001b[0m \u001b[0;34m\u001b[0m\u001b[0m\n",
      "\u001b[0;32m/usr/lib/python3.5/bdb.py\u001b[0m in \u001b[0;36mtrace_dispatch\u001b[0;34m(self, frame, event, arg)\u001b[0m\n\u001b[1;32m     46\u001b[0m             \u001b[0;32mreturn\u001b[0m \u001b[0;31m# None\u001b[0m\u001b[0;34m\u001b[0m\u001b[0m\n\u001b[1;32m     47\u001b[0m         \u001b[0;32mif\u001b[0m \u001b[0mevent\u001b[0m \u001b[0;34m==\u001b[0m \u001b[0;34m'line'\u001b[0m\u001b[0;34m:\u001b[0m\u001b[0;34m\u001b[0m\u001b[0m\n\u001b[0;32m---> 48\u001b[0;31m             \u001b[0;32mreturn\u001b[0m \u001b[0mself\u001b[0m\u001b[0;34m.\u001b[0m\u001b[0mdispatch_line\u001b[0m\u001b[0;34m(\u001b[0m\u001b[0mframe\u001b[0m\u001b[0;34m)\u001b[0m\u001b[0;34m\u001b[0m\u001b[0m\n\u001b[0m\u001b[1;32m     49\u001b[0m         \u001b[0;32mif\u001b[0m \u001b[0mevent\u001b[0m \u001b[0;34m==\u001b[0m \u001b[0;34m'call'\u001b[0m\u001b[0;34m:\u001b[0m\u001b[0;34m\u001b[0m\u001b[0m\n\u001b[1;32m     50\u001b[0m             \u001b[0;32mreturn\u001b[0m \u001b[0mself\u001b[0m\u001b[0;34m.\u001b[0m\u001b[0mdispatch_call\u001b[0m\u001b[0;34m(\u001b[0m\u001b[0mframe\u001b[0m\u001b[0;34m,\u001b[0m \u001b[0marg\u001b[0m\u001b[0;34m)\u001b[0m\u001b[0;34m\u001b[0m\u001b[0m\n",
      "\u001b[0;32m/usr/lib/python3.5/bdb.py\u001b[0m in \u001b[0;36mdispatch_line\u001b[0;34m(self, frame)\u001b[0m\n\u001b[1;32m     65\u001b[0m         \u001b[0;32mif\u001b[0m \u001b[0mself\u001b[0m\u001b[0;34m.\u001b[0m\u001b[0mstop_here\u001b[0m\u001b[0;34m(\u001b[0m\u001b[0mframe\u001b[0m\u001b[0;34m)\u001b[0m \u001b[0;32mor\u001b[0m \u001b[0mself\u001b[0m\u001b[0;34m.\u001b[0m\u001b[0mbreak_here\u001b[0m\u001b[0;34m(\u001b[0m\u001b[0mframe\u001b[0m\u001b[0;34m)\u001b[0m\u001b[0;34m:\u001b[0m\u001b[0;34m\u001b[0m\u001b[0m\n\u001b[1;32m     66\u001b[0m             \u001b[0mself\u001b[0m\u001b[0;34m.\u001b[0m\u001b[0muser_line\u001b[0m\u001b[0;34m(\u001b[0m\u001b[0mframe\u001b[0m\u001b[0;34m)\u001b[0m\u001b[0;34m\u001b[0m\u001b[0m\n\u001b[0;32m---> 67\u001b[0;31m             \u001b[0;32mif\u001b[0m \u001b[0mself\u001b[0m\u001b[0;34m.\u001b[0m\u001b[0mquitting\u001b[0m\u001b[0;34m:\u001b[0m \u001b[0;32mraise\u001b[0m \u001b[0mBdbQuit\u001b[0m\u001b[0;34m\u001b[0m\u001b[0m\n\u001b[0m\u001b[1;32m     68\u001b[0m         \u001b[0;32mreturn\u001b[0m \u001b[0mself\u001b[0m\u001b[0;34m.\u001b[0m\u001b[0mtrace_dispatch\u001b[0m\u001b[0;34m\u001b[0m\u001b[0m\n\u001b[1;32m     69\u001b[0m \u001b[0;34m\u001b[0m\u001b[0m\n",
      "\u001b[0;31mBdbQuit\u001b[0m: "
     ]
    }
   ],
   "source": [
    "for row in todo:\n",
    "    print(row)\n",
    "    start_time = time.time()\n",
    "    gene = row[\"gene\"]\n",
    "    model_name = row[\"model\"]\n",
    "    seed = row[\"seed\"]\n",
    "    num_genes = row[\"num_genes\"] if row[\"num_genes\"] < 10000 else 16300\n",
    "    train_size = row[\"train_size\"]\n",
    "\n",
    "    model = [x for x in model_list if x.name == model_name][0]\n",
    "\n",
    "    experiment = {\n",
    "        \"gene\": gene,\n",
    "        \"model\": model.name,\n",
    "        \"num_genes\": num_genes,\n",
    "        \"train_size\": train_size,\n",
    "        \"seed\": seed,\n",
    "    }\n",
    "\n",
    "    dataset.labels = dataset.df[gene].where(dataset.df[gene] > 0).notnull().astype(\"int\")\n",
    "    X_train, X_test, y_train, y_test = sklearn.model_selection.train_test_split(dataset.df, dataset.labels, stratify=dataset.labels, train_size=train_size, test_size=test_size, random_state=seed)\n",
    "    \n",
    "    if num_genes == 16300:\n",
    "        neighbors = gene_graph.nx_graph\n",
    "    else:\n",
    "        neighbors = gene_graph.bfs_sample_neighbors(gene, num_genes)\n",
    "\n",
    "    X_train = X_train[list(neighbors.nodes)].copy()\n",
    "    X_test = X_test[list(neighbors.nodes)].copy()\n",
    "    X_train[gene] = 1\n",
    "    X_test[gene] = 1\n",
    "    adj = np.asarray(nx.to_numpy_matrix(neighbors))\n",
    "    model.fit(X_train, y_train, adj=adj)\n",
    "    \n",
    "    x_test = Variable(torch.FloatTensor(np.expand_dims(X_test.values, axis=2)), requires_grad=False).float()\n",
    "    if cuda:\n",
    "        x_test = x_test.cuda()\n",
    "    \n",
    "    y_hat = []\n",
    "    for chunk in get_every_n(x_test, 10):\n",
    "        y_hat.extend(model.predict(chunk)[:,1].data.cpu().numpy().tolist())\n",
    "    auc = sklearn.metrics.roc_auc_score(y_test, np.asarray(y_hat).flatten())\n",
    "\n",
    "    del model\n",
    "    experiment[\"auc\"] = auc\n",
    "    experiment[\"time_elapsed\"] = str(time.time() - start_time)\n",
    "    results = record_result(results, experiment, filename)\n",
    "    print(\"time elapsed for genes: \" +str(num_genes) + \" : \" + str(time.time() - start_time))\n"
   ]
  },
  {
   "cell_type": "code",
   "execution_count": 10,
   "metadata": {},
   "outputs": [
    {
     "data": {
      "text/html": [
       "<div>\n",
       "<style scoped>\n",
       "    .dataframe tbody tr th:only-of-type {\n",
       "        vertical-align: middle;\n",
       "    }\n",
       "\n",
       "    .dataframe tbody tr th {\n",
       "        vertical-align: top;\n",
       "    }\n",
       "\n",
       "    .dataframe thead th {\n",
       "        text-align: right;\n",
       "    }\n",
       "</style>\n",
       "<table border=\"1\" class=\"dataframe\">\n",
       "  <thead>\n",
       "    <tr style=\"text-align: right;\">\n",
       "      <th></th>\n",
       "      <th>auc</th>\n",
       "      <th>gene</th>\n",
       "      <th>model</th>\n",
       "      <th>num_genes</th>\n",
       "      <th>seed</th>\n",
       "      <th>train_size</th>\n",
       "      <th>time_elapsed</th>\n",
       "    </tr>\n",
       "  </thead>\n",
       "  <tbody>\n",
       "    <tr>\n",
       "      <th>0</th>\n",
       "      <td>0.575046</td>\n",
       "      <td>RPL4</td>\n",
       "      <td>GCN_lay3_chan64_emb32_dropout</td>\n",
       "      <td>50</td>\n",
       "      <td>0</td>\n",
       "      <td>50</td>\n",
       "      <td>35.51251173019409</td>\n",
       "    </tr>\n",
       "    <tr>\n",
       "      <th>1</th>\n",
       "      <td>0.500000</td>\n",
       "      <td>RPL4</td>\n",
       "      <td>GCN_lay3_chan64_emb32_dropout</td>\n",
       "      <td>50</td>\n",
       "      <td>1</td>\n",
       "      <td>50</td>\n",
       "      <td>6.390526533126831</td>\n",
       "    </tr>\n",
       "    <tr>\n",
       "      <th>2</th>\n",
       "      <td>0.544952</td>\n",
       "      <td>RPL4</td>\n",
       "      <td>GCN_lay3_chan64_emb32_dropout</td>\n",
       "      <td>50</td>\n",
       "      <td>2</td>\n",
       "      <td>50</td>\n",
       "      <td>3.7114007472991943</td>\n",
       "    </tr>\n",
       "    <tr>\n",
       "      <th>3</th>\n",
       "      <td>0.500721</td>\n",
       "      <td>RPL4</td>\n",
       "      <td>GCN_lay3_chan64_emb32_dropout</td>\n",
       "      <td>50</td>\n",
       "      <td>3</td>\n",
       "      <td>50</td>\n",
       "      <td>3.427546977996826</td>\n",
       "    </tr>\n",
       "    <tr>\n",
       "      <th>4</th>\n",
       "      <td>0.497917</td>\n",
       "      <td>RPL4</td>\n",
       "      <td>GCN_lay3_chan64_emb32_dropout</td>\n",
       "      <td>50</td>\n",
       "      <td>4</td>\n",
       "      <td>50</td>\n",
       "      <td>3.657351016998291</td>\n",
       "    </tr>\n",
       "    <tr>\n",
       "      <th>5</th>\n",
       "      <td>0.466869</td>\n",
       "      <td>RPL4</td>\n",
       "      <td>GCN_lay3_chan64_emb32_dropout</td>\n",
       "      <td>100</td>\n",
       "      <td>0</td>\n",
       "      <td>50</td>\n",
       "      <td>3.0078303813934326</td>\n",
       "    </tr>\n",
       "    <tr>\n",
       "      <th>6</th>\n",
       "      <td>0.469764</td>\n",
       "      <td>RPL4</td>\n",
       "      <td>GCN_lay3_chan64_emb32_dropout</td>\n",
       "      <td>100</td>\n",
       "      <td>1</td>\n",
       "      <td>50</td>\n",
       "      <td>2.4217426776885986</td>\n",
       "    </tr>\n",
       "    <tr>\n",
       "      <th>7</th>\n",
       "      <td>0.500000</td>\n",
       "      <td>RPL4</td>\n",
       "      <td>GCN_lay3_chan64_emb32_dropout</td>\n",
       "      <td>100</td>\n",
       "      <td>2</td>\n",
       "      <td>50</td>\n",
       "      <td>4.3778393268585205</td>\n",
       "    </tr>\n",
       "    <tr>\n",
       "      <th>8</th>\n",
       "      <td>0.500000</td>\n",
       "      <td>RPL4</td>\n",
       "      <td>GCN_lay3_chan64_emb32_dropout</td>\n",
       "      <td>100</td>\n",
       "      <td>3</td>\n",
       "      <td>50</td>\n",
       "      <td>4.056507587432861</td>\n",
       "    </tr>\n",
       "    <tr>\n",
       "      <th>9</th>\n",
       "      <td>0.476294</td>\n",
       "      <td>RPL4</td>\n",
       "      <td>GCN_lay3_chan64_emb32_dropout</td>\n",
       "      <td>100</td>\n",
       "      <td>4</td>\n",
       "      <td>50</td>\n",
       "      <td>2.8931021690368652</td>\n",
       "    </tr>\n",
       "    <tr>\n",
       "      <th>10</th>\n",
       "      <td>0.500000</td>\n",
       "      <td>RPL4</td>\n",
       "      <td>GCN_lay3_chan64_emb32_dropout</td>\n",
       "      <td>200</td>\n",
       "      <td>0</td>\n",
       "      <td>50</td>\n",
       "      <td>4.7645416259765625</td>\n",
       "    </tr>\n",
       "    <tr>\n",
       "      <th>11</th>\n",
       "      <td>0.494760</td>\n",
       "      <td>RPL4</td>\n",
       "      <td>GCN_lay3_chan64_emb32_dropout</td>\n",
       "      <td>200</td>\n",
       "      <td>1</td>\n",
       "      <td>50</td>\n",
       "      <td>3.4718329906463623</td>\n",
       "    </tr>\n",
       "    <tr>\n",
       "      <th>12</th>\n",
       "      <td>0.498958</td>\n",
       "      <td>RPL4</td>\n",
       "      <td>GCN_lay3_chan64_emb32_dropout</td>\n",
       "      <td>200</td>\n",
       "      <td>2</td>\n",
       "      <td>50</td>\n",
       "      <td>5.110352277755737</td>\n",
       "    </tr>\n",
       "    <tr>\n",
       "      <th>13</th>\n",
       "      <td>0.463215</td>\n",
       "      <td>RPL4</td>\n",
       "      <td>GCN_lay3_chan64_emb32_dropout</td>\n",
       "      <td>200</td>\n",
       "      <td>3</td>\n",
       "      <td>50</td>\n",
       "      <td>3.497371196746826</td>\n",
       "    </tr>\n",
       "    <tr>\n",
       "      <th>14</th>\n",
       "      <td>0.500000</td>\n",
       "      <td>RPL4</td>\n",
       "      <td>GCN_lay3_chan64_emb32_dropout</td>\n",
       "      <td>200</td>\n",
       "      <td>4</td>\n",
       "      <td>50</td>\n",
       "      <td>4.9245359897613525</td>\n",
       "    </tr>\n",
       "    <tr>\n",
       "      <th>15</th>\n",
       "      <td>0.584205</td>\n",
       "      <td>RPL4</td>\n",
       "      <td>GCN_lay3_chan64_emb32_dropout</td>\n",
       "      <td>300</td>\n",
       "      <td>0</td>\n",
       "      <td>50</td>\n",
       "      <td>4.1122212409973145</td>\n",
       "    </tr>\n",
       "    <tr>\n",
       "      <th>16</th>\n",
       "      <td>0.559792</td>\n",
       "      <td>RPL4</td>\n",
       "      <td>GCN_lay3_chan64_emb32_dropout</td>\n",
       "      <td>300</td>\n",
       "      <td>1</td>\n",
       "      <td>50</td>\n",
       "      <td>4.0181825160980225</td>\n",
       "    </tr>\n",
       "    <tr>\n",
       "      <th>17</th>\n",
       "      <td>0.508415</td>\n",
       "      <td>RPL4</td>\n",
       "      <td>GCN_lay3_chan64_emb32_dropout</td>\n",
       "      <td>300</td>\n",
       "      <td>2</td>\n",
       "      <td>50</td>\n",
       "      <td>4.138023614883423</td>\n",
       "    </tr>\n",
       "    <tr>\n",
       "      <th>18</th>\n",
       "      <td>0.743407</td>\n",
       "      <td>RPL4</td>\n",
       "      <td>GCN_lay3_chan64_emb32_dropout</td>\n",
       "      <td>300</td>\n",
       "      <td>3</td>\n",
       "      <td>50</td>\n",
       "      <td>5.214395999908447</td>\n",
       "    </tr>\n",
       "    <tr>\n",
       "      <th>19</th>\n",
       "      <td>0.531601</td>\n",
       "      <td>RPL4</td>\n",
       "      <td>GCN_lay3_chan64_emb32_dropout</td>\n",
       "      <td>300</td>\n",
       "      <td>4</td>\n",
       "      <td>50</td>\n",
       "      <td>4.309355735778809</td>\n",
       "    </tr>\n",
       "    <tr>\n",
       "      <th>20</th>\n",
       "      <td>0.536216</td>\n",
       "      <td>RPL4</td>\n",
       "      <td>GCN_lay3_chan64_emb32_dropout</td>\n",
       "      <td>500</td>\n",
       "      <td>0</td>\n",
       "      <td>50</td>\n",
       "      <td>6.0265727043151855</td>\n",
       "    </tr>\n",
       "    <tr>\n",
       "      <th>21</th>\n",
       "      <td>0.522308</td>\n",
       "      <td>RPL4</td>\n",
       "      <td>GCN_lay3_chan64_emb32_dropout</td>\n",
       "      <td>500</td>\n",
       "      <td>1</td>\n",
       "      <td>50</td>\n",
       "      <td>6.230643272399902</td>\n",
       "    </tr>\n",
       "    <tr>\n",
       "      <th>22</th>\n",
       "      <td>0.510465</td>\n",
       "      <td>RPL4</td>\n",
       "      <td>GCN_lay3_chan64_emb32_dropout</td>\n",
       "      <td>500</td>\n",
       "      <td>2</td>\n",
       "      <td>50</td>\n",
       "      <td>5.721572399139404</td>\n",
       "    </tr>\n",
       "    <tr>\n",
       "      <th>23</th>\n",
       "      <td>0.500080</td>\n",
       "      <td>RPL4</td>\n",
       "      <td>GCN_lay3_chan64_emb32_dropout</td>\n",
       "      <td>500</td>\n",
       "      <td>3</td>\n",
       "      <td>50</td>\n",
       "      <td>9.355952024459839</td>\n",
       "    </tr>\n",
       "    <tr>\n",
       "      <th>24</th>\n",
       "      <td>0.503149</td>\n",
       "      <td>RPL4</td>\n",
       "      <td>GCN_lay3_chan64_emb32_dropout</td>\n",
       "      <td>500</td>\n",
       "      <td>4</td>\n",
       "      <td>50</td>\n",
       "      <td>6.66749906539917</td>\n",
       "    </tr>\n",
       "    <tr>\n",
       "      <th>25</th>\n",
       "      <td>0.373460</td>\n",
       "      <td>RPL4</td>\n",
       "      <td>GCN_lay3_chan64_emb32_dropout</td>\n",
       "      <td>1000</td>\n",
       "      <td>0</td>\n",
       "      <td>50</td>\n",
       "      <td>13.499656200408936</td>\n",
       "    </tr>\n",
       "    <tr>\n",
       "      <th>26</th>\n",
       "      <td>0.388205</td>\n",
       "      <td>RPL4</td>\n",
       "      <td>GCN_lay3_chan64_emb32_dropout</td>\n",
       "      <td>1000</td>\n",
       "      <td>1</td>\n",
       "      <td>50</td>\n",
       "      <td>12.50715184211731</td>\n",
       "    </tr>\n",
       "    <tr>\n",
       "      <th>27</th>\n",
       "      <td>0.393055</td>\n",
       "      <td>RPL4</td>\n",
       "      <td>GCN_lay3_chan64_emb32_dropout</td>\n",
       "      <td>1000</td>\n",
       "      <td>2</td>\n",
       "      <td>50</td>\n",
       "      <td>13.020667314529419</td>\n",
       "    </tr>\n",
       "    <tr>\n",
       "      <th>28</th>\n",
       "      <td>0.420996</td>\n",
       "      <td>RPL4</td>\n",
       "      <td>GCN_lay3_chan64_emb32_dropout</td>\n",
       "      <td>1000</td>\n",
       "      <td>3</td>\n",
       "      <td>50</td>\n",
       "      <td>13.109599590301514</td>\n",
       "    </tr>\n",
       "    <tr>\n",
       "      <th>29</th>\n",
       "      <td>0.429451</td>\n",
       "      <td>RPL4</td>\n",
       "      <td>GCN_lay3_chan64_emb32_dropout</td>\n",
       "      <td>1000</td>\n",
       "      <td>4</td>\n",
       "      <td>50</td>\n",
       "      <td>22.845555543899536</td>\n",
       "    </tr>\n",
       "  </tbody>\n",
       "</table>\n",
       "</div>"
      ],
      "text/plain": [
       "         auc  gene                          model num_genes seed train_size  \\\n",
       "0   0.575046  RPL4  GCN_lay3_chan64_emb32_dropout        50    0         50   \n",
       "1   0.500000  RPL4  GCN_lay3_chan64_emb32_dropout        50    1         50   \n",
       "2   0.544952  RPL4  GCN_lay3_chan64_emb32_dropout        50    2         50   \n",
       "3   0.500721  RPL4  GCN_lay3_chan64_emb32_dropout        50    3         50   \n",
       "4   0.497917  RPL4  GCN_lay3_chan64_emb32_dropout        50    4         50   \n",
       "5   0.466869  RPL4  GCN_lay3_chan64_emb32_dropout       100    0         50   \n",
       "6   0.469764  RPL4  GCN_lay3_chan64_emb32_dropout       100    1         50   \n",
       "7   0.500000  RPL4  GCN_lay3_chan64_emb32_dropout       100    2         50   \n",
       "8   0.500000  RPL4  GCN_lay3_chan64_emb32_dropout       100    3         50   \n",
       "9   0.476294  RPL4  GCN_lay3_chan64_emb32_dropout       100    4         50   \n",
       "10  0.500000  RPL4  GCN_lay3_chan64_emb32_dropout       200    0         50   \n",
       "11  0.494760  RPL4  GCN_lay3_chan64_emb32_dropout       200    1         50   \n",
       "12  0.498958  RPL4  GCN_lay3_chan64_emb32_dropout       200    2         50   \n",
       "13  0.463215  RPL4  GCN_lay3_chan64_emb32_dropout       200    3         50   \n",
       "14  0.500000  RPL4  GCN_lay3_chan64_emb32_dropout       200    4         50   \n",
       "15  0.584205  RPL4  GCN_lay3_chan64_emb32_dropout       300    0         50   \n",
       "16  0.559792  RPL4  GCN_lay3_chan64_emb32_dropout       300    1         50   \n",
       "17  0.508415  RPL4  GCN_lay3_chan64_emb32_dropout       300    2         50   \n",
       "18  0.743407  RPL4  GCN_lay3_chan64_emb32_dropout       300    3         50   \n",
       "19  0.531601  RPL4  GCN_lay3_chan64_emb32_dropout       300    4         50   \n",
       "20  0.536216  RPL4  GCN_lay3_chan64_emb32_dropout       500    0         50   \n",
       "21  0.522308  RPL4  GCN_lay3_chan64_emb32_dropout       500    1         50   \n",
       "22  0.510465  RPL4  GCN_lay3_chan64_emb32_dropout       500    2         50   \n",
       "23  0.500080  RPL4  GCN_lay3_chan64_emb32_dropout       500    3         50   \n",
       "24  0.503149  RPL4  GCN_lay3_chan64_emb32_dropout       500    4         50   \n",
       "25  0.373460  RPL4  GCN_lay3_chan64_emb32_dropout      1000    0         50   \n",
       "26  0.388205  RPL4  GCN_lay3_chan64_emb32_dropout      1000    1         50   \n",
       "27  0.393055  RPL4  GCN_lay3_chan64_emb32_dropout      1000    2         50   \n",
       "28  0.420996  RPL4  GCN_lay3_chan64_emb32_dropout      1000    3         50   \n",
       "29  0.429451  RPL4  GCN_lay3_chan64_emb32_dropout      1000    4         50   \n",
       "\n",
       "          time_elapsed  \n",
       "0    35.51251173019409  \n",
       "1    6.390526533126831  \n",
       "2   3.7114007472991943  \n",
       "3    3.427546977996826  \n",
       "4    3.657351016998291  \n",
       "5   3.0078303813934326  \n",
       "6   2.4217426776885986  \n",
       "7   4.3778393268585205  \n",
       "8    4.056507587432861  \n",
       "9   2.8931021690368652  \n",
       "10  4.7645416259765625  \n",
       "11  3.4718329906463623  \n",
       "12   5.110352277755737  \n",
       "13   3.497371196746826  \n",
       "14  4.9245359897613525  \n",
       "15  4.1122212409973145  \n",
       "16  4.0181825160980225  \n",
       "17   4.138023614883423  \n",
       "18   5.214395999908447  \n",
       "19   4.309355735778809  \n",
       "20  6.0265727043151855  \n",
       "21   6.230643272399902  \n",
       "22   5.721572399139404  \n",
       "23   9.355952024459839  \n",
       "24    6.66749906539917  \n",
       "25  13.499656200408936  \n",
       "26   12.50715184211731  \n",
       "27  13.020667314529419  \n",
       "28  13.109599590301514  \n",
       "29  22.845555543899536  "
      ]
     },
     "execution_count": 10,
     "metadata": {},
     "output_type": "execute_result"
    }
   ],
   "source": [
    "results"
   ]
  },
  {
   "cell_type": "code",
   "execution_count": 6,
   "metadata": {},
   "outputs": [
    {
     "ename": "TypeError",
     "evalue": "norm_laplacian() missing 1 required positional argument: 'n_clusters'",
     "output_type": "error",
     "traceback": [
      "\u001b[0;31m---------------------------------------------------------------------------\u001b[0m",
      "\u001b[0;31mTypeError\u001b[0m                                 Traceback (most recent call last)",
      "\u001b[0;32m<ipython-input-6-735bc6d8b13c>\u001b[0m in \u001b[0;36m<module>\u001b[0;34m\u001b[0m\n\u001b[1;32m      3\u001b[0m \u001b[0madj\u001b[0m \u001b[0;34m=\u001b[0m \u001b[0mnx\u001b[0m\u001b[0;34m.\u001b[0m\u001b[0mto_scipy_sparse_matrix\u001b[0m\u001b[0;34m(\u001b[0m\u001b[0mneighbors\u001b[0m\u001b[0;34m)\u001b[0m\u001b[0;34m\u001b[0m\u001b[0m\n\u001b[1;32m      4\u001b[0m \u001b[0;34m\u001b[0m\u001b[0m\n\u001b[0;32m----> 5\u001b[0;31m \u001b[0madjs\u001b[0m\u001b[0;34m,\u001b[0m \u001b[0mcentroids\u001b[0m \u001b[0;34m=\u001b[0m \u001b[0msetup_aggregates\u001b[0m\u001b[0;34m(\u001b[0m\u001b[0madj\u001b[0m\u001b[0;34m,\u001b[0m \u001b[0;36m3\u001b[0m\u001b[0;34m)\u001b[0m\u001b[0;34m\u001b[0m\u001b[0m\n\u001b[0m",
      "\u001b[0;32m~/gene-graph-conv/models/graph_layers.py\u001b[0m in \u001b[0;36msetup_aggregates\u001b[0;34m(adj, nb_layer, cluster_type)\u001b[0m\n\u001b[1;32m    170\u001b[0m     \u001b[0;31m# For each layer, build the adjs and the nodes to keep.\u001b[0m\u001b[0;34m\u001b[0m\u001b[0;34m\u001b[0m\u001b[0m\n\u001b[1;32m    171\u001b[0m     \u001b[0;32mfor\u001b[0m \u001b[0m_\u001b[0m \u001b[0;32min\u001b[0m \u001b[0mrange\u001b[0m\u001b[0;34m(\u001b[0m\u001b[0mnb_layer\u001b[0m\u001b[0;34m)\u001b[0m\u001b[0;34m:\u001b[0m\u001b[0;34m\u001b[0m\u001b[0m\n\u001b[0;32m--> 172\u001b[0;31m         \u001b[0madj\u001b[0m \u001b[0;34m=\u001b[0m \u001b[0mnorm_laplacian\u001b[0m\u001b[0;34m(\u001b[0m\u001b[0madj\u001b[0m\u001b[0;34m)\u001b[0m\u001b[0;34m\u001b[0m\u001b[0m\n\u001b[0m\u001b[1;32m    173\u001b[0m         \u001b[0;31m# Do the clustering\u001b[0m\u001b[0;34m\u001b[0m\u001b[0;34m\u001b[0m\u001b[0m\n\u001b[1;32m    174\u001b[0m \u001b[0;34m\u001b[0m\u001b[0m\n",
      "\u001b[0;31mTypeError\u001b[0m: norm_laplacian() missing 1 required positional argument: 'n_clusters'"
     ]
    }
   ],
   "source": []
  },
  {
   "cell_type": "code",
   "execution_count": 18,
   "metadata": {},
   "outputs": [
    {
     "ename": "NameError",
     "evalue": "name 'reload' is not defined",
     "output_type": "error",
     "traceback": [
      "\u001b[0;31m---------------------------------------------------------------------------\u001b[0m",
      "\u001b[0;31mNameError\u001b[0m                                 Traceback (most recent call last)",
      "\u001b[0;32m<ipython-input-18-a093f5bc2493>\u001b[0m in \u001b[0;36m<module>\u001b[0;34m\u001b[0m\n\u001b[0;32m----> 1\u001b[0;31m \u001b[0mreload\u001b[0m\u001b[0;34m(\u001b[0m\u001b[0mmodels\u001b[0m\u001b[0;34m.\u001b[0m\u001b[0mgraph_layers\u001b[0m\u001b[0;34m)\u001b[0m\u001b[0;34m\u001b[0m\u001b[0m\n\u001b[0m",
      "\u001b[0;31mNameError\u001b[0m: name 'reload' is not defined"
     ]
    }
   ],
   "source": [
    "adjs"
   ]
  },
  {
   "cell_type": "code",
   "execution_count": null,
   "metadata": {},
   "outputs": [],
   "source": []
  },
  {
   "cell_type": "code",
   "execution_count": 6,
   "metadata": {},
   "outputs": [],
   "source": [
    "from collections import defaultdict"
   ]
  },
  {
   "cell_type": "code",
   "execution_count": 80,
   "metadata": {},
   "outputs": [],
   "source": [
    "\n"
   ]
  },
  {
   "cell_type": "code",
   "execution_count": 84,
   "metadata": {},
   "outputs": [],
   "source": [
    "clusters = sklearn.cluster.AgglomerativeClustering(n_clusters=20, affinity='euclidean',\n",
    "                                                     memory='.cache', connectivity=adj,\n",
    "                                                     compute_full_tree='auto', linkage='ward').fit_predict(adj.toarray())\n"
   ]
  },
  {
   "cell_type": "code",
   "execution_count": 11,
   "metadata": {},
   "outputs": [],
   "source": [
    "clusters = np.load(\".cache/kmeans1f5b9922ed8e7a7b61c15e7442c799be6d22d58a83bd6f68c4bfc9c726613d088150.npy\")\n"
   ]
  },
  {
   "cell_type": "code",
   "execution_count": 85,
   "metadata": {},
   "outputs": [],
   "source": [
    "nx_adj = nx.OrderedGraph(nx.from_scipy_sparse_matrix(adj))\n",
    "cluster_dict = defaultdict(list)\n"
   ]
  },
  {
   "cell_type": "code",
   "execution_count": 13,
   "metadata": {},
   "outputs": [],
   "source": [
    "n_clusters = len(set(clusters))\n"
   ]
  },
  {
   "cell_type": "code",
   "execution_count": 144,
   "metadata": {},
   "outputs": [
    {
     "data": {
      "text/plain": [
       "<50x50 sparse matrix of type '<class 'numpy.float64'>'\n",
       "\twith 784 stored elements in COOrdinate format>"
      ]
     },
     "execution_count": 144,
     "metadata": {},
     "output_type": "execute_result"
    }
   ],
   "source": [
    "coo"
   ]
  },
  {
   "cell_type": "code",
   "execution_count": 142,
   "metadata": {},
   "outputs": [],
   "source": [
    "new = sparse.csr_matrix((n_clusters, n_clusters))"
   ]
  },
  {
   "cell_type": "code",
   "execution_count": 184,
   "metadata": {},
   "outputs": [
    {
     "data": {
      "text/plain": [
       "<50x50 sparse matrix of type '<class 'numpy.float64'>'\n",
       "\twith 141 stored elements in Compressed Sparse Row format>"
      ]
     },
     "execution_count": 184,
     "metadata": {},
     "output_type": "execute_result"
    }
   ],
   "source": [
    "coo.tocsr()"
   ]
  },
  {
   "cell_type": "code",
   "execution_count": 180,
   "metadata": {},
   "outputs": [
    {
     "data": {
      "text/plain": [
       "<50x50 sparse matrix of type '<class 'numpy.float64'>'\n",
       "\twith 141 stored elements in Compressed Sparse Row format>"
      ]
     },
     "execution_count": 180,
     "metadata": {},
     "output_type": "execute_result"
    }
   ],
   "source": [
    "cleaned = defaultdict(list)\n",
    "for i, cluster in enumerate(clusters):\n",
    "    cleaned[i] = min(np.argwhere(clusters == cluster).flatten())\n",
    "    \n",
    "coo = adj.tocoo()\n",
    "for i, col in enumerate(coo.__dict__[\"col\"]):\n",
    "    coo.__dict__[\"col\"][i] = cleaned[col]\n",
    "for i, row in enumerate(coo.__dict__[\"row\"]):\n",
    "    coo.__dict__[\"row\"][i] = cleaned[row]\n",
    "coo.tocsr()"
   ]
  },
  {
   "cell_type": "code",
   "execution_count": 174,
   "metadata": {},
   "outputs": [],
   "source": []
  },
  {
   "cell_type": "code",
   "execution_count": 165,
   "metadata": {},
   "outputs": [
    {
     "data": {
      "text/plain": [
       "defaultdict(list,\n",
       "            {0: array([0]),\n",
       "             1: array([1]),\n",
       "             2: array([ 2,  3,  4,  5,  9, 10, 11, 13, 15, 20, 22, 27, 28, 31, 32, 33, 34,\n",
       "                    36, 42, 43, 44, 46]),\n",
       "             3: array([ 2,  3,  4,  5,  9, 10, 11, 13, 15, 20, 22, 27, 28, 31, 32, 33, 34,\n",
       "                    36, 42, 43, 44, 46]),\n",
       "             4: array([ 2,  3,  4,  5,  9, 10, 11, 13, 15, 20, 22, 27, 28, 31, 32, 33, 34,\n",
       "                    36, 42, 43, 44, 46]),\n",
       "             5: array([ 2,  3,  4,  5,  9, 10, 11, 13, 15, 20, 22, 27, 28, 31, 32, 33, 34,\n",
       "                    36, 42, 43, 44, 46]),\n",
       "             6: array([ 6,  7, 37, 39]),\n",
       "             7: array([ 6,  7, 37, 39]),\n",
       "             8: array([ 8, 30, 45, 49]),\n",
       "             9: array([ 2,  3,  4,  5,  9, 10, 11, 13, 15, 20, 22, 27, 28, 31, 32, 33, 34,\n",
       "                    36, 42, 43, 44, 46]),\n",
       "             10: array([ 2,  3,  4,  5,  9, 10, 11, 13, 15, 20, 22, 27, 28, 31, 32, 33, 34,\n",
       "                    36, 42, 43, 44, 46]),\n",
       "             11: array([ 2,  3,  4,  5,  9, 10, 11, 13, 15, 20, 22, 27, 28, 31, 32, 33, 34,\n",
       "                    36, 42, 43, 44, 46]),\n",
       "             12: array([12]),\n",
       "             13: array([ 2,  3,  4,  5,  9, 10, 11, 13, 15, 20, 22, 27, 28, 31, 32, 33, 34,\n",
       "                    36, 42, 43, 44, 46]),\n",
       "             14: array([14]),\n",
       "             15: array([ 2,  3,  4,  5,  9, 10, 11, 13, 15, 20, 22, 27, 28, 31, 32, 33, 34,\n",
       "                    36, 42, 43, 44, 46]),\n",
       "             16: array([16]),\n",
       "             17: array([17, 38, 40]),\n",
       "             18: array([18]),\n",
       "             19: array([19]),\n",
       "             20: array([ 2,  3,  4,  5,  9, 10, 11, 13, 15, 20, 22, 27, 28, 31, 32, 33, 34,\n",
       "                    36, 42, 43, 44, 46]),\n",
       "             21: array([21]),\n",
       "             22: array([ 2,  3,  4,  5,  9, 10, 11, 13, 15, 20, 22, 27, 28, 31, 32, 33, 34,\n",
       "                    36, 42, 43, 44, 46]),\n",
       "             23: array([23]),\n",
       "             24: array([24]),\n",
       "             25: array([25]),\n",
       "             26: array([26, 48]),\n",
       "             27: array([ 2,  3,  4,  5,  9, 10, 11, 13, 15, 20, 22, 27, 28, 31, 32, 33, 34,\n",
       "                    36, 42, 43, 44, 46]),\n",
       "             28: array([ 2,  3,  4,  5,  9, 10, 11, 13, 15, 20, 22, 27, 28, 31, 32, 33, 34,\n",
       "                    36, 42, 43, 44, 46]),\n",
       "             29: array([29]),\n",
       "             30: array([ 8, 30, 45, 49]),\n",
       "             31: array([ 2,  3,  4,  5,  9, 10, 11, 13, 15, 20, 22, 27, 28, 31, 32, 33, 34,\n",
       "                    36, 42, 43, 44, 46]),\n",
       "             32: array([ 2,  3,  4,  5,  9, 10, 11, 13, 15, 20, 22, 27, 28, 31, 32, 33, 34,\n",
       "                    36, 42, 43, 44, 46]),\n",
       "             33: array([ 2,  3,  4,  5,  9, 10, 11, 13, 15, 20, 22, 27, 28, 31, 32, 33, 34,\n",
       "                    36, 42, 43, 44, 46]),\n",
       "             34: array([ 2,  3,  4,  5,  9, 10, 11, 13, 15, 20, 22, 27, 28, 31, 32, 33, 34,\n",
       "                    36, 42, 43, 44, 46]),\n",
       "             35: array([35]),\n",
       "             36: array([ 2,  3,  4,  5,  9, 10, 11, 13, 15, 20, 22, 27, 28, 31, 32, 33, 34,\n",
       "                    36, 42, 43, 44, 46]),\n",
       "             37: array([ 6,  7, 37, 39]),\n",
       "             38: array([17, 38, 40]),\n",
       "             39: array([ 6,  7, 37, 39]),\n",
       "             40: array([17, 38, 40]),\n",
       "             41: array([41]),\n",
       "             42: array([ 2,  3,  4,  5,  9, 10, 11, 13, 15, 20, 22, 27, 28, 31, 32, 33, 34,\n",
       "                    36, 42, 43, 44, 46]),\n",
       "             43: array([ 2,  3,  4,  5,  9, 10, 11, 13, 15, 20, 22, 27, 28, 31, 32, 33, 34,\n",
       "                    36, 42, 43, 44, 46]),\n",
       "             44: array([ 2,  3,  4,  5,  9, 10, 11, 13, 15, 20, 22, 27, 28, 31, 32, 33, 34,\n",
       "                    36, 42, 43, 44, 46]),\n",
       "             45: array([ 8, 30, 45, 49]),\n",
       "             46: array([ 2,  3,  4,  5,  9, 10, 11, 13, 15, 20, 22, 27, 28, 31, 32, 33, 34,\n",
       "                    36, 42, 43, 44, 46]),\n",
       "             47: array([47]),\n",
       "             48: array([26, 48]),\n",
       "             49: array([ 8, 30, 45, 49])})"
      ]
     },
     "execution_count": 165,
     "metadata": {},
     "output_type": "execute_result"
    }
   ],
   "source": []
  },
  {
   "cell_type": "code",
   "execution_count": 101,
   "metadata": {},
   "outputs": [
    {
     "data": {
      "text/plain": [
       "array([0.    , 0.06  , 0.013 , 0.011 , 0.012 , 0.0016, 0.01  , 0.011 ,\n",
       "       0.0079, 0.0033, 0.0011, 0.0084, 0.029 , 0.0039, 0.092 , 0.012 ,\n",
       "       0.014 , 0.015 , 0.053 , 0.11  , 0.014 , 0.01  , 0.002 , 0.037 ,\n",
       "       0.12  , 0.094 , 0.012 , 0.019 , 0.0052, 0.034 , 0.0073, 0.019 ,\n",
       "       0.0021, 0.0018, 0.0043, 0.046 , 0.0024, 0.0079, 0.011 , 0.0069,\n",
       "       0.016 , 0.043 , 0.014 , 0.0038, 0.018 , 0.0071, 0.0059, 0.012 ,\n",
       "       0.0074, 0.012 ])"
      ]
     },
     "execution_count": 101,
     "metadata": {},
     "output_type": "execute_result"
    }
   ],
   "source": [
    "adj.toarray()"
   ]
  },
  {
   "cell_type": "code",
   "execution_count": 105,
   "metadata": {},
   "outputs": [
    {
     "data": {
      "text/plain": [
       "array([0.0358, 0.042 , 0.0343, 0.012 , 0.1778, 0.094 , 0.0194, 0.046 ,\n",
       "       0.043 , 0.11  , 0.06  , 0.092 , 0.12  , 0.053 , 0.01  , 0.014 ,\n",
       "       0.037 , 0.029 , 0.034 , 0.    , 0.    , 0.    , 0.    , 0.    ,\n",
       "       0.    , 0.    , 0.    , 0.    , 0.    , 0.    , 0.    , 0.    ,\n",
       "       0.    , 0.    , 0.    , 0.    , 0.    , 0.    , 0.    , 0.    ,\n",
       "       0.    , 0.    , 0.    , 0.    , 0.    , 0.    , 0.    , 0.    ,\n",
       "       0.    , 0.    ])"
      ]
     },
     "execution_count": 105,
     "metadata": {},
     "output_type": "execute_result"
    }
   ],
   "source": [
    "coo.toarray()[19]"
   ]
  },
  {
   "cell_type": "code",
   "execution_count": 25,
   "metadata": {},
   "outputs": [
    {
     "name": "stderr",
     "output_type": "stream",
     "text": [
      "/Users/martinweiss/code/academic/conv-graph/venv/lib/python3.5/site-packages/ipykernel_launcher.py:8: SparseEfficiencyWarning: Changing the sparsity structure of a csr_matrix is expensive. lil_matrix is more efficient.\n",
      "  \n"
     ]
    },
    {
     "ename": "KeyboardInterrupt",
     "evalue": "",
     "output_type": "error",
     "traceback": [
      "\u001b[0;31m---------------------------------------------------------------------------\u001b[0m",
      "\u001b[0;31mKeyboardInterrupt\u001b[0m                         Traceback (most recent call last)",
      "\u001b[0;32m<ipython-input-25-c50469a74587>\u001b[0m in \u001b[0;36m<module>\u001b[0;34m\u001b[0m\n\u001b[1;32m      6\u001b[0m \u001b[0;32mfor\u001b[0m \u001b[0mi\u001b[0m\u001b[0;34m,\u001b[0m \u001b[0mcluster\u001b[0m \u001b[0;32min\u001b[0m \u001b[0menumerate\u001b[0m\u001b[0;34m(\u001b[0m\u001b[0mclusters\u001b[0m\u001b[0;34m)\u001b[0m\u001b[0;34m:\u001b[0m\u001b[0;34m\u001b[0m\u001b[0m\n\u001b[1;32m      7\u001b[0m     \u001b[0;32mfor\u001b[0m \u001b[0mindex\u001b[0m \u001b[0;32min\u001b[0m \u001b[0mnp\u001b[0m\u001b[0;34m.\u001b[0m\u001b[0margwhere\u001b[0m\u001b[0;34m(\u001b[0m\u001b[0mclusters\u001b[0m \u001b[0;34m==\u001b[0m \u001b[0mcluster\u001b[0m\u001b[0;34m)\u001b[0m\u001b[0;34m:\u001b[0m\u001b[0;34m\u001b[0m\u001b[0m\n\u001b[0;32m----> 8\u001b[0;31m         \u001b[0mcluster_adj\u001b[0m\u001b[0;34m[\u001b[0m\u001b[0mcluster\u001b[0m\u001b[0;34m]\u001b[0m \u001b[0;34m+=\u001b[0m \u001b[0madj\u001b[0m\u001b[0;34m[\u001b[0m\u001b[0mindex\u001b[0m\u001b[0;34m]\u001b[0m\u001b[0;31m#.sum(axis=1).T)[0]\u001b[0m\u001b[0;34m\u001b[0m\u001b[0m\n\u001b[0m\u001b[1;32m      9\u001b[0m \u001b[0;34m\u001b[0m\u001b[0m\n\u001b[1;32m     10\u001b[0m \u001b[0mprint\u001b[0m\u001b[0;34m(\u001b[0m\u001b[0mstart\u001b[0m \u001b[0;34m-\u001b[0m \u001b[0mtime\u001b[0m\u001b[0;34m.\u001b[0m\u001b[0mtime\u001b[0m\u001b[0;34m(\u001b[0m\u001b[0;34m)\u001b[0m\u001b[0;34m)\u001b[0m\u001b[0;34m\u001b[0m\u001b[0m\n",
      "\u001b[0;32m~/code/academic/conv-graph/venv/lib/python3.5/site-packages/scipy/sparse/compressed.py\u001b[0m in \u001b[0;36m__setitem__\u001b[0;34m(self, index, x)\u001b[0m\n\u001b[1;32m    648\u001b[0m             \u001b[0;31m# clear entries that will be overwritten\u001b[0m\u001b[0;34m\u001b[0m\u001b[0;34m\u001b[0m\u001b[0m\n\u001b[1;32m    649\u001b[0m             \u001b[0mci\u001b[0m\u001b[0;34m,\u001b[0m \u001b[0mcj\u001b[0m \u001b[0;34m=\u001b[0m \u001b[0mself\u001b[0m\u001b[0;34m.\u001b[0m\u001b[0m_swap\u001b[0m\u001b[0;34m(\u001b[0m\u001b[0;34m(\u001b[0m\u001b[0mi\u001b[0m\u001b[0;34m.\u001b[0m\u001b[0mravel\u001b[0m\u001b[0;34m(\u001b[0m\u001b[0;34m)\u001b[0m\u001b[0;34m,\u001b[0m \u001b[0mj\u001b[0m\u001b[0;34m.\u001b[0m\u001b[0mravel\u001b[0m\u001b[0;34m(\u001b[0m\u001b[0;34m)\u001b[0m\u001b[0;34m)\u001b[0m\u001b[0;34m)\u001b[0m\u001b[0;34m\u001b[0m\u001b[0m\n\u001b[0;32m--> 650\u001b[0;31m             \u001b[0mself\u001b[0m\u001b[0;34m.\u001b[0m\u001b[0m_zero_many\u001b[0m\u001b[0;34m(\u001b[0m\u001b[0mci\u001b[0m\u001b[0;34m,\u001b[0m \u001b[0mcj\u001b[0m\u001b[0;34m)\u001b[0m\u001b[0;34m\u001b[0m\u001b[0m\n\u001b[0m\u001b[1;32m    651\u001b[0m \u001b[0;34m\u001b[0m\u001b[0m\n\u001b[1;32m    652\u001b[0m             \u001b[0mx\u001b[0m \u001b[0;34m=\u001b[0m \u001b[0mx\u001b[0m\u001b[0;34m.\u001b[0m\u001b[0mtocoo\u001b[0m\u001b[0;34m(\u001b[0m\u001b[0mcopy\u001b[0m\u001b[0;34m=\u001b[0m\u001b[0;32mTrue\u001b[0m\u001b[0;34m)\u001b[0m\u001b[0;34m\u001b[0m\u001b[0m\n",
      "\u001b[0;32m~/code/academic/conv-graph/venv/lib/python3.5/site-packages/scipy/sparse/compressed.py\u001b[0m in \u001b[0;36m_zero_many\u001b[0;34m(self, i, j)\u001b[0m\n\u001b[1;32m    772\u001b[0m         \u001b[0mHere\u001b[0m \u001b[0;34m(\u001b[0m\u001b[0mi\u001b[0m\u001b[0;34m,\u001b[0m\u001b[0mj\u001b[0m\u001b[0;34m)\u001b[0m \u001b[0mindex\u001b[0m \u001b[0mmajor\u001b[0m \u001b[0;32mand\u001b[0m \u001b[0mminor\u001b[0m \u001b[0mrespectively\u001b[0m\u001b[0;34m.\u001b[0m\u001b[0;34m\u001b[0m\u001b[0m\n\u001b[1;32m    773\u001b[0m         \"\"\"\n\u001b[0;32m--> 774\u001b[0;31m         \u001b[0mi\u001b[0m\u001b[0;34m,\u001b[0m \u001b[0mj\u001b[0m\u001b[0;34m,\u001b[0m \u001b[0mM\u001b[0m\u001b[0;34m,\u001b[0m \u001b[0mN\u001b[0m \u001b[0;34m=\u001b[0m \u001b[0mself\u001b[0m\u001b[0;34m.\u001b[0m\u001b[0m_prepare_indices\u001b[0m\u001b[0;34m(\u001b[0m\u001b[0mi\u001b[0m\u001b[0;34m,\u001b[0m \u001b[0mj\u001b[0m\u001b[0;34m)\u001b[0m\u001b[0;34m\u001b[0m\u001b[0m\n\u001b[0m\u001b[1;32m    775\u001b[0m \u001b[0;34m\u001b[0m\u001b[0m\n\u001b[1;32m    776\u001b[0m         \u001b[0mn_samples\u001b[0m \u001b[0;34m=\u001b[0m \u001b[0mlen\u001b[0m\u001b[0;34m(\u001b[0m\u001b[0mi\u001b[0m\u001b[0;34m)\u001b[0m\u001b[0;34m\u001b[0m\u001b[0m\n",
      "\u001b[0;32m~/code/academic/conv-graph/venv/lib/python3.5/site-packages/scipy/sparse/compressed.py\u001b[0m in \u001b[0;36m_prepare_indices\u001b[0;34m(self, i, j)\u001b[0m\n\u001b[1;32m    721\u001b[0m                                  (idx, bound))\n\u001b[1;32m    722\u001b[0m \u001b[0;34m\u001b[0m\u001b[0m\n\u001b[0;32m--> 723\u001b[0;31m         \u001b[0mcheck_bounds\u001b[0m\u001b[0;34m(\u001b[0m\u001b[0mi\u001b[0m\u001b[0;34m,\u001b[0m \u001b[0mM\u001b[0m\u001b[0;34m)\u001b[0m\u001b[0;34m\u001b[0m\u001b[0m\n\u001b[0m\u001b[1;32m    724\u001b[0m         \u001b[0mcheck_bounds\u001b[0m\u001b[0;34m(\u001b[0m\u001b[0mj\u001b[0m\u001b[0;34m,\u001b[0m \u001b[0mN\u001b[0m\u001b[0;34m)\u001b[0m\u001b[0;34m\u001b[0m\u001b[0m\n\u001b[1;32m    725\u001b[0m \u001b[0;34m\u001b[0m\u001b[0m\n",
      "\u001b[0;32m~/code/academic/conv-graph/venv/lib/python3.5/site-packages/scipy/sparse/compressed.py\u001b[0m in \u001b[0;36mcheck_bounds\u001b[0;34m(indices, bound)\u001b[0m\n\u001b[1;32m    712\u001b[0m \u001b[0;34m\u001b[0m\u001b[0m\n\u001b[1;32m    713\u001b[0m         \u001b[0;32mdef\u001b[0m \u001b[0mcheck_bounds\u001b[0m\u001b[0;34m(\u001b[0m\u001b[0mindices\u001b[0m\u001b[0;34m,\u001b[0m \u001b[0mbound\u001b[0m\u001b[0;34m)\u001b[0m\u001b[0;34m:\u001b[0m\u001b[0;34m\u001b[0m\u001b[0m\n\u001b[0;32m--> 714\u001b[0;31m             \u001b[0midx\u001b[0m \u001b[0;34m=\u001b[0m \u001b[0mindices\u001b[0m\u001b[0;34m.\u001b[0m\u001b[0mmax\u001b[0m\u001b[0;34m(\u001b[0m\u001b[0;34m)\u001b[0m\u001b[0;34m\u001b[0m\u001b[0m\n\u001b[0m\u001b[1;32m    715\u001b[0m             \u001b[0;32mif\u001b[0m \u001b[0midx\u001b[0m \u001b[0;34m>=\u001b[0m \u001b[0mbound\u001b[0m\u001b[0;34m:\u001b[0m\u001b[0;34m\u001b[0m\u001b[0m\n\u001b[1;32m    716\u001b[0m                 raise IndexError('index (%d) out of range (>= %d)' %\n",
      "\u001b[0;32m~/code/academic/conv-graph/venv/lib/python3.5/site-packages/numpy/core/_methods.py\u001b[0m in \u001b[0;36m_amax\u001b[0;34m(a, axis, out, keepdims, initial)\u001b[0m\n\u001b[1;32m     26\u001b[0m def _amax(a, axis=None, out=None, keepdims=False,\n\u001b[1;32m     27\u001b[0m           initial=_NoValue):\n\u001b[0;32m---> 28\u001b[0;31m     \u001b[0;32mreturn\u001b[0m \u001b[0mumr_maximum\u001b[0m\u001b[0;34m(\u001b[0m\u001b[0ma\u001b[0m\u001b[0;34m,\u001b[0m \u001b[0maxis\u001b[0m\u001b[0;34m,\u001b[0m \u001b[0;32mNone\u001b[0m\u001b[0;34m,\u001b[0m \u001b[0mout\u001b[0m\u001b[0;34m,\u001b[0m \u001b[0mkeepdims\u001b[0m\u001b[0;34m,\u001b[0m \u001b[0minitial\u001b[0m\u001b[0;34m)\u001b[0m\u001b[0;34m\u001b[0m\u001b[0m\n\u001b[0m\u001b[1;32m     29\u001b[0m \u001b[0;34m\u001b[0m\u001b[0m\n\u001b[1;32m     30\u001b[0m def _amin(a, axis=None, out=None, keepdims=False,\n",
      "\u001b[0;31mKeyboardInterrupt\u001b[0m: "
     ]
    }
   ],
   "source": [
    "cluster_adj = sparse.csr_matrix(np.zeros((n_clusters, adj.shape[0])))\n",
    "\n",
    "start = time.time()\n",
    "\n",
    "cluster_dict = defaultdict(list)\n",
    "for i, cluster in enumerate(clusters):\n",
    "    for index in np.argwhere(clusters == cluster):\n",
    "        cluster_adj[cluster] += adj[index]\n",
    "\n",
    "print(start - time.time())"
   ]
  },
  {
   "cell_type": "code",
   "execution_count": null,
   "metadata": {},
   "outputs": [],
   "source": [
    "cluster_adj"
   ]
  },
  {
   "cell_type": "code",
   "execution_count": 9,
   "metadata": {},
   "outputs": [
    {
     "ename": "NameError",
     "evalue": "name 'n_clusters' is not defined",
     "output_type": "error",
     "traceback": [
      "\u001b[0;31m---------------------------------------------------------------------------\u001b[0m",
      "\u001b[0;31mNameError\u001b[0m                                 Traceback (most recent call last)",
      "\u001b[0;32m<ipython-input-9-1fee949b280d>\u001b[0m in \u001b[0;36m<module>\u001b[0;34m\u001b[0m\n\u001b[0;32m----> 1\u001b[0;31m \u001b[0mcluster_adj\u001b[0m \u001b[0;34m=\u001b[0m \u001b[0mnp\u001b[0m\u001b[0;34m.\u001b[0m\u001b[0mzeros\u001b[0m\u001b[0;34m(\u001b[0m\u001b[0;34m(\u001b[0m\u001b[0mn_clusters\u001b[0m\u001b[0;34m,\u001b[0m \u001b[0madj\u001b[0m\u001b[0;34m.\u001b[0m\u001b[0mshape\u001b[0m\u001b[0;34m[\u001b[0m\u001b[0;36m0\u001b[0m\u001b[0;34m]\u001b[0m\u001b[0;34m)\u001b[0m\u001b[0;34m)\u001b[0m\u001b[0;34m\u001b[0m\u001b[0m\n\u001b[0m\u001b[1;32m      2\u001b[0m \u001b[0mcluster_dict\u001b[0m \u001b[0;34m=\u001b[0m \u001b[0mdefaultdict\u001b[0m\u001b[0;34m(\u001b[0m\u001b[0mlist\u001b[0m\u001b[0;34m)\u001b[0m\u001b[0;34m\u001b[0m\u001b[0m\n\u001b[1;32m      3\u001b[0m \u001b[0;32mfor\u001b[0m \u001b[0mi\u001b[0m\u001b[0;34m,\u001b[0m \u001b[0mcluster\u001b[0m \u001b[0;32min\u001b[0m \u001b[0menumerate\u001b[0m\u001b[0;34m(\u001b[0m\u001b[0mclusters\u001b[0m\u001b[0;34m)\u001b[0m\u001b[0;34m:\u001b[0m\u001b[0;34m\u001b[0m\u001b[0m\n\u001b[1;32m      4\u001b[0m     \u001b[0mindices\u001b[0m \u001b[0;34m=\u001b[0m \u001b[0mnp\u001b[0m\u001b[0;34m.\u001b[0m\u001b[0margwhere\u001b[0m\u001b[0;34m(\u001b[0m\u001b[0mclusters\u001b[0m \u001b[0;34m==\u001b[0m \u001b[0mcluster\u001b[0m\u001b[0;34m)\u001b[0m\u001b[0;34m\u001b[0m\u001b[0m\n\u001b[1;32m      5\u001b[0m     \u001b[0mcluster_adj\u001b[0m\u001b[0;34m[\u001b[0m\u001b[0mcluster\u001b[0m\u001b[0;34m]\u001b[0m \u001b[0;34m+=\u001b[0m \u001b[0madj\u001b[0m\u001b[0;34m[\u001b[0m\u001b[0;34m:\u001b[0m\u001b[0;34m,\u001b[0m \u001b[0mindices\u001b[0m\u001b[0;34m.\u001b[0m\u001b[0mflatten\u001b[0m\u001b[0;34m(\u001b[0m\u001b[0;34m)\u001b[0m\u001b[0;34m]\u001b[0m\u001b[0;34m.\u001b[0m\u001b[0msum\u001b[0m\u001b[0;34m(\u001b[0m\u001b[0maxis\u001b[0m\u001b[0;34m=\u001b[0m\u001b[0;36m1\u001b[0m\u001b[0;34m)\u001b[0m\u001b[0;34m\u001b[0m\u001b[0m\n",
      "\u001b[0;31mNameError\u001b[0m: name 'n_clusters' is not defined"
     ]
    }
   ],
   "source": []
  },
  {
   "cell_type": "code",
   "execution_count": 10,
   "metadata": {},
   "outputs": [
    {
     "ename": "NameError",
     "evalue": "name 'clusters' is not defined",
     "output_type": "error",
     "traceback": [
      "\u001b[0;31m---------------------------------------------------------------------------\u001b[0m",
      "\u001b[0;31mNameError\u001b[0m                                 Traceback (most recent call last)",
      "\u001b[0;32m<ipython-input-10-d17f7773b0b5>\u001b[0m in \u001b[0;36m<module>\u001b[0;34m\u001b[0m\n\u001b[0;32m----> 1\u001b[0;31m \u001b[0mn_clusters\u001b[0m \u001b[0;34m=\u001b[0m \u001b[0mlen\u001b[0m\u001b[0;34m(\u001b[0m\u001b[0mset\u001b[0m\u001b[0;34m(\u001b[0m\u001b[0mclusters\u001b[0m\u001b[0;34m)\u001b[0m\u001b[0;34m)\u001b[0m\u001b[0;34m\u001b[0m\u001b[0m\n\u001b[0m\u001b[1;32m      2\u001b[0m \u001b[0madj\u001b[0m \u001b[0;34m=\u001b[0m \u001b[0mnx\u001b[0m\u001b[0;34m.\u001b[0m\u001b[0mOrderedGraph\u001b[0m\u001b[0;34m(\u001b[0m\u001b[0mnx\u001b[0m\u001b[0;34m.\u001b[0m\u001b[0mfrom_scipy_sparse_matrix\u001b[0m\u001b[0;34m(\u001b[0m\u001b[0madj\u001b[0m\u001b[0;34m)\u001b[0m\u001b[0;34m)\u001b[0m\u001b[0;34m\u001b[0m\u001b[0m\n",
      "\u001b[0;31mNameError\u001b[0m: name 'clusters' is not defined"
     ]
    }
   ],
   "source": []
  },
  {
   "cell_type": "code",
   "execution_count": 51,
   "metadata": {},
   "outputs": [],
   "source": [
    "cluster_dict = defaultdict(list)\n",
    "for i, cluster in enumerate(ids):\n",
    "    cluster_dict[cluster].append(i)\n"
   ]
  },
  {
   "cell_type": "code",
   "execution_count": 52,
   "metadata": {},
   "outputs": [
    {
     "ename": "KeyboardInterrupt",
     "evalue": "",
     "output_type": "error",
     "traceback": [
      "\u001b[0;31m---------------------------------------------------------------------------\u001b[0m",
      "\u001b[0;31mKeyboardInterrupt\u001b[0m                         Traceback (most recent call last)",
      "\u001b[0;32m<ipython-input-52-5c63bd236b6a>\u001b[0m in \u001b[0;36m<module>\u001b[0;34m\u001b[0m\n\u001b[1;32m      2\u001b[0m     \u001b[0mfirst_node\u001b[0m \u001b[0;34m=\u001b[0m \u001b[0mval\u001b[0m\u001b[0;34m[\u001b[0m\u001b[0;36m0\u001b[0m\u001b[0;34m]\u001b[0m\u001b[0;34m\u001b[0m\u001b[0m\n\u001b[1;32m      3\u001b[0m     \u001b[0;32mfor\u001b[0m \u001b[0mother_node\u001b[0m \u001b[0;32min\u001b[0m \u001b[0mval\u001b[0m\u001b[0;34m[\u001b[0m\u001b[0;36m1\u001b[0m\u001b[0;34m:\u001b[0m\u001b[0;34m]\u001b[0m\u001b[0;34m:\u001b[0m\u001b[0;34m\u001b[0m\u001b[0m\n\u001b[0;32m----> 4\u001b[0;31m         \u001b[0madj\u001b[0m \u001b[0;34m=\u001b[0m \u001b[0mnx\u001b[0m\u001b[0;34m.\u001b[0m\u001b[0mcontracted_nodes\u001b[0m\u001b[0;34m(\u001b[0m\u001b[0madj\u001b[0m\u001b[0;34m,\u001b[0m \u001b[0mfirst_node\u001b[0m\u001b[0;34m,\u001b[0m \u001b[0mother_node\u001b[0m\u001b[0;34m)\u001b[0m\u001b[0;34m\u001b[0m\u001b[0m\n\u001b[0m\u001b[1;32m      5\u001b[0m \u001b[0madj\u001b[0m \u001b[0;34m=\u001b[0m \u001b[0mnx\u001b[0m\u001b[0;34m.\u001b[0m\u001b[0mto_scipy_sparse_matrix\u001b[0m\u001b[0;34m(\u001b[0m\u001b[0madj\u001b[0m\u001b[0;34m)\u001b[0m\u001b[0;34m\u001b[0m\u001b[0m\n",
      "\u001b[0;32m~/code/academic/conv-graph/venv/lib/python3.5/site-packages/networkx/algorithms/minors.py\u001b[0m in \u001b[0;36mcontracted_nodes\u001b[0;34m(G, u, v, self_loops)\u001b[0m\n\u001b[1;32m    359\u001b[0m     \u001b[0mThis\u001b[0m \u001b[0mfunction\u001b[0m \u001b[0;32mis\u001b[0m \u001b[0malso\u001b[0m \u001b[0mavailable\u001b[0m \u001b[0;32mas\u001b[0m\u001b[0;31m \u001b[0m\u001b[0;31m`\u001b[0m\u001b[0midentified_nodes\u001b[0m\u001b[0;31m`\u001b[0m\u001b[0;34m.\u001b[0m\u001b[0;34m\u001b[0m\u001b[0m\n\u001b[1;32m    360\u001b[0m     \"\"\"\n\u001b[0;32m--> 361\u001b[0;31m     \u001b[0mH\u001b[0m \u001b[0;34m=\u001b[0m \u001b[0mG\u001b[0m\u001b[0;34m.\u001b[0m\u001b[0mcopy\u001b[0m\u001b[0;34m(\u001b[0m\u001b[0;34m)\u001b[0m\u001b[0;34m\u001b[0m\u001b[0m\n\u001b[0m\u001b[1;32m    362\u001b[0m     \u001b[0;31m# edge code uses G.edges(v) instead of G.adj[v] to handle multiedges\u001b[0m\u001b[0;34m\u001b[0m\u001b[0;34m\u001b[0m\u001b[0m\n\u001b[1;32m    363\u001b[0m     \u001b[0;32mif\u001b[0m \u001b[0mH\u001b[0m\u001b[0;34m.\u001b[0m\u001b[0mis_directed\u001b[0m\u001b[0;34m(\u001b[0m\u001b[0;34m)\u001b[0m\u001b[0;34m:\u001b[0m\u001b[0;34m\u001b[0m\u001b[0m\n",
      "\u001b[0;32m~/code/academic/conv-graph/venv/lib/python3.5/site-packages/networkx/classes/graph.py\u001b[0m in \u001b[0;36mcopy\u001b[0;34m(self, as_view)\u001b[0m\n\u001b[1;32m   1530\u001b[0m         \u001b[0mG\u001b[0m\u001b[0;34m.\u001b[0m\u001b[0madd_nodes_from\u001b[0m\u001b[0;34m(\u001b[0m\u001b[0;34m(\u001b[0m\u001b[0mn\u001b[0m\u001b[0;34m,\u001b[0m \u001b[0md\u001b[0m\u001b[0;34m.\u001b[0m\u001b[0mcopy\u001b[0m\u001b[0;34m(\u001b[0m\u001b[0;34m)\u001b[0m\u001b[0;34m)\u001b[0m \u001b[0;32mfor\u001b[0m \u001b[0mn\u001b[0m\u001b[0;34m,\u001b[0m \u001b[0md\u001b[0m \u001b[0;32min\u001b[0m \u001b[0mself\u001b[0m\u001b[0;34m.\u001b[0m\u001b[0m_node\u001b[0m\u001b[0;34m.\u001b[0m\u001b[0mitems\u001b[0m\u001b[0;34m(\u001b[0m\u001b[0;34m)\u001b[0m\u001b[0;34m)\u001b[0m\u001b[0;34m\u001b[0m\u001b[0m\n\u001b[1;32m   1531\u001b[0m         G.add_edges_from((u, v, datadict.copy())\n\u001b[0;32m-> 1532\u001b[0;31m                          \u001b[0;32mfor\u001b[0m \u001b[0mu\u001b[0m\u001b[0;34m,\u001b[0m \u001b[0mnbrs\u001b[0m \u001b[0;32min\u001b[0m \u001b[0mself\u001b[0m\u001b[0;34m.\u001b[0m\u001b[0m_adj\u001b[0m\u001b[0;34m.\u001b[0m\u001b[0mitems\u001b[0m\u001b[0;34m(\u001b[0m\u001b[0;34m)\u001b[0m\u001b[0;34m\u001b[0m\u001b[0m\n\u001b[0m\u001b[1;32m   1533\u001b[0m                          for v, datadict in nbrs.items())\n\u001b[1;32m   1534\u001b[0m         \u001b[0;32mreturn\u001b[0m \u001b[0mG\u001b[0m\u001b[0;34m\u001b[0m\u001b[0m\n",
      "\u001b[0;32m~/code/academic/conv-graph/venv/lib/python3.5/site-packages/networkx/classes/graph.py\u001b[0m in \u001b[0;36madd_edges_from\u001b[0;34m(self, ebunch_to_add, **attr)\u001b[0m\n\u001b[1;32m    961\u001b[0m             \u001b[0mdatadict\u001b[0m\u001b[0;34m.\u001b[0m\u001b[0mupdate\u001b[0m\u001b[0;34m(\u001b[0m\u001b[0mdd\u001b[0m\u001b[0;34m)\u001b[0m\u001b[0;34m\u001b[0m\u001b[0m\n\u001b[1;32m    962\u001b[0m             \u001b[0mself\u001b[0m\u001b[0;34m.\u001b[0m\u001b[0m_adj\u001b[0m\u001b[0;34m[\u001b[0m\u001b[0mu\u001b[0m\u001b[0;34m]\u001b[0m\u001b[0;34m[\u001b[0m\u001b[0mv\u001b[0m\u001b[0;34m]\u001b[0m \u001b[0;34m=\u001b[0m \u001b[0mdatadict\u001b[0m\u001b[0;34m\u001b[0m\u001b[0m\n\u001b[0;32m--> 963\u001b[0;31m             \u001b[0mself\u001b[0m\u001b[0;34m.\u001b[0m\u001b[0m_adj\u001b[0m\u001b[0;34m[\u001b[0m\u001b[0mv\u001b[0m\u001b[0;34m]\u001b[0m\u001b[0;34m[\u001b[0m\u001b[0mu\u001b[0m\u001b[0;34m]\u001b[0m \u001b[0;34m=\u001b[0m \u001b[0mdatadict\u001b[0m\u001b[0;34m\u001b[0m\u001b[0m\n\u001b[0m\u001b[1;32m    964\u001b[0m \u001b[0;34m\u001b[0m\u001b[0m\n\u001b[1;32m    965\u001b[0m     \u001b[0;32mdef\u001b[0m \u001b[0madd_weighted_edges_from\u001b[0m\u001b[0;34m(\u001b[0m\u001b[0mself\u001b[0m\u001b[0;34m,\u001b[0m \u001b[0mebunch_to_add\u001b[0m\u001b[0;34m,\u001b[0m \u001b[0mweight\u001b[0m\u001b[0;34m=\u001b[0m\u001b[0;34m'weight'\u001b[0m\u001b[0;34m,\u001b[0m \u001b[0;34m**\u001b[0m\u001b[0mattr\u001b[0m\u001b[0;34m)\u001b[0m\u001b[0;34m:\u001b[0m\u001b[0;34m\u001b[0m\u001b[0m\n",
      "\u001b[0;31mKeyboardInterrupt\u001b[0m: "
     ]
    }
   ],
   "source": [
    "for key, val in cluster_dict.items():\n",
    "    first_node = val[0]\n",
    "    for other_node in val[1:]:\n",
    "        adj = nx.contracted_nodes(adj, first_node, other_node)\n"
   ]
  },
  {
   "cell_type": "code",
   "execution_count": 55,
   "metadata": {},
   "outputs": [],
   "source": [
    "adj = nx.to_scipy_sparse_matrix(adj)\n"
   ]
  },
  {
   "cell_type": "code",
   "execution_count": 69,
   "metadata": {},
   "outputs": [
    {
     "ename": "AttributeError",
     "evalue": "'numpy.ndarray' object has no attribute 'indices'",
     "output_type": "error",
     "traceback": [
      "\u001b[0;31m---------------------------------------------------------------------------\u001b[0m",
      "\u001b[0;31mAttributeError\u001b[0m                            Traceback (most recent call last)",
      "\u001b[0;32m<ipython-input-69-060784ca37dc>\u001b[0m in \u001b[0;36m<module>\u001b[0;34m\u001b[0m\n\u001b[0;32m----> 1\u001b[0;31m \u001b[0mclusters\u001b[0m\u001b[0;34m[\u001b[0m\u001b[0mclusters\u001b[0m \u001b[0;34m==\u001b[0m \u001b[0;36m4560\u001b[0m\u001b[0;34m]\u001b[0m\u001b[0;34m.\u001b[0m\u001b[0mindices\u001b[0m\u001b[0;34m\u001b[0m\u001b[0m\n\u001b[0m",
      "\u001b[0;31mAttributeError\u001b[0m: 'numpy.ndarray' object has no attribute 'indices'"
     ]
    }
   ],
   "source": [
    "clusters[clusters == 4560]"
   ]
  },
  {
   "cell_type": "code",
   "execution_count": 62,
   "metadata": {},
   "outputs": [],
   "source": [
    "cluster_adj = np.zeros((n_clusters, adj.shape[0]))\n",
    "for i, cluster in enumerate(clusters):\n",
    "    cluster_adj[cluster] += adj[i]"
   ]
  },
  {
   "cell_type": "code",
   "execution_count": 63,
   "metadata": {},
   "outputs": [
    {
     "data": {
      "text/plain": [
       "(8150, 16300)"
      ]
     },
     "execution_count": 63,
     "metadata": {},
     "output_type": "execute_result"
    }
   ],
   "source": [
    "cluster_adj"
   ]
  },
  {
   "cell_type": "code",
   "execution_count": 33,
   "metadata": {},
   "outputs": [],
   "source": [
    "for key, val in cluster_dict.items():\n",
    "    first_node = val[0]\n",
    "    for other_node in val[1:]:\n",
    "        uf.union(first_node, other_node)\n"
   ]
  },
  {
   "cell_type": "code",
   "execution_count": null,
   "metadata": {},
   "outputs": [],
   "source": []
  },
  {
   "cell_type": "code",
   "execution_count": null,
   "metadata": {},
   "outputs": [],
   "source": []
  },
  {
   "cell_type": "code",
   "execution_count": 149,
   "metadata": {},
   "outputs": [],
   "source": [
    "#neighbors = gene_graph.bfs_sample_neighbors(gene, num_genes)\n",
    "adj = nx.to_scipy_sparse_matrix(gene_graph.nx_graph)\n"
   ]
  },
  {
   "cell_type": "code",
   "execution_count": null,
   "metadata": {},
   "outputs": [],
   "source": []
  },
  {
   "cell_type": "code",
   "execution_count": null,
   "metadata": {},
   "outputs": [],
   "source": [
    "ids = sklearn.cluster.AgglomerativeClustering(n_clusters=20, affinity='euclidean',\n",
    "                                                     memory='.cache', connectivity=adj,\n",
    "                                                     compute_full_tree='auto', linkage='ward').fit_predict(adj)\n"
   ]
  },
  {
   "cell_type": "code",
   "execution_count": 26,
   "metadata": {},
   "outputs": [],
   "source": []
  },
  {
   "cell_type": "code",
   "execution_count": null,
   "metadata": {},
   "outputs": [],
   "source": []
  },
  {
   "cell_type": "code",
   "execution_count": 131,
   "metadata": {},
   "outputs": [],
   "source": [
    "from scipy import sparse\n",
    "from collections import defaultdict\n",
    "nx_adj = nx.OrderedGraph(nx.from_scipy_sparse_matrix(adj))\n",
    "clustered = nx_adj\n",
    "cluster_dict = defaultdict(list)\n",
    "for i, cluster in enumerate(ids):\n",
    "    cluster_dict[cluster].append(i)\n",
    "for key, val in cluster_dict.items():\n",
    "    first_node = val[0]\n",
    "    for other_node in val[1:]:\n",
    "        clustered = nx.contracted_nodes(clustered, first_node, other_node)\n"
   ]
  },
  {
   "cell_type": "code",
   "execution_count": 135,
   "metadata": {},
   "outputs": [],
   "source": []
  },
  {
   "cell_type": "code",
   "execution_count": 138,
   "metadata": {},
   "outputs": [
    {
     "data": {
      "text/plain": [
       "matrix([[0.     , 0.032  , 0.0074 , 0.11   , 0.0061 , 0.0031 , 0.015  ,\n",
       "         0.01   , 0.04   , 0.011  , 0.0023 , 0.047  , 0.11   , 0.014  ,\n",
       "         0.0058 , 0.013  , 0.0065 , 0.0043 , 0.0056 , 0.015  ],\n",
       "        [0.032  , 0.     , 0.     , 0.     , 0.     , 0.016  , 0.     ,\n",
       "         0.     , 0.     , 0.     , 0.     , 0.     , 0.     , 0.     ,\n",
       "         0.034  , 0.     , 0.     , 0.     , 0.     , 0.     ],\n",
       "        [0.0074 , 0.     , 0.     , 0.     , 0.0072 , 0.0077 , 0.     ,\n",
       "         0.013  , 0.     , 0.013  , 0.011  , 0.077  , 0.     , 0.019  ,\n",
       "         0.007  , 0.019  , 0.0078 , 0.     , 0.0067 , 0.018  ],\n",
       "        [0.11   , 0.     , 0.     , 0.     , 0.     , 0.     , 0.     ,\n",
       "         0.     , 0.     , 0.     , 0.     , 0.     , 0.     , 0.     ,\n",
       "         0.     , 0.     , 0.     , 0.     , 0.     , 0.     ],\n",
       "        [0.0061 , 0.     , 0.0072 , 0.     , 0.0035 , 0.003  , 0.0086 ,\n",
       "         0.0043 , 0.     , 0.011  , 0.0023 , 0.0081 , 0.     , 0.017  ,\n",
       "         0.0057 , 0.016  , 0.0064 , 0.0042 , 0.0055 , 0.0035 ],\n",
       "        [0.0031 , 0.016  , 0.0077 , 0.     , 0.003  , 0.0016 , 0.0058 ,\n",
       "         0.     , 0.     , 0.013  , 0.014  , 0.     , 0.     , 0.     ,\n",
       "         0.0029 , 0.0073 , 0.0032 , 0.0021 , 0.0028 , 0.0078 ],\n",
       "        [0.015  , 0.     , 0.     , 0.     , 0.0086 , 0.0058 , 0.019  ,\n",
       "         0.     , 0.     , 0.     , 0.     , 0.     , 0.     , 0.021  ,\n",
       "         0.011  , 0.016  , 0.023  , 0.029  , 0.014  , 0.023  ],\n",
       "        [0.01   , 0.     , 0.013  , 0.     , 0.0043 , 0.     , 0.     ,\n",
       "         0.     , 0.     , 0.     , 0.028  , 0.     , 0.     , 0.     ,\n",
       "         0.052  , 0.     , 0.092  , 0.     , 0.068  , 0.     ],\n",
       "        [0.04   , 0.     , 0.     , 0.     , 0.     , 0.     , 0.     ,\n",
       "         0.     , 0.     , 0.     , 0.     , 0.     , 0.     , 0.     ,\n",
       "         0.     , 0.028  , 0.     , 0.051  , 0.     , 0.     ],\n",
       "        [0.011  , 0.     , 0.013  , 0.     , 0.011  , 0.013  , 0.     ,\n",
       "         0.     , 0.     , 0.015  , 0.0043 , 0.     , 0.     , 0.014  ,\n",
       "         0.011  , 0.014  , 0.012  , 0.     , 0.01   , 0.028  ],\n",
       "        [0.0023 , 0.     , 0.011  , 0.     , 0.0023 , 0.014  , 0.     ,\n",
       "         0.028  , 0.     , 0.0043 , 0.0034 , 0.     , 0.11   , 0.014  ,\n",
       "         0.0022 , 0.022  , 0.0095 , 0.0059 , 0.012  , 0.0058 ],\n",
       "        [0.047  , 0.     , 0.077  , 0.     , 0.0081 , 0.     , 0.     ,\n",
       "         0.     , 0.     , 0.     , 0.     , 0.     , 0.     , 0.     ,\n",
       "         0.     , 0.027  , 0.     , 0.     , 0.     , 0.     ],\n",
       "        [0.11   , 0.     , 0.     , 0.     , 0.     , 0.     , 0.     ,\n",
       "         0.     , 0.     , 0.     , 0.11   , 0.     , 0.     , 0.     ,\n",
       "         0.     , 0.     , 0.     , 0.     , 0.     , 0.11   ],\n",
       "        [0.014  , 0.     , 0.019  , 0.     , 0.017  , 0.     , 0.021  ,\n",
       "         0.     , 0.     , 0.014  , 0.014  , 0.     , 0.     , 0.     ,\n",
       "         0.016  , 0.00083, 0.024  , 0.12   , 0.017  , 0.     ],\n",
       "        [0.0058 , 0.034  , 0.007  , 0.     , 0.0057 , 0.0029 , 0.011  ,\n",
       "         0.052  , 0.     , 0.011  , 0.0022 , 0.     , 0.     , 0.016  ,\n",
       "         0.0056 , 0.016  , 0.0061 , 0.004  , 0.062  , 0.041  ],\n",
       "        [0.013  , 0.     , 0.019  , 0.     , 0.016  , 0.0073 , 0.016  ,\n",
       "         0.     , 0.028  , 0.014  , 0.022  , 0.027  , 0.     , 0.00083,\n",
       "         0.016  , 0.     , 0.023  , 0.     , 0.017  , 0.     ],\n",
       "        [0.0065 , 0.     , 0.0078 , 0.     , 0.0064 , 0.0032 , 0.023  ,\n",
       "         0.092  , 0.     , 0.012  , 0.0095 , 0.     , 0.     , 0.024  ,\n",
       "         0.0061 , 0.023  , 0.     , 0.0045 , 0.0059 , 0.017  ],\n",
       "        [0.0043 , 0.     , 0.     , 0.     , 0.0042 , 0.0021 , 0.029  ,\n",
       "         0.     , 0.051  , 0.     , 0.0059 , 0.     , 0.     , 0.12   ,\n",
       "         0.004  , 0.     , 0.0045 , 0.     , 0.0039 , 0.     ],\n",
       "        [0.0056 , 0.     , 0.0067 , 0.     , 0.0055 , 0.0028 , 0.014  ,\n",
       "         0.068  , 0.     , 0.01   , 0.012  , 0.     , 0.     , 0.017  ,\n",
       "         0.062  , 0.017  , 0.0059 , 0.0039 , 0.     , 0.015  ],\n",
       "        [0.015  , 0.     , 0.018  , 0.     , 0.0035 , 0.0078 , 0.023  ,\n",
       "         0.     , 0.     , 0.028  , 0.0058 , 0.     , 0.11   , 0.     ,\n",
       "         0.041  , 0.     , 0.017  , 0.     , 0.015  , 0.     ]])"
      ]
     },
     "execution_count": 138,
     "metadata": {},
     "output_type": "execute_result"
    }
   ],
   "source": [
    "nx.to_numpy_matrix(clustered)"
   ]
  },
  {
   "cell_type": "code",
   "execution_count": null,
   "metadata": {},
   "outputs": [],
   "source": []
  },
  {
   "cell_type": "code",
   "execution_count": 108,
   "metadata": {},
   "outputs": [
    {
     "data": {
      "text/plain": [
       "NodeView((0, 3))"
      ]
     },
     "execution_count": 108,
     "metadata": {},
     "output_type": "execute_result"
    }
   ],
   "source": []
  },
  {
   "cell_type": "code",
   "execution_count": 13,
   "metadata": {},
   "outputs": [
    {
     "data": {
      "text/plain": [
       "(50, 50)"
      ]
     },
     "execution_count": 13,
     "metadata": {},
     "output_type": "execute_result"
    }
   ],
   "source": [
    "clusters = np.array([13, 19, 14, 23,  4,  0,  0, 20,  2, 24,  0,  0,  0,  0,  6, 21, 17,\n",
    "        3,  1, 12, 15,  1,  2, 11,  0, 18,  0,  2,  5,  8,  0,  0,  4,  0,\n",
    "        0,  0, 16,  9,  1,  7, 22,  0, 10,  3,  1,  6,  0,  5,  0,  4])\n",
    "adj.shape\n",
    "new_adj = np.zeros((25, 25))\n",
    "for i, cluster in enumerate(clusters):\n",
    "    new_adj[cluster] = "
   ]
  },
  {
   "cell_type": "code",
   "execution_count": 7,
   "metadata": {},
   "outputs": [
    {
     "name": "stdout",
     "output_type": "stream",
     "text": [
      "{'model': 'GCN_lay1_chan64_emb32_dropout_agg', 'seed': 0, 'num_genes': 4000, 'gene': 'IL5', 'train_size': 50}\n"
     ]
    }
   ],
   "source": [
    "row = todo[0]\n",
    "print(row)\n",
    "start_time = time.time()\n",
    "gene = row[\"gene\"]\n",
    "model_name = row[\"model\"]\n",
    "seed = row[\"seed\"]\n",
    "num_genes = 2000\n",
    "train_size = row[\"train_size\"]\n",
    "\n",
    "model = [x for x in model_list if x.name == model_name][0]\n",
    "\n",
    "experiment = {\n",
    "    \"gene\": gene,\n",
    "    \"model\": model.name,\n",
    "    \"num_genes\": num_genes,\n",
    "    \"train_size\": train_size,\n",
    "    \"seed\": seed,\n",
    "}\n",
    "\n",
    "dataset.labels = dataset.df[gene].where(dataset.df[gene] > 0).notnull().astype(\"int\")\n",
    "X_train, X_test, y_train, y_test = sklearn.model_selection.train_test_split(dataset.df, dataset.labels, stratify=dataset.labels, train_size=train_size, test_size=test_size, random_state=seed)\n",
    "\n",
    "neighbors = gene_graph.bfs_sample_neighbors(gene, num_genes)\n",
    "\n",
    "X_train = X_train[list(neighbors.nodes)].copy()\n",
    "X_test = X_test[list(neighbors.nodes)].copy()\n",
    "X_train[gene] = 1\n",
    "X_test[gene] = 1\n",
    "adj = np.asarray(nx.to_numpy_matrix(neighbors))\n"
   ]
  },
  {
   "cell_type": "code",
   "execution_count": null,
   "metadata": {
    "scrolled": true
   },
   "outputs": [],
   "source": [
    "\n",
    "for plot_gene in search_genes:\n",
    "\n",
    "    %matplotlib inline\n",
    "    plt.rcParams['figure.figsize'] = (7.5, 3.6)\n",
    "    plot_train_size = 50\n",
    "\n",
    "    subset = results[(results.train_size==plot_train_size) & \n",
    "                      (results.gene==plot_gene) & \n",
    "                      (results.num_genes!=400) &      \n",
    "                      (results.num_genes> 0)]\n",
    "\n",
    "\n",
    "    q = subset.groupby(['model','num_genes'])['auc']\n",
    "\n",
    "    todo = list(subset[\"model\"].unique())\n",
    "    linestyles = ['-', '-', '--', '-.', ':']\n",
    "    for ls, model in enumerate(sorted(todo)):\n",
    "        index = list(q.mean()[model].index)\n",
    "        mean = q.mean()[model]\n",
    "        stderr = q.std()[model]/np.sqrt(q.count()[model])\n",
    "        displayname = model.replace(\"CGN\",\"GCN\")\n",
    "        displayname = displayname.replace(\"SLR\", \"SNLR\")\n",
    "        plt.errorbar(index, mean,label=displayname, xerr=0, yerr=stderr, ls=linestyles[ls])\n",
    "\n",
    "    plt.title(\"Gene Inference \" + plot_gene + \" (train_size:\" + str(plot_train_size) +\")\")\n",
    "    plt.ylabel(\"AUC\")\n",
    "    plt.xlabel(\"Number of genes\")\n",
    "    plt.xscale(\"log\")\n",
    "    plt.xticks(sorted(subset[\"num_genes\"].unique()))\n",
    "    formatter = matplotlib.ticker.ScalarFormatter()\n",
    "    plt.gca().xaxis.set_major_formatter(formatter)\n",
    "\n",
    "    plt.legend();\n",
    "    fd = len(list(gene_graph.nx_graph.neighbors(plot_gene)))\n",
    "    print fd\n",
    "    if fd > 50:\n",
    "        plt.axvline(fd, ymin=0.4, ymax=1.0, c=\"black\")\n",
    "        c = plt.ylim()\n",
    "        plt.text(fd*1.05,c[1]-((c[1]-c[0])*0.2),'First Degree',rotation=90)\n",
    "\n",
    "\n",
    "    plt.savefig(\"experiments/results/sgi-\" + plot_gene + \"-\" + \"train\" + str(plot_train_size) + \".png\", bbox_inches='tight')\n",
    "    plt.show()"
   ]
  },
  {
   "cell_type": "code",
   "execution_count": null,
   "metadata": {},
   "outputs": [],
   "source": []
  }
 ],
 "metadata": {
  "kernelspec": {
   "display_name": "Python 3",
   "language": "python",
   "name": "python3"
  },
  "language_info": {
   "codemirror_mode": {
    "name": "ipython",
    "version": 3
   },
   "file_extension": ".py",
   "mimetype": "text/x-python",
   "name": "python",
   "nbconvert_exporter": "python",
   "pygments_lexer": "ipython3",
   "version": "3.5.2"
  }
 },
 "nbformat": 4,
 "nbformat_minor": 2
}
