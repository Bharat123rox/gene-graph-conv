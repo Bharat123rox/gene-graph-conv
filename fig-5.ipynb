{
 "cells": [
  {
   "cell_type": "code",
   "execution_count": 1,
   "metadata": {},
   "outputs": [],
   "source": [
    "import os\n",
    "import time\n",
    "import pickle\n",
    "import numpy as np\n",
    "import matplotlib, matplotlib.pyplot as plt\n",
    "import networkx as nx\n",
    "import pandas as pd\n",
    "import torch\n",
    "import itertools\n",
    "from torch.autograd import Variable\n",
    "import sklearn, sklearn.model_selection, sklearn.metrics\n",
    "import numpy as np\n",
    "\n",
    "from models.model_wrapper import MLP, GCN, SLR\n",
    "from data import datasets\n",
    "from data.gene_graphs import GeneManiaGraph\n",
    "from data.utils import record_result\n",
    "\n",
    "torch.cuda.set_device(1)"
   ]
  },
  {
   "cell_type": "code",
   "execution_count": 2,
   "metadata": {},
   "outputs": [
    {
     "name": "stdout",
     "output_type": "stream",
     "text": [
      "Torrent name: TCGA_tissue_ppi.hdf5, Size: 1748.32MB\n",
      "Checking for pieces on disk: |██████████████████████████████████████████████████| 100.0% \n",
      "Found 1668 finished pieces out of 1668 total pieces.\n",
      "Converting one-hot labels to integers\n"
     ]
    }
   ],
   "source": [
    "dataset = datasets.TCGADataset()\n",
    "dataset.df = dataset.df - dataset.df.mean(axis=0)"
   ]
  },
  {
   "cell_type": "code",
   "execution_count": 9,
   "metadata": {},
   "outputs": [
    {
     "name": "stdout",
     "output_type": "stream",
     "text": [
      "Loaded Checkpointed Results\n"
     ]
    }
   ],
   "source": [
    "# Setup the results dictionary\n",
    "filename = \"experiments/results/fig-5.pkl\"\n",
    "try:\n",
    "    results = pickle.load(open(filename, \"rb\"), encoding='latin1')\n",
    "    print(\"Loaded Checkpointed Results\")\n",
    "except Exception as e:\n",
    "    results = pd.DataFrame(columns=['auc', 'gene', 'model', 'num_genes', 'seed', 'train_size'])\n",
    "    print(\"Created a New Results Dictionary\")\n"
   ]
  },
  {
   "cell_type": "code",
   "execution_count": 4,
   "metadata": {},
   "outputs": [
    {
     "name": "stdout",
     "output_type": "stream",
     "text": [
      "Torrent name: genemania.pkl, Size: 9.61MB\n"
     ]
    }
   ],
   "source": [
    "gene_graph = GeneManiaGraph()"
   ]
  },
  {
   "cell_type": "code",
   "execution_count": 5,
   "metadata": {},
   "outputs": [],
   "source": [
    "search_num_genes=[50, 100, 200, 300, 500, 1000, 2000, 4000, 8000, 16000]\n",
    "test_size=1000\n",
    "search_train_size=[50]\n",
    "cuda=True\n",
    "trials=5\n",
    "search_genes = [\"RPL4\", \"RPL5\", \"RPS10\", \"RPS3\", \"CEBPD\", \"IL5\", \"PABPC3\", \"PSMB10\", \"S100A8\", \"S100A9\", \"TOP1\", \"C15orf40\", \"RNF138\", \"DLGAP2\", \"EVI2B\", \"ZFP82\", \"MYBL2\", \"PSMB1\", \"CISD1\", \"HLA-B\", \"SAA2\", \"IFIT1\", \"RPS3A\", \"TP53\", \"TNF\", \"EGFR\"]\n",
    "model_list = [           \n",
    "              GCN(name=\"GCN_lay20_chan32_emb32_dropout_pool\", cuda=cuda, num_layer=4, channels=32, embedding=32, prepool_extralayers=5, pooling=\"hierarchy\"),\n",
    "              GCN(name=\"GCN_lay3_chan64_emb32_dropout\", cuda=cuda, num_layer=3, channels=64, embedding=32),\n",
    "              MLP(name=\"MLP_lay2_chan512_dropout\", cuda=cuda, dropout=True, num_layer=2, channels=512),\n",
    "              MLP(name=\"MLP_lay2_chan512\", cuda=cuda, dropout=False, num_layer=2, channels=512),\n",
    "              SLR(name=\"SLR_lambda1_l11\", cuda=cuda)\n",
    "             ]"
   ]
  },
  {
   "cell_type": "code",
   "execution_count": 10,
   "metadata": {},
   "outputs": [
    {
     "name": "stdout",
     "output_type": "stream",
     "text": [
      "todo: 6457\n",
      "done: 45\n"
     ]
    }
   ],
   "source": [
    "# Create the set of all experiment ids and see which are left to do\n",
    "model_names = [model.name for model in model_list]\n",
    "columns = [\"gene\", \"model\", \"num_genes\", \"train_size\", \"seed\"]\n",
    "all_exp_ids = [x for x in itertools.product(search_genes, model_names, search_num_genes, search_train_size, range(trials))]\n",
    "all_exp_ids = pd.DataFrame(all_exp_ids, columns=columns)\n",
    "all_exp_ids.index = [\"-\".join(map(str, tup[1:])) for tup in all_exp_ids.itertuples(name=None)]\n",
    "results_exp_ids = results[columns].copy()\n",
    "results_exp_ids.index = [\"-\".join(map(str, tup[1:])) for tup in results_exp_ids.itertuples(name=None)]\n",
    "intersection_ids = all_exp_ids.index.intersection(results_exp_ids.index)\n",
    "todo = all_exp_ids.drop(intersection_ids).to_dict(orient=\"records\")\n",
    "print(\"todo: \" + str(len(todo)))\n",
    "print(\"done: \" + str(len(results)))"
   ]
  },
  {
   "cell_type": "code",
   "execution_count": 11,
   "metadata": {},
   "outputs": [],
   "source": [
    "def get_every_n(a, n=2):\n",
    "    for i in range(a.shape[0] // 2):\n",
    "        yield a[2*i:2*(i+1)]\n"
   ]
  },
  {
   "cell_type": "code",
   "execution_count": null,
   "metadata": {},
   "outputs": [
    {
     "name": "stdout",
     "output_type": "stream",
     "text": [
      "{'train_size': 50, 'seed': 3, 'gene': 'RPL4', 'num_genes': 8000, 'model': 'GCN_lay20_chan32_emb32_dropout_pool'}\n",
      "epoch: 0, {'train': 0.49373433583959897, 'valid': 0.6799999999999999}\n",
      "epoch: 1, {'train': 0.48621553884711777, 'valid': 0.39999999999999997}\n",
      "epoch: 2, {'train': 0.7794486215538847, 'valid': 0.6000000000000001}\n",
      "epoch: 3, {'train': 0.7067669172932332, 'valid': 0.6000000000000001}\n",
      "epoch: 4, {'train': 0.4536340852130326, 'valid': 0.32}\n",
      "epoch: 5, {'train': 0.7644110275689223, 'valid': 0.52}\n",
      "epoch: 6, {'train': 0.7794486215538847, 'valid': 0.6}\n",
      "epoch: 7, {'train': 0.8095238095238094, 'valid': 0.52}\n",
      "epoch: 8, {'train': 0.8421052631578948, 'valid': 0.56}\n",
      "epoch: 9, {'train': 0.8696741854636592, 'valid': 0.52}\n",
      "epoch: 10, {'train': 0.8771929824561403, 'valid': 0.56}\n",
      "epoch: 11, {'train': 0.899749373433584, 'valid': 0.56}\n",
      "epoch: 12, {'train': 0.9147869674185464, 'valid': 0.56}\n",
      "epoch: 13, {'train': 0.9197994987468672, 'valid': 0.56}\n",
      "epoch: 14, {'train': 0.9273182957393483, 'valid': 0.52}\n",
      "epoch: 15, {'train': 0.9298245614035088, 'valid': 0.48}\n",
      "epoch: 16, {'train': 0.9448621553884713, 'valid': 0.48}\n",
      "17.867365837097168\n",
      "time elapsed for genes: 8000 : 133.62102675437927\n",
      "{'train_size': 50, 'seed': 4, 'gene': 'RPL4', 'num_genes': 8000, 'model': 'GCN_lay20_chan32_emb32_dropout_pool'}\n",
      "epoch: 0, {'train': 0.5588972431077693, 'valid': 0.64}\n",
      "epoch: 1, {'train': 0.6040100250626566, 'valid': 0.36}\n",
      "epoch: 2, {'train': 0.8020050125313284, 'valid': 0.52}\n",
      "epoch: 3, {'train': 0.406015037593985, 'valid': 0.52}\n",
      "epoch: 4, {'train': 0.9072681704260651, 'valid': 0.4}\n",
      "epoch: 5, {'train': 0.8120300751879699, 'valid': 0.8400000000000001}\n",
      "epoch: 6, {'train': 0.2756892230576441, 'valid': 0.6799999999999999}\n",
      "epoch: 7, {'train': 0.8872180451127819, 'valid': 0.8}\n",
      "epoch: 8, {'train': 0.8621553884711779, 'valid': 0.76}\n",
      "epoch: 9, {'train': 0.9072681704260652, 'valid': 0.9600000000000001}\n",
      "epoch: 10, {'train': 0.9172932330827067, 'valid': 0.9600000000000001}\n",
      "epoch: 11, {'train': 0.9047619047619048, 'valid': 1.0}\n",
      "epoch: 12, {'train': 0.899749373433584, 'valid': 1.0}\n",
      "epoch: 13, {'train': 0.9122807017543859, 'valid': 1.0}\n",
      "epoch: 14, {'train': 0.9072681704260652, 'valid': 1.0}\n",
      "epoch: 15, {'train': 0.899749373433584, 'valid': 1.0}\n",
      "epoch: 16, {'train': 0.9022556390977443, 'valid': 1.0}\n",
      "epoch: 17, {'train': 0.9022556390977443, 'valid': 0.9600000000000001}\n",
      "epoch: 18, {'train': 0.9047619047619048, 'valid': 0.9600000000000001}\n",
      "epoch: 19, {'train': 0.9072681704260652, 'valid': 0.9600000000000001}\n",
      "epoch: 20, {'train': 0.9172932330827067, 'valid': 0.92}\n",
      "epoch: 21, {'train': 0.9197994987468672, 'valid': 0.92}\n",
      "23.212442636489868\n",
      "time elapsed for genes: 8000 : 108.32475352287292\n",
      "{'train_size': 50, 'seed': 0, 'gene': 'RPL4', 'num_genes': 16000, 'model': 'GCN_lay20_chan32_emb32_dropout_pool'}\n",
      "> /home/martin/code/academic/dev-gene-graph-conv/models/graph_layers.py(111)__init__()\n",
      "-> ids = sklearn.cluster.AgglomerativeClustering(n_clusters=n_clusters, affinity='euclidean',\n"
     ]
    },
    {
     "name": "stdin",
     "output_type": "stream",
     "text": [
      "(Pdb)  l\n"
     ]
    },
    {
     "name": "stdout",
     "output_type": "stream",
     "text": [
      "106  \t                processed_path = \"/tmp/\" + '{}.npy'.format(adj_hash)\n",
      "107  \t                if os.path.isfile(processed_path):\n",
      "108  \t                    ids = np.load(processed_path)\n",
      "109  \t                else:\n",
      "110  \t                    import pdb; pdb.set_trace()\n",
      "111  ->\t                    ids = sklearn.cluster.AgglomerativeClustering(n_clusters=n_clusters, affinity='euclidean',\n",
      "112  \t                                                                         memory='/tmp', connectivity=(current_adj > 0.).astype(bool),\n",
      "113  \t                                                                         compute_full_tree='auto', linkage='ward').fit_predict(adj.astype(\"float32\"))\n",
      "114  \t                    np.save(processed_path, np.array(ids))\n",
      "115  \t            n_clusters = len(set(ids))\n",
      "116  \t            clusters = set([])\n"
     ]
    }
   ],
   "source": [
    "for row in todo:\n",
    "    print(row)\n",
    "    start_time = time.time()\n",
    "    gene = row[\"gene\"]\n",
    "    model_name = row[\"model\"]\n",
    "    seed = row[\"seed\"]\n",
    "    num_genes = row[\"num_genes\"]\n",
    "    train_size = row[\"train_size\"]\n",
    "\n",
    "    model = [x for x in model_list if x.name == model_name][0]\n",
    "\n",
    "    experiment = {\n",
    "        \"gene\": gene,\n",
    "        \"model\": model.name,\n",
    "        \"num_genes\": num_genes,\n",
    "        \"train_size\": train_size,\n",
    "        \"seed\": seed,\n",
    "    }\n",
    "\n",
    "    dataset.labels = dataset.df[gene].where(dataset.df[gene] > 0).notnull().astype(\"int\")\n",
    "    X_train, X_test, y_train, y_test = sklearn.model_selection.train_test_split(dataset.df, dataset.labels, stratify=dataset.labels, train_size=train_size, test_size=test_size, random_state=seed)\n",
    "\n",
    "    neighbors = gene_graph.bfs_sample_neighbors(gene, num_genes)\n",
    "\n",
    "    X_train = X_train[list(neighbors.nodes)].copy()\n",
    "    X_test = X_test[list(neighbors.nodes)].copy()\n",
    "    X_train[gene] = 1\n",
    "    X_test[gene] = 1\n",
    "    adj = np.asarray(nx.to_numpy_matrix(neighbors))\n",
    "    model.fit(X_train, y_train, adj=adj)\n",
    "    \n",
    "    x_test = Variable(torch.FloatTensor(np.expand_dims(X_test.values, axis=2)), requires_grad=False).float()\n",
    "    if cuda:\n",
    "        x_test = x_test.cuda()\n",
    "    \n",
    "    y_hat = []\n",
    "    for chunk in get_every_n(x_test, 10):\n",
    "        y_hat.extend(model.predict(chunk)[:,1].data.cpu().numpy().tolist())\n",
    "    auc = sklearn.metrics.roc_auc_score(y_test, np.asarray(y_hat).flatten())\n",
    "\n",
    "    del model\n",
    "    experiment[\"auc\"] = auc\n",
    "    results = record_result(results, experiment, filename)\n",
    "    print(\"time elapsed for genes: \" +str(num_genes) + \" : \" + str(time.time() - start_time))\n"
   ]
  },
  {
   "cell_type": "code",
   "execution_count": 7,
   "metadata": {},
   "outputs": [
    {
     "name": "stdout",
     "output_type": "stream",
     "text": [
      "{'model': 'GCN_lay1_chan64_emb32_dropout_agg', 'seed': 0, 'num_genes': 4000, 'gene': 'IL5', 'train_size': 50}\n"
     ]
    }
   ],
   "source": [
    "row = todo[0]\n",
    "print(row)\n",
    "start_time = time.time()\n",
    "gene = row[\"gene\"]\n",
    "model_name = row[\"model\"]\n",
    "seed = row[\"seed\"]\n",
    "num_genes = 2000\n",
    "train_size = row[\"train_size\"]\n",
    "\n",
    "model = [x for x in model_list if x.name == model_name][0]\n",
    "\n",
    "experiment = {\n",
    "    \"gene\": gene,\n",
    "    \"model\": model.name,\n",
    "    \"num_genes\": num_genes,\n",
    "    \"train_size\": train_size,\n",
    "    \"seed\": seed,\n",
    "}\n",
    "\n",
    "dataset.labels = dataset.df[gene].where(dataset.df[gene] > 0).notnull().astype(\"int\")\n",
    "X_train, X_test, y_train, y_test = sklearn.model_selection.train_test_split(dataset.df, dataset.labels, stratify=dataset.labels, train_size=train_size, test_size=test_size, random_state=seed)\n",
    "\n",
    "neighbors = gene_graph.bfs_sample_neighbors(gene, num_genes)\n",
    "\n",
    "X_train = X_train[list(neighbors.nodes)].copy()\n",
    "X_test = X_test[list(neighbors.nodes)].copy()\n",
    "X_train[gene] = 1\n",
    "X_test[gene] = 1\n",
    "adj = np.asarray(nx.to_numpy_matrix(neighbors))\n"
   ]
  },
  {
   "cell_type": "code",
   "execution_count": 8,
   "metadata": {},
   "outputs": [],
   "source": [
    "x = Variable(torch.FloatTensor(np.expand_dims(X_train[:10].values, axis=2)), requires_grad=False).float().cuda()\n",
    "adj = Variable(torch.FloatTensor(adj), requires_grad=False).cuda()"
   ]
  },
  {
   "cell_type": "code",
   "execution_count": 9,
   "metadata": {},
   "outputs": [],
   "source": [
    "from models.model_wrapper import EmbeddingLayer\n",
    "emb = EmbeddingLayer(num_genes, 32).cuda()\n",
    "x = emb(x)\n"
   ]
  },
  {
   "cell_type": "code",
   "execution_count": 10,
   "metadata": {},
   "outputs": [],
   "source": [
    "x = x.permute(0, 2, 1).contiguous() \n"
   ]
  },
  {
   "cell_type": "code",
   "execution_count": 11,
   "metadata": {},
   "outputs": [],
   "source": [
    "x = x.view(-1, x.size(-1))"
   ]
  },
  {
   "cell_type": "code",
   "execution_count": 30,
   "metadata": {},
   "outputs": [
    {
     "name": "stdout",
     "output_type": "stream",
     "text": [
      "starting\n",
      "0.1645040512084961\n"
     ]
    },
    {
     "data": {
      "text/plain": [
       "tensor([[0.0490, 0.0281, 0.0000,  ..., 0.4717, 0.0000, 0.4486],\n",
       "        [0.0858, 0.0776, 0.0931,  ..., 0.0397, 0.0356, 0.1249],\n",
       "        [0.1027, 0.6095, 0.3313,  ..., 0.2056, 0.3080, 0.3055],\n",
       "        ...,\n",
       "        [0.2954, 0.3283, 0.3313,  ..., 0.1148, 0.6859, 0.8953],\n",
       "        [0.3835, 0.3283, 0.6763,  ..., 0.1024, 0.2916, 0.2102],\n",
       "        [0.5069, 0.3283, 0.6460,  ..., 0.1507, 0.1456, 0.1327]],\n",
       "       device='cuda:0', grad_fn=<StackBackward>)"
      ]
     },
     "execution_count": 30,
     "metadata": {},
     "output_type": "execute_result"
    }
   ],
   "source": [
    "temp = []\n",
    "x_cpu = x.view(-1, x.size(-1)).cpu()\n",
    "print(\"starting\")\n",
    "start = time.time()\n",
    "for row in adj:\n",
    "    neighbors = row.nonzero().view(-1)\n",
    "    temp.append(x[:, neighbors].max(dim=1)[0])\n",
    "max_value = torch.stack(temp).cuda()\n",
    "print(time.time() - start)\n",
    "max_value"
   ]
  },
  {
   "cell_type": "code",
   "execution_count": 51,
   "metadata": {},
   "outputs": [
    {
     "data": {
      "text/plain": [
       "(tensor([0.0386, 0.0220, 0.0000,  ..., 0.0022, 0.0068, 0.0029],\n",
       "        grad_fn=<MaxBackward0>),\n",
       " tensor([   1,    0, 1999,  ..., 1864,  115, 1974]))"
      ]
     },
     "execution_count": 51,
     "metadata": {},
     "output_type": "execute_result"
    }
   ],
   "source": [
    "(x.view(-1, x.size(-1), 1).cpu()[0] * adj.cpu()).max(dim=1)"
   ]
  },
  {
   "cell_type": "code",
   "execution_count": 31,
   "metadata": {},
   "outputs": [
    {
     "data": {
      "text/plain": [
       "tensor([[0.0220, 0.0386, 0.0257,  ..., 0.0086, 0.0097, 0.0161],\n",
       "        [0.0045, 0.0056, 0.0488,  ..., 0.0094, 0.0084, 0.0887],\n",
       "        [-0.0000, 0.0419, 0.0206,  ..., 0.0072, 0.0081, 0.0266],\n",
       "        ...,\n",
       "        [0.2123, 0.0068, 0.0123,  ..., 0.0085, 0.0006, 0.0115],\n",
       "        [-0.0000, 0.0016, 0.0176,  ..., 0.0108, 0.0222, 0.0080],\n",
       "        [0.2019, 0.0562, 0.0262,  ..., 0.0058, 0.0160, 0.0088]],\n",
       "       grad_fn=<MaxBackward0>)"
      ]
     },
     "execution_count": 31,
     "metadata": {},
     "output_type": "execute_result"
    }
   ],
   "source": [
    "(x.view(-1, x.size(-1), 1).cpu() * adj.cpu()).max(dim=1)[0]"
   ]
  },
  {
   "cell_type": "code",
   "execution_count": 39,
   "metadata": {},
   "outputs": [
    {
     "data": {
      "text/plain": [
       "torch.Size([320, 2000, 1])"
      ]
     },
     "execution_count": 39,
     "metadata": {},
     "output_type": "execute_result"
    }
   ],
   "source": [
    "x.view(-1, x.size(-1), 1).cpu().shape"
   ]
  },
  {
   "cell_type": "code",
   "execution_count": 64,
   "metadata": {},
   "outputs": [
    {
     "data": {
      "text/plain": [
       "torch.Size([16000, 16000])"
      ]
     },
     "execution_count": 64,
     "metadata": {},
     "output_type": "execute_result"
    }
   ],
   "source": [
    "adj.shape"
   ]
  },
  {
   "cell_type": "code",
   "execution_count": 65,
   "metadata": {},
   "outputs": [
    {
     "data": {
      "text/plain": [
       "tensor([[0.0000, 0.4500, 0.2100,  ..., 0.0000, 0.0000, 0.0000],\n",
       "        [0.4500, 0.0000, 0.0000,  ..., 0.0000, 0.0000, 0.0000],\n",
       "        [0.2100, 0.0000, 0.0000,  ..., 0.0000, 0.0000, 0.0000],\n",
       "        ...,\n",
       "        [0.0000, 0.0000, 0.0000,  ..., 0.0000, 0.0000, 0.0000],\n",
       "        [0.0000, 0.0000, 0.0000,  ..., 0.0000, 0.0000, 0.0000],\n",
       "        [0.0000, 0.0000, 0.0000,  ..., 0.0000, 0.0000, 0.0000]],\n",
       "       device='cuda:0')"
      ]
     },
     "execution_count": 65,
     "metadata": {},
     "output_type": "execute_result"
    }
   ],
   "source": [
    "adj"
   ]
  },
  {
   "cell_type": "code",
   "execution_count": null,
   "metadata": {
    "scrolled": true
   },
   "outputs": [],
   "source": [
    "\n",
    "for plot_gene in search_genes:\n",
    "\n",
    "    %matplotlib inline\n",
    "    plt.rcParams['figure.figsize'] = (7.5, 3.6)\n",
    "    plot_train_size = 50\n",
    "\n",
    "    subset = results[(results.train_size==plot_train_size) & \n",
    "                      (results.gene==plot_gene) & \n",
    "                      (results.num_genes!=400) &      \n",
    "                      (results.num_genes> 0)]\n",
    "\n",
    "\n",
    "    q = subset.groupby(['model','num_genes'])['auc']\n",
    "\n",
    "    todo = list(subset[\"model\"].unique())\n",
    "    linestyles = ['-', '-', '--', '-.', ':']\n",
    "    for ls, model in enumerate(sorted(todo)):\n",
    "        index = list(q.mean()[model].index)\n",
    "        mean = q.mean()[model]\n",
    "        stderr = q.std()[model]/np.sqrt(q.count()[model])\n",
    "        displayname = model.replace(\"CGN\",\"GCN\")\n",
    "        displayname = displayname.replace(\"SLR\", \"SNLR\")\n",
    "        plt.errorbar(index, mean,label=displayname, xerr=0, yerr=stderr, ls=linestyles[ls])\n",
    "\n",
    "    plt.title(\"Gene Inference \" + plot_gene + \" (train_size:\" + str(plot_train_size) +\")\")\n",
    "    plt.ylabel(\"AUC\")\n",
    "    plt.xlabel(\"Number of genes\")\n",
    "    plt.xscale(\"log\")\n",
    "    plt.xticks(sorted(subset[\"num_genes\"].unique()))\n",
    "    formatter = matplotlib.ticker.ScalarFormatter()\n",
    "    plt.gca().xaxis.set_major_formatter(formatter)\n",
    "\n",
    "    plt.legend();\n",
    "    fd = len(list(gene_graph.nx_graph.neighbors(plot_gene)))\n",
    "    print fd\n",
    "    if fd > 50:\n",
    "        plt.axvline(fd, ymin=0.4, ymax=1.0, c=\"black\")\n",
    "        c = plt.ylim()\n",
    "        plt.text(fd*1.05,c[1]-((c[1]-c[0])*0.2),'First Degree',rotation=90)\n",
    "\n",
    "\n",
    "    plt.savefig(\"experiments/results/sgi-\" + plot_gene + \"-\" + \"train\" + str(plot_train_size) + \".png\", bbox_inches='tight')\n",
    "    plt.show()"
   ]
  },
  {
   "cell_type": "code",
   "execution_count": null,
   "metadata": {},
   "outputs": [],
   "source": []
  }
 ],
 "metadata": {
  "kernelspec": {
   "display_name": "Python 3",
   "language": "python",
   "name": "python3"
  },
  "language_info": {
   "codemirror_mode": {
    "name": "ipython",
    "version": 3
   },
   "file_extension": ".py",
   "mimetype": "text/x-python",
   "name": "python",
   "nbconvert_exporter": "python",
   "pygments_lexer": "ipython3",
   "version": "3.5.2"
  }
 },
 "nbformat": 4,
 "nbformat_minor": 2
}
