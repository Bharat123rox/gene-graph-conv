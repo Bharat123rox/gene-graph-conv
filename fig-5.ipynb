{
 "cells": [
  {
   "cell_type": "code",
   "execution_count": 1,
   "metadata": {},
   "outputs": [],
   "source": [
    "import os\n",
    "import time\n",
    "import pickle\n",
    "import numpy as np\n",
    "import matplotlib, matplotlib.pyplot as plt\n",
    "import networkx as nx\n",
    "import pandas as pd\n",
    "import torch\n",
    "import itertools\n",
    "from torch.autograd import Variable\n",
    "import sklearn, sklearn.model_selection, sklearn.metrics\n",
    "import numpy as np\n",
    "from scipy import sparse\n",
    "from models.model_wrapper import MLP, GCN, SLR\n",
    "from data import datasets\n",
    "from data.gene_graphs import GeneManiaGraph\n",
    "from data.utils import record_result\n",
    "\n",
    "# torch.cuda.set_device(1)"
   ]
  },
  {
   "cell_type": "code",
   "execution_count": 2,
   "metadata": {},
   "outputs": [
    {
     "name": "stdout",
     "output_type": "stream",
     "text": [
      "Torrent name: TCGA_tissue_ppi.hdf5, Size: 1748.32MB\n",
      "Converting one-hot labels to integers\n"
     ]
    }
   ],
   "source": [
    "dataset = datasets.TCGADataset()\n",
    "dataset.df = dataset.df - dataset.df.mean(axis=0)"
   ]
  },
  {
   "cell_type": "code",
   "execution_count": 3,
   "metadata": {},
   "outputs": [
    {
     "name": "stdout",
     "output_type": "stream",
     "text": [
      "Loaded Checkpointed Results\n"
     ]
    }
   ],
   "source": [
    "# Setup the results dictionary\n",
    "filename = \"experiments/results/fig-5.pkl\"\n",
    "try:\n",
    "    results = pickle.load(open(filename, \"rb\"), encoding='latin1')\n",
    "    print(\"Loaded Checkpointed Results\")\n",
    "except Exception as e:\n",
    "    results = pd.DataFrame(columns=['auc', 'gene', 'model', 'num_genes', 'seed', 'train_size', 'time_elapsed'])\n",
    "    print(\"Created a New Results Dictionary\")\n"
   ]
  },
  {
   "cell_type": "code",
   "execution_count": 4,
   "metadata": {},
   "outputs": [
    {
     "name": "stdout",
     "output_type": "stream",
     "text": [
      "Torrent name: genemania.pkl, Size: 9.61MB\n"
     ]
    }
   ],
   "source": [
    "gene_graph = GeneManiaGraph()"
   ]
  },
  {
   "cell_type": "code",
   "execution_count": 5,
   "metadata": {},
   "outputs": [],
   "source": [
    "search_num_genes=[2000]#[50, 100, 200, 300, 500, 1000, 2000, 4000, 8000, 16000]\n",
    "test_size=1000\n",
    "search_train_size=[50]\n",
    "cuda=False\n",
    "trials=5\n",
    "search_genes = [\"RPL4\", \"RPL5\", \"RPS10\", \"RPS3\", \"CEBPD\", \"IL5\", \"PABPC3\", \"PSMB10\", \"S100A8\", \"S100A9\", \"TOP1\", \"C15orf40\", \"RNF138\", \"DLGAP2\", \"EVI2B\", \"ZFP82\", \"MYBL2\", \"PSMB1\", \"CISD1\", \"HLA-B\", \"SAA2\", \"IFIT1\", \"RPS3A\", \"TP53\", \"TNF\", \"EGFR\"]\n",
    "model_list = [       \n",
    "               GCN(name=\"GCN_lay3_chan64_emb32_dropout\", cuda=cuda, num_layer=3, channels=64, embedding=32, pooling=\"hierarchy\"),\n",
    "#               GCN(name=\"GCN_lay20_chan32_emb32_dropout_pool_hierarchy\", cuda=cuda, num_layer=4, channels=32, embedding=32, prepool_extralayers=5, pooling=\"hierarchy\"),\n",
    "              #GCN(name=\"GCN_lay20_chan32_emb32_dropout_pool_random\", cuda=cuda, num_layer=4, channels=32, embedding=32, prepool_extralayers=5, pooling=\"random\"),\n",
    "#               GCN(name=\"GCN_lay3_chan64_emb32_dropout\", cuda=cuda, num_layer=3, channels=64, embedding=32),\n",
    "#               MLP(name=\"MLP_lay2_chan512_dropout\", cuda=cuda, dropout=True, num_layer=2, channels=512),\n",
    "#               MLP(name=\"MLP_lay2_chan512\", cuda=cuda, dropout=False, num_layer=2, channels=512),\n",
    "#               SLR(name=\"SLR_lambda1_l11\", cuda=cuda)\n",
    "             ]"
   ]
  },
  {
   "cell_type": "code",
   "execution_count": 6,
   "metadata": {},
   "outputs": [
    {
     "name": "stdout",
     "output_type": "stream",
     "text": [
      "todo: 130\n",
      "done: 41\n"
     ]
    }
   ],
   "source": [
    "# Create the set of all experiment ids and see which are left to do\n",
    "model_names = [model.name for model in model_list]\n",
    "columns = [\"gene\", \"model\", \"num_genes\", \"train_size\", \"seed\"]\n",
    "all_exp_ids = [x for x in itertools.product(search_genes, model_names, search_num_genes, search_train_size, range(trials))]\n",
    "all_exp_ids = pd.DataFrame(all_exp_ids, columns=columns)\n",
    "all_exp_ids.index = [\"-\".join(map(str, tup[1:])) for tup in all_exp_ids.itertuples(name=None)]\n",
    "results_exp_ids = results[columns].copy()\n",
    "results_exp_ids.index = [\"-\".join(map(str, tup[1:])) for tup in results_exp_ids.itertuples(name=None)]\n",
    "intersection_ids = all_exp_ids.index.intersection(results_exp_ids.index)\n",
    "todo = all_exp_ids.drop(intersection_ids).to_dict(orient=\"records\")\n",
    "print(\"todo: \" + str(len(todo)))\n",
    "print(\"done: \" + str(len(results)))"
   ]
  },
  {
   "cell_type": "code",
   "execution_count": 7,
   "metadata": {},
   "outputs": [],
   "source": [
    "def get_every_n(a, n=2):\n",
    "    for i in range(a.shape[0] // 2):\n",
    "        yield a[2*i:2*(i+1)]\n"
   ]
  },
  {
   "cell_type": "code",
   "execution_count": null,
   "metadata": {},
   "outputs": [
    {
     "name": "stdout",
     "output_type": "stream",
     "text": [
      "{'train_size': 50, 'model': 'GCN_lay3_chan64_emb32_dropout', 'gene': 'RPL4', 'num_genes': 2000, 'seed': 0}\n",
      "> /Users/martinweiss/code/academic/conv-graph/models/model_wrapper.py(396)add_logistic_layer()\n",
      "-> for d in logistic_in_dim:\n"
     ]
    },
    {
     "name": "stdin",
     "output_type": "stream",
     "text": [
      "(Pdb)  n\n"
     ]
    },
    {
     "name": "stdout",
     "output_type": "stream",
     "text": [
      "> /Users/martinweiss/code/academic/conv-graph/models/model_wrapper.py(397)add_logistic_layer()\n",
      "-> layer = nn.Linear(d, self.out_dim)\n"
     ]
    },
    {
     "name": "stdin",
     "output_type": "stream",
     "text": [
      "(Pdb)  \n"
     ]
    },
    {
     "name": "stdout",
     "output_type": "stream",
     "text": [
      "> /Users/martinweiss/code/academic/conv-graph/models/model_wrapper.py(398)add_logistic_layer()\n",
      "-> layer.register_forward_hook(save_computations)\n"
     ]
    },
    {
     "name": "stdin",
     "output_type": "stream",
     "text": [
      "(Pdb)  layer\n"
     ]
    },
    {
     "name": "stdout",
     "output_type": "stream",
     "text": [
      "Linear(in_features=16000, out_features=2, bias=True)\n"
     ]
    },
    {
     "name": "stdin",
     "output_type": "stream",
     "text": [
      "(Pdb)  n\n"
     ]
    },
    {
     "name": "stdout",
     "output_type": "stream",
     "text": [
      "> /Users/martinweiss/code/academic/conv-graph/models/model_wrapper.py(399)add_logistic_layer()\n",
      "-> logistic_layers.append(layer)\n"
     ]
    },
    {
     "name": "stdin",
     "output_type": "stream",
     "text": [
      "(Pdb)  \n"
     ]
    },
    {
     "name": "stdout",
     "output_type": "stream",
     "text": [
      "> /Users/martinweiss/code/academic/conv-graph/models/model_wrapper.py(396)add_logistic_layer()\n",
      "-> for d in logistic_in_dim:\n"
     ]
    },
    {
     "name": "stdin",
     "output_type": "stream",
     "text": [
      "(Pdb)  \n"
     ]
    },
    {
     "name": "stdout",
     "output_type": "stream",
     "text": [
      "> /Users/martinweiss/code/academic/conv-graph/models/model_wrapper.py(400)add_logistic_layer()\n",
      "-> self.my_logistic_layers = nn.ModuleList(logistic_layers)\n"
     ]
    },
    {
     "name": "stdin",
     "output_type": "stream",
     "text": [
      "(Pdb)  \n"
     ]
    },
    {
     "name": "stdout",
     "output_type": "stream",
     "text": [
      "--Return--\n",
      "> /Users/martinweiss/code/academic/conv-graph/models/model_wrapper.py(400)add_logistic_layer()->None\n",
      "-> self.my_logistic_layers = nn.ModuleList(logistic_layers)\n"
     ]
    },
    {
     "name": "stdin",
     "output_type": "stream",
     "text": [
      "(Pdb)  \n"
     ]
    },
    {
     "name": "stdout",
     "output_type": "stream",
     "text": [
      "> /Users/martinweiss/code/academic/conv-graph/models/model_wrapper.py(336)setup_layers()\n",
      "-> self.add_gating_layers()\n"
     ]
    },
    {
     "name": "stdin",
     "output_type": "stream",
     "text": [
      "(Pdb)  \n"
     ]
    },
    {
     "name": "stdout",
     "output_type": "stream",
     "text": [
      "> /Users/martinweiss/code/academic/conv-graph/models/model_wrapper.py(337)setup_layers()\n",
      "-> self.add_dropout_layers()\n"
     ]
    },
    {
     "name": "stdin",
     "output_type": "stream",
     "text": [
      "(Pdb)  \n"
     ]
    },
    {
     "name": "stdout",
     "output_type": "stream",
     "text": [
      "> /Users/martinweiss/code/academic/conv-graph/models/model_wrapper.py(339)setup_layers()\n",
      "-> if self.attention_head:\n"
     ]
    },
    {
     "name": "stdin",
     "output_type": "stream",
     "text": [
      "(Pdb)  \n"
     ]
    },
    {
     "name": "stdout",
     "output_type": "stream",
     "text": [
      "> /Users/martinweiss/code/academic/conv-graph/models/model_wrapper.py(343)setup_layers()\n",
      "-> self.grads = {}\n"
     ]
    },
    {
     "name": "stdin",
     "output_type": "stream",
     "text": [
      "(Pdb)  \n"
     ]
    },
    {
     "name": "stdout",
     "output_type": "stream",
     "text": [
      "> /Users/martinweiss/code/academic/conv-graph/models/model_wrapper.py(344)setup_layers()\n",
      "-> def save_grad(name):\n"
     ]
    },
    {
     "name": "stdin",
     "output_type": "stream",
     "text": [
      "(Pdb)  \n"
     ]
    },
    {
     "name": "stdout",
     "output_type": "stream",
     "text": [
      "> /Users/martinweiss/code/academic/conv-graph/models/model_wrapper.py(348)setup_layers()\n",
      "-> self.save_grad = save_grad\n"
     ]
    },
    {
     "name": "stdin",
     "output_type": "stream",
     "text": [
      "(Pdb)  \n"
     ]
    },
    {
     "name": "stdout",
     "output_type": "stream",
     "text": [
      "> /Users/martinweiss/code/academic/conv-graph/models/model_wrapper.py(350)setup_layers()\n",
      "-> torch.manual_seed(self.seed)\n"
     ]
    },
    {
     "name": "stdin",
     "output_type": "stream",
     "text": [
      "(Pdb)  \n"
     ]
    },
    {
     "name": "stdout",
     "output_type": "stream",
     "text": [
      "> /Users/martinweiss/code/academic/conv-graph/models/model_wrapper.py(351)setup_layers()\n",
      "-> if self.on_cuda:\n"
     ]
    },
    {
     "name": "stdin",
     "output_type": "stream",
     "text": [
      "(Pdb)  \n"
     ]
    },
    {
     "name": "stdout",
     "output_type": "stream",
     "text": [
      "--Return--\n",
      "> /Users/martinweiss/code/academic/conv-graph/models/model_wrapper.py(351)setup_layers()->None\n",
      "-> if self.on_cuda:\n"
     ]
    },
    {
     "name": "stdin",
     "output_type": "stream",
     "text": [
      "(Pdb)  \n"
     ]
    },
    {
     "name": "stdout",
     "output_type": "stream",
     "text": [
      "> /Users/martinweiss/code/academic/conv-graph/models/model_wrapper.py(61)fit()\n",
      "-> self.adj = None\n"
     ]
    },
    {
     "name": "stdin",
     "output_type": "stream",
     "text": [
      "(Pdb)  \n"
     ]
    },
    {
     "name": "stdout",
     "output_type": "stream",
     "text": [
      "> /Users/martinweiss/code/academic/conv-graph/models/model_wrapper.py(62)fit()\n",
      "-> self.X = None\n"
     ]
    },
    {
     "name": "stdin",
     "output_type": "stream",
     "text": [
      "(Pdb)  \n"
     ]
    },
    {
     "name": "stdout",
     "output_type": "stream",
     "text": [
      "> /Users/martinweiss/code/academic/conv-graph/models/model_wrapper.py(64)fit()\n",
      "-> x_train, x_valid, y_train, y_valid = sklearn.model_selection.train_test_split(X, y, stratify=y, train_size=self.train_valid_split, test_size=1-self.train_valid_split, random_state=self.seed)\n"
     ]
    },
    {
     "name": "stdin",
     "output_type": "stream",
     "text": [
      "(Pdb)  \n"
     ]
    },
    {
     "name": "stdout",
     "output_type": "stream",
     "text": [
      "> /Users/martinweiss/code/academic/conv-graph/models/model_wrapper.py(67)fit()\n",
      "-> x_train = torch.FloatTensor(np.expand_dims(x_train, axis=2))\n"
     ]
    },
    {
     "name": "stdin",
     "output_type": "stream",
     "text": [
      "(Pdb)  \n"
     ]
    },
    {
     "name": "stdout",
     "output_type": "stream",
     "text": [
      "> /Users/martinweiss/code/academic/conv-graph/models/model_wrapper.py(68)fit()\n",
      "-> x_valid = torch.FloatTensor(np.expand_dims(x_valid, axis=2))\n"
     ]
    },
    {
     "name": "stdin",
     "output_type": "stream",
     "text": [
      "(Pdb)  \n"
     ]
    },
    {
     "name": "stdout",
     "output_type": "stream",
     "text": [
      "> /Users/martinweiss/code/academic/conv-graph/models/model_wrapper.py(69)fit()\n",
      "-> y_train = torch.FloatTensor(y_train.values)\n"
     ]
    },
    {
     "name": "stdin",
     "output_type": "stream",
     "text": [
      "(Pdb)  \n"
     ]
    },
    {
     "name": "stdout",
     "output_type": "stream",
     "text": [
      "> /Users/martinweiss/code/academic/conv-graph/models/model_wrapper.py(72)fit()\n",
      "-> criterion = torch.nn.CrossEntropyLoss(reduction='mean')\n"
     ]
    },
    {
     "name": "stdin",
     "output_type": "stream",
     "text": [
      "(Pdb)  \n"
     ]
    },
    {
     "name": "stdout",
     "output_type": "stream",
     "text": [
      "> /Users/martinweiss/code/academic/conv-graph/models/model_wrapper.py(73)fit()\n",
      "-> optimizer = torch.optim.Adam(self.parameters(), lr=0.001, weight_decay=0.0001)\n"
     ]
    },
    {
     "name": "stdin",
     "output_type": "stream",
     "text": [
      "(Pdb)  \n"
     ]
    },
    {
     "name": "stdout",
     "output_type": "stream",
     "text": [
      "> /Users/martinweiss/code/academic/conv-graph/models/model_wrapper.py(74)fit()\n",
      "-> max_valid = 0\n"
     ]
    },
    {
     "name": "stdin",
     "output_type": "stream",
     "text": [
      "(Pdb)  \n"
     ]
    },
    {
     "name": "stdout",
     "output_type": "stream",
     "text": [
      "> /Users/martinweiss/code/academic/conv-graph/models/model_wrapper.py(75)fit()\n",
      "-> patience = self.start_patience\n"
     ]
    },
    {
     "name": "stdin",
     "output_type": "stream",
     "text": [
      "(Pdb)  \n"
     ]
    },
    {
     "name": "stdout",
     "output_type": "stream",
     "text": [
      "> /Users/martinweiss/code/academic/conv-graph/models/model_wrapper.py(76)fit()\n",
      "-> start_time = time.time()\n"
     ]
    },
    {
     "name": "stdin",
     "output_type": "stream",
     "text": [
      "(Pdb)  \n"
     ]
    },
    {
     "name": "stdout",
     "output_type": "stream",
     "text": [
      "> /Users/martinweiss/code/academic/conv-graph/models/model_wrapper.py(77)fit()\n",
      "-> for epoch in range(0, self.num_epochs):\n"
     ]
    },
    {
     "name": "stdin",
     "output_type": "stream",
     "text": [
      "(Pdb)  \n"
     ]
    },
    {
     "name": "stdout",
     "output_type": "stream",
     "text": [
      "> /Users/martinweiss/code/academic/conv-graph/models/model_wrapper.py(78)fit()\n",
      "-> for i in range(0, x_train.shape[0], self.batch_size):\n"
     ]
    },
    {
     "name": "stdin",
     "output_type": "stream",
     "text": [
      "(Pdb)  \n"
     ]
    },
    {
     "name": "stdout",
     "output_type": "stream",
     "text": [
      "> /Users/martinweiss/code/academic/conv-graph/models/model_wrapper.py(79)fit()\n",
      "-> inputs, labels = x_train[i:i + self.batch_size], y_train[i:i + self.batch_size]\n"
     ]
    },
    {
     "name": "stdin",
     "output_type": "stream",
     "text": [
      "(Pdb)  \n"
     ]
    },
    {
     "name": "stdout",
     "output_type": "stream",
     "text": [
      "> /Users/martinweiss/code/academic/conv-graph/models/model_wrapper.py(81)fit()\n",
      "-> inputs = Variable(inputs, requires_grad=False).float()\n"
     ]
    },
    {
     "name": "stdin",
     "output_type": "stream",
     "text": [
      "(Pdb)  \n"
     ]
    },
    {
     "name": "stdout",
     "output_type": "stream",
     "text": [
      "> /Users/martinweiss/code/academic/conv-graph/models/model_wrapper.py(82)fit()\n",
      "-> if self.on_cuda:\n"
     ]
    },
    {
     "name": "stdin",
     "output_type": "stream",
     "text": [
      "(Pdb)  \n"
     ]
    },
    {
     "name": "stdout",
     "output_type": "stream",
     "text": [
      "> /Users/martinweiss/code/academic/conv-graph/models/model_wrapper.py(86)fit()\n",
      "-> self.train()\n"
     ]
    },
    {
     "name": "stdin",
     "output_type": "stream",
     "text": [
      "(Pdb)  \n"
     ]
    },
    {
     "name": "stdout",
     "output_type": "stream",
     "text": [
      "> /Users/martinweiss/code/academic/conv-graph/models/model_wrapper.py(87)fit()\n",
      "-> y_pred = self(inputs)\n"
     ]
    },
    {
     "name": "stdin",
     "output_type": "stream",
     "text": [
      "(Pdb)  \n"
     ]
    },
    {
     "name": "stdout",
     "output_type": "stream",
     "text": [
      "6.448231935501099\n",
      "1.2253680229187012\n",
      "0.3018770217895508\n",
      "> /Users/martinweiss/code/academic/conv-graph/models/model_wrapper.py(89)fit()\n",
      "-> targets = Variable(labels, requires_grad=False).long()\n"
     ]
    },
    {
     "name": "stdin",
     "output_type": "stream",
     "text": [
      "(Pdb)  n\n"
     ]
    },
    {
     "name": "stdout",
     "output_type": "stream",
     "text": [
      "> /Users/martinweiss/code/academic/conv-graph/models/model_wrapper.py(90)fit()\n",
      "-> loss = criterion(y_pred, targets)\n"
     ]
    },
    {
     "name": "stdin",
     "output_type": "stream",
     "text": [
      "(Pdb)  \n"
     ]
    },
    {
     "name": "stdout",
     "output_type": "stream",
     "text": [
      "> /Users/martinweiss/code/academic/conv-graph/models/model_wrapper.py(93)fit()\n",
      "-> optimizer.zero_grad()\n"
     ]
    },
    {
     "name": "stdin",
     "output_type": "stream",
     "text": [
      "(Pdb)  \n"
     ]
    },
    {
     "name": "stdout",
     "output_type": "stream",
     "text": [
      "> /Users/martinweiss/code/academic/conv-graph/models/model_wrapper.py(94)fit()\n",
      "-> loss.backward()\n"
     ]
    },
    {
     "name": "stdin",
     "output_type": "stream",
     "text": [
      "(Pdb)  \n"
     ]
    },
    {
     "name": "stdout",
     "output_type": "stream",
     "text": [
      "> /Users/martinweiss/code/academic/conv-graph/models/model_wrapper.py(95)fit()\n",
      "-> optimizer.step()\n"
     ]
    },
    {
     "name": "stdin",
     "output_type": "stream",
     "text": [
      "(Pdb)  n\n"
     ]
    },
    {
     "name": "stdout",
     "output_type": "stream",
     "text": [
      "> /Users/martinweiss/code/academic/conv-graph/models/model_wrapper.py(96)fit()\n",
      "-> self.eval()\n"
     ]
    },
    {
     "name": "stdin",
     "output_type": "stream",
     "text": [
      "(Pdb)  n\n"
     ]
    },
    {
     "name": "stdout",
     "output_type": "stream",
     "text": [
      "> /Users/martinweiss/code/academic/conv-graph/models/model_wrapper.py(78)fit()\n",
      "-> for i in range(0, x_train.shape[0], self.batch_size):\n"
     ]
    },
    {
     "name": "stdin",
     "output_type": "stream",
     "text": [
      "(Pdb)  \n"
     ]
    },
    {
     "name": "stdout",
     "output_type": "stream",
     "text": [
      "> /Users/martinweiss/code/academic/conv-graph/models/model_wrapper.py(79)fit()\n",
      "-> inputs, labels = x_train[i:i + self.batch_size], y_train[i:i + self.batch_size]\n"
     ]
    },
    {
     "name": "stdin",
     "output_type": "stream",
     "text": [
      "(Pdb)  \n"
     ]
    },
    {
     "name": "stdout",
     "output_type": "stream",
     "text": [
      "> /Users/martinweiss/code/academic/conv-graph/models/model_wrapper.py(81)fit()\n",
      "-> inputs = Variable(inputs, requires_grad=False).float()\n"
     ]
    },
    {
     "name": "stdin",
     "output_type": "stream",
     "text": [
      "(Pdb)  \n"
     ]
    },
    {
     "name": "stdout",
     "output_type": "stream",
     "text": [
      "> /Users/martinweiss/code/academic/conv-graph/models/model_wrapper.py(82)fit()\n",
      "-> if self.on_cuda:\n"
     ]
    },
    {
     "name": "stdin",
     "output_type": "stream",
     "text": [
      "(Pdb)  \n"
     ]
    },
    {
     "name": "stdout",
     "output_type": "stream",
     "text": [
      "> /Users/martinweiss/code/academic/conv-graph/models/model_wrapper.py(86)fit()\n",
      "-> self.train()\n"
     ]
    },
    {
     "name": "stdin",
     "output_type": "stream",
     "text": [
      "(Pdb)  \n"
     ]
    },
    {
     "name": "stdout",
     "output_type": "stream",
     "text": [
      "> /Users/martinweiss/code/academic/conv-graph/models/model_wrapper.py(87)fit()\n",
      "-> y_pred = self(inputs)\n"
     ]
    },
    {
     "name": "stdin",
     "output_type": "stream",
     "text": [
      "(Pdb)  l\n"
     ]
    },
    {
     "name": "stdout",
     "output_type": "stream",
     "text": [
      " 82  \t                if self.on_cuda:\n",
      " 83  \t                    inputs = inputs.cuda()\n",
      " 84  \t                    labels = labels.cuda()\n",
      " 85  \t\n",
      " 86  \t                self.train()\n",
      " 87  ->\t                y_pred = self(inputs)\n",
      " 88  \t\n",
      " 89  \t                targets = Variable(labels, requires_grad=False).long()\n",
      " 90  \t                loss = criterion(y_pred, targets)\n",
      " 91  \t\n",
      " 92  \t                # Zero gradients, perform a backward pass, and update the weights.\n"
     ]
    },
    {
     "name": "stdin",
     "output_type": "stream",
     "text": [
      "(Pdb)  n\n"
     ]
    },
    {
     "name": "stdout",
     "output_type": "stream",
     "text": [
      "6.4063720703125\n",
      "1.2101500034332275\n",
      "0.3076190948486328\n",
      "> /Users/martinweiss/code/academic/conv-graph/models/model_wrapper.py(89)fit()\n",
      "-> targets = Variable(labels, requires_grad=False).long()\n"
     ]
    },
    {
     "name": "stdin",
     "output_type": "stream",
     "text": [
      "(Pdb)  n\n"
     ]
    },
    {
     "name": "stdout",
     "output_type": "stream",
     "text": [
      "> /Users/martinweiss/code/academic/conv-graph/models/model_wrapper.py(90)fit()\n",
      "-> loss = criterion(y_pred, targets)\n"
     ]
    },
    {
     "name": "stdin",
     "output_type": "stream",
     "text": [
      "(Pdb)  \n"
     ]
    },
    {
     "name": "stdout",
     "output_type": "stream",
     "text": [
      "> /Users/martinweiss/code/academic/conv-graph/models/model_wrapper.py(93)fit()\n",
      "-> optimizer.zero_grad()\n"
     ]
    },
    {
     "name": "stdin",
     "output_type": "stream",
     "text": [
      "(Pdb)  \n"
     ]
    },
    {
     "name": "stdout",
     "output_type": "stream",
     "text": [
      "> /Users/martinweiss/code/academic/conv-graph/models/model_wrapper.py(94)fit()\n",
      "-> loss.backward()\n"
     ]
    },
    {
     "name": "stdin",
     "output_type": "stream",
     "text": [
      "(Pdb)  \n"
     ]
    },
    {
     "name": "stdout",
     "output_type": "stream",
     "text": [
      "> /Users/martinweiss/code/academic/conv-graph/models/model_wrapper.py(95)fit()\n",
      "-> optimizer.step()\n"
     ]
    }
   ],
   "source": [
    "for row in todo:\n",
    "    print(row)\n",
    "    start_time = time.time()\n",
    "    gene = row[\"gene\"]\n",
    "    model_name = row[\"model\"]\n",
    "    seed = row[\"seed\"]\n",
    "    num_genes = row[\"num_genes\"]\n",
    "    train_size = row[\"train_size\"]\n",
    "\n",
    "    model = [x for x in model_list if x.name == model_name][0]\n",
    "\n",
    "    experiment = {\n",
    "        \"gene\": gene,\n",
    "        \"model\": model.name,\n",
    "        \"num_genes\": num_genes,\n",
    "        \"train_size\": train_size,\n",
    "        \"seed\": seed,\n",
    "    }\n",
    "\n",
    "    dataset.labels = dataset.df[gene].where(dataset.df[gene] > 0).notnull().astype(\"int\")\n",
    "    X_train, X_test, y_train, y_test = sklearn.model_selection.train_test_split(dataset.df, dataset.labels, stratify=dataset.labels, train_size=train_size, test_size=test_size, random_state=seed)\n",
    "    \n",
    "    if num_genes == 16300:\n",
    "        neighbors = gene_graph.nx_graph\n",
    "    else:\n",
    "        neighbors = gene_graph.bfs_sample_neighbors(gene, num_genes)\n",
    "\n",
    "    X_train = X_train[list(neighbors.nodes)].copy()\n",
    "    X_test = X_test[list(neighbors.nodes)].copy()\n",
    "    X_train[gene] = 1\n",
    "    X_test[gene] = 1\n",
    "    adj = np.asarray(nx.to_numpy_matrix(neighbors))\n",
    "    model.fit(X_train, y_train, adj=adj)\n",
    "    \n",
    "    x_test = Variable(torch.FloatTensor(np.expand_dims(X_test.values, axis=2)), requires_grad=False).float()\n",
    "    if cuda:\n",
    "        x_test = x_test.cuda()\n",
    "    \n",
    "    y_hat = []\n",
    "    for chunk in get_every_n(x_test, 10):\n",
    "        y_hat.extend(model.predict(chunk)[:,1].data.cpu().numpy().tolist())\n",
    "    auc = sklearn.metrics.roc_auc_score(y_test, np.asarray(y_hat).flatten())\n",
    "\n",
    "    del model\n",
    "    experiment[\"auc\"] = auc\n",
    "    experiment[\"time_elapsed\"] = str(time.time() - start_time)\n",
    "    results = record_result(results, experiment, filename)\n",
    "    print(\"time elapsed for genes: \" +str(num_genes) + \" : \" + str(time.time() - start_time))\n"
   ]
  },
  {
   "cell_type": "code",
   "execution_count": 6,
   "metadata": {},
   "outputs": [],
   "source": [
    "from collections import defaultdict"
   ]
  },
  {
   "cell_type": "code",
   "execution_count": 80,
   "metadata": {},
   "outputs": [],
   "source": [
    "neighbors = gene_graph.bfs_sample_neighbors(\"RPL3\", 50)\n",
    "adj = nx.to_scipy_sparse_matrix(neighbors)\n",
    "\n"
   ]
  },
  {
   "cell_type": "code",
   "execution_count": 84,
   "metadata": {},
   "outputs": [],
   "source": [
    "clusters = sklearn.cluster.AgglomerativeClustering(n_clusters=20, affinity='euclidean',\n",
    "                                                     memory='.cache', connectivity=adj,\n",
    "                                                     compute_full_tree='auto', linkage='ward').fit_predict(adj.toarray())\n"
   ]
  },
  {
   "cell_type": "code",
   "execution_count": 11,
   "metadata": {},
   "outputs": [],
   "source": [
    "clusters = np.load(\".cache/kmeans1f5b9922ed8e7a7b61c15e7442c799be6d22d58a83bd6f68c4bfc9c726613d088150.npy\")\n"
   ]
  },
  {
   "cell_type": "code",
   "execution_count": 85,
   "metadata": {},
   "outputs": [],
   "source": [
    "nx_adj = nx.OrderedGraph(nx.from_scipy_sparse_matrix(adj))\n",
    "cluster_dict = defaultdict(list)\n"
   ]
  },
  {
   "cell_type": "code",
   "execution_count": 13,
   "metadata": {},
   "outputs": [],
   "source": [
    "n_clusters = len(set(clusters))\n"
   ]
  },
  {
   "cell_type": "code",
   "execution_count": 144,
   "metadata": {},
   "outputs": [
    {
     "data": {
      "text/plain": [
       "<50x50 sparse matrix of type '<class 'numpy.float64'>'\n",
       "\twith 784 stored elements in COOrdinate format>"
      ]
     },
     "execution_count": 144,
     "metadata": {},
     "output_type": "execute_result"
    }
   ],
   "source": [
    "coo"
   ]
  },
  {
   "cell_type": "code",
   "execution_count": 142,
   "metadata": {},
   "outputs": [],
   "source": [
    "new = sparse.csr_matrix((n_clusters, n_clusters))"
   ]
  },
  {
   "cell_type": "code",
   "execution_count": 184,
   "metadata": {},
   "outputs": [
    {
     "data": {
      "text/plain": [
       "<50x50 sparse matrix of type '<class 'numpy.float64'>'\n",
       "\twith 141 stored elements in Compressed Sparse Row format>"
      ]
     },
     "execution_count": 184,
     "metadata": {},
     "output_type": "execute_result"
    }
   ],
   "source": [
    "coo.tocsr()"
   ]
  },
  {
   "cell_type": "code",
   "execution_count": 180,
   "metadata": {},
   "outputs": [
    {
     "data": {
      "text/plain": [
       "<50x50 sparse matrix of type '<class 'numpy.float64'>'\n",
       "\twith 141 stored elements in Compressed Sparse Row format>"
      ]
     },
     "execution_count": 180,
     "metadata": {},
     "output_type": "execute_result"
    }
   ],
   "source": [
    "cleaned = defaultdict(list)\n",
    "for i, cluster in enumerate(clusters):\n",
    "    cleaned[i] = min(np.argwhere(clusters == cluster).flatten())\n",
    "    \n",
    "coo = adj.tocoo()\n",
    "for i, col in enumerate(coo.__dict__[\"col\"]):\n",
    "    coo.__dict__[\"col\"][i] = cleaned[col]\n",
    "for i, row in enumerate(coo.__dict__[\"row\"]):\n",
    "    coo.__dict__[\"row\"][i] = cleaned[row]\n",
    "coo.tocsr()"
   ]
  },
  {
   "cell_type": "code",
   "execution_count": 174,
   "metadata": {},
   "outputs": [],
   "source": []
  },
  {
   "cell_type": "code",
   "execution_count": 165,
   "metadata": {},
   "outputs": [
    {
     "data": {
      "text/plain": [
       "defaultdict(list,\n",
       "            {0: array([0]),\n",
       "             1: array([1]),\n",
       "             2: array([ 2,  3,  4,  5,  9, 10, 11, 13, 15, 20, 22, 27, 28, 31, 32, 33, 34,\n",
       "                    36, 42, 43, 44, 46]),\n",
       "             3: array([ 2,  3,  4,  5,  9, 10, 11, 13, 15, 20, 22, 27, 28, 31, 32, 33, 34,\n",
       "                    36, 42, 43, 44, 46]),\n",
       "             4: array([ 2,  3,  4,  5,  9, 10, 11, 13, 15, 20, 22, 27, 28, 31, 32, 33, 34,\n",
       "                    36, 42, 43, 44, 46]),\n",
       "             5: array([ 2,  3,  4,  5,  9, 10, 11, 13, 15, 20, 22, 27, 28, 31, 32, 33, 34,\n",
       "                    36, 42, 43, 44, 46]),\n",
       "             6: array([ 6,  7, 37, 39]),\n",
       "             7: array([ 6,  7, 37, 39]),\n",
       "             8: array([ 8, 30, 45, 49]),\n",
       "             9: array([ 2,  3,  4,  5,  9, 10, 11, 13, 15, 20, 22, 27, 28, 31, 32, 33, 34,\n",
       "                    36, 42, 43, 44, 46]),\n",
       "             10: array([ 2,  3,  4,  5,  9, 10, 11, 13, 15, 20, 22, 27, 28, 31, 32, 33, 34,\n",
       "                    36, 42, 43, 44, 46]),\n",
       "             11: array([ 2,  3,  4,  5,  9, 10, 11, 13, 15, 20, 22, 27, 28, 31, 32, 33, 34,\n",
       "                    36, 42, 43, 44, 46]),\n",
       "             12: array([12]),\n",
       "             13: array([ 2,  3,  4,  5,  9, 10, 11, 13, 15, 20, 22, 27, 28, 31, 32, 33, 34,\n",
       "                    36, 42, 43, 44, 46]),\n",
       "             14: array([14]),\n",
       "             15: array([ 2,  3,  4,  5,  9, 10, 11, 13, 15, 20, 22, 27, 28, 31, 32, 33, 34,\n",
       "                    36, 42, 43, 44, 46]),\n",
       "             16: array([16]),\n",
       "             17: array([17, 38, 40]),\n",
       "             18: array([18]),\n",
       "             19: array([19]),\n",
       "             20: array([ 2,  3,  4,  5,  9, 10, 11, 13, 15, 20, 22, 27, 28, 31, 32, 33, 34,\n",
       "                    36, 42, 43, 44, 46]),\n",
       "             21: array([21]),\n",
       "             22: array([ 2,  3,  4,  5,  9, 10, 11, 13, 15, 20, 22, 27, 28, 31, 32, 33, 34,\n",
       "                    36, 42, 43, 44, 46]),\n",
       "             23: array([23]),\n",
       "             24: array([24]),\n",
       "             25: array([25]),\n",
       "             26: array([26, 48]),\n",
       "             27: array([ 2,  3,  4,  5,  9, 10, 11, 13, 15, 20, 22, 27, 28, 31, 32, 33, 34,\n",
       "                    36, 42, 43, 44, 46]),\n",
       "             28: array([ 2,  3,  4,  5,  9, 10, 11, 13, 15, 20, 22, 27, 28, 31, 32, 33, 34,\n",
       "                    36, 42, 43, 44, 46]),\n",
       "             29: array([29]),\n",
       "             30: array([ 8, 30, 45, 49]),\n",
       "             31: array([ 2,  3,  4,  5,  9, 10, 11, 13, 15, 20, 22, 27, 28, 31, 32, 33, 34,\n",
       "                    36, 42, 43, 44, 46]),\n",
       "             32: array([ 2,  3,  4,  5,  9, 10, 11, 13, 15, 20, 22, 27, 28, 31, 32, 33, 34,\n",
       "                    36, 42, 43, 44, 46]),\n",
       "             33: array([ 2,  3,  4,  5,  9, 10, 11, 13, 15, 20, 22, 27, 28, 31, 32, 33, 34,\n",
       "                    36, 42, 43, 44, 46]),\n",
       "             34: array([ 2,  3,  4,  5,  9, 10, 11, 13, 15, 20, 22, 27, 28, 31, 32, 33, 34,\n",
       "                    36, 42, 43, 44, 46]),\n",
       "             35: array([35]),\n",
       "             36: array([ 2,  3,  4,  5,  9, 10, 11, 13, 15, 20, 22, 27, 28, 31, 32, 33, 34,\n",
       "                    36, 42, 43, 44, 46]),\n",
       "             37: array([ 6,  7, 37, 39]),\n",
       "             38: array([17, 38, 40]),\n",
       "             39: array([ 6,  7, 37, 39]),\n",
       "             40: array([17, 38, 40]),\n",
       "             41: array([41]),\n",
       "             42: array([ 2,  3,  4,  5,  9, 10, 11, 13, 15, 20, 22, 27, 28, 31, 32, 33, 34,\n",
       "                    36, 42, 43, 44, 46]),\n",
       "             43: array([ 2,  3,  4,  5,  9, 10, 11, 13, 15, 20, 22, 27, 28, 31, 32, 33, 34,\n",
       "                    36, 42, 43, 44, 46]),\n",
       "             44: array([ 2,  3,  4,  5,  9, 10, 11, 13, 15, 20, 22, 27, 28, 31, 32, 33, 34,\n",
       "                    36, 42, 43, 44, 46]),\n",
       "             45: array([ 8, 30, 45, 49]),\n",
       "             46: array([ 2,  3,  4,  5,  9, 10, 11, 13, 15, 20, 22, 27, 28, 31, 32, 33, 34,\n",
       "                    36, 42, 43, 44, 46]),\n",
       "             47: array([47]),\n",
       "             48: array([26, 48]),\n",
       "             49: array([ 8, 30, 45, 49])})"
      ]
     },
     "execution_count": 165,
     "metadata": {},
     "output_type": "execute_result"
    }
   ],
   "source": []
  },
  {
   "cell_type": "code",
   "execution_count": 101,
   "metadata": {},
   "outputs": [
    {
     "data": {
      "text/plain": [
       "array([0.    , 0.06  , 0.013 , 0.011 , 0.012 , 0.0016, 0.01  , 0.011 ,\n",
       "       0.0079, 0.0033, 0.0011, 0.0084, 0.029 , 0.0039, 0.092 , 0.012 ,\n",
       "       0.014 , 0.015 , 0.053 , 0.11  , 0.014 , 0.01  , 0.002 , 0.037 ,\n",
       "       0.12  , 0.094 , 0.012 , 0.019 , 0.0052, 0.034 , 0.0073, 0.019 ,\n",
       "       0.0021, 0.0018, 0.0043, 0.046 , 0.0024, 0.0079, 0.011 , 0.0069,\n",
       "       0.016 , 0.043 , 0.014 , 0.0038, 0.018 , 0.0071, 0.0059, 0.012 ,\n",
       "       0.0074, 0.012 ])"
      ]
     },
     "execution_count": 101,
     "metadata": {},
     "output_type": "execute_result"
    }
   ],
   "source": [
    "adj.toarray()"
   ]
  },
  {
   "cell_type": "code",
   "execution_count": 105,
   "metadata": {},
   "outputs": [
    {
     "data": {
      "text/plain": [
       "array([0.0358, 0.042 , 0.0343, 0.012 , 0.1778, 0.094 , 0.0194, 0.046 ,\n",
       "       0.043 , 0.11  , 0.06  , 0.092 , 0.12  , 0.053 , 0.01  , 0.014 ,\n",
       "       0.037 , 0.029 , 0.034 , 0.    , 0.    , 0.    , 0.    , 0.    ,\n",
       "       0.    , 0.    , 0.    , 0.    , 0.    , 0.    , 0.    , 0.    ,\n",
       "       0.    , 0.    , 0.    , 0.    , 0.    , 0.    , 0.    , 0.    ,\n",
       "       0.    , 0.    , 0.    , 0.    , 0.    , 0.    , 0.    , 0.    ,\n",
       "       0.    , 0.    ])"
      ]
     },
     "execution_count": 105,
     "metadata": {},
     "output_type": "execute_result"
    }
   ],
   "source": [
    "coo.toarray()[19]"
   ]
  },
  {
   "cell_type": "code",
   "execution_count": 25,
   "metadata": {},
   "outputs": [
    {
     "name": "stderr",
     "output_type": "stream",
     "text": [
      "/Users/martinweiss/code/academic/conv-graph/venv/lib/python3.5/site-packages/ipykernel_launcher.py:8: SparseEfficiencyWarning: Changing the sparsity structure of a csr_matrix is expensive. lil_matrix is more efficient.\n",
      "  \n"
     ]
    },
    {
     "ename": "KeyboardInterrupt",
     "evalue": "",
     "output_type": "error",
     "traceback": [
      "\u001b[0;31m---------------------------------------------------------------------------\u001b[0m",
      "\u001b[0;31mKeyboardInterrupt\u001b[0m                         Traceback (most recent call last)",
      "\u001b[0;32m<ipython-input-25-c50469a74587>\u001b[0m in \u001b[0;36m<module>\u001b[0;34m\u001b[0m\n\u001b[1;32m      6\u001b[0m \u001b[0;32mfor\u001b[0m \u001b[0mi\u001b[0m\u001b[0;34m,\u001b[0m \u001b[0mcluster\u001b[0m \u001b[0;32min\u001b[0m \u001b[0menumerate\u001b[0m\u001b[0;34m(\u001b[0m\u001b[0mclusters\u001b[0m\u001b[0;34m)\u001b[0m\u001b[0;34m:\u001b[0m\u001b[0;34m\u001b[0m\u001b[0m\n\u001b[1;32m      7\u001b[0m     \u001b[0;32mfor\u001b[0m \u001b[0mindex\u001b[0m \u001b[0;32min\u001b[0m \u001b[0mnp\u001b[0m\u001b[0;34m.\u001b[0m\u001b[0margwhere\u001b[0m\u001b[0;34m(\u001b[0m\u001b[0mclusters\u001b[0m \u001b[0;34m==\u001b[0m \u001b[0mcluster\u001b[0m\u001b[0;34m)\u001b[0m\u001b[0;34m:\u001b[0m\u001b[0;34m\u001b[0m\u001b[0m\n\u001b[0;32m----> 8\u001b[0;31m         \u001b[0mcluster_adj\u001b[0m\u001b[0;34m[\u001b[0m\u001b[0mcluster\u001b[0m\u001b[0;34m]\u001b[0m \u001b[0;34m+=\u001b[0m \u001b[0madj\u001b[0m\u001b[0;34m[\u001b[0m\u001b[0mindex\u001b[0m\u001b[0;34m]\u001b[0m\u001b[0;31m#.sum(axis=1).T)[0]\u001b[0m\u001b[0;34m\u001b[0m\u001b[0m\n\u001b[0m\u001b[1;32m      9\u001b[0m \u001b[0;34m\u001b[0m\u001b[0m\n\u001b[1;32m     10\u001b[0m \u001b[0mprint\u001b[0m\u001b[0;34m(\u001b[0m\u001b[0mstart\u001b[0m \u001b[0;34m-\u001b[0m \u001b[0mtime\u001b[0m\u001b[0;34m.\u001b[0m\u001b[0mtime\u001b[0m\u001b[0;34m(\u001b[0m\u001b[0;34m)\u001b[0m\u001b[0;34m)\u001b[0m\u001b[0;34m\u001b[0m\u001b[0m\n",
      "\u001b[0;32m~/code/academic/conv-graph/venv/lib/python3.5/site-packages/scipy/sparse/compressed.py\u001b[0m in \u001b[0;36m__setitem__\u001b[0;34m(self, index, x)\u001b[0m\n\u001b[1;32m    648\u001b[0m             \u001b[0;31m# clear entries that will be overwritten\u001b[0m\u001b[0;34m\u001b[0m\u001b[0;34m\u001b[0m\u001b[0m\n\u001b[1;32m    649\u001b[0m             \u001b[0mci\u001b[0m\u001b[0;34m,\u001b[0m \u001b[0mcj\u001b[0m \u001b[0;34m=\u001b[0m \u001b[0mself\u001b[0m\u001b[0;34m.\u001b[0m\u001b[0m_swap\u001b[0m\u001b[0;34m(\u001b[0m\u001b[0;34m(\u001b[0m\u001b[0mi\u001b[0m\u001b[0;34m.\u001b[0m\u001b[0mravel\u001b[0m\u001b[0;34m(\u001b[0m\u001b[0;34m)\u001b[0m\u001b[0;34m,\u001b[0m \u001b[0mj\u001b[0m\u001b[0;34m.\u001b[0m\u001b[0mravel\u001b[0m\u001b[0;34m(\u001b[0m\u001b[0;34m)\u001b[0m\u001b[0;34m)\u001b[0m\u001b[0;34m)\u001b[0m\u001b[0;34m\u001b[0m\u001b[0m\n\u001b[0;32m--> 650\u001b[0;31m             \u001b[0mself\u001b[0m\u001b[0;34m.\u001b[0m\u001b[0m_zero_many\u001b[0m\u001b[0;34m(\u001b[0m\u001b[0mci\u001b[0m\u001b[0;34m,\u001b[0m \u001b[0mcj\u001b[0m\u001b[0;34m)\u001b[0m\u001b[0;34m\u001b[0m\u001b[0m\n\u001b[0m\u001b[1;32m    651\u001b[0m \u001b[0;34m\u001b[0m\u001b[0m\n\u001b[1;32m    652\u001b[0m             \u001b[0mx\u001b[0m \u001b[0;34m=\u001b[0m \u001b[0mx\u001b[0m\u001b[0;34m.\u001b[0m\u001b[0mtocoo\u001b[0m\u001b[0;34m(\u001b[0m\u001b[0mcopy\u001b[0m\u001b[0;34m=\u001b[0m\u001b[0;32mTrue\u001b[0m\u001b[0;34m)\u001b[0m\u001b[0;34m\u001b[0m\u001b[0m\n",
      "\u001b[0;32m~/code/academic/conv-graph/venv/lib/python3.5/site-packages/scipy/sparse/compressed.py\u001b[0m in \u001b[0;36m_zero_many\u001b[0;34m(self, i, j)\u001b[0m\n\u001b[1;32m    772\u001b[0m         \u001b[0mHere\u001b[0m \u001b[0;34m(\u001b[0m\u001b[0mi\u001b[0m\u001b[0;34m,\u001b[0m\u001b[0mj\u001b[0m\u001b[0;34m)\u001b[0m \u001b[0mindex\u001b[0m \u001b[0mmajor\u001b[0m \u001b[0;32mand\u001b[0m \u001b[0mminor\u001b[0m \u001b[0mrespectively\u001b[0m\u001b[0;34m.\u001b[0m\u001b[0;34m\u001b[0m\u001b[0m\n\u001b[1;32m    773\u001b[0m         \"\"\"\n\u001b[0;32m--> 774\u001b[0;31m         \u001b[0mi\u001b[0m\u001b[0;34m,\u001b[0m \u001b[0mj\u001b[0m\u001b[0;34m,\u001b[0m \u001b[0mM\u001b[0m\u001b[0;34m,\u001b[0m \u001b[0mN\u001b[0m \u001b[0;34m=\u001b[0m \u001b[0mself\u001b[0m\u001b[0;34m.\u001b[0m\u001b[0m_prepare_indices\u001b[0m\u001b[0;34m(\u001b[0m\u001b[0mi\u001b[0m\u001b[0;34m,\u001b[0m \u001b[0mj\u001b[0m\u001b[0;34m)\u001b[0m\u001b[0;34m\u001b[0m\u001b[0m\n\u001b[0m\u001b[1;32m    775\u001b[0m \u001b[0;34m\u001b[0m\u001b[0m\n\u001b[1;32m    776\u001b[0m         \u001b[0mn_samples\u001b[0m \u001b[0;34m=\u001b[0m \u001b[0mlen\u001b[0m\u001b[0;34m(\u001b[0m\u001b[0mi\u001b[0m\u001b[0;34m)\u001b[0m\u001b[0;34m\u001b[0m\u001b[0m\n",
      "\u001b[0;32m~/code/academic/conv-graph/venv/lib/python3.5/site-packages/scipy/sparse/compressed.py\u001b[0m in \u001b[0;36m_prepare_indices\u001b[0;34m(self, i, j)\u001b[0m\n\u001b[1;32m    721\u001b[0m                                  (idx, bound))\n\u001b[1;32m    722\u001b[0m \u001b[0;34m\u001b[0m\u001b[0m\n\u001b[0;32m--> 723\u001b[0;31m         \u001b[0mcheck_bounds\u001b[0m\u001b[0;34m(\u001b[0m\u001b[0mi\u001b[0m\u001b[0;34m,\u001b[0m \u001b[0mM\u001b[0m\u001b[0;34m)\u001b[0m\u001b[0;34m\u001b[0m\u001b[0m\n\u001b[0m\u001b[1;32m    724\u001b[0m         \u001b[0mcheck_bounds\u001b[0m\u001b[0;34m(\u001b[0m\u001b[0mj\u001b[0m\u001b[0;34m,\u001b[0m \u001b[0mN\u001b[0m\u001b[0;34m)\u001b[0m\u001b[0;34m\u001b[0m\u001b[0m\n\u001b[1;32m    725\u001b[0m \u001b[0;34m\u001b[0m\u001b[0m\n",
      "\u001b[0;32m~/code/academic/conv-graph/venv/lib/python3.5/site-packages/scipy/sparse/compressed.py\u001b[0m in \u001b[0;36mcheck_bounds\u001b[0;34m(indices, bound)\u001b[0m\n\u001b[1;32m    712\u001b[0m \u001b[0;34m\u001b[0m\u001b[0m\n\u001b[1;32m    713\u001b[0m         \u001b[0;32mdef\u001b[0m \u001b[0mcheck_bounds\u001b[0m\u001b[0;34m(\u001b[0m\u001b[0mindices\u001b[0m\u001b[0;34m,\u001b[0m \u001b[0mbound\u001b[0m\u001b[0;34m)\u001b[0m\u001b[0;34m:\u001b[0m\u001b[0;34m\u001b[0m\u001b[0m\n\u001b[0;32m--> 714\u001b[0;31m             \u001b[0midx\u001b[0m \u001b[0;34m=\u001b[0m \u001b[0mindices\u001b[0m\u001b[0;34m.\u001b[0m\u001b[0mmax\u001b[0m\u001b[0;34m(\u001b[0m\u001b[0;34m)\u001b[0m\u001b[0;34m\u001b[0m\u001b[0m\n\u001b[0m\u001b[1;32m    715\u001b[0m             \u001b[0;32mif\u001b[0m \u001b[0midx\u001b[0m \u001b[0;34m>=\u001b[0m \u001b[0mbound\u001b[0m\u001b[0;34m:\u001b[0m\u001b[0;34m\u001b[0m\u001b[0m\n\u001b[1;32m    716\u001b[0m                 raise IndexError('index (%d) out of range (>= %d)' %\n",
      "\u001b[0;32m~/code/academic/conv-graph/venv/lib/python3.5/site-packages/numpy/core/_methods.py\u001b[0m in \u001b[0;36m_amax\u001b[0;34m(a, axis, out, keepdims, initial)\u001b[0m\n\u001b[1;32m     26\u001b[0m def _amax(a, axis=None, out=None, keepdims=False,\n\u001b[1;32m     27\u001b[0m           initial=_NoValue):\n\u001b[0;32m---> 28\u001b[0;31m     \u001b[0;32mreturn\u001b[0m \u001b[0mumr_maximum\u001b[0m\u001b[0;34m(\u001b[0m\u001b[0ma\u001b[0m\u001b[0;34m,\u001b[0m \u001b[0maxis\u001b[0m\u001b[0;34m,\u001b[0m \u001b[0;32mNone\u001b[0m\u001b[0;34m,\u001b[0m \u001b[0mout\u001b[0m\u001b[0;34m,\u001b[0m \u001b[0mkeepdims\u001b[0m\u001b[0;34m,\u001b[0m \u001b[0minitial\u001b[0m\u001b[0;34m)\u001b[0m\u001b[0;34m\u001b[0m\u001b[0m\n\u001b[0m\u001b[1;32m     29\u001b[0m \u001b[0;34m\u001b[0m\u001b[0m\n\u001b[1;32m     30\u001b[0m def _amin(a, axis=None, out=None, keepdims=False,\n",
      "\u001b[0;31mKeyboardInterrupt\u001b[0m: "
     ]
    }
   ],
   "source": [
    "cluster_adj = sparse.csr_matrix(np.zeros((n_clusters, adj.shape[0])))\n",
    "\n",
    "start = time.time()\n",
    "\n",
    "cluster_dict = defaultdict(list)\n",
    "for i, cluster in enumerate(clusters):\n",
    "    for index in np.argwhere(clusters == cluster):\n",
    "        cluster_adj[cluster] += adj[index]\n",
    "\n",
    "print(start - time.time())"
   ]
  },
  {
   "cell_type": "code",
   "execution_count": null,
   "metadata": {},
   "outputs": [],
   "source": [
    "cluster_adj"
   ]
  },
  {
   "cell_type": "code",
   "execution_count": 9,
   "metadata": {},
   "outputs": [
    {
     "ename": "NameError",
     "evalue": "name 'n_clusters' is not defined",
     "output_type": "error",
     "traceback": [
      "\u001b[0;31m---------------------------------------------------------------------------\u001b[0m",
      "\u001b[0;31mNameError\u001b[0m                                 Traceback (most recent call last)",
      "\u001b[0;32m<ipython-input-9-1fee949b280d>\u001b[0m in \u001b[0;36m<module>\u001b[0;34m\u001b[0m\n\u001b[0;32m----> 1\u001b[0;31m \u001b[0mcluster_adj\u001b[0m \u001b[0;34m=\u001b[0m \u001b[0mnp\u001b[0m\u001b[0;34m.\u001b[0m\u001b[0mzeros\u001b[0m\u001b[0;34m(\u001b[0m\u001b[0;34m(\u001b[0m\u001b[0mn_clusters\u001b[0m\u001b[0;34m,\u001b[0m \u001b[0madj\u001b[0m\u001b[0;34m.\u001b[0m\u001b[0mshape\u001b[0m\u001b[0;34m[\u001b[0m\u001b[0;36m0\u001b[0m\u001b[0;34m]\u001b[0m\u001b[0;34m)\u001b[0m\u001b[0;34m)\u001b[0m\u001b[0;34m\u001b[0m\u001b[0m\n\u001b[0m\u001b[1;32m      2\u001b[0m \u001b[0mcluster_dict\u001b[0m \u001b[0;34m=\u001b[0m \u001b[0mdefaultdict\u001b[0m\u001b[0;34m(\u001b[0m\u001b[0mlist\u001b[0m\u001b[0;34m)\u001b[0m\u001b[0;34m\u001b[0m\u001b[0m\n\u001b[1;32m      3\u001b[0m \u001b[0;32mfor\u001b[0m \u001b[0mi\u001b[0m\u001b[0;34m,\u001b[0m \u001b[0mcluster\u001b[0m \u001b[0;32min\u001b[0m \u001b[0menumerate\u001b[0m\u001b[0;34m(\u001b[0m\u001b[0mclusters\u001b[0m\u001b[0;34m)\u001b[0m\u001b[0;34m:\u001b[0m\u001b[0;34m\u001b[0m\u001b[0m\n\u001b[1;32m      4\u001b[0m     \u001b[0mindices\u001b[0m \u001b[0;34m=\u001b[0m \u001b[0mnp\u001b[0m\u001b[0;34m.\u001b[0m\u001b[0margwhere\u001b[0m\u001b[0;34m(\u001b[0m\u001b[0mclusters\u001b[0m \u001b[0;34m==\u001b[0m \u001b[0mcluster\u001b[0m\u001b[0;34m)\u001b[0m\u001b[0;34m\u001b[0m\u001b[0m\n\u001b[1;32m      5\u001b[0m     \u001b[0mcluster_adj\u001b[0m\u001b[0;34m[\u001b[0m\u001b[0mcluster\u001b[0m\u001b[0;34m]\u001b[0m \u001b[0;34m+=\u001b[0m \u001b[0madj\u001b[0m\u001b[0;34m[\u001b[0m\u001b[0;34m:\u001b[0m\u001b[0;34m,\u001b[0m \u001b[0mindices\u001b[0m\u001b[0;34m.\u001b[0m\u001b[0mflatten\u001b[0m\u001b[0;34m(\u001b[0m\u001b[0;34m)\u001b[0m\u001b[0;34m]\u001b[0m\u001b[0;34m.\u001b[0m\u001b[0msum\u001b[0m\u001b[0;34m(\u001b[0m\u001b[0maxis\u001b[0m\u001b[0;34m=\u001b[0m\u001b[0;36m1\u001b[0m\u001b[0;34m)\u001b[0m\u001b[0;34m\u001b[0m\u001b[0m\n",
      "\u001b[0;31mNameError\u001b[0m: name 'n_clusters' is not defined"
     ]
    }
   ],
   "source": []
  },
  {
   "cell_type": "code",
   "execution_count": 10,
   "metadata": {},
   "outputs": [
    {
     "ename": "NameError",
     "evalue": "name 'clusters' is not defined",
     "output_type": "error",
     "traceback": [
      "\u001b[0;31m---------------------------------------------------------------------------\u001b[0m",
      "\u001b[0;31mNameError\u001b[0m                                 Traceback (most recent call last)",
      "\u001b[0;32m<ipython-input-10-d17f7773b0b5>\u001b[0m in \u001b[0;36m<module>\u001b[0;34m\u001b[0m\n\u001b[0;32m----> 1\u001b[0;31m \u001b[0mn_clusters\u001b[0m \u001b[0;34m=\u001b[0m \u001b[0mlen\u001b[0m\u001b[0;34m(\u001b[0m\u001b[0mset\u001b[0m\u001b[0;34m(\u001b[0m\u001b[0mclusters\u001b[0m\u001b[0;34m)\u001b[0m\u001b[0;34m)\u001b[0m\u001b[0;34m\u001b[0m\u001b[0m\n\u001b[0m\u001b[1;32m      2\u001b[0m \u001b[0madj\u001b[0m \u001b[0;34m=\u001b[0m \u001b[0mnx\u001b[0m\u001b[0;34m.\u001b[0m\u001b[0mOrderedGraph\u001b[0m\u001b[0;34m(\u001b[0m\u001b[0mnx\u001b[0m\u001b[0;34m.\u001b[0m\u001b[0mfrom_scipy_sparse_matrix\u001b[0m\u001b[0;34m(\u001b[0m\u001b[0madj\u001b[0m\u001b[0;34m)\u001b[0m\u001b[0;34m)\u001b[0m\u001b[0;34m\u001b[0m\u001b[0m\n",
      "\u001b[0;31mNameError\u001b[0m: name 'clusters' is not defined"
     ]
    }
   ],
   "source": []
  },
  {
   "cell_type": "code",
   "execution_count": 51,
   "metadata": {},
   "outputs": [],
   "source": [
    "cluster_dict = defaultdict(list)\n",
    "for i, cluster in enumerate(ids):\n",
    "    cluster_dict[cluster].append(i)\n"
   ]
  },
  {
   "cell_type": "code",
   "execution_count": 52,
   "metadata": {},
   "outputs": [
    {
     "ename": "KeyboardInterrupt",
     "evalue": "",
     "output_type": "error",
     "traceback": [
      "\u001b[0;31m---------------------------------------------------------------------------\u001b[0m",
      "\u001b[0;31mKeyboardInterrupt\u001b[0m                         Traceback (most recent call last)",
      "\u001b[0;32m<ipython-input-52-5c63bd236b6a>\u001b[0m in \u001b[0;36m<module>\u001b[0;34m\u001b[0m\n\u001b[1;32m      2\u001b[0m     \u001b[0mfirst_node\u001b[0m \u001b[0;34m=\u001b[0m \u001b[0mval\u001b[0m\u001b[0;34m[\u001b[0m\u001b[0;36m0\u001b[0m\u001b[0;34m]\u001b[0m\u001b[0;34m\u001b[0m\u001b[0m\n\u001b[1;32m      3\u001b[0m     \u001b[0;32mfor\u001b[0m \u001b[0mother_node\u001b[0m \u001b[0;32min\u001b[0m \u001b[0mval\u001b[0m\u001b[0;34m[\u001b[0m\u001b[0;36m1\u001b[0m\u001b[0;34m:\u001b[0m\u001b[0;34m]\u001b[0m\u001b[0;34m:\u001b[0m\u001b[0;34m\u001b[0m\u001b[0m\n\u001b[0;32m----> 4\u001b[0;31m         \u001b[0madj\u001b[0m \u001b[0;34m=\u001b[0m \u001b[0mnx\u001b[0m\u001b[0;34m.\u001b[0m\u001b[0mcontracted_nodes\u001b[0m\u001b[0;34m(\u001b[0m\u001b[0madj\u001b[0m\u001b[0;34m,\u001b[0m \u001b[0mfirst_node\u001b[0m\u001b[0;34m,\u001b[0m \u001b[0mother_node\u001b[0m\u001b[0;34m)\u001b[0m\u001b[0;34m\u001b[0m\u001b[0m\n\u001b[0m\u001b[1;32m      5\u001b[0m \u001b[0madj\u001b[0m \u001b[0;34m=\u001b[0m \u001b[0mnx\u001b[0m\u001b[0;34m.\u001b[0m\u001b[0mto_scipy_sparse_matrix\u001b[0m\u001b[0;34m(\u001b[0m\u001b[0madj\u001b[0m\u001b[0;34m)\u001b[0m\u001b[0;34m\u001b[0m\u001b[0m\n",
      "\u001b[0;32m~/code/academic/conv-graph/venv/lib/python3.5/site-packages/networkx/algorithms/minors.py\u001b[0m in \u001b[0;36mcontracted_nodes\u001b[0;34m(G, u, v, self_loops)\u001b[0m\n\u001b[1;32m    359\u001b[0m     \u001b[0mThis\u001b[0m \u001b[0mfunction\u001b[0m \u001b[0;32mis\u001b[0m \u001b[0malso\u001b[0m \u001b[0mavailable\u001b[0m \u001b[0;32mas\u001b[0m\u001b[0;31m \u001b[0m\u001b[0;31m`\u001b[0m\u001b[0midentified_nodes\u001b[0m\u001b[0;31m`\u001b[0m\u001b[0;34m.\u001b[0m\u001b[0;34m\u001b[0m\u001b[0m\n\u001b[1;32m    360\u001b[0m     \"\"\"\n\u001b[0;32m--> 361\u001b[0;31m     \u001b[0mH\u001b[0m \u001b[0;34m=\u001b[0m \u001b[0mG\u001b[0m\u001b[0;34m.\u001b[0m\u001b[0mcopy\u001b[0m\u001b[0;34m(\u001b[0m\u001b[0;34m)\u001b[0m\u001b[0;34m\u001b[0m\u001b[0m\n\u001b[0m\u001b[1;32m    362\u001b[0m     \u001b[0;31m# edge code uses G.edges(v) instead of G.adj[v] to handle multiedges\u001b[0m\u001b[0;34m\u001b[0m\u001b[0;34m\u001b[0m\u001b[0m\n\u001b[1;32m    363\u001b[0m     \u001b[0;32mif\u001b[0m \u001b[0mH\u001b[0m\u001b[0;34m.\u001b[0m\u001b[0mis_directed\u001b[0m\u001b[0;34m(\u001b[0m\u001b[0;34m)\u001b[0m\u001b[0;34m:\u001b[0m\u001b[0;34m\u001b[0m\u001b[0m\n",
      "\u001b[0;32m~/code/academic/conv-graph/venv/lib/python3.5/site-packages/networkx/classes/graph.py\u001b[0m in \u001b[0;36mcopy\u001b[0;34m(self, as_view)\u001b[0m\n\u001b[1;32m   1530\u001b[0m         \u001b[0mG\u001b[0m\u001b[0;34m.\u001b[0m\u001b[0madd_nodes_from\u001b[0m\u001b[0;34m(\u001b[0m\u001b[0;34m(\u001b[0m\u001b[0mn\u001b[0m\u001b[0;34m,\u001b[0m \u001b[0md\u001b[0m\u001b[0;34m.\u001b[0m\u001b[0mcopy\u001b[0m\u001b[0;34m(\u001b[0m\u001b[0;34m)\u001b[0m\u001b[0;34m)\u001b[0m \u001b[0;32mfor\u001b[0m \u001b[0mn\u001b[0m\u001b[0;34m,\u001b[0m \u001b[0md\u001b[0m \u001b[0;32min\u001b[0m \u001b[0mself\u001b[0m\u001b[0;34m.\u001b[0m\u001b[0m_node\u001b[0m\u001b[0;34m.\u001b[0m\u001b[0mitems\u001b[0m\u001b[0;34m(\u001b[0m\u001b[0;34m)\u001b[0m\u001b[0;34m)\u001b[0m\u001b[0;34m\u001b[0m\u001b[0m\n\u001b[1;32m   1531\u001b[0m         G.add_edges_from((u, v, datadict.copy())\n\u001b[0;32m-> 1532\u001b[0;31m                          \u001b[0;32mfor\u001b[0m \u001b[0mu\u001b[0m\u001b[0;34m,\u001b[0m \u001b[0mnbrs\u001b[0m \u001b[0;32min\u001b[0m \u001b[0mself\u001b[0m\u001b[0;34m.\u001b[0m\u001b[0m_adj\u001b[0m\u001b[0;34m.\u001b[0m\u001b[0mitems\u001b[0m\u001b[0;34m(\u001b[0m\u001b[0;34m)\u001b[0m\u001b[0;34m\u001b[0m\u001b[0m\n\u001b[0m\u001b[1;32m   1533\u001b[0m                          for v, datadict in nbrs.items())\n\u001b[1;32m   1534\u001b[0m         \u001b[0;32mreturn\u001b[0m \u001b[0mG\u001b[0m\u001b[0;34m\u001b[0m\u001b[0m\n",
      "\u001b[0;32m~/code/academic/conv-graph/venv/lib/python3.5/site-packages/networkx/classes/graph.py\u001b[0m in \u001b[0;36madd_edges_from\u001b[0;34m(self, ebunch_to_add, **attr)\u001b[0m\n\u001b[1;32m    961\u001b[0m             \u001b[0mdatadict\u001b[0m\u001b[0;34m.\u001b[0m\u001b[0mupdate\u001b[0m\u001b[0;34m(\u001b[0m\u001b[0mdd\u001b[0m\u001b[0;34m)\u001b[0m\u001b[0;34m\u001b[0m\u001b[0m\n\u001b[1;32m    962\u001b[0m             \u001b[0mself\u001b[0m\u001b[0;34m.\u001b[0m\u001b[0m_adj\u001b[0m\u001b[0;34m[\u001b[0m\u001b[0mu\u001b[0m\u001b[0;34m]\u001b[0m\u001b[0;34m[\u001b[0m\u001b[0mv\u001b[0m\u001b[0;34m]\u001b[0m \u001b[0;34m=\u001b[0m \u001b[0mdatadict\u001b[0m\u001b[0;34m\u001b[0m\u001b[0m\n\u001b[0;32m--> 963\u001b[0;31m             \u001b[0mself\u001b[0m\u001b[0;34m.\u001b[0m\u001b[0m_adj\u001b[0m\u001b[0;34m[\u001b[0m\u001b[0mv\u001b[0m\u001b[0;34m]\u001b[0m\u001b[0;34m[\u001b[0m\u001b[0mu\u001b[0m\u001b[0;34m]\u001b[0m \u001b[0;34m=\u001b[0m \u001b[0mdatadict\u001b[0m\u001b[0;34m\u001b[0m\u001b[0m\n\u001b[0m\u001b[1;32m    964\u001b[0m \u001b[0;34m\u001b[0m\u001b[0m\n\u001b[1;32m    965\u001b[0m     \u001b[0;32mdef\u001b[0m \u001b[0madd_weighted_edges_from\u001b[0m\u001b[0;34m(\u001b[0m\u001b[0mself\u001b[0m\u001b[0;34m,\u001b[0m \u001b[0mebunch_to_add\u001b[0m\u001b[0;34m,\u001b[0m \u001b[0mweight\u001b[0m\u001b[0;34m=\u001b[0m\u001b[0;34m'weight'\u001b[0m\u001b[0;34m,\u001b[0m \u001b[0;34m**\u001b[0m\u001b[0mattr\u001b[0m\u001b[0;34m)\u001b[0m\u001b[0;34m:\u001b[0m\u001b[0;34m\u001b[0m\u001b[0m\n",
      "\u001b[0;31mKeyboardInterrupt\u001b[0m: "
     ]
    }
   ],
   "source": [
    "for key, val in cluster_dict.items():\n",
    "    first_node = val[0]\n",
    "    for other_node in val[1:]:\n",
    "        adj = nx.contracted_nodes(adj, first_node, other_node)\n"
   ]
  },
  {
   "cell_type": "code",
   "execution_count": 55,
   "metadata": {},
   "outputs": [],
   "source": [
    "adj = nx.to_scipy_sparse_matrix(adj)\n"
   ]
  },
  {
   "cell_type": "code",
   "execution_count": 69,
   "metadata": {},
   "outputs": [
    {
     "ename": "AttributeError",
     "evalue": "'numpy.ndarray' object has no attribute 'indices'",
     "output_type": "error",
     "traceback": [
      "\u001b[0;31m---------------------------------------------------------------------------\u001b[0m",
      "\u001b[0;31mAttributeError\u001b[0m                            Traceback (most recent call last)",
      "\u001b[0;32m<ipython-input-69-060784ca37dc>\u001b[0m in \u001b[0;36m<module>\u001b[0;34m\u001b[0m\n\u001b[0;32m----> 1\u001b[0;31m \u001b[0mclusters\u001b[0m\u001b[0;34m[\u001b[0m\u001b[0mclusters\u001b[0m \u001b[0;34m==\u001b[0m \u001b[0;36m4560\u001b[0m\u001b[0;34m]\u001b[0m\u001b[0;34m.\u001b[0m\u001b[0mindices\u001b[0m\u001b[0;34m\u001b[0m\u001b[0m\n\u001b[0m",
      "\u001b[0;31mAttributeError\u001b[0m: 'numpy.ndarray' object has no attribute 'indices'"
     ]
    }
   ],
   "source": [
    "clusters[clusters == 4560]"
   ]
  },
  {
   "cell_type": "code",
   "execution_count": 62,
   "metadata": {},
   "outputs": [],
   "source": [
    "cluster_adj = np.zeros((n_clusters, adj.shape[0]))\n",
    "for i, cluster in enumerate(clusters):\n",
    "    cluster_adj[cluster] += adj[i]"
   ]
  },
  {
   "cell_type": "code",
   "execution_count": 63,
   "metadata": {},
   "outputs": [
    {
     "data": {
      "text/plain": [
       "(8150, 16300)"
      ]
     },
     "execution_count": 63,
     "metadata": {},
     "output_type": "execute_result"
    }
   ],
   "source": [
    "cluster_adj"
   ]
  },
  {
   "cell_type": "code",
   "execution_count": 33,
   "metadata": {},
   "outputs": [],
   "source": [
    "for key, val in cluster_dict.items():\n",
    "    first_node = val[0]\n",
    "    for other_node in val[1:]:\n",
    "        uf.union(first_node, other_node)\n"
   ]
  },
  {
   "cell_type": "code",
   "execution_count": null,
   "metadata": {},
   "outputs": [],
   "source": []
  },
  {
   "cell_type": "code",
   "execution_count": null,
   "metadata": {},
   "outputs": [],
   "source": []
  },
  {
   "cell_type": "code",
   "execution_count": 149,
   "metadata": {},
   "outputs": [],
   "source": [
    "#neighbors = gene_graph.bfs_sample_neighbors(gene, num_genes)\n",
    "adj = nx.to_scipy_sparse_matrix(gene_graph.nx_graph)\n"
   ]
  },
  {
   "cell_type": "code",
   "execution_count": null,
   "metadata": {},
   "outputs": [],
   "source": []
  },
  {
   "cell_type": "code",
   "execution_count": null,
   "metadata": {},
   "outputs": [],
   "source": [
    "ids = sklearn.cluster.AgglomerativeClustering(n_clusters=20, affinity='euclidean',\n",
    "                                                     memory='.cache', connectivity=adj,\n",
    "                                                     compute_full_tree='auto', linkage='ward').fit_predict(adj)\n"
   ]
  },
  {
   "cell_type": "code",
   "execution_count": 26,
   "metadata": {},
   "outputs": [],
   "source": []
  },
  {
   "cell_type": "code",
   "execution_count": null,
   "metadata": {},
   "outputs": [],
   "source": []
  },
  {
   "cell_type": "code",
   "execution_count": 131,
   "metadata": {},
   "outputs": [],
   "source": [
    "from scipy import sparse\n",
    "from collections import defaultdict\n",
    "nx_adj = nx.OrderedGraph(nx.from_scipy_sparse_matrix(adj))\n",
    "clustered = nx_adj\n",
    "cluster_dict = defaultdict(list)\n",
    "for i, cluster in enumerate(ids):\n",
    "    cluster_dict[cluster].append(i)\n",
    "for key, val in cluster_dict.items():\n",
    "    first_node = val[0]\n",
    "    for other_node in val[1:]:\n",
    "        clustered = nx.contracted_nodes(clustered, first_node, other_node)\n"
   ]
  },
  {
   "cell_type": "code",
   "execution_count": 135,
   "metadata": {},
   "outputs": [],
   "source": []
  },
  {
   "cell_type": "code",
   "execution_count": 138,
   "metadata": {},
   "outputs": [
    {
     "data": {
      "text/plain": [
       "matrix([[0.     , 0.032  , 0.0074 , 0.11   , 0.0061 , 0.0031 , 0.015  ,\n",
       "         0.01   , 0.04   , 0.011  , 0.0023 , 0.047  , 0.11   , 0.014  ,\n",
       "         0.0058 , 0.013  , 0.0065 , 0.0043 , 0.0056 , 0.015  ],\n",
       "        [0.032  , 0.     , 0.     , 0.     , 0.     , 0.016  , 0.     ,\n",
       "         0.     , 0.     , 0.     , 0.     , 0.     , 0.     , 0.     ,\n",
       "         0.034  , 0.     , 0.     , 0.     , 0.     , 0.     ],\n",
       "        [0.0074 , 0.     , 0.     , 0.     , 0.0072 , 0.0077 , 0.     ,\n",
       "         0.013  , 0.     , 0.013  , 0.011  , 0.077  , 0.     , 0.019  ,\n",
       "         0.007  , 0.019  , 0.0078 , 0.     , 0.0067 , 0.018  ],\n",
       "        [0.11   , 0.     , 0.     , 0.     , 0.     , 0.     , 0.     ,\n",
       "         0.     , 0.     , 0.     , 0.     , 0.     , 0.     , 0.     ,\n",
       "         0.     , 0.     , 0.     , 0.     , 0.     , 0.     ],\n",
       "        [0.0061 , 0.     , 0.0072 , 0.     , 0.0035 , 0.003  , 0.0086 ,\n",
       "         0.0043 , 0.     , 0.011  , 0.0023 , 0.0081 , 0.     , 0.017  ,\n",
       "         0.0057 , 0.016  , 0.0064 , 0.0042 , 0.0055 , 0.0035 ],\n",
       "        [0.0031 , 0.016  , 0.0077 , 0.     , 0.003  , 0.0016 , 0.0058 ,\n",
       "         0.     , 0.     , 0.013  , 0.014  , 0.     , 0.     , 0.     ,\n",
       "         0.0029 , 0.0073 , 0.0032 , 0.0021 , 0.0028 , 0.0078 ],\n",
       "        [0.015  , 0.     , 0.     , 0.     , 0.0086 , 0.0058 , 0.019  ,\n",
       "         0.     , 0.     , 0.     , 0.     , 0.     , 0.     , 0.021  ,\n",
       "         0.011  , 0.016  , 0.023  , 0.029  , 0.014  , 0.023  ],\n",
       "        [0.01   , 0.     , 0.013  , 0.     , 0.0043 , 0.     , 0.     ,\n",
       "         0.     , 0.     , 0.     , 0.028  , 0.     , 0.     , 0.     ,\n",
       "         0.052  , 0.     , 0.092  , 0.     , 0.068  , 0.     ],\n",
       "        [0.04   , 0.     , 0.     , 0.     , 0.     , 0.     , 0.     ,\n",
       "         0.     , 0.     , 0.     , 0.     , 0.     , 0.     , 0.     ,\n",
       "         0.     , 0.028  , 0.     , 0.051  , 0.     , 0.     ],\n",
       "        [0.011  , 0.     , 0.013  , 0.     , 0.011  , 0.013  , 0.     ,\n",
       "         0.     , 0.     , 0.015  , 0.0043 , 0.     , 0.     , 0.014  ,\n",
       "         0.011  , 0.014  , 0.012  , 0.     , 0.01   , 0.028  ],\n",
       "        [0.0023 , 0.     , 0.011  , 0.     , 0.0023 , 0.014  , 0.     ,\n",
       "         0.028  , 0.     , 0.0043 , 0.0034 , 0.     , 0.11   , 0.014  ,\n",
       "         0.0022 , 0.022  , 0.0095 , 0.0059 , 0.012  , 0.0058 ],\n",
       "        [0.047  , 0.     , 0.077  , 0.     , 0.0081 , 0.     , 0.     ,\n",
       "         0.     , 0.     , 0.     , 0.     , 0.     , 0.     , 0.     ,\n",
       "         0.     , 0.027  , 0.     , 0.     , 0.     , 0.     ],\n",
       "        [0.11   , 0.     , 0.     , 0.     , 0.     , 0.     , 0.     ,\n",
       "         0.     , 0.     , 0.     , 0.11   , 0.     , 0.     , 0.     ,\n",
       "         0.     , 0.     , 0.     , 0.     , 0.     , 0.11   ],\n",
       "        [0.014  , 0.     , 0.019  , 0.     , 0.017  , 0.     , 0.021  ,\n",
       "         0.     , 0.     , 0.014  , 0.014  , 0.     , 0.     , 0.     ,\n",
       "         0.016  , 0.00083, 0.024  , 0.12   , 0.017  , 0.     ],\n",
       "        [0.0058 , 0.034  , 0.007  , 0.     , 0.0057 , 0.0029 , 0.011  ,\n",
       "         0.052  , 0.     , 0.011  , 0.0022 , 0.     , 0.     , 0.016  ,\n",
       "         0.0056 , 0.016  , 0.0061 , 0.004  , 0.062  , 0.041  ],\n",
       "        [0.013  , 0.     , 0.019  , 0.     , 0.016  , 0.0073 , 0.016  ,\n",
       "         0.     , 0.028  , 0.014  , 0.022  , 0.027  , 0.     , 0.00083,\n",
       "         0.016  , 0.     , 0.023  , 0.     , 0.017  , 0.     ],\n",
       "        [0.0065 , 0.     , 0.0078 , 0.     , 0.0064 , 0.0032 , 0.023  ,\n",
       "         0.092  , 0.     , 0.012  , 0.0095 , 0.     , 0.     , 0.024  ,\n",
       "         0.0061 , 0.023  , 0.     , 0.0045 , 0.0059 , 0.017  ],\n",
       "        [0.0043 , 0.     , 0.     , 0.     , 0.0042 , 0.0021 , 0.029  ,\n",
       "         0.     , 0.051  , 0.     , 0.0059 , 0.     , 0.     , 0.12   ,\n",
       "         0.004  , 0.     , 0.0045 , 0.     , 0.0039 , 0.     ],\n",
       "        [0.0056 , 0.     , 0.0067 , 0.     , 0.0055 , 0.0028 , 0.014  ,\n",
       "         0.068  , 0.     , 0.01   , 0.012  , 0.     , 0.     , 0.017  ,\n",
       "         0.062  , 0.017  , 0.0059 , 0.0039 , 0.     , 0.015  ],\n",
       "        [0.015  , 0.     , 0.018  , 0.     , 0.0035 , 0.0078 , 0.023  ,\n",
       "         0.     , 0.     , 0.028  , 0.0058 , 0.     , 0.11   , 0.     ,\n",
       "         0.041  , 0.     , 0.017  , 0.     , 0.015  , 0.     ]])"
      ]
     },
     "execution_count": 138,
     "metadata": {},
     "output_type": "execute_result"
    }
   ],
   "source": [
    "nx.to_numpy_matrix(clustered)"
   ]
  },
  {
   "cell_type": "code",
   "execution_count": null,
   "metadata": {},
   "outputs": [],
   "source": []
  },
  {
   "cell_type": "code",
   "execution_count": 108,
   "metadata": {},
   "outputs": [
    {
     "data": {
      "text/plain": [
       "NodeView((0, 3))"
      ]
     },
     "execution_count": 108,
     "metadata": {},
     "output_type": "execute_result"
    }
   ],
   "source": []
  },
  {
   "cell_type": "code",
   "execution_count": 13,
   "metadata": {},
   "outputs": [
    {
     "data": {
      "text/plain": [
       "(50, 50)"
      ]
     },
     "execution_count": 13,
     "metadata": {},
     "output_type": "execute_result"
    }
   ],
   "source": [
    "clusters = np.array([13, 19, 14, 23,  4,  0,  0, 20,  2, 24,  0,  0,  0,  0,  6, 21, 17,\n",
    "        3,  1, 12, 15,  1,  2, 11,  0, 18,  0,  2,  5,  8,  0,  0,  4,  0,\n",
    "        0,  0, 16,  9,  1,  7, 22,  0, 10,  3,  1,  6,  0,  5,  0,  4])\n",
    "adj.shape\n",
    "new_adj = np.zeros((25, 25))\n",
    "for i, cluster in enumerate(clusters):\n",
    "    new_adj[cluster] = "
   ]
  },
  {
   "cell_type": "code",
   "execution_count": null,
   "metadata": {},
   "outputs": [],
   "source": []
  },
  {
   "cell_type": "code",
   "execution_count": 7,
   "metadata": {},
   "outputs": [
    {
     "name": "stdout",
     "output_type": "stream",
     "text": [
      "{'model': 'GCN_lay1_chan64_emb32_dropout_agg', 'seed': 0, 'num_genes': 4000, 'gene': 'IL5', 'train_size': 50}\n"
     ]
    }
   ],
   "source": [
    "row = todo[0]\n",
    "print(row)\n",
    "start_time = time.time()\n",
    "gene = row[\"gene\"]\n",
    "model_name = row[\"model\"]\n",
    "seed = row[\"seed\"]\n",
    "num_genes = 2000\n",
    "train_size = row[\"train_size\"]\n",
    "\n",
    "model = [x for x in model_list if x.name == model_name][0]\n",
    "\n",
    "experiment = {\n",
    "    \"gene\": gene,\n",
    "    \"model\": model.name,\n",
    "    \"num_genes\": num_genes,\n",
    "    \"train_size\": train_size,\n",
    "    \"seed\": seed,\n",
    "}\n",
    "\n",
    "dataset.labels = dataset.df[gene].where(dataset.df[gene] > 0).notnull().astype(\"int\")\n",
    "X_train, X_test, y_train, y_test = sklearn.model_selection.train_test_split(dataset.df, dataset.labels, stratify=dataset.labels, train_size=train_size, test_size=test_size, random_state=seed)\n",
    "\n",
    "neighbors = gene_graph.bfs_sample_neighbors(gene, num_genes)\n",
    "\n",
    "X_train = X_train[list(neighbors.nodes)].copy()\n",
    "X_test = X_test[list(neighbors.nodes)].copy()\n",
    "X_train[gene] = 1\n",
    "X_test[gene] = 1\n",
    "adj = np.asarray(nx.to_numpy_matrix(neighbors))\n"
   ]
  },
  {
   "cell_type": "code",
   "execution_count": null,
   "metadata": {
    "scrolled": true
   },
   "outputs": [],
   "source": [
    "\n",
    "for plot_gene in search_genes:\n",
    "\n",
    "    %matplotlib inline\n",
    "    plt.rcParams['figure.figsize'] = (7.5, 3.6)\n",
    "    plot_train_size = 50\n",
    "\n",
    "    subset = results[(results.train_size==plot_train_size) & \n",
    "                      (results.gene==plot_gene) & \n",
    "                      (results.num_genes!=400) &      \n",
    "                      (results.num_genes> 0)]\n",
    "\n",
    "\n",
    "    q = subset.groupby(['model','num_genes'])['auc']\n",
    "\n",
    "    todo = list(subset[\"model\"].unique())\n",
    "    linestyles = ['-', '-', '--', '-.', ':']\n",
    "    for ls, model in enumerate(sorted(todo)):\n",
    "        index = list(q.mean()[model].index)\n",
    "        mean = q.mean()[model]\n",
    "        stderr = q.std()[model]/np.sqrt(q.count()[model])\n",
    "        displayname = model.replace(\"CGN\",\"GCN\")\n",
    "        displayname = displayname.replace(\"SLR\", \"SNLR\")\n",
    "        plt.errorbar(index, mean,label=displayname, xerr=0, yerr=stderr, ls=linestyles[ls])\n",
    "\n",
    "    plt.title(\"Gene Inference \" + plot_gene + \" (train_size:\" + str(plot_train_size) +\")\")\n",
    "    plt.ylabel(\"AUC\")\n",
    "    plt.xlabel(\"Number of genes\")\n",
    "    plt.xscale(\"log\")\n",
    "    plt.xticks(sorted(subset[\"num_genes\"].unique()))\n",
    "    formatter = matplotlib.ticker.ScalarFormatter()\n",
    "    plt.gca().xaxis.set_major_formatter(formatter)\n",
    "\n",
    "    plt.legend();\n",
    "    fd = len(list(gene_graph.nx_graph.neighbors(plot_gene)))\n",
    "    print fd\n",
    "    if fd > 50:\n",
    "        plt.axvline(fd, ymin=0.4, ymax=1.0, c=\"black\")\n",
    "        c = plt.ylim()\n",
    "        plt.text(fd*1.05,c[1]-((c[1]-c[0])*0.2),'First Degree',rotation=90)\n",
    "\n",
    "\n",
    "    plt.savefig(\"experiments/results/sgi-\" + plot_gene + \"-\" + \"train\" + str(plot_train_size) + \".png\", bbox_inches='tight')\n",
    "    plt.show()"
   ]
  },
  {
   "cell_type": "code",
   "execution_count": null,
   "metadata": {},
   "outputs": [],
   "source": []
  }
 ],
 "metadata": {
  "kernelspec": {
   "display_name": "Python 3",
   "language": "python",
   "name": "python3"
  },
  "language_info": {
   "codemirror_mode": {
    "name": "ipython",
    "version": 3
   },
   "file_extension": ".py",
   "mimetype": "text/x-python",
   "name": "python",
   "nbconvert_exporter": "python",
   "pygments_lexer": "ipython3",
   "version": "3.5.2"
  }
 },
 "nbformat": 4,
 "nbformat_minor": 2
}
