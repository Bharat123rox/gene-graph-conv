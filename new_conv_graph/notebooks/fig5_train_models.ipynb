{
 "cells": [
  {
   "cell_type": "code",
   "execution_count": 1,
   "metadata": {},
   "outputs": [],
   "source": [
    "# want to store this notebook in the notebooks folder, but want to keep non-relative imports\n",
    "import os\n",
    "os.chdir('..')"
   ]
  },
  {
   "cell_type": "code",
   "execution_count": 2,
   "metadata": {},
   "outputs": [
    {
     "name": "stderr",
     "output_type": "stream",
     "text": [
      "/Users/martinweiss/.pyenv/versions/2.7.13/lib/python2.7/site-packages/h5py/__init__.py:36: FutureWarning: Conversion of the second argument of issubdtype from `float` to `np.floating` is deprecated. In future, it will be treated as `np.float64 == np.dtype(float).type`.\n",
      "  from ._conv import register_converters as _register_converters\n"
     ]
    }
   ],
   "source": [
    "import sys\n",
    "import time\n",
    "import copy\n",
    "import pickle\n",
    "import numpy as np\n",
    "import matplotlib, matplotlib.pyplot as plt\n",
    "import networkx as nx\n",
    "import pandas as pd\n",
    "import torch\n",
    "from torch.autograd import Variable\n",
    "from itertools import repeat\n",
    "import sklearn\n",
    "import sklearn, sklearn.model_selection, sklearn.metrics, sklearn.linear_model, sklearn.neural_network, sklearn.tree\n",
    "import numpy as np\n",
    "from models.ml_methods import MLMethods\n",
    "\n",
    "\n",
    "import models, models.graphLayer, models.models\n",
    "import data, data.gene_datasets, data.graph\n"
   ]
  },
  {
   "cell_type": "code",
   "execution_count": null,
   "metadata": {},
   "outputs": [],
   "source": []
  },
  {
   "cell_type": "code",
   "execution_count": 3,
   "metadata": {},
   "outputs": [
    {
     "name": "stdout",
     "output_type": "stream",
     "text": [
      "Converting one-hot labels to integers\n"
     ]
    }
   ],
   "source": [
    "#datsaet = data.gene_datasets.TCGATissue(data_dir='/data/lisa/data/genomics/TCGA/', data_file='TCGA_tissue_ppi.hdf5')\n",
    "dataset = data.gene_datasets.TCGATissue()"
   ]
  },
  {
   "cell_type": "code",
   "execution_count": 4,
   "metadata": {},
   "outputs": [],
   "source": [
    "class Object(object):\n",
    "    pass\n",
    "\n",
    "opt = Object()\n",
    "opt.seed = 0\n",
    "opt.nb_class = None\n",
    "opt.nb_examples = None\n",
    "opt.nb_nodes = None\n",
    "opt.graph = \"pathway\"\n",
    "opt.dataset = dataset\n",
    "opt.add_self = True\n",
    "opt.norm_adj = True\n",
    "opt.add_connectivity = False\n",
    "opt.num_layer = 1\n",
    "opt.cuda = False\n",
    "opt.pool_graph = \"ignore\"\n"
   ]
  },
  {
   "cell_type": "code",
   "execution_count": 5,
   "metadata": {},
   "outputs": [
    {
     "name": "stdout",
     "output_type": "stream",
     "text": [
      "Loaded Checkpointed Results\n",
      "Created a New Results Dictionary\n"
     ]
    }
   ],
   "source": [
    "# Setup the results dictionary\n",
    "results_file_name = \"experiments/results/fig-5/data.pkl\"\n",
    "try:\n",
    "    results = pickle.load(open(results_file_name, \"r\"))\n",
    "    print \"Loaded Checkpointed Results\"\n",
    "    print (\"Only \" + str(dataset.df.shape[1] - len(results['df']['gene_name'].unique())) + \" more genes to do...\")\n",
    "except Exception as e:\n",
    "    results = {\"df\": pd.DataFrame(columns=['auc', 'gene', 'model', 'num_genes', 'seed', 'train_size'])}\n",
    "    print \"Created a New Results Dictionary\"\n"
   ]
  },
  {
   "cell_type": "code",
   "execution_count": 6,
   "metadata": {},
   "outputs": [],
   "source": [
    "graph = data.graph.Graph()\n",
    "path = \"ae2691e4f4f068d32f83797b224eb854b27bd3ee\" # Gene mania hash\n",
    "#path = \"/data/lisa/data/genomics/graph/pancan-tissue-graph.hdf5\"\n",
    "graph.load_graph(path)\n",
    "#graph.intersection_with(dataset)\n",
    "g = nx.from_numpy_matrix(graph.adj)\n",
    "mapping = dict(zip(range(0, len(dataset.df.columns)), dataset.df.columns))\n",
    "g = nx.relabel_nodes(g, mapping)"
   ]
  },
  {
   "cell_type": "code",
   "execution_count": null,
   "metadata": {},
   "outputs": [],
   "source": []
  },
  {
   "cell_type": "code",
   "execution_count": 7,
   "metadata": {},
   "outputs": [],
   "source": [
    "def fit_and_predict(method, X_train, X_test, y_train, y_test):\n",
    "    x_test = Variable(torch.FloatTensor(np.expand_dims(X_test.values, axis=2)), requires_grad=False).float()\n",
    "\n",
    "    method.fit(X_train, y_train)\n",
    "    y_hat = method.predict(x_test)[:,1].data.cpu().numpy()\n",
    "    auc = sklearn.metrics.roc_auc_score(y_test, np.asarray(y_hat).flatten())\n",
    "\n",
    "    method.best_model = None # cleanup\n",
    "    return auc\n",
    "\n",
    "def sample_neighbors(g, gene, num_neighbors, include_self=True):\n",
    "    results = set([])\n",
    "    if include_self:\n",
    "        results = set([gene])\n",
    "    all_nodes = set(g.nodes)\n",
    "    first_degree = set(g.neighbors(gene))\n",
    "    second_degree = set()\n",
    "    for x in g.neighbors(gene):\n",
    "        second_degree = second_degree.union(set(g.neighbors(x)))\n",
    "    while len(results) < num_neighbors:\n",
    "        if len(first_degree) - len(results) > 0:\n",
    "            unique = sorted(first_degree - results)\n",
    "            results.add(unique.pop())\n",
    "        elif len(second_degree) - len(results) > 0:\n",
    "            unique = sorted(second_degree - results)\n",
    "            results.add(unique.pop())\n",
    "        else:\n",
    "            unique = sorted(all_nodes - results)\n",
    "            results.add(unique.pop())\n",
    "    return results\n",
    "\n",
    "def record_result(results, gene, model, num_genes, train_size, seed, auc, results_file_name):\n",
    "    experiment = {\n",
    "        \"gene\": gene,\n",
    "        \"model\": model,\n",
    "        \"num_genes\": num_genes,\n",
    "        \"seed\": seed,\n",
    "        \"train_size\": train_size,\n",
    "        \"auc\": auc\n",
    "    }\n",
    "\n",
    "    results[\"df\"] = results[\"df\"].append(experiment, ignore_index=True)\n",
    "    results_dir = \"/\".join(results_file_name.split('/')[0:-1])\n",
    "\n",
    "    if not os.path.isdir(results_dir):\n",
    "        os.makedirs(results_dir)\n",
    "    pickle.dump(results, open(results_file_name, \"wb\"))\n",
    "\n",
    "def record_failure(results, gene, model, num_genes, train_size, trials, results_file_name):\n",
    "    for temp_seed in range(trials):\n",
    "        record_result(results, gene, model, num_genes, train_size, temp_seed, \"N/A\", results_file_name)\n",
    "        record_result(results, gene, model, num_genes, train_size, temp_seed, \"N/A\", results_file_name)\n",
    "\n",
    "        \n",
    "def check_if_done(df, gene, model, num_genes, train_size, seed):\n",
    "    already_done = results[\"df\"][(results[\"df\"].gene == gene) &\n",
    "                                 (results[\"df\"].model == model) &\n",
    "                                 (results[\"df\"].num_genes == num_genes) &\n",
    "                                 (results[\"df\"].seed == seed) &\n",
    "                                 (results[\"df\"].train_size == train_size)].shape[0] > 0\n",
    "    return already_done\n",
    "\n"
   ]
  },
  {
   "cell_type": "code",
   "execution_count": 8,
   "metadata": {},
   "outputs": [],
   "source": [
    "m = [\n",
    "    {'key': 'CGN_lay3_chan64_emb32_dropout', 'method': MLMethods(model_name=\"CGN\", cuda=opt.cuda, num_layer=3, num_channel=64, add_emb=32 )},\n",
    "    {'key': 'MLP_lay2_chan512_dropout', 'method': MLMethods(model_name=\"MLP\", cuda=opt.cuda, dropout=True, num_layer=2, num_channel=512)},\n",
    "    {'key': 'MLP_lay2_chan512', 'method': MLMethods(model_name=\"MLP\", cuda=opt.cuda, dropout=False, num_layer=2, num_channel=512)},\n",
    "    {'key': 'SLR_lambda1_l11', 'method': MLMethods(model_name=\"SLR\", cuda=opt.cuda)},\n",
    "    {'key': 'CGN_lay20_chan32_emb32_dropout_pool', 'method': MLMethods(model_name=\"CGN\", cuda=opt.cuda, num_layer=4, num_channel=32, add_emb=32, prepool_extralayers=5)}  \n",
    "]"
   ]
  },
  {
   "cell_type": "code",
   "execution_count": 9,
   "metadata": {},
   "outputs": [],
   "source": [
    "search_num_genes=[50, 100, 200, 300, 500, 1000, 2000, 4000, 8000, 16000]\n",
    "test_size=1000\n",
    "search_train_size=[50]\n",
    "trials=5\n",
    "genes = [\"CEBPD\", \"IL5\", \"PABPC3\", \"PSMB10\", \"RPL13\", \"RPL4\", \"RPL5\", \"RPS10\", \"RPS3\", \"S100A8\", \"S100A9\", \"TOP1\", \"C15orf40\", \"RNF138\", \"DLGAP2\", \"EVI2B\", \"ZFP82\", \"MYBL2\", \"PSMB1\", \"CISD1\", \"HLA-B\", \"SAA2\", \"IFIT1\", \"RPS3A\", \"TP53\", \"TNF\", \"EGFR\"]"
   ]
  },
  {
   "cell_type": "code",
   "execution_count": null,
   "metadata": {},
   "outputs": [
    {
     "name": "stdout",
     "output_type": "stream",
     "text": [
      "already done: CGN_lay3_chan64_emb32_dropout num_genes 50 train_size 50 seed 0\n",
      "already done: CGN_lay3_chan64_emb32_dropout num_genes 50 train_size 50 seed 1\n",
      "already done: CGN_lay3_chan64_emb32_dropout num_genes 50 train_size 50 seed 2\n",
      "already done: CGN_lay3_chan64_emb32_dropout num_genes 50 train_size 50 seed 3\n",
      "already done: CGN_lay3_chan64_emb32_dropout num_genes 50 train_size 50 seed 4\n",
      "already done: MLP_lay2_chan512_dropout num_genes 50 train_size 50 seed 0\n",
      "already done: MLP_lay2_chan512_dropout num_genes 50 train_size 50 seed 1\n",
      "already done: MLP_lay2_chan512_dropout num_genes 50 train_size 50 seed 2\n",
      "already done: MLP_lay2_chan512_dropout num_genes 50 train_size 50 seed 3\n",
      "already done: MLP_lay2_chan512_dropout num_genes 50 train_size 50 seed 4\n",
      "already done: MLP_lay2_chan512 num_genes 50 train_size 50 seed 0\n",
      "already done: MLP_lay2_chan512 num_genes 50 train_size 50 seed 1\n",
      "already done: MLP_lay2_chan512 num_genes 50 train_size 50 seed 2\n",
      "already done: MLP_lay2_chan512 num_genes 50 train_size 50 seed 3\n",
      "already done: MLP_lay2_chan512 num_genes 50 train_size 50 seed 4\n",
      "already done: SLR_lambda1_l11 num_genes 50 train_size 50 seed 0\n",
      "already done: SLR_lambda1_l11 num_genes 50 train_size 50 seed 1\n",
      "already done: SLR_lambda1_l11 num_genes 50 train_size 50 seed 2\n",
      "already done: SLR_lambda1_l11 num_genes 50 train_size 50 seed 3\n",
      "already done: SLR_lambda1_l11 num_genes 50 train_size 50 seed 4\n",
      "already done: CGN_lay20_chan32_emb32_dropout_pool num_genes 50 train_size 50 seed 0\n",
      "already done: CGN_lay20_chan32_emb32_dropout_pool num_genes 50 train_size 50 seed 1\n",
      "already done: CGN_lay20_chan32_emb32_dropout_pool num_genes 50 train_size 50 seed 2\n",
      "already done: CGN_lay20_chan32_emb32_dropout_pool num_genes 50 train_size 50 seed 3\n",
      "already done: CGN_lay20_chan32_emb32_dropout_pool num_genes 50 train_size 50 seed 4\n",
      "already done: CGN_lay3_chan64_emb32_dropout num_genes 100 train_size 50 seed 0\n",
      "already done: CGN_lay3_chan64_emb32_dropout num_genes 100 train_size 50 seed 1\n",
      "already done: CGN_lay3_chan64_emb32_dropout num_genes 100 train_size 50 seed 2\n",
      "already done: CGN_lay3_chan64_emb32_dropout num_genes 100 train_size 50 seed 3\n",
      "already done: CGN_lay3_chan64_emb32_dropout num_genes 100 train_size 50 seed 4\n",
      "already done: MLP_lay2_chan512_dropout num_genes 100 train_size 50 seed 0\n",
      "already done: MLP_lay2_chan512_dropout num_genes 100 train_size 50 seed 1\n",
      "already done: MLP_lay2_chan512_dropout num_genes 100 train_size 50 seed 2\n",
      "already done: MLP_lay2_chan512_dropout num_genes 100 train_size 50 seed 3\n",
      "already done: MLP_lay2_chan512_dropout num_genes 100 train_size 50 seed 4\n",
      "already done: MLP_lay2_chan512 num_genes 100 train_size 50 seed 0\n",
      "already done: MLP_lay2_chan512 num_genes 100 train_size 50 seed 1\n",
      "already done: MLP_lay2_chan512 num_genes 100 train_size 50 seed 2\n",
      "already done: MLP_lay2_chan512 num_genes 100 train_size 50 seed 3\n",
      "already done: MLP_lay2_chan512 num_genes 100 train_size 50 seed 4\n",
      "already done: SLR_lambda1_l11 num_genes 100 train_size 50 seed 0\n",
      "already done: SLR_lambda1_l11 num_genes 100 train_size 50 seed 1\n",
      "already done: SLR_lambda1_l11 num_genes 100 train_size 50 seed 2\n",
      "already done: SLR_lambda1_l11 num_genes 100 train_size 50 seed 3\n",
      "already done: SLR_lambda1_l11 num_genes 100 train_size 50 seed 4\n",
      "already done: CGN_lay20_chan32_emb32_dropout_pool num_genes 100 train_size 50 seed 0\n",
      "already done: CGN_lay20_chan32_emb32_dropout_pool num_genes 100 train_size 50 seed 1\n",
      "already done: CGN_lay20_chan32_emb32_dropout_pool num_genes 100 train_size 50 seed 2\n",
      "already done: CGN_lay20_chan32_emb32_dropout_pool num_genes 100 train_size 50 seed 3\n",
      "already done: CGN_lay20_chan32_emb32_dropout_pool num_genes 100 train_size 50 seed 4\n",
      "already done: CGN_lay3_chan64_emb32_dropout num_genes 200 train_size 50 seed 0\n",
      "already done: CGN_lay3_chan64_emb32_dropout num_genes 200 train_size 50 seed 1\n",
      "already done: CGN_lay3_chan64_emb32_dropout num_genes 200 train_size 50 seed 2\n",
      "already done: CGN_lay3_chan64_emb32_dropout num_genes 200 train_size 50 seed 3\n",
      "already done: CGN_lay3_chan64_emb32_dropout num_genes 200 train_size 50 seed 4\n",
      "already done: MLP_lay2_chan512_dropout num_genes 200 train_size 50 seed 0\n",
      "already done: MLP_lay2_chan512_dropout num_genes 200 train_size 50 seed 1\n",
      "already done: MLP_lay2_chan512_dropout num_genes 200 train_size 50 seed 2\n",
      "already done: MLP_lay2_chan512_dropout num_genes 200 train_size 50 seed 3\n",
      "already done: MLP_lay2_chan512_dropout num_genes 200 train_size 50 seed 4\n",
      "already done: MLP_lay2_chan512 num_genes 200 train_size 50 seed 0\n",
      "already done: MLP_lay2_chan512 num_genes 200 train_size 50 seed 1\n",
      "already done: MLP_lay2_chan512 num_genes 200 train_size 50 seed 2\n",
      "already done: MLP_lay2_chan512 num_genes 200 train_size 50 seed 3\n",
      "already done: MLP_lay2_chan512 num_genes 200 train_size 50 seed 4\n",
      "already done: SLR_lambda1_l11 num_genes 200 train_size 50 seed 0\n",
      "already done: SLR_lambda1_l11 num_genes 200 train_size 50 seed 1\n",
      "already done: SLR_lambda1_l11 num_genes 200 train_size 50 seed 2\n",
      "already done: SLR_lambda1_l11 num_genes 200 train_size 50 seed 3\n",
      "already done: SLR_lambda1_l11 num_genes 200 train_size 50 seed 4\n",
      "already done: CGN_lay20_chan32_emb32_dropout_pool num_genes 200 train_size 50 seed 0\n",
      "already done: CGN_lay20_chan32_emb32_dropout_pool num_genes 200 train_size 50 seed 1\n",
      "already done: CGN_lay20_chan32_emb32_dropout_pool num_genes 200 train_size 50 seed 2\n",
      "already done: CGN_lay20_chan32_emb32_dropout_pool num_genes 200 train_size 50 seed 3\n",
      "already done: CGN_lay20_chan32_emb32_dropout_pool num_genes 200 train_size 50 seed 4\n",
      "already done: CGN_lay3_chan64_emb32_dropout num_genes 300 train_size 50 seed 0\n",
      "already done: CGN_lay3_chan64_emb32_dropout num_genes 300 train_size 50 seed 1\n",
      "already done: CGN_lay3_chan64_emb32_dropout num_genes 300 train_size 50 seed 2\n",
      "already done: CGN_lay3_chan64_emb32_dropout num_genes 300 train_size 50 seed 3\n",
      "already done: CGN_lay3_chan64_emb32_dropout num_genes 300 train_size 50 seed 4\n",
      "already done: MLP_lay2_chan512_dropout num_genes 300 train_size 50 seed 0\n",
      "already done: MLP_lay2_chan512_dropout num_genes 300 train_size 50 seed 1\n",
      "already done: MLP_lay2_chan512_dropout num_genes 300 train_size 50 seed 2\n",
      "already done: MLP_lay2_chan512_dropout num_genes 300 train_size 50 seed 3\n",
      "already done: MLP_lay2_chan512_dropout num_genes 300 train_size 50 seed 4\n",
      "already done: MLP_lay2_chan512 num_genes 300 train_size 50 seed 0\n",
      "already done: MLP_lay2_chan512 num_genes 300 train_size 50 seed 1\n",
      "already done: MLP_lay2_chan512 num_genes 300 train_size 50 seed 2\n",
      "already done: MLP_lay2_chan512 num_genes 300 train_size 50 seed 3\n",
      "already done: MLP_lay2_chan512 num_genes 300 train_size 50 seed 4\n",
      "already done: SLR_lambda1_l11 num_genes 300 train_size 50 seed 0\n",
      "already done: SLR_lambda1_l11 num_genes 300 train_size 50 seed 1\n",
      "already done: SLR_lambda1_l11 num_genes 300 train_size 50 seed 2\n",
      "already done: SLR_lambda1_l11 num_genes 300 train_size 50 seed 3\n",
      "already done: SLR_lambda1_l11 num_genes 300 train_size 50 seed 4\n",
      "already done: CGN_lay20_chan32_emb32_dropout_pool num_genes 300 train_size 50 seed 0\n",
      "already done: CGN_lay20_chan32_emb32_dropout_pool num_genes 300 train_size 50 seed 1\n",
      "already done: CGN_lay20_chan32_emb32_dropout_pool num_genes 300 train_size 50 seed 2\n",
      "already done: CGN_lay20_chan32_emb32_dropout_pool num_genes 300 train_size 50 seed 3\n",
      "already done: CGN_lay20_chan32_emb32_dropout_pool num_genes 300 train_size 50 seed 4\n",
      "already done: CGN_lay3_chan64_emb32_dropout num_genes 500 train_size 50 seed 0\n",
      "already done: CGN_lay3_chan64_emb32_dropout num_genes 500 train_size 50 seed 1\n",
      "already done: CGN_lay3_chan64_emb32_dropout num_genes 500 train_size 50 seed 2\n",
      "already done: CGN_lay3_chan64_emb32_dropout num_genes 500 train_size 50 seed 3\n",
      "already done: CGN_lay3_chan64_emb32_dropout num_genes 500 train_size 50 seed 4\n",
      "already done: MLP_lay2_chan512_dropout num_genes 500 train_size 50 seed 0\n",
      "already done: MLP_lay2_chan512_dropout num_genes 500 train_size 50 seed 1\n",
      "already done: MLP_lay2_chan512_dropout num_genes 500 train_size 50 seed 2\n",
      "already done: MLP_lay2_chan512_dropout num_genes 500 train_size 50 seed 3\n",
      "already done: MLP_lay2_chan512_dropout num_genes 500 train_size 50 seed 4\n",
      "already done: MLP_lay2_chan512 num_genes 500 train_size 50 seed 0\n",
      "already done: MLP_lay2_chan512 num_genes 500 train_size 50 seed 1\n",
      "already done: MLP_lay2_chan512 num_genes 500 train_size 50 seed 2\n",
      "already done: MLP_lay2_chan512 num_genes 500 train_size 50 seed 3\n",
      "already done: MLP_lay2_chan512 num_genes 500 train_size 50 seed 4\n",
      "already done: SLR_lambda1_l11 num_genes 500 train_size 50 seed 0\n",
      "already done: SLR_lambda1_l11 num_genes 500 train_size 50 seed 1\n",
      "already done: SLR_lambda1_l11 num_genes 500 train_size 50 seed 2\n",
      "already done: SLR_lambda1_l11 num_genes 500 train_size 50 seed 3\n",
      "already done: SLR_lambda1_l11 num_genes 500 train_size 50 seed 4\n",
      "already done: CGN_lay20_chan32_emb32_dropout_pool num_genes 500 train_size 50 seed 0\n",
      "already done: CGN_lay20_chan32_emb32_dropout_pool num_genes 500 train_size 50 seed 1\n",
      "already done: CGN_lay20_chan32_emb32_dropout_pool num_genes 500 train_size 50 seed 2\n",
      "already done: CGN_lay20_chan32_emb32_dropout_pool num_genes 500 train_size 50 seed 3\n",
      "already done: CGN_lay20_chan32_emb32_dropout_pool num_genes 500 train_size 50 seed 4\n"
     ]
    },
    {
     "name": "stdout",
     "output_type": "stream",
     "text": [
      "doing: CGN_lay3_chan64_emb32_dropout num_genes 1000 train_size 50 seed 0\n",
      "doing: CGN_lay3_chan64_emb32_dropout num_genes 1000 train_size 50 seed 1\n"
     ]
    }
   ],
   "source": [
    "# def method_comparison(results, dataset, models, gene, search_num_genes, trials, search_train_size, test_size):\n",
    "dataset.df = dataset.df - dataset.df.mean()\n",
    "dataset.data = dataset.df.as_matrix()\n",
    "for gene in genes:\n",
    "    mean = dataset.df[gene].mean()\n",
    "    dataset.labels = [1 if x > mean else 0 for x in dataset.df[gene]]\n",
    "\n",
    "    for train_size in search_train_size:\n",
    "        for num_genes in search_num_genes:\n",
    "\n",
    "            num_genes = np.min([num_genes, dataset.df.shape[1]])\n",
    "            neighbors = sample_neighbors(g, gene, num_genes, include_self=True)\n",
    "            neighborhood = np.asarray(nx.to_numpy_matrix(g.subgraph(neighbors)))\n",
    "            \n",
    "            for model in m:\n",
    "                for seed in range(trials):\n",
    "\n",
    "                    already_done = check_if_done(results[\"df\"], gene, model['key'], num_genes, train_size, seed)\n",
    "                    if already_done:\n",
    "                        print \"already done:\", model['key'], \"num_genes\", num_genes, \"train_size\", train_size, \"seed\", seed\n",
    "                        continue\n",
    "\n",
    "                    X_train, X_test, y_train, y_test = sklearn.model_selection.train_test_split(dataset.df, dataset.labels, stratify=dataset.labels, train_size=train_size*2, test_size=test_size, random_state=seed)\n",
    "\n",
    "                    X_train = X_train[list(neighbors)].copy()\n",
    "                    X_train[gene] = 1\n",
    "                    X_test = X_test[list(neighbors)].copy()\n",
    "                    X_test[gene] = 1\n",
    "\n",
    "                    if len(set(y_train)) <= 1 or len(set(y_test)) <= 1 or type(neighborhood) != np.ndarray:\n",
    "                        record_failure(results, gene, model['key'], num_genes, trials, train_size, results_file_name)\n",
    "                        continue\n",
    "                    print \"doing:\", model['key'], \"num_genes\", num_genes, \"train_size\", train_size, \"seed\", seed\n",
    "\n",
    "                    model['method'].fit(X_train, y_train, adj=neighborhood)\n",
    "                    x_test = Variable(torch.FloatTensor(np.expand_dims(X_test.values, axis=2)), requires_grad=False).float()\n",
    "                    y_hat = model['method'].predict(x_test)[:,1].data.cpu().numpy()\n",
    "                    auc = sklearn.metrics.roc_auc_score(y_test, np.asarray(y_hat).flatten())\n",
    "                    model['method'].best_model = None\n",
    "                    \n",
    "                    record_result(results, gene, model['key'], num_genes, train_size, seed, auc, results_file_name)"
   ]
  },
  {
   "cell_type": "code",
   "execution_count": null,
   "metadata": {},
   "outputs": [],
   "source": []
  },
  {
   "cell_type": "code",
   "execution_count": null,
   "metadata": {},
   "outputs": [],
   "source": []
  },
  {
   "cell_type": "code",
   "execution_count": 19,
   "metadata": {},
   "outputs": [
    {
     "name": "stdout",
     "output_type": "stream",
     "text": [
      "34\n"
     ]
    },
    {
     "ename": "IOError",
     "evalue": "[Errno 2] No such file or directory: 'figs/sgi-CEBPD-train50.png'",
     "output_type": "error",
     "traceback": [
      "\u001b[0;31m---------------------------------------------------------------------------\u001b[0m",
      "\u001b[0;31mIOError\u001b[0m                                   Traceback (most recent call last)",
      "\u001b[0;32m<ipython-input-19-d76ccbc021d7>\u001b[0m in \u001b[0;36m<module>\u001b[0;34m()\u001b[0m\n\u001b[1;32m     46\u001b[0m \u001b[0;34m\u001b[0m\u001b[0m\n\u001b[1;32m     47\u001b[0m \u001b[0;34m\u001b[0m\u001b[0m\n\u001b[0;32m---> 48\u001b[0;31m     \u001b[0mplt\u001b[0m\u001b[0;34m.\u001b[0m\u001b[0msavefig\u001b[0m\u001b[0;34m(\u001b[0m\u001b[0;34m\"figs/sgi-\"\u001b[0m \u001b[0;34m+\u001b[0m \u001b[0mplot_gene\u001b[0m \u001b[0;34m+\u001b[0m \u001b[0;34m\"-\"\u001b[0m \u001b[0;34m+\u001b[0m \u001b[0;34m\"train\"\u001b[0m \u001b[0;34m+\u001b[0m \u001b[0mstr\u001b[0m\u001b[0;34m(\u001b[0m\u001b[0mplot_train_size\u001b[0m\u001b[0;34m)\u001b[0m \u001b[0;34m+\u001b[0m \u001b[0;34m\".png\"\u001b[0m\u001b[0;34m,\u001b[0m \u001b[0mbbox_inches\u001b[0m\u001b[0;34m=\u001b[0m\u001b[0;34m'tight'\u001b[0m\u001b[0;34m)\u001b[0m\u001b[0;34m\u001b[0m\u001b[0m\n\u001b[0m\u001b[1;32m     49\u001b[0m     \u001b[0mplt\u001b[0m\u001b[0;34m.\u001b[0m\u001b[0mshow\u001b[0m\u001b[0;34m(\u001b[0m\u001b[0;34m)\u001b[0m\u001b[0;34m\u001b[0m\u001b[0m\n",
      "\u001b[0;32m/Users/martinweiss/.pyenv/versions/2.7.13/lib/python2.7/site-packages/matplotlib/pyplot.pyc\u001b[0m in \u001b[0;36msavefig\u001b[0;34m(*args, **kwargs)\u001b[0m\n\u001b[1;32m    699\u001b[0m \u001b[0;32mdef\u001b[0m \u001b[0msavefig\u001b[0m\u001b[0;34m(\u001b[0m\u001b[0;34m*\u001b[0m\u001b[0margs\u001b[0m\u001b[0;34m,\u001b[0m \u001b[0;34m**\u001b[0m\u001b[0mkwargs\u001b[0m\u001b[0;34m)\u001b[0m\u001b[0;34m:\u001b[0m\u001b[0;34m\u001b[0m\u001b[0m\n\u001b[1;32m    700\u001b[0m     \u001b[0mfig\u001b[0m \u001b[0;34m=\u001b[0m \u001b[0mgcf\u001b[0m\u001b[0;34m(\u001b[0m\u001b[0;34m)\u001b[0m\u001b[0;34m\u001b[0m\u001b[0m\n\u001b[0;32m--> 701\u001b[0;31m     \u001b[0mres\u001b[0m \u001b[0;34m=\u001b[0m \u001b[0mfig\u001b[0m\u001b[0;34m.\u001b[0m\u001b[0msavefig\u001b[0m\u001b[0;34m(\u001b[0m\u001b[0;34m*\u001b[0m\u001b[0margs\u001b[0m\u001b[0;34m,\u001b[0m \u001b[0;34m**\u001b[0m\u001b[0mkwargs\u001b[0m\u001b[0;34m)\u001b[0m\u001b[0;34m\u001b[0m\u001b[0m\n\u001b[0m\u001b[1;32m    702\u001b[0m     \u001b[0mfig\u001b[0m\u001b[0;34m.\u001b[0m\u001b[0mcanvas\u001b[0m\u001b[0;34m.\u001b[0m\u001b[0mdraw_idle\u001b[0m\u001b[0;34m(\u001b[0m\u001b[0;34m)\u001b[0m   \u001b[0;31m# need this if 'transparent=True' to reset colors\u001b[0m\u001b[0;34m\u001b[0m\u001b[0m\n\u001b[1;32m    703\u001b[0m     \u001b[0;32mreturn\u001b[0m \u001b[0mres\u001b[0m\u001b[0;34m\u001b[0m\u001b[0m\n",
      "\u001b[0;32m/Users/martinweiss/.pyenv/versions/2.7.13/lib/python2.7/site-packages/matplotlib/figure.pyc\u001b[0m in \u001b[0;36msavefig\u001b[0;34m(self, fname, **kwargs)\u001b[0m\n\u001b[1;32m   1832\u001b[0m             \u001b[0mself\u001b[0m\u001b[0;34m.\u001b[0m\u001b[0mset_frameon\u001b[0m\u001b[0;34m(\u001b[0m\u001b[0mframeon\u001b[0m\u001b[0;34m)\u001b[0m\u001b[0;34m\u001b[0m\u001b[0m\n\u001b[1;32m   1833\u001b[0m \u001b[0;34m\u001b[0m\u001b[0m\n\u001b[0;32m-> 1834\u001b[0;31m         \u001b[0mself\u001b[0m\u001b[0;34m.\u001b[0m\u001b[0mcanvas\u001b[0m\u001b[0;34m.\u001b[0m\u001b[0mprint_figure\u001b[0m\u001b[0;34m(\u001b[0m\u001b[0mfname\u001b[0m\u001b[0;34m,\u001b[0m \u001b[0;34m**\u001b[0m\u001b[0mkwargs\u001b[0m\u001b[0;34m)\u001b[0m\u001b[0;34m\u001b[0m\u001b[0m\n\u001b[0m\u001b[1;32m   1835\u001b[0m \u001b[0;34m\u001b[0m\u001b[0m\n\u001b[1;32m   1836\u001b[0m         \u001b[0;32mif\u001b[0m \u001b[0mframeon\u001b[0m\u001b[0;34m:\u001b[0m\u001b[0;34m\u001b[0m\u001b[0m\n",
      "\u001b[0;32m/Users/martinweiss/.pyenv/versions/2.7.13/lib/python2.7/site-packages/matplotlib/backend_bases.pyc\u001b[0m in \u001b[0;36mprint_figure\u001b[0;34m(self, filename, dpi, facecolor, edgecolor, orientation, format, **kwargs)\u001b[0m\n\u001b[1;32m   2265\u001b[0m                 \u001b[0morientation\u001b[0m\u001b[0;34m=\u001b[0m\u001b[0morientation\u001b[0m\u001b[0;34m,\u001b[0m\u001b[0;34m\u001b[0m\u001b[0m\n\u001b[1;32m   2266\u001b[0m                 \u001b[0mbbox_inches_restore\u001b[0m\u001b[0;34m=\u001b[0m\u001b[0m_bbox_inches_restore\u001b[0m\u001b[0;34m,\u001b[0m\u001b[0;34m\u001b[0m\u001b[0m\n\u001b[0;32m-> 2267\u001b[0;31m                 **kwargs)\n\u001b[0m\u001b[1;32m   2268\u001b[0m         \u001b[0;32mfinally\u001b[0m\u001b[0;34m:\u001b[0m\u001b[0;34m\u001b[0m\u001b[0m\n\u001b[1;32m   2269\u001b[0m             \u001b[0;32mif\u001b[0m \u001b[0mbbox_inches\u001b[0m \u001b[0;32mand\u001b[0m \u001b[0mrestore_bbox\u001b[0m\u001b[0;34m:\u001b[0m\u001b[0;34m\u001b[0m\u001b[0m\n",
      "\u001b[0;32m/Users/martinweiss/.pyenv/versions/2.7.13/lib/python2.7/site-packages/matplotlib/backends/backend_agg.pyc\u001b[0m in \u001b[0;36mprint_png\u001b[0;34m(self, filename_or_obj, *args, **kwargs)\u001b[0m\n\u001b[1;32m    510\u001b[0m         \u001b[0mrenderer\u001b[0m\u001b[0;34m.\u001b[0m\u001b[0mdpi\u001b[0m \u001b[0;34m=\u001b[0m \u001b[0mself\u001b[0m\u001b[0;34m.\u001b[0m\u001b[0mfigure\u001b[0m\u001b[0;34m.\u001b[0m\u001b[0mdpi\u001b[0m\u001b[0;34m\u001b[0m\u001b[0m\n\u001b[1;32m    511\u001b[0m         \u001b[0;32mif\u001b[0m \u001b[0misinstance\u001b[0m\u001b[0;34m(\u001b[0m\u001b[0mfilename_or_obj\u001b[0m\u001b[0;34m,\u001b[0m \u001b[0msix\u001b[0m\u001b[0;34m.\u001b[0m\u001b[0mstring_types\u001b[0m\u001b[0;34m)\u001b[0m\u001b[0;34m:\u001b[0m\u001b[0;34m\u001b[0m\u001b[0m\n\u001b[0;32m--> 512\u001b[0;31m             \u001b[0mfilename_or_obj\u001b[0m \u001b[0;34m=\u001b[0m \u001b[0mopen\u001b[0m\u001b[0;34m(\u001b[0m\u001b[0mfilename_or_obj\u001b[0m\u001b[0;34m,\u001b[0m \u001b[0;34m'wb'\u001b[0m\u001b[0;34m)\u001b[0m\u001b[0;34m\u001b[0m\u001b[0m\n\u001b[0m\u001b[1;32m    513\u001b[0m             \u001b[0mclose\u001b[0m \u001b[0;34m=\u001b[0m \u001b[0mTrue\u001b[0m\u001b[0;34m\u001b[0m\u001b[0m\n\u001b[1;32m    514\u001b[0m         \u001b[0;32melse\u001b[0m\u001b[0;34m:\u001b[0m\u001b[0;34m\u001b[0m\u001b[0m\n",
      "\u001b[0;31mIOError\u001b[0m: [Errno 2] No such file or directory: 'figs/sgi-CEBPD-train50.png'"
     ]
    },
    {
     "data": {
      "image/png": "[encoded data removed]",
      "text/plain": [
       "<matplotlib.figure.Figure at 0x29d4edc90>"
      ]
     },
     "metadata": {},
     "output_type": "display_data"
    }
   ],
   "source": [
    "\n",
    "for gene in genes:\n",
    "\n",
    "    %matplotlib inline\n",
    "    plt.rcParams['figure.figsize'] = (7.5, 3.6)\n",
    "    plot_train_size = 50\n",
    "\n",
    "    subset = results[\"df\"][(results[\"df\"].train_size==plot_train_size) & \n",
    "                      (results[\"df\"].gene==plot_gene) & \n",
    "                      (results[\"df\"].num_genes!=400) &      \n",
    "                      (results[\"df\"].num_genes> 0)]\n",
    "\n",
    "\n",
    "    q = subset.groupby(['model','num_genes'])['auc']\n",
    "\n",
    "    #['CGN_2_layer_512_channel_emb_512_dropout', \"MLP_2_chan512\", \"SLR2=lambda10-l1-1\"]:\n",
    "    #for model in ['CGN_2_layer_512_channel_emb_512_dropout', \"MLP_2_chan512\", \"SLR2=lambda10-l1-1\"]:\n",
    "\n",
    "    todo = list(subset[\"model\"].unique())\n",
    "    linestyles = ['-', '-', '--', '-.', ':']\n",
    "    for ls, model in enumerate(sorted(todo)):\n",
    "        index = list(q.mean()[model].index)\n",
    "        mean = q.mean()[model]\n",
    "        stderr = q.std()[model]/np.sqrt(q.count()[model])\n",
    "        displayname = model.replace(\"CGN\",\"GCN\")\n",
    "        displayname = displayname.replace(\"SLR\", \"SNLR\")\n",
    "        plt.errorbar(index, mean,label=displayname, xerr=0, yerr=stderr, ls=linestyles[ls])\n",
    "\n",
    "    plt.title(\"Gene Inference \" + plot_gene + \" (train_size:\" + str(plot_train_size) +\")\")\n",
    "    plt.ylabel(\"AUC\")\n",
    "    plt.xlabel(\"Number of genes\")\n",
    "    plt.xscale(\"log\")\n",
    "    plt.xticks(sorted(subset[\"num_genes\"].unique()))\n",
    "    formatter = matplotlib.ticker.ScalarFormatter()\n",
    "    plt.gca().xaxis.set_major_formatter(formatter)\n",
    "    #plt.xlim(40,4500)\n",
    "\n",
    "    plt.legend();\n",
    "    fd = len(list(g.neighbors(plot_gene)))\n",
    "    print fd\n",
    "    if fd > 50:\n",
    "        plt.axvline(fd, ymin=0.4, ymax=1.0, c=\"black\")\n",
    "        c = plt.ylim()\n",
    "        plt.text(fd*1.05,c[1]-((c[1]-c[0])*0.2),'First Degree',rotation=90)\n",
    "\n",
    "\n",
    "\n",
    "    plt.savefig(\"figs/sgi-\" + plot_gene + \"-\" + \"train\" + str(plot_train_size) + \".png\", bbox_inches='tight')\n",
    "    plt.show()"
   ]
  },
  {
   "cell_type": "code",
   "execution_count": null,
   "metadata": {},
   "outputs": [],
   "source": []
  },
  {
   "cell_type": "code",
   "execution_count": null,
   "metadata": {},
   "outputs": [],
   "source": []
  },
  {
   "cell_type": "code",
   "execution_count": null,
   "metadata": {},
   "outputs": [],
   "source": []
  },
  {
   "cell_type": "code",
   "execution_count": null,
   "metadata": {},
   "outputs": [],
   "source": []
  },
  {
   "cell_type": "code",
   "execution_count": 90,
   "metadata": {},
   "outputs": [
    {
     "data": {
      "text/plain": [
       "array(['CGN_3_layer_64_channel_emb_32_dropout',\n",
       "       'CGN_2_layer_512_channel_emb_512_dropout', 'MLP_2_chan512-dropout',\n",
       "       'MLP_2_chan512', 'SLR2=lambda10-l1-1'], dtype=object)"
      ]
     },
     "execution_count": 90,
     "metadata": {},
     "output_type": "execute_result"
    }
   ],
   "source": [
    "results[\"df\"].model.unique()"
   ]
  },
  {
   "cell_type": "code",
   "execution_count": 126,
   "metadata": {
    "scrolled": false
   },
   "outputs": [
    {
     "data": {
      "image/png": "[encoded data removed]",
      "text/plain": [
       "<matplotlib.figure.Figure at 0x7fee3898c350>"
      ]
     },
     "metadata": {},
     "output_type": "display_data"
    }
   ],
   "source": [
    "%matplotlib inline\n",
    "plt.rcParams['figure.figsize'] = (10, 5)\n",
    "plot_gene = \"C15orf40\"\n",
    "plot_train_size = 50\n",
    "\n",
    "subset = results[\"df\"][(results[\"df\"].train_size==plot_train_size) & \n",
    "                  (results[\"df\"].gene_name==plot_gene) & \n",
    "                  (results[\"df\"].num_genes> 0)]\n",
    "\n",
    "\n",
    "q = subset.groupby(['model','num_genes'])['auc']\n",
    "\n",
    "#['CGN_2_layer_512_channel_emb_512_dropout', \"MLP_2_chan512\", \"SLR2=lambda10-l1-1\"]:\n",
    "#for model in ['CGN_2_layer_512_channel_emb_512_dropout', \"MLP_2_chan512\", \"SLR2=lambda10-l1-1\"]:\n",
    "for model in subset[\"model\"].unique():\n",
    "    index = list(q.mean()[model].index)\n",
    "    mean = q.mean()[model]\n",
    "    stderr = q.std()[model]/np.sqrt(q.count()[model])\n",
    "    plt.errorbar(index, mean,label=model, xerr=0, yerr=stderr)\n",
    "\n",
    "plt.title(\"Gene Inference \" + plot_gene + \" (train_size:\" + str(plot_train_size) +\")\")\n",
    "plt.ylabel(\"AUC\")\n",
    "plt.xlabel(\"Number of genes\")\n",
    "plt.xscale(\"log\")\n",
    "plt.xticks(sorted(results[\"df\"][\"num_genes\"].unique()))\n",
    "formatter = matplotlib.ticker.ScalarFormatter()\n",
    "plt.gca().xaxis.set_major_formatter(formatter)\n",
    "#plt.xlim(40,4500)\n",
    "plt.legend();"
   ]
  },
  {
   "cell_type": "code",
   "execution_count": null,
   "metadata": {
    "collapsed": true
   },
   "outputs": [],
   "source": []
  },
  {
   "cell_type": "code",
   "execution_count": null,
   "metadata": {
    "collapsed": true
   },
   "outputs": [],
   "source": []
  }
 ],
 "metadata": {
  "kernelspec": {
   "display_name": "Python 2",
   "language": "python",
   "name": "python2"
  },
  "language_info": {
   "codemirror_mode": {
    "name": "ipython",
    "version": 2
   },
   "file_extension": ".py",
   "mimetype": "text/x-python",
   "name": "python",
   "nbconvert_exporter": "python",
   "pygments_lexer": "ipython2",
   "version": "2.7.13"
  }
 },
 "nbformat": 4,
 "nbformat_minor": 2
}
